{
 "cells": [
  {
   "cell_type": "markdown",
   "id": "8a1e67c4",
   "metadata": {},
   "source": [
    "Perfect. Here's a full **implementation plan** to build an AI trading system that mirrors how professional traders operate — including **statistical validation and confidence estimation** of its performance.\n",
    "\n",
    "---\n",
    "\n",
    "## 🧠 Goal\n",
    "\n",
    "Build a **self-aware AI trading system** that can:\n",
    "\n",
    "1. Specialize and trade only in predictable environments.\n",
    "2. Adapt across market regimes.\n",
    "3. Monitor its own edge and deactivate when performance decays.\n",
    "4. Backtest and validate statistically that it adds value beyond random chance.\n",
    "\n",
    "---\n",
    "\n",
    "## 🔧 Implementation Blueprint\n",
    "\n",
    "### 📦 1. **Data Preparation**\n",
    "\n",
    "#### A. Split Market into Rolling Windows\n",
    "\n",
    "* Train: `T_train` (e.g., 2 months)\n",
    "* Test: `T_test` (next month)\n",
    "* Repeat walkforward stock-by-stock\n",
    "\n",
    "#### B. Feature Engineering (per stock)\n",
    "\n",
    "* Technical indicators (volatility, momentum)\n",
    "* Chaos indicators (entropy, Hurst, recurrence)\n",
    "* Regime labels (from market clustering or HMM)\n",
    "* Sentiment (optional)\n",
    "\n",
    "---\n",
    "\n",
    "### 🤖 2. **Agent Training per Episode**\n",
    "\n",
    "Train **PPO** and optionally **A2C** using:\n",
    "\n",
    "* Our `RecurrentPPO + TransformerPolicy`\n",
    "* `SequenceAwareNormAbsMoveEnv`\n",
    "* Early stopping if reward plateaus\n",
    "* Use `Monitor` wrapper to track episode stats\n",
    "\n",
    "---\n",
    "\n",
    "### 🏷️ 3. **Label Advantage for Predictability**\n",
    "\n",
    "Evaluate each stock-month:\n",
    "\n",
    "* Compute agent reward vs. random agent:\n",
    "\n",
    "  $$\n",
    "  \\text{Advantage} = \\mathbb{E}[R_{\\text{agent}} - R_{\\text{random}}]\n",
    "  $$\n",
    "* Run **t-test** and **Mann-Whitney U test**:\n",
    "\n",
    "  * `p_value < 0.05` ⇒ statistically significant edge\n",
    "  * Log these in the metadata\n",
    "\n",
    "---\n",
    "\n",
    "### ⚠️ 4. **Only Keep Statistically Significant Runs**\n",
    "\n",
    "* Filter episodes where agent significantly beats random.\n",
    "* Label those stock-months as **\"predictable.\"**\n",
    "* Store mean/variance/confidence intervals for advantage.\n",
    "\n",
    "---\n",
    "\n",
    "### 📈 5. **Meta-Model: Predictable Environment Classifier**\n",
    "\n",
    "* Train a contrastive classifier:\n",
    "\n",
    "  * Input: Meta-features (residuals, entropy, etc.)\n",
    "  * Target: A > B if `Advantage_A > Advantage_B`\n",
    "* Use:\n",
    "\n",
    "  * Logistic Regression or LightGBM\n",
    "  * CV-AUC as performance metric\n",
    "  * Optionally include `Agent Agreement Score` (PPO vs A2C)\n",
    "\n",
    "---\n",
    "\n",
    "### 🔁 6. **Walk-Forward Pipeline**\n",
    "\n",
    "For each window:\n",
    "\n",
    "1. **Train agents** and evaluate advantage\n",
    "2. **Update predictability model**\n",
    "3. **Predict where to deploy agent next window**\n",
    "4. **Deploy agent only in predicted-advantageous environments**\n",
    "\n",
    "---\n",
    "\n",
    "### 📊 7. **Statistical Confidence System**\n",
    "\n",
    "Every time a trade decision is made, store:\n",
    "\n",
    "* Current episode meta-features\n",
    "* Agent's predicted advantage\n",
    "* Historical advantage CI from similar episodes\n",
    "* Disagreement between PPO vs A2C\n",
    "\n",
    "This enables confidence scores like:\n",
    "\n",
    "```python\n",
    "if p_value < 0.01 and agent_agreement > 0.8:\n",
    "    trust_score = \"HIGH\"\n",
    "elif p_value < 0.05:\n",
    "    trust_score = \"MODERATE\"\n",
    "else:\n",
    "    trust_score = \"LOW\"\n",
    "```\n",
    "\n",
    "---\n",
    "\n",
    "### 🧾 8. **Evaluation Metrics per Walk**\n",
    "\n",
    "For each test window:\n",
    "\n",
    "* Sharpe ratio vs. random\n",
    "* Hit rate (profitable trades / total)\n",
    "* Advantage significance count\n",
    "* Meta-model AUC / accuracy\n",
    "* Breakdown by regime\n",
    "\n",
    "We store these in a dataframe for long-term system health monitoring.\n",
    "\n",
    "---\n",
    "\n",
    "### ✅ Optional Diagnostics\n",
    "\n",
    "* **Visualize attention weights** of Transformer to explain decisions.\n",
    "* **Track per-agent equity curve** and max drawdown.\n",
    "* Highlight statistically unreliable runs (p > 0.05) in red.\n",
    "\n",
    "---\n",
    "\n",
    "## 📁 Output Artifacts\n",
    "\n",
    "| File                       | Description                                  |\n",
    "| -------------------------- | -------------------------------------------- |\n",
    "| `advantage_labels.pkl`     | Agent vs Random reward stats per episode     |\n",
    "| `meta_features.csv`        | Per stock-month feature set                  |\n",
    "| `predictability_model.pkl` | Trained contrastive classifier               |\n",
    "| `walkforward_report.md`    | Summary of all periods with confidence stats |\n",
    "| `trust_scores.csv`         | Deployment period trust flags                |\n",
    "\n",
    "---\n",
    "\n",
    "## ✅ Final Benefits\n",
    "\n",
    "This system behaves like a **professional trader**:\n",
    "\n",
    "* Only trades when it knows it can win\n",
    "* Tracks when it’s losing edge\n",
    "* Has statistical proof to back up decisions\n",
    "* Can say “I don’t know” and step out\n",
    "* Improves itself over time\n",
    "\n",
    "---\n",
    "\n",
    "Would you like this pipeline turned into executable Python code? I can build it modular, resumable, and log everything per window/stock.\n"
   ]
  },
  {
   "cell_type": "code",
   "execution_count": 1,
   "id": "6ded4457",
   "metadata": {},
   "outputs": [],
   "source": [
    "import jupyter"
   ]
  },
  {
   "cell_type": "code",
   "execution_count": 2,
   "id": "bfebe7cf",
   "metadata": {},
   "outputs": [
    {
     "name": "stderr",
     "output_type": "stream",
     "text": [
      "C:\\Users\\Francisco Sá\\AppData\\Roaming\\Python\\Python311\\site-packages\\pandas\\core\\arrays\\masked.py:61: UserWarning: Pandas requires version '1.3.6' or newer of 'bottleneck' (version '1.3.5' currently installed).\n",
      "  from pandas.core import (\n"
     ]
    }
   ],
   "source": [
    "import numpy as np\n",
    "import pandas as pd\n",
    "import seaborn as sns\n",
    "import matplotlib.pyplot as plt\n",
    "\n",
    "from src.utils.system import boot\n",
    "from src.defaults import TOP2_STOCK_BY_SECTOR, RANDOM_SEEDS\n",
    "from src.data.feature_pipeline import load_base_dataframe\n",
    "\n",
    "DEVICE = boot()\n",
    "OHLCV_DF = load_base_dataframe()"
   ]
  },
  {
   "cell_type": "code",
   "execution_count": 3,
   "id": "bf99635f",
   "metadata": {},
   "outputs": [],
   "source": [
    "from hurst import compute_Hc\n",
    "from pyts.image import RecurrencePlot\n",
    "\n",
    "# PROJECT SETUP ==================================\n",
    "TICKERS = OHLCV_DF['symbol'].unique()#TOP2_STOCK_BY_SECTOR #[\"TSLA\"]\n",
    "CHAOS_THRESHOLD = 0.45\n",
    "WINDOW_SIZE = 120\n",
    "ENTROPY_BINS=10\n",
    "STEP_SIZE = 20\n",
    "MAX_LEN = 64\n",
    "LOOKBACK= 40\n",
    "ROLLING = 5\n",
    "SEEDS = RANDOM_SEEDS[:5]\n",
    "BASIC_FEATURES=[\"close\"\t, #Core price for reward and trend awareness\n",
    "\"volume\",#\tVolume for activity level\n",
    "\"candle_body\",#\tPrice strength (close-open)\n",
    "\"upper_shadow\",#\tWick size = volatility / exhaustion\n",
    "\"lower_shadow\",#\tSame as above\n",
    "\"order_flow\",#\tFlow = pressure indicator (buy/sell imbalance)\n",
    "\"price_change\",#\tPrice momentum short term\n",
    "\"volatility\",#\tRecent price dispersion\n",
    "\"momentum\",#\tRolling price trend\n",
    "\"vix_norm\",#\tImplied market risk normalized\n",
    "\"market_return_1d\",#\tMarket regime alignment\n",
    "\"day_of_week\" # heard it's important                \n",
    "]\n",
    "\n",
    "# That’s 11 columns, enough to:\n",
    "# * See price movement\n",
    "# * Detect regime shifts\n",
    "# * Respond to risk\n",
    "\n",
    "# Second Round:\n",
    "# * overnight_price_change → if overnight gaps matter to your strategy\n",
    "# * trade_count_change → intraday activity shifts\n",
    "# * sp500_norm → macro regime normalization\n",
    "\n",
    "\n"
   ]
  },
  {
   "cell_type": "code",
   "execution_count": 4,
   "id": "1d52f6f8",
   "metadata": {},
   "outputs": [],
   "source": [
    "# Step 1 - walkforward\n",
    "import pandas as pd\n",
    "import ace_tools_open as tools\n",
    "from typing import List, Tuple\n",
    "from dateutil.relativedelta import relativedelta\n",
    "import numpy as np\n",
    "from datetime import timedelta\n",
    "from sklearn.preprocessing import RobustScaler\n",
    "\n",
    "\n",
    "\n",
    "def generate_walkforward_windows(\n",
    "    df: pd.DataFrame,\n",
    "    symbol_col: str = \"symbol\",\n",
    "    date_col: str = \"date\",\n",
    "    start_date: str = \"2023-01-01\",\n",
    "    end_date: str = \"2025-05-01\",\n",
    "    train_months: int = 2,\n",
    "    test_months: int = 1,\n",
    "    min_days_per_window: int = 20,\n",
    "    max_feature_rolling_window:int=5,\n",
    "    lookback_buffer_days: int = 30\n",
    "\n",
    ") -> List[dict]:\n",
    "    \"\"\"\n",
    "    Splits a dataframe into walkforward windows (train and test) per symbol.\n",
    "\n",
    "    Parameters:\n",
    "        df: Full OHLCV dataframe with at least [date_col, symbol_col]\n",
    "        symbol_col: Name of the symbol column\n",
    "        date_col: Name of the date column\n",
    "        start_date: Start date of walkforward (string or datetime)\n",
    "        end_date: End date of walkforward (string or datetime)\n",
    "        train_months: Number of months in training window\n",
    "        test_months: Number of months in test window\n",
    "        min_days_per_window: Minimum number of rows to consider a window valid\n",
    "\n",
    "    Returns:\n",
    "        List of window dicts with keys:\n",
    "            - symbol\n",
    "            - train_start\n",
    "            - train_end\n",
    "            - test_start\n",
    "            - test_end\n",
    "            - train_df\n",
    "            - test_df\n",
    "    \"\"\"\n",
    "    df = df.copy()\n",
    "    df[date_col] = pd.to_datetime(df[date_col])\n",
    "    start_date = pd.to_datetime(start_date)\n",
    "    end_date = pd.to_datetime(end_date)\n",
    "\n",
    "    windows = []\n",
    "    symbols = df[symbol_col].unique()\n",
    "\n",
    "    for symbol in symbols:\n",
    "        symbol_df = df[df[symbol_col] == symbol].sort_values(date_col).reset_index()\n",
    "        current_start = start_date\n",
    "\n",
    "        while True:\n",
    "            # Train window with padded lookback\n",
    "            episode_start = current_start\n",
    "            buffer_size = lookback_buffer_days + max_feature_rolling_window\n",
    "            episode_idx = symbol_df[symbol_df[date_col] >= current_start].index[0]\n",
    "            #print(current_start,episode_idx)\n",
    "            train_start_idx = episode_idx - buffer_size\n",
    "\n",
    "            if train_start_idx < 0:\n",
    "                current_start = current_start + relativedelta(months=1)  # skip this episode\n",
    "                continue\n",
    "\n",
    "            train_start = symbol_df.iloc[train_start_idx][date_col]\n",
    "            train_end = episode_start + relativedelta(months=train_months)\n",
    "            \n",
    "            \n",
    "            test_start_idx = symbol_df[symbol_df[date_col] >= train_end].index[0] - buffer_size\n",
    "            \n",
    "            if test_start_idx < 0:\n",
    "                break\n",
    "\n",
    "            test_start = symbol_df.iloc[test_start_idx][date_col]\n",
    "            test_end = train_end + relativedelta(months=test_months)\n",
    "            \n",
    "            if test_end > end_date:\n",
    "                break\n",
    "\n",
    "            train_df = symbol_df[(symbol_df[date_col] >= train_start) & (symbol_df[date_col] < train_end)]\n",
    "            test_df = symbol_df[(symbol_df[date_col] >= test_start) & (symbol_df[date_col] < test_end)]\n",
    "            #print(len(train_df),len(test_df))\n",
    "            #print(len(test_df))\n",
    "            if len(train_df) >= min_days_per_window and len(test_df) >= min_days_per_window:\n",
    "                windows.append({\n",
    "                    \"symbol\": symbol,\n",
    "                    \"train_start\": train_start,\n",
    "                    \"train_end\": train_end,\n",
    "                    \"test_start\": test_start,\n",
    "                    \"test_end\": test_end,\n",
    "                    \"true_train_start\": episode_start,\n",
    "                    \"true_test_start\": train_end,\n",
    "                    \"train_df\": train_df,\n",
    "                    \"test_df\": test_df\n",
    "                })\n",
    "\n",
    "            current_start = test_end\n",
    "\n",
    "    def visualize():\n",
    "        display_df = pd.DataFrame([{\n",
    "            \"symbol\": w[\"symbol\"],\n",
    "            \"train_start\": w[\"train_start\"],\n",
    "            \"true_train_start\": w[\"true_train_start\"],\n",
    "            \"train_end\": w[\"train_end\"],\n",
    "            \"test_start\": w[\"test_start\"],\n",
    "            \"test_end\": w[\"test_end\"],\n",
    "             \"true_train_start\": episode_start,\n",
    "            \"true_test_start\": train_end,\n",
    "            \"train_days\": len(w[\"train_df\"]),\n",
    "            \"test_days\": len(w[\"test_df\"])\n",
    "        } for w in windows])\n",
    "       \n",
    "        tools.display_dataframe_to_user(name=\"Walkforward Windows (Buffered)\", dataframe=display_df)\n",
    "\n",
    "    return windows, visualize\n",
    "\n",
    "from scipy.stats import entropy, kurtosis\n",
    "from statsmodels.tsa.stattools import adfuller\n",
    "import numpy as np\n",
    "import pandas as pd\n",
    "\n",
    "# Utility functions\n",
    "def rolling_volatility(series: pd.Series, window: int = 10):\n",
    "    return series.rolling(window).std()\n",
    "\n",
    "def rolling_momentum(series: pd.Series, window: int = 10):\n",
    "    return series.diff(window)\n",
    "\n",
    "def calculate_hurst_exponent(ts: np.ndarray, max_lag: int = 20):\n",
    "    lags = range(2, max_lag)\n",
    "    tau = [np.std(np.subtract(ts[lag:], ts[:-lag])) for lag in lags]\n",
    "    poly = np.polyfit(np.log(lags), np.log(tau), 1)\n",
    "    return poly[0]\n",
    "\n",
    "def calculate_chaos_metrics(df: pd.DataFrame) -> dict:\n",
    "    price = df['close'].values\n",
    "    returns = df['close'].pct_change().dropna()\n",
    "\n",
    "    return {\n",
    "        \"std\": np.std(returns),\n",
    "        \"kurt\": kurtosis(returns),\n",
    "        \"entropy\": entropy(np.histogram(returns, bins=10)[0] + 1),\n",
    "        \"hurst\": calculate_hurst_exponent(price),\n",
    "        \"adf_pval\": adfuller(returns)[1] if len(returns) > 10 else np.nan,\n",
    "    }\n",
    "\n",
    "def extract_features_per_window(windows: List[dict], feature_cols=BASIC_FEATURES) -> pd.DataFrame:\n",
    "    feature_rows = []\n",
    "\n",
    "    for w in windows:\n",
    "        train_df = w['train_df'].copy()\n",
    "        test_df = w['test_df'].copy()\n",
    "        train_df['Close']= train_df['close']\n",
    "        test_df['Close']= test_df['close']\n",
    "        meta = {\n",
    "            \"symbol\": w['symbol'],\n",
    "            \"train_start\": w['train_start'],\n",
    "            \"train_end\": w['train_end'],\n",
    "            \"test_start\": w['test_start'],\n",
    "            \"test_end\": w['test_end'],\n",
    "        }\n",
    "\n",
    "        # === Chaos features from training window ===\n",
    "        chaos_features = calculate_chaos_metrics(train_df)\n",
    "        meta.update(chaos_features)\n",
    "\n",
    "        # === Rolling Features ===\n",
    "        window_size = 5 if len(train_df) >= ROLLING else max(2, len(train_df))\n",
    "\n",
    "        train_df['volatility'] = train_df['close'].rolling(window_size).std()\n",
    "        train_df['momentum'] = train_df['close'].diff(window_size)\n",
    "\n",
    "        test_df['volatility'] = test_df['close'].rolling(window_size).std()\n",
    "        test_df['momentum'] = test_df['close'].diff(window_size)\n",
    "\n",
    "        # Fallback if iloc[-1] is NaN\n",
    "        meta[\"volatility\"] = train_df['volatility'].dropna().iloc[-1] if train_df['volatility'].dropna().any() else 0.0\n",
    "        meta[\"momentum\"] = train_df['momentum'].dropna().iloc[-1] if train_df['momentum'].dropna().any() else 0.0\n",
    "\n",
    "        scaler = RobustScaler()\n",
    "     \n",
    "        train_df.dropna(inplace=True)\n",
    "        test_df.dropna(inplace=True)\n",
    "     \n",
    "        train_df[feature_cols] = scaler.fit_transform(train_df[feature_cols])\n",
    "        test_df[feature_cols] = scaler.transform(test_df[feature_cols])\n",
    "        #print(train_df.iloc[40]['date'])\n",
    "        # === Patch into original dicts ===\n",
    "        w['train_df'] = train_df.dropna()\n",
    "        w['test_df'] = test_df.dropna()\n",
    "        # === Patch into original dicts ===\n",
    "        #w['train_df'] = train_df.dropna(0)\n",
    "        #w['test_df'] = test_df.dropna(0)\n",
    "        \n",
    "        #scaler = RobustScaler()\n",
    "        feature_rows.append(meta)\n",
    "\n",
    "    feature_df = pd.DataFrame(feature_rows)\n",
    "\n",
    "    def visualize():\n",
    "        tools.display_dataframe_to_user(name=\"Meta-Features per Stock Episode\", dataframe=feature_df)\n",
    "\n",
    "    return feature_df, visualize\n",
    "\n"
   ]
  },
  {
   "cell_type": "code",
   "execution_count": 16,
   "id": "1f7d3244",
   "metadata": {},
   "outputs": [
    {
     "name": "stdout",
     "output_type": "stream",
     "text": [
      "Walkforward Windows (Buffered)\n"
     ]
    },
    {
     "data": {
      "text/html": [
       "<!--| quarto-html-table-processing: none -->\n",
       "<table id=\"itables_5c1e0952_cb66_455a_9aaf_727d16b9b5a0\"><tbody><tr>\n",
       "    <td style=\"vertical-align:middle; text-align:left\">\n",
       "    <a href=https://mwouts.github.io/itables/><svg class=\"main-svg\" xmlns=\"http://www.w3.org/2000/svg\" xmlns:xlink=\"http://www.w3.org/1999/xlink\"\n",
       "width=\"64\" viewBox=\"0 0 500 400\" style=\"font-family: 'Droid Sans', sans-serif;\">\n",
       "    <g style=\"fill:#d9d7fc\">\n",
       "        <path d=\"M100,400H500V357H100Z\" />\n",
       "        <path d=\"M100,300H400V257H100Z\" />\n",
       "        <path d=\"M0,200H400V157H0Z\" />\n",
       "        <path d=\"M100,100H500V57H100Z\" />\n",
       "        <path d=\"M100,350H500V307H100Z\" />\n",
       "        <path d=\"M100,250H400V207H100Z\" />\n",
       "        <path d=\"M0,150H400V107H0Z\" />\n",
       "        <path d=\"M100,50H500V7H100Z\" />\n",
       "    </g>\n",
       "    <g style=\"fill:#1a1366;stroke:#1a1366;\">\n",
       "   <rect x=\"100\" y=\"7\" width=\"400\" height=\"43\">\n",
       "    <animate\n",
       "      attributeName=\"width\"\n",
       "      values=\"0;400;0\"\n",
       "      dur=\"5s\"\n",
       "      repeatCount=\"indefinite\" />\n",
       "      <animate\n",
       "      attributeName=\"x\"\n",
       "      values=\"100;100;500\"\n",
       "      dur=\"5s\"\n",
       "      repeatCount=\"indefinite\" />\n",
       "  </rect>\n",
       "        <rect x=\"0\" y=\"107\" width=\"400\" height=\"43\">\n",
       "    <animate\n",
       "      attributeName=\"width\"\n",
       "      values=\"0;400;0\"\n",
       "      dur=\"3.5s\"\n",
       "      repeatCount=\"indefinite\" />\n",
       "    <animate\n",
       "      attributeName=\"x\"\n",
       "      values=\"0;0;400\"\n",
       "      dur=\"3.5s\"\n",
       "      repeatCount=\"indefinite\" />\n",
       "  </rect>\n",
       "        <rect x=\"100\" y=\"207\" width=\"300\" height=\"43\">\n",
       "    <animate\n",
       "      attributeName=\"width\"\n",
       "      values=\"0;300;0\"\n",
       "      dur=\"3s\"\n",
       "      repeatCount=\"indefinite\" />\n",
       "    <animate\n",
       "      attributeName=\"x\"\n",
       "      values=\"100;100;400\"\n",
       "      dur=\"3s\"\n",
       "      repeatCount=\"indefinite\" />\n",
       "  </rect>\n",
       "        <rect x=\"100\" y=\"307\" width=\"400\" height=\"43\">\n",
       "    <animate\n",
       "      attributeName=\"width\"\n",
       "      values=\"0;400;0\"\n",
       "      dur=\"4s\"\n",
       "      repeatCount=\"indefinite\" />\n",
       "      <animate\n",
       "      attributeName=\"x\"\n",
       "      values=\"100;100;500\"\n",
       "      dur=\"4s\"\n",
       "      repeatCount=\"indefinite\" />\n",
       "  </rect>\n",
       "        <g style=\"fill:transparent;stroke-width:8; stroke-linejoin:round\" rx=\"5\">\n",
       "            <g transform=\"translate(45 50) rotate(-45)\">\n",
       "                <circle r=\"33\" cx=\"0\" cy=\"0\" />\n",
       "                <rect x=\"-8\" y=\"32\" width=\"16\" height=\"30\" />\n",
       "            </g>\n",
       "\n",
       "            <g transform=\"translate(450 152)\">\n",
       "                <polyline points=\"-15,-20 -35,-20 -35,40 25,40 25,20\" />\n",
       "                <rect x=\"-15\" y=\"-40\" width=\"60\" height=\"60\" />\n",
       "            </g>\n",
       "\n",
       "            <g transform=\"translate(50 352)\">\n",
       "                <polygon points=\"-35,-5 0,-40 35,-5\" />\n",
       "                <polygon points=\"-35,10 0,45 35,10\" />\n",
       "            </g>\n",
       "\n",
       "            <g transform=\"translate(75 250)\">\n",
       "                <polyline points=\"-30,30 -60,0 -30,-30\" />\n",
       "                <polyline points=\"0,30 -30,0 0,-30\" />\n",
       "            </g>\n",
       "\n",
       "            <g transform=\"translate(425 250) rotate(180)\">\n",
       "                <polyline points=\"-30,30 -60,0 -30,-30\" />\n",
       "                <polyline points=\"0,30 -30,0 0,-30\" />\n",
       "            </g>\n",
       "        </g>\n",
       "    </g>\n",
       "</svg>\n",
       "</a>\n",
       "    Loading ITables v2.4.0 from the internet...\n",
       "    (need <a href=https://mwouts.github.io/itables/troubleshooting.html>help</a>?)</td>\n",
       "    </tr></tbody></table>\n",
       "<link href=\"https://www.unpkg.com/dt_for_itables@2.3.2/dt_bundle.css\" rel=\"stylesheet\">\n",
       "<script type=\"module\">\n",
       "    import { ITable, jQuery as $ } from 'https://www.unpkg.com/dt_for_itables@2.3.2/dt_bundle.js';\n",
       "\n",
       "    document.querySelectorAll(\"#itables_5c1e0952_cb66_455a_9aaf_727d16b9b5a0:not(.dataTable)\").forEach(table => {\n",
       "        if (!(table instanceof HTMLTableElement))\n",
       "            return;\n",
       "\n",
       "        let dt_args = {\"layout\": {\"topStart\": \"pageLength\", \"topEnd\": \"search\", \"bottomStart\": \"info\", \"bottomEnd\": \"paging\"}, \"order\": [], \"text_in_header_can_be_selected\": true, \"style\": {\"table-layout\": \"auto\", \"width\": \"auto\", \"margin\": \"auto\", \"caption-side\": \"bottom\"}, \"classes\": [\"display\", \"nowrap\"], \"table_html\": \"<table><thead>\\n    <tr style=\\\"text-align: right;\\\">\\n      \\n      <th>symbol</th>\\n      <th>train_start</th>\\n      <th>true_train_start</th>\\n      <th>train_end</th>\\n      <th>test_start</th>\\n      <th>test_end</th>\\n      <th>true_test_start</th>\\n      <th>train_days</th>\\n      <th>test_days</th>\\n    </tr>\\n  </thead></table>\", \"data_json\": \"[[\\\"GOOGL\\\", \\\"2022-10-27\\\", \\\"2025-04-01\\\", \\\"2023-03-01\\\", \\\"2022-12-22\\\", \\\"2023-04-01\\\", \\\"2025-06-01\\\", 79, 63], [\\\"GOOGL\\\", \\\"2023-01-27\\\", \\\"2025-04-01\\\", \\\"2023-06-01\\\", \\\"2023-03-28\\\", \\\"2023-07-01\\\", \\\"2025-06-01\\\", 81, 61], [\\\"GOOGL\\\", \\\"2023-04-27\\\", \\\"2025-04-01\\\", \\\"2023-09-01\\\", \\\"2023-06-29\\\", \\\"2023-10-01\\\", \\\"2025-06-01\\\", 83, 60], [\\\"GOOGL\\\", \\\"2023-07-28\\\", \\\"2025-04-01\\\", \\\"2023-12-01\\\", \\\"2023-09-28\\\", \\\"2024-01-01\\\", \\\"2025-06-01\\\", 83, 60], [\\\"GOOGL\\\", \\\"2023-10-26\\\", \\\"2025-04-01\\\", \\\"2024-03-01\\\", \\\"2023-12-26\\\", \\\"2024-04-01\\\", \\\"2025-06-01\\\", 81, 60], [\\\"GOOGL\\\", \\\"2024-01-25\\\", \\\"2025-04-01\\\", \\\"2024-06-01\\\", \\\"2024-03-28\\\", \\\"2024-07-01\\\", \\\"2025-06-01\\\", 84, 59], [\\\"GOOGL\\\", \\\"2024-04-25\\\", \\\"2025-04-01\\\", \\\"2024-09-01\\\", \\\"2024-06-28\\\", \\\"2024-10-01\\\", \\\"2025-06-01\\\", 84, 60], [\\\"GOOGL\\\", \\\"2024-07-29\\\", \\\"2025-04-01\\\", \\\"2024-12-01\\\", \\\"2024-09-27\\\", \\\"2025-01-01\\\", \\\"2025-06-01\\\", 83, 61], [\\\"GOOGL\\\", \\\"2024-10-28\\\", \\\"2025-04-01\\\", \\\"2025-03-01\\\", \\\"2024-12-23\\\", \\\"2025-04-01\\\", \\\"2025-06-01\\\", 79, 61], [\\\"AMZN\\\", \\\"2022-10-27\\\", \\\"2025-04-01\\\", \\\"2023-03-01\\\", \\\"2022-12-22\\\", \\\"2023-04-01\\\", \\\"2025-06-01\\\", 79, 63], [\\\"AMZN\\\", \\\"2023-01-27\\\", \\\"2025-04-01\\\", \\\"2023-06-01\\\", \\\"2023-03-28\\\", \\\"2023-07-01\\\", \\\"2025-06-01\\\", 81, 61], [\\\"AMZN\\\", \\\"2023-04-27\\\", \\\"2025-04-01\\\", \\\"2023-09-01\\\", \\\"2023-06-29\\\", \\\"2023-10-01\\\", \\\"2025-06-01\\\", 83, 60], [\\\"AMZN\\\", \\\"2023-07-28\\\", \\\"2025-04-01\\\", \\\"2023-12-01\\\", \\\"2023-09-28\\\", \\\"2024-01-01\\\", \\\"2025-06-01\\\", 83, 60], [\\\"AMZN\\\", \\\"2023-10-26\\\", \\\"2025-04-01\\\", \\\"2024-03-01\\\", \\\"2023-12-26\\\", \\\"2024-04-01\\\", \\\"2025-06-01\\\", 81, 60], [\\\"AMZN\\\", \\\"2024-01-25\\\", \\\"2025-04-01\\\", \\\"2024-06-01\\\", \\\"2024-03-28\\\", \\\"2024-07-01\\\", \\\"2025-06-01\\\", 84, 59], [\\\"AMZN\\\", \\\"2024-04-25\\\", \\\"2025-04-01\\\", \\\"2024-09-01\\\", \\\"2024-06-28\\\", \\\"2024-10-01\\\", \\\"2025-06-01\\\", 84, 60], [\\\"AMZN\\\", \\\"2024-07-29\\\", \\\"2025-04-01\\\", \\\"2024-12-01\\\", \\\"2024-09-27\\\", \\\"2025-01-01\\\", \\\"2025-06-01\\\", 83, 61], [\\\"AMZN\\\", \\\"2024-10-28\\\", \\\"2025-04-01\\\", \\\"2025-03-01\\\", \\\"2024-12-23\\\", \\\"2025-04-01\\\", \\\"2025-06-01\\\", 79, 61], [\\\"AMT\\\", \\\"2022-10-27\\\", \\\"2025-04-01\\\", \\\"2023-03-01\\\", \\\"2022-12-22\\\", \\\"2023-04-01\\\", \\\"2025-06-01\\\", 79, 63], [\\\"AMT\\\", \\\"2023-01-27\\\", \\\"2025-04-01\\\", \\\"2023-06-01\\\", \\\"2023-03-28\\\", \\\"2023-07-01\\\", \\\"2025-06-01\\\", 81, 61], [\\\"AMT\\\", \\\"2023-04-27\\\", \\\"2025-04-01\\\", \\\"2023-09-01\\\", \\\"2023-06-29\\\", \\\"2023-10-01\\\", \\\"2025-06-01\\\", 83, 60], [\\\"AMT\\\", \\\"2023-07-28\\\", \\\"2025-04-01\\\", \\\"2023-12-01\\\", \\\"2023-09-28\\\", \\\"2024-01-01\\\", \\\"2025-06-01\\\", 83, 60], [\\\"AMT\\\", \\\"2023-10-26\\\", \\\"2025-04-01\\\", \\\"2024-03-01\\\", \\\"2023-12-26\\\", \\\"2024-04-01\\\", \\\"2025-06-01\\\", 81, 60], [\\\"AMT\\\", \\\"2024-01-25\\\", \\\"2025-04-01\\\", \\\"2024-06-01\\\", \\\"2024-03-28\\\", \\\"2024-07-01\\\", \\\"2025-06-01\\\", 84, 59], [\\\"AMT\\\", \\\"2024-04-25\\\", \\\"2025-04-01\\\", \\\"2024-09-01\\\", \\\"2024-06-28\\\", \\\"2024-10-01\\\", \\\"2025-06-01\\\", 84, 60], [\\\"AMT\\\", \\\"2024-07-29\\\", \\\"2025-04-01\\\", \\\"2024-12-01\\\", \\\"2024-09-27\\\", \\\"2025-01-01\\\", \\\"2025-06-01\\\", 83, 61], [\\\"AMT\\\", \\\"2024-10-28\\\", \\\"2025-04-01\\\", \\\"2025-03-01\\\", \\\"2024-12-23\\\", \\\"2025-04-01\\\", \\\"2025-06-01\\\", 79, 61], [\\\"AAPL\\\", \\\"2022-10-27\\\", \\\"2025-04-01\\\", \\\"2023-03-01\\\", \\\"2022-12-22\\\", \\\"2023-04-01\\\", \\\"2025-06-01\\\", 79, 63], [\\\"AAPL\\\", \\\"2023-01-27\\\", \\\"2025-04-01\\\", \\\"2023-06-01\\\", \\\"2023-03-28\\\", \\\"2023-07-01\\\", \\\"2025-06-01\\\", 81, 61], [\\\"AAPL\\\", \\\"2023-04-27\\\", \\\"2025-04-01\\\", \\\"2023-09-01\\\", \\\"2023-06-29\\\", \\\"2023-10-01\\\", \\\"2025-06-01\\\", 83, 60], [\\\"AAPL\\\", \\\"2023-07-28\\\", \\\"2025-04-01\\\", \\\"2023-12-01\\\", \\\"2023-09-28\\\", \\\"2024-01-01\\\", \\\"2025-06-01\\\", 83, 60], [\\\"AAPL\\\", \\\"2023-10-26\\\", \\\"2025-04-01\\\", \\\"2024-03-01\\\", \\\"2023-12-26\\\", \\\"2024-04-01\\\", \\\"2025-06-01\\\", 81, 60], [\\\"AAPL\\\", \\\"2024-01-25\\\", \\\"2025-04-01\\\", \\\"2024-06-01\\\", \\\"2024-03-28\\\", \\\"2024-07-01\\\", \\\"2025-06-01\\\", 84, 59], [\\\"AAPL\\\", \\\"2024-04-25\\\", \\\"2025-04-01\\\", \\\"2024-09-01\\\", \\\"2024-06-28\\\", \\\"2024-10-01\\\", \\\"2025-06-01\\\", 84, 60], [\\\"AAPL\\\", \\\"2024-07-29\\\", \\\"2025-04-01\\\", \\\"2024-12-01\\\", \\\"2024-09-27\\\", \\\"2025-01-01\\\", \\\"2025-06-01\\\", 83, 61], [\\\"AAPL\\\", \\\"2024-10-28\\\", \\\"2025-04-01\\\", \\\"2025-03-01\\\", \\\"2024-12-23\\\", \\\"2025-04-01\\\", \\\"2025-06-01\\\", 79, 61], [\\\"CVX\\\", \\\"2022-10-27\\\", \\\"2025-04-01\\\", \\\"2023-03-01\\\", \\\"2022-12-22\\\", \\\"2023-04-01\\\", \\\"2025-06-01\\\", 79, 63], [\\\"CVX\\\", \\\"2023-01-27\\\", \\\"2025-04-01\\\", \\\"2023-06-01\\\", \\\"2023-03-28\\\", \\\"2023-07-01\\\", \\\"2025-06-01\\\", 81, 61], [\\\"CVX\\\", \\\"2023-04-27\\\", \\\"2025-04-01\\\", \\\"2023-09-01\\\", \\\"2023-06-29\\\", \\\"2023-10-01\\\", \\\"2025-06-01\\\", 83, 60], [\\\"CVX\\\", \\\"2023-07-28\\\", \\\"2025-04-01\\\", \\\"2023-12-01\\\", \\\"2023-09-28\\\", \\\"2024-01-01\\\", \\\"2025-06-01\\\", 83, 60], [\\\"CVX\\\", \\\"2023-10-26\\\", \\\"2025-04-01\\\", \\\"2024-03-01\\\", \\\"2023-12-26\\\", \\\"2024-04-01\\\", \\\"2025-06-01\\\", 81, 60], [\\\"CVX\\\", \\\"2024-01-25\\\", \\\"2025-04-01\\\", \\\"2024-06-01\\\", \\\"2024-03-28\\\", \\\"2024-07-01\\\", \\\"2025-06-01\\\", 84, 59], [\\\"CVX\\\", \\\"2024-04-25\\\", \\\"2025-04-01\\\", \\\"2024-09-01\\\", \\\"2024-06-28\\\", \\\"2024-10-01\\\", \\\"2025-06-01\\\", 84, 60], [\\\"CVX\\\", \\\"2024-07-29\\\", \\\"2025-04-01\\\", \\\"2024-12-01\\\", \\\"2024-09-27\\\", \\\"2025-01-01\\\", \\\"2025-06-01\\\", 83, 61], [\\\"CVX\\\", \\\"2024-10-28\\\", \\\"2025-04-01\\\", \\\"2025-03-01\\\", \\\"2024-12-23\\\", \\\"2025-04-01\\\", \\\"2025-06-01\\\", 79, 61], [\\\"COST\\\", \\\"2022-10-27\\\", \\\"2025-04-01\\\", \\\"2023-03-01\\\", \\\"2022-12-22\\\", \\\"2023-04-01\\\", \\\"2025-06-01\\\", 79, 63], [\\\"COST\\\", \\\"2023-01-27\\\", \\\"2025-04-01\\\", \\\"2023-06-01\\\", \\\"2023-03-28\\\", \\\"2023-07-01\\\", \\\"2025-06-01\\\", 81, 61], [\\\"COST\\\", \\\"2023-04-27\\\", \\\"2025-04-01\\\", \\\"2023-09-01\\\", \\\"2023-06-29\\\", \\\"2023-10-01\\\", \\\"2025-06-01\\\", 83, 60], [\\\"COST\\\", \\\"2023-07-28\\\", \\\"2025-04-01\\\", \\\"2023-12-01\\\", \\\"2023-09-28\\\", \\\"2024-01-01\\\", \\\"2025-06-01\\\", 83, 60], [\\\"COST\\\", \\\"2023-10-26\\\", \\\"2025-04-01\\\", \\\"2024-03-01\\\", \\\"2023-12-26\\\", \\\"2024-04-01\\\", \\\"2025-06-01\\\", 81, 60], [\\\"COST\\\", \\\"2024-01-25\\\", \\\"2025-04-01\\\", \\\"2024-06-01\\\", \\\"2024-03-28\\\", \\\"2024-07-01\\\", \\\"2025-06-01\\\", 84, 59], [\\\"COST\\\", \\\"2024-04-25\\\", \\\"2025-04-01\\\", \\\"2024-09-01\\\", \\\"2024-06-28\\\", \\\"2024-10-01\\\", \\\"2025-06-01\\\", 84, 60], [\\\"COST\\\", \\\"2024-07-29\\\", \\\"2025-04-01\\\", \\\"2024-12-01\\\", \\\"2024-09-27\\\", \\\"2025-01-01\\\", \\\"2025-06-01\\\", 83, 61], [\\\"COST\\\", \\\"2024-10-28\\\", \\\"2025-04-01\\\", \\\"2025-03-01\\\", \\\"2024-12-23\\\", \\\"2025-04-01\\\", \\\"2025-06-01\\\", 79, 61], [\\\"XOM\\\", \\\"2022-10-27\\\", \\\"2025-04-01\\\", \\\"2023-03-01\\\", \\\"2022-12-22\\\", \\\"2023-04-01\\\", \\\"2025-06-01\\\", 79, 63], [\\\"XOM\\\", \\\"2023-01-27\\\", \\\"2025-04-01\\\", \\\"2023-06-01\\\", \\\"2023-03-28\\\", \\\"2023-07-01\\\", \\\"2025-06-01\\\", 81, 61], [\\\"XOM\\\", \\\"2023-04-27\\\", \\\"2025-04-01\\\", \\\"2023-09-01\\\", \\\"2023-06-29\\\", \\\"2023-10-01\\\", \\\"2025-06-01\\\", 83, 60], [\\\"XOM\\\", \\\"2023-07-28\\\", \\\"2025-04-01\\\", \\\"2023-12-01\\\", \\\"2023-09-28\\\", \\\"2024-01-01\\\", \\\"2025-06-01\\\", 83, 60], [\\\"XOM\\\", \\\"2023-10-26\\\", \\\"2025-04-01\\\", \\\"2024-03-01\\\", \\\"2023-12-26\\\", \\\"2024-04-01\\\", \\\"2025-06-01\\\", 81, 60], [\\\"XOM\\\", \\\"2024-01-25\\\", \\\"2025-04-01\\\", \\\"2024-06-01\\\", \\\"2024-03-28\\\", \\\"2024-07-01\\\", \\\"2025-06-01\\\", 84, 59], [\\\"XOM\\\", \\\"2024-04-25\\\", \\\"2025-04-01\\\", \\\"2024-09-01\\\", \\\"2024-06-28\\\", \\\"2024-10-01\\\", \\\"2025-06-01\\\", 84, 60], [\\\"XOM\\\", \\\"2024-07-29\\\", \\\"2025-04-01\\\", \\\"2024-12-01\\\", \\\"2024-09-27\\\", \\\"2025-01-01\\\", \\\"2025-06-01\\\", 83, 61], [\\\"XOM\\\", \\\"2024-10-28\\\", \\\"2025-04-01\\\", \\\"2025-03-01\\\", \\\"2024-12-23\\\", \\\"2025-04-01\\\", \\\"2025-06-01\\\", 79, 61], [\\\"GE\\\", \\\"2022-10-27\\\", \\\"2025-04-01\\\", \\\"2023-03-01\\\", \\\"2022-12-22\\\", \\\"2023-04-01\\\", \\\"2025-06-01\\\", 79, 63], [\\\"GE\\\", \\\"2023-01-27\\\", \\\"2025-04-01\\\", \\\"2023-06-01\\\", \\\"2023-03-28\\\", \\\"2023-07-01\\\", \\\"2025-06-01\\\", 81, 61], [\\\"GE\\\", \\\"2023-04-27\\\", \\\"2025-04-01\\\", \\\"2023-09-01\\\", \\\"2023-06-29\\\", \\\"2023-10-01\\\", \\\"2025-06-01\\\", 83, 60], [\\\"GE\\\", \\\"2023-07-28\\\", \\\"2025-04-01\\\", \\\"2023-12-01\\\", \\\"2023-09-28\\\", \\\"2024-01-01\\\", \\\"2025-06-01\\\", 83, 60], [\\\"GE\\\", \\\"2023-10-26\\\", \\\"2025-04-01\\\", \\\"2024-03-01\\\", \\\"2023-12-26\\\", \\\"2024-04-01\\\", \\\"2025-06-01\\\", 81, 60], [\\\"GE\\\", \\\"2024-01-25\\\", \\\"2025-04-01\\\", \\\"2024-06-01\\\", \\\"2024-03-28\\\", \\\"2024-07-01\\\", \\\"2025-06-01\\\", 84, 59], [\\\"GE\\\", \\\"2024-04-25\\\", \\\"2025-04-01\\\", \\\"2024-09-01\\\", \\\"2024-06-28\\\", \\\"2024-10-01\\\", \\\"2025-06-01\\\", 84, 60], [\\\"GE\\\", \\\"2024-07-29\\\", \\\"2025-04-01\\\", \\\"2024-12-01\\\", \\\"2024-09-27\\\", \\\"2025-01-01\\\", \\\"2025-06-01\\\", 83, 61], [\\\"GE\\\", \\\"2024-10-28\\\", \\\"2025-04-01\\\", \\\"2025-03-01\\\", \\\"2024-12-23\\\", \\\"2025-04-01\\\", \\\"2025-06-01\\\", 79, 61], [\\\"JPM\\\", \\\"2022-10-27\\\", \\\"2025-04-01\\\", \\\"2023-03-01\\\", \\\"2022-12-22\\\", \\\"2023-04-01\\\", \\\"2025-06-01\\\", 79, 63], [\\\"JPM\\\", \\\"2023-01-27\\\", \\\"2025-04-01\\\", \\\"2023-06-01\\\", \\\"2023-03-28\\\", \\\"2023-07-01\\\", \\\"2025-06-01\\\", 81, 61], [\\\"JPM\\\", \\\"2023-04-27\\\", \\\"2025-04-01\\\", \\\"2023-09-01\\\", \\\"2023-06-29\\\", \\\"2023-10-01\\\", \\\"2025-06-01\\\", 83, 60], [\\\"JPM\\\", \\\"2023-07-28\\\", \\\"2025-04-01\\\", \\\"2023-12-01\\\", \\\"2023-09-28\\\", \\\"2024-01-01\\\", \\\"2025-06-01\\\", 83, 60], [\\\"JPM\\\", \\\"2023-10-26\\\", \\\"2025-04-01\\\", \\\"2024-03-01\\\", \\\"2023-12-26\\\", \\\"2024-04-01\\\", \\\"2025-06-01\\\", 81, 60], [\\\"JPM\\\", \\\"2024-01-25\\\", \\\"2025-04-01\\\", \\\"2024-06-01\\\", \\\"2024-03-28\\\", \\\"2024-07-01\\\", \\\"2025-06-01\\\", 84, 59], [\\\"JPM\\\", \\\"2024-04-25\\\", \\\"2025-04-01\\\", \\\"2024-09-01\\\", \\\"2024-06-28\\\", \\\"2024-10-01\\\", \\\"2025-06-01\\\", 84, 60], [\\\"JPM\\\", \\\"2024-07-29\\\", \\\"2025-04-01\\\", \\\"2024-12-01\\\", \\\"2024-09-27\\\", \\\"2025-01-01\\\", \\\"2025-06-01\\\", 83, 61], [\\\"JPM\\\", \\\"2024-10-28\\\", \\\"2025-04-01\\\", \\\"2025-03-01\\\", \\\"2024-12-23\\\", \\\"2025-04-01\\\", \\\"2025-06-01\\\", 79, 61], [\\\"LLY\\\", \\\"2022-10-27\\\", \\\"2025-04-01\\\", \\\"2023-03-01\\\", \\\"2022-12-22\\\", \\\"2023-04-01\\\", \\\"2025-06-01\\\", 79, 63], [\\\"LLY\\\", \\\"2023-01-27\\\", \\\"2025-04-01\\\", \\\"2023-06-01\\\", \\\"2023-03-28\\\", \\\"2023-07-01\\\", \\\"2025-06-01\\\", 81, 61], [\\\"LLY\\\", \\\"2023-04-27\\\", \\\"2025-04-01\\\", \\\"2023-09-01\\\", \\\"2023-06-29\\\", \\\"2023-10-01\\\", \\\"2025-06-01\\\", 83, 60], [\\\"LLY\\\", \\\"2023-07-28\\\", \\\"2025-04-01\\\", \\\"2023-12-01\\\", \\\"2023-09-28\\\", \\\"2024-01-01\\\", \\\"2025-06-01\\\", 83, 60], [\\\"LLY\\\", \\\"2023-10-26\\\", \\\"2025-04-01\\\", \\\"2024-03-01\\\", \\\"2023-12-26\\\", \\\"2024-04-01\\\", \\\"2025-06-01\\\", 81, 60], [\\\"LLY\\\", \\\"2024-01-25\\\", \\\"2025-04-01\\\", \\\"2024-06-01\\\", \\\"2024-03-28\\\", \\\"2024-07-01\\\", \\\"2025-06-01\\\", 84, 59], [\\\"LLY\\\", \\\"2024-04-25\\\", \\\"2025-04-01\\\", \\\"2024-09-01\\\", \\\"2024-06-28\\\", \\\"2024-10-01\\\", \\\"2025-06-01\\\", 84, 60], [\\\"LLY\\\", \\\"2024-07-29\\\", \\\"2025-04-01\\\", \\\"2024-12-01\\\", \\\"2024-09-27\\\", \\\"2025-01-01\\\", \\\"2025-06-01\\\", 83, 61], [\\\"LLY\\\", \\\"2024-10-28\\\", \\\"2025-04-01\\\", \\\"2025-03-01\\\", \\\"2024-12-23\\\", \\\"2025-04-01\\\", \\\"2025-06-01\\\", 79, 61], [\\\"LIN\\\", \\\"2022-10-27\\\", \\\"2025-04-01\\\", \\\"2023-03-01\\\", \\\"2022-12-22\\\", \\\"2023-04-01\\\", \\\"2025-06-01\\\", 79, 63], [\\\"LIN\\\", \\\"2023-01-27\\\", \\\"2025-04-01\\\", \\\"2023-06-01\\\", \\\"2023-03-28\\\", \\\"2023-07-01\\\", \\\"2025-06-01\\\", 81, 61], [\\\"LIN\\\", \\\"2023-04-27\\\", \\\"2025-04-01\\\", \\\"2023-09-01\\\", \\\"2023-06-29\\\", \\\"2023-10-01\\\", \\\"2025-06-01\\\", 83, 60], [\\\"LIN\\\", \\\"2023-07-28\\\", \\\"2025-04-01\\\", \\\"2023-12-01\\\", \\\"2023-09-28\\\", \\\"2024-01-01\\\", \\\"2025-06-01\\\", 83, 60], [\\\"LIN\\\", \\\"2023-10-26\\\", \\\"2025-04-01\\\", \\\"2024-03-01\\\", \\\"2023-12-26\\\", \\\"2024-04-01\\\", \\\"2025-06-01\\\", 81, 60], [\\\"LIN\\\", \\\"2024-01-25\\\", \\\"2025-04-01\\\", \\\"2024-06-01\\\", \\\"2024-03-28\\\", \\\"2024-07-01\\\", \\\"2025-06-01\\\", 84, 59], [\\\"LIN\\\", \\\"2024-04-25\\\", \\\"2025-04-01\\\", \\\"2024-09-01\\\", \\\"2024-06-28\\\", \\\"2024-10-01\\\", \\\"2025-06-01\\\", 84, 60], [\\\"LIN\\\", \\\"2024-07-29\\\", \\\"2025-04-01\\\", \\\"2024-12-01\\\", \\\"2024-09-27\\\", \\\"2025-01-01\\\", \\\"2025-06-01\\\", 83, 61], [\\\"LIN\\\", \\\"2024-10-28\\\", \\\"2025-04-01\\\", \\\"2025-03-01\\\", \\\"2024-12-23\\\", \\\"2025-04-01\\\", \\\"2025-06-01\\\", 79, 61], [\\\"META\\\", \\\"2022-10-27\\\", \\\"2025-04-01\\\", \\\"2023-03-01\\\", \\\"2022-12-22\\\", \\\"2023-04-01\\\", \\\"2025-06-01\\\", 79, 63], [\\\"META\\\", \\\"2023-01-27\\\", \\\"2025-04-01\\\", \\\"2023-06-01\\\", \\\"2023-03-28\\\", \\\"2023-07-01\\\", \\\"2025-06-01\\\", 81, 61], [\\\"META\\\", \\\"2023-04-27\\\", \\\"2025-04-01\\\", \\\"2023-09-01\\\", \\\"2023-06-29\\\", \\\"2023-10-01\\\", \\\"2025-06-01\\\", 83, 60], [\\\"META\\\", \\\"2023-07-28\\\", \\\"2025-04-01\\\", \\\"2023-12-01\\\", \\\"2023-09-28\\\", \\\"2024-01-01\\\", \\\"2025-06-01\\\", 83, 60], [\\\"META\\\", \\\"2023-10-26\\\", \\\"2025-04-01\\\", \\\"2024-03-01\\\", \\\"2023-12-26\\\", \\\"2024-04-01\\\", \\\"2025-06-01\\\", 81, 60], [\\\"META\\\", \\\"2024-01-25\\\", \\\"2025-04-01\\\", \\\"2024-06-01\\\", \\\"2024-03-28\\\", \\\"2024-07-01\\\", \\\"2025-06-01\\\", 84, 59], [\\\"META\\\", \\\"2024-04-25\\\", \\\"2025-04-01\\\", \\\"2024-09-01\\\", \\\"2024-06-28\\\", \\\"2024-10-01\\\", \\\"2025-06-01\\\", 84, 60], [\\\"META\\\", \\\"2024-07-29\\\", \\\"2025-04-01\\\", \\\"2024-12-01\\\", \\\"2024-09-27\\\", \\\"2025-01-01\\\", \\\"2025-06-01\\\", 83, 61], [\\\"META\\\", \\\"2024-10-28\\\", \\\"2025-04-01\\\", \\\"2025-03-01\\\", \\\"2024-12-23\\\", \\\"2025-04-01\\\", \\\"2025-06-01\\\", 79, 61], [\\\"MSFT\\\", \\\"2022-10-27\\\", \\\"2025-04-01\\\", \\\"2023-03-01\\\", \\\"2022-12-22\\\", \\\"2023-04-01\\\", \\\"2025-06-01\\\", 79, 63], [\\\"MSFT\\\", \\\"2023-01-27\\\", \\\"2025-04-01\\\", \\\"2023-06-01\\\", \\\"2023-03-28\\\", \\\"2023-07-01\\\", \\\"2025-06-01\\\", 81, 61], [\\\"MSFT\\\", \\\"2023-04-27\\\", \\\"2025-04-01\\\", \\\"2023-09-01\\\", \\\"2023-06-29\\\", \\\"2023-10-01\\\", \\\"2025-06-01\\\", 83, 60], [\\\"MSFT\\\", \\\"2023-07-28\\\", \\\"2025-04-01\\\", \\\"2023-12-01\\\", \\\"2023-09-28\\\", \\\"2024-01-01\\\", \\\"2025-06-01\\\", 83, 60], [\\\"MSFT\\\", \\\"2023-10-26\\\", \\\"2025-04-01\\\", \\\"2024-03-01\\\", \\\"2023-12-26\\\", \\\"2024-04-01\\\", \\\"2025-06-01\\\", 81, 60], [\\\"MSFT\\\", \\\"2024-01-25\\\", \\\"2025-04-01\\\", \\\"2024-06-01\\\", \\\"2024-03-28\\\", \\\"2024-07-01\\\", \\\"2025-06-01\\\", 84, 59], [\\\"MSFT\\\", \\\"2024-04-25\\\", \\\"2025-04-01\\\", \\\"2024-09-01\\\", \\\"2024-06-28\\\", \\\"2024-10-01\\\", \\\"2025-06-01\\\", 84, 60], [\\\"MSFT\\\", \\\"2024-07-29\\\", \\\"2025-04-01\\\", \\\"2024-12-01\\\", \\\"2024-09-27\\\", \\\"2025-01-01\\\", \\\"2025-06-01\\\", 83, 61], [\\\"MSFT\\\", \\\"2024-10-28\\\", \\\"2025-04-01\\\", \\\"2025-03-01\\\", \\\"2024-12-23\\\", \\\"2025-04-01\\\", \\\"2025-06-01\\\", 79, 61], [\\\"NEE\\\", \\\"2022-10-27\\\", \\\"2025-04-01\\\", \\\"2023-03-01\\\", \\\"2022-12-22\\\", \\\"2023-04-01\\\", \\\"2025-06-01\\\", 79, 63], [\\\"NEE\\\", \\\"2023-01-27\\\", \\\"2025-04-01\\\", \\\"2023-06-01\\\", \\\"2023-03-28\\\", \\\"2023-07-01\\\", \\\"2025-06-01\\\", 81, 61], [\\\"NEE\\\", \\\"2023-04-27\\\", \\\"2025-04-01\\\", \\\"2023-09-01\\\", \\\"2023-06-29\\\", \\\"2023-10-01\\\", \\\"2025-06-01\\\", 83, 60], [\\\"NEE\\\", \\\"2023-07-28\\\", \\\"2025-04-01\\\", \\\"2023-12-01\\\", \\\"2023-09-28\\\", \\\"2024-01-01\\\", \\\"2025-06-01\\\", 83, 60], [\\\"NEE\\\", \\\"2023-10-26\\\", \\\"2025-04-01\\\", \\\"2024-03-01\\\", \\\"2023-12-26\\\", \\\"2024-04-01\\\", \\\"2025-06-01\\\", 81, 60], [\\\"NEE\\\", \\\"2024-01-25\\\", \\\"2025-04-01\\\", \\\"2024-06-01\\\", \\\"2024-03-28\\\", \\\"2024-07-01\\\", \\\"2025-06-01\\\", 84, 59], [\\\"NEE\\\", \\\"2024-04-25\\\", \\\"2025-04-01\\\", \\\"2024-09-01\\\", \\\"2024-06-28\\\", \\\"2024-10-01\\\", \\\"2025-06-01\\\", 84, 60], [\\\"NEE\\\", \\\"2024-07-29\\\", \\\"2025-04-01\\\", \\\"2024-12-01\\\", \\\"2024-09-27\\\", \\\"2025-01-01\\\", \\\"2025-06-01\\\", 83, 61], [\\\"NEE\\\", \\\"2024-10-28\\\", \\\"2025-04-01\\\", \\\"2025-03-01\\\", \\\"2024-12-23\\\", \\\"2025-04-01\\\", \\\"2025-06-01\\\", 79, 61], [\\\"PLD\\\", \\\"2022-10-27\\\", \\\"2025-04-01\\\", \\\"2023-03-01\\\", \\\"2022-12-22\\\", \\\"2023-04-01\\\", \\\"2025-06-01\\\", 79, 63], [\\\"PLD\\\", \\\"2023-01-27\\\", \\\"2025-04-01\\\", \\\"2023-06-01\\\", \\\"2023-03-28\\\", \\\"2023-07-01\\\", \\\"2025-06-01\\\", 81, 61], [\\\"PLD\\\", \\\"2023-04-27\\\", \\\"2025-04-01\\\", \\\"2023-09-01\\\", \\\"2023-06-29\\\", \\\"2023-10-01\\\", \\\"2025-06-01\\\", 83, 60], [\\\"PLD\\\", \\\"2023-07-28\\\", \\\"2025-04-01\\\", \\\"2023-12-01\\\", \\\"2023-09-28\\\", \\\"2024-01-01\\\", \\\"2025-06-01\\\", 83, 60], [\\\"PLD\\\", \\\"2023-10-26\\\", \\\"2025-04-01\\\", \\\"2024-03-01\\\", \\\"2023-12-26\\\", \\\"2024-04-01\\\", \\\"2025-06-01\\\", 81, 60], [\\\"PLD\\\", \\\"2024-01-25\\\", \\\"2025-04-01\\\", \\\"2024-06-01\\\", \\\"2024-03-28\\\", \\\"2024-07-01\\\", \\\"2025-06-01\\\", 84, 59], [\\\"PLD\\\", \\\"2024-04-25\\\", \\\"2025-04-01\\\", \\\"2024-09-01\\\", \\\"2024-06-28\\\", \\\"2024-10-01\\\", \\\"2025-06-01\\\", 84, 60], [\\\"PLD\\\", \\\"2024-07-29\\\", \\\"2025-04-01\\\", \\\"2024-12-01\\\", \\\"2024-09-27\\\", \\\"2025-01-01\\\", \\\"2025-06-01\\\", 83, 61], [\\\"PLD\\\", \\\"2024-10-28\\\", \\\"2025-04-01\\\", \\\"2025-03-01\\\", \\\"2024-12-23\\\", \\\"2025-04-01\\\", \\\"2025-06-01\\\", 79, 61], [\\\"SHW\\\", \\\"2022-10-27\\\", \\\"2025-04-01\\\", \\\"2023-03-01\\\", \\\"2022-12-22\\\", \\\"2023-04-01\\\", \\\"2025-06-01\\\", 79, 63], [\\\"SHW\\\", \\\"2023-01-27\\\", \\\"2025-04-01\\\", \\\"2023-06-01\\\", \\\"2023-03-28\\\", \\\"2023-07-01\\\", \\\"2025-06-01\\\", 81, 61], [\\\"SHW\\\", \\\"2023-04-27\\\", \\\"2025-04-01\\\", \\\"2023-09-01\\\", \\\"2023-06-29\\\", \\\"2023-10-01\\\", \\\"2025-06-01\\\", 83, 60], [\\\"SHW\\\", \\\"2023-07-28\\\", \\\"2025-04-01\\\", \\\"2023-12-01\\\", \\\"2023-09-28\\\", \\\"2024-01-01\\\", \\\"2025-06-01\\\", 83, 60], [\\\"SHW\\\", \\\"2023-10-26\\\", \\\"2025-04-01\\\", \\\"2024-03-01\\\", \\\"2023-12-26\\\", \\\"2024-04-01\\\", \\\"2025-06-01\\\", 81, 60], [\\\"SHW\\\", \\\"2024-01-25\\\", \\\"2025-04-01\\\", \\\"2024-06-01\\\", \\\"2024-03-28\\\", \\\"2024-07-01\\\", \\\"2025-06-01\\\", 84, 59], [\\\"SHW\\\", \\\"2024-04-25\\\", \\\"2025-04-01\\\", \\\"2024-09-01\\\", \\\"2024-06-28\\\", \\\"2024-10-01\\\", \\\"2025-06-01\\\", 84, 60], [\\\"SHW\\\", \\\"2024-07-29\\\", \\\"2025-04-01\\\", \\\"2024-12-01\\\", \\\"2024-09-27\\\", \\\"2025-01-01\\\", \\\"2025-06-01\\\", 83, 61], [\\\"SHW\\\", \\\"2024-10-28\\\", \\\"2025-04-01\\\", \\\"2025-03-01\\\", \\\"2024-12-23\\\", \\\"2025-04-01\\\", \\\"2025-06-01\\\", 79, 61], [\\\"SO\\\", \\\"2022-10-27\\\", \\\"2025-04-01\\\", \\\"2023-03-01\\\", \\\"2022-12-22\\\", \\\"2023-04-01\\\", \\\"2025-06-01\\\", 79, 63], [\\\"SO\\\", \\\"2023-01-27\\\", \\\"2025-04-01\\\", \\\"2023-06-01\\\", \\\"2023-03-28\\\", \\\"2023-07-01\\\", \\\"2025-06-01\\\", 81, 61], [\\\"SO\\\", \\\"2023-04-27\\\", \\\"2025-04-01\\\", \\\"2023-09-01\\\", \\\"2023-06-29\\\", \\\"2023-10-01\\\", \\\"2025-06-01\\\", 83, 60], [\\\"SO\\\", \\\"2023-07-28\\\", \\\"2025-04-01\\\", \\\"2023-12-01\\\", \\\"2023-09-28\\\", \\\"2024-01-01\\\", \\\"2025-06-01\\\", 83, 60], [\\\"SO\\\", \\\"2023-10-26\\\", \\\"2025-04-01\\\", \\\"2024-03-01\\\", \\\"2023-12-26\\\", \\\"2024-04-01\\\", \\\"2025-06-01\\\", 81, 60], [\\\"SO\\\", \\\"2024-01-25\\\", \\\"2025-04-01\\\", \\\"2024-06-01\\\", \\\"2024-03-28\\\", \\\"2024-07-01\\\", \\\"2025-06-01\\\", 84, 59], [\\\"SO\\\", \\\"2024-04-25\\\", \\\"2025-04-01\\\", \\\"2024-09-01\\\", \\\"2024-06-28\\\", \\\"2024-10-01\\\", \\\"2025-06-01\\\", 84, 60], [\\\"SO\\\", \\\"2024-07-29\\\", \\\"2025-04-01\\\", \\\"2024-12-01\\\", \\\"2024-09-27\\\", \\\"2025-01-01\\\", \\\"2025-06-01\\\", 83, 61], [\\\"SO\\\", \\\"2024-10-28\\\", \\\"2025-04-01\\\", \\\"2025-03-01\\\", \\\"2024-12-23\\\", \\\"2025-04-01\\\", \\\"2025-06-01\\\", 79, 61], [\\\"TSLA\\\", \\\"2022-10-27\\\", \\\"2025-04-01\\\", \\\"2023-03-01\\\", \\\"2022-12-22\\\", \\\"2023-04-01\\\", \\\"2025-06-01\\\", 79, 63], [\\\"TSLA\\\", \\\"2023-01-27\\\", \\\"2025-04-01\\\", \\\"2023-06-01\\\", \\\"2023-03-28\\\", \\\"2023-07-01\\\", \\\"2025-06-01\\\", 81, 61], [\\\"TSLA\\\", \\\"2023-04-27\\\", \\\"2025-04-01\\\", \\\"2023-09-01\\\", \\\"2023-06-29\\\", \\\"2023-10-01\\\", \\\"2025-06-01\\\", 83, 60], [\\\"TSLA\\\", \\\"2023-07-28\\\", \\\"2025-04-01\\\", \\\"2023-12-01\\\", \\\"2023-09-28\\\", \\\"2024-01-01\\\", \\\"2025-06-01\\\", 83, 60], [\\\"TSLA\\\", \\\"2023-10-26\\\", \\\"2025-04-01\\\", \\\"2024-03-01\\\", \\\"2023-12-26\\\", \\\"2024-04-01\\\", \\\"2025-06-01\\\", 81, 60], [\\\"TSLA\\\", \\\"2024-01-25\\\", \\\"2025-04-01\\\", \\\"2024-06-01\\\", \\\"2024-03-28\\\", \\\"2024-07-01\\\", \\\"2025-06-01\\\", 84, 59], [\\\"TSLA\\\", \\\"2024-04-25\\\", \\\"2025-04-01\\\", \\\"2024-09-01\\\", \\\"2024-06-28\\\", \\\"2024-10-01\\\", \\\"2025-06-01\\\", 84, 60], [\\\"TSLA\\\", \\\"2024-07-29\\\", \\\"2025-04-01\\\", \\\"2024-12-01\\\", \\\"2024-09-27\\\", \\\"2025-01-01\\\", \\\"2025-06-01\\\", 83, 61], [\\\"TSLA\\\", \\\"2024-10-28\\\", \\\"2025-04-01\\\", \\\"2025-03-01\\\", \\\"2024-12-23\\\", \\\"2025-04-01\\\", \\\"2025-06-01\\\", 79, 61], [\\\"UBER\\\", \\\"2022-10-27\\\", \\\"2025-04-01\\\", \\\"2023-03-01\\\", \\\"2022-12-22\\\", \\\"2023-04-01\\\", \\\"2025-06-01\\\", 79, 63], [\\\"UBER\\\", \\\"2023-01-27\\\", \\\"2025-04-01\\\", \\\"2023-06-01\\\", \\\"2023-03-28\\\", \\\"2023-07-01\\\", \\\"2025-06-01\\\", 81, 61], [\\\"UBER\\\", \\\"2023-04-27\\\", \\\"2025-04-01\\\", \\\"2023-09-01\\\", \\\"2023-06-29\\\", \\\"2023-10-01\\\", \\\"2025-06-01\\\", 83, 60], [\\\"UBER\\\", \\\"2023-07-28\\\", \\\"2025-04-01\\\", \\\"2023-12-01\\\", \\\"2023-09-28\\\", \\\"2024-01-01\\\", \\\"2025-06-01\\\", 83, 60], [\\\"UBER\\\", \\\"2023-10-26\\\", \\\"2025-04-01\\\", \\\"2024-03-01\\\", \\\"2023-12-26\\\", \\\"2024-04-01\\\", \\\"2025-06-01\\\", 81, 60], [\\\"UBER\\\", \\\"2024-01-25\\\", \\\"2025-04-01\\\", \\\"2024-06-01\\\", \\\"2024-03-28\\\", \\\"2024-07-01\\\", \\\"2025-06-01\\\", 84, 59], [\\\"UBER\\\", \\\"2024-04-25\\\", \\\"2025-04-01\\\", \\\"2024-09-01\\\", \\\"2024-06-28\\\", \\\"2024-10-01\\\", \\\"2025-06-01\\\", 84, 60], [\\\"UBER\\\", \\\"2024-07-29\\\", \\\"2025-04-01\\\", \\\"2024-12-01\\\", \\\"2024-09-27\\\", \\\"2025-01-01\\\", \\\"2025-06-01\\\", 83, 61], [\\\"UBER\\\", \\\"2024-10-28\\\", \\\"2025-04-01\\\", \\\"2025-03-01\\\", \\\"2024-12-23\\\", \\\"2025-04-01\\\", \\\"2025-06-01\\\", 79, 61], [\\\"UNH\\\", \\\"2022-10-27\\\", \\\"2025-04-01\\\", \\\"2023-03-01\\\", \\\"2022-12-22\\\", \\\"2023-04-01\\\", \\\"2025-06-01\\\", 79, 63], [\\\"UNH\\\", \\\"2023-01-27\\\", \\\"2025-04-01\\\", \\\"2023-06-01\\\", \\\"2023-03-28\\\", \\\"2023-07-01\\\", \\\"2025-06-01\\\", 81, 61], [\\\"UNH\\\", \\\"2023-04-27\\\", \\\"2025-04-01\\\", \\\"2023-09-01\\\", \\\"2023-06-29\\\", \\\"2023-10-01\\\", \\\"2025-06-01\\\", 83, 60], [\\\"UNH\\\", \\\"2023-07-28\\\", \\\"2025-04-01\\\", \\\"2023-12-01\\\", \\\"2023-09-28\\\", \\\"2024-01-01\\\", \\\"2025-06-01\\\", 83, 60], [\\\"UNH\\\", \\\"2023-10-26\\\", \\\"2025-04-01\\\", \\\"2024-03-01\\\", \\\"2023-12-26\\\", \\\"2024-04-01\\\", \\\"2025-06-01\\\", 81, 60], [\\\"UNH\\\", \\\"2024-01-25\\\", \\\"2025-04-01\\\", \\\"2024-06-01\\\", \\\"2024-03-28\\\", \\\"2024-07-01\\\", \\\"2025-06-01\\\", 84, 59], [\\\"UNH\\\", \\\"2024-04-25\\\", \\\"2025-04-01\\\", \\\"2024-09-01\\\", \\\"2024-06-28\\\", \\\"2024-10-01\\\", \\\"2025-06-01\\\", 84, 60], [\\\"UNH\\\", \\\"2024-07-29\\\", \\\"2025-04-01\\\", \\\"2024-12-01\\\", \\\"2024-09-27\\\", \\\"2025-01-01\\\", \\\"2025-06-01\\\", 83, 61], [\\\"UNH\\\", \\\"2024-10-28\\\", \\\"2025-04-01\\\", \\\"2025-03-01\\\", \\\"2024-12-23\\\", \\\"2025-04-01\\\", \\\"2025-06-01\\\", 79, 61], [\\\"V\\\", \\\"2022-10-27\\\", \\\"2025-04-01\\\", \\\"2023-03-01\\\", \\\"2022-12-22\\\", \\\"2023-04-01\\\", \\\"2025-06-01\\\", 79, 63], [\\\"V\\\", \\\"2023-01-27\\\", \\\"2025-04-01\\\", \\\"2023-06-01\\\", \\\"2023-03-28\\\", \\\"2023-07-01\\\", \\\"2025-06-01\\\", 81, 61], [\\\"V\\\", \\\"2023-04-27\\\", \\\"2025-04-01\\\", \\\"2023-09-01\\\", \\\"2023-06-29\\\", \\\"2023-10-01\\\", \\\"2025-06-01\\\", 83, 60], [\\\"V\\\", \\\"2023-07-28\\\", \\\"2025-04-01\\\", \\\"2023-12-01\\\", \\\"2023-09-28\\\", \\\"2024-01-01\\\", \\\"2025-06-01\\\", 83, 60], [\\\"V\\\", \\\"2023-10-26\\\", \\\"2025-04-01\\\", \\\"2024-03-01\\\", \\\"2023-12-26\\\", \\\"2024-04-01\\\", \\\"2025-06-01\\\", 81, 60], [\\\"V\\\", \\\"2024-01-25\\\", \\\"2025-04-01\\\", \\\"2024-06-01\\\", \\\"2024-03-28\\\", \\\"2024-07-01\\\", \\\"2025-06-01\\\", 84, 59], [\\\"V\\\", \\\"2024-04-25\\\", \\\"2025-04-01\\\", \\\"2024-09-01\\\", \\\"2024-06-28\\\", \\\"2024-10-01\\\", \\\"2025-06-01\\\", 84, 60], [\\\"V\\\", \\\"2024-07-29\\\", \\\"2025-04-01\\\", \\\"2024-12-01\\\", \\\"2024-09-27\\\", \\\"2025-01-01\\\", \\\"2025-06-01\\\", 83, 61], [\\\"V\\\", \\\"2024-10-28\\\", \\\"2025-04-01\\\", \\\"2025-03-01\\\", \\\"2024-12-23\\\", \\\"2025-04-01\\\", \\\"2025-06-01\\\", 79, 61], [\\\"WMT\\\", \\\"2022-10-27\\\", \\\"2025-04-01\\\", \\\"2023-03-01\\\", \\\"2022-12-22\\\", \\\"2023-04-01\\\", \\\"2025-06-01\\\", 79, 63], [\\\"WMT\\\", \\\"2023-01-27\\\", \\\"2025-04-01\\\", \\\"2023-06-01\\\", \\\"2023-03-28\\\", \\\"2023-07-01\\\", \\\"2025-06-01\\\", 81, 61], [\\\"WMT\\\", \\\"2023-04-27\\\", \\\"2025-04-01\\\", \\\"2023-09-01\\\", \\\"2023-06-29\\\", \\\"2023-10-01\\\", \\\"2025-06-01\\\", 83, 60], [\\\"WMT\\\", \\\"2023-07-28\\\", \\\"2025-04-01\\\", \\\"2023-12-01\\\", \\\"2023-09-28\\\", \\\"2024-01-01\\\", \\\"2025-06-01\\\", 83, 60], [\\\"WMT\\\", \\\"2023-10-26\\\", \\\"2025-04-01\\\", \\\"2024-03-01\\\", \\\"2023-12-26\\\", \\\"2024-04-01\\\", \\\"2025-06-01\\\", 81, 60], [\\\"WMT\\\", \\\"2024-01-25\\\", \\\"2025-04-01\\\", \\\"2024-06-01\\\", \\\"2024-03-28\\\", \\\"2024-07-01\\\", \\\"2025-06-01\\\", 84, 59], [\\\"WMT\\\", \\\"2024-04-25\\\", \\\"2025-04-01\\\", \\\"2024-09-01\\\", \\\"2024-06-28\\\", \\\"2024-10-01\\\", \\\"2025-06-01\\\", 84, 60], [\\\"WMT\\\", \\\"2024-07-29\\\", \\\"2025-04-01\\\", \\\"2024-12-01\\\", \\\"2024-09-27\\\", \\\"2025-01-01\\\", \\\"2025-06-01\\\", 83, 61], [\\\"WMT\\\", \\\"2024-10-28\\\", \\\"2025-04-01\\\", \\\"2025-03-01\\\", \\\"2024-12-23\\\", \\\"2025-04-01\\\", \\\"2025-06-01\\\", 79, 61]]\"};\n",
       "        new ITable(table, dt_args);\n",
       "    });\n",
       "</script>\n"
      ],
      "text/plain": [
       "<IPython.core.display.HTML object>"
      ]
     },
     "metadata": {},
     "output_type": "display_data"
    },
    {
     "name": "stdout",
     "output_type": "stream",
     "text": [
      "Meta-Features per Stock Episode\n"
     ]
    },
    {
     "data": {
      "text/html": [
       "<!--| quarto-html-table-processing: none -->\n",
       "<table id=\"itables_8f02af50_425b_4a21_8729_fd2af6263ede\"><tbody><tr>\n",
       "    <td style=\"vertical-align:middle; text-align:left\">\n",
       "    <a href=https://mwouts.github.io/itables/><svg class=\"main-svg\" xmlns=\"http://www.w3.org/2000/svg\" xmlns:xlink=\"http://www.w3.org/1999/xlink\"\n",
       "width=\"64\" viewBox=\"0 0 500 400\" style=\"font-family: 'Droid Sans', sans-serif;\">\n",
       "    <g style=\"fill:#d9d7fc\">\n",
       "        <path d=\"M100,400H500V357H100Z\" />\n",
       "        <path d=\"M100,300H400V257H100Z\" />\n",
       "        <path d=\"M0,200H400V157H0Z\" />\n",
       "        <path d=\"M100,100H500V57H100Z\" />\n",
       "        <path d=\"M100,350H500V307H100Z\" />\n",
       "        <path d=\"M100,250H400V207H100Z\" />\n",
       "        <path d=\"M0,150H400V107H0Z\" />\n",
       "        <path d=\"M100,50H500V7H100Z\" />\n",
       "    </g>\n",
       "    <g style=\"fill:#1a1366;stroke:#1a1366;\">\n",
       "   <rect x=\"100\" y=\"7\" width=\"400\" height=\"43\">\n",
       "    <animate\n",
       "      attributeName=\"width\"\n",
       "      values=\"0;400;0\"\n",
       "      dur=\"5s\"\n",
       "      repeatCount=\"indefinite\" />\n",
       "      <animate\n",
       "      attributeName=\"x\"\n",
       "      values=\"100;100;500\"\n",
       "      dur=\"5s\"\n",
       "      repeatCount=\"indefinite\" />\n",
       "  </rect>\n",
       "        <rect x=\"0\" y=\"107\" width=\"400\" height=\"43\">\n",
       "    <animate\n",
       "      attributeName=\"width\"\n",
       "      values=\"0;400;0\"\n",
       "      dur=\"3.5s\"\n",
       "      repeatCount=\"indefinite\" />\n",
       "    <animate\n",
       "      attributeName=\"x\"\n",
       "      values=\"0;0;400\"\n",
       "      dur=\"3.5s\"\n",
       "      repeatCount=\"indefinite\" />\n",
       "  </rect>\n",
       "        <rect x=\"100\" y=\"207\" width=\"300\" height=\"43\">\n",
       "    <animate\n",
       "      attributeName=\"width\"\n",
       "      values=\"0;300;0\"\n",
       "      dur=\"3s\"\n",
       "      repeatCount=\"indefinite\" />\n",
       "    <animate\n",
       "      attributeName=\"x\"\n",
       "      values=\"100;100;400\"\n",
       "      dur=\"3s\"\n",
       "      repeatCount=\"indefinite\" />\n",
       "  </rect>\n",
       "        <rect x=\"100\" y=\"307\" width=\"400\" height=\"43\">\n",
       "    <animate\n",
       "      attributeName=\"width\"\n",
       "      values=\"0;400;0\"\n",
       "      dur=\"4s\"\n",
       "      repeatCount=\"indefinite\" />\n",
       "      <animate\n",
       "      attributeName=\"x\"\n",
       "      values=\"100;100;500\"\n",
       "      dur=\"4s\"\n",
       "      repeatCount=\"indefinite\" />\n",
       "  </rect>\n",
       "        <g style=\"fill:transparent;stroke-width:8; stroke-linejoin:round\" rx=\"5\">\n",
       "            <g transform=\"translate(45 50) rotate(-45)\">\n",
       "                <circle r=\"33\" cx=\"0\" cy=\"0\" />\n",
       "                <rect x=\"-8\" y=\"32\" width=\"16\" height=\"30\" />\n",
       "            </g>\n",
       "\n",
       "            <g transform=\"translate(450 152)\">\n",
       "                <polyline points=\"-15,-20 -35,-20 -35,40 25,40 25,20\" />\n",
       "                <rect x=\"-15\" y=\"-40\" width=\"60\" height=\"60\" />\n",
       "            </g>\n",
       "\n",
       "            <g transform=\"translate(50 352)\">\n",
       "                <polygon points=\"-35,-5 0,-40 35,-5\" />\n",
       "                <polygon points=\"-35,10 0,45 35,10\" />\n",
       "            </g>\n",
       "\n",
       "            <g transform=\"translate(75 250)\">\n",
       "                <polyline points=\"-30,30 -60,0 -30,-30\" />\n",
       "                <polyline points=\"0,30 -30,0 0,-30\" />\n",
       "            </g>\n",
       "\n",
       "            <g transform=\"translate(425 250) rotate(180)\">\n",
       "                <polyline points=\"-30,30 -60,0 -30,-30\" />\n",
       "                <polyline points=\"0,30 -30,0 0,-30\" />\n",
       "            </g>\n",
       "        </g>\n",
       "    </g>\n",
       "</svg>\n",
       "</a>\n",
       "    Loading ITables v2.4.0 from the internet...\n",
       "    (need <a href=https://mwouts.github.io/itables/troubleshooting.html>help</a>?)</td>\n",
       "    </tr></tbody></table>\n",
       "<link href=\"https://www.unpkg.com/dt_for_itables@2.3.2/dt_bundle.css\" rel=\"stylesheet\">\n",
       "<script type=\"module\">\n",
       "    import { ITable, jQuery as $ } from 'https://www.unpkg.com/dt_for_itables@2.3.2/dt_bundle.js';\n",
       "\n",
       "    document.querySelectorAll(\"#itables_8f02af50_425b_4a21_8729_fd2af6263ede:not(.dataTable)\").forEach(table => {\n",
       "        if (!(table instanceof HTMLTableElement))\n",
       "            return;\n",
       "\n",
       "        let dt_args = {\"layout\": {\"topStart\": \"pageLength\", \"topEnd\": \"search\", \"bottomStart\": \"info\", \"bottomEnd\": \"paging\"}, \"order\": [], \"text_in_header_can_be_selected\": true, \"style\": {\"table-layout\": \"auto\", \"width\": \"auto\", \"margin\": \"auto\", \"caption-side\": \"bottom\"}, \"classes\": [\"display\", \"nowrap\"], \"table_html\": \"<table><thead>\\n    <tr style=\\\"text-align: right;\\\">\\n      \\n      <th>symbol</th>\\n      <th>train_start</th>\\n      <th>train_end</th>\\n      <th>test_start</th>\\n      <th>test_end</th>\\n      <th>std</th>\\n      <th>kurt</th>\\n      <th>entropy</th>\\n      <th>hurst</th>\\n      <th>adf_pval</th>\\n      <th>volatility</th>\\n      <th>momentum</th>\\n    </tr>\\n  </thead></table>\", \"data_json\": \"[[\\\"GOOGL\\\", \\\"2022-10-27\\\", \\\"2023-03-01\\\", \\\"2022-12-22\\\", \\\"2023-04-01\\\", 0.026088, 0.9976, 1.954682, 0.417029, 1.096705e-13, 0.972111, -1.73], [\\\"GOOGL\\\", \\\"2023-01-27\\\", \\\"2023-06-01\\\", \\\"2023-03-28\\\", \\\"2023-07-01\\\", 0.022064, 1.636889, 1.893739, 0.462046, 3.975437e-14, 1.382219, 0.31], [\\\"GOOGL\\\", \\\"2023-04-27\\\", \\\"2023-09-01\\\", \\\"2023-06-29\\\", \\\"2023-10-01\\\", 0.016645, 1.104343, 1.962722, 0.402325, 3.179725e-13, 2.882823, 6.39], [\\\"GOOGL\\\", \\\"2023-07-28\\\", \\\"2023-12-01\\\", \\\"2023-09-28\\\", \\\"2024-01-01\\\", 0.016508, 10.685816, 1.724433, 0.376939, 4.059224e-15, 1.883794, -5.96], [\\\"GOOGL\\\", \\\"2023-10-26\\\", \\\"2024-03-01\\\", \\\"2023-12-26\\\", \\\"2024-04-01\\\", 0.015848, 6.133693, 1.657734, 0.293409, 8.632557e-15, 2.907078, -5.63], [\\\"GOOGL\\\", \\\"2024-01-25\\\", \\\"2024-06-01\\\", \\\"2024-03-28\\\", \\\"2024-07-01\\\", 0.019779, 8.303627, 1.513293, 0.446285, 7.726294e-20, 1.965337, -1.05], [\\\"GOOGL\\\", \\\"2024-04-25\\\", \\\"2024-09-01\\\", \\\"2024-06-28\\\", \\\"2024-10-01\\\", 0.018158, 9.991993, 1.579466, 0.546761, 1.596001e-08, 1.695494, -2.24], [\\\"GOOGL\\\", \\\"2024-07-29\\\", \\\"2024-12-01\\\", \\\"2024-09-27\\\", \\\"2025-01-01\\\", 0.015566, 0.967682, 2.016757, 0.313827, 1.992643e-09, 1.888987, 1.32], [\\\"GOOGL\\\", \\\"2024-10-28\\\", \\\"2025-03-01\\\", \\\"2024-12-23\\\", \\\"2025-04-01\\\", 0.020644, 1.588964, 1.911291, 0.440769, 3.637119e-14, 4.253285, -9.38], [\\\"AMZN\\\", \\\"2022-10-27\\\", \\\"2023-03-01\\\", \\\"2022-12-22\\\", \\\"2023-04-01\\\", 0.029702, 2.986811, 1.85439, 0.375565, 2.777641e-15, 1.112991, -0.35], [\\\"AMZN\\\", \\\"2023-01-27\\\", \\\"2023-06-01\\\", \\\"2023-03-28\\\", \\\"2023-07-01\\\", 0.022828, 1.868852, 1.877221, 0.417943, 0.1103831, 2.815342, 5.59], [\\\"AMZN\\\", \\\"2023-04-27\\\", \\\"2023-09-01\\\", \\\"2023-06-29\\\", \\\"2023-10-01\\\", 0.019213, 2.516392, 1.851202, 0.238829, 2.693478e-10, 1.967605, 6.17], [\\\"AMZN\\\", \\\"2023-07-28\\\", \\\"2023-12-01\\\", \\\"2023-09-28\\\", \\\"2024-01-01\\\", 0.020977, 2.60945, 1.871697, 0.425381, 3.710703e-15, 0.643094, -0.62], [\\\"AMZN\\\", \\\"2023-10-26\\\", \\\"2024-03-01\\\", \\\"2023-12-26\\\", \\\"2024-04-01\\\", 0.017351, 4.013244, 1.890967, 0.255332, 2.258486e-13, 1.41645, 2.18], [\\\"AMZN\\\", \\\"2024-01-25\\\", \\\"2024-06-01\\\", \\\"2024-03-28\\\", \\\"2024-07-01\\\", 0.016284, 4.34769, 1.861579, 0.204808, 3.902288e-16, 2.361616, -4.61], [\\\"AMZN\\\", \\\"2024-04-25\\\", \\\"2024-09-01\\\", \\\"2024-06-28\\\", \\\"2024-10-01\\\", 0.018539, 4.732977, 1.830717, 0.423939, 7.475754e-12, 3.043373, 1.46], [\\\"AMZN\\\", \\\"2024-07-29\\\", \\\"2024-12-01\\\", \\\"2024-09-27\\\", \\\"2025-01-01\\\", 0.020698, 3.349494, 1.791265, 0.161659, 1.349007e-14, 4.660887, 9.51], [\\\"AMZN\\\", \\\"2024-10-28\\\", \\\"2025-03-01\\\", \\\"2024-12-23\\\", \\\"2025-04-01\\\", 0.018534, 0.635219, 1.973265, 0.446379, 1.45881e-16, 2.074712, -4.3], [\\\"AMT\\\", \\\"2022-10-27\\\", \\\"2023-03-01\\\", \\\"2022-12-22\\\", \\\"2023-04-01\\\", 0.019298, 6.362141, 1.8061, 0.317317, 3.875885e-15, 2.783823, -6.64], [\\\"AMT\\\", \\\"2023-01-27\\\", \\\"2023-06-01\\\", \\\"2023-03-28\\\", \\\"2023-07-01\\\", 0.016802, -0.748945, 2.145611, 0.46491, 1.006159e-05, 1.006817, -3.71], [\\\"AMT\\\", \\\"2023-04-27\\\", \\\"2023-09-01\\\", \\\"2023-06-29\\\", \\\"2023-10-01\\\", 0.014542, -0.1029, 2.087838, 0.221043, 7.967589e-07, 2.151314, 4.17], [\\\"AMT\\\", \\\"2023-07-28\\\", \\\"2023-12-01\\\", \\\"2023-09-28\\\", \\\"2024-01-01\\\", 0.018661, 3.596085, 1.83229, 0.599367, 4.279654e-06, 3.79351, 9.99], [\\\"AMT\\\", \\\"2023-10-26\\\", \\\"2024-03-01\\\", \\\"2023-12-26\\\", \\\"2024-04-01\\\", 0.014784, 1.661539, 1.9489, 0.629987, 1.862705e-13, 4.98002, 10.85], [\\\"AMT\\\", \\\"2024-01-25\\\", \\\"2024-06-01\\\", \\\"2024-03-28\\\", \\\"2024-07-01\\\", 0.015469, 1.037414, 1.967316, 0.572568, 9.816536e-14, 4.646402, 9.14], [\\\"AMT\\\", \\\"2024-04-25\\\", \\\"2024-09-01\\\", \\\"2024-06-28\\\", \\\"2024-10-01\\\", 0.015382, 0.661714, 1.986101, 0.321754, 2.681064e-17, 1.058324, -2.94], [\\\"AMT\\\", \\\"2024-07-29\\\", \\\"2024-12-01\\\", \\\"2024-09-27\\\", \\\"2025-01-01\\\", 0.016706, 4.21624, 1.799436, 0.492332, 0.05746944, 1.98944, 6.19], [\\\"AMT\\\", \\\"2024-10-28\\\", \\\"2025-03-01\\\", \\\"2024-12-23\\\", \\\"2025-04-01\\\", 0.019356, 3.379022, 1.792177, 0.469152, 3.129835e-18, 5.444532, 14.07], [\\\"AAPL\\\", \\\"2022-10-27\\\", \\\"2023-03-01\\\", \\\"2022-12-22\\\", \\\"2023-04-01\\\", 0.022459, 2.813119, 1.93116, 0.496599, 0.04776042, 1.093412, -1.07], [\\\"AAPL\\\", \\\"2023-01-27\\\", \\\"2023-06-01\\\", \\\"2023-03-28\\\", \\\"2023-07-01\\\", 0.013749, 0.645238, 2.047618, 0.238327, 8.407263e-10, 2.477694, 5.69], [\\\"AAPL\\\", \\\"2023-04-27\\\", \\\"2023-09-01\\\", \\\"2023-06-29\\\", \\\"2023-10-01\\\", 0.012037, 3.8065, 1.715863, 0.535045, 5.51381e-14, 4.224786, 11.49], [\\\"AAPL\\\", \\\"2023-07-28\\\", \\\"2023-12-01\\\", \\\"2023-09-28\\\", \\\"2024-01-01\\\", 0.013023, 1.320281, 1.99994, 0.439358, 3.503117e-11, 0.370918, -1.36], [\\\"AAPL\\\", \\\"2023-10-26\\\", \\\"2024-03-01\\\", \\\"2023-12-26\\\", \\\"2024-04-01\\\", 0.010786, 1.01312, 1.938361, 0.509016, 9.03183e-13, 0.838111, -3.62], [\\\"AAPL\\\", \\\"2024-01-25\\\", \\\"2024-06-01\\\", \\\"2024-03-28\\\", \\\"2024-07-01\\\", 0.014027, 3.619261, 1.785333, 0.551446, 1.820703e-14, 0.990353, 5.37], [\\\"AAPL\\\", \\\"2024-04-25\\\", \\\"2024-09-01\\\", \\\"2024-06-28\\\", \\\"2024-10-01\\\", 0.016488, 4.099618, 1.7519, 0.449654, 2.565317e-15, 1.33318, 2.16], [\\\"AAPL\\\", \\\"2024-07-29\\\", \\\"2024-12-01\\\", \\\"2024-09-27\\\", \\\"2025-01-01\\\", 0.012878, 1.958462, 1.876494, 0.24596, 0.02483448, 2.802253, 8.81], [\\\"AAPL\\\", \\\"2024-10-28\\\", \\\"2025-03-01\\\", \\\"2024-12-23\\\", \\\"2025-04-01\\\", 0.014175, 0.542436, 2.028978, 0.543359, 7.533574e-13, 4.288557, -3.71], [\\\"CVX\\\", \\\"2022-10-27\\\", \\\"2023-03-01\\\", \\\"2022-12-22\\\", \\\"2023-04-01\\\", 0.016735, 0.219287, 2.044121, 0.341858, 9.359096e-13, 1.059377, -0.23], [\\\"CVX\\\", \\\"2023-01-27\\\", \\\"2023-06-01\\\", \\\"2023-03-28\\\", \\\"2023-07-01\\\", 0.014823, 0.753052, 1.982028, 0.523433, 5.362226e-16, 2.407654, -6.23], [\\\"CVX\\\", \\\"2023-04-27\\\", \\\"2023-09-01\\\", \\\"2023-06-29\\\", \\\"2023-10-01\\\", 0.013178, 0.668493, 2.018023, 0.183141, 5.65154e-11, 0.706668, 3.16], [\\\"CVX\\\", \\\"2023-07-28\\\", \\\"2023-12-01\\\", \\\"2023-09-28\\\", \\\"2024-01-01\\\", 0.014652, 3.996209, 1.834708, 0.504266, 5.501022e-16, 0.766179, -0.73], [\\\"CVX\\\", \\\"2023-10-26\\\", \\\"2024-03-01\\\", \\\"2023-12-26\\\", \\\"2024-04-01\\\", 0.01404, 5.25776, 1.70337, 0.375646, 1.83921e-11, 1.313632, -3.42], [\\\"CVX\\\", \\\"2024-01-25\\\", \\\"2024-06-01\\\", \\\"2024-03-28\\\", \\\"2024-07-01\\\", 0.010262, 0.896248, 2.012653, 0.237079, 4.22934e-06, 2.079615, 5.36], [\\\"CVX\\\", \\\"2024-04-25\\\", \\\"2024-09-01\\\", \\\"2024-06-28\\\", \\\"2024-10-01\\\", 0.012646, 1.559553, 1.953317, 0.282392, 1.458266e-12, 0.957721, 0.33], [\\\"CVX\\\", \\\"2024-07-29\\\", \\\"2024-12-01\\\", \\\"2024-09-27\\\", \\\"2025-01-01\\\", 0.012854, 1.664042, 1.950638, 0.329689, 1.23465e-10, 0.868372, 0.3], [\\\"CVX\\\", \\\"2024-10-28\\\", \\\"2025-03-01\\\", \\\"2024-12-23\\\", \\\"2025-04-01\\\", 0.012961, 1.221848, 1.953986, 0.598658, 3.158159e-13, 1.351655, 1.7], [\\\"COST\\\", \\\"2022-10-27\\\", \\\"2023-03-01\\\", \\\"2022-12-22\\\", \\\"2023-04-01\\\", 0.017224, 5.154397, 1.67109, 0.542988, 6.647351e-17, 5.221891, -17.56], [\\\"COST\\\", \\\"2023-01-27\\\", \\\"2023-06-01\\\", \\\"2023-03-28\\\", \\\"2023-07-01\\\", 0.011687, 0.758072, 1.985266, 0.311203, 5.546077e-17, 13.472129, 26.69], [\\\"COST\\\", \\\"2023-04-27\\\", \\\"2023-09-01\\\", \\\"2023-06-29\\\", \\\"2023-10-01\\\", 0.009474, 3.271166, 1.850911, 0.38183, 6.826743e-14, 6.02551, 17.57], [\\\"COST\\\", \\\"2023-07-28\\\", \\\"2023-12-01\\\", \\\"2023-09-28\\\", \\\"2024-01-01\\\", 0.010066, 0.539996, 2.058144, 0.40762, 2.393549e-17, 2.754945, 3.66], [\\\"COST\\\", \\\"2023-10-26\\\", \\\"2024-03-01\\\", \\\"2023-12-26\\\", \\\"2024-04-01\\\", 0.011223, 2.139134, 1.874277, 0.26415, 1.579382e-10, 3.70338, 9.49], [\\\"COST\\\", \\\"2024-01-25\\\", \\\"2024-06-01\\\", \\\"2024-03-28\\\", \\\"2024-07-01\\\", 0.012633, 14.868574, 1.580546, 0.486253, 8.817524e-14, 3.407176, 13.55], [\\\"COST\\\", \\\"2024-04-25\\\", \\\"2024-09-01\\\", \\\"2024-06-28\\\", \\\"2024-10-01\\\", 0.011999, 1.700159, 1.864596, 0.519592, 4.138707e-15, 8.889681, 13.17], [\\\"COST\\\", \\\"2024-07-29\\\", \\\"2024-12-01\\\", \\\"2024-09-27\\\", \\\"2025-01-01\\\", 0.011993, 0.072986, 2.078674, 0.362136, 5.20706e-05, 5.354748, 16.23], [\\\"COST\\\", \\\"2024-10-28\\\", \\\"2025-03-01\\\", \\\"2024-12-23\\\", \\\"2025-04-01\\\", 0.012173, -0.080824, 2.144549, 0.618913, 5.658288e-13, 13.503816, 13.58], [\\\"XOM\\\", \\\"2022-10-27\\\", \\\"2023-03-01\\\", \\\"2022-12-22\\\", \\\"2023-04-01\\\", 0.01715, 0.110282, 2.08029, 0.329544, 5.205024e-13, 0.481954, -1.26], [\\\"XOM\\\", \\\"2023-01-27\\\", \\\"2023-06-01\\\", \\\"2023-03-28\\\", \\\"2023-07-01\\\", 0.01795, 1.244991, 1.970278, 0.486321, 3.086689e-14, 1.997241, -4.22], [\\\"XOM\\\", \\\"2023-04-27\\\", \\\"2023-09-01\\\", \\\"2023-06-29\\\", \\\"2023-10-01\\\", 0.014775, -0.025186, 2.121679, 0.203788, 8.3574e-10, 1.213866, 4.84], [\\\"XOM\\\", \\\"2023-07-28\\\", \\\"2023-12-01\\\", \\\"2023-09-28\\\", \\\"2024-01-01\\\", 0.015049, 0.104158, 2.087348, 0.421421, 4.21127e-15, 0.927319, -1.27], [\\\"XOM\\\", \\\"2023-10-26\\\", \\\"2024-03-01\\\", \\\"2023-12-26\\\", \\\"2024-04-01\\\", 0.012293, -0.046143, 2.152966, 0.278168, 3.499317e-16, 0.263382, -0.24], [\\\"XOM\\\", \\\"2024-01-25\\\", \\\"2024-06-01\\\", \\\"2024-03-28\\\", \\\"2024-07-01\\\", 0.010922, 0.107111, 2.074804, 0.554953, 0.0004150021, 1.568716, 3.75], [\\\"XOM\\\", \\\"2024-04-25\\\", \\\"2024-09-01\\\", \\\"2024-06-28\\\", \\\"2024-10-01\\\", 0.012587, -0.199398, 2.118751, 0.224197, 1.166364e-15, 0.836678, 1.62], [\\\"XOM\\\", \\\"2024-07-29\\\", \\\"2024-12-01\\\", \\\"2024-09-27\\\", \\\"2025-01-01\\\", 0.013261, 0.140078, 2.077556, 0.369402, 7.433785e-14, 1.77754, -3.97], [\\\"XOM\\\", \\\"2024-10-28\\\", \\\"2025-03-01\\\", \\\"2024-12-23\\\", \\\"2025-04-01\\\", 0.012363, 0.560869, 1.985686, 0.541538, 1.393445e-17, 0.868343, 0.64], [\\\"GE\\\", \\\"2022-10-27\\\", \\\"2023-03-01\\\", \\\"2022-12-22\\\", \\\"2023-04-01\\\", 0.025445, 24.762275, 1.511783, 0.286559, 1.164838e-15, 0.686535, 2.45], [\\\"GE\\\", \\\"2023-01-27\\\", \\\"2023-06-01\\\", \\\"2023-03-28\\\", \\\"2023-07-01\\\", 0.014896, 0.466809, 2.033882, 0.123769, 4.206296e-20, 0.7179, -0.17], [\\\"GE\\\", \\\"2023-04-27\\\", \\\"2023-09-01\\\", \\\"2023-06-29\\\", \\\"2023-10-01\\\", 0.013836, 3.080751, 1.878751, 0.148341, 1.123196e-20, 1.244882, 3.42], [\\\"GE\\\", \\\"2023-07-28\\\", \\\"2023-12-01\\\", \\\"2023-09-28\\\", \\\"2024-01-01\\\", 0.014745, 2.531367, 1.931985, 0.422479, 0.08189468, 1.204512, 2.2], [\\\"GE\\\", \\\"2023-10-26\\\", \\\"2024-03-01\\\", \\\"2023-12-26\\\", \\\"2024-04-01\\\", 0.011548, -0.076301, 2.124693, 0.508528, 3.078406e-08, 1.393958, 5.22], [\\\"GE\\\", \\\"2024-01-25\\\", \\\"2024-06-01\\\", \\\"2024-03-28\\\", \\\"2024-07-01\\\", 0.030677, 30.922719, 1.220325, 0.394524, 3.292846e-11, 2.10881, -0.12], [\\\"GE\\\", \\\"2024-04-25\\\", \\\"2024-09-01\\\", \\\"2024-06-28\\\", \\\"2024-10-01\\\", 0.01799, 1.941713, 1.908451, 0.070168, 5.802321e-14, 1.57849, 3.4], [\\\"GE\\\", \\\"2024-07-29\\\", \\\"2024-12-01\\\", \\\"2024-09-27\\\", \\\"2025-01-01\\\", 0.019085, 6.228662, 1.72608, 0.388924, 1.037641e-18, 1.756738, 3.46], [\\\"GE\\\", \\\"2024-10-28\\\", \\\"2025-03-01\\\", \\\"2024-12-23\\\", \\\"2025-04-01\\\", 0.017678, 2.005939, 1.874303, 0.590984, 4.835264e-16, 3.269342, 7.15], [\\\"JPM\\\", \\\"2022-10-27\\\", \\\"2023-03-01\\\", \\\"2022-12-22\\\", \\\"2023-04-01\\\", 0.01196, 0.956508, 1.937987, 0.298507, 9.22531e-09, 1.908777, 3.72], [\\\"JPM\\\", \\\"2023-01-27\\\", \\\"2023-06-01\\\", \\\"2023-03-28\\\", \\\"2023-07-01\\\", 0.017318, 4.115008, 1.766808, 0.463905, 8.401402e-08, 0.920994, -0.88], [\\\"JPM\\\", \\\"2023-04-27\\\", \\\"2023-09-01\\\", \\\"2023-06-29\\\", \\\"2023-10-01\\\", 0.011133, 0.570185, 2.057167, 0.560391, 3.851858e-14, 0.945024, -0.9], [\\\"JPM\\\", \\\"2023-07-28\\\", \\\"2023-12-01\\\", \\\"2023-09-28\\\", \\\"2024-01-01\\\", 0.009653, 1.401697, 1.984462, 0.562628, 8.016877e-06, 1.163864, 2.75], [\\\"JPM\\\", \\\"2023-10-26\\\", \\\"2024-03-01\\\", \\\"2023-12-26\\\", \\\"2024-04-01\\\", 0.008564, 3.77338, 1.865481, 0.473115, 0.0001679145, 1.09461, 2.99], [\\\"JPM\\\", \\\"2024-01-25\\\", \\\"2024-06-01\\\", \\\"2024-03-28\\\", \\\"2024-07-01\\\", 0.01255, 8.968386, 1.712342, 0.412609, 3.675411e-16, 1.708532, 5.71], [\\\"JPM\\\", \\\"2024-04-25\\\", \\\"2024-09-01\\\", \\\"2024-06-28\\\", \\\"2024-10-01\\\", 0.013274, 1.886425, 1.958075, 0.34172, 3.76958e-14, 2.156676, 6.49], [\\\"JPM\\\", \\\"2024-07-29\\\", \\\"2024-12-01\\\", \\\"2024-09-27\\\", \\\"2025-01-01\\\", 0.018835, 14.187262, 1.484566, 0.374853, 2.54497e-20, 0.660591, 4.96], [\\\"JPM\\\", \\\"2024-10-28\\\", \\\"2025-03-01\\\", \\\"2024-12-23\\\", \\\"2025-04-01\\\", 0.017692, 18.817117, 1.493795, 0.422214, 1.904887e-17, 2.839107, 0.41], [\\\"LLY\\\", \\\"2022-10-27\\\", \\\"2023-03-01\\\", \\\"2022-12-22\\\", \\\"2023-04-01\\\", 0.014551, 0.298006, 2.110987, 0.246347, 1.170338e-19, 7.460709, -16.29], [\\\"LLY\\\", \\\"2023-01-27\\\", \\\"2023-06-01\\\", \\\"2023-03-28\\\", \\\"2023-07-01\\\", 0.015199, 3.092859, 1.832167, 0.625137, 5.869485e-15, 1.509745, 6.25], [\\\"LLY\\\", \\\"2023-04-27\\\", \\\"2023-09-01\\\", \\\"2023-06-29\\\", \\\"2023-10-01\\\", 0.020643, 25.903197, 1.453699, 0.472939, 4.548416e-16, 2.658001, 6.2], [\\\"LLY\\\", \\\"2023-07-28\\\", \\\"2023-12-01\\\", \\\"2023-09-28\\\", \\\"2024-01-01\\\", 0.023377, 15.422739, 1.575675, 0.323117, 6.907596e-14, 4.300137, -4.05], [\\\"LLY\\\", \\\"2023-10-26\\\", \\\"2024-03-01\\\", \\\"2023-12-26\\\", \\\"2024-04-01\\\", 0.017804, 1.359311, 1.925067, 0.580254, 9.905759e-20, 7.752166, -15.96], [\\\"LLY\\\", \\\"2024-01-25\\\", \\\"2024-06-01\\\", \\\"2024-03-28\\\", \\\"2024-07-01\\\", 0.017686, 1.180146, 2.016283, 0.438872, 2.268877e-08, 5.389316, 11.89], [\\\"LLY\\\", \\\"2024-04-25\\\", \\\"2024-09-01\\\", \\\"2024-06-28\\\", \\\"2024-10-01\\\", 0.021702, 3.588213, 1.775109, 0.544038, 1.10016e-12, 7.321843, 7.28], [\\\"LLY\\\", \\\"2024-07-29\\\", \\\"2024-12-01\\\", \\\"2024-09-27\\\", \\\"2025-01-01\\\", 0.022497, 3.125063, 1.852389, 0.483297, 6.805124e-12, 21.917286, 45.43], [\\\"LLY\\\", \\\"2024-10-28\\\", \\\"2025-03-01\\\", \\\"2024-12-23\\\", \\\"2025-04-01\\\", 0.021056, 1.092741, 2.04268, 0.366011, 1.125355e-10, 15.095716, 46.95], [\\\"LIN\\\", \\\"2022-10-27\\\", \\\"2023-03-01\\\", \\\"2022-12-22\\\", \\\"2023-04-01\\\", 0.015748, 1.056874, 2.003953, 0.370162, 1.441795e-15, 8.843005, 23.81], [\\\"LIN\\\", \\\"2023-01-27\\\", \\\"2023-06-01\\\", \\\"2023-03-28\\\", \\\"2023-07-01\\\", 0.013717, 2.066051, 1.917487, 0.2772, 2.3504e-18, 1.17398, -0.28], [\\\"LIN\\\", \\\"2023-04-27\\\", \\\"2023-09-01\\\", \\\"2023-06-29\\\", \\\"2023-10-01\\\", 0.010314, 1.596609, 1.879355, 0.305757, 1.128069e-11, 2.834576, 9.1], [\\\"LIN\\\", \\\"2023-07-28\\\", \\\"2023-12-01\\\", \\\"2023-09-28\\\", \\\"2024-01-01\\\", 0.009414, 0.984061, 2.027486, 0.556103, 1.820504e-17, 1.49939, 2.15], [\\\"LIN\\\", \\\"2023-10-26\\\", \\\"2024-03-01\\\", \\\"2023-12-26\\\", \\\"2024-04-01\\\", 0.011077, 4.822889, 1.632715, 0.481568, 3.179179e-19, 2.705232, 1.79], [\\\"LIN\\\", \\\"2024-01-25\\\", \\\"2024-06-01\\\", \\\"2024-03-28\\\", \\\"2024-07-01\\\", 0.010313, 7.607436, 1.593292, 0.701827, 2.178498e-17, 4.045003, 3.22], [\\\"LIN\\\", \\\"2024-04-25\\\", \\\"2024-09-01\\\", \\\"2024-06-28\\\", \\\"2024-10-01\\\", 0.009386, 10.020216, 1.679465, 0.219899, 5.680363e-20, 3.488528, 12.51], [\\\"LIN\\\", \\\"2024-07-29\\\", \\\"2024-12-01\\\", \\\"2024-09-27\\\", \\\"2025-01-01\\\", 0.008628, 2.743754, 1.923045, 0.430664, 2.345085e-14, 2.383932, 5.92], [\\\"LIN\\\", \\\"2024-10-28\\\", \\\"2025-03-01\\\", \\\"2024-12-23\\\", \\\"2025-04-01\\\", 0.010309, 0.764818, 1.980853, 0.641299, 0.0005053239, 4.063324, 9.05], [\\\"META\\\", \\\"2022-10-27\\\", \\\"2023-03-01\\\", \\\"2022-12-22\\\", \\\"2023-04-01\\\", 0.037783, 13.537589, 1.661498, 0.313839, 4.735814e-14, 2.078889, 2.86], [\\\"META\\\", \\\"2023-01-27\\\", \\\"2023-06-01\\\", \\\"2023-03-28\\\", \\\"2023-07-01\\\", 0.034538, 21.423441, 1.373702, 0.084362, 1.263147e-14, 6.839081, 17.98], [\\\"META\\\", \\\"2023-04-27\\\", \\\"2023-09-01\\\", \\\"2023-06-29\\\", \\\"2023-10-01\\\", 0.017821, -0.12523, 2.109834, 0.41867, 1.464523e-14, 5.035034, 9.14], [\\\"META\\\", \\\"2023-07-28\\\", \\\"2023-12-01\\\", \\\"2023-09-28\\\", \\\"2024-01-01\\\", 0.017516, -0.591659, 2.204886, 0.441185, 3.012131e-18, 4.825011, -14.34], [\\\"META\\\", \\\"2023-10-26\\\", \\\"2024-03-01\\\", \\\"2023-12-26\\\", \\\"2024-04-01\\\", 0.026362, 33.696577, 1.368089, 0.459028, 2.66555e-13, 3.250851, 4.0], [\\\"META\\\", \\\"2024-01-25\\\", \\\"2024-06-01\\\", \\\"2024-03-28\\\", \\\"2024-07-01\\\", 0.029775, 22.791872, 1.372971, 0.376429, 1.789008e-17, 6.125253, 1.05], [\\\"META\\\", \\\"2024-04-25\\\", \\\"2024-09-01\\\", \\\"2024-06-28\\\", \\\"2024-10-01\\\", 0.019778, 1.151296, 1.981905, 0.432046, 1.452143e-16, 1.930616, -6.69], [\\\"META\\\", \\\"2024-07-29\\\", \\\"2024-12-01\\\", \\\"2024-09-27\\\", \\\"2025-01-01\\\", 0.016487, 0.832134, 2.013867, 0.454817, 4.990843e-18, 6.296477, 11.23], [\\\"META\\\", \\\"2024-10-28\\\", \\\"2025-03-01\\\", \\\"2024-12-23\\\", \\\"2025-04-01\\\", 0.017278, -0.091099, 2.133124, 0.463427, 1.07022e-13, 7.027729, -15.35], [\\\"MSFT\\\", \\\"2022-10-27\\\", \\\"2023-03-01\\\", \\\"2022-12-22\\\", \\\"2023-04-01\\\", 0.022059, 1.340631, 1.971982, 0.370135, 1.641258e-11, 2.282659, -3.25], [\\\"MSFT\\\", \\\"2023-01-27\\\", \\\"2023-06-01\\\", \\\"2023-03-28\\\", \\\"2023-07-01\\\", 0.018046, 1.415058, 1.964787, 0.341625, 1.128678e-11, 7.532192, 13.13], [\\\"MSFT\\\", \\\"2023-04-27\\\", \\\"2023-09-01\\\", \\\"2023-06-29\\\", \\\"2023-10-01\\\", 0.014046, 0.480387, 2.035954, 0.443462, 3.490257e-13, 2.764158, 7.79], [\\\"MSFT\\\", \\\"2023-07-28\\\", \\\"2023-12-01\\\", \\\"2023-09-28\\\", \\\"2024-01-01\\\", 0.012932, 0.18393, 2.09145, 0.606594, 1.569268e-22, 1.992963, 1.06], [\\\"MSFT\\\", \\\"2023-10-26\\\", \\\"2024-03-01\\\", \\\"2023-12-26\\\", \\\"2024-04-01\\\", 0.011111, -0.230967, 2.173131, 0.48803, 5.363666e-20, 2.68393, 1.99], [\\\"MSFT\\\", \\\"2024-01-25\\\", \\\"2024-06-01\\\", \\\"2024-03-28\\\", \\\"2024-07-01\\\", 0.012936, 0.067535, 2.120164, 0.388487, 2.894776e-17, 8.220131, -11.87], [\\\"MSFT\\\", \\\"2024-04-25\\\", \\\"2024-09-01\\\", \\\"2024-06-28\\\", \\\"2024-10-01\\\", 0.012552, 0.773902, 2.124482, 0.593809, 1.003495e-13, 2.335834, 0.35], [\\\"MSFT\\\", \\\"2024-07-29\\\", \\\"2024-12-01\\\", \\\"2024-09-27\\\", \\\"2025-01-01\\\", 0.01276, 4.613852, 1.812132, 0.183006, 1.574605e-15, 4.309447, 10.59], [\\\"MSFT\\\", \\\"2024-10-28\\\", \\\"2025-03-01\\\", \\\"2024-12-23\\\", \\\"2025-04-01\\\", 0.01549, 4.348766, 1.847066, 0.376792, 2.690505e-16, 4.173709, -11.22], [\\\"NEE\\\", \\\"2022-10-27\\\", \\\"2023-03-01\\\", \\\"2022-12-22\\\", \\\"2023-04-01\\\", 0.0179, 6.784912, 1.616041, 0.49867, 1.172687e-19, 1.033475, -2.63], [\\\"NEE\\\", \\\"2023-01-27\\\", \\\"2023-06-01\\\", \\\"2023-03-28\\\", \\\"2023-07-01\\\", 0.01307, 1.331678, 1.939544, 0.332665, 4.050071e-16, 0.5886, -0.7], [\\\"NEE\\\", \\\"2023-04-27\\\", \\\"2023-09-01\\\", \\\"2023-06-29\\\", \\\"2023-10-01\\\", 0.010848, 0.024587, 2.105128, 0.352224, 0.05500035, 0.533226, -0.42], [\\\"NEE\\\", \\\"2023-07-28\\\", \\\"2023-12-01\\\", \\\"2023-09-28\\\", \\\"2024-01-01\\\", 0.022393, 4.408937, 1.692836, 0.576151, 0.0001110719, 0.444151, 1.04], [\\\"NEE\\\", \\\"2023-10-26\\\", \\\"2024-03-01\\\", \\\"2023-12-26\\\", \\\"2024-04-01\\\", 0.016914, 1.801768, 1.912596, 0.298501, 1.533417e-17, 0.718074, -1.48], [\\\"NEE\\\", \\\"2024-01-25\\\", \\\"2024-06-01\\\", \\\"2024-03-28\\\", \\\"2024-07-01\\\", 0.01521, 0.421855, 2.029871, 0.575872, 1.22181e-18, 1.398546, 4.7], [\\\"NEE\\\", \\\"2024-04-25\\\", \\\"2024-09-01\\\", \\\"2024-06-28\\\", \\\"2024-10-01\\\", 0.017541, 2.601651, 1.92457, 0.481268, 2.409473e-20, 0.539166, 0.85], [\\\"NEE\\\", \\\"2024-07-29\\\", \\\"2024-12-01\\\", \\\"2024-09-27\\\", \\\"2025-01-01\\\", 0.014791, 1.853803, 1.934726, 0.473277, 1.963258e-06, 1.16109, 1.31], [\\\"NEE\\\", \\\"2024-10-28\\\", \\\"2025-03-01\\\", \\\"2024-12-23\\\", \\\"2025-04-01\\\", 0.016998, 1.465861, 1.939934, 0.16188, 2.470185e-08, 0.761229, -1.41], [\\\"PLD\\\", \\\"2022-10-27\\\", \\\"2023-03-01\\\", \\\"2022-12-22\\\", \\\"2023-04-01\\\", 0.01998, 3.337718, 1.805176, 0.406933, 1.042647e-18, 0.973473, -0.08], [\\\"PLD\\\", \\\"2023-01-27\\\", \\\"2023-06-01\\\", \\\"2023-03-28\\\", \\\"2023-07-01\\\", 0.015974, -0.49145, 2.190428, 0.315495, 2.582221e-12, 1.748333, 1.01], [\\\"PLD\\\", \\\"2023-04-27\\\", \\\"2023-09-01\\\", \\\"2023-06-29\\\", \\\"2023-10-01\\\", 0.013342, -0.298457, 2.138433, 0.200463, 7.272154e-10, 1.160224, 2.46], [\\\"PLD\\\", \\\"2023-07-28\\\", \\\"2023-12-01\\\", \\\"2023-09-28\\\", \\\"2024-01-01\\\", 0.015673, 3.593844, 1.745344, 0.543868, 1.04848e-15, 1.282088, 3.39], [\\\"PLD\\\", \\\"2023-10-26\\\", \\\"2024-03-01\\\", \\\"2023-12-26\\\", \\\"2024-04-01\\\", 0.017184, 2.887675, 1.909882, 0.536989, 4.563447e-15, 0.611703, -0.17], [\\\"PLD\\\", \\\"2024-01-25\\\", \\\"2024-06-01\\\", \\\"2024-03-28\\\", \\\"2024-07-01\\\", 0.016108, 3.274649, 1.842586, 0.615385, 4.342717e-13, 2.480337, 4.85], [\\\"PLD\\\", \\\"2024-04-25\\\", \\\"2024-09-01\\\", \\\"2024-06-28\\\", \\\"2024-10-01\\\", 0.01475, 0.104232, 2.107824, 0.303603, 2.715549e-16, 1.51447, -1.04], [\\\"PLD\\\", \\\"2024-07-29\\\", \\\"2024-12-01\\\", \\\"2024-09-27\\\", \\\"2025-01-01\\\", 0.015278, 0.506147, 2.020558, 0.396969, 3.252091e-20, 0.99163, 2.81], [\\\"PLD\\\", \\\"2024-10-28\\\", \\\"2025-03-01\\\", \\\"2024-12-23\\\", \\\"2025-04-01\\\", 0.016512, 2.894778, 1.842306, 0.619985, 1.258696e-20, 1.154413, 2.95], [\\\"SHW\\\", \\\"2022-10-27\\\", \\\"2023-03-01\\\", \\\"2022-12-22\\\", \\\"2023-04-01\\\", 0.022642, 3.498253, 1.765971, 0.379545, 5.732802e-09, 0.832376, -1.87], [\\\"SHW\\\", \\\"2023-01-27\\\", \\\"2023-06-01\\\", \\\"2023-03-28\\\", \\\"2023-07-01\\\", 0.014156, 0.008868, 2.035297, 0.422123, 2.201644e-14, 1.035085, 0.73], [\\\"SHW\\\", \\\"2023-04-27\\\", \\\"2023-09-01\\\", \\\"2023-06-29\\\", \\\"2023-10-01\\\", 0.011964, -0.354816, 2.162056, 0.418328, 2.020507e-15, 3.011066, 2.49], [\\\"SHW\\\", \\\"2023-07-28\\\", \\\"2023-12-01\\\", \\\"2023-09-28\\\", \\\"2024-01-01\\\", 0.013485, 1.623842, 1.933124, 0.646349, 0.01709818, 2.142646, 4.15], [\\\"SHW\\\", \\\"2023-10-26\\\", \\\"2024-03-01\\\", \\\"2023-12-26\\\", \\\"2024-04-01\\\", 0.011778, 1.594659, 1.903323, 0.550222, 6.312149e-16, 4.405977, 11.41], [\\\"SHW\\\", \\\"2024-01-25\\\", \\\"2024-06-01\\\", \\\"2024-03-28\\\", \\\"2024-07-01\\\", 0.011652, 0.486122, 2.025244, 0.650714, 4.542202e-15, 2.839956, 0.71], [\\\"SHW\\\", \\\"2024-04-25\\\", \\\"2024-09-01\\\", \\\"2024-06-28\\\", \\\"2024-10-01\\\", 0.014473, 4.459301, 1.770086, 0.5722, 4.702045e-19, 3.906117, 10.64], [\\\"SHW\\\", \\\"2024-07-29\\\", \\\"2024-12-01\\\", \\\"2024-09-27\\\", \\\"2025-01-01\\\", 0.012692, 4.246561, 1.725196, 0.231558, 0.00510543, 4.334838, 14.08], [\\\"SHW\\\", \\\"2024-10-28\\\", \\\"2025-03-01\\\", \\\"2024-12-23\\\", \\\"2025-04-01\\\", 0.014064, 0.672271, 1.982207, 0.568152, 6.368283e-13, 7.103385, 17.7], [\\\"SO\\\", \\\"2022-10-27\\\", \\\"2023-03-01\\\", \\\"2022-12-22\\\", \\\"2023-04-01\\\", 0.012969, 0.791205, 2.005931, 0.524117, 2.861369e-18, 0.812884, -2.49], [\\\"SO\\\", \\\"2023-01-27\\\", \\\"2023-06-01\\\", \\\"2023-03-28\\\", \\\"2023-07-01\\\", 0.011475, -0.082321, 2.133414, 0.541602, 3.334534e-13, 0.527143, -1.4], [\\\"SO\\\", \\\"2023-04-27\\\", \\\"2023-09-01\\\", \\\"2023-06-29\\\", \\\"2023-10-01\\\", 0.010522, 0.211446, 2.012596, 0.328189, 1.404927e-12, 0.369892, 0.3], [\\\"SO\\\", \\\"2023-07-28\\\", \\\"2023-12-01\\\", \\\"2023-09-28\\\", \\\"2024-01-01\\\", 0.011701, 0.552659, 2.036056, 0.337363, 1.482427e-11, 0.495005, 1.39], [\\\"SO\\\", \\\"2023-10-26\\\", \\\"2024-03-01\\\", \\\"2023-12-26\\\", \\\"2024-04-01\\\", 0.011582, 0.623698, 2.043555, 0.300139, 3.12057e-19, 0.585338, -0.03], [\\\"SO\\\", \\\"2024-01-25\\\", \\\"2024-06-01\\\", \\\"2024-03-28\\\", \\\"2024-07-01\\\", 0.010904, 0.126138, 2.085001, 0.450326, 2.195792e-15, 1.161818, 2.97], [\\\"SO\\\", \\\"2024-04-25\\\", \\\"2024-09-01\\\", \\\"2024-06-28\\\", \\\"2024-10-01\\\", 0.010372, 3.570072, 1.863589, 0.445076, 2.617307e-05, 0.375406, 0.28], [\\\"SO\\\", \\\"2024-07-29\\\", \\\"2024-12-01\\\", \\\"2024-09-27\\\", \\\"2025-01-01\\\", 0.010818, 3.583656, 1.832191, 0.323081, 6.048687e-15, 0.843819, 0.99], [\\\"SO\\\", \\\"2024-10-28\\\", \\\"2025-03-01\\\", \\\"2024-12-23\\\", \\\"2025-04-01\\\", 0.012488, 0.363895, 2.057504, 0.477755, 2.077567e-14, 0.681968, 1.39], [\\\"TSLA\\\", \\\"2022-10-27\\\", \\\"2023-03-01\\\", \\\"2022-12-22\\\", \\\"2023-04-01\\\", 0.047087, 0.031516, 2.098142, 0.729842, 1.122693e-14, 4.212938, 8.34], [\\\"TSLA\\\", \\\"2023-01-27\\\", \\\"2023-06-01\\\", \\\"2023-03-28\\\", \\\"2023-07-01\\\", 0.0332, 0.11854, 2.077296, 0.430939, 3.048027e-17, 9.496985, 18.16], [\\\"TSLA\\\", \\\"2023-04-27\\\", \\\"2023-09-01\\\", \\\"2023-06-29\\\", \\\"2023-10-01\\\", 0.02934, 0.997266, 1.980804, 0.613551, 3.258216e-13, 10.241976, 28.04], [\\\"TSLA\\\", \\\"2023-07-28\\\", \\\"2023-12-01\\\", \\\"2023-09-28\\\", \\\"2024-01-01\\\", 0.031013, 1.313272, 1.908253, 0.469789, 0.001567251, 4.928314, 5.87], [\\\"TSLA\\\", \\\"2023-10-26\\\", \\\"2024-03-01\\\", \\\"2023-12-26\\\", \\\"2024-04-01\\\", 0.027708, 3.26811, 1.833859, 0.604813, 2.429375e-11, 4.112472, 4.47], [\\\"TSLA\\\", \\\"2024-01-25\\\", \\\"2024-06-01\\\", \\\"2024-03-28\\\", \\\"2024-07-01\\\", 0.034684, 4.105668, 1.850942, 0.30142, 1.105344e-15, 1.30635, 4.34], [\\\"TSLA\\\", \\\"2024-04-25\\\", \\\"2024-09-01\\\", \\\"2024-06-28\\\", \\\"2024-10-01\\\", 0.039237, 2.25508, 1.83419, 0.576183, 1.664798e-18, 3.850535, -6.21], [\\\"TSLA\\\", \\\"2024-07-29\\\", \\\"2024-12-01\\\", \\\"2024-09-27\\\", \\\"2025-01-01\\\", 0.044809, 5.281352, 1.824062, 0.436062, 2.922737e-16, 7.56656, 5.52], [\\\"TSLA\\\", \\\"2024-10-28\\\", \\\"2025-03-01\\\", \\\"2024-12-23\\\", \\\"2025-04-01\\\", 0.041891, 0.641556, 2.044509, 0.511421, 7.99483e-12, 18.704726, -44.82], [\\\"UBER\\\", \\\"2022-10-27\\\", \\\"2023-03-01\\\", \\\"2022-12-22\\\", \\\"2023-04-01\\\", 0.030775, 1.873501, 1.983187, 0.502706, 9.568121e-17, 0.61256, -0.94], [\\\"UBER\\\", \\\"2023-01-27\\\", \\\"2023-06-01\\\", \\\"2023-03-28\\\", \\\"2023-07-01\\\", 0.026987, 2.205137, 1.945569, 0.446059, 3.075353e-10, 0.316465, -0.73], [\\\"UBER\\\", \\\"2023-04-27\\\", \\\"2023-09-01\\\", \\\"2023-06-29\\\", \\\"2023-10-01\\\", 0.023959, 3.835338, 1.807618, 0.356002, 4.348265e-13, 1.432794, 2.55], [\\\"UBER\\\", \\\"2023-07-28\\\", \\\"2023-12-01\\\", \\\"2023-09-28\\\", \\\"2024-01-01\\\", 0.021026, 0.435538, 1.985698, 0.621808, 1.5335e-14, 0.443599, 1.01], [\\\"UBER\\\", \\\"2023-10-26\\\", \\\"2024-03-01\\\", \\\"2023-12-26\\\", \\\"2024-04-01\\\", 0.023344, 13.213825, 1.575142, 0.340855, 1.986068e-10, 0.664206, 1.47], [\\\"UBER\\\", \\\"2024-01-25\\\", \\\"2024-06-01\\\", \\\"2024-03-28\\\", \\\"2024-07-01\\\", 0.023943, 14.143697, 1.541799, 0.489175, 1.353199e-12, 0.525471, 0.96], [\\\"UBER\\\", \\\"2024-04-25\\\", \\\"2024-09-01\\\", \\\"2024-06-28\\\", \\\"2024-10-01\\\", 0.025204, 3.713212, 1.734792, 0.486611, 2.8385e-17, 0.474415, -1.17], [\\\"UBER\\\", \\\"2024-07-29\\\", \\\"2024-12-01\\\", \\\"2024-09-27\\\", \\\"2025-01-01\\\", 0.026994, 5.509667, 1.662503, 0.418753, 3.002384e-17, 0.805469, 2.32], [\\\"UBER\\\", \\\"2024-10-28\\\", \\\"2025-03-01\\\", \\\"2024-12-23\\\", \\\"2025-04-01\\\", 0.028116, 2.979303, 1.826579, 0.497652, 1.00669e-16, 0.895779, -2.88], [\\\"UNH\\\", \\\"2022-10-27\\\", \\\"2023-03-01\\\", \\\"2022-12-22\\\", \\\"2023-04-01\\\", 0.015032, 0.984454, 1.968934, 0.309232, 6.11354e-16, 6.022983, -15.37], [\\\"UNH\\\", \\\"2023-01-27\\\", \\\"2023-06-01\\\", \\\"2023-03-28\\\", \\\"2023-07-01\\\", 0.013587, 3.06104, 1.779924, 0.375767, 0.0005798287, 3.554345, 7.8], [\\\"UNH\\\", \\\"2023-04-27\\\", \\\"2023-09-01\\\", \\\"2023-06-29\\\", \\\"2023-10-01\\\", 0.014576, 9.285774, 1.497742, 0.332801, 9.865478e-15, 6.668206, -11.52], [\\\"UNH\\\", \\\"2023-07-28\\\", \\\"2023-12-01\\\", \\\"2023-09-28\\\", \\\"2024-01-01\\\", 0.009954, 1.27574, 1.886781, 0.557658, 1.368138e-15, 6.773155, 9.21], [\\\"UNH\\\", \\\"2023-10-26\\\", \\\"2024-03-01\\\", \\\"2023-12-26\\\", \\\"2024-04-01\\\", 0.011768, 1.706227, 1.887622, 0.323407, 3.559437e-16, 15.309955, -32.9], [\\\"UNH\\\", \\\"2024-01-25\\\", \\\"2024-06-01\\\", \\\"2024-03-28\\\", \\\"2024-07-01\\\", 0.015063, 3.984333, 1.742912, 0.415468, 1.918436e-09, 11.537238, -21.46], [\\\"UNH\\\", \\\"2024-04-25\\\", \\\"2024-09-01\\\", \\\"2024-06-28\\\", \\\"2024-10-01\\\", 0.015143, 3.629757, 1.774759, 0.507262, 1.955187e-14, 1.901781, 5.69], [\\\"UNH\\\", \\\"2024-07-29\\\", \\\"2024-12-01\\\", \\\"2024-09-27\\\", \\\"2025-01-01\\\", 0.015683, 8.31144, 1.648452, 0.271027, 1.453178e-19, 7.750763, 12.71], [\\\"UNH\\\", \\\"2024-10-28\\\", \\\"2025-03-01\\\", \\\"2024-12-23\\\", \\\"2025-04-01\\\", 0.022069, 1.252713, 1.965754, 0.48762, 0.002045122, 5.377315, 8.54], [\\\"V\\\", \\\"2022-10-27\\\", \\\"2023-03-01\\\", \\\"2022-12-22\\\", \\\"2023-04-01\\\", 0.014849, 2.685564, 1.860536, 0.397452, 0.03290741, 0.593692, -0.68], [\\\"V\\\", \\\"2023-01-27\\\", \\\"2023-06-01\\\", \\\"2023-03-28\\\", \\\"2023-07-01\\\", 0.010041, 0.449493, 2.007233, 0.385388, 8.924194e-09, 1.573712, -3.55], [\\\"V\\\", \\\"2023-04-27\\\", \\\"2023-09-01\\\", \\\"2023-06-29\\\", \\\"2023-10-01\\\", 0.009908, 0.783923, 1.961333, 0.389539, 2.486284e-14, 1.500017, 6.21], [\\\"V\\\", \\\"2023-07-28\\\", \\\"2023-12-01\\\", \\\"2023-09-28\\\", \\\"2024-01-01\\\", 0.009103, 0.280978, 2.038919, 0.535162, 4.243774e-14, 1.361954, 2.96], [\\\"V\\\", \\\"2023-10-26\\\", \\\"2024-03-01\\\", \\\"2023-12-26\\\", \\\"2024-04-01\\\", 0.00808, 0.280133, 2.088811, 0.257277, 1.759183e-12, 1.145282, -1.11], [\\\"V\\\", \\\"2024-01-25\\\", \\\"2024-06-01\\\", \\\"2024-03-28\\\", \\\"2024-07-01\\\", 0.008789, 0.20497, 1.999539, 0.318496, 4.76324e-16, 2.065919, -1.77], [\\\"V\\\", \\\"2024-04-25\\\", \\\"2024-09-01\\\", \\\"2024-06-28\\\", \\\"2024-10-01\\\", 0.010849, 2.391319, 1.933921, 0.179671, 1.477083e-12, 3.467516, 8.93], [\\\"V\\\", \\\"2024-07-29\\\", \\\"2024-12-01\\\", \\\"2024-09-27\\\", \\\"2025-01-01\\\", 0.012275, 6.945665, 1.661466, 0.426708, 4.438173e-17, 2.128055, 5.18], [\\\"V\\\", \\\"2024-10-28\\\", \\\"2025-03-01\\\", \\\"2024-12-23\\\", \\\"2025-04-01\\\", 0.010377, 3.63596, 1.824838, 0.51592, 1.504969e-17, 5.263652, 14.18], [\\\"WMT\\\", \\\"2022-10-27\\\", \\\"2023-03-01\\\", \\\"2022-12-22\\\", \\\"2023-04-01\\\", 0.012988, 6.133022, 1.782297, 0.457636, 2.718675e-18, 1.055192, -5.2], [\\\"WMT\\\", \\\"2023-01-27\\\", \\\"2023-06-01\\\", \\\"2023-03-28\\\", \\\"2023-07-01\\\", 0.008275, -0.545748, 2.188807, 0.550071, 4.39481e-13, 0.641771, -1.44], [\\\"WMT\\\", \\\"2023-04-27\\\", \\\"2023-09-01\\\", \\\"2023-06-29\\\", \\\"2023-10-01\\\", 0.007589, 1.001059, 1.997114, 0.401328, 1.143558e-14, 1.911374, 5.72], [\\\"WMT\\\", \\\"2023-07-28\\\", \\\"2023-12-01\\\", \\\"2023-09-28\\\", \\\"2024-01-01\\\", 0.011675, 23.799565, 1.506221, 0.303917, 2.121062e-17, 1.179945, 1.02], [\\\"WMT\\\", \\\"2023-10-26\\\", \\\"2024-03-01\\\", \\\"2023-12-26\\\", \\\"2024-04-01\\\", 0.072381, 75.232737, 0.606917, 0.126063, 0.001635999, 51.970237, -116.8], [\\\"WMT\\\", \\\"2024-01-25\\\", \\\"2024-06-01\\\", \\\"2024-03-28\\\", \\\"2024-07-01\\\", 0.07107, 79.02445, 1.042985, 0.462528, 1.209507e-15, 0.369486, 0.92], [\\\"WMT\\\", \\\"2024-04-25\\\", \\\"2024-09-01\\\", \\\"2024-06-28\\\", \\\"2024-10-01\\\", 0.013124, 11.355274, 1.65562, 0.421657, 1.949687e-16, 0.49977, 1.53], [\\\"WMT\\\", \\\"2024-07-29\\\", \\\"2024-12-01\\\", \\\"2024-09-27\\\", \\\"2025-01-01\\\", 0.012165, 6.593908, 1.735038, 0.344365, 2.934771e-16, 1.183714, 4.11], [\\\"WMT\\\", \\\"2024-10-28\\\", \\\"2025-03-01\\\", \\\"2024-12-23\\\", \\\"2025-04-01\\\", 0.014288, 4.929673, 1.771742, 0.477043, 7.308604e-14, 1.871422, 3.83]]\"};\n",
       "        new ITable(table, dt_args);\n",
       "    });\n",
       "</script>\n"
      ],
      "text/plain": [
       "<IPython.core.display.HTML object>"
      ]
     },
     "metadata": {},
     "output_type": "display_data"
    }
   ],
   "source": [
    "# Execute on walkforward windows\n",
    "#feature_df = extract_features_per_window(walkforward_windows,    max_feature_rolling_window=ROLLING,lookback_buffer_days=LOOKBACK)\n",
    "\n",
    "df = OHLCV_DF[OHLCV_DF['symbol'].isin(TOP2_STOCK_BY_SECTOR)].copy()\n",
    "walkforward_windows, visualize_walkforward_windows = generate_walkforward_windows(df ,max_feature_rolling_window=ROLLING,lookback_buffer_days=LOOKBACK)\n",
    "feature_df,visualize_feature_df = extract_features_per_window(walkforward_windows,feature_cols=BASIC_FEATURES)\n",
    "visualize_walkforward_windows()\n",
    "visualize_feature_df()"
   ]
  },
  {
   "cell_type": "markdown",
   "id": "b1a29e40",
   "metadata": {},
   "source": [
    "### 🤖 2. **Agent Training per Episode**\n",
    "\n",
    "Train **PPO** and optionally **A2C** using:\n",
    "\n",
    "* Our `RecurrentPPO + TransformerPolicy`\n",
    "* `SequenceAwareNormAbsMoveEnv`\n",
    "* Early stopping if reward plateaus\n",
    "* Use `Monitor` wrapper to track episode stats\n"
   ]
  },
  {
   "cell_type": "code",
   "execution_count": 17,
   "id": "1f5a7b9d",
   "metadata": {},
   "outputs": [],
   "source": [
    "# SequenceAwareNormAbsMoveEnv for walkforward context + full training episode\n",
    "import gym\n",
    "import numpy as np\n",
    "import pandas as pd\n",
    "from gym import spaces\n",
    "\n",
    "class SequenceAwareNormAbsMoveEnv(gym.Env):\n",
    "    def __init__(self, df: pd.DataFrame,feature_cols=BASIC_FEATURES, context_window: int = 20, seed: int = 42, episode_steps:int=100):\n",
    "        super().__init__()\n",
    "        self.df = df.reset_index(drop=True)\n",
    "        self.context_window = context_window\n",
    "        self.seed_value = seed\n",
    "        self.rng = np.random.default_rng(seed)\n",
    "\n",
    "        self.feature_cols = feature_cols#[col for col in self.df.columns if col not in ['date', 'symbol']]\n",
    "        self.feature_dim = len(self.feature_cols)\n",
    "        self.action_space = spaces.Discrete(3)\n",
    "        self.observation_space = spaces.Box(\n",
    "            low=-np.inf, high=np.inf,\n",
    "            shape=(self.context_window, self.feature_dim), dtype=np.float32\n",
    "        )\n",
    "\n",
    "        # Reward normalization\n",
    "        self.reward_scale = 1.0\n",
    "        self.reward_centering = True\n",
    "        self._price_diffs = self.df['close'].diff().fillna(0)\n",
    "\n",
    "        # Indices\n",
    "        self.start_index = self.context_window\n",
    "        self.end_index = len(self.df)\n",
    "        self.current_index = self.start_index\n",
    "\n",
    "    def reset(self):\n",
    "        self.start_index = self.context_window\n",
    "        self.current_index = self.start_index\n",
    "        self.step_counter = 0\n",
    "        self.max_steps = self.end_index - self.start_index\n",
    "        return self._get_observation()\n",
    "\n",
    "    def _get_observation(self):\n",
    "        obs_window = self.df.iloc[self.current_index - self.context_window:self.current_index][self.feature_cols]\n",
    "        return obs_window.values.astype(np.float32)\n",
    "\n",
    "    def step(self, action):\n",
    "        reward = self._compute_reward(action)\n",
    "        self.current_index += 1\n",
    "        self.step_counter += 1\n",
    "        done = self.current_index >= self.end_index\n",
    "\n",
    "        obs = self._get_observation() if not done else np.zeros((self.context_window, self.feature_dim), dtype=np.float32)\n",
    "        return obs, reward, done, {}\n",
    "\n",
    "    def _compute_reward(self, action):\n",
    "        price_change = self._price_diffs.iloc[self.current_index] if self.current_index > 0 else 0\n",
    "        direction = 0 if action == 0 else (1 if action == 1 else -1)\n",
    "        reward = direction * price_change\n",
    "        if self.reward_centering:\n",
    "            reward -= self._price_diffs.mean()\n",
    "        return reward * self.reward_scale\n",
    "\n",
    "    def seed(self, seed=None):\n",
    "        self.seed_value = seed\n",
    "        self.rng = np.random.default_rng(seed)\n"
   ]
  },
  {
   "cell_type": "code",
   "execution_count": 18,
   "id": "565f77ba",
   "metadata": {},
   "outputs": [],
   "source": [
    "# Transformer Feature Extractor ======================================\n",
    "import torch\n",
    "import torch.nn as nn\n",
    "from stable_baselines3.common.torch_layers import BaseFeaturesExtractor\n",
    "\n",
    "MAX_LEN = 64\n",
    "\n",
    "def generate_causal_mask(seq_len):\n",
    "    return torch.triu(torch.ones((seq_len, seq_len), dtype=torch.bool), diagonal=1)\n",
    "\n",
    "class TransformerFeatureExtractor(BaseFeaturesExtractor):\n",
    "    def __init__(self, observation_space, d_model=64, n_heads=4, n_layers=2, max_len=MAX_LEN):\n",
    "        super().__init__(observation_space, features_dim=d_model)\n",
    "        self.d_model = d_model\n",
    "        input_dim = observation_space.shape[-1]\n",
    "\n",
    "        self.input_proj = nn.Sequential(\n",
    "            nn.LayerNorm(input_dim),\n",
    "            nn.Linear(input_dim, d_model),\n",
    "            nn.ReLU()\n",
    "        )\n",
    "        self.positional_encoding = nn.Parameter(torch.zeros(max_len, d_model))\n",
    "        nn.init.normal_(self.positional_encoding, std=0.02)\n",
    "\n",
    "        encoder_layer = nn.TransformerEncoderLayer(\n",
    "            d_model=d_model, nhead=n_heads, batch_first=True, norm_first=True, dropout=0.1\n",
    "        )\n",
    "        self.transformer = nn.TransformerEncoder(encoder_layer, num_layers=n_layers)\n",
    "\n",
    "    def forward(self, obs):\n",
    "        x = self.input_proj(obs)\n",
    "        seq_len = x.size(1)\n",
    "        x = x + self.positional_encoding[:seq_len]\n",
    "        mask = generate_causal_mask(seq_len).to(x.device)\n",
    "        x = self.transformer(x, mask=mask)\n",
    "        return x[:, -1]\n",
    "\n",
    "\n",
    "# Transformer Policy ================================================\n",
    "from sb3_contrib.common.recurrent.policies import RecurrentActorCriticPolicy\n",
    "\n",
    "class TransformerPolicy(RecurrentActorCriticPolicy):\n",
    "    def __init__(self, *args, **kwargs):\n",
    "        super().__init__(\n",
    "            *args,\n",
    "            **kwargs,\n",
    "            features_extractor_class=TransformerFeatureExtractor,\n",
    "            features_extractor_kwargs=dict(\n",
    "                d_model=64, n_heads=4, n_layers=2, max_len=MAX_LEN\n",
    "            ),\n",
    "            share_features_extractor=True  # ✅ Ensures SB3_contrib uses recurrent interface correctly\n",
    "        )\n"
   ]
  },
  {
   "cell_type": "markdown",
   "id": "297f7eed",
   "metadata": {},
   "source": [
    "### 🏷️ 3. **Label Advantage for Predictability**\n",
    "\n",
    "Evaluate each stock-month:\n",
    "\n",
    "* Compute agent reward vs. random agent:\n",
    "\n",
    "  $$\n",
    "  \\text{Advantage} = \\mathbb{E}[R_{\\text{agent}} - R_{\\text{random}}]\n",
    "  $$\n",
    "* Run **t-test** and **Mann-Whitney U test**:\n",
    "\n",
    "  * `p_value < 0.05` ⇒ statistically significant edge\n",
    "  * Log these in the metadata\n",
    "\n",
    "---\n"
   ]
  },
  {
   "cell_type": "code",
   "execution_count": 19,
   "id": "7e8affb6",
   "metadata": {},
   "outputs": [],
   "source": [
    "import numpy as np\n",
    "from scipy.stats import ttest_ind, mannwhitneyu\n",
    "\n",
    "def compute_advantage_statistics(agent_rewards, random_rewards, alpha=0.05):\n",
    "    \"\"\"\n",
    "    Compute the statistical advantage of the agent over a random policy.\n",
    "\n",
    "    Parameters:\n",
    "        agent_rewards: List or np.array of total rewards from trained agent\n",
    "        random_rewards: List or np.array of total rewards from random actions\n",
    "        alpha: Significance threshold (default = 0.05)\n",
    "\n",
    "    Returns:\n",
    "        Dictionary with advantage stats and significance flag\n",
    "    \"\"\"\n",
    "    agent_rewards = np.array(agent_rewards)\n",
    "    random_rewards = np.array(random_rewards)\n",
    "\n",
    "    advantage = agent_rewards.mean() - random_rewards.mean()\n",
    "    t_stat, t_pval = ttest_ind(agent_rewards, random_rewards, equal_var=False)\n",
    "    mw_stat, mw_pval = mannwhitneyu(agent_rewards, random_rewards, alternative='greater')\n",
    "\n",
    "    return {\n",
    "        \"advantage\": advantage,\n",
    "        \"agent_mean\": agent_rewards.mean(),\n",
    "        \"random_mean\": random_rewards.mean(),\n",
    "        \"t_stat\": t_stat,\n",
    "        \"t_pval\": t_pval,\n",
    "        \"mw_stat\": mw_stat,\n",
    "        \"mw_pval\": mw_pval,\n",
    "        \"significant\": (t_pval < alpha) and (mw_pval < alpha)\n",
    "    }\n"
   ]
  },
  {
   "cell_type": "markdown",
   "id": "e971f913",
   "metadata": {},
   "source": [
    "### ⚠️ 4. **Only Keep Statistically Significant Runs**\n",
    "\n",
    "* Filter episodes where agent significantly beats random.\n",
    "* Label those stock-months as **\"predictable.\"**\n",
    "* Store mean/variance/confidence intervals for advantage.\n",
    "\n",
    "---\n"
   ]
  },
  {
   "cell_type": "code",
   "execution_count": 20,
   "id": "a5bd0d1c",
   "metadata": {},
   "outputs": [],
   "source": [
    "import os\n",
    "import json\n",
    "import numpy as np\n",
    "import pandas as pd\n",
    "from scipy.stats import ttest_ind, mannwhitneyu\n",
    "\n",
    "def evaluate_episode_significance(episode_id, agent_rewards, random_rewards, alpha=0.05):\n",
    "    \"\"\"Compute statistical tests and determine predictability.\"\"\"\n",
    "    t_stat, p_val_t = ttest_ind(agent_rewards, random_rewards, equal_var=False)\n",
    "    u_stat, p_val_mw = mannwhitneyu(agent_rewards, random_rewards, alternative='two-sided')\n",
    "\n",
    "    advantage = np.mean(agent_rewards) - np.mean(random_rewards)\n",
    "    result = {\n",
    "        \"episode_id\": episode_id,\n",
    "        \"advantage_mean\": advantage,\n",
    "        \"agent_mean\": np.mean(agent_rewards),\n",
    "        \"agent_std\": np.std(agent_rewards),\n",
    "        \"random_mean\": np.mean(random_rewards),\n",
    "        \"random_std\": np.std(random_rewards),\n",
    "        \"ttest_pval\": p_val_t,\n",
    "        \"mw_pval\": p_val_mw,\n",
    "        \"predictable\": (p_val_t < alpha) and (p_val_mw < alpha)\n",
    "    }\n",
    "    return result\n",
    "\n",
    "def evaluate_all_episodes(agent_data_dict, save_path=None, alpha=0.05):\n",
    "    \"\"\"\n",
    "    Evaluate multiple episodes for statistical significance and optionally save results.\n",
    "\n",
    "    agent_data_dict: {\n",
    "        episode_id: {\n",
    "            'agent': [...],\n",
    "            'random': [...]\n",
    "        }\n",
    "    }\n",
    "    \"\"\"\n",
    "    results = []\n",
    "    for episode_id, data in agent_data_dict.items():\n",
    "        agent_rewards = data['agent']\n",
    "        random_rewards = data['random']\n",
    "        result = evaluate_episode_significance(episode_id, agent_rewards, random_rewards, alpha=alpha)\n",
    "        results.append(result)\n",
    "\n",
    "    df = pd.DataFrame(results)\n",
    "    if save_path:\n",
    "        os.makedirs(os.path.dirname(save_path), exist_ok=True)\n",
    "        df.to_csv(save_path, index=False)\n",
    "    return df\n"
   ]
  },
  {
   "cell_type": "code",
   "execution_count": 21,
   "id": "95100784",
   "metadata": {},
   "outputs": [],
   "source": [
    "import pandas as pd\n",
    "import numpy as np\n",
    "from typing import List, Dict\n",
    "from scipy.stats import ttest_ind, mannwhitneyu\n",
    "\n",
    "from stable_baselines3.common.vec_env import DummyVecEnv\n",
    "from sb3_contrib.ppo_recurrent import RecurrentPPO\n",
    "\n",
    "\n",
    "\n",
    "def compute_advantage_statistics(agent_rewards, random_rewards, alpha=0.05):\n",
    "    t_stat, p_val_t = ttest_ind(agent_rewards, random_rewards, equal_var=False)\n",
    "    u_stat, p_val_mw = mannwhitneyu(agent_rewards, random_rewards, alternative='two-sided')\n",
    "    advantage = np.mean(agent_rewards) - np.mean(random_rewards)\n",
    "\n",
    "    return {\n",
    "        \"agent_mean\": np.mean(agent_rewards),\n",
    "        \"agent_std\": np.std(agent_rewards),\n",
    "        \"random_mean\": np.mean(random_rewards),\n",
    "        \"random_std\": np.std(random_rewards),\n",
    "        \"advantage\": advantage,\n",
    "        \"ttest_pval\": p_val_t,\n",
    "        \"mw_pval\": p_val_mw,\n",
    "        \"predictable\": (p_val_t < alpha) and (p_val_mw < alpha)\n",
    "    }\n",
    "\n",
    "\n",
    "def run_walkforward_pipeline(windows: List[Dict],\n",
    "                             policy_class,\n",
    "                             seeds=SEEDS,\n",
    "                             steps: int = 5000,\n",
    "                             context_window: int = 20,\n",
    "                             episode_steps: int = 21,\n",
    "                             alpha: float = 0.05) -> pd.DataFrame:\n",
    "    \"\"\"\n",
    "    For each stock-month window:\n",
    "    - Trains agents\n",
    "    - Collects rewards vs random\n",
    "    - Computes statistical advantage\n",
    "    - Filters significant episodes\n",
    "    - Returns labeled dataframe\n",
    "    \"\"\"\n",
    "    records = []\n",
    "\n",
    "    for window in windows:\n",
    "        symbol = window['symbol']\n",
    "        train_df = window['train_df']\n",
    "        test_df = window['test_df']\n",
    "        train_start = window['train_start']\n",
    "        train_end = window['train_end']\n",
    "        test_start = window['test_start']\n",
    "        test_end = window['test_end']\n",
    "\n",
    "        agent_rewards = []\n",
    "        random_rewards = []\n",
    "\n",
    "        for seed in seeds:\n",
    "            print(f\"[{symbol}] Seed {seed} — training agent\")\n",
    "\n",
    "            # ==== Train PPO Agent ====\n",
    "            env_fn = lambda: SequenceAwareNormAbsMoveEnv(train_df, context_window=context_window,\n",
    "                                                          episode_steps=episode_steps, seed=seed)\n",
    "            env = DummyVecEnv([env_fn])\n",
    "            model = RecurrentPPO(\n",
    "                policy_class,\n",
    "                env,\n",
    "                verbose=0,\n",
    "                seed=seed,\n",
    "                n_steps=256,\n",
    "                policy_kwargs=dict(\n",
    "                    lstm_hidden_size=64,\n",
    "                )\n",
    "            )\n",
    "            model.learn(total_timesteps=steps)\n",
    "\n",
    "            # ==== Evaluate PPO Agent ====\n",
    "            test_env = SequenceAwareNormAbsMoveEnv(test_df, context_window=context_window,\n",
    "                                                   episode_steps=episode_steps, seed=seed)\n",
    "            obs = test_env.reset()\n",
    "            print(\"obs shape:\", obs.shape)\n",
    "            print(\"expected shape:\", model.observation_space.shape)\n",
    "            done = False\n",
    "            total_reward = 0\n",
    "            lstm_states = None\n",
    "            episode_starts = np.ones((1,), dtype=bool)\n",
    "\n",
    "            while not done:\n",
    "                action, lstm_states = model.predict(obs, state=lstm_states, episode_start=episode_starts, deterministic=True)\n",
    "                obs, reward, done, _ = test_env.step(action)\n",
    "                total_reward += reward\n",
    "                episode_starts = np.zeros((1,), dtype=bool)\n",
    "            agent_rewards.append(total_reward)\n",
    "\n",
    "            # ==== Random Policy ====\n",
    "            test_env = SequenceAwareNormAbsMoveEnv(test_df, context_window=context_window,\n",
    "                                                   episode_steps=episode_steps, seed=seed)\n",
    "            obs = test_env.reset()\n",
    "            done = False\n",
    "            total_reward = 0\n",
    "\n",
    "            while not done:\n",
    "                action = test_env.action_space.sample()\n",
    "                obs, reward, done, _ = test_env.step(action)\n",
    "                total_reward += reward\n",
    "            random_rewards.append(total_reward)\n",
    "\n",
    "        # ==== Stats & Label ====\n",
    "        print('x')\n",
    "        stats = compute_advantage_statistics(agent_rewards, random_rewards, alpha)\n",
    "        stats.update({\n",
    "            \"symbol\": symbol,\n",
    "            \"train_start\": train_start,\n",
    "            \"train_end\": train_end,\n",
    "            \"test_start\": test_start,\n",
    "            \"test_end\": test_end\n",
    "        })\n",
    "        records.append(stats)\n",
    "\n",
    "    df = pd.DataFrame(records)\n",
    "    df.to_csv(\"advantage_labels_predictability.csv\", index=False)\n",
    "    return df\n"
   ]
  },
  {
   "cell_type": "code",
   "execution_count": null,
   "id": "5f6dd36b",
   "metadata": {
    "scrolled": true
   },
   "outputs": [
    {
     "name": "stdout",
     "output_type": "stream",
     "text": [
      "[GOOGL] Seed 66923877 — training agent\n"
     ]
    },
    {
     "name": "stderr",
     "output_type": "stream",
     "text": [
      "C:\\Users\\Francisco Sá\\AppData\\Roaming\\Python\\Python311\\site-packages\\stable_baselines3\\common\\vec_env\\patch_gym.py:49: UserWarning: You provided an OpenAI Gym environment. We strongly recommend transitioning to Gymnasium environments. Stable-Baselines3 is automatically wrapping your environments in a compatibility layer, which could potentially cause issues.\n",
      "  warnings.warn(\n",
      "C:\\Users\\Francisco Sá\\AppData\\Roaming\\Python\\Python311\\site-packages\\torch\\nn\\modules\\transformer.py:382: UserWarning: enable_nested_tensor is True, but self.use_nested_tensor is False because encoder_layer.norm_first was True\n",
      "  warnings.warn(\n"
     ]
    },
    {
     "name": "stdout",
     "output_type": "stream",
     "text": [
      "obs shape: (40, 12)\n",
      "expected shape: (40, 12)\n",
      "[GOOGL] Seed 203769678 — training agent\n"
     ]
    },
    {
     "name": "stderr",
     "output_type": "stream",
     "text": [
      "C:\\Users\\Francisco Sá\\AppData\\Roaming\\Python\\Python311\\site-packages\\stable_baselines3\\common\\vec_env\\patch_gym.py:49: UserWarning: You provided an OpenAI Gym environment. We strongly recommend transitioning to Gymnasium environments. Stable-Baselines3 is automatically wrapping your environments in a compatibility layer, which could potentially cause issues.\n",
      "  warnings.warn(\n",
      "C:\\Users\\Francisco Sá\\AppData\\Roaming\\Python\\Python311\\site-packages\\torch\\nn\\modules\\transformer.py:382: UserWarning: enable_nested_tensor is True, but self.use_nested_tensor is False because encoder_layer.norm_first was True\n",
      "  warnings.warn(\n"
     ]
    },
    {
     "name": "stdout",
     "output_type": "stream",
     "text": [
      "obs shape: (40, 12)\n",
      "expected shape: (40, 12)\n",
      "[GOOGL] Seed 118482530 — training agent\n"
     ]
    },
    {
     "name": "stderr",
     "output_type": "stream",
     "text": [
      "C:\\Users\\Francisco Sá\\AppData\\Roaming\\Python\\Python311\\site-packages\\stable_baselines3\\common\\vec_env\\patch_gym.py:49: UserWarning: You provided an OpenAI Gym environment. We strongly recommend transitioning to Gymnasium environments. Stable-Baselines3 is automatically wrapping your environments in a compatibility layer, which could potentially cause issues.\n",
      "  warnings.warn(\n",
      "C:\\Users\\Francisco Sá\\AppData\\Roaming\\Python\\Python311\\site-packages\\torch\\nn\\modules\\transformer.py:382: UserWarning: enable_nested_tensor is True, but self.use_nested_tensor is False because encoder_layer.norm_first was True\n",
      "  warnings.warn(\n"
     ]
    },
    {
     "name": "stdout",
     "output_type": "stream",
     "text": [
      "obs shape: (40, 12)\n",
      "expected shape: (40, 12)\n",
      "[GOOGL] Seed 135072239 — training agent\n"
     ]
    },
    {
     "name": "stderr",
     "output_type": "stream",
     "text": [
      "C:\\Users\\Francisco Sá\\AppData\\Roaming\\Python\\Python311\\site-packages\\stable_baselines3\\common\\vec_env\\patch_gym.py:49: UserWarning: You provided an OpenAI Gym environment. We strongly recommend transitioning to Gymnasium environments. Stable-Baselines3 is automatically wrapping your environments in a compatibility layer, which could potentially cause issues.\n",
      "  warnings.warn(\n",
      "C:\\Users\\Francisco Sá\\AppData\\Roaming\\Python\\Python311\\site-packages\\torch\\nn\\modules\\transformer.py:382: UserWarning: enable_nested_tensor is True, but self.use_nested_tensor is False because encoder_layer.norm_first was True\n",
      "  warnings.warn(\n"
     ]
    },
    {
     "name": "stdout",
     "output_type": "stream",
     "text": [
      "obs shape: (40, 12)\n",
      "expected shape: (40, 12)\n",
      "[GOOGL] Seed 25166689 — training agent\n"
     ]
    },
    {
     "name": "stderr",
     "output_type": "stream",
     "text": [
      "C:\\Users\\Francisco Sá\\AppData\\Roaming\\Python\\Python311\\site-packages\\stable_baselines3\\common\\vec_env\\patch_gym.py:49: UserWarning: You provided an OpenAI Gym environment. We strongly recommend transitioning to Gymnasium environments. Stable-Baselines3 is automatically wrapping your environments in a compatibility layer, which could potentially cause issues.\n",
      "  warnings.warn(\n",
      "C:\\Users\\Francisco Sá\\AppData\\Roaming\\Python\\Python311\\site-packages\\torch\\nn\\modules\\transformer.py:382: UserWarning: enable_nested_tensor is True, but self.use_nested_tensor is False because encoder_layer.norm_first was True\n",
      "  warnings.warn(\n"
     ]
    },
    {
     "name": "stdout",
     "output_type": "stream",
     "text": [
      "obs shape: (40, 12)\n",
      "expected shape: (40, 12)\n",
      "x\n",
      "[GOOGL] Seed 66923877 — training agent\n"
     ]
    },
    {
     "name": "stderr",
     "output_type": "stream",
     "text": [
      "C:\\Users\\Francisco Sá\\AppData\\Roaming\\Python\\Python311\\site-packages\\stable_baselines3\\common\\vec_env\\patch_gym.py:49: UserWarning: You provided an OpenAI Gym environment. We strongly recommend transitioning to Gymnasium environments. Stable-Baselines3 is automatically wrapping your environments in a compatibility layer, which could potentially cause issues.\n",
      "  warnings.warn(\n",
      "C:\\Users\\Francisco Sá\\AppData\\Roaming\\Python\\Python311\\site-packages\\torch\\nn\\modules\\transformer.py:382: UserWarning: enable_nested_tensor is True, but self.use_nested_tensor is False because encoder_layer.norm_first was True\n",
      "  warnings.warn(\n"
     ]
    },
    {
     "name": "stdout",
     "output_type": "stream",
     "text": [
      "obs shape: (40, 12)\n",
      "expected shape: (40, 12)\n",
      "[GOOGL] Seed 203769678 — training agent\n"
     ]
    },
    {
     "name": "stderr",
     "output_type": "stream",
     "text": [
      "C:\\Users\\Francisco Sá\\AppData\\Roaming\\Python\\Python311\\site-packages\\stable_baselines3\\common\\vec_env\\patch_gym.py:49: UserWarning: You provided an OpenAI Gym environment. We strongly recommend transitioning to Gymnasium environments. Stable-Baselines3 is automatically wrapping your environments in a compatibility layer, which could potentially cause issues.\n",
      "  warnings.warn(\n",
      "C:\\Users\\Francisco Sá\\AppData\\Roaming\\Python\\Python311\\site-packages\\torch\\nn\\modules\\transformer.py:382: UserWarning: enable_nested_tensor is True, but self.use_nested_tensor is False because encoder_layer.norm_first was True\n",
      "  warnings.warn(\n"
     ]
    },
    {
     "name": "stdout",
     "output_type": "stream",
     "text": [
      "obs shape: (40, 12)\n",
      "expected shape: (40, 12)\n",
      "[GOOGL] Seed 118482530 — training agent\n"
     ]
    },
    {
     "name": "stderr",
     "output_type": "stream",
     "text": [
      "C:\\Users\\Francisco Sá\\AppData\\Roaming\\Python\\Python311\\site-packages\\stable_baselines3\\common\\vec_env\\patch_gym.py:49: UserWarning: You provided an OpenAI Gym environment. We strongly recommend transitioning to Gymnasium environments. Stable-Baselines3 is automatically wrapping your environments in a compatibility layer, which could potentially cause issues.\n",
      "  warnings.warn(\n",
      "C:\\Users\\Francisco Sá\\AppData\\Roaming\\Python\\Python311\\site-packages\\torch\\nn\\modules\\transformer.py:382: UserWarning: enable_nested_tensor is True, but self.use_nested_tensor is False because encoder_layer.norm_first was True\n",
      "  warnings.warn(\n"
     ]
    },
    {
     "name": "stdout",
     "output_type": "stream",
     "text": [
      "obs shape: (40, 12)\n",
      "expected shape: (40, 12)\n",
      "[GOOGL] Seed 135072239 — training agent\n"
     ]
    },
    {
     "name": "stderr",
     "output_type": "stream",
     "text": [
      "C:\\Users\\Francisco Sá\\AppData\\Roaming\\Python\\Python311\\site-packages\\stable_baselines3\\common\\vec_env\\patch_gym.py:49: UserWarning: You provided an OpenAI Gym environment. We strongly recommend transitioning to Gymnasium environments. Stable-Baselines3 is automatically wrapping your environments in a compatibility layer, which could potentially cause issues.\n",
      "  warnings.warn(\n",
      "C:\\Users\\Francisco Sá\\AppData\\Roaming\\Python\\Python311\\site-packages\\torch\\nn\\modules\\transformer.py:382: UserWarning: enable_nested_tensor is True, but self.use_nested_tensor is False because encoder_layer.norm_first was True\n",
      "  warnings.warn(\n"
     ]
    },
    {
     "name": "stdout",
     "output_type": "stream",
     "text": [
      "obs shape: (40, 12)\n",
      "expected shape: (40, 12)\n",
      "[GOOGL] Seed 25166689 — training agent\n"
     ]
    },
    {
     "name": "stderr",
     "output_type": "stream",
     "text": [
      "C:\\Users\\Francisco Sá\\AppData\\Roaming\\Python\\Python311\\site-packages\\stable_baselines3\\common\\vec_env\\patch_gym.py:49: UserWarning: You provided an OpenAI Gym environment. We strongly recommend transitioning to Gymnasium environments. Stable-Baselines3 is automatically wrapping your environments in a compatibility layer, which could potentially cause issues.\n",
      "  warnings.warn(\n",
      "C:\\Users\\Francisco Sá\\AppData\\Roaming\\Python\\Python311\\site-packages\\torch\\nn\\modules\\transformer.py:382: UserWarning: enable_nested_tensor is True, but self.use_nested_tensor is False because encoder_layer.norm_first was True\n",
      "  warnings.warn(\n"
     ]
    },
    {
     "name": "stdout",
     "output_type": "stream",
     "text": [
      "obs shape: (40, 12)\n",
      "expected shape: (40, 12)\n",
      "x\n",
      "[GOOGL] Seed 66923877 — training agent\n"
     ]
    },
    {
     "name": "stderr",
     "output_type": "stream",
     "text": [
      "C:\\Users\\Francisco Sá\\AppData\\Roaming\\Python\\Python311\\site-packages\\stable_baselines3\\common\\vec_env\\patch_gym.py:49: UserWarning: You provided an OpenAI Gym environment. We strongly recommend transitioning to Gymnasium environments. Stable-Baselines3 is automatically wrapping your environments in a compatibility layer, which could potentially cause issues.\n",
      "  warnings.warn(\n",
      "C:\\Users\\Francisco Sá\\AppData\\Roaming\\Python\\Python311\\site-packages\\torch\\nn\\modules\\transformer.py:382: UserWarning: enable_nested_tensor is True, but self.use_nested_tensor is False because encoder_layer.norm_first was True\n",
      "  warnings.warn(\n"
     ]
    },
    {
     "name": "stdout",
     "output_type": "stream",
     "text": [
      "obs shape: (40, 12)\n",
      "expected shape: (40, 12)\n",
      "[GOOGL] Seed 203769678 — training agent\n"
     ]
    },
    {
     "name": "stderr",
     "output_type": "stream",
     "text": [
      "C:\\Users\\Francisco Sá\\AppData\\Roaming\\Python\\Python311\\site-packages\\stable_baselines3\\common\\vec_env\\patch_gym.py:49: UserWarning: You provided an OpenAI Gym environment. We strongly recommend transitioning to Gymnasium environments. Stable-Baselines3 is automatically wrapping your environments in a compatibility layer, which could potentially cause issues.\n",
      "  warnings.warn(\n",
      "C:\\Users\\Francisco Sá\\AppData\\Roaming\\Python\\Python311\\site-packages\\torch\\nn\\modules\\transformer.py:382: UserWarning: enable_nested_tensor is True, but self.use_nested_tensor is False because encoder_layer.norm_first was True\n",
      "  warnings.warn(\n"
     ]
    },
    {
     "name": "stdout",
     "output_type": "stream",
     "text": [
      "obs shape: (40, 12)\n",
      "expected shape: (40, 12)\n",
      "[GOOGL] Seed 118482530 — training agent\n"
     ]
    },
    {
     "name": "stderr",
     "output_type": "stream",
     "text": [
      "C:\\Users\\Francisco Sá\\AppData\\Roaming\\Python\\Python311\\site-packages\\stable_baselines3\\common\\vec_env\\patch_gym.py:49: UserWarning: You provided an OpenAI Gym environment. We strongly recommend transitioning to Gymnasium environments. Stable-Baselines3 is automatically wrapping your environments in a compatibility layer, which could potentially cause issues.\n",
      "  warnings.warn(\n",
      "C:\\Users\\Francisco Sá\\AppData\\Roaming\\Python\\Python311\\site-packages\\torch\\nn\\modules\\transformer.py:382: UserWarning: enable_nested_tensor is True, but self.use_nested_tensor is False because encoder_layer.norm_first was True\n",
      "  warnings.warn(\n"
     ]
    },
    {
     "name": "stdout",
     "output_type": "stream",
     "text": [
      "obs shape: (40, 12)\n",
      "expected shape: (40, 12)\n",
      "[GOOGL] Seed 135072239 — training agent\n"
     ]
    },
    {
     "name": "stderr",
     "output_type": "stream",
     "text": [
      "C:\\Users\\Francisco Sá\\AppData\\Roaming\\Python\\Python311\\site-packages\\stable_baselines3\\common\\vec_env\\patch_gym.py:49: UserWarning: You provided an OpenAI Gym environment. We strongly recommend transitioning to Gymnasium environments. Stable-Baselines3 is automatically wrapping your environments in a compatibility layer, which could potentially cause issues.\n",
      "  warnings.warn(\n",
      "C:\\Users\\Francisco Sá\\AppData\\Roaming\\Python\\Python311\\site-packages\\torch\\nn\\modules\\transformer.py:382: UserWarning: enable_nested_tensor is True, but self.use_nested_tensor is False because encoder_layer.norm_first was True\n",
      "  warnings.warn(\n"
     ]
    },
    {
     "name": "stdout",
     "output_type": "stream",
     "text": [
      "obs shape: (40, 12)\n",
      "expected shape: (40, 12)\n",
      "[GOOGL] Seed 25166689 — training agent\n"
     ]
    },
    {
     "name": "stderr",
     "output_type": "stream",
     "text": [
      "C:\\Users\\Francisco Sá\\AppData\\Roaming\\Python\\Python311\\site-packages\\stable_baselines3\\common\\vec_env\\patch_gym.py:49: UserWarning: You provided an OpenAI Gym environment. We strongly recommend transitioning to Gymnasium environments. Stable-Baselines3 is automatically wrapping your environments in a compatibility layer, which could potentially cause issues.\n",
      "  warnings.warn(\n",
      "C:\\Users\\Francisco Sá\\AppData\\Roaming\\Python\\Python311\\site-packages\\torch\\nn\\modules\\transformer.py:382: UserWarning: enable_nested_tensor is True, but self.use_nested_tensor is False because encoder_layer.norm_first was True\n",
      "  warnings.warn(\n"
     ]
    },
    {
     "name": "stdout",
     "output_type": "stream",
     "text": [
      "obs shape: (40, 12)\n",
      "expected shape: (40, 12)\n",
      "x\n",
      "[GOOGL] Seed 66923877 — training agent\n"
     ]
    },
    {
     "name": "stderr",
     "output_type": "stream",
     "text": [
      "C:\\Users\\Francisco Sá\\AppData\\Roaming\\Python\\Python311\\site-packages\\stable_baselines3\\common\\vec_env\\patch_gym.py:49: UserWarning: You provided an OpenAI Gym environment. We strongly recommend transitioning to Gymnasium environments. Stable-Baselines3 is automatically wrapping your environments in a compatibility layer, which could potentially cause issues.\n",
      "  warnings.warn(\n",
      "C:\\Users\\Francisco Sá\\AppData\\Roaming\\Python\\Python311\\site-packages\\torch\\nn\\modules\\transformer.py:382: UserWarning: enable_nested_tensor is True, but self.use_nested_tensor is False because encoder_layer.norm_first was True\n",
      "  warnings.warn(\n"
     ]
    },
    {
     "name": "stdout",
     "output_type": "stream",
     "text": [
      "obs shape: (40, 12)\n",
      "expected shape: (40, 12)\n",
      "[GOOGL] Seed 203769678 — training agent\n"
     ]
    },
    {
     "name": "stderr",
     "output_type": "stream",
     "text": [
      "C:\\Users\\Francisco Sá\\AppData\\Roaming\\Python\\Python311\\site-packages\\stable_baselines3\\common\\vec_env\\patch_gym.py:49: UserWarning: You provided an OpenAI Gym environment. We strongly recommend transitioning to Gymnasium environments. Stable-Baselines3 is automatically wrapping your environments in a compatibility layer, which could potentially cause issues.\n",
      "  warnings.warn(\n",
      "C:\\Users\\Francisco Sá\\AppData\\Roaming\\Python\\Python311\\site-packages\\torch\\nn\\modules\\transformer.py:382: UserWarning: enable_nested_tensor is True, but self.use_nested_tensor is False because encoder_layer.norm_first was True\n",
      "  warnings.warn(\n"
     ]
    },
    {
     "name": "stdout",
     "output_type": "stream",
     "text": [
      "obs shape: (40, 12)\n",
      "expected shape: (40, 12)\n",
      "[GOOGL] Seed 118482530 — training agent\n"
     ]
    },
    {
     "name": "stderr",
     "output_type": "stream",
     "text": [
      "C:\\Users\\Francisco Sá\\AppData\\Roaming\\Python\\Python311\\site-packages\\stable_baselines3\\common\\vec_env\\patch_gym.py:49: UserWarning: You provided an OpenAI Gym environment. We strongly recommend transitioning to Gymnasium environments. Stable-Baselines3 is automatically wrapping your environments in a compatibility layer, which could potentially cause issues.\n",
      "  warnings.warn(\n",
      "C:\\Users\\Francisco Sá\\AppData\\Roaming\\Python\\Python311\\site-packages\\torch\\nn\\modules\\transformer.py:382: UserWarning: enable_nested_tensor is True, but self.use_nested_tensor is False because encoder_layer.norm_first was True\n",
      "  warnings.warn(\n"
     ]
    },
    {
     "name": "stdout",
     "output_type": "stream",
     "text": [
      "obs shape: (40, 12)\n",
      "expected shape: (40, 12)\n",
      "[GOOGL] Seed 135072239 — training agent\n"
     ]
    },
    {
     "name": "stderr",
     "output_type": "stream",
     "text": [
      "C:\\Users\\Francisco Sá\\AppData\\Roaming\\Python\\Python311\\site-packages\\stable_baselines3\\common\\vec_env\\patch_gym.py:49: UserWarning: You provided an OpenAI Gym environment. We strongly recommend transitioning to Gymnasium environments. Stable-Baselines3 is automatically wrapping your environments in a compatibility layer, which could potentially cause issues.\n",
      "  warnings.warn(\n",
      "C:\\Users\\Francisco Sá\\AppData\\Roaming\\Python\\Python311\\site-packages\\torch\\nn\\modules\\transformer.py:382: UserWarning: enable_nested_tensor is True, but self.use_nested_tensor is False because encoder_layer.norm_first was True\n",
      "  warnings.warn(\n"
     ]
    },
    {
     "name": "stdout",
     "output_type": "stream",
     "text": [
      "obs shape: (40, 12)\n",
      "expected shape: (40, 12)\n",
      "[GOOGL] Seed 25166689 — training agent\n"
     ]
    },
    {
     "name": "stderr",
     "output_type": "stream",
     "text": [
      "C:\\Users\\Francisco Sá\\AppData\\Roaming\\Python\\Python311\\site-packages\\stable_baselines3\\common\\vec_env\\patch_gym.py:49: UserWarning: You provided an OpenAI Gym environment. We strongly recommend transitioning to Gymnasium environments. Stable-Baselines3 is automatically wrapping your environments in a compatibility layer, which could potentially cause issues.\n",
      "  warnings.warn(\n",
      "C:\\Users\\Francisco Sá\\AppData\\Roaming\\Python\\Python311\\site-packages\\torch\\nn\\modules\\transformer.py:382: UserWarning: enable_nested_tensor is True, but self.use_nested_tensor is False because encoder_layer.norm_first was True\n",
      "  warnings.warn(\n"
     ]
    },
    {
     "name": "stdout",
     "output_type": "stream",
     "text": [
      "obs shape: (40, 12)\n",
      "expected shape: (40, 12)\n",
      "x\n",
      "[GOOGL] Seed 66923877 — training agent\n"
     ]
    },
    {
     "name": "stderr",
     "output_type": "stream",
     "text": [
      "C:\\Users\\Francisco Sá\\AppData\\Roaming\\Python\\Python311\\site-packages\\stable_baselines3\\common\\vec_env\\patch_gym.py:49: UserWarning: You provided an OpenAI Gym environment. We strongly recommend transitioning to Gymnasium environments. Stable-Baselines3 is automatically wrapping your environments in a compatibility layer, which could potentially cause issues.\n",
      "  warnings.warn(\n",
      "C:\\Users\\Francisco Sá\\AppData\\Roaming\\Python\\Python311\\site-packages\\torch\\nn\\modules\\transformer.py:382: UserWarning: enable_nested_tensor is True, but self.use_nested_tensor is False because encoder_layer.norm_first was True\n",
      "  warnings.warn(\n"
     ]
    },
    {
     "name": "stdout",
     "output_type": "stream",
     "text": [
      "obs shape: (40, 12)\n",
      "expected shape: (40, 12)\n",
      "[GOOGL] Seed 203769678 — training agent\n"
     ]
    },
    {
     "name": "stderr",
     "output_type": "stream",
     "text": [
      "C:\\Users\\Francisco Sá\\AppData\\Roaming\\Python\\Python311\\site-packages\\stable_baselines3\\common\\vec_env\\patch_gym.py:49: UserWarning: You provided an OpenAI Gym environment. We strongly recommend transitioning to Gymnasium environments. Stable-Baselines3 is automatically wrapping your environments in a compatibility layer, which could potentially cause issues.\n",
      "  warnings.warn(\n",
      "C:\\Users\\Francisco Sá\\AppData\\Roaming\\Python\\Python311\\site-packages\\torch\\nn\\modules\\transformer.py:382: UserWarning: enable_nested_tensor is True, but self.use_nested_tensor is False because encoder_layer.norm_first was True\n",
      "  warnings.warn(\n"
     ]
    },
    {
     "name": "stdout",
     "output_type": "stream",
     "text": [
      "obs shape: (40, 12)\n",
      "expected shape: (40, 12)\n",
      "[GOOGL] Seed 118482530 — training agent\n"
     ]
    },
    {
     "name": "stderr",
     "output_type": "stream",
     "text": [
      "C:\\Users\\Francisco Sá\\AppData\\Roaming\\Python\\Python311\\site-packages\\stable_baselines3\\common\\vec_env\\patch_gym.py:49: UserWarning: You provided an OpenAI Gym environment. We strongly recommend transitioning to Gymnasium environments. Stable-Baselines3 is automatically wrapping your environments in a compatibility layer, which could potentially cause issues.\n",
      "  warnings.warn(\n",
      "C:\\Users\\Francisco Sá\\AppData\\Roaming\\Python\\Python311\\site-packages\\torch\\nn\\modules\\transformer.py:382: UserWarning: enable_nested_tensor is True, but self.use_nested_tensor is False because encoder_layer.norm_first was True\n",
      "  warnings.warn(\n"
     ]
    },
    {
     "name": "stdout",
     "output_type": "stream",
     "text": [
      "obs shape: (40, 12)\n",
      "expected shape: (40, 12)\n",
      "[GOOGL] Seed 135072239 — training agent\n"
     ]
    },
    {
     "name": "stderr",
     "output_type": "stream",
     "text": [
      "C:\\Users\\Francisco Sá\\AppData\\Roaming\\Python\\Python311\\site-packages\\stable_baselines3\\common\\vec_env\\patch_gym.py:49: UserWarning: You provided an OpenAI Gym environment. We strongly recommend transitioning to Gymnasium environments. Stable-Baselines3 is automatically wrapping your environments in a compatibility layer, which could potentially cause issues.\n",
      "  warnings.warn(\n",
      "C:\\Users\\Francisco Sá\\AppData\\Roaming\\Python\\Python311\\site-packages\\torch\\nn\\modules\\transformer.py:382: UserWarning: enable_nested_tensor is True, but self.use_nested_tensor is False because encoder_layer.norm_first was True\n",
      "  warnings.warn(\n"
     ]
    },
    {
     "name": "stdout",
     "output_type": "stream",
     "text": [
      "obs shape: (40, 12)\n",
      "expected shape: (40, 12)\n",
      "[GOOGL] Seed 25166689 — training agent\n"
     ]
    },
    {
     "name": "stderr",
     "output_type": "stream",
     "text": [
      "C:\\Users\\Francisco Sá\\AppData\\Roaming\\Python\\Python311\\site-packages\\stable_baselines3\\common\\vec_env\\patch_gym.py:49: UserWarning: You provided an OpenAI Gym environment. We strongly recommend transitioning to Gymnasium environments. Stable-Baselines3 is automatically wrapping your environments in a compatibility layer, which could potentially cause issues.\n",
      "  warnings.warn(\n",
      "C:\\Users\\Francisco Sá\\AppData\\Roaming\\Python\\Python311\\site-packages\\torch\\nn\\modules\\transformer.py:382: UserWarning: enable_nested_tensor is True, but self.use_nested_tensor is False because encoder_layer.norm_first was True\n",
      "  warnings.warn(\n"
     ]
    },
    {
     "name": "stdout",
     "output_type": "stream",
     "text": [
      "obs shape: (40, 12)\n",
      "expected shape: (40, 12)\n",
      "x\n",
      "[GOOGL] Seed 66923877 — training agent\n"
     ]
    },
    {
     "name": "stderr",
     "output_type": "stream",
     "text": [
      "C:\\Users\\Francisco Sá\\AppData\\Roaming\\Python\\Python311\\site-packages\\stable_baselines3\\common\\vec_env\\patch_gym.py:49: UserWarning: You provided an OpenAI Gym environment. We strongly recommend transitioning to Gymnasium environments. Stable-Baselines3 is automatically wrapping your environments in a compatibility layer, which could potentially cause issues.\n",
      "  warnings.warn(\n",
      "C:\\Users\\Francisco Sá\\AppData\\Roaming\\Python\\Python311\\site-packages\\torch\\nn\\modules\\transformer.py:382: UserWarning: enable_nested_tensor is True, but self.use_nested_tensor is False because encoder_layer.norm_first was True\n",
      "  warnings.warn(\n"
     ]
    },
    {
     "name": "stdout",
     "output_type": "stream",
     "text": [
      "obs shape: (40, 12)\n",
      "expected shape: (40, 12)\n",
      "[GOOGL] Seed 203769678 — training agent\n"
     ]
    },
    {
     "name": "stderr",
     "output_type": "stream",
     "text": [
      "C:\\Users\\Francisco Sá\\AppData\\Roaming\\Python\\Python311\\site-packages\\stable_baselines3\\common\\vec_env\\patch_gym.py:49: UserWarning: You provided an OpenAI Gym environment. We strongly recommend transitioning to Gymnasium environments. Stable-Baselines3 is automatically wrapping your environments in a compatibility layer, which could potentially cause issues.\n",
      "  warnings.warn(\n",
      "C:\\Users\\Francisco Sá\\AppData\\Roaming\\Python\\Python311\\site-packages\\torch\\nn\\modules\\transformer.py:382: UserWarning: enable_nested_tensor is True, but self.use_nested_tensor is False because encoder_layer.norm_first was True\n",
      "  warnings.warn(\n"
     ]
    },
    {
     "name": "stdout",
     "output_type": "stream",
     "text": [
      "obs shape: (40, 12)\n",
      "expected shape: (40, 12)\n",
      "[GOOGL] Seed 118482530 — training agent\n"
     ]
    },
    {
     "name": "stderr",
     "output_type": "stream",
     "text": [
      "C:\\Users\\Francisco Sá\\AppData\\Roaming\\Python\\Python311\\site-packages\\stable_baselines3\\common\\vec_env\\patch_gym.py:49: UserWarning: You provided an OpenAI Gym environment. We strongly recommend transitioning to Gymnasium environments. Stable-Baselines3 is automatically wrapping your environments in a compatibility layer, which could potentially cause issues.\n",
      "  warnings.warn(\n",
      "C:\\Users\\Francisco Sá\\AppData\\Roaming\\Python\\Python311\\site-packages\\torch\\nn\\modules\\transformer.py:382: UserWarning: enable_nested_tensor is True, but self.use_nested_tensor is False because encoder_layer.norm_first was True\n",
      "  warnings.warn(\n"
     ]
    },
    {
     "name": "stdout",
     "output_type": "stream",
     "text": [
      "obs shape: (40, 12)\n",
      "expected shape: (40, 12)\n",
      "[GOOGL] Seed 135072239 — training agent\n"
     ]
    },
    {
     "name": "stderr",
     "output_type": "stream",
     "text": [
      "C:\\Users\\Francisco Sá\\AppData\\Roaming\\Python\\Python311\\site-packages\\stable_baselines3\\common\\vec_env\\patch_gym.py:49: UserWarning: You provided an OpenAI Gym environment. We strongly recommend transitioning to Gymnasium environments. Stable-Baselines3 is automatically wrapping your environments in a compatibility layer, which could potentially cause issues.\n",
      "  warnings.warn(\n",
      "C:\\Users\\Francisco Sá\\AppData\\Roaming\\Python\\Python311\\site-packages\\torch\\nn\\modules\\transformer.py:382: UserWarning: enable_nested_tensor is True, but self.use_nested_tensor is False because encoder_layer.norm_first was True\n",
      "  warnings.warn(\n"
     ]
    },
    {
     "name": "stdout",
     "output_type": "stream",
     "text": [
      "obs shape: (40, 12)\n",
      "expected shape: (40, 12)\n",
      "[GOOGL] Seed 25166689 — training agent\n"
     ]
    },
    {
     "name": "stderr",
     "output_type": "stream",
     "text": [
      "C:\\Users\\Francisco Sá\\AppData\\Roaming\\Python\\Python311\\site-packages\\stable_baselines3\\common\\vec_env\\patch_gym.py:49: UserWarning: You provided an OpenAI Gym environment. We strongly recommend transitioning to Gymnasium environments. Stable-Baselines3 is automatically wrapping your environments in a compatibility layer, which could potentially cause issues.\n",
      "  warnings.warn(\n",
      "C:\\Users\\Francisco Sá\\AppData\\Roaming\\Python\\Python311\\site-packages\\torch\\nn\\modules\\transformer.py:382: UserWarning: enable_nested_tensor is True, but self.use_nested_tensor is False because encoder_layer.norm_first was True\n",
      "  warnings.warn(\n"
     ]
    },
    {
     "name": "stdout",
     "output_type": "stream",
     "text": [
      "obs shape: (40, 12)\n",
      "expected shape: (40, 12)\n",
      "x\n",
      "[GOOGL] Seed 66923877 — training agent\n"
     ]
    },
    {
     "name": "stderr",
     "output_type": "stream",
     "text": [
      "C:\\Users\\Francisco Sá\\AppData\\Roaming\\Python\\Python311\\site-packages\\stable_baselines3\\common\\vec_env\\patch_gym.py:49: UserWarning: You provided an OpenAI Gym environment. We strongly recommend transitioning to Gymnasium environments. Stable-Baselines3 is automatically wrapping your environments in a compatibility layer, which could potentially cause issues.\n",
      "  warnings.warn(\n",
      "C:\\Users\\Francisco Sá\\AppData\\Roaming\\Python\\Python311\\site-packages\\torch\\nn\\modules\\transformer.py:382: UserWarning: enable_nested_tensor is True, but self.use_nested_tensor is False because encoder_layer.norm_first was True\n",
      "  warnings.warn(\n"
     ]
    },
    {
     "name": "stdout",
     "output_type": "stream",
     "text": [
      "obs shape: (40, 12)\n",
      "expected shape: (40, 12)\n",
      "[GOOGL] Seed 203769678 — training agent\n"
     ]
    },
    {
     "name": "stderr",
     "output_type": "stream",
     "text": [
      "C:\\Users\\Francisco Sá\\AppData\\Roaming\\Python\\Python311\\site-packages\\stable_baselines3\\common\\vec_env\\patch_gym.py:49: UserWarning: You provided an OpenAI Gym environment. We strongly recommend transitioning to Gymnasium environments. Stable-Baselines3 is automatically wrapping your environments in a compatibility layer, which could potentially cause issues.\n",
      "  warnings.warn(\n",
      "C:\\Users\\Francisco Sá\\AppData\\Roaming\\Python\\Python311\\site-packages\\torch\\nn\\modules\\transformer.py:382: UserWarning: enable_nested_tensor is True, but self.use_nested_tensor is False because encoder_layer.norm_first was True\n",
      "  warnings.warn(\n"
     ]
    },
    {
     "name": "stdout",
     "output_type": "stream",
     "text": [
      "obs shape: (40, 12)\n",
      "expected shape: (40, 12)\n",
      "[GOOGL] Seed 118482530 — training agent\n"
     ]
    },
    {
     "name": "stderr",
     "output_type": "stream",
     "text": [
      "C:\\Users\\Francisco Sá\\AppData\\Roaming\\Python\\Python311\\site-packages\\stable_baselines3\\common\\vec_env\\patch_gym.py:49: UserWarning: You provided an OpenAI Gym environment. We strongly recommend transitioning to Gymnasium environments. Stable-Baselines3 is automatically wrapping your environments in a compatibility layer, which could potentially cause issues.\n",
      "  warnings.warn(\n",
      "C:\\Users\\Francisco Sá\\AppData\\Roaming\\Python\\Python311\\site-packages\\torch\\nn\\modules\\transformer.py:382: UserWarning: enable_nested_tensor is True, but self.use_nested_tensor is False because encoder_layer.norm_first was True\n",
      "  warnings.warn(\n"
     ]
    }
   ],
   "source": [
    "run_walkforward_pipeline(walkforward_windows,TransformerPolicy, context_window=LOOKBACK)"
   ]
  },
  {
   "cell_type": "code",
   "execution_count": null,
   "id": "98a2c1e6",
   "metadata": {},
   "outputs": [],
   "source": []
  },
  {
   "cell_type": "code",
   "execution_count": null,
   "id": "dae8a22e",
   "metadata": {},
   "outputs": [],
   "source": []
  },
  {
   "cell_type": "code",
   "execution_count": null,
   "id": "0e5556e7",
   "metadata": {},
   "outputs": [],
   "source": []
  },
  {
   "cell_type": "code",
   "execution_count": null,
   "id": "84e071be",
   "metadata": {},
   "outputs": [],
   "source": [
    "test_df = walkforward_windows[0]['train_df']\n",
    "test_env = SequenceAwareNormAbsMoveEnv(test_df, context_window=40,\n",
    "                                                   episode_steps=20, seed=1)"
   ]
  },
  {
   "cell_type": "code",
   "execution_count": null,
   "id": "47155808",
   "metadata": {},
   "outputs": [],
   "source": [
    "test_env.reset().shape"
   ]
  },
  {
   "cell_type": "code",
   "execution_count": null,
   "id": "1cc48d47",
   "metadata": {},
   "outputs": [],
   "source": [
    "test_env.df.iloc[40]"
   ]
  },
  {
   "cell_type": "code",
   "execution_count": null,
   "id": "7e47868a",
   "metadata": {},
   "outputs": [],
   "source": []
  }
 ],
 "metadata": {
  "kernelspec": {
   "display_name": "Python 3 (ipykernel)",
   "language": "python",
   "name": "python3"
  },
  "language_info": {
   "codemirror_mode": {
    "name": "ipython",
    "version": 3
   },
   "file_extension": ".py",
   "mimetype": "text/x-python",
   "name": "python",
   "nbconvert_exporter": "python",
   "pygments_lexer": "ipython3",
   "version": "3.11.4"
  }
 },
 "nbformat": 4,
 "nbformat_minor": 5
}
