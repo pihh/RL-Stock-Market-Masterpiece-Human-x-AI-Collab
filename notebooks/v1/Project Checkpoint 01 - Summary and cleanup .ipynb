{
 "cells": [
  {
   "cell_type": "code",
   "execution_count": 1,
   "id": "cab993d7",
   "metadata": {},
   "outputs": [],
   "source": [
    "# SETUP ===================================\n",
    "import jupyter\n",
    "import warnings\n",
    "\n",
    "from src.utils.system import boot, Notify\n",
    "\n",
    "boot()\n",
    "warnings.filterwarnings(\"ignore\")\n",
    "\n",
    "\n",
    "\n",
    "# PACKAGES ================================\n",
    "import os\n",
    "import torch\n",
    "import joblib\n",
    "import numpy as np\n",
    "import pandas as pd\n",
    "import seaborn as sns\n",
    "import torch.nn as nn\n",
    "import gymnasium as gym\n",
    "import matplotlib.pyplot as plt\n",
    "\n",
    "from tqdm import tqdm\n",
    "from sklearn.preprocessing import  RobustScaler\n",
    "from IPython.display import display\n",
    "\n",
    "# FRAMEWORK STUFF =========================\n",
    "\n",
    "from src.data.feature_pipeline import load_base_dataframe\n",
    "from src.experiments.experiment_tracker import ExperimentTracker\n",
    "from src.env.base_trading_env import BaseTradingEnv,AlphaTradingEnv\n",
    "from src.env.base_timeseries_trading_env import BaseSequenceAwareTradingEnv,SequenceAwareAlphaTradingEnv,SequenceAwareBaselineTradingAgent,SequenceAwareCalmarTradingEnv,SequenceAwareCumulativeTradingEnv,SequenceAwareDrawdownTradingEnv,SequenceAwareHybridTradingEnv,SequenceAwareHybridTradingEnv,SequenceAwareSharpeTradingEnv,SequenceAwareSortinoTradingEnv\n",
    "from src.utils.db import ConfigurableMixin\n",
    "\n"
   ]
  },
  {
   "cell_type": "code",
   "execution_count": null,
   "id": "62ee76f4",
   "metadata": {},
   "outputs": [],
   "source": []
  },
  {
   "cell_type": "code",
   "execution_count": 2,
   "id": "5cc64c61",
   "metadata": {},
   "outputs": [],
   "source": [
    "class BaseModel(ConfigurableMixin):\n",
    "    def __init__(self, config, db_conn=None):\n",
    "        self.config = config\n",
    "        self.db_id = None\n",
    "        if db_conn is not None:\n",
    "            self.db_id = register_model(\n",
    "                db_conn,\n",
    "                model_type=self.__class__.__name__,\n",
    "                path=str(self.__module__),\n",
    "                config=self.config\n",
    "            )"
   ]
  },
  {
   "cell_type": "code",
   "execution_count": 3,
   "id": "89d865e5",
   "metadata": {},
   "outputs": [],
   "source": [
    "ohlcv_df = load_base_dataframe()"
   ]
  },
  {
   "cell_type": "code",
   "execution_count": 4,
   "id": "e1669d48",
   "metadata": {},
   "outputs": [
    {
     "name": "stdout",
     "output_type": "stream",
     "text": [
      "6\n"
     ]
    },
    {
     "data": {
      "text/plain": [
       "<sqlite3.Connection at 0x21bc59d2c50>"
      ]
     },
     "execution_count": 4,
     "metadata": {},
     "output_type": "execute_result"
    }
   ],
   "source": [
    "e = AlphaTradingEnv(ohlcv_df)\n",
    "e.conn"
   ]
  },
  {
   "cell_type": "code",
   "execution_count": 5,
   "id": "40340b36",
   "metadata": {},
   "outputs": [],
   "source": [
    "# Connect to DB (use timeout if needed)\n",
    "#conn = sqlite3.connect('../rl_trading.db', timeout=5)\n",
    "\n",
    "# Example config for environment and model\n",
    "#env_config = {\"window\": 24, \"feature_set\": [\"return_1d\", \"volume\"], \"normalize\": True}\n",
    "#model_config = {\"model\": \"RecurrentPPO\", \"layers\": [128, 64], \"gamma\": 0.99, \"seed\": 314}\n",
    "\n",
    "# Register and get DB IDs\n",
    "#env_id = register_environment(conn, \"CumulativeTradingEnv\", \"/src/envs/cum_trading_env.py\", env_config, version=\"1.0\")\n",
    "#model_id = register_model(conn, \"RecurrentPPO\", \"/src/models/recurrent_ppo.py\", model_config, version=\"2.1\")\n",
    "\n",
    "#print(f\"Env DB ID: {env_id}, Model DB ID: {model_id}\")"
   ]
  },
  {
   "cell_type": "code",
   "execution_count": 6,
   "id": "784a12bd",
   "metadata": {},
   "outputs": [
    {
     "data": {
      "text/plain": [
       "<src.env.base_trading_env.AlphaTradingEnv at 0x21bc59dc790>"
      ]
     },
     "execution_count": 6,
     "metadata": {},
     "output_type": "execute_result"
    }
   ],
   "source": [
    "e#.register_environment(name=e.__class__.__name__,config=e.config)"
   ]
  },
  {
   "cell_type": "code",
   "execution_count": 7,
   "id": "0587ce4f",
   "metadata": {},
   "outputs": [],
   "source": [
    "#e.config"
   ]
  },
  {
   "cell_type": "code",
   "execution_count": 8,
   "id": "551174ca",
   "metadata": {},
   "outputs": [
    {
     "name": "stdout",
     "output_type": "stream",
     "text": [
      "4\n"
     ]
    },
    {
     "data": {
      "text/plain": [
       "(       id symbol           timestamp       date     open      high       low  \\\n",
       " 0   33925   AAPL 2024-01-03 05:00:00 2024-01-03  184.220  185.8800  183.4300   \n",
       " 1   33926   AAPL 2024-01-04 05:00:00 2024-01-04  182.150  183.0872  180.8800   \n",
       " 2   33927   AAPL 2024-01-05 05:00:00 2024-01-05  181.990  182.7600  180.1700   \n",
       " 3   33928   AAPL 2024-01-08 05:00:00 2024-01-08  182.085  185.6000  181.5000   \n",
       " 4   33929   AAPL 2024-01-09 05:00:00 2024-01-09  183.920  185.1500  182.7300   \n",
       " ..    ...    ...                 ...        ...      ...       ...       ...   \n",
       " 95  34020   AAPL 2024-05-20 04:00:00 2024-05-20  189.325  191.9199  189.0100   \n",
       " 96  34021   AAPL 2024-05-21 04:00:00 2024-05-21  191.090  192.7300  190.9201   \n",
       " 97  34022   AAPL 2024-05-22 04:00:00 2024-05-22  192.265  192.8231  190.2700   \n",
       " 98  34023   AAPL 2024-05-23 04:00:00 2024-05-23  190.980  191.0000  186.6250   \n",
       " 99  34024   AAPL 2024-05-24 04:00:00 2024-05-24  188.820  190.5800  188.0404   \n",
       " \n",
       "      close      volume  trade_count  ...  vwap_change  trade_count_change  \\\n",
       " 0   184.25  58418916.0     656956.0  ...    -0.008214           -0.348952   \n",
       " 1   181.91  71992243.0     712850.0  ...    -0.012514            0.085080   \n",
       " 2   181.18  62379661.0     682335.0  ...    -0.002907           -0.042807   \n",
       " 3   185.56  59151720.0     669304.0  ...     0.016073           -0.019098   \n",
       " 4   185.14  42848219.0     538297.0  ...    -0.000199           -0.195736   \n",
       " ..     ...         ...          ...  ...          ...                 ...   \n",
       " 95  191.04  44361275.0     566908.0  ...     0.006051            0.185521   \n",
       " 96  192.35  42309401.0     502788.0  ...     0.006120           -0.113105   \n",
       " 97  190.90  34648547.0     452377.0  ...    -0.004211           -0.100263   \n",
       " 98  186.88  51005924.0     574010.0  ...    -0.016782            0.268875   \n",
       " 99  189.98  36326975.0     492870.0  ...     0.007921           -0.141356   \n",
       " \n",
       "     sector_id  industry_id  return_1d     vix  vix_norm    sp500  sp500_norm  \\\n",
       " 0        10.0      unknown  -0.007488  0.1404  0.063636  47.0481   -0.008016   \n",
       " 1        10.0      unknown  -0.012700  0.1413  0.006410  46.8868   -0.003428   \n",
       " 2        10.0      unknown  -0.004013  0.1335 -0.055202  46.9724    0.001826   \n",
       " 3        10.0      unknown   0.024175  0.1308 -0.020225  47.6354    0.014115   \n",
       " 4        10.0      unknown  -0.002263  0.1276 -0.024465  47.5650   -0.001478   \n",
       " ..        ...          ...        ...     ...       ...      ...         ...   \n",
       " 95       10.0      unknown   0.006162  0.1215  0.013344  53.0813    0.000916   \n",
       " 96       10.0      unknown   0.006857  0.1186 -0.023868  53.2141    0.002502   \n",
       " 97       10.0      unknown  -0.007538  0.1229  0.036256  53.0701   -0.002706   \n",
       " 98       10.0      unknown  -0.021058  0.1277  0.039056  52.6784   -0.007381   \n",
       " 99       10.0      unknown   0.016588  0.1193 -0.065779  53.0472    0.007001   \n",
       " \n",
       "     market_return_1d  \n",
       " 0          -0.008016  \n",
       " 1          -0.003428  \n",
       " 2           0.001826  \n",
       " 3           0.014115  \n",
       " 4          -0.001478  \n",
       " ..               ...  \n",
       " 95          0.000916  \n",
       " 96          0.002502  \n",
       " 97         -0.002706  \n",
       " 98         -0.007381  \n",
       " 99          0.007001  \n",
       " \n",
       " [100 rows x 34 columns],\n",
       " 501)"
      ]
     },
     "execution_count": 8,
     "metadata": {},
     "output_type": "execute_result"
    }
   ],
   "source": [
    "e.get_episode_by_start_date('AAPL','2024-01-03')"
   ]
  },
  {
   "cell_type": "code",
   "execution_count": 9,
   "id": "95d1da90",
   "metadata": {},
   "outputs": [],
   "source": [
    "from sklearn.ensemble import RandomForestRegressor\n",
    "from sklearn.linear_model import LinearRegression\n",
    "from sklearn.preprocessing import StandardScaler, RobustScaler"
   ]
  },
  {
   "cell_type": "code",
   "execution_count": 10,
   "id": "13b2f835",
   "metadata": {},
   "outputs": [
    {
     "data": {
      "text/plain": [
       "'str'"
      ]
     },
     "execution_count": 10,
     "metadata": {},
     "output_type": "execute_result"
    }
   ],
   "source": [
    "LinearRegression.__module__.__class__.__name__"
   ]
  },
  {
   "cell_type": "code",
   "execution_count": 11,
   "id": "a8a8098b",
   "metadata": {},
   "outputs": [],
   "source": [
    "\n",
    "from sb3_contrib import RecurrentPPO\n",
    "from stable_baselines3.common.torch_layers import BaseFeaturesExtractor\n",
    "from stable_baselines3.common.policies import ActorCriticPolicy\n",
    "from stable_baselines3.common.callbacks import EvalCallback, CheckpointCallback\n",
    "from sb3_contrib.common.recurrent.policies import RecurrentActorCriticPolicy"
   ]
  },
  {
   "cell_type": "code",
   "execution_count": 12,
   "id": "0f7d5ff7",
   "metadata": {},
   "outputs": [
    {
     "data": {
      "text/plain": [
       "'RandomForestRegressor'"
      ]
     },
     "execution_count": 12,
     "metadata": {},
     "output_type": "execute_result"
    }
   ],
   "source": [
    "RandomForestRegressor.__name__        "
   ]
  },
  {
   "cell_type": "code",
   "execution_count": 13,
   "id": "f12b11d1",
   "metadata": {},
   "outputs": [
    {
     "name": "stdout",
     "output_type": "stream",
     "text": [
      "Date 2024-01-01 not found, using next trading date: 2024-01-02\n",
      "1\n"
     ]
    },
    {
     "data": {
      "text/plain": [
       "(       id symbol           timestamp       date     open      high       low  \\\n",
       " 0   33924   AAPL 2024-01-02 05:00:00 2024-01-02  187.150  188.4400  183.8850   \n",
       " 1   33925   AAPL 2024-01-03 05:00:00 2024-01-03  184.220  185.8800  183.4300   \n",
       " 2   33926   AAPL 2024-01-04 05:00:00 2024-01-04  182.150  183.0872  180.8800   \n",
       " 3   33927   AAPL 2024-01-05 05:00:00 2024-01-05  181.990  182.7600  180.1700   \n",
       " 4   33928   AAPL 2024-01-08 05:00:00 2024-01-08  182.085  185.6000  181.5000   \n",
       " ..    ...    ...                 ...        ...      ...       ...       ...   \n",
       " 95  34019   AAPL 2024-05-17 04:00:00 2024-05-17  189.510  190.8100  189.1800   \n",
       " 96  34020   AAPL 2024-05-20 04:00:00 2024-05-20  189.325  191.9199  189.0100   \n",
       " 97  34021   AAPL 2024-05-21 04:00:00 2024-05-21  191.090  192.7300  190.9201   \n",
       " 98  34022   AAPL 2024-05-22 04:00:00 2024-05-22  192.265  192.8231  190.2700   \n",
       " 99  34023   AAPL 2024-05-23 04:00:00 2024-05-23  190.980  191.0000  186.6250   \n",
       " \n",
       "      close      volume  trade_count  ...  vwap_change  trade_count_change  \\\n",
       " 0   185.64  82496943.0    1009074.0  ...    -0.034951            0.981985   \n",
       " 1   184.25  58418916.0     656956.0  ...    -0.008214           -0.348952   \n",
       " 2   181.91  71992243.0     712850.0  ...    -0.012514            0.085080   \n",
       " 3   181.18  62379661.0     682335.0  ...    -0.002907           -0.042807   \n",
       " 4   185.56  59151720.0     669304.0  ...     0.016073           -0.019098   \n",
       " ..     ...         ...          ...  ...          ...                 ...   \n",
       " 95  189.87  41282925.0     478193.0  ...    -0.001046           -0.156553   \n",
       " 96  191.04  44361275.0     566908.0  ...     0.006051            0.185521   \n",
       " 97  192.35  42309401.0     502788.0  ...     0.006120           -0.113105   \n",
       " 98  190.90  34648547.0     452377.0  ...    -0.004211           -0.100263   \n",
       " 99  186.88  51005924.0     574010.0  ...    -0.016782            0.268875   \n",
       " \n",
       "     sector_id  industry_id  return_1d     vix  vix_norm    sp500  sp500_norm  \\\n",
       " 0        10.0      unknown  -0.035787  0.1320  0.060241  47.4283   -0.005661   \n",
       " 1        10.0      unknown  -0.007488  0.1404  0.063636  47.0481   -0.008016   \n",
       " 2        10.0      unknown  -0.012700  0.1413  0.006410  46.8868   -0.003428   \n",
       " 3        10.0      unknown  -0.004013  0.1335 -0.055202  46.9724    0.001826   \n",
       " 4        10.0      unknown   0.024175  0.1308 -0.020225  47.6354    0.014115   \n",
       " ..        ...          ...        ...     ...       ...      ...         ...   \n",
       " 95       10.0      unknown   0.000158  0.1199 -0.034622  53.0327    0.001165   \n",
       " 96       10.0      unknown   0.006162  0.1215  0.013344  53.0813    0.000916   \n",
       " 97       10.0      unknown   0.006857  0.1186 -0.023868  53.2141    0.002502   \n",
       " 98       10.0      unknown  -0.007538  0.1229  0.036256  53.0701   -0.002706   \n",
       " 99       10.0      unknown  -0.021058  0.1277  0.039056  52.6784   -0.007381   \n",
       " \n",
       "     market_return_1d  \n",
       " 0          -0.005661  \n",
       " 1          -0.008016  \n",
       " 2          -0.003428  \n",
       " 3           0.001826  \n",
       " 4           0.014115  \n",
       " ..               ...  \n",
       " 95          0.001165  \n",
       " 96          0.000916  \n",
       " 97          0.002502  \n",
       " 98         -0.002706  \n",
       " 99         -0.007381  \n",
       " \n",
       " [100 rows x 34 columns],\n",
       " 500)"
      ]
     },
     "execution_count": 13,
     "metadata": {},
     "output_type": "execute_result"
    }
   ],
   "source": [
    "e.get_episode_by_start_date('AAPL','2024-01-01')"
   ]
  },
  {
   "cell_type": "code",
   "execution_count": 14,
   "id": "07eca31d",
   "metadata": {},
   "outputs": [
    {
     "ename": "AttributeError",
     "evalue": "'BaseSequenceAwareTradingEnv' object has no attribute 'conn'",
     "output_type": "error",
     "traceback": [
      "\u001b[1;31m---------------------------------------------------------------------------\u001b[0m",
      "\u001b[1;31mAttributeError\u001b[0m                            Traceback (most recent call last)",
      "Cell \u001b[1;32mIn[14], line 1\u001b[0m\n\u001b[1;32m----> 1\u001b[0m e \u001b[38;5;241m=\u001b[39m BaseSequenceAwareTradingEnv(ohlcv_df)\n",
      "File \u001b[1;32m~\\Dev\\RL-Stock-Market-Masterpiece-Human-x-AI-Collab\\src\\env\\base_timeseries_trading_env.py:70\u001b[0m, in \u001b[0;36mBaseSequenceAwareTradingEnv.__init__\u001b[1;34m(self, df, feature_cols, reward_fn, internal_features, episode_length, transaction_cost, seed, window_length, return_sequences, **kwargs)\u001b[0m\n\u001b[0;32m     67\u001b[0m \u001b[38;5;28mself\u001b[39m\u001b[38;5;241m.\u001b[39mconfig[\u001b[38;5;124m\"\u001b[39m\u001b[38;5;124mreturn_sequences\u001b[39m\u001b[38;5;124m\"\u001b[39m] \u001b[38;5;241m=\u001b[39m return_sequences\n\u001b[0;32m     68\u001b[0m \u001b[38;5;28mself\u001b[39m\u001b[38;5;241m.\u001b[39mconfig\u001b[38;5;241m.\u001b[39mupdate(kwargs)\n\u001b[1;32m---> 70\u001b[0m \u001b[38;5;28;01mif\u001b[39;00m \u001b[38;5;28mself\u001b[39m\u001b[38;5;241m.\u001b[39mconn:\n\u001b[0;32m     71\u001b[0m     \u001b[38;5;28mself\u001b[39m\u001b[38;5;241m.\u001b[39mdb_id \u001b[38;5;241m=\u001b[39m \u001b[38;5;28mself\u001b[39m\u001b[38;5;241m.\u001b[39mregister_environment(\n\u001b[0;32m     72\u001b[0m         name\u001b[38;5;241m=\u001b[39m\u001b[38;5;28mself\u001b[39m\u001b[38;5;241m.\u001b[39m\u001b[38;5;18m__class__\u001b[39m\u001b[38;5;241m.\u001b[39m\u001b[38;5;18m__name__\u001b[39m,\n\u001b[0;32m     73\u001b[0m         path\u001b[38;5;241m=\u001b[39minspect\u001b[38;5;241m.\u001b[39mgetfile(\u001b[38;5;28mself\u001b[39m\u001b[38;5;241m.\u001b[39m\u001b[38;5;18m__class__\u001b[39m),\n\u001b[0;32m     74\u001b[0m         config\u001b[38;5;241m=\u001b[39m\u001b[38;5;28mself\u001b[39m\u001b[38;5;241m.\u001b[39mconfig\n\u001b[0;32m     75\u001b[0m     )\n\u001b[0;32m     76\u001b[0m     \u001b[38;5;28mprint\u001b[39m(\u001b[38;5;28mself\u001b[39m\u001b[38;5;241m.\u001b[39mdb_id)\n",
      "\u001b[1;31mAttributeError\u001b[0m: 'BaseSequenceAwareTradingEnv' object has no attribute 'conn'"
     ]
    }
   ],
   "source": [
    "e = BaseSequenceAwareTradingEnv(ohlcv_df)"
   ]
  },
  {
   "cell_type": "code",
   "execution_count": null,
   "id": "bbcc6b13",
   "metadata": {},
   "outputs": [],
   "source": [
    "e.get_episode_by_start_date('AAPL','2024-01-03')"
   ]
  }
 ],
 "metadata": {
  "kernelspec": {
   "display_name": "Python 3 (ipykernel)",
   "language": "python",
   "name": "python3"
  },
  "language_info": {
   "codemirror_mode": {
    "name": "ipython",
    "version": 3
   },
   "file_extension": ".py",
   "mimetype": "text/x-python",
   "name": "python",
   "nbconvert_exporter": "python",
   "pygments_lexer": "ipython3",
   "version": "3.11.4"
  }
 },
 "nbformat": 4,
 "nbformat_minor": 5
}
