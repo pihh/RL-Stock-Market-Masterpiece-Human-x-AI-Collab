{
 "cells": [
  {
   "cell_type": "markdown",
   "id": "33beca1f",
   "metadata": {},
   "source": [
    "# Meta-RL Predictability Study: Stock-Month Advantage Classifier\n",
    "\n",
    "## Objective\n",
    "\n",
    "Identify and classify stock-month environments where a reinforcement learning (RL) agent (PPO) outperforms a random strategy. These environments are considered \"predictable\" or advantageous for training trading agents.\n",
    "\n",
    "---\n",
    "\n",
    "## Dataset\n",
    "\n",
    "* **Source:** Cleaned OHLCV data (daily resolution)\n",
    "* **Date range:** 2022-01-01 to 2023-01-01\n",
    "* **Universe:** Top US equities (e.g., AAPL, MSFT, JPM, AMZN, TSLA, etc.)\n",
    "* **Exclusions:** Tickers with missing or corrupted data\n",
    "\n",
    "---\n",
    "\n",
    "##  Meta-Feature Engineering\n",
    "\n",
    "For each stock-month pair (symbol, month):\n",
    "\n",
    "1. **Return Distribution** from month *t*:\n",
    "\n",
    "   * Mean Return\n",
    "   * Std Return\n",
    "   * Skewness\n",
    "   * Kurtosis\n",
    "   * Shannon Entropy (10-bin histogram)\n",
    "\n",
    "2. **Volume Features**:\n",
    "\n",
    "   * Mean Volume\n",
    "   * Std Volume\n",
    "\n",
    "3. **Residual Diagnostics (month t+1)**:\n",
    "\n",
    "   * Fit `RandomForestRegressor` on lagged returns (lags=5)\n",
    "   * Compute residuals: `actual - predicted`\n",
    "   * Ljung-Box p-value (autocorrelation)\n",
    "   * Residual ACF(1)\n",
    "   * Residual Std, Skew, Kurtosis\n",
    "\n",
    "4. **Rolling R² (CV)**\n",
    "\n",
    "   * Use 3-fold cross-validation on the same model\n",
    "   * Target: `cv_r2` as a proxy for local predictability\n",
    "\n",
    "---\n",
    "\n",
    "## Meta-RL Labeling Pipeline\n",
    "\n",
    "1. **Custom Gym Environment**: `CumulativeTradingEnv`\n",
    "2. **Per stock-month**:\n",
    "\n",
    "   * Train PPO agent (stable-baselines3)\n",
    "   * Evaluate cumulative reward\n",
    "   * Compare against baseline (random policy)\n",
    "   * Compute:\n",
    "\n",
    "     * `agent_reward`, `random_reward`\n",
    "     * `advantage = agent_reward - random_reward`\n",
    "     * Other metrics: `sharpe`, `alpha`, `cumulative_return`\n",
    "3. **Label Definition**:\n",
    "\n",
    "   * Binary target: `1` if advantage > 0 else `0`\n",
    "\n",
    "---\n",
    "\n",
    "## Final Feature Set\n",
    "\n",
    "```\n",
    "['mean_return', 'std_return', 'skew', 'kurtosis', 'entropy',\n",
    " 'vol_mean', 'vol_std',\n",
    " 'ljung_pval', 'resid_acf1', 'resid_std', 'resid_skew', 'resid_kurtosis',\n",
    " 'sharpe', 'cum_return', 'alpha']\n",
    "```\n",
    "\n",
    "---\n",
    "\n",
    "## Classifier Results\n",
    "\n",
    "**Model**: `RandomForestClassifier(n_estimators=200, class_weight=\"balanced\")`\n",
    "\n",
    "**Train/Test Split**: 80/20 (Stratified)\n",
    "\n",
    "### Classification Report:\n",
    "\n",
    "```\n",
    "              precision    recall  f1-score   support\n",
    "\n",
    "           0       0.84      0.95      0.89       420\n",
    "           1       0.97      0.89      0.93       675\n",
    "\n",
    "    accuracy                           0.91      1095\n",
    "   macro avg       0.91      0.92      0.91      1095\n",
    "weighted avg       0.92      0.91      0.91      1095\n",
    "```\n",
    "\n",
    "### Confusion Matrix:\n",
    "\n",
    "```\n",
    "[[400  20]\n",
    " [ 74 601]]\n",
    "```\n",
    "\n",
    "---\n",
    "\n",
    "## Interpretation\n",
    "\n",
    "* High overall accuracy (91%) and balanced class performance\n",
    "* The model is especially good at predicting when RL **will** work (class 1)\n",
    "* A powerful tool for **pre-filtering environments** before launching full RL training\n",
    "\n",
    "---\n",
    "\n",
    "## Next Steps\n",
    "\n",
    "* ✅ Feature importance (SHAP, permutation)\n",
    "* ✅ Add volatility-based meta-features (GARCH, Hurst exponent)\n",
    "* ✅ Try ranking models: `A > B` if `adv_A > adv_B`\n",
    "* ✅ Out-of-time validation on 2023+ data\n",
    "* ✅ Use this model to control which environments enter RL portfolios\n",
    "\n",
    "---\n",
    "\n",
    "## Files\n",
    "\n",
    "* `features_<EXPERIENCE_NAME>.pkl`: Engineered features\n",
    "* `targets_<EXPERIENCE_NAME>.pkl`: CV R² scores\n",
    "* `meta_rl_labels_<EXPERIENCE_NAME>.pkl`: Advantage labeling\n",
    "\n",
    "---\n",
    "\n",
    "## Requirements\n",
    "\n",
    "* `scikit-learn`\n",
    "* `statsmodels`\n",
    "* `stable-baselines3`\n",
    "* `gymnasium`\n",
    "* `pandas`, `numpy`, `joblib`\n",
    "\n",
    "---\n",
    "\n",
    "## Authors\n",
    "\n",
    "* Filipe Mota de Sá @ github.io/pihh\n",
    "* ChatGPT (OpenAI)\n",
    "\n",
    "---\n",
    "\n",
    "*\"Not all environments are created equal. Filter wisely.\"*\n"
   ]
  },
  {
   "cell_type": "code",
   "execution_count": 1,
   "id": "cab993d7",
   "metadata": {},
   "outputs": [
    {
     "name": "stderr",
     "output_type": "stream",
     "text": [
      "C:\\Users\\Francisco Sá\\AppData\\Roaming\\Python\\Python311\\site-packages\\pandas\\core\\arrays\\masked.py:61: UserWarning: Pandas requires version '1.3.6' or newer of 'bottleneck' (version '1.3.5' currently installed).\n",
      "  from pandas.core import (\n"
     ]
    }
   ],
   "source": [
    "# SETUP: Imports & Paths ===========================\n",
    "import jupyter\n",
    "from src.utils.system import boot, Notify\n",
    "\n",
    "boot()\n",
    "import os\n",
    "import joblib\n",
    "import numpy as np\n",
    "import pandas as pd\n",
    "import seaborn as sns\n",
    "import matplotlib.pyplot as plt\n",
    "\n",
    "\n",
    "from tqdm import tqdm\n",
    "\n",
    "from src.data.feature_pipeline import basic_chart_features,load_base_dataframe\n",
    "from src.predictability.easiness import rolling_sharpe, rolling_r2, rolling_info_ratio, rolling_autocorr\n",
    "from src.predictability.pipeline import generate_universe_easiness_report\n",
    "from IPython import display\n",
    "\n",
    "from src.experiments.experiment_tracker import ExperimentTracker\n",
    "from src.config import TOP2_STOCK_BY_SECTOR\n",
    "\n",
    "\n",
    "from sklearn.ensemble import RandomForestRegressor\n",
    "from sklearn.linear_model import LinearRegression\n",
    "from sklearn.preprocessing import StandardScaler, RobustScaler\n",
    "from sklearn.metrics import r2_score\n",
    "from sklearn.model_selection import cross_val_score\n",
    "from scipy.stats import skew, kurtosis, entropy\n",
    "from statsmodels.stats.diagnostic import acorr_ljungbox\n",
    "from statsmodels.tsa.stattools import acf, acovf\n",
    "\n",
    "\n",
    "import warnings\n",
    "warnings.filterwarnings(\"ignore\")\n"
   ]
  },
  {
   "cell_type": "code",
   "execution_count": 42,
   "id": "955d6b1e",
   "metadata": {},
   "outputs": [],
   "source": [
    "\n",
    "EXPERIENCE_NAME = \"stock_universe_predictability_selection__MetaFeatures__MetaRlLabeling\"\n",
    "FEATURES_PATH = f\"../data/cache/features_{EXPERIENCE_NAME}.pkl\"\n",
    "TARGETS_PATH = f\"../data/cache/targets_{EXPERIENCE_NAME}.pkl\"\n",
    "META_PATH = f\"../data/cache/meta_{EXPERIENCE_NAME}.pkl\"\n",
    "\n",
    "excluded_tickers=['CEG', 'GEHC', 'GEV', 'KVUE', 'SOLV']\n",
    "excluded_tickers.sort()\n",
    "#tickers = TOP2_STOCK_BY_SECTOR\n",
    "\n",
    "config={\n",
    "    \"regressor\":\"RandomForestRegressor\",\n",
    "    \"n_estimators\": 200,\n",
    "    \"random_state\":314,\n",
    "    \"transaction_cost\":0\n",
    "}\n",
    "run_settings={\n",
    "    \"excluded_tickers\": excluded_tickers,\n",
    "    \"min_samples\": 10,\n",
    "    \"cv_folds\": 3,\n",
    "    \"lags\": 5,\n",
    "    \"start_date\":\"2022-01-01\",\n",
    "    \"end_date\":\"2025-01-01\",\n",
    "    \"seed\":314,\n",
    "    \"episode_length\":18,\n",
    "    \"noise_feature_cols\": [\"return_1d\", \"volume\"]  ,\n",
    "\n",
    "    \"train_steps\": 300,\n",
    "    \"min_ep_len\" : 18\n",
    "}\n",
    "\n",
    "# Config section\n"
   ]
  },
  {
   "cell_type": "code",
   "execution_count": null,
   "id": "29bd2209",
   "metadata": {},
   "outputs": [],
   "source": []
  },
  {
   "cell_type": "code",
   "execution_count": 3,
   "id": "1b684e8f",
   "metadata": {},
   "outputs": [],
   "source": [
    "# LOAD OHLCV ==========================================\n",
    "\n",
    "\n",
    "ohlcv_df = load_base_dataframe()\n",
    "ohlcv_df['date'] = pd.to_datetime(ohlcv_df['date'])\n",
    "ohlcv_df = ohlcv_df[(ohlcv_df['date'] >= run_settings[\"start_date\"]) & (ohlcv_df['date'] < run_settings[\"end_date\"])]\n",
    "ohlcv_df['month'] = ohlcv_df['date'].dt.to_period('M')\n",
    "ohlcv_df['return_1d'] = ohlcv_df['return_1d'].fillna(0)\n",
    "ohlcv_df['sector_id'] = ohlcv_df['sector_id'].fillna('unknown')\n",
    "ohlcv_df['industry_id'] = ohlcv_df['industry_id'].fillna('unknown')"
   ]
  },
  {
   "cell_type": "code",
   "execution_count": 32,
   "id": "d29e9b2a",
   "metadata": {},
   "outputs": [
    {
     "name": "stderr",
     "output_type": "stream",
     "text": [
      "100%|██████████| 499/499 [2:58:40<00:00, 21.48s/it]  \n"
     ]
    },
    {
     "name": "stdout",
     "output_type": "stream",
     "text": [
      "Feature/target/meta lists saved.\n"
     ]
    }
   ],
   "source": [
    "# Meta-feature & Label Extraction =======================\n",
    "\n",
    "tickers = ohlcv_df['symbol'].unique()\n",
    "tickers = tickers[~np.isin(tickers, excluded_tickers)]\n",
    "def mean_policy(arr):\n",
    "    # return np.median(arr)\n",
    "    return pd.Series(arr).ewm(span=5).mean().iloc[-1]\n",
    "\n",
    "# Attempt to load if already exists (resumability)\n",
    "if all([os.path.exists(path) for path in [FEATURES_PATH, TARGETS_PATH, META_PATH]]):\n",
    "    features = joblib.load(FEATURES_PATH)\n",
    "    targets = joblib.load(TARGETS_PATH)\n",
    "    metadata = joblib.load(META_PATH)\n",
    "    print(\"Loaded cached feature/target/meta lists.\")\n",
    "    \n",
    "else:\n",
    "    features, targets, metadata = [], [], []\n",
    "    #tickers = ohlcv_df['symbol'].unique()\n",
    "    #tickers = [t for t in tickers if t not in run_settings[\"excluded_tickers\"]]\n",
    "    for symbol in tqdm(tickers):\n",
    "        df = ohlcv_df[ohlcv_df['symbol'] == symbol].sort_values('date').copy()\n",
    "        months = df['month'].unique()\n",
    "        for i in range(1, len(months)):\n",
    "            m_t = months[i-1]\n",
    "            m_t1 = months[i]\n",
    "            df_t = df[df['month'] == m_t]\n",
    "            df_t1 = df[df['month'] == m_t1]\n",
    "            if len(df_t1) < run_settings[\"min_samples\"]:\n",
    "                continue\n",
    "            r1d = df_t['return_1d'].astype(float).values\n",
    "            v = df_t['volume'].astype(float).values\n",
    "            feat = {\n",
    "                'symbol': symbol,\n",
    "                'month_str': str(m_t),\n",
    "                'mean_return': mean_policy(r1d),\n",
    "                'std_return': r1d.std(),\n",
    "                'skew': skew(r1d),\n",
    "                'kurtosis': kurtosis(r1d),\n",
    "                'entropy': entropy(np.histogram(r1d, bins=10, density=True)[0] + 1e-8),\n",
    "                'vol_mean': mean_policy(v),\n",
    "                'vol_std': v.std()\n",
    "            }\n",
    "            # Residual diagnostics from simple RF on t+1\n",
    "            df_lag = df_t1.copy()\n",
    "            for lag in range(1, run_settings['lags'] + 1):\n",
    "                df_lag[f'return_lag_{lag}'] = df_lag['return_1d'].shift(lag)\n",
    "            df_lag = df_lag.dropna()\n",
    "            if len(df_lag) < run_settings[\"min_samples\"]:\n",
    "                continue\n",
    "            X = df_lag[[f'return_lag_{i}' for i in range(1, run_settings['lags'] + 1)]].values\n",
    "            y = df_lag['return_1d'].values\n",
    "            model = RandomForestRegressor(n_estimators=config['n_estimators'], random_state=config['random_state'])\n",
    "            model.fit(X, y)\n",
    "            residuals = y - model.predict(X)\n",
    "            # Meta-diagnostics\n",
    "            ljung_pval = acorr_ljungbox(residuals, lags=[run_settings['lags']], return_df=True).iloc[0]['lb_pvalue']\n",
    "            feat['ljung_pval'] = ljung_pval\n",
    "            feat['resid_acf1'] = pd.Series(residuals).autocorr(lag=1)\n",
    "            feat['resid_std'] = residuals.std()\n",
    "            feat['resid_skew'] = skew(residuals)\n",
    "            feat['resid_kurtosis'] = kurtosis(residuals)\n",
    "            # Predictability label (cross-val R²)\n",
    "            cv_r2 = mean_policy(cross_val_score(model, X, y, cv=run_settings[\"cv_folds\"], scoring='r2'))\n",
    "            features.append(feat)\n",
    "            targets.append(cv_r2)\n",
    "            metadata.append((symbol, str(m_t)))\n",
    "    # Save for future resumes\n",
    "    joblib.dump(features, FEATURES_PATH)\n",
    "    joblib.dump(targets, TARGETS_PATH)\n",
    "    joblib.dump(metadata, META_PATH)\n",
    "    print(\"Feature/target/meta lists saved.\")\n"
   ]
  },
  {
   "cell_type": "code",
   "execution_count": 33,
   "id": "14ce9940",
   "metadata": {},
   "outputs": [],
   "source": [
    "# DataFrame Construction  ============================\n",
    "X_df = pd.DataFrame(features)\n",
    "y_df = pd.Series(targets, name='cv_r2')\n",
    "meta_df = pd.DataFrame(metadata, columns=['symbol', 'month'])"
   ]
  },
  {
   "cell_type": "code",
   "execution_count": 34,
   "id": "da34a884",
   "metadata": {},
   "outputs": [],
   "source": [
    "# Scaling & Preparation ==============================\n",
    "\n",
    "X = X_df.drop(columns=['symbol', 'month_str'])\n",
    "scaler = RobustScaler()\n",
    "X_scaled = scaler.fit_transform(X)"
   ]
  },
  {
   "cell_type": "code",
   "execution_count": 35,
   "id": "4c51c313",
   "metadata": {},
   "outputs": [
    {
     "data": {
      "text/html": [
       "<div>\n",
       "<style scoped>\n",
       "    .dataframe tbody tr th:only-of-type {\n",
       "        vertical-align: middle;\n",
       "    }\n",
       "\n",
       "    .dataframe tbody tr th {\n",
       "        vertical-align: top;\n",
       "    }\n",
       "\n",
       "    .dataframe thead th {\n",
       "        text-align: right;\n",
       "    }\n",
       "</style>\n",
       "<table border=\"1\" class=\"dataframe\">\n",
       "  <thead>\n",
       "    <tr style=\"text-align: right;\">\n",
       "      <th></th>\n",
       "      <th>symbol</th>\n",
       "      <th>month_str</th>\n",
       "      <th>mean_return</th>\n",
       "      <th>std_return</th>\n",
       "      <th>skew</th>\n",
       "      <th>kurtosis</th>\n",
       "      <th>entropy</th>\n",
       "      <th>vol_mean</th>\n",
       "      <th>vol_std</th>\n",
       "      <th>ljung_pval</th>\n",
       "      <th>resid_acf1</th>\n",
       "      <th>resid_std</th>\n",
       "      <th>resid_skew</th>\n",
       "      <th>resid_kurtosis</th>\n",
       "    </tr>\n",
       "  </thead>\n",
       "  <tbody>\n",
       "    <tr>\n",
       "      <th>0</th>\n",
       "      <td>MMM</td>\n",
       "      <td>2022-01</td>\n",
       "      <td>-0.005358</td>\n",
       "      <td>0.014943</td>\n",
       "      <td>-0.917692</td>\n",
       "      <td>0.261870</td>\n",
       "      <td>1.955084</td>\n",
       "      <td>5.306873e+06</td>\n",
       "      <td>1.376213e+06</td>\n",
       "      <td>0.886434</td>\n",
       "      <td>-0.210568</td>\n",
       "      <td>0.011435</td>\n",
       "      <td>1.832094</td>\n",
       "      <td>3.398314</td>\n",
       "    </tr>\n",
       "    <tr>\n",
       "      <th>11305</th>\n",
       "      <td>MS</td>\n",
       "      <td>2022-01</td>\n",
       "      <td>0.006825</td>\n",
       "      <td>0.021745</td>\n",
       "      <td>-0.333840</td>\n",
       "      <td>-0.221729</td>\n",
       "      <td>1.858225</td>\n",
       "      <td>1.422368e+07</td>\n",
       "      <td>5.778826e+06</td>\n",
       "      <td>0.715527</td>\n",
       "      <td>-0.154054</td>\n",
       "      <td>0.010775</td>\n",
       "      <td>0.159432</td>\n",
       "      <td>-0.630037</td>\n",
       "    </tr>\n",
       "    <tr>\n",
       "      <th>1225</th>\n",
       "      <td>ANSS</td>\n",
       "      <td>2022-01</td>\n",
       "      <td>0.019428</td>\n",
       "      <td>0.027280</td>\n",
       "      <td>0.757380</td>\n",
       "      <td>-0.219618</td>\n",
       "      <td>2.159732</td>\n",
       "      <td>7.332955e+05</td>\n",
       "      <td>1.487807e+05</td>\n",
       "      <td>0.845148</td>\n",
       "      <td>0.233395</td>\n",
       "      <td>0.013110</td>\n",
       "      <td>0.247074</td>\n",
       "      <td>-0.517630</td>\n",
       "    </tr>\n",
       "    <tr>\n",
       "      <th>11270</th>\n",
       "      <td>MCO</td>\n",
       "      <td>2022-01</td>\n",
       "      <td>0.010028</td>\n",
       "      <td>0.020841</td>\n",
       "      <td>-0.223985</td>\n",
       "      <td>-0.291958</td>\n",
       "      <td>1.767378</td>\n",
       "      <td>1.036493e+06</td>\n",
       "      <td>3.342355e+05</td>\n",
       "      <td>0.309837</td>\n",
       "      <td>0.112161</td>\n",
       "      <td>0.006384</td>\n",
       "      <td>-0.811815</td>\n",
       "      <td>0.007825</td>\n",
       "    </tr>\n",
       "    <tr>\n",
       "      <th>11235</th>\n",
       "      <td>MNST</td>\n",
       "      <td>2022-01</td>\n",
       "      <td>0.005772</td>\n",
       "      <td>0.019329</td>\n",
       "      <td>0.146634</td>\n",
       "      <td>-0.296322</td>\n",
       "      <td>1.937200</td>\n",
       "      <td>2.933086e+06</td>\n",
       "      <td>6.461404e+05</td>\n",
       "      <td>0.995052</td>\n",
       "      <td>0.116723</td>\n",
       "      <td>0.010972</td>\n",
       "      <td>1.322396</td>\n",
       "      <td>2.791476</td>\n",
       "    </tr>\n",
       "    <tr>\n",
       "      <th>...</th>\n",
       "      <td>...</td>\n",
       "      <td>...</td>\n",
       "      <td>...</td>\n",
       "      <td>...</td>\n",
       "      <td>...</td>\n",
       "      <td>...</td>\n",
       "      <td>...</td>\n",
       "      <td>...</td>\n",
       "      <td>...</td>\n",
       "      <td>...</td>\n",
       "      <td>...</td>\n",
       "      <td>...</td>\n",
       "      <td>...</td>\n",
       "      <td>...</td>\n",
       "    </tr>\n",
       "    <tr>\n",
       "      <th>9589</th>\n",
       "      <td>KLAC</td>\n",
       "      <td>2024-11</td>\n",
       "      <td>0.007148</td>\n",
       "      <td>0.018601</td>\n",
       "      <td>-0.755084</td>\n",
       "      <td>0.190229</td>\n",
       "      <td>1.752424</td>\n",
       "      <td>1.084534e+06</td>\n",
       "      <td>3.136550e+05</td>\n",
       "      <td>0.642694</td>\n",
       "      <td>-0.093129</td>\n",
       "      <td>0.006706</td>\n",
       "      <td>-0.542184</td>\n",
       "      <td>-0.551728</td>\n",
       "    </tr>\n",
       "    <tr>\n",
       "      <th>12774</th>\n",
       "      <td>PEP</td>\n",
       "      <td>2024-11</td>\n",
       "      <td>0.003046</td>\n",
       "      <td>0.011626</td>\n",
       "      <td>-1.847074</td>\n",
       "      <td>3.740503</td>\n",
       "      <td>1.690831</td>\n",
       "      <td>4.487059e+06</td>\n",
       "      <td>1.727644e+06</td>\n",
       "      <td>0.041658</td>\n",
       "      <td>-0.311018</td>\n",
       "      <td>0.004098</td>\n",
       "      <td>0.282088</td>\n",
       "      <td>0.332343</td>\n",
       "    </tr>\n",
       "    <tr>\n",
       "      <th>6264</th>\n",
       "      <td>EVRG</td>\n",
       "      <td>2024-11</td>\n",
       "      <td>-0.000004</td>\n",
       "      <td>0.008593</td>\n",
       "      <td>0.149888</td>\n",
       "      <td>-0.165370</td>\n",
       "      <td>1.946839</td>\n",
       "      <td>1.394257e+06</td>\n",
       "      <td>5.842667e+05</td>\n",
       "      <td>0.214443</td>\n",
       "      <td>0.053386</td>\n",
       "      <td>0.003162</td>\n",
       "      <td>1.147279</td>\n",
       "      <td>2.221280</td>\n",
       "    </tr>\n",
       "    <tr>\n",
       "      <th>12914</th>\n",
       "      <td>PSX</td>\n",
       "      <td>2024-11</td>\n",
       "      <td>0.002358</td>\n",
       "      <td>0.012867</td>\n",
       "      <td>1.876282</td>\n",
       "      <td>4.872534</td>\n",
       "      <td>1.608883</td>\n",
       "      <td>2.259777e+06</td>\n",
       "      <td>6.141416e+05</td>\n",
       "      <td>0.344137</td>\n",
       "      <td>0.073886</td>\n",
       "      <td>0.008953</td>\n",
       "      <td>-0.500015</td>\n",
       "      <td>-0.242101</td>\n",
       "    </tr>\n",
       "    <tr>\n",
       "      <th>17440</th>\n",
       "      <td>SPY</td>\n",
       "      <td>2024-11</td>\n",
       "      <td>0.002956</td>\n",
       "      <td>0.007299</td>\n",
       "      <td>0.796079</td>\n",
       "      <td>2.490866</td>\n",
       "      <td>1.765057</td>\n",
       "      <td>3.744578e+07</td>\n",
       "      <td>1.045496e+07</td>\n",
       "      <td>0.567569</td>\n",
       "      <td>-0.007735</td>\n",
       "      <td>0.004200</td>\n",
       "      <td>0.056486</td>\n",
       "      <td>1.551260</td>\n",
       "    </tr>\n",
       "  </tbody>\n",
       "</table>\n",
       "<p>17441 rows × 14 columns</p>\n",
       "</div>"
      ],
      "text/plain": [
       "      symbol month_str  mean_return  std_return      skew  kurtosis   entropy  \\\n",
       "0        MMM   2022-01    -0.005358    0.014943 -0.917692  0.261870  1.955084   \n",
       "11305     MS   2022-01     0.006825    0.021745 -0.333840 -0.221729  1.858225   \n",
       "1225    ANSS   2022-01     0.019428    0.027280  0.757380 -0.219618  2.159732   \n",
       "11270    MCO   2022-01     0.010028    0.020841 -0.223985 -0.291958  1.767378   \n",
       "11235   MNST   2022-01     0.005772    0.019329  0.146634 -0.296322  1.937200   \n",
       "...      ...       ...          ...         ...       ...       ...       ...   \n",
       "9589    KLAC   2024-11     0.007148    0.018601 -0.755084  0.190229  1.752424   \n",
       "12774    PEP   2024-11     0.003046    0.011626 -1.847074  3.740503  1.690831   \n",
       "6264    EVRG   2024-11    -0.000004    0.008593  0.149888 -0.165370  1.946839   \n",
       "12914    PSX   2024-11     0.002358    0.012867  1.876282  4.872534  1.608883   \n",
       "17440    SPY   2024-11     0.002956    0.007299  0.796079  2.490866  1.765057   \n",
       "\n",
       "           vol_mean       vol_std  ljung_pval  resid_acf1  resid_std  \\\n",
       "0      5.306873e+06  1.376213e+06    0.886434   -0.210568   0.011435   \n",
       "11305  1.422368e+07  5.778826e+06    0.715527   -0.154054   0.010775   \n",
       "1225   7.332955e+05  1.487807e+05    0.845148    0.233395   0.013110   \n",
       "11270  1.036493e+06  3.342355e+05    0.309837    0.112161   0.006384   \n",
       "11235  2.933086e+06  6.461404e+05    0.995052    0.116723   0.010972   \n",
       "...             ...           ...         ...         ...        ...   \n",
       "9589   1.084534e+06  3.136550e+05    0.642694   -0.093129   0.006706   \n",
       "12774  4.487059e+06  1.727644e+06    0.041658   -0.311018   0.004098   \n",
       "6264   1.394257e+06  5.842667e+05    0.214443    0.053386   0.003162   \n",
       "12914  2.259777e+06  6.141416e+05    0.344137    0.073886   0.008953   \n",
       "17440  3.744578e+07  1.045496e+07    0.567569   -0.007735   0.004200   \n",
       "\n",
       "       resid_skew  resid_kurtosis  \n",
       "0        1.832094        3.398314  \n",
       "11305    0.159432       -0.630037  \n",
       "1225     0.247074       -0.517630  \n",
       "11270   -0.811815        0.007825  \n",
       "11235    1.322396        2.791476  \n",
       "...           ...             ...  \n",
       "9589    -0.542184       -0.551728  \n",
       "12774    0.282088        0.332343  \n",
       "6264     1.147279        2.221280  \n",
       "12914   -0.500015       -0.242101  \n",
       "17440    0.056486        1.551260  \n",
       "\n",
       "[17441 rows x 14 columns]"
      ]
     },
     "execution_count": 35,
     "metadata": {},
     "output_type": "execute_result"
    }
   ],
   "source": [
    "X_df.sort_values(by=\"month_str\")"
   ]
  },
  {
   "cell_type": "code",
   "execution_count": null,
   "id": "b82795ab",
   "metadata": {},
   "outputs": [
    {
     "name": "stderr",
     "output_type": "stream",
     "text": [
      "\r",
      "Meta-RL Agent Loop:   0%|          | 0/17441 [00:00<?, ?it/s]"
     ]
    },
    {
     "name": "stdout",
     "output_type": "stream",
     "text": [
      "['MMM']\n",
      "['MMM']\n",
      "['MMM']\n",
      "['MMM']\n",
      "['MMM']\n",
      "['MMM']\n",
      "['MMM']\n",
      "['MMM']\n",
      "['MMM']\n",
      "['MMM']\n",
      "['MMM']\n",
      "['MMM']\n",
      "['MMM']\n",
      "['MMM']\n",
      "['MMM']\n",
      "['MMM']\n",
      "['MMM']\n",
      "['MMM']\n",
      "['MMM']\n",
      "['MMM']\n",
      "['MMM']\n",
      "['MMM']\n"
     ]
    },
    {
     "name": "stderr",
     "output_type": "stream",
     "text": [
      "\r",
      "Meta-RL Agent Loop:   0%|          | 1/17441 [00:02<13:01:30,  2.69s/it]"
     ]
    },
    {
     "name": "stdout",
     "output_type": "stream",
     "text": [
      "['MMM']\n",
      "['MMM']\n",
      "['MMM']\n",
      "['MMM']\n",
      "['MMM']\n",
      "['MMM']\n",
      "['MMM']\n",
      "['MMM']\n",
      "['MMM']\n",
      "['MMM']\n",
      "['MMM']\n",
      "['MMM']\n",
      "['MMM']\n",
      "['MMM']\n",
      "['MMM']\n",
      "['MMM']\n",
      "['MMM']\n",
      "['MMM']\n",
      "['MMM']\n",
      "['MMM']\n",
      "['MMM']\n",
      "['MMM']\n",
      "['MMM']\n",
      "['MMM']\n"
     ]
    },
    {
     "name": "stderr",
     "output_type": "stream",
     "text": [
      "\r",
      "Meta-RL Agent Loop:   0%|          | 2/17441 [00:05<12:31:04,  2.58s/it]"
     ]
    },
    {
     "name": "stdout",
     "output_type": "stream",
     "text": [
      "['MMM']\n",
      "['MMM']\n",
      "['MMM']\n",
      "['MMM']\n",
      "['MMM']\n",
      "['MMM']\n",
      "['MMM']\n",
      "['MMM']\n",
      "['MMM']\n",
      "['MMM']\n",
      "['MMM']\n",
      "['MMM']\n",
      "['MMM']\n",
      "['MMM']\n",
      "['MMM']\n",
      "['MMM']\n",
      "['MMM']\n",
      "['MMM']\n",
      "['MMM']\n",
      "['MMM']\n",
      "['MMM']\n",
      "['MMM']\n",
      "['MMM']\n",
      "['MMM']\n"
     ]
    },
    {
     "name": "stderr",
     "output_type": "stream",
     "text": [
      "\r",
      "Meta-RL Agent Loop:   0%|          | 3/17441 [00:08<13:39:44,  2.82s/it]"
     ]
    },
    {
     "name": "stdout",
     "output_type": "stream",
     "text": [
      "['MMM']\n",
      "['MMM']\n",
      "['MMM']\n",
      "['MMM']\n",
      "['MMM']\n",
      "['MMM']\n",
      "['MMM']\n",
      "['MMM']\n",
      "['MMM']\n",
      "['MMM']\n",
      "['MMM']\n",
      "['MMM']\n",
      "['MMM']\n",
      "['MMM']\n",
      "['MMM']\n",
      "['MMM']\n",
      "['MMM']\n",
      "['MMM']\n",
      "['MMM']\n",
      "['MMM']\n",
      "['MMM']\n",
      "['MMM']\n",
      "['MMM']\n",
      "['MMM']\n"
     ]
    },
    {
     "name": "stderr",
     "output_type": "stream",
     "text": [
      "\r",
      "Meta-RL Agent Loop:   0%|          | 4/17441 [00:11<14:12:50,  2.93s/it]"
     ]
    },
    {
     "name": "stdout",
     "output_type": "stream",
     "text": [
      "['MMM']\n",
      "['MMM']\n",
      "['MMM']\n",
      "['MMM']\n",
      "['MMM']\n",
      "['MMM']\n",
      "['MMM']\n",
      "['MMM']\n",
      "['MMM']\n",
      "['MMM']\n",
      "['MMM']\n",
      "['MMM']\n",
      "['MMM']\n",
      "['MMM']\n",
      "['MMM']\n",
      "['MMM']\n",
      "['MMM']\n",
      "['MMM']\n",
      "['MMM']\n",
      "['MMM']\n",
      "['MMM']\n",
      "['MMM']\n",
      "['MMM']\n",
      "['MMM']\n"
     ]
    },
    {
     "name": "stderr",
     "output_type": "stream",
     "text": [
      "\r",
      "Meta-RL Agent Loop:   0%|          | 5/17441 [00:14<14:00:56,  2.89s/it]"
     ]
    },
    {
     "name": "stdout",
     "output_type": "stream",
     "text": [
      "['MMM']\n",
      "['MMM']\n",
      "['MMM']\n",
      "['MMM']\n",
      "['MMM']\n",
      "['MMM']\n",
      "['MMM']\n",
      "['MMM']\n",
      "['MMM']\n",
      "['MMM']\n",
      "['MMM']\n",
      "['MMM']\n",
      "['MMM']\n",
      "['MMM']\n",
      "['MMM']\n",
      "['MMM']\n",
      "['MMM']\n",
      "['MMM']\n",
      "['MMM']\n",
      "['MMM']\n",
      "['MMM']\n",
      "['MMM']\n",
      "['MMM']\n",
      "['MMM']\n"
     ]
    },
    {
     "name": "stderr",
     "output_type": "stream",
     "text": [
      "\r",
      "Meta-RL Agent Loop:   0%|          | 6/17441 [00:16<13:45:42,  2.84s/it]"
     ]
    },
    {
     "name": "stdout",
     "output_type": "stream",
     "text": [
      "['MMM']\n",
      "['MMM']\n",
      "['MMM']\n",
      "['MMM']\n",
      "['MMM']\n",
      "['MMM']\n",
      "['MMM']\n",
      "['MMM']\n",
      "['MMM']\n",
      "['MMM']\n",
      "['MMM']\n",
      "['MMM']\n",
      "['MMM']\n",
      "['MMM']\n",
      "['MMM']\n",
      "['MMM']\n",
      "['MMM']\n",
      "['MMM']\n",
      "['MMM']\n",
      "['MMM']\n",
      "['MMM']\n",
      "['MMM']\n",
      "['MMM']\n",
      "['MMM']\n"
     ]
    },
    {
     "name": "stderr",
     "output_type": "stream",
     "text": [
      "\r",
      "Meta-RL Agent Loop:   0%|          | 7/17441 [00:19<13:37:48,  2.81s/it]"
     ]
    },
    {
     "name": "stdout",
     "output_type": "stream",
     "text": [
      "['MMM']\n",
      "['MMM']\n",
      "['MMM']\n",
      "['MMM']\n",
      "['MMM']\n",
      "['MMM']\n",
      "['MMM']\n",
      "['MMM']\n",
      "['MMM']\n",
      "['MMM']\n",
      "['MMM']\n",
      "['MMM']\n",
      "['MMM']\n",
      "['MMM']\n",
      "['MMM']\n",
      "['MMM']\n",
      "['MMM']\n",
      "['MMM']\n",
      "['MMM']\n",
      "['MMM']\n",
      "['MMM']\n",
      "['MMM']\n",
      "['MMM']\n",
      "['MMM']\n"
     ]
    },
    {
     "name": "stderr",
     "output_type": "stream",
     "text": [
      "\r",
      "Meta-RL Agent Loop:   0%|          | 8/17441 [00:22<13:59:20,  2.89s/it]"
     ]
    },
    {
     "name": "stdout",
     "output_type": "stream",
     "text": [
      "['MMM']\n",
      "['MMM']\n",
      "['MMM']\n",
      "['MMM']\n",
      "['MMM']\n",
      "['MMM']\n",
      "['MMM']\n",
      "['MMM']\n",
      "['MMM']\n",
      "['MMM']\n",
      "['MMM']\n",
      "['MMM']\n",
      "['MMM']\n",
      "['MMM']\n",
      "['MMM']\n",
      "['MMM']\n",
      "['MMM']\n",
      "['MMM']\n",
      "['MMM']\n",
      "['MMM']\n",
      "['MMM']\n",
      "['MMM']\n",
      "['MMM']\n",
      "['MMM']\n"
     ]
    },
    {
     "name": "stderr",
     "output_type": "stream",
     "text": [
      "\r",
      "Meta-RL Agent Loop:   0%|          | 9/17441 [00:25<14:18:24,  2.95s/it]"
     ]
    },
    {
     "name": "stdout",
     "output_type": "stream",
     "text": [
      "['MMM']\n",
      "['MMM']\n",
      "['MMM']\n",
      "['MMM']\n",
      "['MMM']\n",
      "['MMM']\n",
      "['MMM']\n",
      "['MMM']\n",
      "['MMM']\n",
      "['MMM']\n",
      "['MMM']\n",
      "['MMM']\n",
      "['MMM']\n",
      "['MMM']\n",
      "['MMM']\n",
      "['MMM']\n",
      "['MMM']\n",
      "['MMM']\n",
      "['MMM']\n",
      "['MMM']\n",
      "['MMM']\n",
      "['MMM']\n",
      "['MMM']\n",
      "['MMM']\n"
     ]
    },
    {
     "name": "stderr",
     "output_type": "stream",
     "text": [
      "\r",
      "Meta-RL Agent Loop:   0%|          | 10/17441 [00:28<14:26:21,  2.98s/it]"
     ]
    },
    {
     "name": "stdout",
     "output_type": "stream",
     "text": [
      "['MMM']\n",
      "['MMM']\n",
      "['MMM']\n",
      "['MMM']\n",
      "['MMM']\n",
      "['MMM']\n",
      "['MMM']\n",
      "['MMM']\n",
      "['MMM']\n",
      "['MMM']\n",
      "['MMM']\n",
      "['MMM']\n",
      "['MMM']\n",
      "['MMM']\n",
      "['MMM']\n",
      "['MMM']\n",
      "['MMM']\n",
      "['MMM']\n",
      "['MMM']\n",
      "['MMM']\n",
      "['MMM']\n",
      "['MMM']\n",
      "['MMM']\n",
      "['MMM']\n"
     ]
    },
    {
     "name": "stderr",
     "output_type": "stream",
     "text": [
      "\r",
      "Meta-RL Agent Loop:   0%|          | 11/17441 [00:31<14:03:46,  2.90s/it]"
     ]
    },
    {
     "name": "stdout",
     "output_type": "stream",
     "text": [
      "['MMM']\n",
      "['MMM']\n",
      "['MMM']\n",
      "['MMM']\n",
      "['MMM']\n",
      "['MMM']\n",
      "['MMM']\n",
      "['MMM']\n",
      "['MMM']\n",
      "['MMM']\n",
      "['MMM']\n",
      "['MMM']\n",
      "['MMM']\n",
      "['MMM']\n",
      "['MMM']\n",
      "['MMM']\n",
      "['MMM']\n",
      "['MMM']\n",
      "['MMM']\n",
      "['MMM']\n",
      "['MMM']\n",
      "['MMM']\n",
      "['MMM']\n",
      "['MMM']\n"
     ]
    },
    {
     "name": "stderr",
     "output_type": "stream",
     "text": [
      "\r",
      "Meta-RL Agent Loop:   0%|          | 12/17441 [00:34<14:04:26,  2.91s/it]"
     ]
    },
    {
     "name": "stdout",
     "output_type": "stream",
     "text": [
      "['MMM']\n",
      "['MMM']\n",
      "['MMM']\n",
      "['MMM']\n",
      "['MMM']\n",
      "['MMM']\n",
      "['MMM']\n",
      "['MMM']\n",
      "['MMM']\n",
      "['MMM']\n",
      "['MMM']\n",
      "['MMM']\n",
      "['MMM']\n",
      "['MMM']\n",
      "['MMM']\n",
      "['MMM']\n",
      "['MMM']\n",
      "['MMM']\n",
      "['MMM']\n",
      "['MMM']\n",
      "['MMM']\n",
      "['MMM']\n",
      "['MMM']\n",
      "['MMM']\n"
     ]
    },
    {
     "name": "stderr",
     "output_type": "stream",
     "text": [
      "\r",
      "Meta-RL Agent Loop:   0%|          | 13/17441 [00:37<14:16:25,  2.95s/it]"
     ]
    },
    {
     "name": "stdout",
     "output_type": "stream",
     "text": [
      "['MMM']\n",
      "['MMM']\n",
      "['MMM']\n",
      "['MMM']\n",
      "['MMM']\n",
      "['MMM']\n",
      "['MMM']\n",
      "['MMM']\n",
      "['MMM']\n",
      "['MMM']\n",
      "['MMM']\n",
      "['MMM']\n",
      "['MMM']\n",
      "['MMM']\n",
      "['MMM']\n",
      "['MMM']\n",
      "['MMM']\n",
      "['MMM']\n",
      "['MMM']\n",
      "['MMM']\n",
      "['MMM']\n",
      "['MMM']\n",
      "['MMM']\n",
      "['MMM']\n"
     ]
    },
    {
     "name": "stderr",
     "output_type": "stream",
     "text": [
      "\r",
      "Meta-RL Agent Loop:   0%|          | 14/17441 [00:40<14:44:19,  3.04s/it]"
     ]
    },
    {
     "name": "stdout",
     "output_type": "stream",
     "text": [
      "['MMM']\n",
      "['MMM']\n",
      "['MMM']\n",
      "['MMM']\n",
      "['MMM']\n",
      "['MMM']\n",
      "['MMM']\n",
      "['MMM']\n",
      "['MMM']\n",
      "['MMM']\n",
      "['MMM']\n",
      "['MMM']\n",
      "['MMM']\n",
      "['MMM']\n",
      "['MMM']\n",
      "['MMM']\n",
      "['MMM']\n",
      "['MMM']\n",
      "['MMM']\n",
      "['MMM']\n",
      "['MMM']\n",
      "['MMM']\n",
      "['MMM']\n",
      "['MMM']\n"
     ]
    },
    {
     "name": "stderr",
     "output_type": "stream",
     "text": [
      "\r",
      "Meta-RL Agent Loop:   0%|          | 15/17441 [00:44<15:01:31,  3.10s/it]"
     ]
    },
    {
     "name": "stdout",
     "output_type": "stream",
     "text": [
      "['MMM']\n",
      "['MMM']\n",
      "['MMM']\n",
      "['MMM']\n",
      "['MMM']\n",
      "['MMM']\n",
      "['MMM']\n",
      "['MMM']\n",
      "['MMM']\n",
      "['MMM']\n",
      "['MMM']\n",
      "['MMM']\n",
      "['MMM']\n",
      "['MMM']\n",
      "['MMM']\n",
      "['MMM']\n",
      "['MMM']\n",
      "['MMM']\n",
      "['MMM']\n",
      "['MMM']\n",
      "['MMM']\n",
      "['MMM']\n",
      "['MMM']\n",
      "['MMM']\n"
     ]
    },
    {
     "name": "stderr",
     "output_type": "stream",
     "text": [
      "\r",
      "Meta-RL Agent Loop:   0%|          | 16/17441 [00:46<14:29:04,  2.99s/it]"
     ]
    },
    {
     "name": "stdout",
     "output_type": "stream",
     "text": [
      "['MMM']\n",
      "['MMM']\n",
      "['MMM']\n",
      "['MMM']\n",
      "['MMM']\n",
      "['MMM']\n",
      "['MMM']\n",
      "['MMM']\n",
      "['MMM']\n",
      "['MMM']\n",
      "['MMM']\n",
      "['MMM']\n",
      "['MMM']\n",
      "['MMM']\n",
      "['MMM']\n",
      "['MMM']\n",
      "['MMM']\n",
      "['MMM']\n",
      "['MMM']\n",
      "['MMM']\n",
      "['MMM']\n",
      "['MMM']\n",
      "['MMM']\n",
      "['MMM']\n"
     ]
    },
    {
     "name": "stderr",
     "output_type": "stream",
     "text": [
      "\r",
      "Meta-RL Agent Loop:   0%|          | 17/17441 [00:49<14:14:34,  2.94s/it]"
     ]
    },
    {
     "name": "stdout",
     "output_type": "stream",
     "text": [
      "['MMM']\n",
      "['MMM']\n",
      "['MMM']\n",
      "['MMM']\n",
      "['MMM']\n",
      "['MMM']\n",
      "['MMM']\n",
      "['MMM']\n",
      "['MMM']\n",
      "['MMM']\n",
      "['MMM']\n",
      "['MMM']\n",
      "['MMM']\n",
      "['MMM']\n",
      "['MMM']\n",
      "['MMM']\n",
      "['MMM']\n",
      "['MMM']\n",
      "['MMM']\n",
      "['MMM']\n",
      "['MMM']\n",
      "['MMM']\n",
      "['MMM']\n",
      "['MMM']\n"
     ]
    },
    {
     "name": "stderr",
     "output_type": "stream",
     "text": [
      "\r",
      "Meta-RL Agent Loop:   0%|          | 18/17441 [00:52<14:19:18,  2.96s/it]"
     ]
    },
    {
     "name": "stdout",
     "output_type": "stream",
     "text": [
      "['MMM']\n",
      "['MMM']\n",
      "['MMM']\n",
      "['MMM']\n",
      "['MMM']\n",
      "['MMM']\n",
      "['MMM']\n",
      "['MMM']\n",
      "['MMM']\n",
      "['MMM']\n",
      "['MMM']\n",
      "['MMM']\n",
      "['MMM']\n",
      "['MMM']\n",
      "['MMM']\n",
      "['MMM']\n",
      "['MMM']\n",
      "['MMM']\n",
      "['MMM']\n",
      "['MMM']\n",
      "['MMM']\n",
      "['MMM']\n",
      "['MMM']\n",
      "['MMM']\n"
     ]
    },
    {
     "name": "stderr",
     "output_type": "stream",
     "text": [
      "\r",
      "Meta-RL Agent Loop:   0%|          | 19/17441 [00:56<14:59:45,  3.10s/it]"
     ]
    },
    {
     "name": "stdout",
     "output_type": "stream",
     "text": [
      "['MMM']\n",
      "['MMM']\n",
      "['MMM']\n",
      "['MMM']\n",
      "['MMM']\n",
      "['MMM']\n",
      "['MMM']\n",
      "['MMM']\n",
      "['MMM']\n",
      "['MMM']\n",
      "['MMM']\n",
      "['MMM']\n",
      "['MMM']\n",
      "['MMM']\n",
      "['MMM']\n",
      "['MMM']\n",
      "['MMM']\n",
      "['MMM']\n",
      "['MMM']\n",
      "['MMM']\n",
      "['MMM']\n",
      "['MMM']\n",
      "['MMM']\n",
      "['MMM']\n"
     ]
    },
    {
     "name": "stderr",
     "output_type": "stream",
     "text": [
      "\r",
      "Meta-RL Agent Loop:   0%|          | 20/17441 [00:59<15:07:53,  3.13s/it]"
     ]
    },
    {
     "name": "stdout",
     "output_type": "stream",
     "text": [
      "['MMM']\n",
      "['MMM']\n",
      "['MMM']\n",
      "['MMM']\n",
      "['MMM']\n",
      "['MMM']\n",
      "['MMM']\n",
      "['MMM']\n",
      "['MMM']\n",
      "['MMM']\n",
      "['MMM']\n",
      "['MMM']\n",
      "['MMM']\n",
      "['MMM']\n",
      "['MMM']\n",
      "['MMM']\n",
      "['MMM']\n",
      "['MMM']\n",
      "['MMM']\n",
      "['MMM']\n",
      "['MMM']\n",
      "['MMM']\n",
      "['MMM']\n",
      "['MMM']\n"
     ]
    },
    {
     "name": "stderr",
     "output_type": "stream",
     "text": [
      "\r",
      "Meta-RL Agent Loop:   0%|          | 21/17441 [01:02<14:50:33,  3.07s/it]"
     ]
    },
    {
     "name": "stdout",
     "output_type": "stream",
     "text": [
      "['MMM']\n",
      "['MMM']\n",
      "['MMM']\n",
      "['MMM']\n",
      "['MMM']\n",
      "['MMM']\n",
      "['MMM']\n",
      "['MMM']\n",
      "['MMM']\n",
      "['MMM']\n",
      "['MMM']\n",
      "['MMM']\n",
      "['MMM']\n",
      "['MMM']\n",
      "['MMM']\n",
      "['MMM']\n",
      "['MMM']\n",
      "['MMM']\n",
      "['MMM']\n",
      "['MMM']\n",
      "['MMM']\n",
      "['MMM']\n",
      "['MMM']\n",
      "['MMM']\n"
     ]
    },
    {
     "name": "stderr",
     "output_type": "stream",
     "text": [
      "\r",
      "Meta-RL Agent Loop:   0%|          | 22/17441 [01:04<13:52:45,  2.87s/it]"
     ]
    },
    {
     "name": "stdout",
     "output_type": "stream",
     "text": [
      "['MMM']\n",
      "['MMM']\n",
      "['MMM']\n",
      "['MMM']\n",
      "['MMM']\n",
      "['MMM']\n",
      "['MMM']\n",
      "['MMM']\n",
      "['MMM']\n",
      "['MMM']\n",
      "['MMM']\n",
      "['MMM']\n",
      "['MMM']\n",
      "['MMM']\n",
      "['MMM']\n",
      "['MMM']\n",
      "['MMM']\n",
      "['MMM']\n",
      "['MMM']\n",
      "['MMM']\n",
      "['MMM']\n",
      "['MMM']\n",
      "['MMM']\n",
      "['MMM']\n"
     ]
    },
    {
     "name": "stderr",
     "output_type": "stream",
     "text": [
      "\r",
      "Meta-RL Agent Loop:   0%|          | 23/17441 [01:06<12:59:33,  2.69s/it]"
     ]
    },
    {
     "name": "stdout",
     "output_type": "stream",
     "text": [
      "['MMM']\n",
      "['MMM']\n",
      "['MMM']\n",
      "['MMM']\n",
      "['MMM']\n",
      "['MMM']\n",
      "['MMM']\n",
      "['MMM']\n",
      "['MMM']\n",
      "['MMM']\n",
      "['MMM']\n",
      "['MMM']\n",
      "['MMM']\n",
      "['MMM']\n",
      "['MMM']\n",
      "['MMM']\n",
      "['MMM']\n",
      "['MMM']\n",
      "['MMM']\n",
      "['MMM']\n",
      "['MMM']\n",
      "['MMM']\n",
      "['MMM']\n",
      "['MMM']\n"
     ]
    },
    {
     "name": "stderr",
     "output_type": "stream",
     "text": [
      "\r",
      "Meta-RL Agent Loop:   0%|          | 24/17441 [01:09<12:56:03,  2.67s/it]"
     ]
    },
    {
     "name": "stdout",
     "output_type": "stream",
     "text": [
      "['MMM']\n",
      "['MMM']\n",
      "['MMM']\n",
      "['MMM']\n",
      "['MMM']\n",
      "['MMM']\n",
      "['MMM']\n",
      "['MMM']\n",
      "['MMM']\n",
      "['MMM']\n",
      "['MMM']\n",
      "['MMM']\n",
      "['MMM']\n",
      "['MMM']\n",
      "['MMM']\n",
      "['MMM']\n",
      "['MMM']\n",
      "['MMM']\n",
      "['MMM']\n",
      "['MMM']\n",
      "['MMM']\n",
      "['MMM']\n",
      "['MMM']\n",
      "['MMM']\n"
     ]
    },
    {
     "name": "stderr",
     "output_type": "stream",
     "text": [
      "\r",
      "Meta-RL Agent Loop:   0%|          | 25/17441 [01:12<13:05:49,  2.71s/it]"
     ]
    },
    {
     "name": "stdout",
     "output_type": "stream",
     "text": [
      "['MMM']\n",
      "['MMM']\n",
      "['MMM']\n",
      "['MMM']\n",
      "['MMM']\n",
      "['MMM']\n",
      "['MMM']\n",
      "['MMM']\n",
      "['MMM']\n",
      "['MMM']\n",
      "['MMM']\n",
      "['MMM']\n",
      "['MMM']\n",
      "['MMM']\n",
      "['MMM']\n",
      "['MMM']\n",
      "['MMM']\n",
      "['MMM']\n",
      "['MMM']\n",
      "['MMM']\n",
      "['MMM']\n",
      "['MMM']\n",
      "['MMM']\n",
      "['MMM']\n"
     ]
    },
    {
     "name": "stderr",
     "output_type": "stream",
     "text": [
      "\r",
      "Meta-RL Agent Loop:   0%|          | 26/17441 [01:15<13:05:23,  2.71s/it]"
     ]
    },
    {
     "name": "stdout",
     "output_type": "stream",
     "text": [
      "['MMM']\n",
      "['MMM']\n",
      "['MMM']\n",
      "['MMM']\n",
      "['MMM']\n",
      "['MMM']\n",
      "['MMM']\n",
      "['MMM']\n",
      "['MMM']\n",
      "['MMM']\n",
      "['MMM']\n",
      "['MMM']\n",
      "['MMM']\n",
      "['MMM']\n",
      "['MMM']\n",
      "['MMM']\n",
      "['MMM']\n",
      "['MMM']\n",
      "['MMM']\n",
      "['MMM']\n",
      "['MMM']\n",
      "['MMM']\n",
      "['MMM']\n",
      "['MMM']\n"
     ]
    },
    {
     "name": "stderr",
     "output_type": "stream",
     "text": [
      "\r",
      "Meta-RL Agent Loop:   0%|          | 27/17441 [01:17<12:10:18,  2.52s/it]"
     ]
    },
    {
     "name": "stdout",
     "output_type": "stream",
     "text": [
      "['MMM']\n",
      "['MMM']\n",
      "['MMM']\n",
      "['MMM']\n",
      "['MMM']\n",
      "['MMM']\n",
      "['MMM']\n",
      "['MMM']\n",
      "['MMM']\n",
      "['MMM']\n",
      "['MMM']\n",
      "['MMM']\n",
      "['MMM']\n",
      "['MMM']\n",
      "['MMM']\n",
      "['MMM']\n",
      "['MMM']\n",
      "['MMM']\n",
      "['MMM']\n",
      "['MMM']\n",
      "['MMM']\n",
      "['MMM']\n",
      "['MMM']\n",
      "['MMM']\n"
     ]
    },
    {
     "name": "stderr",
     "output_type": "stream",
     "text": [
      "\r",
      "Meta-RL Agent Loop:   0%|          | 28/17441 [01:19<11:51:20,  2.45s/it]"
     ]
    },
    {
     "name": "stdout",
     "output_type": "stream",
     "text": [
      "['MMM']\n",
      "['MMM']\n",
      "['MMM']\n",
      "['MMM']\n",
      "['MMM']\n",
      "['MMM']\n",
      "['MMM']\n",
      "['MMM']\n",
      "['MMM']\n",
      "['MMM']\n",
      "['MMM']\n",
      "['MMM']\n",
      "['MMM']\n",
      "['MMM']\n",
      "['MMM']\n",
      "['MMM']\n",
      "['MMM']\n",
      "['MMM']\n",
      "['MMM']\n",
      "['MMM']\n",
      "['MMM']\n",
      "['MMM']\n",
      "['MMM']\n",
      "['MMM']\n"
     ]
    },
    {
     "name": "stderr",
     "output_type": "stream",
     "text": [
      "\r",
      "Meta-RL Agent Loop:   0%|          | 29/17441 [01:21<11:26:16,  2.36s/it]"
     ]
    },
    {
     "name": "stdout",
     "output_type": "stream",
     "text": [
      "['MMM']\n",
      "['MMM']\n",
      "['MMM']\n",
      "['MMM']\n",
      "['MMM']\n",
      "['MMM']\n",
      "['MMM']\n",
      "['MMM']\n",
      "['MMM']\n",
      "['MMM']\n",
      "['MMM']\n",
      "['MMM']\n",
      "['MMM']\n",
      "['MMM']\n",
      "['MMM']\n",
      "['MMM']\n",
      "['MMM']\n",
      "['MMM']\n",
      "['MMM']\n",
      "['MMM']\n",
      "['MMM']\n",
      "['MMM']\n",
      "['MMM']\n",
      "['MMM']\n"
     ]
    },
    {
     "name": "stderr",
     "output_type": "stream",
     "text": [
      "\r",
      "Meta-RL Agent Loop:   0%|          | 30/17441 [01:23<10:21:16,  2.14s/it]"
     ]
    },
    {
     "name": "stdout",
     "output_type": "stream",
     "text": [
      "['MMM']\n",
      "['MMM']\n",
      "['MMM']\n",
      "['MMM']\n",
      "['MMM']\n",
      "['MMM']\n",
      "['MMM']\n",
      "['MMM']\n",
      "['MMM']\n",
      "['MMM']\n",
      "['MMM']\n",
      "['MMM']\n",
      "['MMM']\n",
      "['MMM']\n",
      "['MMM']\n",
      "['MMM']\n",
      "['MMM']\n",
      "['MMM']\n",
      "['MMM']\n",
      "['MMM']\n",
      "['MMM']\n",
      "['MMM']\n",
      "['MMM']\n",
      "['MMM']\n"
     ]
    },
    {
     "name": "stderr",
     "output_type": "stream",
     "text": [
      "\r",
      "Meta-RL Agent Loop:   0%|          | 31/17441 [01:25<10:00:52,  2.07s/it]"
     ]
    },
    {
     "name": "stdout",
     "output_type": "stream",
     "text": [
      "['MMM']\n",
      "['MMM']\n",
      "['MMM']\n",
      "['MMM']\n",
      "['MMM']\n",
      "['MMM']\n",
      "['MMM']\n",
      "['MMM']\n",
      "['MMM']\n",
      "['MMM']\n",
      "['MMM']\n",
      "['MMM']\n",
      "['MMM']\n",
      "['MMM']\n",
      "['MMM']\n",
      "['MMM']\n",
      "['MMM']\n",
      "['MMM']\n",
      "['MMM']\n",
      "['MMM']\n",
      "['MMM']\n",
      "['MMM']\n",
      "['MMM']\n",
      "['MMM']\n"
     ]
    },
    {
     "name": "stderr",
     "output_type": "stream",
     "text": [
      "\r",
      "Meta-RL Agent Loop:   0%|          | 32/17441 [01:27<11:08:14,  2.30s/it]"
     ]
    },
    {
     "name": "stdout",
     "output_type": "stream",
     "text": [
      "['MMM']\n",
      "['MMM']\n",
      "['MMM']\n",
      "['MMM']\n",
      "['MMM']\n",
      "['MMM']\n",
      "['MMM']\n",
      "['MMM']\n",
      "['MMM']\n",
      "['MMM']\n",
      "['MMM']\n",
      "['MMM']\n",
      "['MMM']\n",
      "['MMM']\n",
      "['MMM']\n",
      "['MMM']\n",
      "['MMM']\n",
      "['MMM']\n",
      "['MMM']\n",
      "['MMM']\n",
      "['MMM']\n",
      "['MMM']\n",
      "['MMM']\n",
      "['MMM']\n"
     ]
    },
    {
     "name": "stderr",
     "output_type": "stream",
     "text": [
      "\r",
      "Meta-RL Agent Loop:   0%|          | 33/17441 [01:30<11:31:42,  2.38s/it]"
     ]
    },
    {
     "name": "stdout",
     "output_type": "stream",
     "text": [
      "['MMM']\n",
      "['MMM']\n",
      "['MMM']\n",
      "['MMM']\n",
      "['MMM']\n",
      "['MMM']\n",
      "['MMM']\n",
      "['MMM']\n",
      "['MMM']\n",
      "['MMM']\n",
      "['MMM']\n",
      "['MMM']\n",
      "['MMM']\n",
      "['MMM']\n",
      "['MMM']\n",
      "['MMM']\n",
      "['MMM']\n",
      "['MMM']\n",
      "['MMM']\n",
      "['MMM']\n",
      "['MMM']\n",
      "['MMM']\n",
      "['MMM']\n",
      "['MMM']\n"
     ]
    },
    {
     "name": "stderr",
     "output_type": "stream",
     "text": [
      "\r",
      "Meta-RL Agent Loop:   0%|          | 34/17441 [01:32<11:26:10,  2.37s/it]"
     ]
    },
    {
     "name": "stdout",
     "output_type": "stream",
     "text": [
      "['MMM']\n",
      "['MMM']\n",
      "['MMM']\n",
      "['MMM']\n",
      "['MMM']\n",
      "['MMM']\n",
      "['MMM']\n",
      "['MMM']\n",
      "['MMM']\n",
      "['MMM']\n",
      "['MMM']\n",
      "['MMM']\n",
      "['MMM']\n",
      "['MMM']\n",
      "['MMM']\n",
      "['MMM']\n",
      "['MMM']\n",
      "['MMM']\n",
      "['MMM']\n",
      "['MMM']\n",
      "['MMM']\n",
      "['MMM']\n",
      "['MMM']\n",
      "['MMM']\n"
     ]
    },
    {
     "name": "stderr",
     "output_type": "stream",
     "text": [
      "\r",
      "Meta-RL Agent Loop:   0%|          | 35/17441 [01:34<11:07:04,  2.30s/it]"
     ]
    },
    {
     "name": "stdout",
     "output_type": "stream",
     "text": [
      "['MMM']\n",
      "['MMM']\n",
      "['AOS']\n",
      "['AOS']\n",
      "['AOS']\n",
      "['AOS']\n",
      "['AOS']\n",
      "['AOS']\n",
      "['AOS']\n",
      "['AOS']\n",
      "['AOS']\n",
      "['AOS']\n",
      "['AOS']\n",
      "['AOS']\n",
      "['AOS']\n",
      "['AOS']\n",
      "['AOS']\n",
      "['AOS']\n",
      "['AOS']\n",
      "['AOS']\n",
      "['AOS']\n",
      "['AOS']\n",
      "['AOS']\n",
      "['AOS']\n"
     ]
    },
    {
     "name": "stderr",
     "output_type": "stream",
     "text": [
      "\r",
      "Meta-RL Agent Loop:   0%|          | 36/17441 [01:37<10:45:30,  2.23s/it]"
     ]
    },
    {
     "name": "stdout",
     "output_type": "stream",
     "text": [
      "['AOS']\n",
      "['AOS']\n",
      "['AOS']\n",
      "['AOS']\n",
      "['AOS']\n",
      "['AOS']\n",
      "['AOS']\n",
      "['AOS']\n",
      "['AOS']\n",
      "['AOS']\n",
      "['AOS']\n",
      "['AOS']\n",
      "['AOS']\n",
      "['AOS']\n",
      "['AOS']\n",
      "['AOS']\n",
      "['AOS']\n",
      "['AOS']\n",
      "['AOS']\n",
      "['AOS']\n",
      "['AOS']\n",
      "['AOS']\n",
      "['AOS']\n",
      "['AOS']\n"
     ]
    },
    {
     "name": "stderr",
     "output_type": "stream",
     "text": [
      "\r",
      "Meta-RL Agent Loop:   0%|          | 37/17441 [01:38<10:21:48,  2.14s/it]"
     ]
    },
    {
     "name": "stdout",
     "output_type": "stream",
     "text": [
      "['AOS']\n",
      "['AOS']\n",
      "['AOS']\n",
      "['AOS']\n",
      "['AOS']\n",
      "['AOS']\n",
      "['AOS']\n",
      "['AOS']\n",
      "['AOS']\n",
      "['AOS']\n",
      "['AOS']\n",
      "['AOS']\n",
      "['AOS']\n",
      "['AOS']\n",
      "['AOS']\n",
      "['AOS']\n",
      "['AOS']\n",
      "['AOS']\n",
      "['AOS']\n",
      "['AOS']\n",
      "['AOS']\n",
      "['AOS']\n",
      "['AOS']\n",
      "['AOS']\n"
     ]
    },
    {
     "name": "stderr",
     "output_type": "stream",
     "text": [
      "\r",
      "Meta-RL Agent Loop:   0%|          | 38/17441 [01:41<10:16:44,  2.13s/it]"
     ]
    },
    {
     "name": "stdout",
     "output_type": "stream",
     "text": [
      "['AOS']\n",
      "['AOS']\n",
      "['AOS']\n",
      "['AOS']\n",
      "['AOS']\n",
      "['AOS']\n",
      "['AOS']\n",
      "['AOS']\n",
      "['AOS']\n",
      "['AOS']\n",
      "['AOS']\n",
      "['AOS']\n",
      "['AOS']\n",
      "['AOS']\n",
      "['AOS']\n",
      "['AOS']\n",
      "['AOS']\n",
      "['AOS']\n",
      "['AOS']\n",
      "['AOS']\n",
      "['AOS']\n",
      "['AOS']\n",
      "['AOS']\n",
      "['AOS']\n"
     ]
    },
    {
     "name": "stderr",
     "output_type": "stream",
     "text": [
      "\r",
      "Meta-RL Agent Loop:   0%|          | 39/17441 [01:43<11:03:57,  2.29s/it]"
     ]
    },
    {
     "name": "stdout",
     "output_type": "stream",
     "text": [
      "['AOS']\n",
      "['AOS']\n",
      "['AOS']\n",
      "['AOS']\n",
      "['AOS']\n",
      "['AOS']\n",
      "['AOS']\n",
      "['AOS']\n",
      "['AOS']\n",
      "['AOS']\n",
      "['AOS']\n",
      "['AOS']\n",
      "['AOS']\n",
      "['AOS']\n",
      "['AOS']\n",
      "['AOS']\n",
      "['AOS']\n",
      "['AOS']\n",
      "['AOS']\n",
      "['AOS']\n",
      "['AOS']\n",
      "['AOS']\n",
      "['AOS']\n",
      "['AOS']\n"
     ]
    },
    {
     "name": "stderr",
     "output_type": "stream",
     "text": [
      "\r",
      "Meta-RL Agent Loop:   0%|          | 40/17441 [01:46<11:27:32,  2.37s/it]"
     ]
    },
    {
     "name": "stdout",
     "output_type": "stream",
     "text": [
      "['AOS']\n",
      "['AOS']\n",
      "['AOS']\n",
      "['AOS']\n",
      "['AOS']\n",
      "['AOS']\n",
      "['AOS']\n",
      "['AOS']\n",
      "['AOS']\n",
      "['AOS']\n",
      "['AOS']\n",
      "['AOS']\n",
      "['AOS']\n",
      "['AOS']\n",
      "['AOS']\n",
      "['AOS']\n",
      "['AOS']\n",
      "['AOS']\n",
      "['AOS']\n",
      "['AOS']\n",
      "['AOS']\n",
      "['AOS']\n",
      "['AOS']\n",
      "['AOS']\n"
     ]
    },
    {
     "name": "stderr",
     "output_type": "stream",
     "text": [
      "\r",
      "Meta-RL Agent Loop:   0%|          | 41/17441 [01:48<10:50:53,  2.24s/it]"
     ]
    },
    {
     "name": "stdout",
     "output_type": "stream",
     "text": [
      "['AOS']\n",
      "['AOS']\n",
      "['AOS']\n",
      "['AOS']\n",
      "['AOS']\n",
      "['AOS']\n",
      "['AOS']\n",
      "['AOS']\n",
      "['AOS']\n",
      "['AOS']\n",
      "['AOS']\n",
      "['AOS']\n",
      "['AOS']\n",
      "['AOS']\n",
      "['AOS']\n",
      "['AOS']\n",
      "['AOS']\n",
      "['AOS']\n",
      "['AOS']\n",
      "['AOS']\n",
      "['AOS']\n",
      "['AOS']\n",
      "['AOS']\n",
      "['AOS']\n"
     ]
    },
    {
     "name": "stderr",
     "output_type": "stream",
     "text": [
      "\r",
      "Meta-RL Agent Loop:   0%|          | 42/17441 [01:50<10:17:25,  2.13s/it]"
     ]
    },
    {
     "name": "stdout",
     "output_type": "stream",
     "text": [
      "['AOS']\n",
      "['AOS']\n",
      "['AOS']\n",
      "['AOS']\n",
      "['AOS']\n",
      "['AOS']\n",
      "['AOS']\n",
      "['AOS']\n",
      "['AOS']\n",
      "['AOS']\n",
      "['AOS']\n",
      "['AOS']\n",
      "['AOS']\n",
      "['AOS']\n",
      "['AOS']\n",
      "['AOS']\n",
      "['AOS']\n",
      "['AOS']\n",
      "['AOS']\n",
      "['AOS']\n",
      "['AOS']\n",
      "['AOS']\n",
      "['AOS']\n",
      "['AOS']\n"
     ]
    },
    {
     "name": "stderr",
     "output_type": "stream",
     "text": [
      "\r",
      "Meta-RL Agent Loop:   0%|          | 43/17441 [01:51<9:56:22,  2.06s/it] "
     ]
    },
    {
     "name": "stdout",
     "output_type": "stream",
     "text": [
      "['AOS']\n",
      "['AOS']\n",
      "['AOS']\n",
      "['AOS']\n",
      "['AOS']\n",
      "['AOS']\n",
      "['AOS']\n",
      "['AOS']\n",
      "['AOS']\n",
      "['AOS']\n",
      "['AOS']\n",
      "['AOS']\n",
      "['AOS']\n",
      "['AOS']\n",
      "['AOS']\n",
      "['AOS']\n",
      "['AOS']\n",
      "['AOS']\n",
      "['AOS']\n",
      "['AOS']\n",
      "['AOS']\n",
      "['AOS']\n",
      "['AOS']\n",
      "['AOS']\n"
     ]
    },
    {
     "name": "stderr",
     "output_type": "stream",
     "text": [
      "\r",
      "Meta-RL Agent Loop:   0%|          | 44/17441 [01:54<9:59:37,  2.07s/it]"
     ]
    },
    {
     "name": "stdout",
     "output_type": "stream",
     "text": [
      "['AOS']\n",
      "['AOS']\n",
      "['AOS']\n",
      "['AOS']\n",
      "['AOS']\n",
      "['AOS']\n",
      "['AOS']\n",
      "['AOS']\n",
      "['AOS']\n",
      "['AOS']\n",
      "['AOS']\n",
      "['AOS']\n",
      "['AOS']\n",
      "['AOS']\n",
      "['AOS']\n",
      "['AOS']\n",
      "['AOS']\n",
      "['AOS']\n",
      "['AOS']\n",
      "['AOS']\n",
      "['AOS']\n",
      "['AOS']\n",
      "['AOS']\n",
      "['AOS']\n"
     ]
    },
    {
     "name": "stderr",
     "output_type": "stream",
     "text": [
      "\r",
      "Meta-RL Agent Loop:   0%|          | 45/17441 [01:56<10:06:02,  2.09s/it]"
     ]
    },
    {
     "name": "stdout",
     "output_type": "stream",
     "text": [
      "['AOS']\n",
      "['AOS']\n",
      "['AOS']\n",
      "['AOS']\n",
      "['AOS']\n",
      "['AOS']\n",
      "['AOS']\n",
      "['AOS']\n",
      "['AOS']\n",
      "['AOS']\n",
      "['AOS']\n",
      "['AOS']\n",
      "['AOS']\n",
      "['AOS']\n",
      "['AOS']\n",
      "['AOS']\n",
      "['AOS']\n",
      "['AOS']\n",
      "['AOS']\n",
      "['AOS']\n",
      "['AOS']\n",
      "['AOS']\n",
      "['AOS']\n",
      "['AOS']\n"
     ]
    },
    {
     "name": "stderr",
     "output_type": "stream",
     "text": [
      "\r",
      "Meta-RL Agent Loop:   0%|          | 46/17441 [01:58<10:37:32,  2.20s/it]"
     ]
    },
    {
     "name": "stdout",
     "output_type": "stream",
     "text": [
      "['AOS']\n",
      "['AOS']\n",
      "['AOS']\n",
      "['AOS']\n",
      "['AOS']\n",
      "['AOS']\n",
      "['AOS']\n",
      "['AOS']\n",
      "['AOS']\n",
      "['AOS']\n",
      "['AOS']\n",
      "['AOS']\n",
      "['AOS']\n",
      "['AOS']\n",
      "['AOS']\n",
      "['AOS']\n",
      "['AOS']\n",
      "['AOS']\n",
      "['AOS']\n",
      "['AOS']\n",
      "['AOS']\n",
      "['AOS']\n",
      "['AOS']\n",
      "['AOS']\n"
     ]
    },
    {
     "name": "stderr",
     "output_type": "stream",
     "text": [
      "\r",
      "Meta-RL Agent Loop:   0%|          | 47/17441 [02:01<11:18:38,  2.34s/it]"
     ]
    },
    {
     "name": "stdout",
     "output_type": "stream",
     "text": [
      "['AOS']\n",
      "['AOS']\n",
      "['AOS']\n",
      "['AOS']\n",
      "['AOS']\n",
      "['AOS']\n",
      "['AOS']\n",
      "['AOS']\n",
      "['AOS']\n",
      "['AOS']\n",
      "['AOS']\n",
      "['AOS']\n",
      "['AOS']\n",
      "['AOS']\n",
      "['AOS']\n",
      "['AOS']\n",
      "['AOS']\n",
      "['AOS']\n",
      "['AOS']\n",
      "['AOS']\n",
      "['AOS']\n",
      "['AOS']\n",
      "['AOS']\n",
      "['AOS']\n"
     ]
    },
    {
     "name": "stderr",
     "output_type": "stream",
     "text": [
      "\r",
      "Meta-RL Agent Loop:   0%|          | 48/17441 [02:03<11:23:46,  2.36s/it]"
     ]
    },
    {
     "name": "stdout",
     "output_type": "stream",
     "text": [
      "['AOS']\n",
      "['AOS']\n",
      "['AOS']\n",
      "['AOS']\n",
      "['AOS']\n",
      "['AOS']\n",
      "['AOS']\n",
      "['AOS']\n",
      "['AOS']\n",
      "['AOS']\n",
      "['AOS']\n",
      "['AOS']\n",
      "['AOS']\n",
      "['AOS']\n",
      "['AOS']\n",
      "['AOS']\n",
      "['AOS']\n",
      "['AOS']\n",
      "['AOS']\n",
      "['AOS']\n",
      "['AOS']\n",
      "['AOS']\n",
      "['AOS']\n",
      "['AOS']\n"
     ]
    },
    {
     "name": "stderr",
     "output_type": "stream",
     "text": [
      "\r",
      "Meta-RL Agent Loop:   0%|          | 49/17441 [02:05<11:10:59,  2.31s/it]"
     ]
    },
    {
     "name": "stdout",
     "output_type": "stream",
     "text": [
      "['AOS']\n",
      "['AOS']\n",
      "['AOS']\n",
      "['AOS']\n",
      "['AOS']\n",
      "['AOS']\n",
      "['AOS']\n",
      "['AOS']\n",
      "['AOS']\n",
      "['AOS']\n",
      "['AOS']\n",
      "['AOS']\n",
      "['AOS']\n",
      "['AOS']\n",
      "['AOS']\n",
      "['AOS']\n",
      "['AOS']\n",
      "['AOS']\n",
      "['AOS']\n",
      "['AOS']\n",
      "['AOS']\n",
      "['AOS']\n",
      "['AOS']\n",
      "['AOS']\n"
     ]
    },
    {
     "name": "stderr",
     "output_type": "stream",
     "text": [
      "\r",
      "Meta-RL Agent Loop:   0%|          | 50/17441 [02:08<11:09:21,  2.31s/it]"
     ]
    },
    {
     "name": "stdout",
     "output_type": "stream",
     "text": [
      "['AOS']\n",
      "['AOS']\n",
      "['AOS']\n",
      "['AOS']\n",
      "['AOS']\n",
      "['AOS']\n",
      "['AOS']\n",
      "['AOS']\n",
      "['AOS']\n",
      "['AOS']\n",
      "['AOS']\n",
      "['AOS']\n",
      "['AOS']\n",
      "['AOS']\n",
      "['AOS']\n",
      "['AOS']\n",
      "['AOS']\n",
      "['AOS']\n",
      "['AOS']\n",
      "['AOS']\n",
      "['AOS']\n",
      "['AOS']\n",
      "['AOS']\n",
      "['AOS']\n"
     ]
    },
    {
     "name": "stderr",
     "output_type": "stream",
     "text": [
      "\r",
      "Meta-RL Agent Loop:   0%|          | 51/17441 [02:10<11:08:34,  2.31s/it]"
     ]
    },
    {
     "name": "stdout",
     "output_type": "stream",
     "text": [
      "['AOS']\n",
      "['AOS']\n",
      "['AOS']\n",
      "['AOS']\n",
      "['AOS']\n",
      "['AOS']\n",
      "['AOS']\n",
      "['AOS']\n",
      "['AOS']\n",
      "['AOS']\n",
      "['AOS']\n",
      "['AOS']\n",
      "['AOS']\n",
      "['AOS']\n",
      "['AOS']\n",
      "['AOS']\n",
      "['AOS']\n",
      "['AOS']\n",
      "['AOS']\n",
      "['AOS']\n",
      "['AOS']\n",
      "['AOS']\n",
      "['AOS']\n",
      "['AOS']\n"
     ]
    },
    {
     "name": "stderr",
     "output_type": "stream",
     "text": [
      "\r",
      "Meta-RL Agent Loop:   0%|          | 52/17441 [02:12<11:17:54,  2.34s/it]"
     ]
    },
    {
     "name": "stdout",
     "output_type": "stream",
     "text": [
      "['AOS']\n",
      "['AOS']\n",
      "['AOS']\n",
      "['AOS']\n",
      "['AOS']\n",
      "['AOS']\n",
      "['AOS']\n",
      "['AOS']\n",
      "['AOS']\n",
      "['AOS']\n",
      "['AOS']\n",
      "['AOS']\n",
      "['AOS']\n",
      "['AOS']\n",
      "['AOS']\n",
      "['AOS']\n",
      "['AOS']\n",
      "['AOS']\n",
      "['AOS']\n",
      "['AOS']\n",
      "['AOS']\n",
      "['AOS']\n",
      "['AOS']\n",
      "['AOS']\n"
     ]
    },
    {
     "name": "stderr",
     "output_type": "stream",
     "text": [
      "\r",
      "Meta-RL Agent Loop:   0%|          | 53/17441 [02:15<12:12:15,  2.53s/it]"
     ]
    },
    {
     "name": "stdout",
     "output_type": "stream",
     "text": [
      "['AOS']\n",
      "['AOS']\n",
      "['AOS']\n",
      "['AOS']\n",
      "['AOS']\n",
      "['AOS']\n",
      "['AOS']\n",
      "['AOS']\n",
      "['AOS']\n",
      "['AOS']\n",
      "['AOS']\n",
      "['AOS']\n",
      "['AOS']\n",
      "['AOS']\n",
      "['AOS']\n",
      "['AOS']\n",
      "['AOS']\n",
      "['AOS']\n",
      "['AOS']\n",
      "['AOS']\n",
      "['AOS']\n",
      "['AOS']\n",
      "['AOS']\n",
      "['AOS']\n"
     ]
    },
    {
     "name": "stderr",
     "output_type": "stream",
     "text": [
      "\r",
      "Meta-RL Agent Loop:   0%|          | 54/17441 [02:18<12:28:42,  2.58s/it]"
     ]
    },
    {
     "name": "stdout",
     "output_type": "stream",
     "text": [
      "['AOS']\n",
      "['AOS']\n",
      "['AOS']\n",
      "['AOS']\n",
      "['AOS']\n",
      "['AOS']\n",
      "['AOS']\n",
      "['AOS']\n",
      "['AOS']\n",
      "['AOS']\n",
      "['AOS']\n",
      "['AOS']\n",
      "['AOS']\n",
      "['AOS']\n",
      "['AOS']\n",
      "['AOS']\n",
      "['AOS']\n",
      "['AOS']\n",
      "['AOS']\n",
      "['AOS']\n",
      "['AOS']\n",
      "['AOS']\n",
      "['AOS']\n",
      "['AOS']\n"
     ]
    },
    {
     "name": "stderr",
     "output_type": "stream",
     "text": [
      "\r",
      "Meta-RL Agent Loop:   0%|          | 55/17441 [02:21<12:11:01,  2.52s/it]"
     ]
    },
    {
     "name": "stdout",
     "output_type": "stream",
     "text": [
      "['AOS']\n",
      "['AOS']\n",
      "['AOS']\n",
      "['AOS']\n",
      "['AOS']\n",
      "['AOS']\n",
      "['AOS']\n",
      "['AOS']\n",
      "['AOS']\n",
      "['AOS']\n",
      "['AOS']\n",
      "['AOS']\n",
      "['AOS']\n",
      "['AOS']\n",
      "['AOS']\n",
      "['AOS']\n",
      "['AOS']\n",
      "['AOS']\n",
      "['AOS']\n",
      "['AOS']\n",
      "['AOS']\n",
      "['AOS']\n",
      "['AOS']\n",
      "['AOS']\n"
     ]
    },
    {
     "name": "stderr",
     "output_type": "stream",
     "text": [
      "\r",
      "Meta-RL Agent Loop:   0%|          | 56/17441 [02:23<11:26:12,  2.37s/it]"
     ]
    },
    {
     "name": "stdout",
     "output_type": "stream",
     "text": [
      "['AOS']\n",
      "['AOS']\n",
      "['AOS']\n",
      "['AOS']\n",
      "['AOS']\n",
      "['AOS']\n",
      "['AOS']\n",
      "['AOS']\n",
      "['AOS']\n",
      "['AOS']\n",
      "['AOS']\n",
      "['AOS']\n",
      "['AOS']\n",
      "['AOS']\n",
      "['AOS']\n",
      "['AOS']\n",
      "['AOS']\n",
      "['AOS']\n",
      "['AOS']\n",
      "['AOS']\n",
      "['AOS']\n",
      "['AOS']\n",
      "['AOS']\n",
      "['AOS']\n"
     ]
    },
    {
     "name": "stderr",
     "output_type": "stream",
     "text": [
      "\r",
      "Meta-RL Agent Loop:   0%|          | 57/17441 [02:24<10:42:04,  2.22s/it]"
     ]
    },
    {
     "name": "stdout",
     "output_type": "stream",
     "text": [
      "['AOS']\n",
      "['AOS']\n",
      "['AOS']\n",
      "['AOS']\n",
      "['AOS']\n",
      "['AOS']\n",
      "['AOS']\n",
      "['AOS']\n",
      "['AOS']\n",
      "['AOS']\n",
      "['AOS']\n",
      "['AOS']\n",
      "['AOS']\n",
      "['AOS']\n",
      "['AOS']\n",
      "['AOS']\n",
      "['AOS']\n",
      "['AOS']\n",
      "['AOS']\n",
      "['AOS']\n",
      "['AOS']\n",
      "['AOS']\n",
      "['AOS']\n",
      "['AOS']\n"
     ]
    },
    {
     "name": "stderr",
     "output_type": "stream",
     "text": [
      "\r",
      "Meta-RL Agent Loop:   0%|          | 58/17441 [02:26<10:19:03,  2.14s/it]"
     ]
    },
    {
     "name": "stdout",
     "output_type": "stream",
     "text": [
      "['AOS']\n",
      "['AOS']\n",
      "['AOS']\n",
      "['AOS']\n",
      "['AOS']\n",
      "['AOS']\n",
      "['AOS']\n",
      "['AOS']\n",
      "['AOS']\n",
      "['AOS']\n",
      "['AOS']\n",
      "['AOS']\n",
      "['AOS']\n",
      "['AOS']\n",
      "['AOS']\n",
      "['AOS']\n",
      "['AOS']\n",
      "['AOS']\n",
      "['AOS']\n",
      "['AOS']\n",
      "['AOS']\n",
      "['AOS']\n",
      "['AOS']\n",
      "['AOS']\n"
     ]
    },
    {
     "name": "stderr",
     "output_type": "stream",
     "text": [
      "\r",
      "Meta-RL Agent Loop:   0%|          | 59/17441 [02:28<10:16:38,  2.13s/it]"
     ]
    },
    {
     "name": "stdout",
     "output_type": "stream",
     "text": [
      "['AOS']\n",
      "['AOS']\n",
      "['AOS']\n",
      "['AOS']\n",
      "['AOS']\n",
      "['AOS']\n",
      "['AOS']\n",
      "['AOS']\n",
      "['AOS']\n",
      "['AOS']\n",
      "['AOS']\n",
      "['AOS']\n",
      "['AOS']\n",
      "['AOS']\n",
      "['AOS']\n",
      "['AOS']\n",
      "['AOS']\n",
      "['AOS']\n",
      "['AOS']\n",
      "['AOS']\n",
      "['AOS']\n",
      "['AOS']\n",
      "['AOS']\n",
      "['AOS']\n"
     ]
    },
    {
     "name": "stderr",
     "output_type": "stream",
     "text": [
      "\r",
      "Meta-RL Agent Loop:   0%|          | 60/17441 [02:31<10:52:10,  2.25s/it]"
     ]
    },
    {
     "name": "stdout",
     "output_type": "stream",
     "text": [
      "['AOS']\n",
      "['AOS']\n",
      "['AOS']\n",
      "['AOS']\n",
      "['AOS']\n",
      "['AOS']\n",
      "['AOS']\n",
      "['AOS']\n",
      "['AOS']\n",
      "['AOS']\n",
      "['AOS']\n",
      "['AOS']\n",
      "['AOS']\n",
      "['AOS']\n",
      "['AOS']\n",
      "['AOS']\n",
      "['AOS']\n",
      "['AOS']\n",
      "['AOS']\n",
      "['AOS']\n",
      "['AOS']\n",
      "['AOS']\n",
      "['AOS']\n",
      "['AOS']\n"
     ]
    },
    {
     "name": "stderr",
     "output_type": "stream",
     "text": [
      "\r",
      "Meta-RL Agent Loop:   0%|          | 61/17441 [02:34<11:16:08,  2.33s/it]"
     ]
    },
    {
     "name": "stdout",
     "output_type": "stream",
     "text": [
      "['AOS']\n",
      "['AOS']\n",
      "['AOS']\n",
      "['AOS']\n",
      "['AOS']\n",
      "['AOS']\n",
      "['AOS']\n",
      "['AOS']\n",
      "['AOS']\n",
      "['AOS']\n",
      "['AOS']\n",
      "['AOS']\n",
      "['AOS']\n",
      "['AOS']\n",
      "['AOS']\n",
      "['AOS']\n",
      "['AOS']\n",
      "['AOS']\n",
      "['AOS']\n",
      "['AOS']\n",
      "['AOS']\n",
      "['AOS']\n",
      "['AOS']\n",
      "['AOS']\n"
     ]
    },
    {
     "name": "stderr",
     "output_type": "stream",
     "text": [
      "\r",
      "Meta-RL Agent Loop:   0%|          | 62/17441 [02:36<10:50:22,  2.25s/it]"
     ]
    },
    {
     "name": "stdout",
     "output_type": "stream",
     "text": [
      "['AOS']\n",
      "['AOS']\n",
      "['AOS']\n",
      "['AOS']\n",
      "['AOS']\n",
      "['AOS']\n",
      "['AOS']\n",
      "['AOS']\n",
      "['AOS']\n",
      "['AOS']\n",
      "['AOS']\n",
      "['AOS']\n",
      "['AOS']\n",
      "['AOS']\n",
      "['AOS']\n",
      "['AOS']\n",
      "['AOS']\n",
      "['AOS']\n",
      "['AOS']\n",
      "['AOS']\n",
      "['AOS']\n",
      "['AOS']\n",
      "['AOS']\n",
      "['AOS']\n"
     ]
    },
    {
     "name": "stderr",
     "output_type": "stream",
     "text": [
      "\r",
      "Meta-RL Agent Loop:   0%|          | 63/17441 [02:37<10:20:51,  2.14s/it]"
     ]
    },
    {
     "name": "stdout",
     "output_type": "stream",
     "text": [
      "['AOS']\n",
      "['AOS']\n",
      "['AOS']\n",
      "['AOS']\n",
      "['AOS']\n",
      "['AOS']\n",
      "['AOS']\n",
      "['AOS']\n",
      "['AOS']\n",
      "['AOS']\n",
      "['AOS']\n",
      "['AOS']\n",
      "['AOS']\n",
      "['AOS']\n",
      "['AOS']\n",
      "['AOS']\n",
      "['AOS']\n",
      "['AOS']\n",
      "['AOS']\n",
      "['AOS']\n",
      "['AOS']\n",
      "['AOS']\n",
      "['AOS']\n",
      "['AOS']\n"
     ]
    },
    {
     "name": "stderr",
     "output_type": "stream",
     "text": [
      "\r",
      "Meta-RL Agent Loop:   0%|          | 64/17441 [02:39<9:59:58,  2.07s/it] "
     ]
    },
    {
     "name": "stdout",
     "output_type": "stream",
     "text": [
      "['AOS']\n",
      "['AOS']\n",
      "['AOS']\n",
      "['AOS']\n",
      "['AOS']\n",
      "['AOS']\n",
      "['AOS']\n",
      "['AOS']\n",
      "['AOS']\n",
      "['AOS']\n",
      "['AOS']\n",
      "['AOS']\n",
      "['AOS']\n",
      "['AOS']\n",
      "['AOS']\n",
      "['AOS']\n",
      "['AOS']\n",
      "['AOS']\n",
      "['AOS']\n",
      "['AOS']\n",
      "['AOS']\n",
      "['AOS']\n",
      "['AOS']\n",
      "['AOS']\n"
     ]
    },
    {
     "name": "stderr",
     "output_type": "stream",
     "text": [
      "\r",
      "Meta-RL Agent Loop:   0%|          | 65/17441 [02:41<9:58:31,  2.07s/it]"
     ]
    },
    {
     "name": "stdout",
     "output_type": "stream",
     "text": [
      "['AOS']\n",
      "['AOS']\n",
      "['AOS']\n",
      "['AOS']\n",
      "['AOS']\n",
      "['AOS']\n",
      "['AOS']\n",
      "['AOS']\n",
      "['AOS']\n",
      "['AOS']\n",
      "['AOS']\n",
      "['AOS']\n",
      "['AOS']\n",
      "['AOS']\n",
      "['AOS']\n",
      "['AOS']\n",
      "['AOS']\n",
      "['AOS']\n",
      "['AOS']\n",
      "['AOS']\n",
      "['AOS']\n",
      "['AOS']\n",
      "['AOS']\n",
      "['AOS']\n"
     ]
    },
    {
     "name": "stderr",
     "output_type": "stream",
     "text": [
      "\r",
      "Meta-RL Agent Loop:   0%|          | 66/17441 [02:43<9:47:27,  2.03s/it]"
     ]
    },
    {
     "name": "stdout",
     "output_type": "stream",
     "text": [
      "['AOS']\n",
      "['AOS']\n",
      "['AOS']\n",
      "['AOS']\n",
      "['AOS']\n",
      "['AOS']\n",
      "['AOS']\n",
      "['AOS']\n",
      "['AOS']\n",
      "['AOS']\n",
      "['AOS']\n",
      "['AOS']\n",
      "['AOS']\n",
      "['AOS']\n",
      "['AOS']\n",
      "['AOS']\n",
      "['AOS']\n",
      "['AOS']\n",
      "['AOS']\n",
      "['AOS']\n",
      "['AOS']\n",
      "['AOS']\n",
      "['AOS']\n",
      "['AOS']\n"
     ]
    },
    {
     "name": "stderr",
     "output_type": "stream",
     "text": [
      "\r",
      "Meta-RL Agent Loop:   0%|          | 67/17441 [02:45<9:36:45,  1.99s/it]"
     ]
    },
    {
     "name": "stdout",
     "output_type": "stream",
     "text": [
      "['AOS']\n",
      "['AOS']\n",
      "['AOS']\n",
      "['AOS']\n",
      "['AOS']\n",
      "['AOS']\n",
      "['AOS']\n",
      "['AOS']\n",
      "['AOS']\n",
      "['AOS']\n",
      "['AOS']\n",
      "['AOS']\n",
      "['AOS']\n",
      "['AOS']\n",
      "['AOS']\n",
      "['AOS']\n",
      "['AOS']\n",
      "['AOS']\n",
      "['AOS']\n",
      "['AOS']\n",
      "['AOS']\n",
      "['AOS']\n",
      "['AOS']\n",
      "['AOS']\n"
     ]
    },
    {
     "name": "stderr",
     "output_type": "stream",
     "text": [
      "\r",
      "Meta-RL Agent Loop:   0%|          | 68/17441 [02:47<9:38:59,  2.00s/it]"
     ]
    },
    {
     "name": "stdout",
     "output_type": "stream",
     "text": [
      "['AOS']\n",
      "['AOS']\n",
      "['AOS']\n",
      "['AOS']\n",
      "['AOS']\n",
      "['AOS']\n",
      "['AOS']\n",
      "['AOS']\n",
      "['AOS']\n",
      "['AOS']\n",
      "['AOS']\n",
      "['AOS']\n",
      "['AOS']\n",
      "['AOS']\n",
      "['AOS']\n",
      "['AOS']\n",
      "['AOS']\n",
      "['AOS']\n",
      "['AOS']\n",
      "['AOS']\n",
      "['AOS']\n",
      "['AOS']\n",
      "['AOS']\n",
      "['AOS']\n"
     ]
    },
    {
     "name": "stderr",
     "output_type": "stream",
     "text": [
      "\r",
      "Meta-RL Agent Loop:   0%|          | 69/17441 [02:50<10:25:50,  2.16s/it]"
     ]
    },
    {
     "name": "stdout",
     "output_type": "stream",
     "text": [
      "['AOS']\n",
      "['AOS']\n",
      "['AOS']\n",
      "['AOS']\n",
      "['AOS']\n",
      "['AOS']\n",
      "['AOS']\n",
      "['AOS']\n",
      "['AOS']\n",
      "['AOS']\n",
      "['AOS']\n",
      "['AOS']\n",
      "['AOS']\n",
      "['AOS']\n",
      "['AOS']\n",
      "['AOS']\n",
      "['AOS']\n",
      "['AOS']\n",
      "['AOS']\n",
      "['AOS']\n",
      "['AOS']\n",
      "['AOS']\n",
      "['AOS']\n",
      "['AOS']\n"
     ]
    },
    {
     "name": "stderr",
     "output_type": "stream",
     "text": [
      "\r",
      "Meta-RL Agent Loop:   0%|          | 70/17441 [02:52<10:53:06,  2.26s/it]"
     ]
    },
    {
     "name": "stdout",
     "output_type": "stream",
     "text": [
      "['AOS']\n",
      "['AOS']\n",
      "['ABT']\n",
      "['ABT']\n",
      "['ABT']\n",
      "['ABT']\n",
      "['ABT']\n",
      "['ABT']\n",
      "['ABT']\n",
      "['ABT']\n",
      "['ABT']\n",
      "['ABT']\n",
      "['ABT']\n",
      "['ABT']\n",
      "['ABT']\n",
      "['ABT']\n",
      "['ABT']\n",
      "['ABT']\n",
      "['ABT']\n",
      "['ABT']\n",
      "['ABT']\n",
      "['ABT']\n",
      "['ABT']\n",
      "['ABT']\n"
     ]
    },
    {
     "name": "stderr",
     "output_type": "stream",
     "text": [
      "\r",
      "Meta-RL Agent Loop:   0%|          | 71/17441 [02:55<10:59:12,  2.28s/it]"
     ]
    },
    {
     "name": "stdout",
     "output_type": "stream",
     "text": [
      "['ABT']\n",
      "['ABT']\n",
      "['ABT']\n",
      "['ABT']\n",
      "['ABT']\n",
      "['ABT']\n",
      "['ABT']\n",
      "['ABT']\n",
      "['ABT']\n",
      "['ABT']\n",
      "['ABT']\n",
      "['ABT']\n",
      "['ABT']\n",
      "['ABT']\n",
      "['ABT']\n",
      "['ABT']\n",
      "['ABT']\n",
      "['ABT']\n",
      "['ABT']\n",
      "['ABT']\n",
      "['ABT']\n",
      "['ABT']\n",
      "['ABT']\n",
      "['ABT']\n"
     ]
    },
    {
     "name": "stderr",
     "output_type": "stream",
     "text": [
      "\r",
      "Meta-RL Agent Loop:   0%|          | 72/17441 [02:57<11:26:38,  2.37s/it]"
     ]
    },
    {
     "name": "stdout",
     "output_type": "stream",
     "text": [
      "['ABT']\n",
      "['ABT']\n",
      "['ABT']\n",
      "['ABT']\n",
      "['ABT']\n",
      "['ABT']\n",
      "['ABT']\n",
      "['ABT']\n",
      "['ABT']\n",
      "['ABT']\n",
      "['ABT']\n",
      "['ABT']\n",
      "['ABT']\n",
      "['ABT']\n",
      "['ABT']\n",
      "['ABT']\n",
      "['ABT']\n",
      "['ABT']\n",
      "['ABT']\n",
      "['ABT']\n",
      "['ABT']\n",
      "['ABT']\n",
      "['ABT']\n",
      "['ABT']\n"
     ]
    },
    {
     "name": "stderr",
     "output_type": "stream",
     "text": [
      "\r",
      "Meta-RL Agent Loop:   0%|          | 73/17441 [03:00<11:31:01,  2.39s/it]"
     ]
    },
    {
     "name": "stdout",
     "output_type": "stream",
     "text": [
      "['ABT']\n",
      "['ABT']\n",
      "['ABT']\n",
      "['ABT']\n",
      "['ABT']\n",
      "['ABT']\n",
      "['ABT']\n",
      "['ABT']\n",
      "['ABT']\n",
      "['ABT']\n",
      "['ABT']\n",
      "['ABT']\n",
      "['ABT']\n",
      "['ABT']\n",
      "['ABT']\n",
      "['ABT']\n",
      "['ABT']\n",
      "['ABT']\n",
      "['ABT']\n",
      "['ABT']\n",
      "['ABT']\n",
      "['ABT']\n",
      "['ABT']\n",
      "['ABT']\n"
     ]
    },
    {
     "name": "stderr",
     "output_type": "stream",
     "text": [
      "\r",
      "Meta-RL Agent Loop:   0%|          | 74/17441 [03:03<12:17:33,  2.55s/it]"
     ]
    },
    {
     "name": "stdout",
     "output_type": "stream",
     "text": [
      "['ABT']\n",
      "['ABT']\n",
      "['ABT']\n",
      "['ABT']\n",
      "['ABT']\n",
      "['ABT']\n",
      "['ABT']\n",
      "['ABT']\n",
      "['ABT']\n",
      "['ABT']\n",
      "['ABT']\n",
      "['ABT']\n",
      "['ABT']\n",
      "['ABT']\n",
      "['ABT']\n",
      "['ABT']\n",
      "['ABT']\n",
      "['ABT']\n",
      "['ABT']\n",
      "['ABT']\n",
      "['ABT']\n",
      "['ABT']\n",
      "['ABT']\n",
      "['ABT']\n"
     ]
    },
    {
     "name": "stderr",
     "output_type": "stream",
     "text": [
      "\r",
      "Meta-RL Agent Loop:   0%|          | 75/17441 [03:06<12:50:19,  2.66s/it]"
     ]
    },
    {
     "name": "stdout",
     "output_type": "stream",
     "text": [
      "['ABT']\n",
      "['ABT']\n",
      "['ABT']\n",
      "['ABT']\n",
      "['ABT']\n",
      "['ABT']\n",
      "['ABT']\n",
      "['ABT']\n",
      "['ABT']\n",
      "['ABT']\n",
      "['ABT']\n",
      "['ABT']\n",
      "['ABT']\n",
      "['ABT']\n",
      "['ABT']\n",
      "['ABT']\n",
      "['ABT']\n",
      "['ABT']\n",
      "['ABT']\n",
      "['ABT']\n",
      "['ABT']\n",
      "['ABT']\n",
      "['ABT']\n",
      "['ABT']\n"
     ]
    },
    {
     "name": "stderr",
     "output_type": "stream",
     "text": [
      "\r",
      "Meta-RL Agent Loop:   0%|          | 76/17441 [03:08<13:02:41,  2.70s/it]"
     ]
    },
    {
     "name": "stdout",
     "output_type": "stream",
     "text": [
      "['ABT']\n",
      "['ABT']\n",
      "['ABT']\n",
      "['ABT']\n",
      "['ABT']\n",
      "['ABT']\n",
      "['ABT']\n",
      "['ABT']\n",
      "['ABT']\n",
      "['ABT']\n",
      "['ABT']\n",
      "['ABT']\n",
      "['ABT']\n",
      "['ABT']\n",
      "['ABT']\n",
      "['ABT']\n",
      "['ABT']\n",
      "['ABT']\n",
      "['ABT']\n",
      "['ABT']\n",
      "['ABT']\n",
      "['ABT']\n",
      "['ABT']\n",
      "['ABT']\n"
     ]
    },
    {
     "name": "stderr",
     "output_type": "stream",
     "text": [
      "\r",
      "Meta-RL Agent Loop:   0%|          | 77/17441 [03:11<13:07:52,  2.72s/it]"
     ]
    },
    {
     "name": "stdout",
     "output_type": "stream",
     "text": [
      "['ABT']\n",
      "['ABT']\n",
      "['ABT']\n",
      "['ABT']\n",
      "['ABT']\n",
      "['ABT']\n",
      "['ABT']\n",
      "['ABT']\n",
      "['ABT']\n",
      "['ABT']\n",
      "['ABT']\n",
      "['ABT']\n",
      "['ABT']\n",
      "['ABT']\n",
      "['ABT']\n",
      "['ABT']\n",
      "['ABT']\n",
      "['ABT']\n",
      "['ABT']\n",
      "['ABT']\n",
      "['ABT']\n",
      "['ABT']\n",
      "['ABT']\n",
      "['ABT']\n"
     ]
    },
    {
     "name": "stderr",
     "output_type": "stream",
     "text": [
      "\r",
      "Meta-RL Agent Loop:   0%|          | 78/17441 [03:14<12:55:15,  2.68s/it]"
     ]
    },
    {
     "name": "stdout",
     "output_type": "stream",
     "text": [
      "['ABT']\n",
      "['ABT']\n",
      "['ABT']\n",
      "['ABT']\n",
      "['ABT']\n",
      "['ABT']\n",
      "['ABT']\n",
      "['ABT']\n",
      "['ABT']\n",
      "['ABT']\n",
      "['ABT']\n",
      "['ABT']\n",
      "['ABT']\n",
      "['ABT']\n",
      "['ABT']\n",
      "['ABT']\n",
      "['ABT']\n",
      "['ABT']\n",
      "['ABT']\n",
      "['ABT']\n",
      "['ABT']\n",
      "['ABT']\n",
      "['ABT']\n",
      "['ABT']\n"
     ]
    },
    {
     "name": "stderr",
     "output_type": "stream",
     "text": [
      "\r",
      "Meta-RL Agent Loop:   0%|          | 79/17441 [03:16<12:20:29,  2.56s/it]"
     ]
    },
    {
     "name": "stdout",
     "output_type": "stream",
     "text": [
      "['ABT']\n",
      "['ABT']\n",
      "['ABT']\n",
      "['ABT']\n",
      "['ABT']\n",
      "['ABT']\n",
      "['ABT']\n",
      "['ABT']\n",
      "['ABT']\n",
      "['ABT']\n",
      "['ABT']\n",
      "['ABT']\n",
      "['ABT']\n",
      "['ABT']\n",
      "['ABT']\n",
      "['ABT']\n",
      "['ABT']\n",
      "['ABT']\n",
      "['ABT']\n",
      "['ABT']\n",
      "['ABT']\n",
      "['ABT']\n",
      "['ABT']\n",
      "['ABT']\n"
     ]
    },
    {
     "name": "stderr",
     "output_type": "stream",
     "text": [
      "\r",
      "Meta-RL Agent Loop:   0%|          | 80/17441 [03:19<13:08:24,  2.72s/it]"
     ]
    },
    {
     "name": "stdout",
     "output_type": "stream",
     "text": [
      "['ABT']\n",
      "['ABT']\n",
      "['ABT']\n",
      "['ABT']\n",
      "['ABT']\n",
      "['ABT']\n",
      "['ABT']\n",
      "['ABT']\n",
      "['ABT']\n",
      "['ABT']\n",
      "['ABT']\n",
      "['ABT']\n",
      "['ABT']\n",
      "['ABT']\n",
      "['ABT']\n",
      "['ABT']\n",
      "['ABT']\n",
      "['ABT']\n",
      "['ABT']\n",
      "['ABT']\n",
      "['ABT']\n",
      "['ABT']\n",
      "['ABT']\n",
      "['ABT']\n"
     ]
    },
    {
     "name": "stderr",
     "output_type": "stream",
     "text": [
      "\r",
      "Meta-RL Agent Loop:   0%|          | 81/17441 [03:22<13:23:58,  2.78s/it]"
     ]
    },
    {
     "name": "stdout",
     "output_type": "stream",
     "text": [
      "['ABT']\n",
      "['ABT']\n",
      "['ABT']\n",
      "['ABT']\n",
      "['ABT']\n",
      "['ABT']\n",
      "['ABT']\n",
      "['ABT']\n",
      "['ABT']\n",
      "['ABT']\n",
      "['ABT']\n",
      "['ABT']\n",
      "['ABT']\n",
      "['ABT']\n",
      "['ABT']\n",
      "['ABT']\n",
      "['ABT']\n",
      "['ABT']\n",
      "['ABT']\n",
      "['ABT']\n",
      "['ABT']\n",
      "['ABT']\n",
      "['ABT']\n",
      "['ABT']\n"
     ]
    },
    {
     "name": "stderr",
     "output_type": "stream",
     "text": [
      "\r",
      "Meta-RL Agent Loop:   0%|          | 82/17441 [03:24<13:02:51,  2.71s/it]"
     ]
    },
    {
     "name": "stdout",
     "output_type": "stream",
     "text": [
      "['ABT']\n",
      "['ABT']\n",
      "['ABT']\n",
      "['ABT']\n",
      "['ABT']\n",
      "['ABT']\n",
      "['ABT']\n",
      "['ABT']\n",
      "['ABT']\n",
      "['ABT']\n",
      "['ABT']\n",
      "['ABT']\n",
      "['ABT']\n",
      "['ABT']\n",
      "['ABT']\n",
      "['ABT']\n",
      "['ABT']\n",
      "['ABT']\n",
      "['ABT']\n",
      "['ABT']\n",
      "['ABT']\n",
      "['ABT']\n",
      "['ABT']\n",
      "['ABT']\n"
     ]
    },
    {
     "name": "stderr",
     "output_type": "stream",
     "text": [
      "\r",
      "Meta-RL Agent Loop:   0%|          | 83/17441 [03:27<12:32:01,  2.60s/it]"
     ]
    },
    {
     "name": "stdout",
     "output_type": "stream",
     "text": [
      "['ABT']\n",
      "['ABT']\n",
      "['ABT']\n",
      "['ABT']\n",
      "['ABT']\n",
      "['ABT']\n",
      "['ABT']\n",
      "['ABT']\n",
      "['ABT']\n",
      "['ABT']\n",
      "['ABT']\n",
      "['ABT']\n",
      "['ABT']\n",
      "['ABT']\n",
      "['ABT']\n",
      "['ABT']\n",
      "['ABT']\n",
      "['ABT']\n",
      "['ABT']\n",
      "['ABT']\n",
      "['ABT']\n",
      "['ABT']\n",
      "['ABT']\n",
      "['ABT']\n"
     ]
    },
    {
     "name": "stderr",
     "output_type": "stream",
     "text": [
      "\r",
      "Meta-RL Agent Loop:   0%|          | 84/17441 [03:30<12:47:16,  2.65s/it]"
     ]
    },
    {
     "name": "stdout",
     "output_type": "stream",
     "text": [
      "['ABT']\n",
      "['ABT']\n",
      "['ABT']\n",
      "['ABT']\n",
      "['ABT']\n",
      "['ABT']\n",
      "['ABT']\n",
      "['ABT']\n",
      "['ABT']\n",
      "['ABT']\n",
      "['ABT']\n",
      "['ABT']\n",
      "['ABT']\n",
      "['ABT']\n",
      "['ABT']\n",
      "['ABT']\n",
      "['ABT']\n",
      "['ABT']\n",
      "['ABT']\n",
      "['ABT']\n",
      "['ABT']\n",
      "['ABT']\n",
      "['ABT']\n",
      "['ABT']\n"
     ]
    },
    {
     "name": "stderr",
     "output_type": "stream",
     "text": [
      "\r",
      "Meta-RL Agent Loop:   0%|          | 85/17441 [03:32<12:24:21,  2.57s/it]"
     ]
    },
    {
     "name": "stdout",
     "output_type": "stream",
     "text": [
      "['ABT']\n",
      "['ABT']\n",
      "['ABT']\n",
      "['ABT']\n",
      "['ABT']\n",
      "['ABT']\n",
      "['ABT']\n",
      "['ABT']\n",
      "['ABT']\n",
      "['ABT']\n",
      "['ABT']\n",
      "['ABT']\n",
      "['ABT']\n",
      "['ABT']\n",
      "['ABT']\n",
      "['ABT']\n",
      "['ABT']\n",
      "['ABT']\n",
      "['ABT']\n",
      "['ABT']\n",
      "['ABT']\n",
      "['ABT']\n",
      "['ABT']\n",
      "['ABT']\n"
     ]
    },
    {
     "name": "stderr",
     "output_type": "stream",
     "text": [
      "\r",
      "Meta-RL Agent Loop:   0%|          | 86/17441 [03:35<12:50:58,  2.67s/it]"
     ]
    },
    {
     "name": "stdout",
     "output_type": "stream",
     "text": [
      "['ABT']\n",
      "['ABT']\n",
      "['ABT']\n",
      "['ABT']\n",
      "['ABT']\n",
      "['ABT']\n",
      "['ABT']\n",
      "['ABT']\n",
      "['ABT']\n",
      "['ABT']\n",
      "['ABT']\n",
      "['ABT']\n",
      "['ABT']\n",
      "['ABT']\n",
      "['ABT']\n",
      "['ABT']\n",
      "['ABT']\n",
      "['ABT']\n",
      "['ABT']\n",
      "['ABT']\n",
      "['ABT']\n",
      "['ABT']\n",
      "['ABT']\n",
      "['ABT']\n"
     ]
    },
    {
     "name": "stderr",
     "output_type": "stream",
     "text": [
      "\r",
      "Meta-RL Agent Loop:   0%|          | 87/17441 [03:38<13:21:46,  2.77s/it]"
     ]
    },
    {
     "name": "stdout",
     "output_type": "stream",
     "text": [
      "['ABT']\n",
      "['ABT']\n",
      "['ABT']\n",
      "['ABT']\n",
      "['ABT']\n",
      "['ABT']\n",
      "['ABT']\n",
      "['ABT']\n",
      "['ABT']\n",
      "['ABT']\n",
      "['ABT']\n",
      "['ABT']\n",
      "['ABT']\n",
      "['ABT']\n",
      "['ABT']\n",
      "['ABT']\n",
      "['ABT']\n",
      "['ABT']\n",
      "['ABT']\n",
      "['ABT']\n",
      "['ABT']\n",
      "['ABT']\n",
      "['ABT']\n",
      "['ABT']\n"
     ]
    },
    {
     "name": "stderr",
     "output_type": "stream",
     "text": [
      "\r",
      "Meta-RL Agent Loop:   1%|          | 88/17441 [03:41<13:08:03,  2.72s/it]"
     ]
    },
    {
     "name": "stdout",
     "output_type": "stream",
     "text": [
      "['ABT']\n",
      "['ABT']\n",
      "['ABT']\n",
      "['ABT']\n",
      "['ABT']\n",
      "['ABT']\n",
      "['ABT']\n",
      "['ABT']\n",
      "['ABT']\n",
      "['ABT']\n",
      "['ABT']\n",
      "['ABT']\n",
      "['ABT']\n",
      "['ABT']\n",
      "['ABT']\n",
      "['ABT']\n",
      "['ABT']\n",
      "['ABT']\n",
      "['ABT']\n",
      "['ABT']\n",
      "['ABT']\n",
      "['ABT']\n",
      "['ABT']\n",
      "['ABT']\n"
     ]
    },
    {
     "name": "stderr",
     "output_type": "stream",
     "text": [
      "\r",
      "Meta-RL Agent Loop:   1%|          | 89/17441 [03:43<12:39:20,  2.63s/it]"
     ]
    },
    {
     "name": "stdout",
     "output_type": "stream",
     "text": [
      "['ABT']\n",
      "['ABT']\n",
      "['ABT']\n",
      "['ABT']\n",
      "['ABT']\n",
      "['ABT']\n",
      "['ABT']\n",
      "['ABT']\n",
      "['ABT']\n",
      "['ABT']\n",
      "['ABT']\n",
      "['ABT']\n",
      "['ABT']\n",
      "['ABT']\n",
      "['ABT']\n",
      "['ABT']\n",
      "['ABT']\n",
      "['ABT']\n",
      "['ABT']\n",
      "['ABT']\n",
      "['ABT']\n",
      "['ABT']\n",
      "['ABT']\n",
      "['ABT']\n"
     ]
    },
    {
     "name": "stderr",
     "output_type": "stream",
     "text": [
      "\r",
      "Meta-RL Agent Loop:   1%|          | 90/17441 [03:45<12:27:40,  2.59s/it]"
     ]
    },
    {
     "name": "stdout",
     "output_type": "stream",
     "text": [
      "['ABT']\n",
      "['ABT']\n",
      "['ABT']\n",
      "['ABT']\n",
      "['ABT']\n",
      "['ABT']\n",
      "['ABT']\n",
      "['ABT']\n",
      "['ABT']\n",
      "['ABT']\n",
      "['ABT']\n",
      "['ABT']\n",
      "['ABT']\n",
      "['ABT']\n",
      "['ABT']\n",
      "['ABT']\n",
      "['ABT']\n",
      "['ABT']\n",
      "['ABT']\n",
      "['ABT']\n",
      "['ABT']\n",
      "['ABT']\n",
      "['ABT']\n",
      "['ABT']\n"
     ]
    },
    {
     "name": "stderr",
     "output_type": "stream",
     "text": [
      "\r",
      "Meta-RL Agent Loop:   1%|          | 91/17441 [03:48<11:56:03,  2.48s/it]"
     ]
    },
    {
     "name": "stdout",
     "output_type": "stream",
     "text": [
      "['ABT']\n",
      "['ABT']\n",
      "['ABT']\n",
      "['ABT']\n",
      "['ABT']\n",
      "['ABT']\n",
      "['ABT']\n",
      "['ABT']\n",
      "['ABT']\n",
      "['ABT']\n",
      "['ABT']\n",
      "['ABT']\n",
      "['ABT']\n",
      "['ABT']\n",
      "['ABT']\n",
      "['ABT']\n",
      "['ABT']\n",
      "['ABT']\n",
      "['ABT']\n",
      "['ABT']\n",
      "['ABT']\n",
      "['ABT']\n",
      "['ABT']\n",
      "['ABT']\n"
     ]
    },
    {
     "name": "stderr",
     "output_type": "stream",
     "text": [
      "\r",
      "Meta-RL Agent Loop:   1%|          | 92/17441 [03:50<12:23:06,  2.57s/it]"
     ]
    },
    {
     "name": "stdout",
     "output_type": "stream",
     "text": [
      "['ABT']\n",
      "['ABT']\n",
      "['ABT']\n",
      "['ABT']\n",
      "['ABT']\n",
      "['ABT']\n",
      "['ABT']\n",
      "['ABT']\n",
      "['ABT']\n",
      "['ABT']\n",
      "['ABT']\n",
      "['ABT']\n",
      "['ABT']\n",
      "['ABT']\n",
      "['ABT']\n",
      "['ABT']\n",
      "['ABT']\n",
      "['ABT']\n",
      "['ABT']\n",
      "['ABT']\n",
      "['ABT']\n",
      "['ABT']\n",
      "['ABT']\n",
      "['ABT']\n"
     ]
    },
    {
     "name": "stderr",
     "output_type": "stream",
     "text": [
      "\r",
      "Meta-RL Agent Loop:   1%|          | 93/17441 [03:53<12:53:28,  2.68s/it]"
     ]
    },
    {
     "name": "stdout",
     "output_type": "stream",
     "text": [
      "['ABT']\n",
      "['ABT']\n",
      "['ABT']\n",
      "['ABT']\n",
      "['ABT']\n",
      "['ABT']\n",
      "['ABT']\n",
      "['ABT']\n",
      "['ABT']\n",
      "['ABT']\n",
      "['ABT']\n",
      "['ABT']\n",
      "['ABT']\n",
      "['ABT']\n",
      "['ABT']\n",
      "['ABT']\n",
      "['ABT']\n",
      "['ABT']\n",
      "['ABT']\n",
      "['ABT']\n",
      "['ABT']\n",
      "['ABT']\n",
      "['ABT']\n",
      "['ABT']\n"
     ]
    },
    {
     "name": "stderr",
     "output_type": "stream",
     "text": [
      "\r",
      "Meta-RL Agent Loop:   1%|          | 94/17441 [03:56<12:37:37,  2.62s/it]"
     ]
    },
    {
     "name": "stdout",
     "output_type": "stream",
     "text": [
      "['ABT']\n",
      "['ABT']\n",
      "['ABT']\n",
      "['ABT']\n",
      "['ABT']\n",
      "['ABT']\n",
      "['ABT']\n",
      "['ABT']\n",
      "['ABT']\n",
      "['ABT']\n",
      "['ABT']\n",
      "['ABT']\n",
      "['ABT']\n",
      "['ABT']\n",
      "['ABT']\n",
      "['ABT']\n",
      "['ABT']\n",
      "['ABT']\n",
      "['ABT']\n",
      "['ABT']\n",
      "['ABT']\n",
      "['ABT']\n",
      "['ABT']\n",
      "['ABT']\n"
     ]
    },
    {
     "name": "stderr",
     "output_type": "stream",
     "text": [
      "\r",
      "Meta-RL Agent Loop:   1%|          | 95/17441 [03:58<12:23:24,  2.57s/it]"
     ]
    },
    {
     "name": "stdout",
     "output_type": "stream",
     "text": [
      "['ABT']\n",
      "['ABT']\n",
      "['ABT']\n",
      "['ABT']\n",
      "['ABT']\n",
      "['ABT']\n",
      "['ABT']\n",
      "['ABT']\n",
      "['ABT']\n",
      "['ABT']\n",
      "['ABT']\n",
      "['ABT']\n",
      "['ABT']\n",
      "['ABT']\n",
      "['ABT']\n",
      "['ABT']\n",
      "['ABT']\n",
      "['ABT']\n",
      "['ABT']\n",
      "['ABT']\n",
      "['ABT']\n",
      "['ABT']\n",
      "['ABT']\n",
      "['ABT']\n"
     ]
    },
    {
     "name": "stderr",
     "output_type": "stream",
     "text": [
      "\r",
      "Meta-RL Agent Loop:   1%|          | 96/17441 [04:01<12:06:32,  2.51s/it]"
     ]
    },
    {
     "name": "stdout",
     "output_type": "stream",
     "text": [
      "['ABT']\n",
      "['ABT']\n",
      "['ABT']\n",
      "['ABT']\n",
      "['ABT']\n",
      "['ABT']\n",
      "['ABT']\n",
      "['ABT']\n",
      "['ABT']\n",
      "['ABT']\n",
      "['ABT']\n",
      "['ABT']\n",
      "['ABT']\n",
      "['ABT']\n",
      "['ABT']\n",
      "['ABT']\n",
      "['ABT']\n",
      "['ABT']\n",
      "['ABT']\n",
      "['ABT']\n",
      "['ABT']\n",
      "['ABT']\n",
      "['ABT']\n",
      "['ABT']\n"
     ]
    },
    {
     "name": "stderr",
     "output_type": "stream",
     "text": [
      "\r",
      "Meta-RL Agent Loop:   1%|          | 97/17441 [04:03<12:03:30,  2.50s/it]"
     ]
    },
    {
     "name": "stdout",
     "output_type": "stream",
     "text": [
      "['ABT']\n",
      "['ABT']\n",
      "['ABT']\n",
      "['ABT']\n",
      "['ABT']\n",
      "['ABT']\n",
      "['ABT']\n",
      "['ABT']\n",
      "['ABT']\n",
      "['ABT']\n",
      "['ABT']\n",
      "['ABT']\n",
      "['ABT']\n",
      "['ABT']\n",
      "['ABT']\n",
      "['ABT']\n",
      "['ABT']\n",
      "['ABT']\n",
      "['ABT']\n",
      "['ABT']\n",
      "['ABT']\n",
      "['ABT']\n",
      "['ABT']\n",
      "['ABT']\n"
     ]
    },
    {
     "name": "stderr",
     "output_type": "stream",
     "text": [
      "\r",
      "Meta-RL Agent Loop:   1%|          | 98/17441 [04:06<12:35:42,  2.61s/it]"
     ]
    },
    {
     "name": "stdout",
     "output_type": "stream",
     "text": [
      "['ABT']\n",
      "['ABT']\n",
      "['ABT']\n",
      "['ABT']\n",
      "['ABT']\n",
      "['ABT']\n",
      "['ABT']\n",
      "['ABT']\n",
      "['ABT']\n",
      "['ABT']\n",
      "['ABT']\n",
      "['ABT']\n",
      "['ABT']\n",
      "['ABT']\n",
      "['ABT']\n",
      "['ABT']\n",
      "['ABT']\n",
      "['ABT']\n",
      "['ABT']\n",
      "['ABT']\n",
      "['ABT']\n",
      "['ABT']\n",
      "['ABT']\n",
      "['ABT']\n"
     ]
    },
    {
     "name": "stderr",
     "output_type": "stream",
     "text": [
      "\r",
      "Meta-RL Agent Loop:   1%|          | 99/17441 [04:09<13:06:08,  2.72s/it]"
     ]
    },
    {
     "name": "stdout",
     "output_type": "stream",
     "text": [
      "['ABT']\n",
      "['ABT']\n",
      "['ABT']\n",
      "['ABT']\n",
      "['ABT']\n",
      "['ABT']\n",
      "['ABT']\n",
      "['ABT']\n",
      "['ABT']\n",
      "['ABT']\n",
      "['ABT']\n",
      "['ABT']\n",
      "['ABT']\n",
      "['ABT']\n",
      "['ABT']\n",
      "['ABT']\n",
      "['ABT']\n",
      "['ABT']\n",
      "['ABT']\n",
      "['ABT']\n",
      "['ABT']\n",
      "['ABT']\n",
      "['ABT']\n",
      "['ABT']\n"
     ]
    },
    {
     "name": "stderr",
     "output_type": "stream",
     "text": [
      "\r",
      "Meta-RL Agent Loop:   1%|          | 100/17441 [04:12<13:11:55,  2.74s/it]"
     ]
    },
    {
     "name": "stdout",
     "output_type": "stream",
     "text": [
      "['ABT']\n",
      "['ABT']\n",
      "['ABT']\n",
      "['ABT']\n",
      "['ABT']\n",
      "['ABT']\n",
      "['ABT']\n",
      "['ABT']\n",
      "['ABT']\n",
      "['ABT']\n",
      "['ABT']\n",
      "['ABT']\n",
      "['ABT']\n",
      "['ABT']\n",
      "['ABT']\n",
      "['ABT']\n",
      "['ABT']\n",
      "['ABT']\n",
      "['ABT']\n",
      "['ABT']\n",
      "['ABT']\n",
      "['ABT']\n",
      "['ABT']\n",
      "['ABT']\n"
     ]
    },
    {
     "name": "stderr",
     "output_type": "stream",
     "text": [
      "\r",
      "Meta-RL Agent Loop:   1%|          | 101/17441 [04:14<12:52:54,  2.67s/it]"
     ]
    },
    {
     "name": "stdout",
     "output_type": "stream",
     "text": [
      "['ABT']\n",
      "['ABT']\n",
      "['ABT']\n",
      "['ABT']\n",
      "['ABT']\n",
      "['ABT']\n",
      "['ABT']\n",
      "['ABT']\n",
      "['ABT']\n",
      "['ABT']\n",
      "['ABT']\n",
      "['ABT']\n",
      "['ABT']\n",
      "['ABT']\n",
      "['ABT']\n",
      "['ABT']\n",
      "['ABT']\n",
      "['ABT']\n",
      "['ABT']\n",
      "['ABT']\n",
      "['ABT']\n",
      "['ABT']\n",
      "['ABT']\n",
      "['ABT']\n"
     ]
    },
    {
     "name": "stderr",
     "output_type": "stream",
     "text": [
      "\r",
      "Meta-RL Agent Loop:   1%|          | 102/17441 [04:17<12:16:25,  2.55s/it]"
     ]
    },
    {
     "name": "stdout",
     "output_type": "stream",
     "text": [
      "['ABT']\n",
      "['ABT']\n",
      "['ABT']\n",
      "['ABT']\n",
      "['ABT']\n",
      "['ABT']\n",
      "['ABT']\n",
      "['ABT']\n",
      "['ABT']\n",
      "['ABT']\n",
      "['ABT']\n",
      "['ABT']\n",
      "['ABT']\n",
      "['ABT']\n",
      "['ABT']\n",
      "['ABT']\n",
      "['ABT']\n",
      "['ABT']\n",
      "['ABT']\n",
      "['ABT']\n",
      "['ABT']\n",
      "['ABT']\n",
      "['ABT']\n",
      "['ABT']\n"
     ]
    },
    {
     "name": "stderr",
     "output_type": "stream",
     "text": [
      "\r",
      "Meta-RL Agent Loop:   1%|          | 103/17441 [04:19<12:00:20,  2.49s/it]"
     ]
    },
    {
     "name": "stdout",
     "output_type": "stream",
     "text": [
      "['ABT']\n",
      "['ABT']\n",
      "['ABT']\n",
      "['ABT']\n",
      "['ABT']\n",
      "['ABT']\n",
      "['ABT']\n",
      "['ABT']\n",
      "['ABT']\n",
      "['ABT']\n",
      "['ABT']\n",
      "['ABT']\n",
      "['ABT']\n",
      "['ABT']\n",
      "['ABT']\n",
      "['ABT']\n",
      "['ABT']\n",
      "['ABT']\n",
      "['ABT']\n",
      "['ABT']\n",
      "['ABT']\n",
      "['ABT']\n",
      "['ABT']\n",
      "['ABT']\n"
     ]
    },
    {
     "name": "stderr",
     "output_type": "stream",
     "text": [
      "\r",
      "Meta-RL Agent Loop:   1%|          | 104/17441 [04:21<11:57:09,  2.48s/it]"
     ]
    },
    {
     "name": "stdout",
     "output_type": "stream",
     "text": [
      "['ABT']\n",
      "['ABT']\n",
      "['ABT']\n",
      "['ABT']\n",
      "['ABT']\n",
      "['ABT']\n",
      "['ABT']\n",
      "['ABT']\n",
      "['ABT']\n",
      "['ABT']\n",
      "['ABT']\n",
      "['ABT']\n",
      "['ABT']\n",
      "['ABT']\n",
      "['ABT']\n",
      "['ABT']\n",
      "['ABT']\n",
      "['ABT']\n",
      "['ABT']\n",
      "['ABT']\n",
      "['ABT']\n",
      "['ABT']\n",
      "['ABT']\n",
      "['ABT']\n"
     ]
    },
    {
     "name": "stderr",
     "output_type": "stream",
     "text": [
      "\r",
      "Meta-RL Agent Loop:   1%|          | 105/17441 [04:24<11:52:02,  2.46s/it]"
     ]
    },
    {
     "name": "stdout",
     "output_type": "stream",
     "text": [
      "['ABT']\n",
      "['ABT']\n",
      "['ABBV']\n",
      "['ABBV']\n",
      "['ABBV']\n",
      "['ABBV']\n",
      "['ABBV']\n",
      "['ABBV']\n",
      "['ABBV']\n",
      "['ABBV']\n",
      "['ABBV']\n",
      "['ABBV']\n",
      "['ABBV']\n",
      "['ABBV']\n",
      "['ABBV']\n",
      "['ABBV']\n",
      "['ABBV']\n",
      "['ABBV']\n",
      "['ABBV']\n",
      "['ABBV']\n",
      "['ABBV']\n",
      "['ABBV']\n",
      "['ABBV']\n",
      "['ABBV']\n"
     ]
    },
    {
     "name": "stderr",
     "output_type": "stream",
     "text": [
      "\r",
      "Meta-RL Agent Loop:   1%|          | 106/17441 [04:26<12:11:41,  2.53s/it]"
     ]
    },
    {
     "name": "stdout",
     "output_type": "stream",
     "text": [
      "['ABBV']\n",
      "['ABBV']\n",
      "['ABBV']\n",
      "['ABBV']\n",
      "['ABBV']\n",
      "['ABBV']\n",
      "['ABBV']\n",
      "['ABBV']\n",
      "['ABBV']\n",
      "['ABBV']\n",
      "['ABBV']\n",
      "['ABBV']\n",
      "['ABBV']\n",
      "['ABBV']\n",
      "['ABBV']\n",
      "['ABBV']\n",
      "['ABBV']\n",
      "['ABBV']\n",
      "['ABBV']\n",
      "['ABBV']\n",
      "['ABBV']\n",
      "['ABBV']\n",
      "['ABBV']\n",
      "['ABBV']\n"
     ]
    },
    {
     "name": "stderr",
     "output_type": "stream",
     "text": [
      "\r",
      "Meta-RL Agent Loop:   1%|          | 107/17441 [04:29<11:53:06,  2.47s/it]"
     ]
    },
    {
     "name": "stdout",
     "output_type": "stream",
     "text": [
      "['ABBV']\n",
      "['ABBV']\n",
      "['ABBV']\n",
      "['ABBV']\n",
      "['ABBV']\n",
      "['ABBV']\n",
      "['ABBV']\n",
      "['ABBV']\n",
      "['ABBV']\n",
      "['ABBV']\n",
      "['ABBV']\n",
      "['ABBV']\n",
      "['ABBV']\n",
      "['ABBV']\n",
      "['ABBV']\n",
      "['ABBV']\n",
      "['ABBV']\n",
      "['ABBV']\n",
      "['ABBV']\n",
      "['ABBV']\n",
      "['ABBV']\n",
      "['ABBV']\n",
      "['ABBV']\n",
      "['ABBV']\n"
     ]
    },
    {
     "name": "stderr",
     "output_type": "stream",
     "text": [
      "\r",
      "Meta-RL Agent Loop:   1%|          | 108/17441 [04:31<11:35:38,  2.41s/it]"
     ]
    },
    {
     "name": "stdout",
     "output_type": "stream",
     "text": [
      "['ABBV']\n",
      "['ABBV']\n",
      "['ABBV']\n",
      "['ABBV']\n",
      "['ABBV']\n",
      "['ABBV']\n",
      "['ABBV']\n",
      "['ABBV']\n",
      "['ABBV']\n",
      "['ABBV']\n",
      "['ABBV']\n",
      "['ABBV']\n",
      "['ABBV']\n",
      "['ABBV']\n",
      "['ABBV']\n",
      "['ABBV']\n",
      "['ABBV']\n",
      "['ABBV']\n",
      "['ABBV']\n",
      "['ABBV']\n",
      "['ABBV']\n",
      "['ABBV']\n",
      "['ABBV']\n",
      "['ABBV']\n"
     ]
    },
    {
     "name": "stderr",
     "output_type": "stream",
     "text": [
      "\r",
      "Meta-RL Agent Loop:   1%|          | 109/17441 [04:34<11:53:24,  2.47s/it]"
     ]
    },
    {
     "name": "stdout",
     "output_type": "stream",
     "text": [
      "['ABBV']\n",
      "['ABBV']\n",
      "['ABBV']\n",
      "['ABBV']\n",
      "['ABBV']\n",
      "['ABBV']\n",
      "['ABBV']\n",
      "['ABBV']\n",
      "['ABBV']\n",
      "['ABBV']\n",
      "['ABBV']\n",
      "['ABBV']\n",
      "['ABBV']\n",
      "['ABBV']\n",
      "['ABBV']\n",
      "['ABBV']\n",
      "['ABBV']\n",
      "['ABBV']\n",
      "['ABBV']\n",
      "['ABBV']\n",
      "['ABBV']\n",
      "['ABBV']\n",
      "['ABBV']\n",
      "['ABBV']\n"
     ]
    },
    {
     "name": "stderr",
     "output_type": "stream",
     "text": [
      "\r",
      "Meta-RL Agent Loop:   1%|          | 110/17441 [04:36<12:14:25,  2.54s/it]"
     ]
    },
    {
     "name": "stdout",
     "output_type": "stream",
     "text": [
      "['ABBV']\n",
      "['ABBV']\n",
      "['ABBV']\n",
      "['ABBV']\n",
      "['ABBV']\n",
      "['ABBV']\n",
      "['ABBV']\n",
      "['ABBV']\n",
      "['ABBV']\n",
      "['ABBV']\n",
      "['ABBV']\n",
      "['ABBV']\n",
      "['ABBV']\n",
      "['ABBV']\n",
      "['ABBV']\n",
      "['ABBV']\n",
      "['ABBV']\n",
      "['ABBV']\n",
      "['ABBV']\n",
      "['ABBV']\n",
      "['ABBV']\n",
      "['ABBV']\n",
      "['ABBV']\n",
      "['ABBV']\n"
     ]
    },
    {
     "name": "stderr",
     "output_type": "stream",
     "text": [
      "\r",
      "Meta-RL Agent Loop:   1%|          | 111/17441 [04:40<13:05:40,  2.72s/it]"
     ]
    },
    {
     "name": "stdout",
     "output_type": "stream",
     "text": [
      "['ABBV']\n",
      "['ABBV']\n",
      "['ABBV']\n",
      "['ABBV']\n",
      "['ABBV']\n",
      "['ABBV']\n",
      "['ABBV']\n",
      "['ABBV']\n",
      "['ABBV']\n",
      "['ABBV']\n",
      "['ABBV']\n",
      "['ABBV']\n",
      "['ABBV']\n",
      "['ABBV']\n",
      "['ABBV']\n",
      "['ABBV']\n",
      "['ABBV']\n",
      "['ABBV']\n",
      "['ABBV']\n",
      "['ABBV']\n",
      "['ABBV']\n",
      "['ABBV']\n",
      "['ABBV']\n",
      "['ABBV']\n"
     ]
    },
    {
     "name": "stderr",
     "output_type": "stream",
     "text": [
      "\r",
      "Meta-RL Agent Loop:   1%|          | 112/17441 [04:43<13:34:57,  2.82s/it]"
     ]
    },
    {
     "name": "stdout",
     "output_type": "stream",
     "text": [
      "['ABBV']\n",
      "['ABBV']\n",
      "['ABBV']\n",
      "['ABBV']\n",
      "['ABBV']\n",
      "['ABBV']\n",
      "['ABBV']\n",
      "['ABBV']\n",
      "['ABBV']\n",
      "['ABBV']\n",
      "['ABBV']\n",
      "['ABBV']\n",
      "['ABBV']\n",
      "['ABBV']\n",
      "['ABBV']\n",
      "['ABBV']\n",
      "['ABBV']\n",
      "['ABBV']\n",
      "['ABBV']\n",
      "['ABBV']\n",
      "['ABBV']\n",
      "['ABBV']\n",
      "['ABBV']\n",
      "['ABBV']\n"
     ]
    },
    {
     "name": "stderr",
     "output_type": "stream",
     "text": [
      "\r",
      "Meta-RL Agent Loop:   1%|          | 113/17441 [04:45<12:58:55,  2.70s/it]"
     ]
    },
    {
     "name": "stdout",
     "output_type": "stream",
     "text": [
      "['ABBV']\n",
      "['ABBV']\n",
      "['ABBV']\n",
      "['ABBV']\n",
      "['ABBV']\n",
      "['ABBV']\n",
      "['ABBV']\n",
      "['ABBV']\n",
      "['ABBV']\n",
      "['ABBV']\n",
      "['ABBV']\n",
      "['ABBV']\n",
      "['ABBV']\n",
      "['ABBV']\n",
      "['ABBV']\n",
      "['ABBV']\n",
      "['ABBV']\n",
      "['ABBV']\n",
      "['ABBV']\n",
      "['ABBV']\n",
      "['ABBV']\n",
      "['ABBV']\n",
      "['ABBV']\n",
      "['ABBV']\n"
     ]
    },
    {
     "name": "stderr",
     "output_type": "stream",
     "text": [
      "\r",
      "Meta-RL Agent Loop:   1%|          | 114/17441 [04:47<12:27:53,  2.59s/it]"
     ]
    },
    {
     "name": "stdout",
     "output_type": "stream",
     "text": [
      "['ABBV']\n",
      "['ABBV']\n",
      "['ABBV']\n",
      "['ABBV']\n",
      "['ABBV']\n",
      "['ABBV']\n",
      "['ABBV']\n",
      "['ABBV']\n",
      "['ABBV']\n",
      "['ABBV']\n",
      "['ABBV']\n",
      "['ABBV']\n",
      "['ABBV']\n",
      "['ABBV']\n",
      "['ABBV']\n",
      "['ABBV']\n",
      "['ABBV']\n",
      "['ABBV']\n",
      "['ABBV']\n",
      "['ABBV']\n",
      "['ABBV']\n",
      "['ABBV']\n",
      "['ABBV']\n",
      "['ABBV']\n"
     ]
    },
    {
     "name": "stderr",
     "output_type": "stream",
     "text": [
      "\r",
      "Meta-RL Agent Loop:   1%|          | 115/17441 [04:50<11:59:39,  2.49s/it]"
     ]
    },
    {
     "name": "stdout",
     "output_type": "stream",
     "text": [
      "['ABBV']\n",
      "['ABBV']\n",
      "['ABBV']\n",
      "['ABBV']\n",
      "['ABBV']\n",
      "['ABBV']\n",
      "['ABBV']\n",
      "['ABBV']\n",
      "['ABBV']\n",
      "['ABBV']\n",
      "['ABBV']\n",
      "['ABBV']\n",
      "['ABBV']\n",
      "['ABBV']\n",
      "['ABBV']\n",
      "['ABBV']\n",
      "['ABBV']\n",
      "['ABBV']\n",
      "['ABBV']\n",
      "['ABBV']\n",
      "['ABBV']\n",
      "['ABBV']\n",
      "['ABBV']\n",
      "['ABBV']\n"
     ]
    },
    {
     "name": "stderr",
     "output_type": "stream",
     "text": [
      "\r",
      "Meta-RL Agent Loop:   1%|          | 116/17441 [04:52<11:41:26,  2.43s/it]"
     ]
    },
    {
     "name": "stdout",
     "output_type": "stream",
     "text": [
      "['ABBV']\n",
      "['ABBV']\n",
      "['ABBV']\n",
      "['ABBV']\n",
      "['ABBV']\n",
      "['ABBV']\n",
      "['ABBV']\n",
      "['ABBV']\n",
      "['ABBV']\n",
      "['ABBV']\n",
      "['ABBV']\n",
      "['ABBV']\n",
      "['ABBV']\n",
      "['ABBV']\n",
      "['ABBV']\n",
      "['ABBV']\n",
      "['ABBV']\n",
      "['ABBV']\n",
      "['ABBV']\n",
      "['ABBV']\n",
      "['ABBV']\n",
      "['ABBV']\n",
      "['ABBV']\n",
      "['ABBV']\n"
     ]
    },
    {
     "name": "stderr",
     "output_type": "stream",
     "text": [
      "\r",
      "Meta-RL Agent Loop:   1%|          | 117/17441 [04:54<11:53:38,  2.47s/it]"
     ]
    },
    {
     "name": "stdout",
     "output_type": "stream",
     "text": [
      "['ABBV']\n",
      "['ABBV']\n",
      "['ABBV']\n",
      "['ABBV']\n",
      "['ABBV']\n",
      "['ABBV']\n",
      "['ABBV']\n",
      "['ABBV']\n",
      "['ABBV']\n",
      "['ABBV']\n",
      "['ABBV']\n",
      "['ABBV']\n",
      "['ABBV']\n",
      "['ABBV']\n",
      "['ABBV']\n",
      "['ABBV']\n",
      "['ABBV']\n",
      "['ABBV']\n",
      "['ABBV']\n",
      "['ABBV']\n",
      "['ABBV']\n",
      "['ABBV']\n",
      "['ABBV']\n",
      "['ABBV']\n"
     ]
    },
    {
     "name": "stderr",
     "output_type": "stream",
     "text": [
      "\r",
      "Meta-RL Agent Loop:   1%|          | 118/17441 [04:57<12:21:07,  2.57s/it]"
     ]
    },
    {
     "name": "stdout",
     "output_type": "stream",
     "text": [
      "['ABBV']\n",
      "['ABBV']\n",
      "['ABBV']\n",
      "['ABBV']\n",
      "['ABBV']\n",
      "['ABBV']\n",
      "['ABBV']\n",
      "['ABBV']\n",
      "['ABBV']\n",
      "['ABBV']\n",
      "['ABBV']\n",
      "['ABBV']\n",
      "['ABBV']\n",
      "['ABBV']\n",
      "['ABBV']\n",
      "['ABBV']\n",
      "['ABBV']\n",
      "['ABBV']\n",
      "['ABBV']\n",
      "['ABBV']\n",
      "['ABBV']\n",
      "['ABBV']\n",
      "['ABBV']\n",
      "['ABBV']\n"
     ]
    },
    {
     "name": "stderr",
     "output_type": "stream",
     "text": [
      "\r",
      "Meta-RL Agent Loop:   1%|          | 119/17441 [05:00<12:04:09,  2.51s/it]"
     ]
    },
    {
     "name": "stdout",
     "output_type": "stream",
     "text": [
      "['ABBV']\n",
      "['ABBV']\n",
      "['ABBV']\n",
      "['ABBV']\n",
      "['ABBV']\n",
      "['ABBV']\n",
      "['ABBV']\n",
      "['ABBV']\n",
      "['ABBV']\n",
      "['ABBV']\n",
      "['ABBV']\n",
      "['ABBV']\n",
      "['ABBV']\n",
      "['ABBV']\n",
      "['ABBV']\n",
      "['ABBV']\n",
      "['ABBV']\n",
      "['ABBV']\n",
      "['ABBV']\n",
      "['ABBV']\n",
      "['ABBV']\n",
      "['ABBV']\n",
      "['ABBV']\n",
      "['ABBV']\n"
     ]
    },
    {
     "name": "stderr",
     "output_type": "stream",
     "text": [
      "\r",
      "Meta-RL Agent Loop:   1%|          | 120/17441 [05:02<11:45:25,  2.44s/it]"
     ]
    },
    {
     "name": "stdout",
     "output_type": "stream",
     "text": [
      "['ABBV']\n",
      "['ABBV']\n",
      "['ABBV']\n",
      "['ABBV']\n",
      "['ABBV']\n",
      "['ABBV']\n",
      "['ABBV']\n",
      "['ABBV']\n",
      "['ABBV']\n",
      "['ABBV']\n",
      "['ABBV']\n",
      "['ABBV']\n",
      "['ABBV']\n",
      "['ABBV']\n",
      "['ABBV']\n",
      "['ABBV']\n",
      "['ABBV']\n",
      "['ABBV']\n",
      "['ABBV']\n",
      "['ABBV']\n",
      "['ABBV']\n",
      "['ABBV']\n",
      "['ABBV']\n",
      "['ABBV']\n"
     ]
    },
    {
     "name": "stderr",
     "output_type": "stream",
     "text": [
      "\r",
      "Meta-RL Agent Loop:   1%|          | 121/17441 [05:04<11:51:29,  2.46s/it]"
     ]
    },
    {
     "name": "stdout",
     "output_type": "stream",
     "text": [
      "['ABBV']\n",
      "['ABBV']\n",
      "['ABBV']\n",
      "['ABBV']\n",
      "['ABBV']\n",
      "['ABBV']\n",
      "['ABBV']\n",
      "['ABBV']\n",
      "['ABBV']\n",
      "['ABBV']\n",
      "['ABBV']\n",
      "['ABBV']\n",
      "['ABBV']\n",
      "['ABBV']\n",
      "['ABBV']\n",
      "['ABBV']\n",
      "['ABBV']\n",
      "['ABBV']\n",
      "['ABBV']\n",
      "['ABBV']\n",
      "['ABBV']\n",
      "['ABBV']\n",
      "['ABBV']\n",
      "['ABBV']\n"
     ]
    },
    {
     "name": "stderr",
     "output_type": "stream",
     "text": [
      "\r",
      "Meta-RL Agent Loop:   1%|          | 122/17441 [05:07<11:57:40,  2.49s/it]"
     ]
    },
    {
     "name": "stdout",
     "output_type": "stream",
     "text": [
      "['ABBV']\n",
      "['ABBV']\n",
      "['ABBV']\n",
      "['ABBV']\n",
      "['ABBV']\n",
      "['ABBV']\n",
      "['ABBV']\n",
      "['ABBV']\n",
      "['ABBV']\n",
      "['ABBV']\n",
      "['ABBV']\n",
      "['ABBV']\n",
      "['ABBV']\n",
      "['ABBV']\n",
      "['ABBV']\n",
      "['ABBV']\n",
      "['ABBV']\n",
      "['ABBV']\n",
      "['ABBV']\n",
      "['ABBV']\n",
      "['ABBV']\n",
      "['ABBV']\n",
      "['ABBV']\n",
      "['ABBV']\n"
     ]
    },
    {
     "name": "stderr",
     "output_type": "stream",
     "text": [
      "\r",
      "Meta-RL Agent Loop:   1%|          | 123/17441 [05:10<12:32:58,  2.61s/it]"
     ]
    },
    {
     "name": "stdout",
     "output_type": "stream",
     "text": [
      "['ABBV']\n",
      "['ABBV']\n",
      "['ABBV']\n",
      "['ABBV']\n",
      "['ABBV']\n",
      "['ABBV']\n",
      "['ABBV']\n",
      "['ABBV']\n",
      "['ABBV']\n",
      "['ABBV']\n",
      "['ABBV']\n",
      "['ABBV']\n",
      "['ABBV']\n",
      "['ABBV']\n",
      "['ABBV']\n",
      "['ABBV']\n",
      "['ABBV']\n",
      "['ABBV']\n",
      "['ABBV']\n",
      "['ABBV']\n",
      "['ABBV']\n",
      "['ABBV']\n",
      "['ABBV']\n",
      "['ABBV']\n"
     ]
    },
    {
     "name": "stderr",
     "output_type": "stream",
     "text": [
      "\r",
      "Meta-RL Agent Loop:   1%|          | 124/17441 [05:13<13:05:34,  2.72s/it]"
     ]
    },
    {
     "name": "stdout",
     "output_type": "stream",
     "text": [
      "['ABBV']\n",
      "['ABBV']\n",
      "['ABBV']\n",
      "['ABBV']\n",
      "['ABBV']\n",
      "['ABBV']\n",
      "['ABBV']\n",
      "['ABBV']\n",
      "['ABBV']\n",
      "['ABBV']\n",
      "['ABBV']\n",
      "['ABBV']\n",
      "['ABBV']\n",
      "['ABBV']\n",
      "['ABBV']\n",
      "['ABBV']\n",
      "['ABBV']\n",
      "['ABBV']\n",
      "['ABBV']\n",
      "['ABBV']\n",
      "['ABBV']\n",
      "['ABBV']\n",
      "['ABBV']\n",
      "['ABBV']\n"
     ]
    },
    {
     "name": "stderr",
     "output_type": "stream",
     "text": [
      "\r",
      "Meta-RL Agent Loop:   1%|          | 125/17441 [05:16<13:30:27,  2.81s/it]"
     ]
    },
    {
     "name": "stdout",
     "output_type": "stream",
     "text": [
      "['ABBV']\n",
      "['ABBV']\n",
      "['ABBV']\n",
      "['ABBV']\n",
      "['ABBV']\n",
      "['ABBV']\n",
      "['ABBV']\n",
      "['ABBV']\n",
      "['ABBV']\n",
      "['ABBV']\n",
      "['ABBV']\n",
      "['ABBV']\n",
      "['ABBV']\n",
      "['ABBV']\n",
      "['ABBV']\n",
      "['ABBV']\n",
      "['ABBV']\n",
      "['ABBV']\n",
      "['ABBV']\n",
      "['ABBV']\n",
      "['ABBV']\n",
      "['ABBV']\n",
      "['ABBV']\n",
      "['ABBV']\n"
     ]
    },
    {
     "name": "stderr",
     "output_type": "stream",
     "text": [
      "\r",
      "Meta-RL Agent Loop:   1%|          | 126/17441 [05:18<12:57:10,  2.69s/it]"
     ]
    },
    {
     "name": "stdout",
     "output_type": "stream",
     "text": [
      "['ABBV']\n",
      "['ABBV']\n",
      "['ABBV']\n",
      "['ABBV']\n",
      "['ABBV']\n",
      "['ABBV']\n",
      "['ABBV']\n",
      "['ABBV']\n",
      "['ABBV']\n",
      "['ABBV']\n",
      "['ABBV']\n",
      "['ABBV']\n",
      "['ABBV']\n",
      "['ABBV']\n",
      "['ABBV']\n",
      "['ABBV']\n",
      "['ABBV']\n",
      "['ABBV']\n",
      "['ABBV']\n",
      "['ABBV']\n",
      "['ABBV']\n",
      "['ABBV']\n",
      "['ABBV']\n",
      "['ABBV']\n"
     ]
    },
    {
     "name": "stderr",
     "output_type": "stream",
     "text": [
      "\r",
      "Meta-RL Agent Loop:   1%|          | 127/17441 [05:21<12:49:13,  2.67s/it]"
     ]
    },
    {
     "name": "stdout",
     "output_type": "stream",
     "text": [
      "['ABBV']\n",
      "['ABBV']\n",
      "['ABBV']\n",
      "['ABBV']\n",
      "['ABBV']\n",
      "['ABBV']\n",
      "['ABBV']\n",
      "['ABBV']\n",
      "['ABBV']\n",
      "['ABBV']\n",
      "['ABBV']\n",
      "['ABBV']\n",
      "['ABBV']\n",
      "['ABBV']\n",
      "['ABBV']\n",
      "['ABBV']\n",
      "['ABBV']\n",
      "['ABBV']\n",
      "['ABBV']\n",
      "['ABBV']\n",
      "['ABBV']\n",
      "['ABBV']\n",
      "['ABBV']\n",
      "['ABBV']\n"
     ]
    },
    {
     "name": "stderr",
     "output_type": "stream",
     "text": [
      "\r",
      "Meta-RL Agent Loop:   1%|          | 128/17441 [05:23<12:39:49,  2.63s/it]"
     ]
    },
    {
     "name": "stdout",
     "output_type": "stream",
     "text": [
      "['ABBV']\n",
      "['ABBV']\n",
      "['ABBV']\n",
      "['ABBV']\n",
      "['ABBV']\n",
      "['ABBV']\n",
      "['ABBV']\n",
      "['ABBV']\n",
      "['ABBV']\n",
      "['ABBV']\n",
      "['ABBV']\n",
      "['ABBV']\n",
      "['ABBV']\n",
      "['ABBV']\n",
      "['ABBV']\n",
      "['ABBV']\n",
      "['ABBV']\n",
      "['ABBV']\n",
      "['ABBV']\n",
      "['ABBV']\n",
      "['ABBV']\n",
      "['ABBV']\n",
      "['ABBV']\n",
      "['ABBV']\n"
     ]
    },
    {
     "name": "stderr",
     "output_type": "stream",
     "text": [
      "\r",
      "Meta-RL Agent Loop:   1%|          | 129/17441 [05:26<13:09:39,  2.74s/it]"
     ]
    },
    {
     "name": "stdout",
     "output_type": "stream",
     "text": [
      "['ABBV']\n",
      "['ABBV']\n",
      "['ABBV']\n",
      "['ABBV']\n",
      "['ABBV']\n",
      "['ABBV']\n",
      "['ABBV']\n",
      "['ABBV']\n",
      "['ABBV']\n",
      "['ABBV']\n",
      "['ABBV']\n",
      "['ABBV']\n",
      "['ABBV']\n",
      "['ABBV']\n",
      "['ABBV']\n",
      "['ABBV']\n",
      "['ABBV']\n",
      "['ABBV']\n",
      "['ABBV']\n",
      "['ABBV']\n",
      "['ABBV']\n",
      "['ABBV']\n",
      "['ABBV']\n",
      "['ABBV']\n"
     ]
    },
    {
     "name": "stderr",
     "output_type": "stream",
     "text": [
      "\r",
      "Meta-RL Agent Loop:   1%|          | 130/17441 [05:29<13:39:16,  2.84s/it]"
     ]
    },
    {
     "name": "stdout",
     "output_type": "stream",
     "text": [
      "['ABBV']\n",
      "['ABBV']\n",
      "['ABBV']\n",
      "['ABBV']\n",
      "['ABBV']\n",
      "['ABBV']\n",
      "['ABBV']\n",
      "['ABBV']\n",
      "['ABBV']\n",
      "['ABBV']\n",
      "['ABBV']\n",
      "['ABBV']\n",
      "['ABBV']\n",
      "['ABBV']\n",
      "['ABBV']\n",
      "['ABBV']\n",
      "['ABBV']\n",
      "['ABBV']\n",
      "['ABBV']\n",
      "['ABBV']\n",
      "['ABBV']\n",
      "['ABBV']\n",
      "['ABBV']\n",
      "['ABBV']\n"
     ]
    },
    {
     "name": "stderr",
     "output_type": "stream",
     "text": [
      "\r",
      "Meta-RL Agent Loop:   1%|          | 131/17441 [05:32<13:37:10,  2.83s/it]"
     ]
    },
    {
     "name": "stdout",
     "output_type": "stream",
     "text": [
      "['ABBV']\n",
      "['ABBV']\n",
      "['ABBV']\n",
      "['ABBV']\n",
      "['ABBV']\n",
      "['ABBV']\n",
      "['ABBV']\n",
      "['ABBV']\n",
      "['ABBV']\n",
      "['ABBV']\n",
      "['ABBV']\n",
      "['ABBV']\n",
      "['ABBV']\n",
      "['ABBV']\n",
      "['ABBV']\n",
      "['ABBV']\n",
      "['ABBV']\n",
      "['ABBV']\n",
      "['ABBV']\n",
      "['ABBV']\n",
      "['ABBV']\n",
      "['ABBV']\n",
      "['ABBV']\n",
      "['ABBV']\n"
     ]
    },
    {
     "name": "stderr",
     "output_type": "stream",
     "text": [
      "\r",
      "Meta-RL Agent Loop:   1%|          | 132/17441 [05:35<13:01:02,  2.71s/it]"
     ]
    },
    {
     "name": "stdout",
     "output_type": "stream",
     "text": [
      "['ABBV']\n",
      "['ABBV']\n",
      "['ABBV']\n",
      "['ABBV']\n",
      "['ABBV']\n",
      "['ABBV']\n",
      "['ABBV']\n",
      "['ABBV']\n",
      "['ABBV']\n",
      "['ABBV']\n",
      "['ABBV']\n",
      "['ABBV']\n",
      "['ABBV']\n",
      "['ABBV']\n",
      "['ABBV']\n",
      "['ABBV']\n",
      "['ABBV']\n",
      "['ABBV']\n",
      "['ABBV']\n",
      "['ABBV']\n",
      "['ABBV']\n",
      "['ABBV']\n",
      "['ABBV']\n",
      "['ABBV']\n"
     ]
    },
    {
     "name": "stderr",
     "output_type": "stream",
     "text": [
      "\r",
      "Meta-RL Agent Loop:   1%|          | 133/17441 [05:37<12:41:11,  2.64s/it]"
     ]
    },
    {
     "name": "stdout",
     "output_type": "stream",
     "text": [
      "['ABBV']\n",
      "['ABBV']\n",
      "['ABBV']\n",
      "['ABBV']\n",
      "['ABBV']\n",
      "['ABBV']\n",
      "['ABBV']\n",
      "['ABBV']\n",
      "['ABBV']\n",
      "['ABBV']\n",
      "['ABBV']\n",
      "['ABBV']\n",
      "['ABBV']\n",
      "['ABBV']\n",
      "['ABBV']\n",
      "['ABBV']\n",
      "['ABBV']\n",
      "['ABBV']\n",
      "['ABBV']\n",
      "['ABBV']\n",
      "['ABBV']\n",
      "['ABBV']\n",
      "['ABBV']\n",
      "['ABBV']\n"
     ]
    },
    {
     "name": "stderr",
     "output_type": "stream",
     "text": [
      "\r",
      "Meta-RL Agent Loop:   1%|          | 134/17441 [05:40<12:15:00,  2.55s/it]"
     ]
    },
    {
     "name": "stdout",
     "output_type": "stream",
     "text": [
      "['ABBV']\n",
      "['ABBV']\n",
      "['ABBV']\n",
      "['ABBV']\n",
      "['ABBV']\n",
      "['ABBV']\n",
      "['ABBV']\n",
      "['ABBV']\n",
      "['ABBV']\n",
      "['ABBV']\n",
      "['ABBV']\n",
      "['ABBV']\n",
      "['ABBV']\n",
      "['ABBV']\n",
      "['ABBV']\n",
      "['ABBV']\n",
      "['ABBV']\n",
      "['ABBV']\n",
      "['ABBV']\n",
      "['ABBV']\n",
      "['ABBV']\n",
      "['ABBV']\n",
      "['ABBV']\n",
      "['ABBV']\n"
     ]
    },
    {
     "name": "stderr",
     "output_type": "stream",
     "text": [
      "\r",
      "Meta-RL Agent Loop:   1%|          | 135/17441 [05:42<12:34:52,  2.62s/it]"
     ]
    },
    {
     "name": "stdout",
     "output_type": "stream",
     "text": [
      "['ABBV']\n",
      "['ABBV']\n",
      "['ABBV']\n",
      "['ABBV']\n",
      "['ABBV']\n",
      "['ABBV']\n",
      "['ABBV']\n",
      "['ABBV']\n",
      "['ABBV']\n",
      "['ABBV']\n",
      "['ABBV']\n",
      "['ABBV']\n",
      "['ABBV']\n",
      "['ABBV']\n",
      "['ABBV']\n",
      "['ABBV']\n",
      "['ABBV']\n",
      "['ABBV']\n",
      "['ABBV']\n",
      "['ABBV']\n",
      "['ABBV']\n",
      "['ABBV']\n",
      "['ABBV']\n",
      "['ABBV']\n"
     ]
    },
    {
     "name": "stderr",
     "output_type": "stream",
     "text": [
      "\r",
      "Meta-RL Agent Loop:   1%|          | 136/17441 [05:45<13:14:50,  2.76s/it]"
     ]
    },
    {
     "name": "stdout",
     "output_type": "stream",
     "text": [
      "['ABBV']\n",
      "['ABBV']\n",
      "['ABBV']\n",
      "['ABBV']\n",
      "['ABBV']\n",
      "['ABBV']\n",
      "['ABBV']\n",
      "['ABBV']\n",
      "['ABBV']\n",
      "['ABBV']\n",
      "['ABBV']\n",
      "['ABBV']\n",
      "['ABBV']\n",
      "['ABBV']\n",
      "['ABBV']\n",
      "['ABBV']\n",
      "['ABBV']\n",
      "['ABBV']\n",
      "['ABBV']\n",
      "['ABBV']\n",
      "['ABBV']\n",
      "['ABBV']\n",
      "['ABBV']\n",
      "['ABBV']\n"
     ]
    },
    {
     "name": "stderr",
     "output_type": "stream",
     "text": [
      "\r",
      "Meta-RL Agent Loop:   1%|          | 137/17441 [05:48<13:13:07,  2.75s/it]"
     ]
    },
    {
     "name": "stdout",
     "output_type": "stream",
     "text": [
      "['ABBV']\n",
      "['ABBV']\n",
      "['ABBV']\n",
      "['ABBV']\n",
      "['ABBV']\n",
      "['ABBV']\n",
      "['ABBV']\n",
      "['ABBV']\n",
      "['ABBV']\n",
      "['ABBV']\n",
      "['ABBV']\n",
      "['ABBV']\n",
      "['ABBV']\n",
      "['ABBV']\n",
      "['ABBV']\n",
      "['ABBV']\n",
      "['ABBV']\n",
      "['ABBV']\n",
      "['ABBV']\n",
      "['ABBV']\n",
      "['ABBV']\n",
      "['ABBV']\n",
      "['ABBV']\n",
      "['ABBV']\n"
     ]
    },
    {
     "name": "stderr",
     "output_type": "stream",
     "text": [
      "\r",
      "Meta-RL Agent Loop:   1%|          | 138/17441 [05:50<12:06:21,  2.52s/it]"
     ]
    },
    {
     "name": "stdout",
     "output_type": "stream",
     "text": [
      "['ABBV']\n",
      "['ABBV']\n",
      "['ABBV']\n",
      "['ABBV']\n",
      "['ABBV']\n",
      "['ABBV']\n",
      "['ABBV']\n",
      "['ABBV']\n",
      "['ABBV']\n",
      "['ABBV']\n",
      "['ABBV']\n",
      "['ABBV']\n",
      "['ABBV']\n",
      "['ABBV']\n",
      "['ABBV']\n",
      "['ABBV']\n",
      "['ABBV']\n",
      "['ABBV']\n",
      "['ABBV']\n",
      "['ABBV']\n",
      "['ABBV']\n",
      "['ABBV']\n",
      "['ABBV']\n",
      "['ABBV']\n"
     ]
    },
    {
     "name": "stderr",
     "output_type": "stream",
     "text": [
      "\r",
      "Meta-RL Agent Loop:   1%|          | 139/17441 [05:52<11:16:52,  2.35s/it]"
     ]
    },
    {
     "name": "stdout",
     "output_type": "stream",
     "text": [
      "['ABBV']\n",
      "['ABBV']\n",
      "['ABBV']\n",
      "['ABBV']\n",
      "['ABBV']\n",
      "['ABBV']\n",
      "['ABBV']\n",
      "['ABBV']\n",
      "['ABBV']\n",
      "['ABBV']\n",
      "['ABBV']\n",
      "['ABBV']\n",
      "['ABBV']\n",
      "['ABBV']\n",
      "['ABBV']\n",
      "['ABBV']\n",
      "['ABBV']\n",
      "['ABBV']\n",
      "['ABBV']\n",
      "['ABBV']\n",
      "['ABBV']\n",
      "['ABBV']\n",
      "['ABBV']\n",
      "['ABBV']\n"
     ]
    },
    {
     "name": "stderr",
     "output_type": "stream",
     "text": [
      "\r",
      "Meta-RL Agent Loop:   1%|          | 140/17441 [05:54<10:30:22,  2.19s/it]"
     ]
    },
    {
     "name": "stdout",
     "output_type": "stream",
     "text": [
      "['ABBV']\n",
      "['ABBV']\n",
      "['ACN']\n",
      "['ACN']\n",
      "['ACN']\n",
      "['ACN']\n",
      "['ACN']\n",
      "['ACN']\n",
      "['ACN']\n",
      "['ACN']\n",
      "['ACN']\n",
      "['ACN']\n",
      "['ACN']\n",
      "['ACN']\n",
      "['ACN']\n",
      "['ACN']\n",
      "['ACN']\n",
      "['ACN']\n",
      "['ACN']\n",
      "['ACN']\n",
      "['ACN']\n",
      "['ACN']\n",
      "['ACN']\n",
      "['ACN']\n"
     ]
    },
    {
     "name": "stderr",
     "output_type": "stream",
     "text": [
      "\r",
      "Meta-RL Agent Loop:   1%|          | 141/17441 [05:56<10:11:23,  2.12s/it]"
     ]
    },
    {
     "name": "stdout",
     "output_type": "stream",
     "text": [
      "['ACN']\n",
      "['ACN']\n",
      "['ACN']\n",
      "['ACN']\n",
      "['ACN']\n",
      "['ACN']\n",
      "['ACN']\n",
      "['ACN']\n",
      "['ACN']\n",
      "['ACN']\n",
      "['ACN']\n",
      "['ACN']\n",
      "['ACN']\n",
      "['ACN']\n",
      "['ACN']\n",
      "['ACN']\n",
      "['ACN']\n",
      "['ACN']\n",
      "['ACN']\n",
      "['ACN']\n",
      "['ACN']\n",
      "['ACN']\n",
      "['ACN']\n",
      "['ACN']\n"
     ]
    },
    {
     "name": "stderr",
     "output_type": "stream",
     "text": [
      "\r",
      "Meta-RL Agent Loop:   1%|          | 142/17441 [05:58<10:15:03,  2.13s/it]"
     ]
    },
    {
     "name": "stdout",
     "output_type": "stream",
     "text": [
      "['ACN']\n",
      "['ACN']\n",
      "['ACN']\n",
      "['ACN']\n",
      "['ACN']\n",
      "['ACN']\n",
      "['ACN']\n",
      "['ACN']\n",
      "['ACN']\n",
      "['ACN']\n",
      "['ACN']\n",
      "['ACN']\n",
      "['ACN']\n",
      "['ACN']\n",
      "['ACN']\n",
      "['ACN']\n",
      "['ACN']\n",
      "['ACN']\n",
      "['ACN']\n",
      "['ACN']\n",
      "['ACN']\n",
      "['ACN']\n",
      "['ACN']\n",
      "['ACN']\n"
     ]
    },
    {
     "name": "stderr",
     "output_type": "stream",
     "text": [
      "\r",
      "Meta-RL Agent Loop:   1%|          | 143/17441 [06:00<10:11:09,  2.12s/it]"
     ]
    },
    {
     "name": "stdout",
     "output_type": "stream",
     "text": [
      "['ACN']\n",
      "['ACN']\n",
      "['ACN']\n",
      "['ACN']\n",
      "['ACN']\n",
      "['ACN']\n",
      "['ACN']\n",
      "['ACN']\n",
      "['ACN']\n",
      "['ACN']\n",
      "['ACN']\n",
      "['ACN']\n",
      "['ACN']\n",
      "['ACN']\n",
      "['ACN']\n",
      "['ACN']\n",
      "['ACN']\n",
      "['ACN']\n",
      "['ACN']\n",
      "['ACN']\n",
      "['ACN']\n",
      "['ACN']\n",
      "['ACN']\n",
      "['ACN']\n"
     ]
    },
    {
     "name": "stderr",
     "output_type": "stream",
     "text": [
      "\r",
      "Meta-RL Agent Loop:   1%|          | 144/17441 [06:02<10:16:49,  2.14s/it]"
     ]
    },
    {
     "name": "stdout",
     "output_type": "stream",
     "text": [
      "['ACN']\n",
      "['ACN']\n",
      "['ACN']\n",
      "['ACN']\n",
      "['ACN']\n",
      "['ACN']\n",
      "['ACN']\n",
      "['ACN']\n",
      "['ACN']\n",
      "['ACN']\n",
      "['ACN']\n",
      "['ACN']\n",
      "['ACN']\n",
      "['ACN']\n",
      "['ACN']\n",
      "['ACN']\n",
      "['ACN']\n",
      "['ACN']\n",
      "['ACN']\n",
      "['ACN']\n",
      "['ACN']\n",
      "['ACN']\n",
      "['ACN']\n",
      "['ACN']\n"
     ]
    },
    {
     "name": "stderr",
     "output_type": "stream",
     "text": [
      "\r",
      "Meta-RL Agent Loop:   1%|          | 145/17441 [06:04<10:20:57,  2.15s/it]"
     ]
    },
    {
     "name": "stdout",
     "output_type": "stream",
     "text": [
      "['ACN']\n",
      "['ACN']\n",
      "['ACN']\n",
      "['ACN']\n",
      "['ACN']\n",
      "['ACN']\n",
      "['ACN']\n",
      "['ACN']\n",
      "['ACN']\n",
      "['ACN']\n",
      "['ACN']\n",
      "['ACN']\n",
      "['ACN']\n",
      "['ACN']\n",
      "['ACN']\n",
      "['ACN']\n",
      "['ACN']\n",
      "['ACN']\n",
      "['ACN']\n",
      "['ACN']\n",
      "['ACN']\n",
      "['ACN']\n",
      "['ACN']\n",
      "['ACN']\n"
     ]
    },
    {
     "name": "stderr",
     "output_type": "stream",
     "text": [
      "\r",
      "Meta-RL Agent Loop:   1%|          | 146/17441 [06:07<10:32:17,  2.19s/it]"
     ]
    },
    {
     "name": "stdout",
     "output_type": "stream",
     "text": [
      "['ACN']\n",
      "['ACN']\n",
      "['ACN']\n",
      "['ACN']\n",
      "['ACN']\n",
      "['ACN']\n",
      "['ACN']\n",
      "['ACN']\n",
      "['ACN']\n",
      "['ACN']\n",
      "['ACN']\n",
      "['ACN']\n",
      "['ACN']\n",
      "['ACN']\n",
      "['ACN']\n",
      "['ACN']\n",
      "['ACN']\n",
      "['ACN']\n",
      "['ACN']\n",
      "['ACN']\n",
      "['ACN']\n",
      "['ACN']\n",
      "['ACN']\n",
      "['ACN']\n"
     ]
    },
    {
     "name": "stderr",
     "output_type": "stream",
     "text": [
      "\r",
      "Meta-RL Agent Loop:   1%|          | 147/17441 [06:10<11:23:59,  2.37s/it]"
     ]
    },
    {
     "name": "stdout",
     "output_type": "stream",
     "text": [
      "['ACN']\n",
      "['ACN']\n",
      "['ACN']\n",
      "['ACN']\n",
      "['ACN']\n",
      "['ACN']\n",
      "['ACN']\n",
      "['ACN']\n",
      "['ACN']\n",
      "['ACN']\n",
      "['ACN']\n",
      "['ACN']\n",
      "['ACN']\n",
      "['ACN']\n",
      "['ACN']\n",
      "['ACN']\n",
      "['ACN']\n",
      "['ACN']\n",
      "['ACN']\n",
      "['ACN']\n",
      "['ACN']\n",
      "['ACN']\n",
      "['ACN']\n",
      "['ACN']\n"
     ]
    },
    {
     "name": "stderr",
     "output_type": "stream",
     "text": [
      "\r",
      "Meta-RL Agent Loop:   1%|          | 148/17441 [06:12<11:38:00,  2.42s/it]"
     ]
    },
    {
     "name": "stdout",
     "output_type": "stream",
     "text": [
      "['ACN']\n",
      "['ACN']\n",
      "['ACN']\n",
      "['ACN']\n",
      "['ACN']\n",
      "['ACN']\n",
      "['ACN']\n",
      "['ACN']\n",
      "['ACN']\n",
      "['ACN']\n",
      "['ACN']\n",
      "['ACN']\n",
      "['ACN']\n",
      "['ACN']\n",
      "['ACN']\n",
      "['ACN']\n",
      "['ACN']\n",
      "['ACN']\n",
      "['ACN']\n",
      "['ACN']\n",
      "['ACN']\n",
      "['ACN']\n",
      "['ACN']\n",
      "['ACN']\n"
     ]
    },
    {
     "name": "stderr",
     "output_type": "stream",
     "text": [
      "\r",
      "Meta-RL Agent Loop:   1%|          | 149/17441 [06:15<12:58:46,  2.70s/it]"
     ]
    },
    {
     "name": "stdout",
     "output_type": "stream",
     "text": [
      "['ACN']\n",
      "['ACN']\n",
      "['ACN']\n",
      "['ACN']\n",
      "['ACN']\n",
      "['ACN']\n",
      "['ACN']\n",
      "['ACN']\n",
      "['ACN']\n",
      "['ACN']\n",
      "['ACN']\n",
      "['ACN']\n",
      "['ACN']\n",
      "['ACN']\n",
      "['ACN']\n",
      "['ACN']\n",
      "['ACN']\n",
      "['ACN']\n",
      "['ACN']\n",
      "['ACN']\n",
      "['ACN']\n",
      "['ACN']\n",
      "['ACN']\n",
      "['ACN']\n"
     ]
    },
    {
     "name": "stderr",
     "output_type": "stream",
     "text": [
      "\r",
      "Meta-RL Agent Loop:   1%|          | 150/17441 [06:19<13:49:10,  2.88s/it]"
     ]
    },
    {
     "name": "stdout",
     "output_type": "stream",
     "text": [
      "['ACN']\n",
      "['ACN']\n",
      "['ACN']\n",
      "['ACN']\n",
      "['ACN']\n",
      "['ACN']\n",
      "['ACN']\n",
      "['ACN']\n",
      "['ACN']\n",
      "['ACN']\n",
      "['ACN']\n",
      "['ACN']\n",
      "['ACN']\n",
      "['ACN']\n",
      "['ACN']\n",
      "['ACN']\n",
      "['ACN']\n",
      "['ACN']\n",
      "['ACN']\n",
      "['ACN']\n",
      "['ACN']\n",
      "['ACN']\n",
      "['ACN']\n",
      "['ACN']\n"
     ]
    },
    {
     "name": "stderr",
     "output_type": "stream",
     "text": [
      "\r",
      "Meta-RL Agent Loop:   1%|          | 151/17441 [06:22<13:46:13,  2.87s/it]"
     ]
    },
    {
     "name": "stdout",
     "output_type": "stream",
     "text": [
      "['ACN']\n",
      "['ACN']\n",
      "['ACN']\n",
      "['ACN']\n",
      "['ACN']\n",
      "['ACN']\n",
      "['ACN']\n",
      "['ACN']\n",
      "['ACN']\n",
      "['ACN']\n",
      "['ACN']\n",
      "['ACN']\n",
      "['ACN']\n",
      "['ACN']\n",
      "['ACN']\n",
      "['ACN']\n",
      "['ACN']\n",
      "['ACN']\n",
      "['ACN']\n",
      "['ACN']\n",
      "['ACN']\n",
      "['ACN']\n",
      "['ACN']\n",
      "['ACN']\n"
     ]
    },
    {
     "name": "stderr",
     "output_type": "stream",
     "text": [
      "\r",
      "Meta-RL Agent Loop:   1%|          | 152/17441 [06:24<13:47:16,  2.87s/it]"
     ]
    },
    {
     "name": "stdout",
     "output_type": "stream",
     "text": [
      "['ACN']\n",
      "['ACN']\n",
      "['ACN']\n",
      "['ACN']\n",
      "['ACN']\n",
      "['ACN']\n",
      "['ACN']\n",
      "['ACN']\n",
      "['ACN']\n",
      "['ACN']\n",
      "['ACN']\n",
      "['ACN']\n",
      "['ACN']\n",
      "['ACN']\n",
      "['ACN']\n",
      "['ACN']\n",
      "['ACN']\n",
      "['ACN']\n",
      "['ACN']\n",
      "['ACN']\n",
      "['ACN']\n",
      "['ACN']\n",
      "['ACN']\n",
      "['ACN']\n"
     ]
    },
    {
     "name": "stderr",
     "output_type": "stream",
     "text": [
      "\r",
      "Meta-RL Agent Loop:   1%|          | 153/17441 [06:27<13:45:49,  2.87s/it]"
     ]
    },
    {
     "name": "stdout",
     "output_type": "stream",
     "text": [
      "['ACN']\n",
      "['ACN']\n",
      "['ACN']\n",
      "['ACN']\n",
      "['ACN']\n",
      "['ACN']\n",
      "['ACN']\n",
      "['ACN']\n",
      "['ACN']\n",
      "['ACN']\n",
      "['ACN']\n",
      "['ACN']\n",
      "['ACN']\n",
      "['ACN']\n",
      "['ACN']\n",
      "['ACN']\n",
      "['ACN']\n",
      "['ACN']\n",
      "['ACN']\n",
      "['ACN']\n",
      "['ACN']\n",
      "['ACN']\n",
      "['ACN']\n",
      "['ACN']\n"
     ]
    },
    {
     "name": "stderr",
     "output_type": "stream",
     "text": [
      "\r",
      "Meta-RL Agent Loop:   1%|          | 154/17441 [06:31<14:17:53,  2.98s/it]"
     ]
    },
    {
     "name": "stdout",
     "output_type": "stream",
     "text": [
      "['ACN']\n",
      "['ACN']\n",
      "['ACN']\n",
      "['ACN']\n",
      "['ACN']\n",
      "['ACN']\n",
      "['ACN']\n",
      "['ACN']\n",
      "['ACN']\n",
      "['ACN']\n",
      "['ACN']\n",
      "['ACN']\n",
      "['ACN']\n",
      "['ACN']\n",
      "['ACN']\n",
      "['ACN']\n",
      "['ACN']\n",
      "['ACN']\n",
      "['ACN']\n",
      "['ACN']\n",
      "['ACN']\n",
      "['ACN']\n",
      "['ACN']\n",
      "['ACN']\n"
     ]
    },
    {
     "name": "stderr",
     "output_type": "stream",
     "text": [
      "\r",
      "Meta-RL Agent Loop:   1%|          | 155/17441 [06:33<13:42:24,  2.85s/it]"
     ]
    },
    {
     "name": "stdout",
     "output_type": "stream",
     "text": [
      "['ACN']\n",
      "['ACN']\n",
      "['ACN']\n",
      "['ACN']\n",
      "['ACN']\n",
      "['ACN']\n",
      "['ACN']\n",
      "['ACN']\n",
      "['ACN']\n",
      "['ACN']\n",
      "['ACN']\n",
      "['ACN']\n",
      "['ACN']\n",
      "['ACN']\n",
      "['ACN']\n",
      "['ACN']\n",
      "['ACN']\n",
      "['ACN']\n",
      "['ACN']\n",
      "['ACN']\n",
      "['ACN']\n",
      "['ACN']\n",
      "['ACN']\n",
      "['ACN']\n"
     ]
    },
    {
     "name": "stderr",
     "output_type": "stream",
     "text": [
      "\r",
      "Meta-RL Agent Loop:   1%|          | 156/17441 [06:35<13:01:35,  2.71s/it]"
     ]
    },
    {
     "name": "stdout",
     "output_type": "stream",
     "text": [
      "['ACN']\n",
      "['ACN']\n",
      "['ACN']\n",
      "['ACN']\n",
      "['ACN']\n",
      "['ACN']\n",
      "['ACN']\n",
      "['ACN']\n",
      "['ACN']\n",
      "['ACN']\n",
      "['ACN']\n",
      "['ACN']\n",
      "['ACN']\n",
      "['ACN']\n",
      "['ACN']\n",
      "['ACN']\n",
      "['ACN']\n",
      "['ACN']\n",
      "['ACN']\n",
      "['ACN']\n",
      "['ACN']\n",
      "['ACN']\n",
      "['ACN']\n",
      "['ACN']\n"
     ]
    },
    {
     "name": "stderr",
     "output_type": "stream",
     "text": [
      "\r",
      "Meta-RL Agent Loop:   1%|          | 157/17441 [06:37<11:53:08,  2.48s/it]"
     ]
    },
    {
     "name": "stdout",
     "output_type": "stream",
     "text": [
      "['ACN']\n",
      "['ACN']\n",
      "['ACN']\n",
      "['ACN']\n",
      "['ACN']\n",
      "['ACN']\n",
      "['ACN']\n",
      "['ACN']\n",
      "['ACN']\n",
      "['ACN']\n",
      "['ACN']\n",
      "['ACN']\n",
      "['ACN']\n",
      "['ACN']\n",
      "['ACN']\n",
      "['ACN']\n",
      "['ACN']\n",
      "['ACN']\n",
      "['ACN']\n",
      "['ACN']\n",
      "['ACN']\n",
      "['ACN']\n",
      "['ACN']\n",
      "['ACN']\n"
     ]
    },
    {
     "name": "stderr",
     "output_type": "stream",
     "text": [
      "\r",
      "Meta-RL Agent Loop:   1%|          | 158/17441 [06:39<11:15:09,  2.34s/it]"
     ]
    },
    {
     "name": "stdout",
     "output_type": "stream",
     "text": [
      "['ACN']\n",
      "['ACN']\n",
      "['ACN']\n",
      "['ACN']\n",
      "['ACN']\n",
      "['ACN']\n",
      "['ACN']\n",
      "['ACN']\n",
      "['ACN']\n",
      "['ACN']\n",
      "['ACN']\n",
      "['ACN']\n",
      "['ACN']\n",
      "['ACN']\n",
      "['ACN']\n",
      "['ACN']\n",
      "['ACN']\n",
      "['ACN']\n",
      "['ACN']\n",
      "['ACN']\n",
      "['ACN']\n",
      "['ACN']\n",
      "['ACN']\n",
      "['ACN']\n"
     ]
    },
    {
     "name": "stderr",
     "output_type": "stream",
     "text": [
      "\r",
      "Meta-RL Agent Loop:   1%|          | 159/17441 [06:41<10:50:41,  2.26s/it]"
     ]
    },
    {
     "name": "stdout",
     "output_type": "stream",
     "text": [
      "['ACN']\n",
      "['ACN']\n",
      "['ACN']\n",
      "['ACN']\n",
      "['ACN']\n",
      "['ACN']\n",
      "['ACN']\n",
      "['ACN']\n",
      "['ACN']\n",
      "['ACN']\n",
      "['ACN']\n",
      "['ACN']\n",
      "['ACN']\n",
      "['ACN']\n",
      "['ACN']\n",
      "['ACN']\n",
      "['ACN']\n",
      "['ACN']\n",
      "['ACN']\n",
      "['ACN']\n",
      "['ACN']\n",
      "['ACN']\n",
      "['ACN']\n",
      "['ACN']\n"
     ]
    },
    {
     "name": "stderr",
     "output_type": "stream",
     "text": [
      "\r",
      "Meta-RL Agent Loop:   1%|          | 160/17441 [06:44<10:31:36,  2.19s/it]"
     ]
    },
    {
     "name": "stdout",
     "output_type": "stream",
     "text": [
      "['ACN']\n",
      "['ACN']\n",
      "['ACN']\n",
      "['ACN']\n",
      "['ACN']\n",
      "['ACN']\n",
      "['ACN']\n",
      "['ACN']\n",
      "['ACN']\n",
      "['ACN']\n",
      "['ACN']\n",
      "['ACN']\n",
      "['ACN']\n",
      "['ACN']\n",
      "['ACN']\n",
      "['ACN']\n",
      "['ACN']\n",
      "['ACN']\n",
      "['ACN']\n",
      "['ACN']\n",
      "['ACN']\n",
      "['ACN']\n",
      "['ACN']\n",
      "['ACN']\n"
     ]
    },
    {
     "name": "stderr",
     "output_type": "stream",
     "text": [
      "\r",
      "Meta-RL Agent Loop:   1%|          | 161/17441 [06:46<11:08:56,  2.32s/it]"
     ]
    },
    {
     "name": "stdout",
     "output_type": "stream",
     "text": [
      "['ACN']\n",
      "['ACN']\n",
      "['ACN']\n",
      "['ACN']\n",
      "['ACN']\n",
      "['ACN']\n",
      "['ACN']\n",
      "['ACN']\n",
      "['ACN']\n",
      "['ACN']\n",
      "['ACN']\n",
      "['ACN']\n",
      "['ACN']\n",
      "['ACN']\n",
      "['ACN']\n",
      "['ACN']\n",
      "['ACN']\n",
      "['ACN']\n",
      "['ACN']\n",
      "['ACN']\n",
      "['ACN']\n",
      "['ACN']\n",
      "['ACN']\n",
      "['ACN']\n"
     ]
    },
    {
     "name": "stderr",
     "output_type": "stream",
     "text": [
      "\r",
      "Meta-RL Agent Loop:   1%|          | 162/17441 [06:49<12:11:02,  2.54s/it]"
     ]
    },
    {
     "name": "stdout",
     "output_type": "stream",
     "text": [
      "['ACN']\n",
      "['ACN']\n",
      "['ACN']\n",
      "['ACN']\n",
      "['ACN']\n",
      "['ACN']\n",
      "['ACN']\n",
      "['ACN']\n",
      "['ACN']\n",
      "['ACN']\n",
      "['ACN']\n",
      "['ACN']\n",
      "['ACN']\n",
      "['ACN']\n",
      "['ACN']\n",
      "['ACN']\n",
      "['ACN']\n",
      "['ACN']\n",
      "['ACN']\n",
      "['ACN']\n",
      "['ACN']\n",
      "['ACN']\n",
      "['ACN']\n",
      "['ACN']\n"
     ]
    },
    {
     "name": "stderr",
     "output_type": "stream",
     "text": [
      "\r",
      "Meta-RL Agent Loop:   1%|          | 163/17441 [06:52<12:03:02,  2.51s/it]"
     ]
    },
    {
     "name": "stdout",
     "output_type": "stream",
     "text": [
      "['ACN']\n",
      "['ACN']\n",
      "['ACN']\n",
      "['ACN']\n",
      "['ACN']\n",
      "['ACN']\n",
      "['ACN']\n",
      "['ACN']\n",
      "['ACN']\n",
      "['ACN']\n",
      "['ACN']\n",
      "['ACN']\n",
      "['ACN']\n",
      "['ACN']\n",
      "['ACN']\n",
      "['ACN']\n",
      "['ACN']\n",
      "['ACN']\n",
      "['ACN']\n",
      "['ACN']\n",
      "['ACN']\n",
      "['ACN']\n",
      "['ACN']\n",
      "['ACN']\n"
     ]
    },
    {
     "name": "stderr",
     "output_type": "stream",
     "text": [
      "\r",
      "Meta-RL Agent Loop:   1%|          | 164/17441 [06:54<11:13:42,  2.34s/it]"
     ]
    },
    {
     "name": "stdout",
     "output_type": "stream",
     "text": [
      "['ACN']\n",
      "['ACN']\n",
      "['ACN']\n",
      "['ACN']\n",
      "['ACN']\n",
      "['ACN']\n",
      "['ACN']\n",
      "['ACN']\n",
      "['ACN']\n",
      "['ACN']\n",
      "['ACN']\n",
      "['ACN']\n",
      "['ACN']\n",
      "['ACN']\n",
      "['ACN']\n",
      "['ACN']\n",
      "['ACN']\n",
      "['ACN']\n",
      "['ACN']\n",
      "['ACN']\n",
      "['ACN']\n",
      "['ACN']\n",
      "['ACN']\n",
      "['ACN']\n"
     ]
    },
    {
     "name": "stderr",
     "output_type": "stream",
     "text": [
      "\r",
      "Meta-RL Agent Loop:   1%|          | 165/17441 [06:56<10:56:25,  2.28s/it]"
     ]
    },
    {
     "name": "stdout",
     "output_type": "stream",
     "text": [
      "['ACN']\n",
      "['ACN']\n",
      "['ACN']\n",
      "['ACN']\n",
      "['ACN']\n",
      "['ACN']\n",
      "['ACN']\n",
      "['ACN']\n",
      "['ACN']\n",
      "['ACN']\n",
      "['ACN']\n",
      "['ACN']\n",
      "['ACN']\n",
      "['ACN']\n",
      "['ACN']\n",
      "['ACN']\n",
      "['ACN']\n",
      "['ACN']\n",
      "['ACN']\n",
      "['ACN']\n",
      "['ACN']\n",
      "['ACN']\n",
      "['ACN']\n",
      "['ACN']\n"
     ]
    },
    {
     "name": "stderr",
     "output_type": "stream",
     "text": [
      "\r",
      "Meta-RL Agent Loop:   1%|          | 166/17441 [06:58<10:34:36,  2.20s/it]"
     ]
    },
    {
     "name": "stdout",
     "output_type": "stream",
     "text": [
      "['ACN']\n",
      "['ACN']\n",
      "['ACN']\n",
      "['ACN']\n",
      "['ACN']\n",
      "['ACN']\n",
      "['ACN']\n",
      "['ACN']\n",
      "['ACN']\n",
      "['ACN']\n",
      "['ACN']\n",
      "['ACN']\n",
      "['ACN']\n",
      "['ACN']\n",
      "['ACN']\n",
      "['ACN']\n",
      "['ACN']\n",
      "['ACN']\n",
      "['ACN']\n",
      "['ACN']\n",
      "['ACN']\n",
      "['ACN']\n",
      "['ACN']\n",
      "['ACN']\n"
     ]
    },
    {
     "name": "stderr",
     "output_type": "stream",
     "text": [
      "\r",
      "Meta-RL Agent Loop:   1%|          | 167/17441 [07:00<10:29:50,  2.19s/it]"
     ]
    },
    {
     "name": "stdout",
     "output_type": "stream",
     "text": [
      "['ACN']\n",
      "['ACN']\n",
      "['ACN']\n",
      "['ACN']\n",
      "['ACN']\n",
      "['ACN']\n",
      "['ACN']\n",
      "['ACN']\n",
      "['ACN']\n",
      "['ACN']\n",
      "['ACN']\n",
      "['ACN']\n",
      "['ACN']\n",
      "['ACN']\n",
      "['ACN']\n",
      "['ACN']\n",
      "['ACN']\n",
      "['ACN']\n",
      "['ACN']\n",
      "['ACN']\n",
      "['ACN']\n",
      "['ACN']\n",
      "['ACN']\n",
      "['ACN']\n"
     ]
    },
    {
     "name": "stderr",
     "output_type": "stream",
     "text": [
      "\r",
      "Meta-RL Agent Loop:   1%|          | 168/17441 [07:03<11:06:14,  2.31s/it]"
     ]
    },
    {
     "name": "stdout",
     "output_type": "stream",
     "text": [
      "['ACN']\n",
      "['ACN']\n",
      "['ACN']\n",
      "['ACN']\n",
      "['ACN']\n",
      "['ACN']\n",
      "['ACN']\n",
      "['ACN']\n",
      "['ACN']\n",
      "['ACN']\n",
      "['ACN']\n",
      "['ACN']\n",
      "['ACN']\n",
      "['ACN']\n",
      "['ACN']\n",
      "['ACN']\n",
      "['ACN']\n",
      "['ACN']\n",
      "['ACN']\n",
      "['ACN']\n",
      "['ACN']\n",
      "['ACN']\n",
      "['ACN']\n",
      "['ACN']\n"
     ]
    },
    {
     "name": "stderr",
     "output_type": "stream",
     "text": [
      "\r",
      "Meta-RL Agent Loop:   1%|          | 169/17441 [07:05<11:46:46,  2.46s/it]"
     ]
    },
    {
     "name": "stdout",
     "output_type": "stream",
     "text": [
      "['ACN']\n",
      "['ACN']\n",
      "['ACN']\n",
      "['ACN']\n",
      "['ACN']\n",
      "['ACN']\n",
      "['ACN']\n",
      "['ACN']\n",
      "['ACN']\n",
      "['ACN']\n",
      "['ACN']\n",
      "['ACN']\n",
      "['ACN']\n",
      "['ACN']\n",
      "['ACN']\n",
      "['ACN']\n",
      "['ACN']\n",
      "['ACN']\n",
      "['ACN']\n",
      "['ACN']\n",
      "['ACN']\n",
      "['ACN']\n",
      "['ACN']\n",
      "['ACN']\n"
     ]
    },
    {
     "name": "stderr",
     "output_type": "stream",
     "text": [
      "\r",
      "Meta-RL Agent Loop:   1%|          | 170/17441 [07:08<11:42:12,  2.44s/it]"
     ]
    },
    {
     "name": "stdout",
     "output_type": "stream",
     "text": [
      "['ACN']\n",
      "['ACN']\n",
      "['ACN']\n",
      "['ACN']\n",
      "['ACN']\n",
      "['ACN']\n",
      "['ACN']\n",
      "['ACN']\n",
      "['ACN']\n",
      "['ACN']\n",
      "['ACN']\n",
      "['ACN']\n",
      "['ACN']\n",
      "['ACN']\n",
      "['ACN']\n",
      "['ACN']\n",
      "['ACN']\n",
      "['ACN']\n",
      "['ACN']\n",
      "['ACN']\n",
      "['ACN']\n",
      "['ACN']\n",
      "['ACN']\n",
      "['ACN']\n"
     ]
    },
    {
     "name": "stderr",
     "output_type": "stream",
     "text": [
      "\r",
      "Meta-RL Agent Loop:   1%|          | 171/17441 [07:10<11:13:58,  2.34s/it]"
     ]
    },
    {
     "name": "stdout",
     "output_type": "stream",
     "text": [
      "['ACN']\n",
      "['ACN']\n",
      "['ACN']\n",
      "['ACN']\n",
      "['ACN']\n",
      "['ACN']\n",
      "['ACN']\n",
      "['ACN']\n",
      "['ACN']\n",
      "['ACN']\n",
      "['ACN']\n",
      "['ACN']\n",
      "['ACN']\n",
      "['ACN']\n",
      "['ACN']\n",
      "['ACN']\n",
      "['ACN']\n",
      "['ACN']\n",
      "['ACN']\n",
      "['ACN']\n",
      "['ACN']\n",
      "['ACN']\n",
      "['ACN']\n",
      "['ACN']\n"
     ]
    },
    {
     "name": "stderr",
     "output_type": "stream",
     "text": [
      "\r",
      "Meta-RL Agent Loop:   1%|          | 172/17441 [07:12<10:43:35,  2.24s/it]"
     ]
    },
    {
     "name": "stdout",
     "output_type": "stream",
     "text": [
      "['ACN']\n",
      "['ACN']\n",
      "['ACN']\n",
      "['ACN']\n",
      "['ACN']\n",
      "['ACN']\n",
      "['ACN']\n",
      "['ACN']\n",
      "['ACN']\n",
      "['ACN']\n",
      "['ACN']\n",
      "['ACN']\n",
      "['ACN']\n",
      "['ACN']\n",
      "['ACN']\n",
      "['ACN']\n",
      "['ACN']\n",
      "['ACN']\n",
      "['ACN']\n",
      "['ACN']\n",
      "['ACN']\n",
      "['ACN']\n",
      "['ACN']\n",
      "['ACN']\n"
     ]
    },
    {
     "name": "stderr",
     "output_type": "stream",
     "text": [
      "\r",
      "Meta-RL Agent Loop:   1%|          | 173/17441 [07:14<10:30:21,  2.19s/it]"
     ]
    },
    {
     "name": "stdout",
     "output_type": "stream",
     "text": [
      "['ACN']\n",
      "['ACN']\n",
      "['ACN']\n",
      "['ACN']\n",
      "['ACN']\n",
      "['ACN']\n",
      "['ACN']\n",
      "['ACN']\n",
      "['ACN']\n",
      "['ACN']\n",
      "['ACN']\n",
      "['ACN']\n",
      "['ACN']\n",
      "['ACN']\n",
      "['ACN']\n",
      "['ACN']\n",
      "['ACN']\n",
      "['ACN']\n",
      "['ACN']\n",
      "['ACN']\n",
      "['ACN']\n",
      "['ACN']\n",
      "['ACN']\n",
      "['ACN']\n"
     ]
    },
    {
     "name": "stderr",
     "output_type": "stream",
     "text": [
      "\r",
      "Meta-RL Agent Loop:   1%|          | 174/17441 [07:16<10:21:31,  2.16s/it]"
     ]
    },
    {
     "name": "stdout",
     "output_type": "stream",
     "text": [
      "['ACN']\n",
      "['ACN']\n",
      "['ACN']\n",
      "['ACN']\n",
      "['ACN']\n",
      "['ACN']\n",
      "['ACN']\n",
      "['ACN']\n",
      "['ACN']\n",
      "['ACN']\n",
      "['ACN']\n",
      "['ACN']\n",
      "['ACN']\n",
      "['ACN']\n",
      "['ACN']\n",
      "['ACN']\n",
      "['ACN']\n",
      "['ACN']\n",
      "['ACN']\n",
      "['ACN']\n",
      "['ACN']\n",
      "['ACN']\n",
      "['ACN']\n",
      "['ACN']\n"
     ]
    },
    {
     "name": "stderr",
     "output_type": "stream",
     "text": [
      "\r",
      "Meta-RL Agent Loop:   1%|          | 175/17441 [07:19<10:57:32,  2.28s/it]"
     ]
    },
    {
     "name": "stdout",
     "output_type": "stream",
     "text": [
      "['ACN']\n",
      "['ACN']\n",
      "['ADBE']\n",
      "['ADBE']\n",
      "['ADBE']\n",
      "['ADBE']\n",
      "['ADBE']\n",
      "['ADBE']\n",
      "['ADBE']\n",
      "['ADBE']\n",
      "['ADBE']\n",
      "['ADBE']\n",
      "['ADBE']\n",
      "['ADBE']\n",
      "['ADBE']\n",
      "['ADBE']\n",
      "['ADBE']\n",
      "['ADBE']\n",
      "['ADBE']\n",
      "['ADBE']\n",
      "['ADBE']\n",
      "['ADBE']\n",
      "['ADBE']\n",
      "['ADBE']\n"
     ]
    },
    {
     "name": "stderr",
     "output_type": "stream",
     "text": [
      "\r",
      "Meta-RL Agent Loop:   1%|          | 176/17441 [07:21<11:33:07,  2.41s/it]"
     ]
    },
    {
     "name": "stdout",
     "output_type": "stream",
     "text": [
      "['ADBE']\n",
      "['ADBE']\n",
      "['ADBE']\n",
      "['ADBE']\n",
      "['ADBE']\n",
      "['ADBE']\n",
      "['ADBE']\n",
      "['ADBE']\n",
      "['ADBE']\n",
      "['ADBE']\n",
      "['ADBE']\n",
      "['ADBE']\n",
      "['ADBE']\n",
      "['ADBE']\n",
      "['ADBE']\n",
      "['ADBE']\n",
      "['ADBE']\n",
      "['ADBE']\n",
      "['ADBE']\n",
      "['ADBE']\n",
      "['ADBE']\n",
      "['ADBE']\n",
      "['ADBE']\n",
      "['ADBE']\n"
     ]
    },
    {
     "name": "stderr",
     "output_type": "stream",
     "text": [
      "\r",
      "Meta-RL Agent Loop:   1%|          | 177/17441 [07:24<11:29:45,  2.40s/it]"
     ]
    },
    {
     "name": "stdout",
     "output_type": "stream",
     "text": [
      "['ADBE']\n",
      "['ADBE']\n",
      "['ADBE']\n",
      "['ADBE']\n",
      "['ADBE']\n",
      "['ADBE']\n",
      "['ADBE']\n",
      "['ADBE']\n",
      "['ADBE']\n",
      "['ADBE']\n",
      "['ADBE']\n",
      "['ADBE']\n",
      "['ADBE']\n",
      "['ADBE']\n",
      "['ADBE']\n",
      "['ADBE']\n",
      "['ADBE']\n",
      "['ADBE']\n",
      "['ADBE']\n",
      "['ADBE']\n",
      "['ADBE']\n",
      "['ADBE']\n",
      "['ADBE']\n",
      "['ADBE']\n"
     ]
    },
    {
     "name": "stderr",
     "output_type": "stream",
     "text": [
      "\r",
      "Meta-RL Agent Loop:   1%|          | 178/17441 [07:26<11:42:47,  2.44s/it]"
     ]
    },
    {
     "name": "stdout",
     "output_type": "stream",
     "text": [
      "['ADBE']\n",
      "['ADBE']\n",
      "['ADBE']\n",
      "['ADBE']\n",
      "['ADBE']\n",
      "['ADBE']\n",
      "['ADBE']\n",
      "['ADBE']\n",
      "['ADBE']\n",
      "['ADBE']\n",
      "['ADBE']\n",
      "['ADBE']\n",
      "['ADBE']\n",
      "['ADBE']\n",
      "['ADBE']\n",
      "['ADBE']\n",
      "['ADBE']\n",
      "['ADBE']\n",
      "['ADBE']\n",
      "['ADBE']\n",
      "['ADBE']\n",
      "['ADBE']\n",
      "['ADBE']\n",
      "['ADBE']\n"
     ]
    },
    {
     "name": "stderr",
     "output_type": "stream",
     "text": [
      "\r",
      "Meta-RL Agent Loop:   1%|          | 179/17441 [07:29<11:46:18,  2.46s/it]"
     ]
    },
    {
     "name": "stdout",
     "output_type": "stream",
     "text": [
      "['ADBE']\n",
      "['ADBE']\n",
      "['ADBE']\n",
      "['ADBE']\n",
      "['ADBE']\n",
      "['ADBE']\n",
      "['ADBE']\n",
      "['ADBE']\n",
      "['ADBE']\n",
      "['ADBE']\n",
      "['ADBE']\n",
      "['ADBE']\n",
      "['ADBE']\n",
      "['ADBE']\n",
      "['ADBE']\n",
      "['ADBE']\n",
      "['ADBE']\n",
      "['ADBE']\n",
      "['ADBE']\n",
      "['ADBE']\n",
      "['ADBE']\n",
      "['ADBE']\n",
      "['ADBE']\n",
      "['ADBE']\n"
     ]
    },
    {
     "name": "stderr",
     "output_type": "stream",
     "text": [
      "\r",
      "Meta-RL Agent Loop:   1%|          | 180/17441 [07:30<10:26:01,  2.18s/it]"
     ]
    },
    {
     "name": "stdout",
     "output_type": "stream",
     "text": [
      "['ADBE']\n",
      "['ADBE']\n",
      "['ADBE']\n",
      "['ADBE']\n",
      "['ADBE']\n",
      "['ADBE']\n",
      "['ADBE']\n",
      "['ADBE']\n",
      "['ADBE']\n",
      "['ADBE']\n",
      "['ADBE']\n",
      "['ADBE']\n",
      "['ADBE']\n",
      "['ADBE']\n",
      "['ADBE']\n",
      "['ADBE']\n",
      "['ADBE']\n",
      "['ADBE']\n",
      "['ADBE']\n",
      "['ADBE']\n",
      "['ADBE']\n",
      "['ADBE']\n",
      "['ADBE']\n",
      "['ADBE']\n"
     ]
    },
    {
     "name": "stderr",
     "output_type": "stream",
     "text": [
      "\r",
      "Meta-RL Agent Loop:   1%|          | 181/17441 [07:32<9:36:56,  2.01s/it] "
     ]
    },
    {
     "name": "stdout",
     "output_type": "stream",
     "text": [
      "['ADBE']\n",
      "['ADBE']\n",
      "['ADBE']\n",
      "['ADBE']\n",
      "['ADBE']\n",
      "['ADBE']\n",
      "['ADBE']\n",
      "['ADBE']\n",
      "['ADBE']\n",
      "['ADBE']\n",
      "['ADBE']\n",
      "['ADBE']\n",
      "['ADBE']\n",
      "['ADBE']\n",
      "['ADBE']\n",
      "['ADBE']\n",
      "['ADBE']\n",
      "['ADBE']\n",
      "['ADBE']\n",
      "['ADBE']\n",
      "['ADBE']\n",
      "['ADBE']\n",
      "['ADBE']\n",
      "['ADBE']\n"
     ]
    },
    {
     "name": "stderr",
     "output_type": "stream",
     "text": [
      "\r",
      "Meta-RL Agent Loop:   1%|          | 182/17441 [07:34<10:30:52,  2.19s/it]"
     ]
    },
    {
     "name": "stdout",
     "output_type": "stream",
     "text": [
      "['ADBE']\n",
      "['ADBE']\n",
      "['ADBE']\n",
      "['ADBE']\n",
      "['ADBE']\n",
      "['ADBE']\n",
      "['ADBE']\n",
      "['ADBE']\n",
      "['ADBE']\n",
      "['ADBE']\n",
      "['ADBE']\n",
      "['ADBE']\n",
      "['ADBE']\n",
      "['ADBE']\n",
      "['ADBE']\n",
      "['ADBE']\n",
      "['ADBE']\n",
      "['ADBE']\n",
      "['ADBE']\n",
      "['ADBE']\n",
      "['ADBE']\n",
      "['ADBE']\n",
      "['ADBE']\n",
      "['ADBE']\n"
     ]
    },
    {
     "name": "stderr",
     "output_type": "stream",
     "text": [
      "\r",
      "Meta-RL Agent Loop:   1%|          | 183/17441 [07:37<11:11:52,  2.34s/it]"
     ]
    },
    {
     "name": "stdout",
     "output_type": "stream",
     "text": [
      "['ADBE']\n",
      "['ADBE']\n",
      "['ADBE']\n",
      "['ADBE']\n",
      "['ADBE']\n",
      "['ADBE']\n",
      "['ADBE']\n",
      "['ADBE']\n",
      "['ADBE']\n",
      "['ADBE']\n",
      "['ADBE']\n",
      "['ADBE']\n",
      "['ADBE']\n",
      "['ADBE']\n",
      "['ADBE']\n",
      "['ADBE']\n",
      "['ADBE']\n",
      "['ADBE']\n",
      "['ADBE']\n",
      "['ADBE']\n",
      "['ADBE']\n",
      "['ADBE']\n",
      "['ADBE']\n",
      "['ADBE']\n"
     ]
    },
    {
     "name": "stderr",
     "output_type": "stream",
     "text": [
      "\r",
      "Meta-RL Agent Loop:   1%|          | 184/17441 [07:39<11:12:06,  2.34s/it]"
     ]
    },
    {
     "name": "stdout",
     "output_type": "stream",
     "text": [
      "['ADBE']\n",
      "['ADBE']\n",
      "['ADBE']\n",
      "['ADBE']\n",
      "['ADBE']\n",
      "['ADBE']\n",
      "['ADBE']\n",
      "['ADBE']\n",
      "['ADBE']\n",
      "['ADBE']\n",
      "['ADBE']\n",
      "['ADBE']\n",
      "['ADBE']\n",
      "['ADBE']\n",
      "['ADBE']\n",
      "['ADBE']\n",
      "['ADBE']\n",
      "['ADBE']\n",
      "['ADBE']\n",
      "['ADBE']\n",
      "['ADBE']\n",
      "['ADBE']\n",
      "['ADBE']\n",
      "['ADBE']\n"
     ]
    },
    {
     "name": "stderr",
     "output_type": "stream",
     "text": [
      "\r",
      "Meta-RL Agent Loop:   1%|          | 185/17441 [07:41<10:49:13,  2.26s/it]"
     ]
    },
    {
     "name": "stdout",
     "output_type": "stream",
     "text": [
      "['ADBE']\n",
      "['ADBE']\n",
      "['ADBE']\n",
      "['ADBE']\n",
      "['ADBE']\n",
      "['ADBE']\n",
      "['ADBE']\n",
      "['ADBE']\n",
      "['ADBE']\n",
      "['ADBE']\n",
      "['ADBE']\n",
      "['ADBE']\n",
      "['ADBE']\n",
      "['ADBE']\n",
      "['ADBE']\n",
      "['ADBE']\n",
      "['ADBE']\n",
      "['ADBE']\n",
      "['ADBE']\n",
      "['ADBE']\n",
      "['ADBE']\n",
      "['ADBE']\n",
      "['ADBE']\n",
      "['ADBE']\n"
     ]
    },
    {
     "name": "stderr",
     "output_type": "stream",
     "text": [
      "\r",
      "Meta-RL Agent Loop:   1%|          | 186/17441 [07:43<10:24:13,  2.17s/it]"
     ]
    },
    {
     "name": "stdout",
     "output_type": "stream",
     "text": [
      "['ADBE']\n",
      "['ADBE']\n",
      "['ADBE']\n",
      "['ADBE']\n",
      "['ADBE']\n",
      "['ADBE']\n",
      "['ADBE']\n",
      "['ADBE']\n",
      "['ADBE']\n",
      "['ADBE']\n",
      "['ADBE']\n",
      "['ADBE']\n",
      "['ADBE']\n",
      "['ADBE']\n",
      "['ADBE']\n",
      "['ADBE']\n",
      "['ADBE']\n",
      "['ADBE']\n",
      "['ADBE']\n",
      "['ADBE']\n",
      "['ADBE']\n",
      "['ADBE']\n",
      "['ADBE']\n",
      "['ADBE']\n"
     ]
    },
    {
     "name": "stderr",
     "output_type": "stream",
     "text": [
      "\r",
      "Meta-RL Agent Loop:   1%|          | 187/17441 [07:46<10:14:22,  2.14s/it]"
     ]
    },
    {
     "name": "stdout",
     "output_type": "stream",
     "text": [
      "['ADBE']\n",
      "['ADBE']\n",
      "['ADBE']\n",
      "['ADBE']\n",
      "['ADBE']\n",
      "['ADBE']\n",
      "['ADBE']\n",
      "['ADBE']\n",
      "['ADBE']\n",
      "['ADBE']\n",
      "['ADBE']\n",
      "['ADBE']\n",
      "['ADBE']\n",
      "['ADBE']\n",
      "['ADBE']\n",
      "['ADBE']\n",
      "['ADBE']\n",
      "['ADBE']\n",
      "['ADBE']\n",
      "['ADBE']\n",
      "['ADBE']\n",
      "['ADBE']\n",
      "['ADBE']\n",
      "['ADBE']\n"
     ]
    },
    {
     "name": "stderr",
     "output_type": "stream",
     "text": [
      "\r",
      "Meta-RL Agent Loop:   1%|          | 188/17441 [07:48<10:05:06,  2.10s/it]"
     ]
    },
    {
     "name": "stdout",
     "output_type": "stream",
     "text": [
      "['ADBE']\n",
      "['ADBE']\n",
      "['ADBE']\n",
      "['ADBE']\n",
      "['ADBE']\n",
      "['ADBE']\n",
      "['ADBE']\n",
      "['ADBE']\n",
      "['ADBE']\n",
      "['ADBE']\n",
      "['ADBE']\n",
      "['ADBE']\n",
      "['ADBE']\n",
      "['ADBE']\n",
      "['ADBE']\n",
      "['ADBE']\n",
      "['ADBE']\n",
      "['ADBE']\n",
      "['ADBE']\n",
      "['ADBE']\n",
      "['ADBE']\n",
      "['ADBE']\n",
      "['ADBE']\n",
      "['ADBE']\n"
     ]
    },
    {
     "name": "stderr",
     "output_type": "stream",
     "text": [
      "\r",
      "Meta-RL Agent Loop:   1%|          | 189/17441 [07:50<10:26:59,  2.18s/it]"
     ]
    },
    {
     "name": "stdout",
     "output_type": "stream",
     "text": [
      "['ADBE']\n",
      "['ADBE']\n",
      "['ADBE']\n",
      "['ADBE']\n",
      "['ADBE']\n",
      "['ADBE']\n",
      "['ADBE']\n",
      "['ADBE']\n",
      "['ADBE']\n",
      "['ADBE']\n",
      "['ADBE']\n",
      "['ADBE']\n",
      "['ADBE']\n",
      "['ADBE']\n",
      "['ADBE']\n",
      "['ADBE']\n",
      "['ADBE']\n",
      "['ADBE']\n",
      "['ADBE']\n",
      "['ADBE']\n",
      "['ADBE']\n",
      "['ADBE']\n",
      "['ADBE']\n",
      "['ADBE']\n"
     ]
    },
    {
     "name": "stderr",
     "output_type": "stream",
     "text": [
      "\r",
      "Meta-RL Agent Loop:   1%|          | 190/17441 [07:52<10:57:26,  2.29s/it]"
     ]
    },
    {
     "name": "stdout",
     "output_type": "stream",
     "text": [
      "['ADBE']\n",
      "['ADBE']\n",
      "['ADBE']\n",
      "['ADBE']\n",
      "['ADBE']\n",
      "['ADBE']\n",
      "['ADBE']\n",
      "['ADBE']\n",
      "['ADBE']\n",
      "['ADBE']\n",
      "['ADBE']\n",
      "['ADBE']\n",
      "['ADBE']\n",
      "['ADBE']\n",
      "['ADBE']\n",
      "['ADBE']\n",
      "['ADBE']\n",
      "['ADBE']\n",
      "['ADBE']\n",
      "['ADBE']\n",
      "['ADBE']\n",
      "['ADBE']\n",
      "['ADBE']\n",
      "['ADBE']\n"
     ]
    },
    {
     "name": "stderr",
     "output_type": "stream",
     "text": [
      "\r",
      "Meta-RL Agent Loop:   1%|          | 191/17441 [07:55<11:16:25,  2.35s/it]"
     ]
    },
    {
     "name": "stdout",
     "output_type": "stream",
     "text": [
      "['ADBE']\n",
      "['ADBE']\n",
      "['ADBE']\n",
      "['ADBE']\n",
      "['ADBE']\n",
      "['ADBE']\n",
      "['ADBE']\n",
      "['ADBE']\n",
      "['ADBE']\n",
      "['ADBE']\n",
      "['ADBE']\n",
      "['ADBE']\n",
      "['ADBE']\n",
      "['ADBE']\n",
      "['ADBE']\n",
      "['ADBE']\n",
      "['ADBE']\n",
      "['ADBE']\n",
      "['ADBE']\n",
      "['ADBE']\n",
      "['ADBE']\n",
      "['ADBE']\n",
      "['ADBE']\n",
      "['ADBE']\n"
     ]
    },
    {
     "name": "stderr",
     "output_type": "stream",
     "text": [
      "\r",
      "Meta-RL Agent Loop:   1%|          | 192/17441 [07:57<10:52:59,  2.27s/it]"
     ]
    },
    {
     "name": "stdout",
     "output_type": "stream",
     "text": [
      "['ADBE']\n",
      "['ADBE']\n",
      "['ADBE']\n",
      "['ADBE']\n",
      "['ADBE']\n",
      "['ADBE']\n",
      "['ADBE']\n",
      "['ADBE']\n",
      "['ADBE']\n",
      "['ADBE']\n",
      "['ADBE']\n",
      "['ADBE']\n",
      "['ADBE']\n",
      "['ADBE']\n",
      "['ADBE']\n",
      "['ADBE']\n",
      "['ADBE']\n",
      "['ADBE']\n",
      "['ADBE']\n",
      "['ADBE']\n",
      "['ADBE']\n",
      "['ADBE']\n",
      "['ADBE']\n",
      "['ADBE']\n"
     ]
    },
    {
     "name": "stderr",
     "output_type": "stream",
     "text": [
      "\r",
      "Meta-RL Agent Loop:   1%|          | 193/17441 [07:59<10:20:10,  2.16s/it]"
     ]
    },
    {
     "name": "stdout",
     "output_type": "stream",
     "text": [
      "['ADBE']\n",
      "['ADBE']\n",
      "['ADBE']\n",
      "['ADBE']\n",
      "['ADBE']\n",
      "['ADBE']\n",
      "['ADBE']\n",
      "['ADBE']\n",
      "['ADBE']\n",
      "['ADBE']\n",
      "['ADBE']\n",
      "['ADBE']\n",
      "['ADBE']\n",
      "['ADBE']\n",
      "['ADBE']\n",
      "['ADBE']\n",
      "['ADBE']\n",
      "['ADBE']\n",
      "['ADBE']\n",
      "['ADBE']\n",
      "['ADBE']\n",
      "['ADBE']\n",
      "['ADBE']\n",
      "['ADBE']\n"
     ]
    },
    {
     "name": "stderr",
     "output_type": "stream",
     "text": [
      "\r",
      "Meta-RL Agent Loop:   1%|          | 194/17441 [08:01<9:57:59,  2.08s/it] "
     ]
    },
    {
     "name": "stdout",
     "output_type": "stream",
     "text": [
      "['ADBE']\n",
      "['ADBE']\n",
      "['ADBE']\n",
      "['ADBE']\n",
      "['ADBE']\n",
      "['ADBE']\n",
      "['ADBE']\n",
      "['ADBE']\n",
      "['ADBE']\n",
      "['ADBE']\n",
      "['ADBE']\n",
      "['ADBE']\n",
      "['ADBE']\n",
      "['ADBE']\n",
      "['ADBE']\n",
      "['ADBE']\n",
      "['ADBE']\n",
      "['ADBE']\n",
      "['ADBE']\n",
      "['ADBE']\n",
      "['ADBE']\n",
      "['ADBE']\n",
      "['ADBE']\n",
      "['ADBE']\n"
     ]
    },
    {
     "name": "stderr",
     "output_type": "stream",
     "text": [
      "\r",
      "Meta-RL Agent Loop:   1%|          | 195/17441 [08:03<9:44:46,  2.03s/it]"
     ]
    },
    {
     "name": "stdout",
     "output_type": "stream",
     "text": [
      "['ADBE']\n",
      "['ADBE']\n",
      "['ADBE']\n",
      "['ADBE']\n",
      "['ADBE']\n",
      "['ADBE']\n",
      "['ADBE']\n",
      "['ADBE']\n",
      "['ADBE']\n",
      "['ADBE']\n",
      "['ADBE']\n",
      "['ADBE']\n",
      "['ADBE']\n",
      "['ADBE']\n",
      "['ADBE']\n",
      "['ADBE']\n",
      "['ADBE']\n",
      "['ADBE']\n",
      "['ADBE']\n",
      "['ADBE']\n",
      "['ADBE']\n",
      "['ADBE']\n",
      "['ADBE']\n",
      "['ADBE']\n"
     ]
    },
    {
     "name": "stderr",
     "output_type": "stream",
     "text": [
      "\r",
      "Meta-RL Agent Loop:   1%|          | 196/17441 [08:05<9:51:33,  2.06s/it]"
     ]
    },
    {
     "name": "stdout",
     "output_type": "stream",
     "text": [
      "['ADBE']\n",
      "['ADBE']\n",
      "['ADBE']\n",
      "['ADBE']\n",
      "['ADBE']\n",
      "['ADBE']\n",
      "['ADBE']\n",
      "['ADBE']\n",
      "['ADBE']\n",
      "['ADBE']\n",
      "['ADBE']\n",
      "['ADBE']\n",
      "['ADBE']\n",
      "['ADBE']\n",
      "['ADBE']\n",
      "['ADBE']\n",
      "['ADBE']\n",
      "['ADBE']\n",
      "['ADBE']\n",
      "['ADBE']\n",
      "['ADBE']\n",
      "['ADBE']\n",
      "['ADBE']\n",
      "['ADBE']\n"
     ]
    },
    {
     "name": "stderr",
     "output_type": "stream",
     "text": [
      "\r",
      "Meta-RL Agent Loop:   1%|          | 197/17441 [08:08<10:42:42,  2.24s/it]"
     ]
    },
    {
     "name": "stdout",
     "output_type": "stream",
     "text": [
      "['ADBE']\n",
      "['ADBE']\n",
      "['ADBE']\n",
      "['ADBE']\n",
      "['ADBE']\n",
      "['ADBE']\n",
      "['ADBE']\n",
      "['ADBE']\n",
      "['ADBE']\n",
      "['ADBE']\n",
      "['ADBE']\n",
      "['ADBE']\n",
      "['ADBE']\n",
      "['ADBE']\n",
      "['ADBE']\n",
      "['ADBE']\n",
      "['ADBE']\n",
      "['ADBE']\n",
      "['ADBE']\n",
      "['ADBE']\n",
      "['ADBE']\n",
      "['ADBE']\n",
      "['ADBE']\n",
      "['ADBE']\n"
     ]
    },
    {
     "name": "stderr",
     "output_type": "stream",
     "text": [
      "\r",
      "Meta-RL Agent Loop:   1%|          | 198/17441 [08:10<11:11:08,  2.34s/it]"
     ]
    },
    {
     "name": "stdout",
     "output_type": "stream",
     "text": [
      "['ADBE']\n",
      "['ADBE']\n",
      "['ADBE']\n",
      "['ADBE']\n",
      "['ADBE']\n",
      "['ADBE']\n",
      "['ADBE']\n",
      "['ADBE']\n",
      "['ADBE']\n",
      "['ADBE']\n",
      "['ADBE']\n",
      "['ADBE']\n",
      "['ADBE']\n",
      "['ADBE']\n",
      "['ADBE']\n",
      "['ADBE']\n",
      "['ADBE']\n",
      "['ADBE']\n",
      "['ADBE']\n",
      "['ADBE']\n",
      "['ADBE']\n",
      "['ADBE']\n",
      "['ADBE']\n",
      "['ADBE']\n"
     ]
    },
    {
     "name": "stderr",
     "output_type": "stream",
     "text": [
      "\r",
      "Meta-RL Agent Loop:   1%|          | 199/17441 [08:12<10:48:50,  2.26s/it]"
     ]
    },
    {
     "name": "stdout",
     "output_type": "stream",
     "text": [
      "['ADBE']\n",
      "['ADBE']\n",
      "['ADBE']\n",
      "['ADBE']\n",
      "['ADBE']\n",
      "['ADBE']\n",
      "['ADBE']\n",
      "['ADBE']\n",
      "['ADBE']\n",
      "['ADBE']\n",
      "['ADBE']\n",
      "['ADBE']\n",
      "['ADBE']\n",
      "['ADBE']\n",
      "['ADBE']\n",
      "['ADBE']\n",
      "['ADBE']\n",
      "['ADBE']\n",
      "['ADBE']\n",
      "['ADBE']\n",
      "['ADBE']\n",
      "['ADBE']\n",
      "['ADBE']\n",
      "['ADBE']\n"
     ]
    },
    {
     "name": "stderr",
     "output_type": "stream",
     "text": [
      "\r",
      "Meta-RL Agent Loop:   1%|          | 200/17441 [08:14<10:34:26,  2.21s/it]"
     ]
    },
    {
     "name": "stdout",
     "output_type": "stream",
     "text": [
      "['ADBE']\n",
      "['ADBE']\n",
      "['ADBE']\n",
      "['ADBE']\n",
      "['ADBE']\n",
      "['ADBE']\n",
      "['ADBE']\n",
      "['ADBE']\n",
      "['ADBE']\n",
      "['ADBE']\n",
      "['ADBE']\n",
      "['ADBE']\n",
      "['ADBE']\n",
      "['ADBE']\n",
      "['ADBE']\n",
      "['ADBE']\n",
      "['ADBE']\n",
      "['ADBE']\n",
      "['ADBE']\n",
      "['ADBE']\n",
      "['ADBE']\n",
      "['ADBE']\n",
      "['ADBE']\n",
      "['ADBE']\n"
     ]
    },
    {
     "name": "stderr",
     "output_type": "stream",
     "text": [
      "\r",
      "Meta-RL Agent Loop:   1%|          | 201/17441 [08:16<10:17:05,  2.15s/it]"
     ]
    },
    {
     "name": "stdout",
     "output_type": "stream",
     "text": [
      "['ADBE']\n",
      "['ADBE']\n",
      "['ADBE']\n",
      "['ADBE']\n",
      "['ADBE']\n",
      "['ADBE']\n",
      "['ADBE']\n",
      "['ADBE']\n",
      "['ADBE']\n",
      "['ADBE']\n",
      "['ADBE']\n",
      "['ADBE']\n",
      "['ADBE']\n",
      "['ADBE']\n",
      "['ADBE']\n",
      "['ADBE']\n",
      "['ADBE']\n",
      "['ADBE']\n",
      "['ADBE']\n",
      "['ADBE']\n",
      "['ADBE']\n",
      "['ADBE']\n",
      "['ADBE']\n",
      "['ADBE']\n"
     ]
    },
    {
     "name": "stderr",
     "output_type": "stream",
     "text": [
      "\r",
      "Meta-RL Agent Loop:   1%|          | 202/17441 [08:18<10:05:03,  2.11s/it]"
     ]
    },
    {
     "name": "stdout",
     "output_type": "stream",
     "text": [
      "['ADBE']\n",
      "['ADBE']\n",
      "['ADBE']\n",
      "['ADBE']\n",
      "['ADBE']\n",
      "['ADBE']\n",
      "['ADBE']\n",
      "['ADBE']\n",
      "['ADBE']\n",
      "['ADBE']\n",
      "['ADBE']\n",
      "['ADBE']\n",
      "['ADBE']\n",
      "['ADBE']\n",
      "['ADBE']\n",
      "['ADBE']\n",
      "['ADBE']\n",
      "['ADBE']\n",
      "['ADBE']\n",
      "['ADBE']\n",
      "['ADBE']\n",
      "['ADBE']\n",
      "['ADBE']\n",
      "['ADBE']\n"
     ]
    },
    {
     "name": "stderr",
     "output_type": "stream",
     "text": [
      "\r",
      "Meta-RL Agent Loop:   1%|          | 203/17441 [08:20<9:43:24,  2.03s/it] "
     ]
    },
    {
     "name": "stdout",
     "output_type": "stream",
     "text": [
      "['ADBE']\n",
      "['ADBE']\n",
      "['ADBE']\n",
      "['ADBE']\n",
      "['ADBE']\n",
      "['ADBE']\n",
      "['ADBE']\n",
      "['ADBE']\n",
      "['ADBE']\n",
      "['ADBE']\n",
      "['ADBE']\n",
      "['ADBE']\n",
      "['ADBE']\n",
      "['ADBE']\n",
      "['ADBE']\n",
      "['ADBE']\n",
      "['ADBE']\n",
      "['ADBE']\n",
      "['ADBE']\n",
      "['ADBE']\n",
      "['ADBE']\n",
      "['ADBE']\n",
      "['ADBE']\n",
      "['ADBE']\n"
     ]
    },
    {
     "name": "stderr",
     "output_type": "stream",
     "text": [
      "\r",
      "Meta-RL Agent Loop:   1%|          | 204/17441 [08:23<10:26:07,  2.18s/it]"
     ]
    },
    {
     "name": "stdout",
     "output_type": "stream",
     "text": [
      "['ADBE']\n",
      "['ADBE']\n",
      "['ADBE']\n",
      "['ADBE']\n",
      "['ADBE']\n",
      "['ADBE']\n",
      "['ADBE']\n",
      "['ADBE']\n",
      "['ADBE']\n",
      "['ADBE']\n",
      "['ADBE']\n",
      "['ADBE']\n",
      "['ADBE']\n",
      "['ADBE']\n",
      "['ADBE']\n",
      "['ADBE']\n",
      "['ADBE']\n",
      "['ADBE']\n",
      "['ADBE']\n",
      "['ADBE']\n",
      "['ADBE']\n",
      "['ADBE']\n",
      "['ADBE']\n",
      "['ADBE']\n"
     ]
    },
    {
     "name": "stderr",
     "output_type": "stream",
     "text": [
      "\r",
      "Meta-RL Agent Loop:   1%|          | 205/17441 [08:25<11:13:41,  2.35s/it]"
     ]
    },
    {
     "name": "stdout",
     "output_type": "stream",
     "text": [
      "['ADBE']\n",
      "['ADBE']\n",
      "['ADBE']\n",
      "['ADBE']\n",
      "['ADBE']\n",
      "['ADBE']\n",
      "['ADBE']\n",
      "['ADBE']\n",
      "['ADBE']\n",
      "['ADBE']\n",
      "['ADBE']\n",
      "['ADBE']\n",
      "['ADBE']\n",
      "['ADBE']\n",
      "['ADBE']\n",
      "['ADBE']\n",
      "['ADBE']\n",
      "['ADBE']\n",
      "['ADBE']\n",
      "['ADBE']\n",
      "['ADBE']\n",
      "['ADBE']\n",
      "['ADBE']\n",
      "['ADBE']\n"
     ]
    },
    {
     "name": "stderr",
     "output_type": "stream",
     "text": [
      "\r",
      "Meta-RL Agent Loop:   1%|          | 206/17441 [08:27<10:48:10,  2.26s/it]"
     ]
    },
    {
     "name": "stdout",
     "output_type": "stream",
     "text": [
      "['ADBE']\n",
      "['ADBE']\n",
      "['ADBE']\n",
      "['ADBE']\n",
      "['ADBE']\n",
      "['ADBE']\n",
      "['ADBE']\n",
      "['ADBE']\n",
      "['ADBE']\n",
      "['ADBE']\n",
      "['ADBE']\n",
      "['ADBE']\n",
      "['ADBE']\n",
      "['ADBE']\n",
      "['ADBE']\n",
      "['ADBE']\n",
      "['ADBE']\n",
      "['ADBE']\n",
      "['ADBE']\n",
      "['ADBE']\n",
      "['ADBE']\n",
      "['ADBE']\n",
      "['ADBE']\n",
      "['ADBE']\n"
     ]
    },
    {
     "name": "stderr",
     "output_type": "stream",
     "text": [
      "\r",
      "Meta-RL Agent Loop:   1%|          | 207/17441 [08:29<10:19:51,  2.16s/it]"
     ]
    },
    {
     "name": "stdout",
     "output_type": "stream",
     "text": [
      "['ADBE']\n",
      "['ADBE']\n",
      "['ADBE']\n",
      "['ADBE']\n",
      "['ADBE']\n",
      "['ADBE']\n",
      "['ADBE']\n",
      "['ADBE']\n",
      "['ADBE']\n",
      "['ADBE']\n",
      "['ADBE']\n",
      "['ADBE']\n",
      "['ADBE']\n",
      "['ADBE']\n",
      "['ADBE']\n",
      "['ADBE']\n",
      "['ADBE']\n",
      "['ADBE']\n",
      "['ADBE']\n",
      "['ADBE']\n",
      "['ADBE']\n",
      "['ADBE']\n",
      "['ADBE']\n",
      "['ADBE']\n"
     ]
    },
    {
     "name": "stderr",
     "output_type": "stream",
     "text": [
      "\r",
      "Meta-RL Agent Loop:   1%|          | 208/17441 [08:31<10:07:28,  2.12s/it]"
     ]
    },
    {
     "name": "stdout",
     "output_type": "stream",
     "text": [
      "['ADBE']\n",
      "['ADBE']\n",
      "['ADBE']\n",
      "['ADBE']\n",
      "['ADBE']\n",
      "['ADBE']\n",
      "['ADBE']\n",
      "['ADBE']\n",
      "['ADBE']\n",
      "['ADBE']\n",
      "['ADBE']\n",
      "['ADBE']\n",
      "['ADBE']\n",
      "['ADBE']\n",
      "['ADBE']\n",
      "['ADBE']\n",
      "['ADBE']\n",
      "['ADBE']\n",
      "['ADBE']\n",
      "['ADBE']\n",
      "['ADBE']\n",
      "['ADBE']\n",
      "['ADBE']\n",
      "['ADBE']\n"
     ]
    },
    {
     "name": "stderr",
     "output_type": "stream",
     "text": [
      "\r",
      "Meta-RL Agent Loop:   1%|          | 209/17441 [08:33<9:57:58,  2.08s/it] "
     ]
    },
    {
     "name": "stdout",
     "output_type": "stream",
     "text": [
      "['ADBE']\n",
      "['ADBE']\n",
      "['ADBE']\n",
      "['ADBE']\n",
      "['ADBE']\n",
      "['ADBE']\n",
      "['ADBE']\n",
      "['ADBE']\n",
      "['ADBE']\n",
      "['ADBE']\n",
      "['ADBE']\n",
      "['ADBE']\n",
      "['ADBE']\n",
      "['ADBE']\n",
      "['ADBE']\n",
      "['ADBE']\n",
      "['ADBE']\n",
      "['ADBE']\n",
      "['ADBE']\n",
      "['ADBE']\n",
      "['ADBE']\n",
      "['ADBE']\n",
      "['ADBE']\n",
      "['ADBE']\n"
     ]
    },
    {
     "name": "stderr",
     "output_type": "stream",
     "text": [
      "\r",
      "Meta-RL Agent Loop:   1%|          | 210/17441 [08:35<9:50:22,  2.06s/it]"
     ]
    },
    {
     "name": "stdout",
     "output_type": "stream",
     "text": [
      "['ADBE']\n",
      "['ADBE']\n",
      "['AMD']\n",
      "['AMD']\n",
      "['AMD']\n",
      "['AMD']\n",
      "['AMD']\n",
      "['AMD']\n",
      "['AMD']\n",
      "['AMD']\n",
      "['AMD']\n",
      "['AMD']\n",
      "['AMD']\n",
      "['AMD']\n",
      "['AMD']\n",
      "['AMD']\n",
      "['AMD']\n",
      "['AMD']\n",
      "['AMD']\n",
      "['AMD']\n",
      "['AMD']\n",
      "['AMD']\n",
      "['AMD']\n",
      "['AMD']\n"
     ]
    },
    {
     "name": "stderr",
     "output_type": "stream",
     "text": [
      "\r",
      "Meta-RL Agent Loop:   1%|          | 211/17441 [08:38<10:23:51,  2.17s/it]"
     ]
    },
    {
     "name": "stdout",
     "output_type": "stream",
     "text": [
      "['AMD']\n",
      "['AMD']\n",
      "['AMD']\n",
      "['AMD']\n",
      "['AMD']\n",
      "['AMD']\n",
      "['AMD']\n",
      "['AMD']\n",
      "['AMD']\n",
      "['AMD']\n",
      "['AMD']\n",
      "['AMD']\n",
      "['AMD']\n",
      "['AMD']\n",
      "['AMD']\n",
      "['AMD']\n",
      "['AMD']\n",
      "['AMD']\n",
      "['AMD']\n",
      "['AMD']\n",
      "['AMD']\n",
      "['AMD']\n",
      "['AMD']\n",
      "['AMD']\n"
     ]
    },
    {
     "name": "stderr",
     "output_type": "stream",
     "text": [
      "\r",
      "Meta-RL Agent Loop:   1%|          | 212/17441 [08:41<11:10:36,  2.34s/it]"
     ]
    },
    {
     "name": "stdout",
     "output_type": "stream",
     "text": [
      "['AMD']\n",
      "['AMD']\n",
      "['AMD']\n",
      "['AMD']\n",
      "['AMD']\n",
      "['AMD']\n",
      "['AMD']\n",
      "['AMD']\n",
      "['AMD']\n",
      "['AMD']\n",
      "['AMD']\n",
      "['AMD']\n",
      "['AMD']\n",
      "['AMD']\n",
      "['AMD']\n",
      "['AMD']\n",
      "['AMD']\n",
      "['AMD']\n",
      "['AMD']\n",
      "['AMD']\n",
      "['AMD']\n",
      "['AMD']\n",
      "['AMD']\n",
      "['AMD']\n"
     ]
    },
    {
     "name": "stderr",
     "output_type": "stream",
     "text": [
      "\r",
      "Meta-RL Agent Loop:   1%|          | 213/17441 [08:43<11:32:45,  2.41s/it]"
     ]
    },
    {
     "name": "stdout",
     "output_type": "stream",
     "text": [
      "['AMD']\n",
      "['AMD']\n",
      "['AMD']\n",
      "['AMD']\n",
      "['AMD']\n",
      "['AMD']\n",
      "['AMD']\n",
      "['AMD']\n",
      "['AMD']\n",
      "['AMD']\n",
      "['AMD']\n",
      "['AMD']\n",
      "['AMD']\n",
      "['AMD']\n",
      "['AMD']\n",
      "['AMD']\n",
      "['AMD']\n",
      "['AMD']\n",
      "['AMD']\n",
      "['AMD']\n",
      "['AMD']\n",
      "['AMD']\n",
      "['AMD']\n",
      "['AMD']\n"
     ]
    },
    {
     "name": "stderr",
     "output_type": "stream",
     "text": [
      "\r",
      "Meta-RL Agent Loop:   1%|          | 214/17441 [08:45<11:01:36,  2.30s/it]"
     ]
    },
    {
     "name": "stdout",
     "output_type": "stream",
     "text": [
      "['AMD']\n",
      "['AMD']\n",
      "['AMD']\n",
      "['AMD']\n",
      "['AMD']\n",
      "['AMD']\n",
      "['AMD']\n",
      "['AMD']\n",
      "['AMD']\n",
      "['AMD']\n",
      "['AMD']\n",
      "['AMD']\n",
      "['AMD']\n",
      "['AMD']\n",
      "['AMD']\n",
      "['AMD']\n",
      "['AMD']\n",
      "['AMD']\n",
      "['AMD']\n",
      "['AMD']\n",
      "['AMD']\n",
      "['AMD']\n",
      "['AMD']\n",
      "['AMD']\n"
     ]
    },
    {
     "name": "stderr",
     "output_type": "stream",
     "text": [
      "\r",
      "Meta-RL Agent Loop:   1%|          | 215/17441 [08:47<10:54:13,  2.28s/it]"
     ]
    },
    {
     "name": "stdout",
     "output_type": "stream",
     "text": [
      "['AMD']\n",
      "['AMD']\n",
      "['AMD']\n",
      "['AMD']\n",
      "['AMD']\n",
      "['AMD']\n",
      "['AMD']\n",
      "['AMD']\n",
      "['AMD']\n",
      "['AMD']\n",
      "['AMD']\n",
      "['AMD']\n",
      "['AMD']\n",
      "['AMD']\n",
      "['AMD']\n",
      "['AMD']\n",
      "['AMD']\n",
      "['AMD']\n",
      "['AMD']\n",
      "['AMD']\n",
      "['AMD']\n",
      "['AMD']\n",
      "['AMD']\n",
      "['AMD']\n"
     ]
    },
    {
     "name": "stderr",
     "output_type": "stream",
     "text": [
      "\r",
      "Meta-RL Agent Loop:   1%|          | 216/17441 [08:49<10:18:09,  2.15s/it]"
     ]
    },
    {
     "name": "stdout",
     "output_type": "stream",
     "text": [
      "['AMD']\n",
      "['AMD']\n",
      "['AMD']\n",
      "['AMD']\n",
      "['AMD']\n",
      "['AMD']\n",
      "['AMD']\n",
      "['AMD']\n",
      "['AMD']\n",
      "['AMD']\n",
      "['AMD']\n",
      "['AMD']\n",
      "['AMD']\n",
      "['AMD']\n",
      "['AMD']\n",
      "['AMD']\n",
      "['AMD']\n",
      "['AMD']\n",
      "['AMD']\n",
      "['AMD']\n",
      "['AMD']\n",
      "['AMD']\n",
      "['AMD']\n",
      "['AMD']\n"
     ]
    },
    {
     "name": "stderr",
     "output_type": "stream",
     "text": [
      "\r",
      "Meta-RL Agent Loop:   1%|          | 217/17441 [08:51<10:02:12,  2.10s/it]"
     ]
    },
    {
     "name": "stdout",
     "output_type": "stream",
     "text": [
      "['AMD']\n",
      "['AMD']\n",
      "['AMD']\n",
      "['AMD']\n",
      "['AMD']\n",
      "['AMD']\n",
      "['AMD']\n",
      "['AMD']\n",
      "['AMD']\n",
      "['AMD']\n",
      "['AMD']\n",
      "['AMD']\n",
      "['AMD']\n",
      "['AMD']\n",
      "['AMD']\n",
      "['AMD']\n",
      "['AMD']\n",
      "['AMD']\n",
      "['AMD']\n",
      "['AMD']\n",
      "['AMD']\n",
      "['AMD']\n",
      "['AMD']\n",
      "['AMD']\n"
     ]
    },
    {
     "name": "stderr",
     "output_type": "stream",
     "text": [
      "\r",
      "Meta-RL Agent Loop:   1%|          | 218/17441 [08:53<9:40:50,  2.02s/it] "
     ]
    },
    {
     "name": "stdout",
     "output_type": "stream",
     "text": [
      "['AMD']\n",
      "['AMD']\n",
      "['AMD']\n",
      "['AMD']\n",
      "['AMD']\n",
      "['AMD']\n",
      "['AMD']\n",
      "['AMD']\n",
      "['AMD']\n",
      "['AMD']\n",
      "['AMD']\n",
      "['AMD']\n",
      "['AMD']\n",
      "['AMD']\n",
      "['AMD']\n",
      "['AMD']\n",
      "['AMD']\n",
      "['AMD']\n",
      "['AMD']\n",
      "['AMD']\n",
      "['AMD']\n",
      "['AMD']\n",
      "['AMD']\n",
      "['AMD']\n"
     ]
    },
    {
     "name": "stderr",
     "output_type": "stream",
     "text": [
      "\r",
      "Meta-RL Agent Loop:   1%|▏         | 219/17441 [08:56<10:33:52,  2.21s/it]"
     ]
    },
    {
     "name": "stdout",
     "output_type": "stream",
     "text": [
      "['AMD']\n",
      "['AMD']\n",
      "['AMD']\n",
      "['AMD']\n",
      "['AMD']\n",
      "['AMD']\n",
      "['AMD']\n",
      "['AMD']\n",
      "['AMD']\n",
      "['AMD']\n",
      "['AMD']\n",
      "['AMD']\n",
      "['AMD']\n",
      "['AMD']\n",
      "['AMD']\n",
      "['AMD']\n",
      "['AMD']\n",
      "['AMD']\n",
      "['AMD']\n",
      "['AMD']\n",
      "['AMD']\n",
      "['AMD']\n",
      "['AMD']\n",
      "['AMD']\n"
     ]
    },
    {
     "name": "stderr",
     "output_type": "stream",
     "text": [
      "\r",
      "Meta-RL Agent Loop:   1%|▏         | 220/17441 [08:58<11:05:07,  2.32s/it]"
     ]
    },
    {
     "name": "stdout",
     "output_type": "stream",
     "text": [
      "['AMD']\n",
      "['AMD']\n",
      "['AMD']\n",
      "['AMD']\n",
      "['AMD']\n",
      "['AMD']\n",
      "['AMD']\n",
      "['AMD']\n",
      "['AMD']\n",
      "['AMD']\n",
      "['AMD']\n",
      "['AMD']\n",
      "['AMD']\n",
      "['AMD']\n",
      "['AMD']\n",
      "['AMD']\n",
      "['AMD']\n",
      "['AMD']\n",
      "['AMD']\n",
      "['AMD']\n",
      "['AMD']\n",
      "['AMD']\n",
      "['AMD']\n",
      "['AMD']\n"
     ]
    },
    {
     "name": "stderr",
     "output_type": "stream",
     "text": [
      "\r",
      "Meta-RL Agent Loop:   1%|▏         | 221/17441 [09:00<10:35:16,  2.21s/it]"
     ]
    },
    {
     "name": "stdout",
     "output_type": "stream",
     "text": [
      "['AMD']\n",
      "['AMD']\n",
      "['AMD']\n",
      "['AMD']\n",
      "['AMD']\n",
      "['AMD']\n",
      "['AMD']\n",
      "['AMD']\n",
      "['AMD']\n",
      "['AMD']\n",
      "['AMD']\n",
      "['AMD']\n",
      "['AMD']\n",
      "['AMD']\n",
      "['AMD']\n",
      "['AMD']\n",
      "['AMD']\n",
      "['AMD']\n",
      "['AMD']\n",
      "['AMD']\n",
      "['AMD']\n",
      "['AMD']\n",
      "['AMD']\n",
      "['AMD']\n"
     ]
    },
    {
     "name": "stderr",
     "output_type": "stream",
     "text": [
      "\r",
      "Meta-RL Agent Loop:   1%|▏         | 222/17441 [09:02<10:24:33,  2.18s/it]"
     ]
    },
    {
     "name": "stdout",
     "output_type": "stream",
     "text": [
      "['AMD']\n",
      "['AMD']\n",
      "['AMD']\n",
      "['AMD']\n",
      "['AMD']\n",
      "['AMD']\n",
      "['AMD']\n",
      "['AMD']\n",
      "['AMD']\n",
      "['AMD']\n",
      "['AMD']\n",
      "['AMD']\n",
      "['AMD']\n",
      "['AMD']\n",
      "['AMD']\n",
      "['AMD']\n",
      "['AMD']\n",
      "['AMD']\n",
      "['AMD']\n",
      "['AMD']\n",
      "['AMD']\n",
      "['AMD']\n",
      "['AMD']\n",
      "['AMD']\n"
     ]
    },
    {
     "name": "stderr",
     "output_type": "stream",
     "text": [
      "\r",
      "Meta-RL Agent Loop:   1%|▏         | 223/17441 [09:04<10:22:57,  2.17s/it]"
     ]
    },
    {
     "name": "stdout",
     "output_type": "stream",
     "text": [
      "['AMD']\n",
      "['AMD']\n",
      "['AMD']\n",
      "['AMD']\n",
      "['AMD']\n",
      "['AMD']\n",
      "['AMD']\n",
      "['AMD']\n",
      "['AMD']\n",
      "['AMD']\n",
      "['AMD']\n",
      "['AMD']\n",
      "['AMD']\n",
      "['AMD']\n",
      "['AMD']\n",
      "['AMD']\n",
      "['AMD']\n",
      "['AMD']\n",
      "['AMD']\n",
      "['AMD']\n",
      "['AMD']\n",
      "['AMD']\n",
      "['AMD']\n",
      "['AMD']\n"
     ]
    },
    {
     "name": "stderr",
     "output_type": "stream",
     "text": [
      "\r",
      "Meta-RL Agent Loop:   1%|▏         | 224/17441 [09:07<10:15:15,  2.14s/it]"
     ]
    },
    {
     "name": "stdout",
     "output_type": "stream",
     "text": [
      "['AMD']\n",
      "['AMD']\n",
      "['AMD']\n",
      "['AMD']\n",
      "['AMD']\n",
      "['AMD']\n",
      "['AMD']\n",
      "['AMD']\n",
      "['AMD']\n",
      "['AMD']\n",
      "['AMD']\n",
      "['AMD']\n",
      "['AMD']\n",
      "['AMD']\n",
      "['AMD']\n",
      "['AMD']\n",
      "['AMD']\n",
      "['AMD']\n",
      "['AMD']\n",
      "['AMD']\n",
      "['AMD']\n",
      "['AMD']\n",
      "['AMD']\n",
      "['AMD']\n"
     ]
    },
    {
     "name": "stderr",
     "output_type": "stream",
     "text": [
      "\r",
      "Meta-RL Agent Loop:   1%|▏         | 225/17441 [09:09<10:20:22,  2.16s/it]"
     ]
    },
    {
     "name": "stdout",
     "output_type": "stream",
     "text": [
      "['AMD']\n",
      "['AMD']\n",
      "['AMD']\n",
      "['AMD']\n",
      "['AMD']\n",
      "['AMD']\n",
      "['AMD']\n",
      "['AMD']\n",
      "['AMD']\n",
      "['AMD']\n",
      "['AMD']\n",
      "['AMD']\n",
      "['AMD']\n",
      "['AMD']\n",
      "['AMD']\n",
      "['AMD']\n",
      "['AMD']\n",
      "['AMD']\n",
      "['AMD']\n",
      "['AMD']\n",
      "['AMD']\n",
      "['AMD']\n",
      "['AMD']\n",
      "['AMD']\n"
     ]
    },
    {
     "name": "stderr",
     "output_type": "stream",
     "text": [
      "\r",
      "Meta-RL Agent Loop:   1%|▏         | 226/17441 [09:11<10:50:14,  2.27s/it]"
     ]
    },
    {
     "name": "stdout",
     "output_type": "stream",
     "text": [
      "['AMD']\n",
      "['AMD']\n",
      "['AMD']\n",
      "['AMD']\n",
      "['AMD']\n",
      "['AMD']\n",
      "['AMD']\n",
      "['AMD']\n",
      "['AMD']\n",
      "['AMD']\n",
      "['AMD']\n",
      "['AMD']\n",
      "['AMD']\n",
      "['AMD']\n",
      "['AMD']\n",
      "['AMD']\n",
      "['AMD']\n",
      "['AMD']\n",
      "['AMD']\n",
      "['AMD']\n",
      "['AMD']\n",
      "['AMD']\n",
      "['AMD']\n",
      "['AMD']\n"
     ]
    },
    {
     "name": "stderr",
     "output_type": "stream",
     "text": [
      "\r",
      "Meta-RL Agent Loop:   1%|▏         | 227/17441 [09:14<11:15:26,  2.35s/it]"
     ]
    },
    {
     "name": "stdout",
     "output_type": "stream",
     "text": [
      "['AMD']\n",
      "['AMD']\n",
      "['AMD']\n",
      "['AMD']\n",
      "['AMD']\n",
      "['AMD']\n",
      "['AMD']\n",
      "['AMD']\n",
      "['AMD']\n",
      "['AMD']\n",
      "['AMD']\n",
      "['AMD']\n",
      "['AMD']\n",
      "['AMD']\n",
      "['AMD']\n",
      "['AMD']\n",
      "['AMD']\n",
      "['AMD']\n",
      "['AMD']\n",
      "['AMD']\n",
      "['AMD']\n",
      "['AMD']\n",
      "['AMD']\n",
      "['AMD']\n"
     ]
    },
    {
     "name": "stderr",
     "output_type": "stream",
     "text": [
      "\r",
      "Meta-RL Agent Loop:   1%|▏         | 228/17441 [09:16<11:14:11,  2.35s/it]"
     ]
    },
    {
     "name": "stdout",
     "output_type": "stream",
     "text": [
      "['AMD']\n",
      "['AMD']\n",
      "['AMD']\n",
      "['AMD']\n",
      "['AMD']\n",
      "['AMD']\n",
      "['AMD']\n",
      "['AMD']\n",
      "['AMD']\n",
      "['AMD']\n",
      "['AMD']\n",
      "['AMD']\n",
      "['AMD']\n",
      "['AMD']\n",
      "['AMD']\n",
      "['AMD']\n",
      "['AMD']\n",
      "['AMD']\n",
      "['AMD']\n",
      "['AMD']\n",
      "['AMD']\n",
      "['AMD']\n",
      "['AMD']\n",
      "['AMD']\n"
     ]
    },
    {
     "name": "stderr",
     "output_type": "stream",
     "text": [
      "\r",
      "Meta-RL Agent Loop:   1%|▏         | 229/17441 [09:18<10:49:54,  2.27s/it]"
     ]
    },
    {
     "name": "stdout",
     "output_type": "stream",
     "text": [
      "['AMD']\n",
      "['AMD']\n",
      "['AMD']\n",
      "['AMD']\n",
      "['AMD']\n",
      "['AMD']\n",
      "['AMD']\n",
      "['AMD']\n",
      "['AMD']\n",
      "['AMD']\n",
      "['AMD']\n",
      "['AMD']\n",
      "['AMD']\n",
      "['AMD']\n",
      "['AMD']\n",
      "['AMD']\n",
      "['AMD']\n",
      "['AMD']\n",
      "['AMD']\n",
      "['AMD']\n",
      "['AMD']\n",
      "['AMD']\n",
      "['AMD']\n",
      "['AMD']\n"
     ]
    },
    {
     "name": "stderr",
     "output_type": "stream",
     "text": [
      "\r",
      "Meta-RL Agent Loop:   1%|▏         | 230/17441 [09:20<10:29:49,  2.20s/it]"
     ]
    },
    {
     "name": "stdout",
     "output_type": "stream",
     "text": [
      "['AMD']\n",
      "['AMD']\n",
      "['AMD']\n",
      "['AMD']\n",
      "['AMD']\n",
      "['AMD']\n",
      "['AMD']\n",
      "['AMD']\n",
      "['AMD']\n",
      "['AMD']\n",
      "['AMD']\n",
      "['AMD']\n",
      "['AMD']\n",
      "['AMD']\n",
      "['AMD']\n",
      "['AMD']\n",
      "['AMD']\n",
      "['AMD']\n",
      "['AMD']\n",
      "['AMD']\n",
      "['AMD']\n",
      "['AMD']\n",
      "['AMD']\n",
      "['AMD']\n"
     ]
    },
    {
     "name": "stderr",
     "output_type": "stream",
     "text": [
      "\r",
      "Meta-RL Agent Loop:   1%|▏         | 231/17441 [09:22<10:08:12,  2.12s/it]"
     ]
    },
    {
     "name": "stdout",
     "output_type": "stream",
     "text": [
      "['AMD']\n",
      "['AMD']\n",
      "['AMD']\n",
      "['AMD']\n",
      "['AMD']\n",
      "['AMD']\n",
      "['AMD']\n",
      "['AMD']\n",
      "['AMD']\n",
      "['AMD']\n",
      "['AMD']\n",
      "['AMD']\n",
      "['AMD']\n",
      "['AMD']\n",
      "['AMD']\n",
      "['AMD']\n",
      "['AMD']\n",
      "['AMD']\n",
      "['AMD']\n",
      "['AMD']\n",
      "['AMD']\n",
      "['AMD']\n",
      "['AMD']\n",
      "['AMD']\n"
     ]
    },
    {
     "name": "stderr",
     "output_type": "stream",
     "text": [
      "\r",
      "Meta-RL Agent Loop:   1%|▏         | 232/17441 [09:24<10:03:30,  2.10s/it]"
     ]
    },
    {
     "name": "stdout",
     "output_type": "stream",
     "text": [
      "['AMD']\n",
      "['AMD']\n",
      "['AMD']\n",
      "['AMD']\n",
      "['AMD']\n",
      "['AMD']\n",
      "['AMD']\n",
      "['AMD']\n",
      "['AMD']\n",
      "['AMD']\n",
      "['AMD']\n",
      "['AMD']\n",
      "['AMD']\n",
      "['AMD']\n",
      "['AMD']\n",
      "['AMD']\n",
      "['AMD']\n",
      "['AMD']\n",
      "['AMD']\n",
      "['AMD']\n",
      "['AMD']\n",
      "['AMD']\n",
      "['AMD']\n",
      "['AMD']\n"
     ]
    },
    {
     "name": "stderr",
     "output_type": "stream",
     "text": [
      "\r",
      "Meta-RL Agent Loop:   1%|▏         | 233/17441 [09:27<10:32:58,  2.21s/it]"
     ]
    },
    {
     "name": "stdout",
     "output_type": "stream",
     "text": [
      "['AMD']\n",
      "['AMD']\n",
      "['AMD']\n",
      "['AMD']\n",
      "['AMD']\n",
      "['AMD']\n",
      "['AMD']\n",
      "['AMD']\n",
      "['AMD']\n",
      "['AMD']\n",
      "['AMD']\n",
      "['AMD']\n",
      "['AMD']\n",
      "['AMD']\n",
      "['AMD']\n",
      "['AMD']\n",
      "['AMD']\n",
      "['AMD']\n",
      "['AMD']\n",
      "['AMD']\n",
      "['AMD']\n",
      "['AMD']\n",
      "['AMD']\n",
      "['AMD']\n"
     ]
    },
    {
     "name": "stderr",
     "output_type": "stream",
     "text": [
      "\r",
      "Meta-RL Agent Loop:   1%|▏         | 234/17441 [09:29<10:52:45,  2.28s/it]"
     ]
    },
    {
     "name": "stdout",
     "output_type": "stream",
     "text": [
      "['AMD']\n",
      "['AMD']\n",
      "['AMD']\n",
      "['AMD']\n",
      "['AMD']\n",
      "['AMD']\n",
      "['AMD']\n",
      "['AMD']\n",
      "['AMD']\n",
      "['AMD']\n",
      "['AMD']\n",
      "['AMD']\n",
      "['AMD']\n",
      "['AMD']\n",
      "['AMD']\n",
      "['AMD']\n",
      "['AMD']\n",
      "['AMD']\n",
      "['AMD']\n",
      "['AMD']\n",
      "['AMD']\n",
      "['AMD']\n",
      "['AMD']\n",
      "['AMD']\n"
     ]
    },
    {
     "name": "stderr",
     "output_type": "stream",
     "text": [
      "\r",
      "Meta-RL Agent Loop:   1%|▏         | 235/17441 [09:31<10:27:44,  2.19s/it]"
     ]
    },
    {
     "name": "stdout",
     "output_type": "stream",
     "text": [
      "['AMD']\n",
      "['AMD']\n",
      "['AMD']\n",
      "['AMD']\n",
      "['AMD']\n",
      "['AMD']\n",
      "['AMD']\n",
      "['AMD']\n",
      "['AMD']\n",
      "['AMD']\n",
      "['AMD']\n",
      "['AMD']\n",
      "['AMD']\n",
      "['AMD']\n",
      "['AMD']\n",
      "['AMD']\n",
      "['AMD']\n",
      "['AMD']\n",
      "['AMD']\n",
      "['AMD']\n",
      "['AMD']\n",
      "['AMD']\n",
      "['AMD']\n",
      "['AMD']\n"
     ]
    },
    {
     "name": "stderr",
     "output_type": "stream",
     "text": [
      "\r",
      "Meta-RL Agent Loop:   1%|▏         | 236/17441 [09:33<10:15:03,  2.14s/it]"
     ]
    },
    {
     "name": "stdout",
     "output_type": "stream",
     "text": [
      "['AMD']\n",
      "['AMD']\n",
      "['AMD']\n",
      "['AMD']\n",
      "['AMD']\n",
      "['AMD']\n",
      "['AMD']\n",
      "['AMD']\n",
      "['AMD']\n",
      "['AMD']\n",
      "['AMD']\n",
      "['AMD']\n",
      "['AMD']\n",
      "['AMD']\n",
      "['AMD']\n",
      "['AMD']\n",
      "['AMD']\n",
      "['AMD']\n",
      "['AMD']\n",
      "['AMD']\n",
      "['AMD']\n",
      "['AMD']\n",
      "['AMD']\n",
      "['AMD']\n"
     ]
    },
    {
     "name": "stderr",
     "output_type": "stream",
     "text": [
      "\r",
      "Meta-RL Agent Loop:   1%|▏         | 237/17441 [09:36<10:39:27,  2.23s/it]"
     ]
    },
    {
     "name": "stdout",
     "output_type": "stream",
     "text": [
      "['AMD']\n",
      "['AMD']\n",
      "['AMD']\n",
      "['AMD']\n",
      "['AMD']\n",
      "['AMD']\n",
      "['AMD']\n",
      "['AMD']\n",
      "['AMD']\n",
      "['AMD']\n",
      "['AMD']\n",
      "['AMD']\n",
      "['AMD']\n",
      "['AMD']\n",
      "['AMD']\n",
      "['AMD']\n",
      "['AMD']\n",
      "['AMD']\n",
      "['AMD']\n",
      "['AMD']\n",
      "['AMD']\n",
      "['AMD']\n",
      "['AMD']\n",
      "['AMD']\n"
     ]
    },
    {
     "name": "stderr",
     "output_type": "stream",
     "text": [
      "\r",
      "Meta-RL Agent Loop:   1%|▏         | 238/17441 [09:38<11:10:19,  2.34s/it]"
     ]
    },
    {
     "name": "stdout",
     "output_type": "stream",
     "text": [
      "['AMD']\n",
      "['AMD']\n",
      "['AMD']\n",
      "['AMD']\n",
      "['AMD']\n",
      "['AMD']\n",
      "['AMD']\n",
      "['AMD']\n",
      "['AMD']\n",
      "['AMD']\n",
      "['AMD']\n",
      "['AMD']\n",
      "['AMD']\n",
      "['AMD']\n",
      "['AMD']\n",
      "['AMD']\n",
      "['AMD']\n",
      "['AMD']\n",
      "['AMD']\n",
      "['AMD']\n",
      "['AMD']\n",
      "['AMD']\n",
      "['AMD']\n",
      "['AMD']\n"
     ]
    },
    {
     "name": "stderr",
     "output_type": "stream",
     "text": [
      "\r",
      "Meta-RL Agent Loop:   1%|▏         | 239/17441 [09:41<11:55:25,  2.50s/it]"
     ]
    },
    {
     "name": "stdout",
     "output_type": "stream",
     "text": [
      "['AMD']\n",
      "['AMD']\n",
      "['AMD']\n",
      "['AMD']\n",
      "['AMD']\n",
      "['AMD']\n",
      "['AMD']\n",
      "['AMD']\n",
      "['AMD']\n",
      "['AMD']\n",
      "['AMD']\n",
      "['AMD']\n",
      "['AMD']\n",
      "['AMD']\n",
      "['AMD']\n",
      "['AMD']\n",
      "['AMD']\n",
      "['AMD']\n",
      "['AMD']\n",
      "['AMD']\n",
      "['AMD']\n",
      "['AMD']\n",
      "['AMD']\n",
      "['AMD']\n"
     ]
    },
    {
     "name": "stderr",
     "output_type": "stream",
     "text": [
      "\r",
      "Meta-RL Agent Loop:   1%|▏         | 240/17441 [09:44<12:51:04,  2.69s/it]"
     ]
    },
    {
     "name": "stdout",
     "output_type": "stream",
     "text": [
      "['AMD']\n",
      "['AMD']\n",
      "['AMD']\n",
      "['AMD']\n",
      "['AMD']\n",
      "['AMD']\n",
      "['AMD']\n",
      "['AMD']\n",
      "['AMD']\n",
      "['AMD']\n",
      "['AMD']\n",
      "['AMD']\n",
      "['AMD']\n",
      "['AMD']\n",
      "['AMD']\n",
      "['AMD']\n",
      "['AMD']\n",
      "['AMD']\n",
      "['AMD']\n",
      "['AMD']\n",
      "['AMD']\n",
      "['AMD']\n",
      "['AMD']\n",
      "['AMD']\n"
     ]
    },
    {
     "name": "stderr",
     "output_type": "stream",
     "text": [
      "\r",
      "Meta-RL Agent Loop:   1%|▏         | 241/17441 [09:47<13:10:41,  2.76s/it]"
     ]
    },
    {
     "name": "stdout",
     "output_type": "stream",
     "text": [
      "['AMD']\n",
      "['AMD']\n",
      "['AMD']\n",
      "['AMD']\n",
      "['AMD']\n",
      "['AMD']\n",
      "['AMD']\n",
      "['AMD']\n",
      "['AMD']\n",
      "['AMD']\n",
      "['AMD']\n",
      "['AMD']\n",
      "['AMD']\n",
      "['AMD']\n",
      "['AMD']\n",
      "['AMD']\n",
      "['AMD']\n",
      "['AMD']\n",
      "['AMD']\n",
      "['AMD']\n",
      "['AMD']\n",
      "['AMD']\n",
      "['AMD']\n",
      "['AMD']\n"
     ]
    },
    {
     "name": "stderr",
     "output_type": "stream",
     "text": [
      "\r",
      "Meta-RL Agent Loop:   1%|▏         | 242/17441 [09:50<12:53:23,  2.70s/it]"
     ]
    },
    {
     "name": "stdout",
     "output_type": "stream",
     "text": [
      "['AMD']\n",
      "['AMD']\n",
      "['AMD']\n",
      "['AMD']\n",
      "['AMD']\n",
      "['AMD']\n",
      "['AMD']\n",
      "['AMD']\n",
      "['AMD']\n",
      "['AMD']\n",
      "['AMD']\n",
      "['AMD']\n",
      "['AMD']\n",
      "['AMD']\n",
      "['AMD']\n",
      "['AMD']\n",
      "['AMD']\n",
      "['AMD']\n",
      "['AMD']\n",
      "['AMD']\n",
      "['AMD']\n",
      "['AMD']\n",
      "['AMD']\n",
      "['AMD']\n"
     ]
    },
    {
     "name": "stderr",
     "output_type": "stream",
     "text": [
      "\r",
      "Meta-RL Agent Loop:   1%|▏         | 243/17441 [09:52<12:35:10,  2.63s/it]"
     ]
    },
    {
     "name": "stdout",
     "output_type": "stream",
     "text": [
      "['AMD']\n",
      "['AMD']\n",
      "['AMD']\n",
      "['AMD']\n",
      "['AMD']\n",
      "['AMD']\n",
      "['AMD']\n",
      "['AMD']\n",
      "['AMD']\n",
      "['AMD']\n",
      "['AMD']\n",
      "['AMD']\n",
      "['AMD']\n",
      "['AMD']\n",
      "['AMD']\n",
      "['AMD']\n",
      "['AMD']\n",
      "['AMD']\n",
      "['AMD']\n",
      "['AMD']\n",
      "['AMD']\n",
      "['AMD']\n",
      "['AMD']\n",
      "['AMD']\n"
     ]
    },
    {
     "name": "stderr",
     "output_type": "stream",
     "text": [
      "\r",
      "Meta-RL Agent Loop:   1%|▏         | 244/17441 [09:55<12:07:54,  2.54s/it]"
     ]
    },
    {
     "name": "stdout",
     "output_type": "stream",
     "text": [
      "['AMD']\n",
      "['AMD']\n",
      "['AMD']\n",
      "['AMD']\n",
      "['AMD']\n",
      "['AMD']\n",
      "['AMD']\n",
      "['AMD']\n",
      "['AMD']\n",
      "['AMD']\n",
      "['AMD']\n",
      "['AMD']\n",
      "['AMD']\n",
      "['AMD']\n",
      "['AMD']\n",
      "['AMD']\n",
      "['AMD']\n",
      "['AMD']\n",
      "['AMD']\n",
      "['AMD']\n",
      "['AMD']\n",
      "['AMD']\n",
      "['AMD']\n",
      "['AMD']\n"
     ]
    },
    {
     "name": "stderr",
     "output_type": "stream",
     "text": [
      "\r",
      "Meta-RL Agent Loop:   1%|▏         | 245/17441 [09:57<12:32:25,  2.63s/it]"
     ]
    },
    {
     "name": "stdout",
     "output_type": "stream",
     "text": [
      "['AMD']\n",
      "['AMD']\n",
      "['AES']\n",
      "['AES']\n",
      "['AES']\n",
      "['AES']\n",
      "['AES']\n",
      "['AES']\n",
      "['AES']\n",
      "['AES']\n",
      "['AES']\n",
      "['AES']\n",
      "['AES']\n",
      "['AES']\n",
      "['AES']\n",
      "['AES']\n",
      "['AES']\n",
      "['AES']\n",
      "['AES']\n",
      "['AES']\n",
      "['AES']\n",
      "['AES']\n",
      "['AES']\n",
      "['AES']\n"
     ]
    },
    {
     "name": "stderr",
     "output_type": "stream",
     "text": [
      "\r",
      "Meta-RL Agent Loop:   1%|▏         | 246/17441 [10:01<13:26:06,  2.81s/it]"
     ]
    },
    {
     "name": "stdout",
     "output_type": "stream",
     "text": [
      "['AES']\n",
      "['AES']\n",
      "['AES']\n",
      "['AES']\n",
      "['AES']\n",
      "['AES']\n",
      "['AES']\n",
      "['AES']\n",
      "['AES']\n",
      "['AES']\n",
      "['AES']\n",
      "['AES']\n",
      "['AES']\n",
      "['AES']\n",
      "['AES']\n",
      "['AES']\n",
      "['AES']\n",
      "['AES']\n",
      "['AES']\n",
      "['AES']\n",
      "['AES']\n",
      "['AES']\n",
      "['AES']\n",
      "['AES']\n"
     ]
    },
    {
     "name": "stderr",
     "output_type": "stream",
     "text": [
      "\r",
      "Meta-RL Agent Loop:   1%|▏         | 247/17441 [10:04<13:53:27,  2.91s/it]"
     ]
    },
    {
     "name": "stdout",
     "output_type": "stream",
     "text": [
      "['AES']\n",
      "['AES']\n",
      "['AES']\n",
      "['AES']\n",
      "['AES']\n",
      "['AES']\n",
      "['AES']\n",
      "['AES']\n",
      "['AES']\n",
      "['AES']\n",
      "['AES']\n",
      "['AES']\n",
      "['AES']\n",
      "['AES']\n",
      "['AES']\n",
      "['AES']\n",
      "['AES']\n",
      "['AES']\n",
      "['AES']\n",
      "['AES']\n",
      "['AES']\n",
      "['AES']\n",
      "['AES']\n",
      "['AES']\n"
     ]
    },
    {
     "name": "stderr",
     "output_type": "stream",
     "text": [
      "\r",
      "Meta-RL Agent Loop:   1%|▏         | 248/17441 [10:06<13:15:26,  2.78s/it]"
     ]
    },
    {
     "name": "stdout",
     "output_type": "stream",
     "text": [
      "['AES']\n",
      "['AES']\n",
      "['AES']\n",
      "['AES']\n",
      "['AES']\n",
      "['AES']\n",
      "['AES']\n",
      "['AES']\n",
      "['AES']\n",
      "['AES']\n",
      "['AES']\n",
      "['AES']\n",
      "['AES']\n",
      "['AES']\n",
      "['AES']\n",
      "['AES']\n",
      "['AES']\n",
      "['AES']\n",
      "['AES']\n",
      "['AES']\n",
      "['AES']\n",
      "['AES']\n",
      "['AES']\n",
      "['AES']\n"
     ]
    },
    {
     "name": "stderr",
     "output_type": "stream",
     "text": [
      "\r",
      "Meta-RL Agent Loop:   1%|▏         | 249/17441 [10:09<12:52:31,  2.70s/it]"
     ]
    },
    {
     "name": "stdout",
     "output_type": "stream",
     "text": [
      "['AES']\n",
      "['AES']\n",
      "['AES']\n",
      "['AES']\n",
      "['AES']\n",
      "['AES']\n",
      "['AES']\n",
      "['AES']\n",
      "['AES']\n",
      "['AES']\n",
      "['AES']\n",
      "['AES']\n",
      "['AES']\n",
      "['AES']\n",
      "['AES']\n",
      "['AES']\n",
      "['AES']\n",
      "['AES']\n",
      "['AES']\n",
      "['AES']\n",
      "['AES']\n",
      "['AES']\n",
      "['AES']\n",
      "['AES']\n"
     ]
    },
    {
     "name": "stderr",
     "output_type": "stream",
     "text": [
      "\r",
      "Meta-RL Agent Loop:   1%|▏         | 250/17441 [10:11<12:31:58,  2.62s/it]"
     ]
    },
    {
     "name": "stdout",
     "output_type": "stream",
     "text": [
      "['AES']\n",
      "['AES']\n",
      "['AES']\n",
      "['AES']\n",
      "['AES']\n",
      "['AES']\n",
      "['AES']\n",
      "['AES']\n",
      "['AES']\n",
      "['AES']\n",
      "['AES']\n",
      "['AES']\n",
      "['AES']\n",
      "['AES']\n",
      "['AES']\n",
      "['AES']\n",
      "['AES']\n",
      "['AES']\n",
      "['AES']\n",
      "['AES']\n",
      "['AES']\n",
      "['AES']\n",
      "['AES']\n",
      "['AES']\n"
     ]
    },
    {
     "name": "stderr",
     "output_type": "stream",
     "text": [
      "\r",
      "Meta-RL Agent Loop:   1%|▏         | 251/17441 [10:14<12:48:04,  2.68s/it]"
     ]
    },
    {
     "name": "stdout",
     "output_type": "stream",
     "text": [
      "['AES']\n",
      "['AES']\n",
      "['AES']\n",
      "['AES']\n",
      "['AES']\n",
      "['AES']\n",
      "['AES']\n",
      "['AES']\n",
      "['AES']\n",
      "['AES']\n",
      "['AES']\n",
      "['AES']\n",
      "['AES']\n",
      "['AES']\n",
      "['AES']\n",
      "['AES']\n",
      "['AES']\n",
      "['AES']\n",
      "['AES']\n",
      "['AES']\n",
      "['AES']\n",
      "['AES']\n",
      "['AES']\n",
      "['AES']\n"
     ]
    },
    {
     "name": "stderr",
     "output_type": "stream",
     "text": [
      "\r",
      "Meta-RL Agent Loop:   1%|▏         | 252/17441 [10:17<13:24:05,  2.81s/it]"
     ]
    },
    {
     "name": "stdout",
     "output_type": "stream",
     "text": [
      "['AES']\n",
      "['AES']\n",
      "['AES']\n",
      "['AES']\n",
      "['AES']\n",
      "['AES']\n",
      "['AES']\n",
      "['AES']\n",
      "['AES']\n",
      "['AES']\n",
      "['AES']\n",
      "['AES']\n",
      "['AES']\n",
      "['AES']\n",
      "['AES']\n",
      "['AES']\n",
      "['AES']\n",
      "['AES']\n",
      "['AES']\n",
      "['AES']\n",
      "['AES']\n",
      "['AES']\n",
      "['AES']\n",
      "['AES']\n"
     ]
    },
    {
     "name": "stderr",
     "output_type": "stream",
     "text": [
      "\r",
      "Meta-RL Agent Loop:   1%|▏         | 253/17441 [10:20<13:18:30,  2.79s/it]"
     ]
    },
    {
     "name": "stdout",
     "output_type": "stream",
     "text": [
      "['AES']\n",
      "['AES']\n",
      "['AES']\n",
      "['AES']\n",
      "['AES']\n",
      "['AES']\n",
      "['AES']\n",
      "['AES']\n",
      "['AES']\n",
      "['AES']\n",
      "['AES']\n",
      "['AES']\n",
      "['AES']\n",
      "['AES']\n",
      "['AES']\n",
      "['AES']\n",
      "['AES']\n",
      "['AES']\n",
      "['AES']\n",
      "['AES']\n",
      "['AES']\n",
      "['AES']\n",
      "['AES']\n",
      "['AES']\n"
     ]
    },
    {
     "name": "stderr",
     "output_type": "stream",
     "text": [
      "\r",
      "Meta-RL Agent Loop:   1%|▏         | 254/17441 [10:22<12:42:26,  2.66s/it]"
     ]
    },
    {
     "name": "stdout",
     "output_type": "stream",
     "text": [
      "['AES']\n",
      "['AES']\n",
      "['AES']\n",
      "['AES']\n",
      "['AES']\n",
      "['AES']\n",
      "['AES']\n",
      "['AES']\n",
      "['AES']\n",
      "['AES']\n",
      "['AES']\n",
      "['AES']\n",
      "['AES']\n",
      "['AES']\n",
      "['AES']\n",
      "['AES']\n",
      "['AES']\n",
      "['AES']\n",
      "['AES']\n",
      "['AES']\n",
      "['AES']\n",
      "['AES']\n",
      "['AES']\n",
      "['AES']\n"
     ]
    },
    {
     "name": "stderr",
     "output_type": "stream",
     "text": [
      "\r",
      "Meta-RL Agent Loop:   1%|▏         | 255/17441 [10:24<11:35:57,  2.43s/it]"
     ]
    },
    {
     "name": "stdout",
     "output_type": "stream",
     "text": [
      "['AES']\n",
      "['AES']\n",
      "['AES']\n",
      "['AES']\n",
      "['AES']\n",
      "['AES']\n",
      "['AES']\n",
      "['AES']\n",
      "['AES']\n",
      "['AES']\n",
      "['AES']\n",
      "['AES']\n",
      "['AES']\n",
      "['AES']\n",
      "['AES']\n",
      "['AES']\n",
      "['AES']\n",
      "['AES']\n",
      "['AES']\n",
      "['AES']\n",
      "['AES']\n",
      "['AES']\n",
      "['AES']\n",
      "['AES']\n"
     ]
    },
    {
     "name": "stderr",
     "output_type": "stream",
     "text": [
      "\r",
      "Meta-RL Agent Loop:   1%|▏         | 256/17441 [10:26<10:29:23,  2.20s/it]"
     ]
    },
    {
     "name": "stdout",
     "output_type": "stream",
     "text": [
      "['AES']\n",
      "['AES']\n",
      "['AES']\n",
      "['AES']\n",
      "['AES']\n",
      "['AES']\n",
      "['AES']\n",
      "['AES']\n",
      "['AES']\n",
      "['AES']\n",
      "['AES']\n",
      "['AES']\n",
      "['AES']\n",
      "['AES']\n",
      "['AES']\n",
      "['AES']\n",
      "['AES']\n",
      "['AES']\n",
      "['AES']\n",
      "['AES']\n",
      "['AES']\n",
      "['AES']\n",
      "['AES']\n",
      "['AES']\n"
     ]
    },
    {
     "name": "stderr",
     "output_type": "stream",
     "text": [
      "\r",
      "Meta-RL Agent Loop:   1%|▏         | 257/17441 [10:28<10:12:58,  2.14s/it]"
     ]
    },
    {
     "name": "stdout",
     "output_type": "stream",
     "text": [
      "['AES']\n",
      "['AES']\n",
      "['AES']\n",
      "['AES']\n",
      "['AES']\n",
      "['AES']\n",
      "['AES']\n",
      "['AES']\n",
      "['AES']\n",
      "['AES']\n",
      "['AES']\n",
      "['AES']\n",
      "['AES']\n",
      "['AES']\n",
      "['AES']\n",
      "['AES']\n",
      "['AES']\n",
      "['AES']\n",
      "['AES']\n",
      "['AES']\n",
      "['AES']\n",
      "['AES']\n",
      "['AES']\n",
      "['AES']\n"
     ]
    },
    {
     "name": "stderr",
     "output_type": "stream",
     "text": [
      "\r",
      "Meta-RL Agent Loop:   1%|▏         | 258/17441 [10:30<10:59:38,  2.30s/it]"
     ]
    },
    {
     "name": "stdout",
     "output_type": "stream",
     "text": [
      "['AES']\n",
      "['AES']\n",
      "['AES']\n",
      "['AES']\n",
      "['AES']\n",
      "['AES']\n",
      "['AES']\n",
      "['AES']\n",
      "['AES']\n",
      "['AES']\n",
      "['AES']\n",
      "['AES']\n",
      "['AES']\n",
      "['AES']\n",
      "['AES']\n",
      "['AES']\n",
      "['AES']\n",
      "['AES']\n",
      "['AES']\n",
      "['AES']\n",
      "['AES']\n",
      "['AES']\n",
      "['AES']\n",
      "['AES']\n"
     ]
    },
    {
     "name": "stderr",
     "output_type": "stream",
     "text": [
      "\r",
      "Meta-RL Agent Loop:   1%|▏         | 259/17441 [10:33<11:24:09,  2.39s/it]"
     ]
    },
    {
     "name": "stdout",
     "output_type": "stream",
     "text": [
      "['AES']\n",
      "['AES']\n",
      "['AES']\n",
      "['AES']\n",
      "['AES']\n",
      "['AES']\n",
      "['AES']\n",
      "['AES']\n",
      "['AES']\n",
      "['AES']\n",
      "['AES']\n",
      "['AES']\n",
      "['AES']\n",
      "['AES']\n",
      "['AES']\n",
      "['AES']\n",
      "['AES']\n",
      "['AES']\n",
      "['AES']\n",
      "['AES']\n",
      "['AES']\n",
      "['AES']\n",
      "['AES']\n",
      "['AES']\n"
     ]
    },
    {
     "name": "stderr",
     "output_type": "stream",
     "text": [
      "\r",
      "Meta-RL Agent Loop:   1%|▏         | 260/17441 [10:35<11:09:45,  2.34s/it]"
     ]
    },
    {
     "name": "stdout",
     "output_type": "stream",
     "text": [
      "['AES']\n",
      "['AES']\n",
      "['AES']\n",
      "['AES']\n",
      "['AES']\n",
      "['AES']\n",
      "['AES']\n",
      "['AES']\n",
      "['AES']\n",
      "['AES']\n",
      "['AES']\n",
      "['AES']\n",
      "['AES']\n",
      "['AES']\n",
      "['AES']\n",
      "['AES']\n",
      "['AES']\n",
      "['AES']\n",
      "['AES']\n",
      "['AES']\n",
      "['AES']\n",
      "['AES']\n",
      "['AES']\n",
      "['AES']\n"
     ]
    },
    {
     "name": "stderr",
     "output_type": "stream",
     "text": [
      "\r",
      "Meta-RL Agent Loop:   1%|▏         | 261/17441 [10:37<10:36:09,  2.22s/it]"
     ]
    },
    {
     "name": "stdout",
     "output_type": "stream",
     "text": [
      "['AES']\n",
      "['AES']\n",
      "['AES']\n",
      "['AES']\n",
      "['AES']\n",
      "['AES']\n",
      "['AES']\n",
      "['AES']\n",
      "['AES']\n",
      "['AES']\n",
      "['AES']\n",
      "['AES']\n",
      "['AES']\n",
      "['AES']\n",
      "['AES']\n",
      "['AES']\n",
      "['AES']\n",
      "['AES']\n",
      "['AES']\n",
      "['AES']\n",
      "['AES']\n",
      "['AES']\n",
      "['AES']\n",
      "['AES']\n"
     ]
    },
    {
     "name": "stderr",
     "output_type": "stream",
     "text": [
      "\r",
      "Meta-RL Agent Loop:   2%|▏         | 262/17441 [10:39<10:27:31,  2.19s/it]"
     ]
    },
    {
     "name": "stdout",
     "output_type": "stream",
     "text": [
      "['AES']\n",
      "['AES']\n",
      "['AES']\n",
      "['AES']\n",
      "['AES']\n",
      "['AES']\n",
      "['AES']\n",
      "['AES']\n",
      "['AES']\n",
      "['AES']\n",
      "['AES']\n",
      "['AES']\n",
      "['AES']\n",
      "['AES']\n",
      "['AES']\n",
      "['AES']\n",
      "['AES']\n",
      "['AES']\n",
      "['AES']\n",
      "['AES']\n",
      "['AES']\n",
      "['AES']\n",
      "['AES']\n",
      "['AES']\n"
     ]
    },
    {
     "name": "stderr",
     "output_type": "stream",
     "text": [
      "\r",
      "Meta-RL Agent Loop:   2%|▏         | 263/17441 [10:41<10:00:58,  2.10s/it]"
     ]
    },
    {
     "name": "stdout",
     "output_type": "stream",
     "text": [
      "['AES']\n",
      "['AES']\n",
      "['AES']\n",
      "['AES']\n",
      "['AES']\n",
      "['AES']\n",
      "['AES']\n",
      "['AES']\n",
      "['AES']\n",
      "['AES']\n",
      "['AES']\n",
      "['AES']\n",
      "['AES']\n",
      "['AES']\n",
      "['AES']\n",
      "['AES']\n",
      "['AES']\n",
      "['AES']\n",
      "['AES']\n",
      "['AES']\n",
      "['AES']\n",
      "['AES']\n",
      "['AES']\n",
      "['AES']\n"
     ]
    },
    {
     "name": "stderr",
     "output_type": "stream",
     "text": [
      "\r",
      "Meta-RL Agent Loop:   2%|▏         | 264/17441 [10:43<9:46:14,  2.05s/it] "
     ]
    },
    {
     "name": "stdout",
     "output_type": "stream",
     "text": [
      "['AES']\n",
      "['AES']\n",
      "['AES']\n",
      "['AES']\n",
      "['AES']\n",
      "['AES']\n",
      "['AES']\n",
      "['AES']\n",
      "['AES']\n",
      "['AES']\n",
      "['AES']\n",
      "['AES']\n",
      "['AES']\n",
      "['AES']\n",
      "['AES']\n",
      "['AES']\n",
      "['AES']\n",
      "['AES']\n",
      "['AES']\n",
      "['AES']\n",
      "['AES']\n",
      "['AES']\n",
      "['AES']\n",
      "['AES']\n"
     ]
    },
    {
     "name": "stderr",
     "output_type": "stream",
     "text": [
      "\r",
      "Meta-RL Agent Loop:   2%|▏         | 265/17441 [10:45<9:58:38,  2.09s/it]"
     ]
    },
    {
     "name": "stdout",
     "output_type": "stream",
     "text": [
      "['AES']\n",
      "['AES']\n",
      "['AES']\n",
      "['AES']\n",
      "['AES']\n",
      "['AES']\n",
      "['AES']\n",
      "['AES']\n",
      "['AES']\n",
      "['AES']\n",
      "['AES']\n",
      "['AES']\n",
      "['AES']\n",
      "['AES']\n",
      "['AES']\n",
      "['AES']\n",
      "['AES']\n",
      "['AES']\n",
      "['AES']\n",
      "['AES']\n",
      "['AES']\n",
      "['AES']\n",
      "['AES']\n",
      "['AES']\n"
     ]
    },
    {
     "name": "stderr",
     "output_type": "stream",
     "text": [
      "\r",
      "Meta-RL Agent Loop:   2%|▏         | 266/17441 [10:48<10:41:56,  2.24s/it]"
     ]
    },
    {
     "name": "stdout",
     "output_type": "stream",
     "text": [
      "['AES']\n",
      "['AES']\n",
      "['AES']\n",
      "['AES']\n",
      "['AES']\n",
      "['AES']\n",
      "['AES']\n",
      "['AES']\n",
      "['AES']\n",
      "['AES']\n",
      "['AES']\n",
      "['AES']\n",
      "['AES']\n",
      "['AES']\n",
      "['AES']\n",
      "['AES']\n",
      "['AES']\n",
      "['AES']\n",
      "['AES']\n",
      "['AES']\n",
      "['AES']\n",
      "['AES']\n",
      "['AES']\n",
      "['AES']\n"
     ]
    },
    {
     "name": "stderr",
     "output_type": "stream",
     "text": [
      "\r",
      "Meta-RL Agent Loop:   2%|▏         | 267/17441 [10:50<10:48:39,  2.27s/it]"
     ]
    },
    {
     "name": "stdout",
     "output_type": "stream",
     "text": [
      "['AES']\n",
      "['AES']\n",
      "['AES']\n",
      "['AES']\n",
      "['AES']\n",
      "['AES']\n",
      "['AES']\n",
      "['AES']\n",
      "['AES']\n",
      "['AES']\n",
      "['AES']\n",
      "['AES']\n",
      "['AES']\n",
      "['AES']\n",
      "['AES']\n",
      "['AES']\n",
      "['AES']\n",
      "['AES']\n",
      "['AES']\n",
      "['AES']\n",
      "['AES']\n",
      "['AES']\n",
      "['AES']\n",
      "['AES']\n"
     ]
    },
    {
     "name": "stderr",
     "output_type": "stream",
     "text": [
      "\r",
      "Meta-RL Agent Loop:   2%|▏         | 268/17441 [10:52<10:24:13,  2.18s/it]"
     ]
    },
    {
     "name": "stdout",
     "output_type": "stream",
     "text": [
      "['AES']\n",
      "['AES']\n",
      "['AES']\n",
      "['AES']\n",
      "['AES']\n",
      "['AES']\n",
      "['AES']\n",
      "['AES']\n",
      "['AES']\n",
      "['AES']\n",
      "['AES']\n",
      "['AES']\n",
      "['AES']\n",
      "['AES']\n",
      "['AES']\n",
      "['AES']\n",
      "['AES']\n",
      "['AES']\n",
      "['AES']\n",
      "['AES']\n",
      "['AES']\n",
      "['AES']\n",
      "['AES']\n",
      "['AES']\n"
     ]
    },
    {
     "name": "stderr",
     "output_type": "stream",
     "text": [
      "\r",
      "Meta-RL Agent Loop:   2%|▏         | 269/17441 [10:54<9:57:29,  2.09s/it] "
     ]
    },
    {
     "name": "stdout",
     "output_type": "stream",
     "text": [
      "['AES']\n",
      "['AES']\n",
      "['AES']\n",
      "['AES']\n",
      "['AES']\n",
      "['AES']\n",
      "['AES']\n",
      "['AES']\n",
      "['AES']\n",
      "['AES']\n",
      "['AES']\n",
      "['AES']\n",
      "['AES']\n",
      "['AES']\n",
      "['AES']\n",
      "['AES']\n",
      "['AES']\n",
      "['AES']\n",
      "['AES']\n",
      "['AES']\n",
      "['AES']\n",
      "['AES']\n",
      "['AES']\n",
      "['AES']\n"
     ]
    },
    {
     "name": "stderr",
     "output_type": "stream",
     "text": [
      "\r",
      "Meta-RL Agent Loop:   2%|▏         | 270/17441 [10:56<9:50:09,  2.06s/it]"
     ]
    },
    {
     "name": "stdout",
     "output_type": "stream",
     "text": [
      "['AES']\n",
      "['AES']\n",
      "['AES']\n",
      "['AES']\n",
      "['AES']\n",
      "['AES']\n",
      "['AES']\n",
      "['AES']\n",
      "['AES']\n",
      "['AES']\n",
      "['AES']\n",
      "['AES']\n",
      "['AES']\n",
      "['AES']\n",
      "['AES']\n",
      "['AES']\n",
      "['AES']\n",
      "['AES']\n",
      "['AES']\n",
      "['AES']\n",
      "['AES']\n",
      "['AES']\n",
      "['AES']\n",
      "['AES']\n"
     ]
    },
    {
     "name": "stderr",
     "output_type": "stream",
     "text": [
      "\r",
      "Meta-RL Agent Loop:   2%|▏         | 271/17441 [10:58<9:44:15,  2.04s/it]"
     ]
    },
    {
     "name": "stdout",
     "output_type": "stream",
     "text": [
      "['AES']\n",
      "['AES']\n",
      "['AES']\n",
      "['AES']\n",
      "['AES']\n",
      "['AES']\n",
      "['AES']\n",
      "['AES']\n",
      "['AES']\n",
      "['AES']\n",
      "['AES']\n",
      "['AES']\n",
      "['AES']\n",
      "['AES']\n",
      "['AES']\n",
      "['AES']\n",
      "['AES']\n",
      "['AES']\n",
      "['AES']\n",
      "['AES']\n",
      "['AES']\n",
      "['AES']\n",
      "['AES']\n",
      "['AES']\n"
     ]
    },
    {
     "name": "stderr",
     "output_type": "stream",
     "text": [
      "\r",
      "Meta-RL Agent Loop:   2%|▏         | 272/17441 [11:00<9:59:51,  2.10s/it]"
     ]
    },
    {
     "name": "stdout",
     "output_type": "stream",
     "text": [
      "['AES']\n",
      "['AES']\n",
      "['AES']\n",
      "['AES']\n",
      "['AES']\n",
      "['AES']\n",
      "['AES']\n",
      "['AES']\n",
      "['AES']\n",
      "['AES']\n",
      "['AES']\n",
      "['AES']\n",
      "['AES']\n",
      "['AES']\n",
      "['AES']\n",
      "['AES']\n",
      "['AES']\n",
      "['AES']\n",
      "['AES']\n",
      "['AES']\n",
      "['AES']\n",
      "['AES']\n",
      "['AES']\n",
      "['AES']\n"
     ]
    },
    {
     "name": "stderr",
     "output_type": "stream",
     "text": [
      "\r",
      "Meta-RL Agent Loop:   2%|▏         | 273/17441 [11:03<10:39:44,  2.24s/it]"
     ]
    },
    {
     "name": "stdout",
     "output_type": "stream",
     "text": [
      "['AES']\n",
      "['AES']\n",
      "['AES']\n",
      "['AES']\n",
      "['AES']\n",
      "['AES']\n",
      "['AES']\n",
      "['AES']\n",
      "['AES']\n",
      "['AES']\n",
      "['AES']\n",
      "['AES']\n",
      "['AES']\n",
      "['AES']\n",
      "['AES']\n",
      "['AES']\n",
      "['AES']\n",
      "['AES']\n",
      "['AES']\n",
      "['AES']\n",
      "['AES']\n",
      "['AES']\n",
      "['AES']\n",
      "['AES']\n"
     ]
    },
    {
     "name": "stderr",
     "output_type": "stream",
     "text": [
      "\r",
      "Meta-RL Agent Loop:   2%|▏         | 274/17441 [11:05<11:14:07,  2.36s/it]"
     ]
    },
    {
     "name": "stdout",
     "output_type": "stream",
     "text": [
      "['AES']\n",
      "['AES']\n",
      "['AES']\n",
      "['AES']\n",
      "['AES']\n",
      "['AES']\n",
      "['AES']\n",
      "['AES']\n",
      "['AES']\n",
      "['AES']\n",
      "['AES']\n",
      "['AES']\n",
      "['AES']\n",
      "['AES']\n",
      "['AES']\n",
      "['AES']\n",
      "['AES']\n",
      "['AES']\n",
      "['AES']\n",
      "['AES']\n",
      "['AES']\n",
      "['AES']\n",
      "['AES']\n",
      "['AES']\n"
     ]
    },
    {
     "name": "stderr",
     "output_type": "stream",
     "text": [
      "\r",
      "Meta-RL Agent Loop:   2%|▏         | 275/17441 [11:08<11:04:30,  2.32s/it]"
     ]
    },
    {
     "name": "stdout",
     "output_type": "stream",
     "text": [
      "['AES']\n",
      "['AES']\n",
      "['AES']\n",
      "['AES']\n",
      "['AES']\n",
      "['AES']\n",
      "['AES']\n",
      "['AES']\n",
      "['AES']\n",
      "['AES']\n",
      "['AES']\n",
      "['AES']\n",
      "['AES']\n",
      "['AES']\n",
      "['AES']\n",
      "['AES']\n",
      "['AES']\n",
      "['AES']\n",
      "['AES']\n",
      "['AES']\n",
      "['AES']\n",
      "['AES']\n",
      "['AES']\n",
      "['AES']\n"
     ]
    },
    {
     "name": "stderr",
     "output_type": "stream",
     "text": [
      "\r",
      "Meta-RL Agent Loop:   2%|▏         | 276/17441 [11:10<10:43:36,  2.25s/it]"
     ]
    },
    {
     "name": "stdout",
     "output_type": "stream",
     "text": [
      "['AES']\n",
      "['AES']\n",
      "['AES']\n",
      "['AES']\n",
      "['AES']\n",
      "['AES']\n",
      "['AES']\n",
      "['AES']\n",
      "['AES']\n",
      "['AES']\n",
      "['AES']\n",
      "['AES']\n",
      "['AES']\n",
      "['AES']\n",
      "['AES']\n",
      "['AES']\n",
      "['AES']\n",
      "['AES']\n",
      "['AES']\n",
      "['AES']\n",
      "['AES']\n",
      "['AES']\n",
      "['AES']\n",
      "['AES']\n"
     ]
    },
    {
     "name": "stderr",
     "output_type": "stream",
     "text": [
      "\r",
      "Meta-RL Agent Loop:   2%|▏         | 277/17441 [11:12<10:38:46,  2.23s/it]"
     ]
    },
    {
     "name": "stdout",
     "output_type": "stream",
     "text": [
      "['AES']\n",
      "['AES']\n",
      "['AES']\n",
      "['AES']\n",
      "['AES']\n",
      "['AES']\n",
      "['AES']\n",
      "['AES']\n",
      "['AES']\n",
      "['AES']\n",
      "['AES']\n",
      "['AES']\n",
      "['AES']\n",
      "['AES']\n",
      "['AES']\n",
      "['AES']\n",
      "['AES']\n",
      "['AES']\n",
      "['AES']\n",
      "['AES']\n",
      "['AES']\n",
      "['AES']\n",
      "['AES']\n",
      "['AES']\n"
     ]
    },
    {
     "name": "stderr",
     "output_type": "stream",
     "text": [
      "\r",
      "Meta-RL Agent Loop:   2%|▏         | 278/17441 [11:14<10:35:25,  2.22s/it]"
     ]
    },
    {
     "name": "stdout",
     "output_type": "stream",
     "text": [
      "['AES']\n",
      "['AES']\n",
      "['AES']\n",
      "['AES']\n",
      "['AES']\n",
      "['AES']\n",
      "['AES']\n",
      "['AES']\n",
      "['AES']\n",
      "['AES']\n",
      "['AES']\n",
      "['AES']\n",
      "['AES']\n",
      "['AES']\n",
      "['AES']\n",
      "['AES']\n",
      "['AES']\n",
      "['AES']\n",
      "['AES']\n",
      "['AES']\n",
      "['AES']\n",
      "['AES']\n",
      "['AES']\n",
      "['AES']\n"
     ]
    },
    {
     "name": "stderr",
     "output_type": "stream",
     "text": [
      "\r",
      "Meta-RL Agent Loop:   2%|▏         | 279/17441 [11:17<10:46:33,  2.26s/it]"
     ]
    },
    {
     "name": "stdout",
     "output_type": "stream",
     "text": [
      "['AES']\n",
      "['AES']\n",
      "['AES']\n",
      "['AES']\n",
      "['AES']\n",
      "['AES']\n",
      "['AES']\n",
      "['AES']\n",
      "['AES']\n",
      "['AES']\n",
      "['AES']\n",
      "['AES']\n",
      "['AES']\n",
      "['AES']\n",
      "['AES']\n",
      "['AES']\n",
      "['AES']\n",
      "['AES']\n",
      "['AES']\n",
      "['AES']\n",
      "['AES']\n",
      "['AES']\n",
      "['AES']\n",
      "['AES']\n"
     ]
    },
    {
     "name": "stderr",
     "output_type": "stream",
     "text": [
      "\r",
      "Meta-RL Agent Loop:   2%|▏         | 280/17441 [11:19<11:41:37,  2.45s/it]"
     ]
    },
    {
     "name": "stdout",
     "output_type": "stream",
     "text": [
      "['AES']\n",
      "['AES']\n",
      "['AFL']\n",
      "['AFL']\n",
      "['AFL']\n",
      "['AFL']\n",
      "['AFL']\n",
      "['AFL']\n",
      "['AFL']\n",
      "['AFL']\n",
      "['AFL']\n",
      "['AFL']\n",
      "['AFL']\n",
      "['AFL']\n",
      "['AFL']\n",
      "['AFL']\n",
      "['AFL']\n",
      "['AFL']\n",
      "['AFL']\n",
      "['AFL']\n",
      "['AFL']\n",
      "['AFL']\n",
      "['AFL']\n",
      "['AFL']\n"
     ]
    },
    {
     "name": "stderr",
     "output_type": "stream",
     "text": [
      "\r",
      "Meta-RL Agent Loop:   2%|▏         | 281/17441 [11:22<12:29:14,  2.62s/it]"
     ]
    },
    {
     "name": "stdout",
     "output_type": "stream",
     "text": [
      "['AFL']\n",
      "['AFL']\n",
      "['AFL']\n",
      "['AFL']\n",
      "['AFL']\n",
      "['AFL']\n",
      "['AFL']\n",
      "['AFL']\n",
      "['AFL']\n",
      "['AFL']\n",
      "['AFL']\n",
      "['AFL']\n",
      "['AFL']\n",
      "['AFL']\n",
      "['AFL']\n",
      "['AFL']\n",
      "['AFL']\n",
      "['AFL']\n",
      "['AFL']\n",
      "['AFL']\n",
      "['AFL']\n",
      "['AFL']\n",
      "['AFL']\n",
      "['AFL']\n"
     ]
    },
    {
     "name": "stderr",
     "output_type": "stream",
     "text": [
      "\r",
      "Meta-RL Agent Loop:   2%|▏         | 282/17441 [11:25<12:09:04,  2.55s/it]"
     ]
    },
    {
     "name": "stdout",
     "output_type": "stream",
     "text": [
      "['AFL']\n",
      "['AFL']\n",
      "['AFL']\n",
      "['AFL']\n",
      "['AFL']\n",
      "['AFL']\n",
      "['AFL']\n",
      "['AFL']\n",
      "['AFL']\n",
      "['AFL']\n",
      "['AFL']\n",
      "['AFL']\n",
      "['AFL']\n",
      "['AFL']\n",
      "['AFL']\n",
      "['AFL']\n",
      "['AFL']\n",
      "['AFL']\n",
      "['AFL']\n",
      "['AFL']\n",
      "['AFL']\n",
      "['AFL']\n",
      "['AFL']\n",
      "['AFL']\n"
     ]
    },
    {
     "name": "stderr",
     "output_type": "stream",
     "text": [
      "\r",
      "Meta-RL Agent Loop:   2%|▏         | 283/17441 [11:27<11:53:56,  2.50s/it]"
     ]
    },
    {
     "name": "stdout",
     "output_type": "stream",
     "text": [
      "['AFL']\n",
      "['AFL']\n",
      "['AFL']\n",
      "['AFL']\n",
      "['AFL']\n",
      "['AFL']\n",
      "['AFL']\n",
      "['AFL']\n",
      "['AFL']\n",
      "['AFL']\n",
      "['AFL']\n",
      "['AFL']\n",
      "['AFL']\n",
      "['AFL']\n",
      "['AFL']\n",
      "['AFL']\n",
      "['AFL']\n",
      "['AFL']\n",
      "['AFL']\n",
      "['AFL']\n",
      "['AFL']\n",
      "['AFL']\n",
      "['AFL']\n",
      "['AFL']\n"
     ]
    },
    {
     "name": "stderr",
     "output_type": "stream",
     "text": [
      "\r",
      "Meta-RL Agent Loop:   2%|▏         | 284/17441 [11:29<11:22:56,  2.39s/it]"
     ]
    },
    {
     "name": "stdout",
     "output_type": "stream",
     "text": [
      "['AFL']\n",
      "['AFL']\n",
      "['AFL']\n",
      "['AFL']\n",
      "['AFL']\n",
      "['AFL']\n",
      "['AFL']\n",
      "['AFL']\n",
      "['AFL']\n",
      "['AFL']\n",
      "['AFL']\n",
      "['AFL']\n",
      "['AFL']\n",
      "['AFL']\n",
      "['AFL']\n",
      "['AFL']\n",
      "['AFL']\n",
      "['AFL']\n",
      "['AFL']\n",
      "['AFL']\n",
      "['AFL']\n",
      "['AFL']\n",
      "['AFL']\n",
      "['AFL']\n"
     ]
    },
    {
     "name": "stderr",
     "output_type": "stream",
     "text": [
      "\r",
      "Meta-RL Agent Loop:   2%|▏         | 285/17441 [11:31<10:54:53,  2.29s/it]"
     ]
    },
    {
     "name": "stdout",
     "output_type": "stream",
     "text": [
      "['AFL']\n",
      "['AFL']\n",
      "['AFL']\n",
      "['AFL']\n",
      "['AFL']\n",
      "['AFL']\n",
      "['AFL']\n",
      "['AFL']\n",
      "['AFL']\n",
      "['AFL']\n",
      "['AFL']\n",
      "['AFL']\n",
      "['AFL']\n",
      "['AFL']\n",
      "['AFL']\n",
      "['AFL']\n",
      "['AFL']\n",
      "['AFL']\n",
      "['AFL']\n",
      "['AFL']\n",
      "['AFL']\n",
      "['AFL']\n",
      "['AFL']\n",
      "['AFL']\n"
     ]
    },
    {
     "name": "stderr",
     "output_type": "stream",
     "text": [
      "\r",
      "Meta-RL Agent Loop:   2%|▏         | 286/17441 [11:34<11:10:28,  2.34s/it]"
     ]
    },
    {
     "name": "stdout",
     "output_type": "stream",
     "text": [
      "['AFL']\n",
      "['AFL']\n",
      "['AFL']\n",
      "['AFL']\n",
      "['AFL']\n",
      "['AFL']\n",
      "['AFL']\n",
      "['AFL']\n",
      "['AFL']\n",
      "['AFL']\n",
      "['AFL']\n",
      "['AFL']\n",
      "['AFL']\n",
      "['AFL']\n",
      "['AFL']\n",
      "['AFL']\n",
      "['AFL']\n",
      "['AFL']\n",
      "['AFL']\n",
      "['AFL']\n",
      "['AFL']\n",
      "['AFL']\n",
      "['AFL']\n",
      "['AFL']\n"
     ]
    },
    {
     "name": "stderr",
     "output_type": "stream",
     "text": [
      "\r",
      "Meta-RL Agent Loop:   2%|▏         | 287/17441 [11:37<11:37:23,  2.44s/it]"
     ]
    },
    {
     "name": "stdout",
     "output_type": "stream",
     "text": [
      "['AFL']\n",
      "['AFL']\n",
      "['AFL']\n",
      "['AFL']\n",
      "['AFL']\n",
      "['AFL']\n",
      "['AFL']\n",
      "['AFL']\n",
      "['AFL']\n",
      "['AFL']\n",
      "['AFL']\n",
      "['AFL']\n",
      "['AFL']\n",
      "['AFL']\n",
      "['AFL']\n",
      "['AFL']\n",
      "['AFL']\n",
      "['AFL']\n",
      "['AFL']\n",
      "['AFL']\n",
      "['AFL']\n",
      "['AFL']\n",
      "['AFL']\n",
      "['AFL']\n"
     ]
    },
    {
     "name": "stderr",
     "output_type": "stream",
     "text": [
      "\r",
      "Meta-RL Agent Loop:   2%|▏         | 288/17441 [11:39<11:41:40,  2.45s/it]"
     ]
    },
    {
     "name": "stdout",
     "output_type": "stream",
     "text": [
      "['AFL']\n",
      "['AFL']\n",
      "['AFL']\n",
      "['AFL']\n",
      "['AFL']\n",
      "['AFL']\n",
      "['AFL']\n",
      "['AFL']\n",
      "['AFL']\n",
      "['AFL']\n",
      "['AFL']\n",
      "['AFL']\n",
      "['AFL']\n",
      "['AFL']\n",
      "['AFL']\n",
      "['AFL']\n",
      "['AFL']\n",
      "['AFL']\n",
      "['AFL']\n",
      "['AFL']\n",
      "['AFL']\n",
      "['AFL']\n",
      "['AFL']\n",
      "['AFL']\n"
     ]
    },
    {
     "name": "stderr",
     "output_type": "stream",
     "text": [
      "\r",
      "Meta-RL Agent Loop:   2%|▏         | 289/17441 [11:41<11:27:08,  2.40s/it]"
     ]
    },
    {
     "name": "stdout",
     "output_type": "stream",
     "text": [
      "['AFL']\n",
      "['AFL']\n",
      "['AFL']\n",
      "['AFL']\n",
      "['AFL']\n",
      "['AFL']\n",
      "['AFL']\n",
      "['AFL']\n",
      "['AFL']\n",
      "['AFL']\n",
      "['AFL']\n",
      "['AFL']\n",
      "['AFL']\n",
      "['AFL']\n",
      "['AFL']\n",
      "['AFL']\n",
      "['AFL']\n",
      "['AFL']\n",
      "['AFL']\n",
      "['AFL']\n",
      "['AFL']\n",
      "['AFL']\n",
      "['AFL']\n",
      "['AFL']\n"
     ]
    },
    {
     "name": "stderr",
     "output_type": "stream",
     "text": [
      "\r",
      "Meta-RL Agent Loop:   2%|▏         | 290/17441 [11:44<11:24:15,  2.39s/it]"
     ]
    },
    {
     "name": "stdout",
     "output_type": "stream",
     "text": [
      "['AFL']\n",
      "['AFL']\n",
      "['AFL']\n",
      "['AFL']\n",
      "['AFL']\n",
      "['AFL']\n",
      "['AFL']\n",
      "['AFL']\n",
      "['AFL']\n",
      "['AFL']\n",
      "['AFL']\n",
      "['AFL']\n",
      "['AFL']\n",
      "['AFL']\n",
      "['AFL']\n",
      "['AFL']\n",
      "['AFL']\n",
      "['AFL']\n",
      "['AFL']\n",
      "['AFL']\n",
      "['AFL']\n",
      "['AFL']\n",
      "['AFL']\n",
      "['AFL']\n"
     ]
    },
    {
     "name": "stderr",
     "output_type": "stream",
     "text": [
      "\r",
      "Meta-RL Agent Loop:   2%|▏         | 291/17441 [11:46<11:29:29,  2.41s/it]"
     ]
    },
    {
     "name": "stdout",
     "output_type": "stream",
     "text": [
      "['AFL']\n",
      "['AFL']\n",
      "['AFL']\n",
      "['AFL']\n",
      "['AFL']\n",
      "['AFL']\n",
      "['AFL']\n",
      "['AFL']\n",
      "['AFL']\n",
      "['AFL']\n",
      "['AFL']\n",
      "['AFL']\n",
      "['AFL']\n",
      "['AFL']\n",
      "['AFL']\n",
      "['AFL']\n",
      "['AFL']\n",
      "['AFL']\n",
      "['AFL']\n",
      "['AFL']\n",
      "['AFL']\n",
      "['AFL']\n",
      "['AFL']\n",
      "['AFL']\n"
     ]
    },
    {
     "name": "stderr",
     "output_type": "stream",
     "text": [
      "\r",
      "Meta-RL Agent Loop:   2%|▏         | 292/17441 [11:48<11:18:15,  2.37s/it]"
     ]
    },
    {
     "name": "stdout",
     "output_type": "stream",
     "text": [
      "['AFL']\n",
      "['AFL']\n",
      "['AFL']\n",
      "['AFL']\n",
      "['AFL']\n",
      "['AFL']\n",
      "['AFL']\n",
      "['AFL']\n",
      "['AFL']\n",
      "['AFL']\n",
      "['AFL']\n",
      "['AFL']\n",
      "['AFL']\n",
      "['AFL']\n",
      "['AFL']\n",
      "['AFL']\n",
      "['AFL']\n",
      "['AFL']\n",
      "['AFL']\n",
      "['AFL']\n",
      "['AFL']\n",
      "['AFL']\n",
      "['AFL']\n",
      "['AFL']\n"
     ]
    },
    {
     "name": "stderr",
     "output_type": "stream",
     "text": [
      "\r",
      "Meta-RL Agent Loop:   2%|▏         | 293/17441 [11:51<11:06:30,  2.33s/it]"
     ]
    },
    {
     "name": "stdout",
     "output_type": "stream",
     "text": [
      "['AFL']\n",
      "['AFL']\n",
      "['AFL']\n",
      "['AFL']\n",
      "['AFL']\n",
      "['AFL']\n",
      "['AFL']\n",
      "['AFL']\n",
      "['AFL']\n",
      "['AFL']\n",
      "['AFL']\n",
      "['AFL']\n",
      "['AFL']\n",
      "['AFL']\n",
      "['AFL']\n",
      "['AFL']\n",
      "['AFL']\n",
      "['AFL']\n",
      "['AFL']\n",
      "['AFL']\n",
      "['AFL']\n",
      "['AFL']\n",
      "['AFL']\n",
      "['AFL']\n"
     ]
    },
    {
     "name": "stderr",
     "output_type": "stream",
     "text": [
      "\r",
      "Meta-RL Agent Loop:   2%|▏         | 294/17441 [11:53<11:29:17,  2.41s/it]"
     ]
    },
    {
     "name": "stdout",
     "output_type": "stream",
     "text": [
      "['AFL']\n",
      "['AFL']\n",
      "['AFL']\n",
      "['AFL']\n",
      "['AFL']\n",
      "['AFL']\n",
      "['AFL']\n",
      "['AFL']\n",
      "['AFL']\n",
      "['AFL']\n",
      "['AFL']\n",
      "['AFL']\n",
      "['AFL']\n",
      "['AFL']\n",
      "['AFL']\n",
      "['AFL']\n",
      "['AFL']\n",
      "['AFL']\n",
      "['AFL']\n",
      "['AFL']\n",
      "['AFL']\n",
      "['AFL']\n",
      "['AFL']\n",
      "['AFL']\n"
     ]
    },
    {
     "name": "stderr",
     "output_type": "stream",
     "text": [
      "\r",
      "Meta-RL Agent Loop:   2%|▏         | 295/17441 [11:55<11:00:16,  2.31s/it]"
     ]
    },
    {
     "name": "stdout",
     "output_type": "stream",
     "text": [
      "['AFL']\n",
      "['AFL']\n",
      "['AFL']\n",
      "['AFL']\n",
      "['AFL']\n",
      "['AFL']\n",
      "['AFL']\n",
      "['AFL']\n",
      "['AFL']\n",
      "['AFL']\n",
      "['AFL']\n",
      "['AFL']\n",
      "['AFL']\n",
      "['AFL']\n",
      "['AFL']\n",
      "['AFL']\n",
      "['AFL']\n",
      "['AFL']\n",
      "['AFL']\n",
      "['AFL']\n",
      "['AFL']\n",
      "['AFL']\n",
      "['AFL']\n",
      "['AFL']\n"
     ]
    },
    {
     "name": "stderr",
     "output_type": "stream",
     "text": [
      "\r",
      "Meta-RL Agent Loop:   2%|▏         | 296/17441 [11:57<10:29:05,  2.20s/it]"
     ]
    },
    {
     "name": "stdout",
     "output_type": "stream",
     "text": [
      "['AFL']\n",
      "['AFL']\n",
      "['AFL']\n",
      "['AFL']\n",
      "['AFL']\n",
      "['AFL']\n",
      "['AFL']\n",
      "['AFL']\n",
      "['AFL']\n",
      "['AFL']\n",
      "['AFL']\n",
      "['AFL']\n",
      "['AFL']\n",
      "['AFL']\n",
      "['AFL']\n",
      "['AFL']\n",
      "['AFL']\n",
      "['AFL']\n",
      "['AFL']\n",
      "['AFL']\n",
      "['AFL']\n",
      "['AFL']\n",
      "['AFL']\n",
      "['AFL']\n"
     ]
    },
    {
     "name": "stderr",
     "output_type": "stream",
     "text": [
      "\r",
      "Meta-RL Agent Loop:   2%|▏         | 297/17441 [11:59<10:12:28,  2.14s/it]"
     ]
    },
    {
     "name": "stdout",
     "output_type": "stream",
     "text": [
      "['AFL']\n",
      "['AFL']\n",
      "['AFL']\n",
      "['AFL']\n",
      "['AFL']\n",
      "['AFL']\n",
      "['AFL']\n",
      "['AFL']\n",
      "['AFL']\n",
      "['AFL']\n",
      "['AFL']\n",
      "['AFL']\n",
      "['AFL']\n",
      "['AFL']\n",
      "['AFL']\n",
      "['AFL']\n",
      "['AFL']\n",
      "['AFL']\n",
      "['AFL']\n",
      "['AFL']\n",
      "['AFL']\n",
      "['AFL']\n",
      "['AFL']\n",
      "['AFL']\n"
     ]
    },
    {
     "name": "stderr",
     "output_type": "stream",
     "text": [
      "\r",
      "Meta-RL Agent Loop:   2%|▏         | 298/17441 [12:01<10:01:35,  2.11s/it]"
     ]
    },
    {
     "name": "stdout",
     "output_type": "stream",
     "text": [
      "['AFL']\n",
      "['AFL']\n",
      "['AFL']\n",
      "['AFL']\n",
      "['AFL']\n",
      "['AFL']\n",
      "['AFL']\n",
      "['AFL']\n",
      "['AFL']\n",
      "['AFL']\n",
      "['AFL']\n",
      "['AFL']\n",
      "['AFL']\n",
      "['AFL']\n",
      "['AFL']\n",
      "['AFL']\n",
      "['AFL']\n",
      "['AFL']\n",
      "['AFL']\n",
      "['AFL']\n",
      "['AFL']\n",
      "['AFL']\n",
      "['AFL']\n",
      "['AFL']\n"
     ]
    },
    {
     "name": "stderr",
     "output_type": "stream",
     "text": [
      "\r",
      "Meta-RL Agent Loop:   2%|▏         | 299/17441 [12:03<9:49:35,  2.06s/it] "
     ]
    },
    {
     "name": "stdout",
     "output_type": "stream",
     "text": [
      "['AFL']\n",
      "['AFL']\n",
      "['AFL']\n",
      "['AFL']\n",
      "['AFL']\n",
      "['AFL']\n",
      "['AFL']\n",
      "['AFL']\n",
      "['AFL']\n",
      "['AFL']\n",
      "['AFL']\n",
      "['AFL']\n",
      "['AFL']\n",
      "['AFL']\n",
      "['AFL']\n",
      "['AFL']\n",
      "['AFL']\n",
      "['AFL']\n",
      "['AFL']\n",
      "['AFL']\n",
      "['AFL']\n",
      "['AFL']\n",
      "['AFL']\n",
      "['AFL']\n"
     ]
    },
    {
     "name": "stderr",
     "output_type": "stream",
     "text": [
      "\r",
      "Meta-RL Agent Loop:   2%|▏         | 300/17441 [12:06<10:20:35,  2.17s/it]"
     ]
    },
    {
     "name": "stdout",
     "output_type": "stream",
     "text": [
      "['AFL']\n",
      "['AFL']\n",
      "['AFL']\n",
      "['AFL']\n",
      "['AFL']\n",
      "['AFL']\n",
      "['AFL']\n",
      "['AFL']\n",
      "['AFL']\n",
      "['AFL']\n",
      "['AFL']\n",
      "['AFL']\n",
      "['AFL']\n",
      "['AFL']\n",
      "['AFL']\n",
      "['AFL']\n",
      "['AFL']\n",
      "['AFL']\n",
      "['AFL']\n",
      "['AFL']\n",
      "['AFL']\n",
      "['AFL']\n",
      "['AFL']\n",
      "['AFL']\n"
     ]
    },
    {
     "name": "stderr",
     "output_type": "stream",
     "text": [
      "\r",
      "Meta-RL Agent Loop:   2%|▏         | 301/17441 [12:08<10:56:24,  2.30s/it]"
     ]
    },
    {
     "name": "stdout",
     "output_type": "stream",
     "text": [
      "['AFL']\n",
      "['AFL']\n",
      "['AFL']\n",
      "['AFL']\n",
      "['AFL']\n",
      "['AFL']\n",
      "['AFL']\n",
      "['AFL']\n",
      "['AFL']\n",
      "['AFL']\n",
      "['AFL']\n",
      "['AFL']\n",
      "['AFL']\n",
      "['AFL']\n",
      "['AFL']\n",
      "['AFL']\n",
      "['AFL']\n",
      "['AFL']\n",
      "['AFL']\n",
      "['AFL']\n",
      "['AFL']\n",
      "['AFL']\n",
      "['AFL']\n",
      "['AFL']\n"
     ]
    },
    {
     "name": "stderr",
     "output_type": "stream",
     "text": [
      "\r",
      "Meta-RL Agent Loop:   2%|▏         | 302/17441 [12:11<11:04:25,  2.33s/it]"
     ]
    },
    {
     "name": "stdout",
     "output_type": "stream",
     "text": [
      "['AFL']\n",
      "['AFL']\n",
      "['AFL']\n",
      "['AFL']\n",
      "['AFL']\n",
      "['AFL']\n",
      "['AFL']\n",
      "['AFL']\n",
      "['AFL']\n",
      "['AFL']\n",
      "['AFL']\n",
      "['AFL']\n",
      "['AFL']\n",
      "['AFL']\n",
      "['AFL']\n",
      "['AFL']\n",
      "['AFL']\n",
      "['AFL']\n",
      "['AFL']\n",
      "['AFL']\n",
      "['AFL']\n",
      "['AFL']\n",
      "['AFL']\n",
      "['AFL']\n"
     ]
    },
    {
     "name": "stderr",
     "output_type": "stream",
     "text": [
      "\r",
      "Meta-RL Agent Loop:   2%|▏         | 303/17441 [12:13<11:05:14,  2.33s/it]"
     ]
    },
    {
     "name": "stdout",
     "output_type": "stream",
     "text": [
      "['AFL']\n",
      "['AFL']\n",
      "['AFL']\n",
      "['AFL']\n",
      "['AFL']\n",
      "['AFL']\n",
      "['AFL']\n",
      "['AFL']\n",
      "['AFL']\n",
      "['AFL']\n",
      "['AFL']\n",
      "['AFL']\n",
      "['AFL']\n",
      "['AFL']\n",
      "['AFL']\n",
      "['AFL']\n",
      "['AFL']\n",
      "['AFL']\n",
      "['AFL']\n",
      "['AFL']\n",
      "['AFL']\n",
      "['AFL']\n",
      "['AFL']\n",
      "['AFL']\n"
     ]
    },
    {
     "name": "stderr",
     "output_type": "stream",
     "text": [
      "\r",
      "Meta-RL Agent Loop:   2%|▏         | 304/17441 [12:15<10:48:05,  2.27s/it]"
     ]
    },
    {
     "name": "stdout",
     "output_type": "stream",
     "text": [
      "['AFL']\n",
      "['AFL']\n",
      "['AFL']\n",
      "['AFL']\n",
      "['AFL']\n",
      "['AFL']\n",
      "['AFL']\n",
      "['AFL']\n",
      "['AFL']\n",
      "['AFL']\n",
      "['AFL']\n",
      "['AFL']\n",
      "['AFL']\n",
      "['AFL']\n",
      "['AFL']\n",
      "['AFL']\n",
      "['AFL']\n",
      "['AFL']\n",
      "['AFL']\n",
      "['AFL']\n",
      "['AFL']\n",
      "['AFL']\n",
      "['AFL']\n",
      "['AFL']\n"
     ]
    },
    {
     "name": "stderr",
     "output_type": "stream",
     "text": [
      "\r",
      "Meta-RL Agent Loop:   2%|▏         | 305/17441 [12:17<10:38:54,  2.24s/it]"
     ]
    },
    {
     "name": "stdout",
     "output_type": "stream",
     "text": [
      "['AFL']\n",
      "['AFL']\n",
      "['AFL']\n",
      "['AFL']\n",
      "['AFL']\n",
      "['AFL']\n",
      "['AFL']\n",
      "['AFL']\n",
      "['AFL']\n",
      "['AFL']\n",
      "['AFL']\n",
      "['AFL']\n",
      "['AFL']\n",
      "['AFL']\n",
      "['AFL']\n",
      "['AFL']\n",
      "['AFL']\n",
      "['AFL']\n",
      "['AFL']\n",
      "['AFL']\n",
      "['AFL']\n",
      "['AFL']\n",
      "['AFL']\n",
      "['AFL']\n"
     ]
    },
    {
     "name": "stderr",
     "output_type": "stream",
     "text": [
      "\r",
      "Meta-RL Agent Loop:   2%|▏         | 306/17441 [12:19<10:19:07,  2.17s/it]"
     ]
    },
    {
     "name": "stdout",
     "output_type": "stream",
     "text": [
      "['AFL']\n",
      "['AFL']\n",
      "['AFL']\n",
      "['AFL']\n",
      "['AFL']\n",
      "['AFL']\n",
      "['AFL']\n",
      "['AFL']\n",
      "['AFL']\n",
      "['AFL']\n",
      "['AFL']\n",
      "['AFL']\n",
      "['AFL']\n",
      "['AFL']\n",
      "['AFL']\n",
      "['AFL']\n",
      "['AFL']\n",
      "['AFL']\n",
      "['AFL']\n",
      "['AFL']\n",
      "['AFL']\n",
      "['AFL']\n",
      "['AFL']\n",
      "['AFL']\n"
     ]
    },
    {
     "name": "stderr",
     "output_type": "stream",
     "text": [
      "\r",
      "Meta-RL Agent Loop:   2%|▏         | 307/17441 [12:22<10:42:17,  2.25s/it]"
     ]
    },
    {
     "name": "stdout",
     "output_type": "stream",
     "text": [
      "['AFL']\n",
      "['AFL']\n",
      "['AFL']\n",
      "['AFL']\n",
      "['AFL']\n",
      "['AFL']\n",
      "['AFL']\n",
      "['AFL']\n",
      "['AFL']\n",
      "['AFL']\n",
      "['AFL']\n",
      "['AFL']\n",
      "['AFL']\n",
      "['AFL']\n",
      "['AFL']\n",
      "['AFL']\n",
      "['AFL']\n",
      "['AFL']\n",
      "['AFL']\n",
      "['AFL']\n",
      "['AFL']\n",
      "['AFL']\n",
      "['AFL']\n",
      "['AFL']\n"
     ]
    },
    {
     "name": "stderr",
     "output_type": "stream",
     "text": [
      "\r",
      "Meta-RL Agent Loop:   2%|▏         | 308/17441 [12:25<11:56:10,  2.51s/it]"
     ]
    },
    {
     "name": "stdout",
     "output_type": "stream",
     "text": [
      "['AFL']\n",
      "['AFL']\n",
      "['AFL']\n",
      "['AFL']\n",
      "['AFL']\n",
      "['AFL']\n",
      "['AFL']\n",
      "['AFL']\n",
      "['AFL']\n",
      "['AFL']\n",
      "['AFL']\n",
      "['AFL']\n",
      "['AFL']\n",
      "['AFL']\n",
      "['AFL']\n",
      "['AFL']\n",
      "['AFL']\n",
      "['AFL']\n",
      "['AFL']\n",
      "['AFL']\n",
      "['AFL']\n",
      "['AFL']\n",
      "['AFL']\n",
      "['AFL']\n"
     ]
    },
    {
     "name": "stderr",
     "output_type": "stream",
     "text": [
      "\r",
      "Meta-RL Agent Loop:   2%|▏         | 309/17441 [12:28<12:38:47,  2.66s/it]"
     ]
    },
    {
     "name": "stdout",
     "output_type": "stream",
     "text": [
      "['AFL']\n",
      "['AFL']\n",
      "['AFL']\n",
      "['AFL']\n",
      "['AFL']\n",
      "['AFL']\n",
      "['AFL']\n",
      "['AFL']\n",
      "['AFL']\n",
      "['AFL']\n",
      "['AFL']\n",
      "['AFL']\n",
      "['AFL']\n",
      "['AFL']\n",
      "['AFL']\n",
      "['AFL']\n",
      "['AFL']\n",
      "['AFL']\n",
      "['AFL']\n",
      "['AFL']\n",
      "['AFL']\n",
      "['AFL']\n",
      "['AFL']\n",
      "['AFL']\n"
     ]
    },
    {
     "name": "stderr",
     "output_type": "stream",
     "text": [
      "\r",
      "Meta-RL Agent Loop:   2%|▏         | 310/17441 [12:31<12:51:51,  2.70s/it]"
     ]
    },
    {
     "name": "stdout",
     "output_type": "stream",
     "text": [
      "['AFL']\n",
      "['AFL']\n",
      "['AFL']\n",
      "['AFL']\n",
      "['AFL']\n",
      "['AFL']\n",
      "['AFL']\n",
      "['AFL']\n",
      "['AFL']\n",
      "['AFL']\n",
      "['AFL']\n",
      "['AFL']\n",
      "['AFL']\n",
      "['AFL']\n",
      "['AFL']\n",
      "['AFL']\n",
      "['AFL']\n",
      "['AFL']\n",
      "['AFL']\n",
      "['AFL']\n",
      "['AFL']\n",
      "['AFL']\n",
      "['AFL']\n",
      "['AFL']\n"
     ]
    },
    {
     "name": "stderr",
     "output_type": "stream",
     "text": [
      "\r",
      "Meta-RL Agent Loop:   2%|▏         | 311/17441 [12:33<12:50:02,  2.70s/it]"
     ]
    },
    {
     "name": "stdout",
     "output_type": "stream",
     "text": [
      "['AFL']\n",
      "['AFL']\n",
      "['AFL']\n",
      "['AFL']\n",
      "['AFL']\n",
      "['AFL']\n",
      "['AFL']\n",
      "['AFL']\n",
      "['AFL']\n",
      "['AFL']\n",
      "['AFL']\n",
      "['AFL']\n",
      "['AFL']\n",
      "['AFL']\n",
      "['AFL']\n",
      "['AFL']\n",
      "['AFL']\n",
      "['AFL']\n",
      "['AFL']\n",
      "['AFL']\n",
      "['AFL']\n",
      "['AFL']\n",
      "['AFL']\n",
      "['AFL']\n"
     ]
    },
    {
     "name": "stderr",
     "output_type": "stream",
     "text": [
      "\r",
      "Meta-RL Agent Loop:   2%|▏         | 312/17441 [12:36<12:08:06,  2.55s/it]"
     ]
    },
    {
     "name": "stdout",
     "output_type": "stream",
     "text": [
      "['AFL']\n",
      "['AFL']\n",
      "['AFL']\n",
      "['AFL']\n",
      "['AFL']\n",
      "['AFL']\n",
      "['AFL']\n",
      "['AFL']\n",
      "['AFL']\n",
      "['AFL']\n",
      "['AFL']\n",
      "['AFL']\n",
      "['AFL']\n",
      "['AFL']\n",
      "['AFL']\n",
      "['AFL']\n",
      "['AFL']\n",
      "['AFL']\n",
      "['AFL']\n",
      "['AFL']\n",
      "['AFL']\n",
      "['AFL']\n",
      "['AFL']\n",
      "['AFL']\n"
     ]
    },
    {
     "name": "stderr",
     "output_type": "stream",
     "text": [
      "\r",
      "Meta-RL Agent Loop:   2%|▏         | 313/17441 [12:38<11:51:06,  2.49s/it]"
     ]
    },
    {
     "name": "stdout",
     "output_type": "stream",
     "text": [
      "['AFL']\n",
      "['AFL']\n",
      "['AFL']\n",
      "['AFL']\n",
      "['AFL']\n",
      "['AFL']\n",
      "['AFL']\n",
      "['AFL']\n",
      "['AFL']\n",
      "['AFL']\n",
      "['AFL']\n",
      "['AFL']\n",
      "['AFL']\n",
      "['AFL']\n",
      "['AFL']\n",
      "['AFL']\n",
      "['AFL']\n",
      "['AFL']\n",
      "['AFL']\n",
      "['AFL']\n",
      "['AFL']\n",
      "['AFL']\n",
      "['AFL']\n",
      "['AFL']\n"
     ]
    },
    {
     "name": "stderr",
     "output_type": "stream",
     "text": [
      "\r",
      "Meta-RL Agent Loop:   2%|▏         | 314/17441 [12:40<11:37:02,  2.44s/it]"
     ]
    },
    {
     "name": "stdout",
     "output_type": "stream",
     "text": [
      "['AFL']\n",
      "['AFL']\n",
      "['AFL']\n",
      "['AFL']\n",
      "['AFL']\n",
      "['AFL']\n",
      "['AFL']\n",
      "['AFL']\n",
      "['AFL']\n",
      "['AFL']\n",
      "['AFL']\n",
      "['AFL']\n",
      "['AFL']\n",
      "['AFL']\n",
      "['AFL']\n",
      "['AFL']\n",
      "['AFL']\n",
      "['AFL']\n",
      "['AFL']\n",
      "['AFL']\n",
      "['AFL']\n",
      "['AFL']\n",
      "['AFL']\n",
      "['AFL']\n"
     ]
    },
    {
     "name": "stderr",
     "output_type": "stream",
     "text": [
      "\r",
      "Meta-RL Agent Loop:   2%|▏         | 315/17441 [12:42<11:14:20,  2.36s/it]"
     ]
    },
    {
     "name": "stdout",
     "output_type": "stream",
     "text": [
      "['AFL']\n",
      "['AFL']\n",
      "['A']\n",
      "['A']\n",
      "['A']\n",
      "['A']\n",
      "['A']\n",
      "['A']\n",
      "['A']\n",
      "['A']\n",
      "['A']\n",
      "['A']\n",
      "['A']\n",
      "['A']\n",
      "['A']\n",
      "['A']\n",
      "['A']\n",
      "['A']\n",
      "['A']\n",
      "['A']\n",
      "['A']\n",
      "['A']\n",
      "['A']\n",
      "['A']\n"
     ]
    },
    {
     "name": "stderr",
     "output_type": "stream",
     "text": [
      "\r",
      "Meta-RL Agent Loop:   2%|▏         | 316/17441 [12:44<10:27:33,  2.20s/it]"
     ]
    },
    {
     "name": "stdout",
     "output_type": "stream",
     "text": [
      "['A']\n",
      "['A']\n",
      "['A']\n",
      "['A']\n",
      "['A']\n",
      "['A']\n",
      "['A']\n",
      "['A']\n",
      "['A']\n",
      "['A']\n",
      "['A']\n",
      "['A']\n",
      "['A']\n",
      "['A']\n",
      "['A']\n",
      "['A']\n",
      "['A']\n",
      "['A']\n",
      "['A']\n",
      "['A']\n",
      "['A']\n",
      "['A']\n",
      "['A']\n",
      "['A']\n"
     ]
    },
    {
     "name": "stderr",
     "output_type": "stream",
     "text": [
      "\r",
      "Meta-RL Agent Loop:   2%|▏         | 317/17441 [12:46<9:57:24,  2.09s/it] "
     ]
    },
    {
     "name": "stdout",
     "output_type": "stream",
     "text": [
      "['A']\n",
      "['A']\n",
      "['A']\n",
      "['A']\n",
      "['A']\n",
      "['A']\n",
      "['A']\n",
      "['A']\n",
      "['A']\n",
      "['A']\n",
      "['A']\n",
      "['A']\n",
      "['A']\n",
      "['A']\n",
      "['A']\n",
      "['A']\n",
      "['A']\n",
      "['A']\n",
      "['A']\n",
      "['A']\n",
      "['A']\n",
      "['A']\n",
      "['A']\n",
      "['A']\n"
     ]
    },
    {
     "name": "stderr",
     "output_type": "stream",
     "text": [
      "\r",
      "Meta-RL Agent Loop:   2%|▏         | 318/17441 [12:48<9:34:30,  2.01s/it]"
     ]
    },
    {
     "name": "stdout",
     "output_type": "stream",
     "text": [
      "['A']\n",
      "['A']\n",
      "['A']\n",
      "['A']\n",
      "['A']\n",
      "['A']\n",
      "['A']\n",
      "['A']\n",
      "['A']\n",
      "['A']\n",
      "['A']\n",
      "['A']\n",
      "['A']\n",
      "['A']\n",
      "['A']\n",
      "['A']\n",
      "['A']\n",
      "['A']\n",
      "['A']\n",
      "['A']\n",
      "['A']\n",
      "['A']\n",
      "['A']\n",
      "['A']\n"
     ]
    },
    {
     "name": "stderr",
     "output_type": "stream",
     "text": [
      "\r",
      "Meta-RL Agent Loop:   2%|▏         | 319/17441 [12:50<9:13:34,  1.94s/it]"
     ]
    },
    {
     "name": "stdout",
     "output_type": "stream",
     "text": [
      "['A']\n",
      "['A']\n",
      "['A']\n",
      "['A']\n",
      "['A']\n",
      "['A']\n",
      "['A']\n",
      "['A']\n",
      "['A']\n",
      "['A']\n",
      "['A']\n",
      "['A']\n",
      "['A']\n",
      "['A']\n",
      "['A']\n",
      "['A']\n",
      "['A']\n",
      "['A']\n",
      "['A']\n",
      "['A']\n",
      "['A']\n",
      "['A']\n",
      "['A']\n",
      "['A']\n"
     ]
    },
    {
     "name": "stderr",
     "output_type": "stream",
     "text": [
      "\r",
      "Meta-RL Agent Loop:   2%|▏         | 320/17441 [12:52<9:09:02,  1.92s/it]"
     ]
    },
    {
     "name": "stdout",
     "output_type": "stream",
     "text": [
      "['A']\n",
      "['A']\n",
      "['A']\n",
      "['A']\n",
      "['A']\n",
      "['A']\n",
      "['A']\n",
      "['A']\n",
      "['A']\n",
      "['A']\n",
      "['A']\n",
      "['A']\n",
      "['A']\n",
      "['A']\n",
      "['A']\n",
      "['A']\n",
      "['A']\n",
      "['A']\n",
      "['A']\n",
      "['A']\n",
      "['A']\n",
      "['A']\n",
      "['A']\n",
      "['A']\n"
     ]
    },
    {
     "name": "stderr",
     "output_type": "stream",
     "text": [
      "\r",
      "Meta-RL Agent Loop:   2%|▏         | 321/17441 [12:54<9:42:37,  2.04s/it]"
     ]
    },
    {
     "name": "stdout",
     "output_type": "stream",
     "text": [
      "['A']\n",
      "['A']\n",
      "['A']\n",
      "['A']\n",
      "['A']\n",
      "['A']\n",
      "['A']\n",
      "['A']\n",
      "['A']\n",
      "['A']\n",
      "['A']\n",
      "['A']\n",
      "['A']\n",
      "['A']\n",
      "['A']\n",
      "['A']\n",
      "['A']\n",
      "['A']\n",
      "['A']\n",
      "['A']\n",
      "['A']\n",
      "['A']\n",
      "['A']\n",
      "['A']\n"
     ]
    },
    {
     "name": "stderr",
     "output_type": "stream",
     "text": [
      "\r",
      "Meta-RL Agent Loop:   2%|▏         | 322/17441 [12:56<10:14:59,  2.16s/it]"
     ]
    },
    {
     "name": "stdout",
     "output_type": "stream",
     "text": [
      "['A']\n",
      "['A']\n",
      "['A']\n",
      "['A']\n",
      "['A']\n",
      "['A']\n",
      "['A']\n",
      "['A']\n",
      "['A']\n",
      "['A']\n",
      "['A']\n",
      "['A']\n",
      "['A']\n",
      "['A']\n",
      "['A']\n",
      "['A']\n",
      "['A']\n",
      "['A']\n",
      "['A']\n",
      "['A']\n",
      "['A']\n",
      "['A']\n",
      "['A']\n",
      "['A']\n"
     ]
    },
    {
     "name": "stderr",
     "output_type": "stream",
     "text": [
      "\r",
      "Meta-RL Agent Loop:   2%|▏         | 323/17441 [12:58<10:14:50,  2.16s/it]"
     ]
    },
    {
     "name": "stdout",
     "output_type": "stream",
     "text": [
      "['A']\n",
      "['A']\n",
      "['A']\n",
      "['A']\n",
      "['A']\n",
      "['A']\n",
      "['A']\n",
      "['A']\n",
      "['A']\n",
      "['A']\n",
      "['A']\n",
      "['A']\n",
      "['A']\n",
      "['A']\n",
      "['A']\n",
      "['A']\n",
      "['A']\n",
      "['A']\n",
      "['A']\n",
      "['A']\n",
      "['A']\n",
      "['A']\n",
      "['A']\n",
      "['A']\n"
     ]
    },
    {
     "name": "stderr",
     "output_type": "stream",
     "text": [
      "\r",
      "Meta-RL Agent Loop:   2%|▏         | 324/17441 [13:00<9:44:38,  2.05s/it] "
     ]
    },
    {
     "name": "stdout",
     "output_type": "stream",
     "text": [
      "['A']\n",
      "['A']\n",
      "['A']\n",
      "['A']\n",
      "['A']\n",
      "['A']\n",
      "['A']\n",
      "['A']\n",
      "['A']\n",
      "['A']\n",
      "['A']\n",
      "['A']\n",
      "['A']\n",
      "['A']\n",
      "['A']\n",
      "['A']\n",
      "['A']\n",
      "['A']\n",
      "['A']\n",
      "['A']\n",
      "['A']\n",
      "['A']\n",
      "['A']\n",
      "['A']\n"
     ]
    },
    {
     "name": "stderr",
     "output_type": "stream",
     "text": [
      "\r",
      "Meta-RL Agent Loop:   2%|▏         | 325/17441 [13:02<9:27:10,  1.99s/it]"
     ]
    },
    {
     "name": "stdout",
     "output_type": "stream",
     "text": [
      "['A']\n",
      "['A']\n",
      "['A']\n",
      "['A']\n",
      "['A']\n",
      "['A']\n",
      "['A']\n",
      "['A']\n",
      "['A']\n",
      "['A']\n",
      "['A']\n",
      "['A']\n",
      "['A']\n",
      "['A']\n",
      "['A']\n",
      "['A']\n",
      "['A']\n",
      "['A']\n",
      "['A']\n",
      "['A']\n",
      "['A']\n",
      "['A']\n",
      "['A']\n",
      "['A']\n"
     ]
    },
    {
     "name": "stderr",
     "output_type": "stream",
     "text": [
      "\r",
      "Meta-RL Agent Loop:   2%|▏         | 326/17441 [13:04<9:12:28,  1.94s/it]"
     ]
    },
    {
     "name": "stdout",
     "output_type": "stream",
     "text": [
      "['A']\n",
      "['A']\n",
      "['A']\n",
      "['A']\n",
      "['A']\n",
      "['A']\n",
      "['A']\n",
      "['A']\n",
      "['A']\n",
      "['A']\n",
      "['A']\n",
      "['A']\n",
      "['A']\n",
      "['A']\n",
      "['A']\n",
      "['A']\n",
      "['A']\n",
      "['A']\n",
      "['A']\n",
      "['A']\n",
      "['A']\n",
      "['A']\n",
      "['A']\n",
      "['A']\n"
     ]
    },
    {
     "name": "stderr",
     "output_type": "stream",
     "text": [
      "\r",
      "Meta-RL Agent Loop:   2%|▏         | 327/17441 [13:06<9:01:28,  1.90s/it]"
     ]
    },
    {
     "name": "stdout",
     "output_type": "stream",
     "text": [
      "['A']\n",
      "['A']\n",
      "['A']\n",
      "['A']\n",
      "['A']\n",
      "['A']\n",
      "['A']\n",
      "['A']\n",
      "['A']\n",
      "['A']\n",
      "['A']\n",
      "['A']\n",
      "['A']\n",
      "['A']\n",
      "['A']\n",
      "['A']\n",
      "['A']\n",
      "['A']\n",
      "['A']\n",
      "['A']\n",
      "['A']\n",
      "['A']\n",
      "['A']\n",
      "['A']\n"
     ]
    },
    {
     "name": "stderr",
     "output_type": "stream",
     "text": [
      "\r",
      "Meta-RL Agent Loop:   2%|▏         | 328/17441 [13:08<8:52:26,  1.87s/it]"
     ]
    },
    {
     "name": "stdout",
     "output_type": "stream",
     "text": [
      "['A']\n",
      "['A']\n",
      "['A']\n",
      "['A']\n",
      "['A']\n",
      "['A']\n",
      "['A']\n",
      "['A']\n",
      "['A']\n",
      "['A']\n",
      "['A']\n",
      "['A']\n",
      "['A']\n",
      "['A']\n",
      "['A']\n",
      "['A']\n",
      "['A']\n",
      "['A']\n",
      "['A']\n",
      "['A']\n",
      "['A']\n",
      "['A']\n",
      "['A']\n",
      "['A']\n"
     ]
    },
    {
     "name": "stderr",
     "output_type": "stream",
     "text": [
      "\r",
      "Meta-RL Agent Loop:   2%|▏         | 329/17441 [13:10<9:23:57,  1.98s/it]"
     ]
    },
    {
     "name": "stdout",
     "output_type": "stream",
     "text": [
      "['A']\n",
      "['A']\n",
      "['A']\n",
      "['A']\n",
      "['A']\n",
      "['A']\n",
      "['A']\n",
      "['A']\n",
      "['A']\n",
      "['A']\n",
      "['A']\n",
      "['A']\n",
      "['A']\n",
      "['A']\n",
      "['A']\n",
      "['A']\n",
      "['A']\n",
      "['A']\n",
      "['A']\n",
      "['A']\n",
      "['A']\n",
      "['A']\n",
      "['A']\n",
      "['A']\n"
     ]
    },
    {
     "name": "stderr",
     "output_type": "stream",
     "text": [
      "\r",
      "Meta-RL Agent Loop:   2%|▏         | 330/17441 [13:12<9:21:16,  1.97s/it]"
     ]
    },
    {
     "name": "stdout",
     "output_type": "stream",
     "text": [
      "['A']\n",
      "['A']\n",
      "['A']\n",
      "['A']\n",
      "['A']\n",
      "['A']\n",
      "['A']\n",
      "['A']\n",
      "['A']\n",
      "['A']\n",
      "['A']\n",
      "['A']\n",
      "['A']\n",
      "['A']\n",
      "['A']\n",
      "['A']\n",
      "['A']\n",
      "['A']\n",
      "['A']\n",
      "['A']\n",
      "['A']\n",
      "['A']\n",
      "['A']\n",
      "['A']\n"
     ]
    },
    {
     "name": "stderr",
     "output_type": "stream",
     "text": [
      "\r",
      "Meta-RL Agent Loop:   2%|▏         | 331/17441 [13:14<9:20:40,  1.97s/it]"
     ]
    },
    {
     "name": "stdout",
     "output_type": "stream",
     "text": [
      "['A']\n",
      "['A']\n",
      "['A']\n",
      "['A']\n",
      "['A']\n",
      "['A']\n",
      "['A']\n",
      "['A']\n",
      "['A']\n",
      "['A']\n",
      "['A']\n",
      "['A']\n",
      "['A']\n",
      "['A']\n",
      "['A']\n",
      "['A']\n",
      "['A']\n",
      "['A']\n",
      "['A']\n",
      "['A']\n",
      "['A']\n",
      "['A']\n",
      "['A']\n",
      "['A']\n"
     ]
    },
    {
     "name": "stderr",
     "output_type": "stream",
     "text": [
      "\r",
      "Meta-RL Agent Loop:   2%|▏         | 332/17441 [13:16<9:14:50,  1.95s/it]"
     ]
    },
    {
     "name": "stdout",
     "output_type": "stream",
     "text": [
      "['A']\n",
      "['A']\n",
      "['A']\n",
      "['A']\n",
      "['A']\n",
      "['A']\n",
      "['A']\n",
      "['A']\n",
      "['A']\n",
      "['A']\n",
      "['A']\n",
      "['A']\n",
      "['A']\n",
      "['A']\n",
      "['A']\n",
      "['A']\n",
      "['A']\n",
      "['A']\n",
      "['A']\n",
      "['A']\n",
      "['A']\n",
      "['A']\n",
      "['A']\n",
      "['A']\n"
     ]
    },
    {
     "name": "stderr",
     "output_type": "stream",
     "text": [
      "\r",
      "Meta-RL Agent Loop:   2%|▏         | 333/17441 [13:17<9:04:28,  1.91s/it]"
     ]
    },
    {
     "name": "stdout",
     "output_type": "stream",
     "text": [
      "['A']\n",
      "['A']\n",
      "['A']\n",
      "['A']\n",
      "['A']\n",
      "['A']\n",
      "['A']\n",
      "['A']\n",
      "['A']\n",
      "['A']\n",
      "['A']\n",
      "['A']\n",
      "['A']\n",
      "['A']\n",
      "['A']\n",
      "['A']\n",
      "['A']\n",
      "['A']\n",
      "['A']\n",
      "['A']\n",
      "['A']\n",
      "['A']\n",
      "['A']\n",
      "['A']\n"
     ]
    },
    {
     "name": "stderr",
     "output_type": "stream",
     "text": [
      "\r",
      "Meta-RL Agent Loop:   2%|▏         | 334/17441 [13:19<9:02:16,  1.90s/it]"
     ]
    },
    {
     "name": "stdout",
     "output_type": "stream",
     "text": [
      "['A']\n",
      "['A']\n",
      "['A']\n",
      "['A']\n",
      "['A']\n",
      "['A']\n",
      "['A']\n",
      "['A']\n",
      "['A']\n",
      "['A']\n",
      "['A']\n",
      "['A']\n",
      "['A']\n",
      "['A']\n",
      "['A']\n",
      "['A']\n",
      "['A']\n",
      "['A']\n",
      "['A']\n",
      "['A']\n",
      "['A']\n",
      "['A']\n",
      "['A']\n",
      "['A']\n"
     ]
    },
    {
     "name": "stderr",
     "output_type": "stream",
     "text": [
      "\r",
      "Meta-RL Agent Loop:   2%|▏         | 335/17441 [13:21<8:53:48,  1.87s/it]"
     ]
    },
    {
     "name": "stdout",
     "output_type": "stream",
     "text": [
      "['A']\n",
      "['A']\n",
      "['A']\n",
      "['A']\n",
      "['A']\n",
      "['A']\n",
      "['A']\n",
      "['A']\n",
      "['A']\n",
      "['A']\n",
      "['A']\n",
      "['A']\n",
      "['A']\n",
      "['A']\n",
      "['A']\n",
      "['A']\n",
      "['A']\n",
      "['A']\n",
      "['A']\n",
      "['A']\n",
      "['A']\n",
      "['A']\n",
      "['A']\n",
      "['A']\n"
     ]
    },
    {
     "name": "stderr",
     "output_type": "stream",
     "text": [
      "\r",
      "Meta-RL Agent Loop:   2%|▏         | 336/17441 [13:23<8:51:57,  1.87s/it]"
     ]
    },
    {
     "name": "stdout",
     "output_type": "stream",
     "text": [
      "['A']\n",
      "['A']\n",
      "['A']\n",
      "['A']\n",
      "['A']\n",
      "['A']\n",
      "['A']\n",
      "['A']\n",
      "['A']\n",
      "['A']\n",
      "['A']\n",
      "['A']\n",
      "['A']\n",
      "['A']\n",
      "['A']\n",
      "['A']\n",
      "['A']\n",
      "['A']\n",
      "['A']\n",
      "['A']\n",
      "['A']\n",
      "['A']\n",
      "['A']\n",
      "['A']\n"
     ]
    },
    {
     "name": "stderr",
     "output_type": "stream",
     "text": [
      "\r",
      "Meta-RL Agent Loop:   2%|▏         | 337/17441 [13:25<9:12:10,  1.94s/it]"
     ]
    },
    {
     "name": "stdout",
     "output_type": "stream",
     "text": [
      "['A']\n",
      "['A']\n",
      "['A']\n",
      "['A']\n",
      "['A']\n",
      "['A']\n",
      "['A']\n",
      "['A']\n",
      "['A']\n",
      "['A']\n",
      "['A']\n",
      "['A']\n",
      "['A']\n",
      "['A']\n",
      "['A']\n",
      "['A']\n",
      "['A']\n",
      "['A']\n",
      "['A']\n",
      "['A']\n",
      "['A']\n",
      "['A']\n",
      "['A']\n",
      "['A']\n"
     ]
    },
    {
     "name": "stderr",
     "output_type": "stream",
     "text": [
      "\r",
      "Meta-RL Agent Loop:   2%|▏         | 338/17441 [13:27<9:50:14,  2.07s/it]"
     ]
    },
    {
     "name": "stdout",
     "output_type": "stream",
     "text": [
      "['A']\n",
      "['A']\n",
      "['A']\n",
      "['A']\n",
      "['A']\n",
      "['A']\n",
      "['A']\n",
      "['A']\n",
      "['A']\n",
      "['A']\n",
      "['A']\n",
      "['A']\n",
      "['A']\n",
      "['A']\n",
      "['A']\n",
      "['A']\n",
      "['A']\n",
      "['A']\n",
      "['A']\n",
      "['A']\n",
      "['A']\n",
      "['A']\n",
      "['A']\n",
      "['A']\n"
     ]
    },
    {
     "name": "stderr",
     "output_type": "stream",
     "text": [
      "\r",
      "Meta-RL Agent Loop:   2%|▏         | 339/17441 [13:30<10:12:23,  2.15s/it]"
     ]
    },
    {
     "name": "stdout",
     "output_type": "stream",
     "text": [
      "['A']\n",
      "['A']\n",
      "['A']\n",
      "['A']\n",
      "['A']\n",
      "['A']\n",
      "['A']\n",
      "['A']\n",
      "['A']\n",
      "['A']\n",
      "['A']\n",
      "['A']\n",
      "['A']\n",
      "['A']\n",
      "['A']\n",
      "['A']\n",
      "['A']\n",
      "['A']\n",
      "['A']\n",
      "['A']\n",
      "['A']\n",
      "['A']\n",
      "['A']\n",
      "['A']\n"
     ]
    },
    {
     "name": "stderr",
     "output_type": "stream",
     "text": [
      "\r",
      "Meta-RL Agent Loop:   2%|▏         | 340/17441 [13:32<9:54:04,  2.08s/it] "
     ]
    },
    {
     "name": "stdout",
     "output_type": "stream",
     "text": [
      "['A']\n",
      "['A']\n",
      "['A']\n",
      "['A']\n",
      "['A']\n",
      "['A']\n",
      "['A']\n",
      "['A']\n",
      "['A']\n",
      "['A']\n",
      "['A']\n",
      "['A']\n",
      "['A']\n",
      "['A']\n",
      "['A']\n",
      "['A']\n",
      "['A']\n",
      "['A']\n",
      "['A']\n",
      "['A']\n",
      "['A']\n",
      "['A']\n",
      "['A']\n",
      "['A']\n"
     ]
    },
    {
     "name": "stderr",
     "output_type": "stream",
     "text": [
      "\r",
      "Meta-RL Agent Loop:   2%|▏         | 341/17441 [13:34<9:31:54,  2.01s/it]"
     ]
    },
    {
     "name": "stdout",
     "output_type": "stream",
     "text": [
      "['A']\n",
      "['A']\n",
      "['A']\n",
      "['A']\n",
      "['A']\n",
      "['A']\n",
      "['A']\n",
      "['A']\n",
      "['A']\n",
      "['A']\n",
      "['A']\n",
      "['A']\n",
      "['A']\n",
      "['A']\n",
      "['A']\n",
      "['A']\n",
      "['A']\n",
      "['A']\n",
      "['A']\n",
      "['A']\n",
      "['A']\n",
      "['A']\n",
      "['A']\n",
      "['A']\n"
     ]
    },
    {
     "name": "stderr",
     "output_type": "stream",
     "text": [
      "\r",
      "Meta-RL Agent Loop:   2%|▏         | 342/17441 [13:35<9:27:26,  1.99s/it]"
     ]
    },
    {
     "name": "stdout",
     "output_type": "stream",
     "text": [
      "['A']\n",
      "['A']\n",
      "['A']\n",
      "['A']\n",
      "['A']\n",
      "['A']\n",
      "['A']\n",
      "['A']\n",
      "['A']\n",
      "['A']\n",
      "['A']\n",
      "['A']\n",
      "['A']\n",
      "['A']\n",
      "['A']\n",
      "['A']\n",
      "['A']\n",
      "['A']\n",
      "['A']\n",
      "['A']\n",
      "['A']\n",
      "['A']\n",
      "['A']\n",
      "['A']\n"
     ]
    },
    {
     "name": "stderr",
     "output_type": "stream",
     "text": [
      "\r",
      "Meta-RL Agent Loop:   2%|▏         | 343/17441 [13:37<9:11:50,  1.94s/it]"
     ]
    },
    {
     "name": "stdout",
     "output_type": "stream",
     "text": [
      "['A']\n",
      "['A']\n",
      "['A']\n",
      "['A']\n",
      "['A']\n",
      "['A']\n",
      "['A']\n",
      "['A']\n",
      "['A']\n",
      "['A']\n",
      "['A']\n",
      "['A']\n",
      "['A']\n",
      "['A']\n",
      "['A']\n",
      "['A']\n",
      "['A']\n",
      "['A']\n",
      "['A']\n",
      "['A']\n",
      "['A']\n",
      "['A']\n",
      "['A']\n",
      "['A']\n"
     ]
    },
    {
     "name": "stderr",
     "output_type": "stream",
     "text": [
      "\r",
      "Meta-RL Agent Loop:   2%|▏         | 344/17441 [13:39<9:04:36,  1.91s/it]"
     ]
    },
    {
     "name": "stdout",
     "output_type": "stream",
     "text": [
      "['A']\n",
      "['A']\n",
      "['A']\n",
      "['A']\n",
      "['A']\n",
      "['A']\n",
      "['A']\n",
      "['A']\n",
      "['A']\n",
      "['A']\n",
      "['A']\n",
      "['A']\n",
      "['A']\n",
      "['A']\n",
      "['A']\n",
      "['A']\n",
      "['A']\n",
      "['A']\n",
      "['A']\n",
      "['A']\n",
      "['A']\n",
      "['A']\n",
      "['A']\n",
      "['A']\n"
     ]
    },
    {
     "name": "stderr",
     "output_type": "stream",
     "text": [
      "\r",
      "Meta-RL Agent Loop:   2%|▏         | 345/17441 [13:41<9:26:27,  1.99s/it]"
     ]
    },
    {
     "name": "stdout",
     "output_type": "stream",
     "text": [
      "['A']\n",
      "['A']\n",
      "['A']\n",
      "['A']\n",
      "['A']\n",
      "['A']\n",
      "['A']\n",
      "['A']\n",
      "['A']\n",
      "['A']\n",
      "['A']\n",
      "['A']\n",
      "['A']\n",
      "['A']\n",
      "['A']\n",
      "['A']\n",
      "['A']\n",
      "['A']\n",
      "['A']\n",
      "['A']\n",
      "['A']\n",
      "['A']\n",
      "['A']\n",
      "['A']\n"
     ]
    },
    {
     "name": "stderr",
     "output_type": "stream",
     "text": [
      "\r",
      "Meta-RL Agent Loop:   2%|▏         | 346/17441 [13:44<10:03:22,  2.12s/it]"
     ]
    },
    {
     "name": "stdout",
     "output_type": "stream",
     "text": [
      "['A']\n",
      "['A']\n",
      "['A']\n",
      "['A']\n",
      "['A']\n",
      "['A']\n",
      "['A']\n",
      "['A']\n",
      "['A']\n",
      "['A']\n",
      "['A']\n",
      "['A']\n",
      "['A']\n",
      "['A']\n",
      "['A']\n",
      "['A']\n",
      "['A']\n",
      "['A']\n",
      "['A']\n",
      "['A']\n",
      "['A']\n",
      "['A']\n",
      "['A']\n",
      "['A']\n"
     ]
    },
    {
     "name": "stderr",
     "output_type": "stream",
     "text": [
      "\r",
      "Meta-RL Agent Loop:   2%|▏         | 347/17441 [13:46<10:09:39,  2.14s/it]"
     ]
    },
    {
     "name": "stdout",
     "output_type": "stream",
     "text": [
      "['A']\n",
      "['A']\n",
      "['A']\n",
      "['A']\n",
      "['A']\n",
      "['A']\n",
      "['A']\n",
      "['A']\n",
      "['A']\n",
      "['A']\n",
      "['A']\n",
      "['A']\n",
      "['A']\n",
      "['A']\n",
      "['A']\n",
      "['A']\n",
      "['A']\n",
      "['A']\n",
      "['A']\n",
      "['A']\n",
      "['A']\n",
      "['A']\n",
      "['A']\n",
      "['A']\n"
     ]
    },
    {
     "name": "stderr",
     "output_type": "stream",
     "text": [
      "\r",
      "Meta-RL Agent Loop:   2%|▏         | 348/17441 [13:48<9:43:09,  2.05s/it] "
     ]
    },
    {
     "name": "stdout",
     "output_type": "stream",
     "text": [
      "['A']\n",
      "['A']\n",
      "['A']\n",
      "['A']\n",
      "['A']\n",
      "['A']\n",
      "['A']\n",
      "['A']\n",
      "['A']\n",
      "['A']\n",
      "['A']\n",
      "['A']\n",
      "['A']\n",
      "['A']\n",
      "['A']\n",
      "['A']\n",
      "['A']\n",
      "['A']\n",
      "['A']\n",
      "['A']\n",
      "['A']\n",
      "['A']\n",
      "['A']\n",
      "['A']\n"
     ]
    },
    {
     "name": "stderr",
     "output_type": "stream",
     "text": [
      "\r",
      "Meta-RL Agent Loop:   2%|▏         | 349/17441 [13:50<9:21:53,  1.97s/it]"
     ]
    },
    {
     "name": "stdout",
     "output_type": "stream",
     "text": [
      "['A']\n",
      "['A']\n",
      "['A']\n",
      "['A']\n",
      "['A']\n",
      "['A']\n",
      "['A']\n",
      "['A']\n",
      "['A']\n",
      "['A']\n",
      "['A']\n",
      "['A']\n",
      "['A']\n",
      "['A']\n",
      "['A']\n",
      "['A']\n",
      "['A']\n",
      "['A']\n",
      "['A']\n",
      "['A']\n",
      "['A']\n",
      "['A']\n",
      "['A']\n",
      "['A']\n"
     ]
    },
    {
     "name": "stderr",
     "output_type": "stream",
     "text": [
      "\r",
      "Meta-RL Agent Loop:   2%|▏         | 350/17441 [13:51<9:16:00,  1.95s/it]"
     ]
    },
    {
     "name": "stdout",
     "output_type": "stream",
     "text": [
      "['A']\n",
      "['A']\n",
      "['APD']\n",
      "['APD']\n",
      "['APD']\n",
      "['APD']\n",
      "['APD']\n",
      "['APD']\n",
      "['APD']\n",
      "['APD']\n",
      "['APD']\n",
      "['APD']\n",
      "['APD']\n",
      "['APD']\n",
      "['APD']\n",
      "['APD']\n",
      "['APD']\n",
      "['APD']\n",
      "['APD']\n",
      "['APD']\n",
      "['APD']\n",
      "['APD']\n",
      "['APD']\n",
      "['APD']\n"
     ]
    },
    {
     "name": "stderr",
     "output_type": "stream",
     "text": [
      "\r",
      "Meta-RL Agent Loop:   2%|▏         | 351/17441 [13:53<9:07:47,  1.92s/it]"
     ]
    },
    {
     "name": "stdout",
     "output_type": "stream",
     "text": [
      "['APD']\n",
      "['APD']\n",
      "['APD']\n",
      "['APD']\n",
      "['APD']\n",
      "['APD']\n",
      "['APD']\n",
      "['APD']\n",
      "['APD']\n",
      "['APD']\n",
      "['APD']\n",
      "['APD']\n",
      "['APD']\n",
      "['APD']\n",
      "['APD']\n",
      "['APD']\n",
      "['APD']\n",
      "['APD']\n",
      "['APD']\n",
      "['APD']\n",
      "['APD']\n",
      "['APD']\n",
      "['APD']\n",
      "['APD']\n"
     ]
    },
    {
     "name": "stderr",
     "output_type": "stream",
     "text": [
      "\r",
      "Meta-RL Agent Loop:   2%|▏         | 352/17441 [13:55<9:00:40,  1.90s/it]"
     ]
    },
    {
     "name": "stdout",
     "output_type": "stream",
     "text": [
      "['APD']\n",
      "['APD']\n",
      "['APD']\n",
      "['APD']\n",
      "['APD']\n",
      "['APD']\n",
      "['APD']\n",
      "['APD']\n",
      "['APD']\n",
      "['APD']\n",
      "['APD']\n",
      "['APD']\n",
      "['APD']\n",
      "['APD']\n",
      "['APD']\n",
      "['APD']\n",
      "['APD']\n",
      "['APD']\n",
      "['APD']\n",
      "['APD']\n",
      "['APD']\n",
      "['APD']\n",
      "['APD']\n",
      "['APD']\n"
     ]
    },
    {
     "name": "stderr",
     "output_type": "stream",
     "text": [
      "\r",
      "Meta-RL Agent Loop:   2%|▏         | 353/17441 [13:57<9:21:47,  1.97s/it]"
     ]
    },
    {
     "name": "stdout",
     "output_type": "stream",
     "text": [
      "['APD']\n",
      "['APD']\n",
      "['APD']\n",
      "['APD']\n",
      "['APD']\n",
      "['APD']\n",
      "['APD']\n",
      "['APD']\n",
      "['APD']\n",
      "['APD']\n",
      "['APD']\n",
      "['APD']\n",
      "['APD']\n",
      "['APD']\n",
      "['APD']\n",
      "['APD']\n",
      "['APD']\n",
      "['APD']\n",
      "['APD']\n",
      "['APD']\n",
      "['APD']\n",
      "['APD']\n",
      "['APD']\n",
      "['APD']\n"
     ]
    },
    {
     "name": "stderr",
     "output_type": "stream",
     "text": [
      "\r",
      "Meta-RL Agent Loop:   2%|▏         | 354/17441 [14:00<10:10:46,  2.14s/it]"
     ]
    },
    {
     "name": "stdout",
     "output_type": "stream",
     "text": [
      "['APD']\n",
      "['APD']\n",
      "['APD']\n",
      "['APD']\n",
      "['APD']\n",
      "['APD']\n",
      "['APD']\n",
      "['APD']\n",
      "['APD']\n",
      "['APD']\n",
      "['APD']\n",
      "['APD']\n",
      "['APD']\n",
      "['APD']\n",
      "['APD']\n",
      "['APD']\n",
      "['APD']\n",
      "['APD']\n",
      "['APD']\n",
      "['APD']\n",
      "['APD']\n",
      "['APD']\n",
      "['APD']\n",
      "['APD']\n"
     ]
    },
    {
     "name": "stderr",
     "output_type": "stream",
     "text": [
      "\r",
      "Meta-RL Agent Loop:   2%|▏         | 355/17441 [14:02<10:29:56,  2.21s/it]"
     ]
    },
    {
     "name": "stdout",
     "output_type": "stream",
     "text": [
      "['APD']\n",
      "['APD']\n",
      "['APD']\n",
      "['APD']\n",
      "['APD']\n",
      "['APD']\n",
      "['APD']\n",
      "['APD']\n",
      "['APD']\n",
      "['APD']\n",
      "['APD']\n",
      "['APD']\n",
      "['APD']\n",
      "['APD']\n",
      "['APD']\n",
      "['APD']\n",
      "['APD']\n",
      "['APD']\n",
      "['APD']\n",
      "['APD']\n",
      "['APD']\n",
      "['APD']\n",
      "['APD']\n",
      "['APD']\n"
     ]
    },
    {
     "name": "stderr",
     "output_type": "stream",
     "text": [
      "\r",
      "Meta-RL Agent Loop:   2%|▏         | 356/17441 [14:04<10:18:17,  2.17s/it]"
     ]
    },
    {
     "name": "stdout",
     "output_type": "stream",
     "text": [
      "['APD']\n",
      "['APD']\n",
      "['APD']\n",
      "['APD']\n",
      "['APD']\n",
      "['APD']\n",
      "['APD']\n",
      "['APD']\n",
      "['APD']\n",
      "['APD']\n",
      "['APD']\n",
      "['APD']\n",
      "['APD']\n",
      "['APD']\n",
      "['APD']\n",
      "['APD']\n",
      "['APD']\n",
      "['APD']\n",
      "['APD']\n",
      "['APD']\n",
      "['APD']\n",
      "['APD']\n",
      "['APD']\n",
      "['APD']\n"
     ]
    },
    {
     "name": "stderr",
     "output_type": "stream",
     "text": [
      "\r",
      "Meta-RL Agent Loop:   2%|▏         | 357/17441 [14:06<9:54:02,  2.09s/it] "
     ]
    },
    {
     "name": "stdout",
     "output_type": "stream",
     "text": [
      "['APD']\n",
      "['APD']\n",
      "['APD']\n",
      "['APD']\n",
      "['APD']\n",
      "['APD']\n",
      "['APD']\n",
      "['APD']\n",
      "['APD']\n",
      "['APD']\n",
      "['APD']\n",
      "['APD']\n",
      "['APD']\n",
      "['APD']\n",
      "['APD']\n",
      "['APD']\n",
      "['APD']\n",
      "['APD']\n",
      "['APD']\n",
      "['APD']\n",
      "['APD']\n",
      "['APD']\n",
      "['APD']\n",
      "['APD']\n"
     ]
    },
    {
     "name": "stderr",
     "output_type": "stream",
     "text": [
      "\r",
      "Meta-RL Agent Loop:   2%|▏         | 358/17441 [14:08<9:54:09,  2.09s/it]"
     ]
    },
    {
     "name": "stdout",
     "output_type": "stream",
     "text": [
      "['APD']\n",
      "['APD']\n",
      "['APD']\n",
      "['APD']\n",
      "['APD']\n",
      "['APD']\n",
      "['APD']\n",
      "['APD']\n",
      "['APD']\n",
      "['APD']\n",
      "['APD']\n",
      "['APD']\n",
      "['APD']\n",
      "['APD']\n",
      "['APD']\n",
      "['APD']\n",
      "['APD']\n",
      "['APD']\n",
      "['APD']\n",
      "['APD']\n",
      "['APD']\n",
      "['APD']\n",
      "['APD']\n",
      "['APD']\n"
     ]
    },
    {
     "name": "stderr",
     "output_type": "stream",
     "text": [
      "\r",
      "Meta-RL Agent Loop:   2%|▏         | 359/17441 [14:10<9:51:27,  2.08s/it]"
     ]
    },
    {
     "name": "stdout",
     "output_type": "stream",
     "text": [
      "['APD']\n",
      "['APD']\n",
      "['APD']\n",
      "['APD']\n",
      "['APD']\n",
      "['APD']\n",
      "['APD']\n",
      "['APD']\n",
      "['APD']\n",
      "['APD']\n",
      "['APD']\n",
      "['APD']\n",
      "['APD']\n",
      "['APD']\n",
      "['APD']\n",
      "['APD']\n",
      "['APD']\n",
      "['APD']\n",
      "['APD']\n",
      "['APD']\n",
      "['APD']\n",
      "['APD']\n",
      "['APD']\n",
      "['APD']\n"
     ]
    },
    {
     "name": "stderr",
     "output_type": "stream",
     "text": [
      "\r",
      "Meta-RL Agent Loop:   2%|▏         | 360/17441 [14:13<10:03:37,  2.12s/it]"
     ]
    },
    {
     "name": "stdout",
     "output_type": "stream",
     "text": [
      "['APD']\n",
      "['APD']\n",
      "['APD']\n",
      "['APD']\n",
      "['APD']\n",
      "['APD']\n",
      "['APD']\n",
      "['APD']\n",
      "['APD']\n",
      "['APD']\n",
      "['APD']\n",
      "['APD']\n",
      "['APD']\n",
      "['APD']\n",
      "['APD']\n",
      "['APD']\n",
      "['APD']\n",
      "['APD']\n",
      "['APD']\n",
      "['APD']\n",
      "['APD']\n",
      "['APD']\n",
      "['APD']\n",
      "['APD']\n"
     ]
    },
    {
     "name": "stderr",
     "output_type": "stream",
     "text": [
      "\r",
      "Meta-RL Agent Loop:   2%|▏         | 361/17441 [14:15<10:57:18,  2.31s/it]"
     ]
    },
    {
     "name": "stdout",
     "output_type": "stream",
     "text": [
      "['APD']\n",
      "['APD']\n",
      "['APD']\n",
      "['APD']\n",
      "['APD']\n",
      "['APD']\n",
      "['APD']\n",
      "['APD']\n",
      "['APD']\n",
      "['APD']\n",
      "['APD']\n",
      "['APD']\n",
      "['APD']\n",
      "['APD']\n",
      "['APD']\n",
      "['APD']\n",
      "['APD']\n",
      "['APD']\n",
      "['APD']\n",
      "['APD']\n",
      "['APD']\n",
      "['APD']\n",
      "['APD']\n",
      "['APD']\n"
     ]
    },
    {
     "name": "stderr",
     "output_type": "stream",
     "text": [
      "\r",
      "Meta-RL Agent Loop:   2%|▏         | 362/17441 [14:18<11:21:46,  2.40s/it]"
     ]
    },
    {
     "name": "stdout",
     "output_type": "stream",
     "text": [
      "['APD']\n",
      "['APD']\n",
      "['APD']\n",
      "['APD']\n",
      "['APD']\n",
      "['APD']\n",
      "['APD']\n",
      "['APD']\n",
      "['APD']\n",
      "['APD']\n",
      "['APD']\n",
      "['APD']\n",
      "['APD']\n",
      "['APD']\n",
      "['APD']\n",
      "['APD']\n",
      "['APD']\n",
      "['APD']\n",
      "['APD']\n",
      "['APD']\n",
      "['APD']\n",
      "['APD']\n",
      "['APD']\n",
      "['APD']\n"
     ]
    },
    {
     "name": "stderr",
     "output_type": "stream",
     "text": [
      "\r",
      "Meta-RL Agent Loop:   2%|▏         | 363/17441 [14:20<10:42:04,  2.26s/it]"
     ]
    },
    {
     "name": "stdout",
     "output_type": "stream",
     "text": [
      "['APD']\n",
      "['APD']\n",
      "['APD']\n",
      "['APD']\n",
      "['APD']\n",
      "['APD']\n",
      "['APD']\n",
      "['APD']\n",
      "['APD']\n",
      "['APD']\n",
      "['APD']\n",
      "['APD']\n",
      "['APD']\n",
      "['APD']\n",
      "['APD']\n",
      "['APD']\n",
      "['APD']\n",
      "['APD']\n",
      "['APD']\n",
      "['APD']\n",
      "['APD']\n",
      "['APD']\n",
      "['APD']\n",
      "['APD']\n"
     ]
    },
    {
     "name": "stderr",
     "output_type": "stream",
     "text": [
      "\r",
      "Meta-RL Agent Loop:   2%|▏         | 364/17441 [14:22<10:09:51,  2.14s/it]"
     ]
    },
    {
     "name": "stdout",
     "output_type": "stream",
     "text": [
      "['APD']\n",
      "['APD']\n",
      "['APD']\n",
      "['APD']\n",
      "['APD']\n",
      "['APD']\n",
      "['APD']\n",
      "['APD']\n",
      "['APD']\n",
      "['APD']\n",
      "['APD']\n",
      "['APD']\n",
      "['APD']\n",
      "['APD']\n",
      "['APD']\n",
      "['APD']\n",
      "['APD']\n",
      "['APD']\n",
      "['APD']\n",
      "['APD']\n",
      "['APD']\n",
      "['APD']\n",
      "['APD']\n",
      "['APD']\n"
     ]
    },
    {
     "name": "stderr",
     "output_type": "stream",
     "text": [
      "\r",
      "Meta-RL Agent Loop:   2%|▏         | 365/17441 [14:24<9:56:10,  2.09s/it] "
     ]
    },
    {
     "name": "stdout",
     "output_type": "stream",
     "text": [
      "['APD']\n",
      "['APD']\n",
      "['APD']\n",
      "['APD']\n",
      "['APD']\n",
      "['APD']\n",
      "['APD']\n",
      "['APD']\n",
      "['APD']\n",
      "['APD']\n",
      "['APD']\n",
      "['APD']\n",
      "['APD']\n",
      "['APD']\n",
      "['APD']\n",
      "['APD']\n",
      "['APD']\n",
      "['APD']\n",
      "['APD']\n",
      "['APD']\n",
      "['APD']\n",
      "['APD']\n",
      "['APD']\n",
      "['APD']\n"
     ]
    },
    {
     "name": "stderr",
     "output_type": "stream",
     "text": [
      "\r",
      "Meta-RL Agent Loop:   2%|▏         | 366/17441 [14:25<9:30:37,  2.01s/it]"
     ]
    },
    {
     "name": "stdout",
     "output_type": "stream",
     "text": [
      "['APD']\n",
      "['APD']\n",
      "['APD']\n",
      "['APD']\n",
      "['APD']\n",
      "['APD']\n",
      "['APD']\n",
      "['APD']\n",
      "['APD']\n",
      "['APD']\n",
      "['APD']\n",
      "['APD']\n",
      "['APD']\n",
      "['APD']\n",
      "['APD']\n",
      "['APD']\n",
      "['APD']\n",
      "['APD']\n",
      "['APD']\n",
      "['APD']\n",
      "['APD']\n",
      "['APD']\n",
      "['APD']\n",
      "['APD']\n"
     ]
    },
    {
     "name": "stderr",
     "output_type": "stream",
     "text": [
      "\r",
      "Meta-RL Agent Loop:   2%|▏         | 367/17441 [14:27<8:41:30,  1.83s/it]"
     ]
    },
    {
     "name": "stdout",
     "output_type": "stream",
     "text": [
      "['APD']\n",
      "['APD']\n",
      "['APD']\n",
      "['APD']\n",
      "['APD']\n",
      "['APD']\n",
      "['APD']\n",
      "['APD']\n",
      "['APD']\n",
      "['APD']\n",
      "['APD']\n",
      "['APD']\n",
      "['APD']\n",
      "['APD']\n",
      "['APD']\n",
      "['APD']\n",
      "['APD']\n",
      "['APD']\n",
      "['APD']\n",
      "['APD']\n",
      "['APD']\n",
      "['APD']\n",
      "['APD']\n",
      "['APD']\n"
     ]
    },
    {
     "name": "stderr",
     "output_type": "stream",
     "text": [
      "\r",
      "Meta-RL Agent Loop:   2%|▏         | 368/17441 [14:29<8:37:37,  1.82s/it]"
     ]
    },
    {
     "name": "stdout",
     "output_type": "stream",
     "text": [
      "['APD']\n",
      "['APD']\n",
      "['APD']\n",
      "['APD']\n",
      "['APD']\n",
      "['APD']\n",
      "['APD']\n",
      "['APD']\n",
      "['APD']\n",
      "['APD']\n",
      "['APD']\n",
      "['APD']\n",
      "['APD']\n",
      "['APD']\n",
      "['APD']\n",
      "['APD']\n",
      "['APD']\n",
      "['APD']\n",
      "['APD']\n",
      "['APD']\n",
      "['APD']\n",
      "['APD']\n",
      "['APD']\n",
      "['APD']\n"
     ]
    },
    {
     "name": "stderr",
     "output_type": "stream",
     "text": [
      "\r",
      "Meta-RL Agent Loop:   2%|▏         | 369/17441 [14:32<10:12:06,  2.15s/it]"
     ]
    },
    {
     "name": "stdout",
     "output_type": "stream",
     "text": [
      "['APD']\n",
      "['APD']\n",
      "['APD']\n",
      "['APD']\n",
      "['APD']\n",
      "['APD']\n",
      "['APD']\n",
      "['APD']\n",
      "['APD']\n",
      "['APD']\n",
      "['APD']\n",
      "['APD']\n",
      "['APD']\n",
      "['APD']\n",
      "['APD']\n",
      "['APD']\n",
      "['APD']\n",
      "['APD']\n",
      "['APD']\n",
      "['APD']\n",
      "['APD']\n",
      "['APD']\n",
      "['APD']\n",
      "['APD']\n"
     ]
    },
    {
     "name": "stderr",
     "output_type": "stream",
     "text": [
      "\r",
      "Meta-RL Agent Loop:   2%|▏         | 370/17441 [14:34<10:41:47,  2.26s/it]"
     ]
    },
    {
     "name": "stdout",
     "output_type": "stream",
     "text": [
      "['APD']\n",
      "['APD']\n",
      "['APD']\n",
      "['APD']\n",
      "['APD']\n",
      "['APD']\n",
      "['APD']\n",
      "['APD']\n",
      "['APD']\n",
      "['APD']\n",
      "['APD']\n",
      "['APD']\n",
      "['APD']\n",
      "['APD']\n",
      "['APD']\n",
      "['APD']\n",
      "['APD']\n",
      "['APD']\n",
      "['APD']\n",
      "['APD']\n",
      "['APD']\n",
      "['APD']\n",
      "['APD']\n",
      "['APD']\n"
     ]
    },
    {
     "name": "stderr",
     "output_type": "stream",
     "text": [
      "\r",
      "Meta-RL Agent Loop:   2%|▏         | 371/17441 [14:36<10:31:45,  2.22s/it]"
     ]
    },
    {
     "name": "stdout",
     "output_type": "stream",
     "text": [
      "['APD']\n",
      "['APD']\n",
      "['APD']\n",
      "['APD']\n",
      "['APD']\n",
      "['APD']\n",
      "['APD']\n",
      "['APD']\n",
      "['APD']\n",
      "['APD']\n",
      "['APD']\n",
      "['APD']\n",
      "['APD']\n",
      "['APD']\n",
      "['APD']\n",
      "['APD']\n",
      "['APD']\n",
      "['APD']\n",
      "['APD']\n",
      "['APD']\n",
      "['APD']\n",
      "['APD']\n",
      "['APD']\n",
      "['APD']\n"
     ]
    },
    {
     "name": "stderr",
     "output_type": "stream",
     "text": [
      "\r",
      "Meta-RL Agent Loop:   2%|▏         | 372/17441 [14:39<10:33:34,  2.23s/it]"
     ]
    },
    {
     "name": "stdout",
     "output_type": "stream",
     "text": [
      "['APD']\n",
      "['APD']\n",
      "['APD']\n",
      "['APD']\n",
      "['APD']\n",
      "['APD']\n",
      "['APD']\n",
      "['APD']\n",
      "['APD']\n",
      "['APD']\n",
      "['APD']\n",
      "['APD']\n",
      "['APD']\n",
      "['APD']\n",
      "['APD']\n",
      "['APD']\n",
      "['APD']\n",
      "['APD']\n",
      "['APD']\n",
      "['APD']\n",
      "['APD']\n",
      "['APD']\n",
      "['APD']\n",
      "['APD']\n"
     ]
    },
    {
     "name": "stderr",
     "output_type": "stream",
     "text": [
      "\r",
      "Meta-RL Agent Loop:   2%|▏         | 373/17441 [14:41<10:32:51,  2.22s/it]"
     ]
    },
    {
     "name": "stdout",
     "output_type": "stream",
     "text": [
      "['APD']\n",
      "['APD']\n",
      "['APD']\n",
      "['APD']\n",
      "['APD']\n",
      "['APD']\n",
      "['APD']\n",
      "['APD']\n",
      "['APD']\n",
      "['APD']\n",
      "['APD']\n",
      "['APD']\n",
      "['APD']\n",
      "['APD']\n",
      "['APD']\n",
      "['APD']\n",
      "['APD']\n",
      "['APD']\n",
      "['APD']\n",
      "['APD']\n",
      "['APD']\n",
      "['APD']\n",
      "['APD']\n",
      "['APD']\n"
     ]
    },
    {
     "name": "stderr",
     "output_type": "stream",
     "text": [
      "\r",
      "Meta-RL Agent Loop:   2%|▏         | 374/17441 [14:43<10:47:42,  2.28s/it]"
     ]
    },
    {
     "name": "stdout",
     "output_type": "stream",
     "text": [
      "['APD']\n",
      "['APD']\n",
      "['APD']\n",
      "['APD']\n",
      "['APD']\n",
      "['APD']\n",
      "['APD']\n",
      "['APD']\n",
      "['APD']\n",
      "['APD']\n",
      "['APD']\n",
      "['APD']\n",
      "['APD']\n",
      "['APD']\n",
      "['APD']\n",
      "['APD']\n",
      "['APD']\n",
      "['APD']\n",
      "['APD']\n",
      "['APD']\n",
      "['APD']\n",
      "['APD']\n",
      "['APD']\n",
      "['APD']\n"
     ]
    },
    {
     "name": "stderr",
     "output_type": "stream",
     "text": [
      "\r",
      "Meta-RL Agent Loop:   2%|▏         | 375/17441 [14:46<11:21:10,  2.39s/it]"
     ]
    },
    {
     "name": "stdout",
     "output_type": "stream",
     "text": [
      "['APD']\n",
      "['APD']\n",
      "['APD']\n",
      "['APD']\n",
      "['APD']\n",
      "['APD']\n",
      "['APD']\n",
      "['APD']\n",
      "['APD']\n",
      "['APD']\n",
      "['APD']\n",
      "['APD']\n",
      "['APD']\n",
      "['APD']\n",
      "['APD']\n",
      "['APD']\n",
      "['APD']\n",
      "['APD']\n",
      "['APD']\n",
      "['APD']\n",
      "['APD']\n",
      "['APD']\n",
      "['APD']\n",
      "['APD']\n"
     ]
    },
    {
     "name": "stderr",
     "output_type": "stream",
     "text": [
      "\r",
      "Meta-RL Agent Loop:   2%|▏         | 376/17441 [14:49<11:52:40,  2.51s/it]"
     ]
    },
    {
     "name": "stdout",
     "output_type": "stream",
     "text": [
      "['APD']\n",
      "['APD']\n",
      "['APD']\n",
      "['APD']\n",
      "['APD']\n",
      "['APD']\n",
      "['APD']\n",
      "['APD']\n",
      "['APD']\n",
      "['APD']\n",
      "['APD']\n",
      "['APD']\n",
      "['APD']\n",
      "['APD']\n",
      "['APD']\n",
      "['APD']\n",
      "['APD']\n",
      "['APD']\n",
      "['APD']\n",
      "['APD']\n",
      "['APD']\n",
      "['APD']\n",
      "['APD']\n",
      "['APD']\n"
     ]
    },
    {
     "name": "stderr",
     "output_type": "stream",
     "text": [
      "\r",
      "Meta-RL Agent Loop:   2%|▏         | 377/17441 [14:51<12:17:21,  2.59s/it]"
     ]
    },
    {
     "name": "stdout",
     "output_type": "stream",
     "text": [
      "['APD']\n",
      "['APD']\n",
      "['APD']\n",
      "['APD']\n",
      "['APD']\n",
      "['APD']\n",
      "['APD']\n",
      "['APD']\n",
      "['APD']\n",
      "['APD']\n",
      "['APD']\n",
      "['APD']\n",
      "['APD']\n",
      "['APD']\n",
      "['APD']\n",
      "['APD']\n",
      "['APD']\n",
      "['APD']\n",
      "['APD']\n",
      "['APD']\n",
      "['APD']\n",
      "['APD']\n",
      "['APD']\n",
      "['APD']\n"
     ]
    },
    {
     "name": "stderr",
     "output_type": "stream",
     "text": [
      "\r",
      "Meta-RL Agent Loop:   2%|▏         | 378/17441 [14:53<11:21:57,  2.40s/it]"
     ]
    },
    {
     "name": "stdout",
     "output_type": "stream",
     "text": [
      "['APD']\n",
      "['APD']\n",
      "['APD']\n",
      "['APD']\n",
      "['APD']\n",
      "['APD']\n",
      "['APD']\n",
      "['APD']\n",
      "['APD']\n",
      "['APD']\n",
      "['APD']\n",
      "['APD']\n",
      "['APD']\n",
      "['APD']\n",
      "['APD']\n",
      "['APD']\n",
      "['APD']\n",
      "['APD']\n",
      "['APD']\n",
      "['APD']\n",
      "['APD']\n",
      "['APD']\n",
      "['APD']\n",
      "['APD']\n"
     ]
    },
    {
     "name": "stderr",
     "output_type": "stream",
     "text": [
      "\r",
      "Meta-RL Agent Loop:   2%|▏         | 379/17441 [14:55<10:40:05,  2.25s/it]"
     ]
    },
    {
     "name": "stdout",
     "output_type": "stream",
     "text": [
      "['APD']\n",
      "['APD']\n",
      "['APD']\n",
      "['APD']\n",
      "['APD']\n",
      "['APD']\n",
      "['APD']\n",
      "['APD']\n",
      "['APD']\n",
      "['APD']\n",
      "['APD']\n",
      "['APD']\n",
      "['APD']\n",
      "['APD']\n",
      "['APD']\n",
      "['APD']\n",
      "['APD']\n",
      "['APD']\n",
      "['APD']\n",
      "['APD']\n",
      "['APD']\n",
      "['APD']\n",
      "['APD']\n",
      "['APD']\n"
     ]
    },
    {
     "name": "stderr",
     "output_type": "stream",
     "text": [
      "\r",
      "Meta-RL Agent Loop:   2%|▏         | 380/17441 [14:57<10:12:21,  2.15s/it]"
     ]
    },
    {
     "name": "stdout",
     "output_type": "stream",
     "text": [
      "['APD']\n",
      "['APD']\n",
      "['APD']\n",
      "['APD']\n",
      "['APD']\n",
      "['APD']\n",
      "['APD']\n",
      "['APD']\n",
      "['APD']\n",
      "['APD']\n",
      "['APD']\n",
      "['APD']\n",
      "['APD']\n",
      "['APD']\n",
      "['APD']\n",
      "['APD']\n",
      "['APD']\n",
      "['APD']\n",
      "['APD']\n",
      "['APD']\n",
      "['APD']\n",
      "['APD']\n",
      "['APD']\n",
      "['APD']\n"
     ]
    },
    {
     "name": "stderr",
     "output_type": "stream",
     "text": [
      "\r",
      "Meta-RL Agent Loop:   2%|▏         | 381/17441 [14:59<9:50:14,  2.08s/it] "
     ]
    },
    {
     "name": "stdout",
     "output_type": "stream",
     "text": [
      "['APD']\n",
      "['APD']\n",
      "['APD']\n",
      "['APD']\n",
      "['APD']\n",
      "['APD']\n",
      "['APD']\n",
      "['APD']\n",
      "['APD']\n",
      "['APD']\n",
      "['APD']\n",
      "['APD']\n",
      "['APD']\n",
      "['APD']\n",
      "['APD']\n",
      "['APD']\n",
      "['APD']\n",
      "['APD']\n",
      "['APD']\n",
      "['APD']\n",
      "['APD']\n",
      "['APD']\n",
      "['APD']\n",
      "['APD']\n"
     ]
    },
    {
     "name": "stderr",
     "output_type": "stream",
     "text": [
      "\r",
      "Meta-RL Agent Loop:   2%|▏         | 382/17441 [15:02<10:25:47,  2.20s/it]"
     ]
    },
    {
     "name": "stdout",
     "output_type": "stream",
     "text": [
      "['APD']\n",
      "['APD']\n",
      "['APD']\n",
      "['APD']\n",
      "['APD']\n",
      "['APD']\n",
      "['APD']\n",
      "['APD']\n",
      "['APD']\n",
      "['APD']\n",
      "['APD']\n",
      "['APD']\n",
      "['APD']\n",
      "['APD']\n",
      "['APD']\n",
      "['APD']\n",
      "['APD']\n",
      "['APD']\n",
      "['APD']\n",
      "['APD']\n",
      "['APD']\n",
      "['APD']\n",
      "['APD']\n",
      "['APD']\n"
     ]
    },
    {
     "name": "stderr",
     "output_type": "stream",
     "text": [
      "\r",
      "Meta-RL Agent Loop:   2%|▏         | 383/17441 [15:04<10:46:01,  2.27s/it]"
     ]
    },
    {
     "name": "stdout",
     "output_type": "stream",
     "text": [
      "['APD']\n",
      "['APD']\n",
      "['APD']\n",
      "['APD']\n",
      "['APD']\n",
      "['APD']\n",
      "['APD']\n",
      "['APD']\n",
      "['APD']\n",
      "['APD']\n",
      "['APD']\n",
      "['APD']\n",
      "['APD']\n",
      "['APD']\n",
      "['APD']\n",
      "['APD']\n",
      "['APD']\n",
      "['APD']\n",
      "['APD']\n",
      "['APD']\n",
      "['APD']\n",
      "['APD']\n",
      "['APD']\n",
      "['APD']\n"
     ]
    },
    {
     "name": "stderr",
     "output_type": "stream",
     "text": [
      "\r",
      "Meta-RL Agent Loop:   2%|▏         | 384/17441 [15:06<10:49:10,  2.28s/it]"
     ]
    },
    {
     "name": "stdout",
     "output_type": "stream",
     "text": [
      "['APD']\n",
      "['APD']\n",
      "['APD']\n",
      "['APD']\n",
      "['APD']\n",
      "['APD']\n",
      "['APD']\n",
      "['APD']\n",
      "['APD']\n",
      "['APD']\n",
      "['APD']\n",
      "['APD']\n",
      "['APD']\n",
      "['APD']\n",
      "['APD']\n",
      "['APD']\n",
      "['APD']\n",
      "['APD']\n",
      "['APD']\n",
      "['APD']\n",
      "['APD']\n",
      "['APD']\n",
      "['APD']\n",
      "['APD']\n"
     ]
    },
    {
     "name": "stderr",
     "output_type": "stream",
     "text": [
      "\r",
      "Meta-RL Agent Loop:   2%|▏         | 385/17441 [15:08<10:28:20,  2.21s/it]"
     ]
    },
    {
     "name": "stdout",
     "output_type": "stream",
     "text": [
      "['APD']\n",
      "['APD']\n",
      "['ABNB']\n",
      "['ABNB']\n",
      "['ABNB']\n",
      "['ABNB']\n",
      "['ABNB']\n",
      "['ABNB']\n",
      "['ABNB']\n",
      "['ABNB']\n",
      "['ABNB']\n",
      "['ABNB']\n",
      "['ABNB']\n",
      "['ABNB']\n",
      "['ABNB']\n",
      "['ABNB']\n",
      "['ABNB']\n",
      "['ABNB']\n",
      "['ABNB']\n",
      "['ABNB']\n",
      "['ABNB']\n",
      "['ABNB']\n",
      "['ABNB']\n",
      "['ABNB']\n"
     ]
    },
    {
     "name": "stderr",
     "output_type": "stream",
     "text": [
      "\r",
      "Meta-RL Agent Loop:   2%|▏         | 386/17441 [15:10<10:06:28,  2.13s/it]"
     ]
    },
    {
     "name": "stdout",
     "output_type": "stream",
     "text": [
      "['ABNB']\n",
      "['ABNB']\n",
      "['ABNB']\n",
      "['ABNB']\n",
      "['ABNB']\n",
      "['ABNB']\n",
      "['ABNB']\n",
      "['ABNB']\n",
      "['ABNB']\n",
      "['ABNB']\n",
      "['ABNB']\n",
      "['ABNB']\n",
      "['ABNB']\n",
      "['ABNB']\n",
      "['ABNB']\n",
      "['ABNB']\n",
      "['ABNB']\n",
      "['ABNB']\n",
      "['ABNB']\n",
      "['ABNB']\n",
      "['ABNB']\n",
      "['ABNB']\n",
      "['ABNB']\n",
      "['ABNB']\n"
     ]
    },
    {
     "name": "stderr",
     "output_type": "stream",
     "text": [
      "\r",
      "Meta-RL Agent Loop:   2%|▏         | 387/17441 [15:12<10:00:57,  2.11s/it]"
     ]
    },
    {
     "name": "stdout",
     "output_type": "stream",
     "text": [
      "['ABNB']\n",
      "['ABNB']\n",
      "['ABNB']\n",
      "['ABNB']\n",
      "['ABNB']\n",
      "['ABNB']\n",
      "['ABNB']\n",
      "['ABNB']\n",
      "['ABNB']\n",
      "['ABNB']\n",
      "['ABNB']\n",
      "['ABNB']\n",
      "['ABNB']\n",
      "['ABNB']\n",
      "['ABNB']\n",
      "['ABNB']\n",
      "['ABNB']\n",
      "['ABNB']\n",
      "['ABNB']\n",
      "['ABNB']\n",
      "['ABNB']\n",
      "['ABNB']\n",
      "['ABNB']\n",
      "['ABNB']\n"
     ]
    },
    {
     "name": "stderr",
     "output_type": "stream",
     "text": [
      "\r",
      "Meta-RL Agent Loop:   2%|▏         | 388/17441 [15:15<10:06:27,  2.13s/it]"
     ]
    },
    {
     "name": "stdout",
     "output_type": "stream",
     "text": [
      "['ABNB']\n",
      "['ABNB']\n",
      "['ABNB']\n",
      "['ABNB']\n",
      "['ABNB']\n",
      "['ABNB']\n",
      "['ABNB']\n",
      "['ABNB']\n",
      "['ABNB']\n",
      "['ABNB']\n",
      "['ABNB']\n",
      "['ABNB']\n",
      "['ABNB']\n",
      "['ABNB']\n",
      "['ABNB']\n",
      "['ABNB']\n",
      "['ABNB']\n",
      "['ABNB']\n",
      "['ABNB']\n",
      "['ABNB']\n",
      "['ABNB']\n",
      "['ABNB']\n",
      "['ABNB']\n",
      "['ABNB']\n"
     ]
    },
    {
     "name": "stderr",
     "output_type": "stream",
     "text": [
      "\r",
      "Meta-RL Agent Loop:   2%|▏         | 389/17441 [15:17<10:32:37,  2.23s/it]"
     ]
    },
    {
     "name": "stdout",
     "output_type": "stream",
     "text": [
      "['ABNB']\n",
      "['ABNB']\n",
      "['ABNB']\n",
      "['ABNB']\n",
      "['ABNB']\n",
      "['ABNB']\n",
      "['ABNB']\n",
      "['ABNB']\n",
      "['ABNB']\n",
      "['ABNB']\n",
      "['ABNB']\n",
      "['ABNB']\n",
      "['ABNB']\n",
      "['ABNB']\n",
      "['ABNB']\n",
      "['ABNB']\n",
      "['ABNB']\n",
      "['ABNB']\n",
      "['ABNB']\n",
      "['ABNB']\n",
      "['ABNB']\n",
      "['ABNB']\n",
      "['ABNB']\n",
      "['ABNB']\n"
     ]
    },
    {
     "name": "stderr",
     "output_type": "stream",
     "text": [
      "\r",
      "Meta-RL Agent Loop:   2%|▏         | 390/17441 [15:20<11:14:31,  2.37s/it]"
     ]
    },
    {
     "name": "stdout",
     "output_type": "stream",
     "text": [
      "['ABNB']\n",
      "['ABNB']\n",
      "['ABNB']\n",
      "['ABNB']\n",
      "['ABNB']\n",
      "['ABNB']\n",
      "['ABNB']\n",
      "['ABNB']\n",
      "['ABNB']\n",
      "['ABNB']\n",
      "['ABNB']\n",
      "['ABNB']\n",
      "['ABNB']\n",
      "['ABNB']\n",
      "['ABNB']\n",
      "['ABNB']\n",
      "['ABNB']\n",
      "['ABNB']\n",
      "['ABNB']\n",
      "['ABNB']\n",
      "['ABNB']\n",
      "['ABNB']\n",
      "['ABNB']\n",
      "['ABNB']\n"
     ]
    },
    {
     "name": "stderr",
     "output_type": "stream",
     "text": [
      "\r",
      "Meta-RL Agent Loop:   2%|▏         | 391/17441 [15:22<11:51:35,  2.50s/it]"
     ]
    },
    {
     "name": "stdout",
     "output_type": "stream",
     "text": [
      "['ABNB']\n",
      "['ABNB']\n",
      "['ABNB']\n",
      "['ABNB']\n",
      "['ABNB']\n",
      "['ABNB']\n",
      "['ABNB']\n",
      "['ABNB']\n",
      "['ABNB']\n",
      "['ABNB']\n",
      "['ABNB']\n",
      "['ABNB']\n",
      "['ABNB']\n",
      "['ABNB']\n",
      "['ABNB']\n",
      "['ABNB']\n",
      "['ABNB']\n",
      "['ABNB']\n",
      "['ABNB']\n",
      "['ABNB']\n",
      "['ABNB']\n",
      "['ABNB']\n",
      "['ABNB']\n",
      "['ABNB']\n"
     ]
    },
    {
     "name": "stderr",
     "output_type": "stream",
     "text": [
      "\r",
      "Meta-RL Agent Loop:   2%|▏         | 392/17441 [15:25<11:57:30,  2.53s/it]"
     ]
    },
    {
     "name": "stdout",
     "output_type": "stream",
     "text": [
      "['ABNB']\n",
      "['ABNB']\n",
      "['ABNB']\n",
      "['ABNB']\n",
      "['ABNB']\n",
      "['ABNB']\n",
      "['ABNB']\n",
      "['ABNB']\n",
      "['ABNB']\n",
      "['ABNB']\n",
      "['ABNB']\n",
      "['ABNB']\n",
      "['ABNB']\n",
      "['ABNB']\n",
      "['ABNB']\n",
      "['ABNB']\n",
      "['ABNB']\n",
      "['ABNB']\n",
      "['ABNB']\n",
      "['ABNB']\n",
      "['ABNB']\n",
      "['ABNB']\n",
      "['ABNB']\n",
      "['ABNB']\n"
     ]
    },
    {
     "name": "stderr",
     "output_type": "stream",
     "text": [
      "\r",
      "Meta-RL Agent Loop:   2%|▏         | 393/17441 [15:27<11:35:01,  2.45s/it]"
     ]
    },
    {
     "name": "stdout",
     "output_type": "stream",
     "text": [
      "['ABNB']\n",
      "['ABNB']\n",
      "['ABNB']\n",
      "['ABNB']\n",
      "['ABNB']\n",
      "['ABNB']\n",
      "['ABNB']\n",
      "['ABNB']\n",
      "['ABNB']\n",
      "['ABNB']\n",
      "['ABNB']\n",
      "['ABNB']\n",
      "['ABNB']\n",
      "['ABNB']\n",
      "['ABNB']\n",
      "['ABNB']\n",
      "['ABNB']\n",
      "['ABNB']\n",
      "['ABNB']\n",
      "['ABNB']\n",
      "['ABNB']\n",
      "['ABNB']\n",
      "['ABNB']\n",
      "['ABNB']\n"
     ]
    },
    {
     "name": "stderr",
     "output_type": "stream",
     "text": [
      "\r",
      "Meta-RL Agent Loop:   2%|▏         | 394/17441 [15:30<11:26:39,  2.42s/it]"
     ]
    },
    {
     "name": "stdout",
     "output_type": "stream",
     "text": [
      "['ABNB']\n",
      "['ABNB']\n",
      "['ABNB']\n",
      "['ABNB']\n",
      "['ABNB']\n",
      "['ABNB']\n",
      "['ABNB']\n",
      "['ABNB']\n",
      "['ABNB']\n",
      "['ABNB']\n",
      "['ABNB']\n",
      "['ABNB']\n",
      "['ABNB']\n",
      "['ABNB']\n",
      "['ABNB']\n",
      "['ABNB']\n",
      "['ABNB']\n",
      "['ABNB']\n",
      "['ABNB']\n",
      "['ABNB']\n",
      "['ABNB']\n",
      "['ABNB']\n",
      "['ABNB']\n",
      "['ABNB']\n"
     ]
    },
    {
     "name": "stderr",
     "output_type": "stream",
     "text": [
      "\r",
      "Meta-RL Agent Loop:   2%|▏         | 395/17441 [15:32<11:31:06,  2.43s/it]"
     ]
    },
    {
     "name": "stdout",
     "output_type": "stream",
     "text": [
      "['ABNB']\n",
      "['ABNB']\n",
      "['ABNB']\n",
      "['ABNB']\n",
      "['ABNB']\n",
      "['ABNB']\n",
      "['ABNB']\n",
      "['ABNB']\n",
      "['ABNB']\n",
      "['ABNB']\n",
      "['ABNB']\n",
      "['ABNB']\n",
      "['ABNB']\n",
      "['ABNB']\n",
      "['ABNB']\n",
      "['ABNB']\n",
      "['ABNB']\n",
      "['ABNB']\n",
      "['ABNB']\n",
      "['ABNB']\n",
      "['ABNB']\n",
      "['ABNB']\n",
      "['ABNB']\n",
      "['ABNB']\n"
     ]
    },
    {
     "name": "stderr",
     "output_type": "stream",
     "text": [
      "\r",
      "Meta-RL Agent Loop:   2%|▏         | 396/17441 [15:35<12:29:38,  2.64s/it]"
     ]
    },
    {
     "name": "stdout",
     "output_type": "stream",
     "text": [
      "['ABNB']\n",
      "['ABNB']\n",
      "['ABNB']\n",
      "['ABNB']\n",
      "['ABNB']\n",
      "['ABNB']\n",
      "['ABNB']\n",
      "['ABNB']\n",
      "['ABNB']\n",
      "['ABNB']\n",
      "['ABNB']\n",
      "['ABNB']\n",
      "['ABNB']\n",
      "['ABNB']\n",
      "['ABNB']\n",
      "['ABNB']\n",
      "['ABNB']\n",
      "['ABNB']\n",
      "['ABNB']\n",
      "['ABNB']\n",
      "['ABNB']\n",
      "['ABNB']\n",
      "['ABNB']\n",
      "['ABNB']\n"
     ]
    },
    {
     "name": "stderr",
     "output_type": "stream",
     "text": [
      "\r",
      "Meta-RL Agent Loop:   2%|▏         | 397/17441 [15:38<13:16:16,  2.80s/it]"
     ]
    },
    {
     "name": "stdout",
     "output_type": "stream",
     "text": [
      "['ABNB']\n",
      "['ABNB']\n",
      "['ABNB']\n",
      "['ABNB']\n",
      "['ABNB']\n",
      "['ABNB']\n",
      "['ABNB']\n",
      "['ABNB']\n",
      "['ABNB']\n",
      "['ABNB']\n",
      "['ABNB']\n",
      "['ABNB']\n",
      "['ABNB']\n",
      "['ABNB']\n",
      "['ABNB']\n",
      "['ABNB']\n",
      "['ABNB']\n",
      "['ABNB']\n",
      "['ABNB']\n",
      "['ABNB']\n",
      "['ABNB']\n",
      "['ABNB']\n",
      "['ABNB']\n",
      "['ABNB']\n"
     ]
    },
    {
     "name": "stderr",
     "output_type": "stream",
     "text": [
      "\r",
      "Meta-RL Agent Loop:   2%|▏         | 398/17441 [15:41<13:21:16,  2.82s/it]"
     ]
    },
    {
     "name": "stdout",
     "output_type": "stream",
     "text": [
      "['ABNB']\n",
      "['ABNB']\n",
      "['ABNB']\n",
      "['ABNB']\n",
      "['ABNB']\n",
      "['ABNB']\n",
      "['ABNB']\n",
      "['ABNB']\n",
      "['ABNB']\n",
      "['ABNB']\n",
      "['ABNB']\n",
      "['ABNB']\n",
      "['ABNB']\n",
      "['ABNB']\n",
      "['ABNB']\n",
      "['ABNB']\n",
      "['ABNB']\n",
      "['ABNB']\n",
      "['ABNB']\n",
      "['ABNB']\n",
      "['ABNB']\n",
      "['ABNB']\n",
      "['ABNB']\n",
      "['ABNB']\n"
     ]
    },
    {
     "name": "stderr",
     "output_type": "stream",
     "text": [
      "\r",
      "Meta-RL Agent Loop:   2%|▏         | 399/17441 [15:44<13:28:34,  2.85s/it]"
     ]
    },
    {
     "name": "stdout",
     "output_type": "stream",
     "text": [
      "['ABNB']\n",
      "['ABNB']\n",
      "['ABNB']\n",
      "['ABNB']\n",
      "['ABNB']\n",
      "['ABNB']\n",
      "['ABNB']\n",
      "['ABNB']\n",
      "['ABNB']\n",
      "['ABNB']\n",
      "['ABNB']\n",
      "['ABNB']\n",
      "['ABNB']\n",
      "['ABNB']\n",
      "['ABNB']\n",
      "['ABNB']\n",
      "['ABNB']\n",
      "['ABNB']\n",
      "['ABNB']\n",
      "['ABNB']\n",
      "['ABNB']\n",
      "['ABNB']\n",
      "['ABNB']\n",
      "['ABNB']\n"
     ]
    },
    {
     "name": "stderr",
     "output_type": "stream",
     "text": [
      "\r",
      "Meta-RL Agent Loop:   2%|▏         | 400/17441 [15:47<12:59:32,  2.74s/it]"
     ]
    },
    {
     "name": "stdout",
     "output_type": "stream",
     "text": [
      "['ABNB']\n",
      "['ABNB']\n",
      "['ABNB']\n",
      "['ABNB']\n",
      "['ABNB']\n",
      "['ABNB']\n",
      "['ABNB']\n",
      "['ABNB']\n",
      "['ABNB']\n",
      "['ABNB']\n",
      "['ABNB']\n",
      "['ABNB']\n",
      "['ABNB']\n",
      "['ABNB']\n",
      "['ABNB']\n",
      "['ABNB']\n",
      "['ABNB']\n",
      "['ABNB']\n",
      "['ABNB']\n",
      "['ABNB']\n",
      "['ABNB']\n",
      "['ABNB']\n",
      "['ABNB']\n",
      "['ABNB']\n"
     ]
    },
    {
     "name": "stderr",
     "output_type": "stream",
     "text": [
      "\r",
      "Meta-RL Agent Loop:   2%|▏         | 401/17441 [15:50<13:22:49,  2.83s/it]"
     ]
    },
    {
     "name": "stdout",
     "output_type": "stream",
     "text": [
      "['ABNB']\n",
      "['ABNB']\n",
      "['ABNB']\n",
      "['ABNB']\n",
      "['ABNB']\n",
      "['ABNB']\n",
      "['ABNB']\n",
      "['ABNB']\n",
      "['ABNB']\n",
      "['ABNB']\n",
      "['ABNB']\n",
      "['ABNB']\n",
      "['ABNB']\n",
      "['ABNB']\n",
      "['ABNB']\n",
      "['ABNB']\n",
      "['ABNB']\n",
      "['ABNB']\n",
      "['ABNB']\n",
      "['ABNB']\n",
      "['ABNB']\n",
      "['ABNB']\n",
      "['ABNB']\n",
      "['ABNB']\n"
     ]
    },
    {
     "name": "stderr",
     "output_type": "stream",
     "text": [
      "\r",
      "Meta-RL Agent Loop:   2%|▏         | 402/17441 [15:53<14:06:43,  2.98s/it]"
     ]
    },
    {
     "name": "stdout",
     "output_type": "stream",
     "text": [
      "['ABNB']\n",
      "['ABNB']\n",
      "['ABNB']\n",
      "['ABNB']\n",
      "['ABNB']\n",
      "['ABNB']\n",
      "['ABNB']\n",
      "['ABNB']\n",
      "['ABNB']\n",
      "['ABNB']\n",
      "['ABNB']\n",
      "['ABNB']\n",
      "['ABNB']\n",
      "['ABNB']\n",
      "['ABNB']\n",
      "['ABNB']\n",
      "['ABNB']\n",
      "['ABNB']\n",
      "['ABNB']\n",
      "['ABNB']\n",
      "['ABNB']\n",
      "['ABNB']\n",
      "['ABNB']\n",
      "['ABNB']\n"
     ]
    },
    {
     "name": "stderr",
     "output_type": "stream",
     "text": [
      "\r",
      "Meta-RL Agent Loop:   2%|▏         | 403/17441 [15:56<14:40:41,  3.10s/it]"
     ]
    },
    {
     "name": "stdout",
     "output_type": "stream",
     "text": [
      "['ABNB']\n",
      "['ABNB']\n",
      "['ABNB']\n",
      "['ABNB']\n",
      "['ABNB']\n",
      "['ABNB']\n",
      "['ABNB']\n",
      "['ABNB']\n",
      "['ABNB']\n",
      "['ABNB']\n",
      "['ABNB']\n",
      "['ABNB']\n",
      "['ABNB']\n",
      "['ABNB']\n",
      "['ABNB']\n",
      "['ABNB']\n",
      "['ABNB']\n",
      "['ABNB']\n",
      "['ABNB']\n",
      "['ABNB']\n",
      "['ABNB']\n",
      "['ABNB']\n",
      "['ABNB']\n",
      "['ABNB']\n"
     ]
    },
    {
     "name": "stderr",
     "output_type": "stream",
     "text": [
      "\r",
      "Meta-RL Agent Loop:   2%|▏         | 404/17441 [15:59<14:20:58,  3.03s/it]"
     ]
    },
    {
     "name": "stdout",
     "output_type": "stream",
     "text": [
      "['ABNB']\n",
      "['ABNB']\n",
      "['ABNB']\n",
      "['ABNB']\n",
      "['ABNB']\n",
      "['ABNB']\n",
      "['ABNB']\n",
      "['ABNB']\n",
      "['ABNB']\n",
      "['ABNB']\n",
      "['ABNB']\n",
      "['ABNB']\n",
      "['ABNB']\n",
      "['ABNB']\n",
      "['ABNB']\n",
      "['ABNB']\n",
      "['ABNB']\n",
      "['ABNB']\n",
      "['ABNB']\n",
      "['ABNB']\n",
      "['ABNB']\n",
      "['ABNB']\n",
      "['ABNB']\n",
      "['ABNB']\n"
     ]
    },
    {
     "name": "stderr",
     "output_type": "stream",
     "text": [
      "\r",
      "Meta-RL Agent Loop:   2%|▏         | 405/17441 [16:02<13:13:05,  2.79s/it]"
     ]
    },
    {
     "name": "stdout",
     "output_type": "stream",
     "text": [
      "['ABNB']\n",
      "['ABNB']\n",
      "['ABNB']\n",
      "['ABNB']\n",
      "['ABNB']\n",
      "['ABNB']\n",
      "['ABNB']\n",
      "['ABNB']\n",
      "['ABNB']\n",
      "['ABNB']\n",
      "['ABNB']\n",
      "['ABNB']\n",
      "['ABNB']\n",
      "['ABNB']\n",
      "['ABNB']\n",
      "['ABNB']\n",
      "['ABNB']\n",
      "['ABNB']\n",
      "['ABNB']\n",
      "['ABNB']\n",
      "['ABNB']\n",
      "['ABNB']\n",
      "['ABNB']\n",
      "['ABNB']\n"
     ]
    },
    {
     "name": "stderr",
     "output_type": "stream",
     "text": [
      "\r",
      "Meta-RL Agent Loop:   2%|▏         | 406/17441 [16:04<13:25:02,  2.84s/it]"
     ]
    },
    {
     "name": "stdout",
     "output_type": "stream",
     "text": [
      "['ABNB']\n",
      "['ABNB']\n",
      "['ABNB']\n",
      "['ABNB']\n",
      "['ABNB']\n",
      "['ABNB']\n",
      "['ABNB']\n",
      "['ABNB']\n",
      "['ABNB']\n",
      "['ABNB']\n",
      "['ABNB']\n",
      "['ABNB']\n",
      "['ABNB']\n",
      "['ABNB']\n",
      "['ABNB']\n",
      "['ABNB']\n",
      "['ABNB']\n",
      "['ABNB']\n",
      "['ABNB']\n",
      "['ABNB']\n",
      "['ABNB']\n",
      "['ABNB']\n",
      "['ABNB']\n",
      "['ABNB']\n"
     ]
    },
    {
     "name": "stderr",
     "output_type": "stream",
     "text": [
      "\r",
      "Meta-RL Agent Loop:   2%|▏         | 407/17441 [16:08<14:13:09,  3.01s/it]"
     ]
    },
    {
     "name": "stdout",
     "output_type": "stream",
     "text": [
      "['ABNB']\n",
      "['ABNB']\n",
      "['ABNB']\n",
      "['ABNB']\n",
      "['ABNB']\n",
      "['ABNB']\n",
      "['ABNB']\n",
      "['ABNB']\n",
      "['ABNB']\n",
      "['ABNB']\n",
      "['ABNB']\n",
      "['ABNB']\n",
      "['ABNB']\n",
      "['ABNB']\n",
      "['ABNB']\n",
      "['ABNB']\n",
      "['ABNB']\n",
      "['ABNB']\n",
      "['ABNB']\n",
      "['ABNB']\n",
      "['ABNB']\n",
      "['ABNB']\n",
      "['ABNB']\n",
      "['ABNB']\n"
     ]
    },
    {
     "name": "stderr",
     "output_type": "stream",
     "text": [
      "\r",
      "Meta-RL Agent Loop:   2%|▏         | 408/17441 [16:11<15:00:23,  3.17s/it]"
     ]
    },
    {
     "name": "stdout",
     "output_type": "stream",
     "text": [
      "['ABNB']\n",
      "['ABNB']\n",
      "['ABNB']\n",
      "['ABNB']\n",
      "['ABNB']\n",
      "['ABNB']\n",
      "['ABNB']\n",
      "['ABNB']\n",
      "['ABNB']\n",
      "['ABNB']\n",
      "['ABNB']\n",
      "['ABNB']\n",
      "['ABNB']\n",
      "['ABNB']\n",
      "['ABNB']\n",
      "['ABNB']\n",
      "['ABNB']\n",
      "['ABNB']\n",
      "['ABNB']\n",
      "['ABNB']\n",
      "['ABNB']\n",
      "['ABNB']\n",
      "['ABNB']\n",
      "['ABNB']\n"
     ]
    },
    {
     "name": "stderr",
     "output_type": "stream",
     "text": [
      "\r",
      "Meta-RL Agent Loop:   2%|▏         | 409/17441 [16:15<14:59:53,  3.17s/it]"
     ]
    },
    {
     "name": "stdout",
     "output_type": "stream",
     "text": [
      "['ABNB']\n",
      "['ABNB']\n",
      "['ABNB']\n",
      "['ABNB']\n",
      "['ABNB']\n",
      "['ABNB']\n",
      "['ABNB']\n",
      "['ABNB']\n",
      "['ABNB']\n",
      "['ABNB']\n",
      "['ABNB']\n",
      "['ABNB']\n",
      "['ABNB']\n",
      "['ABNB']\n",
      "['ABNB']\n",
      "['ABNB']\n",
      "['ABNB']\n",
      "['ABNB']\n",
      "['ABNB']\n",
      "['ABNB']\n",
      "['ABNB']\n",
      "['ABNB']\n",
      "['ABNB']\n",
      "['ABNB']\n"
     ]
    },
    {
     "name": "stderr",
     "output_type": "stream",
     "text": [
      "\r",
      "Meta-RL Agent Loop:   2%|▏         | 410/17441 [16:18<14:40:09,  3.10s/it]"
     ]
    },
    {
     "name": "stdout",
     "output_type": "stream",
     "text": [
      "['ABNB']\n",
      "['ABNB']\n",
      "['ABNB']\n",
      "['ABNB']\n",
      "['ABNB']\n",
      "['ABNB']\n",
      "['ABNB']\n",
      "['ABNB']\n",
      "['ABNB']\n",
      "['ABNB']\n",
      "['ABNB']\n",
      "['ABNB']\n",
      "['ABNB']\n",
      "['ABNB']\n",
      "['ABNB']\n",
      "['ABNB']\n",
      "['ABNB']\n",
      "['ABNB']\n",
      "['ABNB']\n",
      "['ABNB']\n",
      "['ABNB']\n",
      "['ABNB']\n",
      "['ABNB']\n",
      "['ABNB']\n"
     ]
    },
    {
     "name": "stderr",
     "output_type": "stream",
     "text": [
      "\r",
      "Meta-RL Agent Loop:   2%|▏         | 411/17441 [16:20<14:15:20,  3.01s/it]"
     ]
    },
    {
     "name": "stdout",
     "output_type": "stream",
     "text": [
      "['ABNB']\n",
      "['ABNB']\n",
      "['ABNB']\n",
      "['ABNB']\n",
      "['ABNB']\n",
      "['ABNB']\n",
      "['ABNB']\n",
      "['ABNB']\n",
      "['ABNB']\n",
      "['ABNB']\n",
      "['ABNB']\n",
      "['ABNB']\n",
      "['ABNB']\n",
      "['ABNB']\n",
      "['ABNB']\n",
      "['ABNB']\n",
      "['ABNB']\n",
      "['ABNB']\n",
      "['ABNB']\n",
      "['ABNB']\n",
      "['ABNB']\n",
      "['ABNB']\n",
      "['ABNB']\n",
      "['ABNB']\n"
     ]
    },
    {
     "name": "stderr",
     "output_type": "stream",
     "text": [
      "\r",
      "Meta-RL Agent Loop:   2%|▏         | 412/17441 [16:23<14:19:47,  3.03s/it]"
     ]
    },
    {
     "name": "stdout",
     "output_type": "stream",
     "text": [
      "['ABNB']\n",
      "['ABNB']\n",
      "['ABNB']\n",
      "['ABNB']\n",
      "['ABNB']\n",
      "['ABNB']\n",
      "['ABNB']\n",
      "['ABNB']\n",
      "['ABNB']\n",
      "['ABNB']\n",
      "['ABNB']\n",
      "['ABNB']\n",
      "['ABNB']\n",
      "['ABNB']\n",
      "['ABNB']\n",
      "['ABNB']\n",
      "['ABNB']\n",
      "['ABNB']\n",
      "['ABNB']\n",
      "['ABNB']\n",
      "['ABNB']\n",
      "['ABNB']\n",
      "['ABNB']\n",
      "['ABNB']\n"
     ]
    },
    {
     "name": "stderr",
     "output_type": "stream",
     "text": [
      "\r",
      "Meta-RL Agent Loop:   2%|▏         | 413/17441 [16:27<14:35:24,  3.08s/it]"
     ]
    },
    {
     "name": "stdout",
     "output_type": "stream",
     "text": [
      "['ABNB']\n",
      "['ABNB']\n",
      "['ABNB']\n",
      "['ABNB']\n",
      "['ABNB']\n",
      "['ABNB']\n",
      "['ABNB']\n",
      "['ABNB']\n",
      "['ABNB']\n",
      "['ABNB']\n",
      "['ABNB']\n",
      "['ABNB']\n",
      "['ABNB']\n",
      "['ABNB']\n",
      "['ABNB']\n",
      "['ABNB']\n",
      "['ABNB']\n",
      "['ABNB']\n",
      "['ABNB']\n",
      "['ABNB']\n",
      "['ABNB']\n",
      "['ABNB']\n",
      "['ABNB']\n",
      "['ABNB']\n"
     ]
    },
    {
     "name": "stderr",
     "output_type": "stream",
     "text": [
      "\r",
      "Meta-RL Agent Loop:   2%|▏         | 414/17441 [16:29<14:00:12,  2.96s/it]"
     ]
    },
    {
     "name": "stdout",
     "output_type": "stream",
     "text": [
      "['ABNB']\n",
      "['ABNB']\n",
      "['ABNB']\n",
      "['ABNB']\n",
      "['ABNB']\n",
      "['ABNB']\n",
      "['ABNB']\n",
      "['ABNB']\n",
      "['ABNB']\n",
      "['ABNB']\n",
      "['ABNB']\n",
      "['ABNB']\n",
      "['ABNB']\n",
      "['ABNB']\n",
      "['ABNB']\n",
      "['ABNB']\n",
      "['ABNB']\n",
      "['ABNB']\n",
      "['ABNB']\n",
      "['ABNB']\n",
      "['ABNB']\n",
      "['ABNB']\n",
      "['ABNB']\n",
      "['ABNB']\n"
     ]
    },
    {
     "name": "stderr",
     "output_type": "stream",
     "text": [
      "\r",
      "Meta-RL Agent Loop:   2%|▏         | 415/17441 [16:32<13:36:00,  2.88s/it]"
     ]
    },
    {
     "name": "stdout",
     "output_type": "stream",
     "text": [
      "['ABNB']\n",
      "['ABNB']\n",
      "['ABNB']\n",
      "['ABNB']\n",
      "['ABNB']\n",
      "['ABNB']\n",
      "['ABNB']\n",
      "['ABNB']\n",
      "['ABNB']\n",
      "['ABNB']\n",
      "['ABNB']\n",
      "['ABNB']\n",
      "['ABNB']\n",
      "['ABNB']\n",
      "['ABNB']\n",
      "['ABNB']\n",
      "['ABNB']\n",
      "['ABNB']\n",
      "['ABNB']\n",
      "['ABNB']\n",
      "['ABNB']\n",
      "['ABNB']\n",
      "['ABNB']\n",
      "['ABNB']\n"
     ]
    },
    {
     "name": "stderr",
     "output_type": "stream",
     "text": [
      "\r",
      "Meta-RL Agent Loop:   2%|▏         | 416/17441 [16:35<13:17:18,  2.81s/it]"
     ]
    },
    {
     "name": "stdout",
     "output_type": "stream",
     "text": [
      "['ABNB']\n",
      "['ABNB']\n",
      "['ABNB']\n",
      "['ABNB']\n",
      "['ABNB']\n",
      "['ABNB']\n",
      "['ABNB']\n",
      "['ABNB']\n",
      "['ABNB']\n",
      "['ABNB']\n",
      "['ABNB']\n",
      "['ABNB']\n",
      "['ABNB']\n",
      "['ABNB']\n",
      "['ABNB']\n",
      "['ABNB']\n",
      "['ABNB']\n",
      "['ABNB']\n",
      "['ABNB']\n",
      "['ABNB']\n",
      "['ABNB']\n",
      "['ABNB']\n",
      "['ABNB']\n",
      "['ABNB']\n"
     ]
    },
    {
     "name": "stderr",
     "output_type": "stream",
     "text": [
      "\r",
      "Meta-RL Agent Loop:   2%|▏         | 417/17441 [16:37<13:09:09,  2.78s/it]"
     ]
    },
    {
     "name": "stdout",
     "output_type": "stream",
     "text": [
      "['ABNB']\n",
      "['ABNB']\n",
      "['ABNB']\n",
      "['ABNB']\n",
      "['ABNB']\n",
      "['ABNB']\n",
      "['ABNB']\n",
      "['ABNB']\n",
      "['ABNB']\n",
      "['ABNB']\n",
      "['ABNB']\n",
      "['ABNB']\n",
      "['ABNB']\n",
      "['ABNB']\n",
      "['ABNB']\n",
      "['ABNB']\n",
      "['ABNB']\n",
      "['ABNB']\n",
      "['ABNB']\n",
      "['ABNB']\n",
      "['ABNB']\n",
      "['ABNB']\n",
      "['ABNB']\n",
      "['ABNB']\n"
     ]
    },
    {
     "name": "stderr",
     "output_type": "stream",
     "text": [
      "\r",
      "Meta-RL Agent Loop:   2%|▏         | 418/17441 [16:40<13:17:46,  2.81s/it]"
     ]
    },
    {
     "name": "stdout",
     "output_type": "stream",
     "text": [
      "['ABNB']\n",
      "['ABNB']\n",
      "['ABNB']\n",
      "['ABNB']\n",
      "['ABNB']\n",
      "['ABNB']\n",
      "['ABNB']\n",
      "['ABNB']\n",
      "['ABNB']\n",
      "['ABNB']\n",
      "['ABNB']\n",
      "['ABNB']\n",
      "['ABNB']\n",
      "['ABNB']\n",
      "['ABNB']\n",
      "['ABNB']\n",
      "['ABNB']\n",
      "['ABNB']\n",
      "['ABNB']\n",
      "['ABNB']\n",
      "['ABNB']\n",
      "['ABNB']\n",
      "['ABNB']\n",
      "['ABNB']\n"
     ]
    },
    {
     "name": "stderr",
     "output_type": "stream",
     "text": [
      "\r",
      "Meta-RL Agent Loop:   2%|▏         | 419/17441 [16:43<13:33:11,  2.87s/it]"
     ]
    },
    {
     "name": "stdout",
     "output_type": "stream",
     "text": [
      "['ABNB']\n",
      "['ABNB']\n",
      "['ABNB']\n",
      "['ABNB']\n",
      "['ABNB']\n",
      "['ABNB']\n",
      "['ABNB']\n",
      "['ABNB']\n",
      "['ABNB']\n",
      "['ABNB']\n",
      "['ABNB']\n",
      "['ABNB']\n",
      "['ABNB']\n",
      "['ABNB']\n",
      "['ABNB']\n",
      "['ABNB']\n",
      "['ABNB']\n",
      "['ABNB']\n",
      "['ABNB']\n",
      "['ABNB']\n",
      "['ABNB']\n",
      "['ABNB']\n",
      "['ABNB']\n",
      "['ABNB']\n"
     ]
    },
    {
     "name": "stderr",
     "output_type": "stream",
     "text": [
      "\r",
      "Meta-RL Agent Loop:   2%|▏         | 420/17441 [16:46<13:02:56,  2.76s/it]"
     ]
    },
    {
     "name": "stdout",
     "output_type": "stream",
     "text": [
      "['ABNB']\n",
      "['ABNB']\n",
      "['AKAM']\n",
      "['AKAM']\n",
      "['AKAM']\n",
      "['AKAM']\n",
      "['AKAM']\n",
      "['AKAM']\n",
      "['AKAM']\n",
      "['AKAM']\n",
      "['AKAM']\n",
      "['AKAM']\n",
      "['AKAM']\n",
      "['AKAM']\n",
      "['AKAM']\n",
      "['AKAM']\n",
      "['AKAM']\n",
      "['AKAM']\n",
      "['AKAM']\n",
      "['AKAM']\n",
      "['AKAM']\n",
      "['AKAM']\n",
      "['AKAM']\n",
      "['AKAM']\n"
     ]
    },
    {
     "name": "stderr",
     "output_type": "stream",
     "text": [
      "\r",
      "Meta-RL Agent Loop:   2%|▏         | 421/17441 [16:48<13:01:17,  2.75s/it]"
     ]
    },
    {
     "name": "stdout",
     "output_type": "stream",
     "text": [
      "['AKAM']\n",
      "['AKAM']\n",
      "['AKAM']\n",
      "['AKAM']\n",
      "['AKAM']\n",
      "['AKAM']\n",
      "['AKAM']\n",
      "['AKAM']\n",
      "['AKAM']\n",
      "['AKAM']\n",
      "['AKAM']\n",
      "['AKAM']\n",
      "['AKAM']\n"
     ]
    }
   ],
   "source": [
    "import gymnasium as gym\n",
    "from stable_baselines3 import PPO\n",
    "from stable_baselines3.common.env_checker import check_env\n",
    "import joblib\n",
    "from src.env.base_trading_env import CumulativeTradingEnv\n",
    "RL_LABELS_PATH = f\"../../data/cache/meta_rl_labels_{EXPERIENCE_NAME}.pkl\"\n",
    "\n",
    "feature_cols = run_settings[\"noise_feature_cols\"] # [\"return_1d\", \"volume\"]  # Or your preferred features\n",
    "episode_length = run_settings[\"episode_length\"] # 18  # Or whatever fits your month\n",
    "train_steps = run_settings[\"train_steps\"] # 300    # Fast!\n",
    "min_ep_len = run_settings[\"min_ep_len\"] # 18\n",
    "# Resume logic: Load meta_df with RL columns if available\n",
    "if os.path.exists(RL_LABELS_PATH):\n",
    "    meta_df_rl = pd.read_pickle(RL_LABELS_PATH)\n",
    "    print(\"Loaded meta_df with RL columns.\")\n",
    "else:\n",
    "    # Copy original meta_df and initialize RL columns\n",
    "    meta_df_rl = meta_df.copy()\n",
    "    meta_df_rl['agent_reward'] = np.nan\n",
    "    meta_df_rl['random_reward'] = np.nan\n",
    "    meta_df_rl['advantage'] = np.nan\n",
    "    meta_df_rl['sharpe'] = np.nan\n",
    "    meta_df_rl['cum_return'] = np.nan\n",
    "    meta_df_rl['alpha'] = np.nan\n",
    "\n",
    "\n",
    "for i, row in tqdm(meta_df_rl.iterrows(), total=len(meta_df_rl), desc=\"Meta-RL Agent Loop\"):\n",
    "    # Skip if already computed\n",
    "    if not np.isnan(meta_df_rl.loc[i, 'agent_reward']):\n",
    "        continue\n",
    "\n",
    "    symbol, month = row['symbol'], row['month']\n",
    "    df_env = ohlcv_df[(ohlcv_df['symbol'] == symbol) & (ohlcv_df['month'] == month)].sort_values(\"date\")\n",
    "    if len(df_env) < min_ep_len:\n",
    "        min_ep_len = len(df_env)\n",
    "        print('new min',min_ep_len)\n",
    "    if len(df_env) < episode_length:\n",
    "        print('x',len(df_env) ,episode_length)\n",
    "        continue  # Not enough data, skip\n",
    "\n",
    "    try:\n",
    "        env = CumulativeTradingEnv(\n",
    "            df=df_env,\n",
    "            feature_cols=feature_cols,\n",
    "            episode_length=episode_length,\n",
    "            transaction_cost=config['transaction_cost'],#0.0001,\n",
    "            seed=run_settings['seed']\n",
    "        )\n",
    "        env = gym.wrappers.FlattenObservation(env)\n",
    "        check_env(env, warn=True)\n",
    "\n",
    "        model = PPO(\"MlpPolicy\", env, verbose=0, n_steps=64, batch_size=16, learning_rate=0.001, seed=run_settings['seed'])\n",
    "        model.learn(total_timesteps=train_steps)\n",
    "\n",
    "        # Evaluate PPO\n",
    "        obs, _ = env.reset()\n",
    "        agent_rewards, done = [], False\n",
    "        while not done:\n",
    "            action, _ = model.predict(obs, deterministic=True)\n",
    "            obs, reward, done, truncated, info = env.step(action)\n",
    "            agent_rewards.append(reward)\n",
    "        agent_reward = np.sum(agent_rewards)\n",
    "\n",
    "        # Evaluate Random\n",
    "        obs, _ = env.reset()\n",
    "        random_rewards, done = [], False\n",
    "        while not done:\n",
    "            action = env.action_space.sample()\n",
    "            obs, reward, done, truncated, info = env.step(action)\n",
    "            random_rewards.append(reward)\n",
    "        random_reward = np.sum(random_rewards)\n",
    "\n",
    "        advantage = agent_reward - random_reward\n",
    "\n",
    "        meta_df_rl.loc[i, 'agent_reward'] = agent_reward\n",
    "        meta_df_rl.loc[i, 'random_reward'] = random_reward\n",
    "        meta_df_rl.loc[i, 'advantage'] = advantage\n",
    "        meta_df_rl.loc[i, 'sharpe'] = info.get(\"episode_sharpe\", np.nan)\n",
    "        meta_df_rl.loc[i, 'cum_return'] = info.get(\"cumulative_return\", np.nan)\n",
    "        meta_df_rl.loc[i, 'alpha'] = info.get(\"alpha\", np.nan)\n",
    "        #print(info)\n",
    "        \n",
    "    except Exception as e:\n",
    "        print(f\"Skipped ({symbol})\",e)\n"
   ]
  },
  {
   "cell_type": "code",
   "execution_count": null,
   "id": "8bd1d782",
   "metadata": {},
   "outputs": [],
   "source": [
    "meta_df_rl.to_csv('mrl.csv')\n",
    "meta_df_rl['target'] = (meta_df_rl['advantage'] > 0).astype(int)\n",
    "meta_df_rl"
   ]
  },
  {
   "cell_type": "code",
   "execution_count": null,
   "id": "a1041c29",
   "metadata": {},
   "outputs": [],
   "source": [
    "feature_cols = [col for col in meta_df_rl.columns if col not in ['symbol', 'month', 'agent_reward', 'random_reward', 'advantage', 'target']]\n",
    "feature_cols"
   ]
  },
  {
   "cell_type": "code",
   "execution_count": null,
   "id": "6428bc70",
   "metadata": {},
   "outputs": [],
   "source": [
    "meta_df_rl['target'].value_counts()"
   ]
  },
  {
   "cell_type": "code",
   "execution_count": null,
   "id": "b80f8044",
   "metadata": {},
   "outputs": [],
   "source": [
    "# Make sure columns are compatible for merge\n",
    "X_df['month'] = X_df['month_str']\n",
    "merged = pd.merge(X_df, meta_df_rl, on=['symbol', 'month'], how='inner')\n",
    "merged"
   ]
  },
  {
   "cell_type": "code",
   "execution_count": null,
   "id": "c678708b",
   "metadata": {},
   "outputs": [],
   "source": [
    "feature_cols = [\n",
    "    col for col in merged.columns\n",
    "    if col not in ['symbol', 'month', 'month_str', 'agent_reward', 'random_reward', 'advantage', 'target']\n",
    "]\n",
    "\n",
    "X = merged[feature_cols]\n",
    "y = merged['target']\n",
    "\n",
    "# Scale features\n",
    "from sklearn.preprocessing import RobustScaler\n",
    "scaler = RobustScaler()\n",
    "X_scaled = scaler.fit_transform(X)\n",
    "feature_cols"
   ]
  },
  {
   "cell_type": "code",
   "execution_count": null,
   "id": "ee5e06b5",
   "metadata": {},
   "outputs": [],
   "source": [
    "#ohlcv_df.sort_values(by=\"date\").head().to_csv('ohlcv_to_upload.csv')\n",
    "from sklearn.model_selection import train_test_split\n",
    "from sklearn.ensemble import RandomForestClassifier\n",
    "from sklearn.metrics import classification_report, confusion_matrix\n",
    "\n",
    "X_train, X_test, y_train, y_test = train_test_split(\n",
    "    X_scaled, y, test_size=0.2, stratify=y, random_state=run_settings['seed']\n",
    ")\n",
    "\n",
    "clf = RandomForestClassifier(n_estimators=config['n_estimators'], random_state=run_settings['seed'], class_weight='balanced')\n",
    "clf.fit(X_train, y_train)\n",
    "\n",
    "y_pred = clf.predict(X_test)\n",
    "print(\"Classification Report:\")\n",
    "print(classification_report(y_test, y_pred))\n",
    "print(\"Confusion Matrix:\")\n",
    "print(confusion_matrix(y_test, y_pred))\n"
   ]
  },
  {
   "cell_type": "code",
   "execution_count": null,
   "id": "e0f06d10",
   "metadata": {},
   "outputs": [],
   "source": [
    "import matplotlib.pyplot as plt\n",
    "import numpy as np\n",
    "\n",
    "importances = clf.feature_importances_\n",
    "sorted_idx = np.argsort(importances)[::-1]\n",
    "plt.figure(figsize=(12, 6))\n",
    "plt.bar(range(len(importances)), importances[sorted_idx])\n",
    "plt.xticks(range(len(importances)), [feature_cols[i] for i in sorted_idx], rotation=90)\n",
    "plt.title(\"Meta-Feature Importances for Predicting RL Agent Advantage\")\n",
    "plt.tight_layout()\n",
    "plt.show()\n"
   ]
  },
  {
   "cell_type": "code",
   "execution_count": null,
   "id": "dc6f1d27",
   "metadata": {},
   "outputs": [],
   "source": [
    "from sklearn.metrics import confusion_matrix, ConfusionMatrixDisplay\n",
    "import matplotlib.pyplot as plt\n",
    "\n",
    "# y_true: true labels, y_pred: predicted labels\n",
    "cm = confusion_matrix(y_test, y_pred)\n",
    "\n",
    "disp = ConfusionMatrixDisplay(confusion_matrix=cm)\n",
    "disp.plot(cmap=plt.cm.Blues)  # Optional: color map\n",
    "plt.title(\"Confusion Matrix\")\n",
    "plt.show()\n",
    "\n",
    "\n",
    "class_names = ['Will Learn', 'Wont learn']  # Adjust to your problem\n",
    "\n",
    "disp = ConfusionMatrixDisplay(confusion_matrix=cm, display_labels=class_names)\n",
    "disp.plot(cmap=plt.cm.Oranges)\n",
    "plt.title(\"Confusion Matrix\")\n",
    "plt.show()"
   ]
  },
  {
   "cell_type": "markdown",
   "id": "3dca939e",
   "metadata": {},
   "source": [
    "## Quick Recap\n",
    "We want to estimate how \"predictable\" each stock is in a given month, using meta-features of its behavior.\n",
    "\n",
    "#### Pipeline: \n",
    "**Loop: For each (stock, month)**\n",
    "From Previous Month (t) we will extract features. From the returns in month t, we compute:\n",
    "* Mean\n",
    "* Std \n",
    "* Skew \n",
    "* Kurtosis\n",
    "* Entropy of returns\n",
    "* Mean of volumne\n",
    "* Std of volume\n",
    "\n",
    "These become the meta-features for that stock-month.\n",
    "\n",
    "**From Following Month (t+1) we will compute \"predictability\"**\n",
    "\n",
    "* With 5 lags of daily returns from month t+1 will try to predict daily returns using a RandomForestRegressor\n",
    "* Evaluate performance with cross-validated R² (cv_r2)\n",
    "* Analyze residuals from this model with the Ljung–Box test for autocorrelation ⇒ gives ljung_pval\n",
    "\n",
    "These become the target labels or diagnostic scores"
   ]
  },
  {
   "cell_type": "markdown",
   "id": "6186977a",
   "metadata": {},
   "source": [
    "| Feature                 | Description                                        |\n",
    "| ----------------------- | -------------------------------------------------- |\n",
    "| `resid_acf1`            | Autocorrelation of residuals (lag 1)               |\n",
    "| `resid_std`             | Std of residuals                                   |\n",
    "| `resid_skew`            | Skewness of residuals                              |\n",
    "| `resid_kurtosis`        | Kurtosis of residuals                              |\n",
    "| `resid_ljung_pval`      | p-value of Ljung-Box test for residual autocorr    |\n",
    "| `return_autocorr_1d`    | Lag-1 autocorrelation of raw 1D returns            |\n",
    "| `volatility_clustering` | Rolling std autocorrelation (vol clustering proxy) |\n"
   ]
  },
  {
   "cell_type": "code",
   "execution_count": null,
   "id": "4a847a43",
   "metadata": {},
   "outputs": [],
   "source": [
    "2. Feature engineering:\n",
    "Add features that measure uncertainty, volatility clustering, or market randomness like:\n",
    "\n",
    "Hurst exponent\n",
    "\n",
    "GARCH volatility\n",
    "\n",
    "Rolling ADF p-values\n",
    "\n",
    "Change-point detection count"
   ]
  },
  {
   "cell_type": "markdown",
   "id": "b147f301",
   "metadata": {},
   "source": [
    "| Stage                 | Description                                                                                             |\n",
    "| --------------------- | ------------------------------------------------------------------------------------------------------- |\n",
    "| 🧹 Preprocessing      | Clean stock OHLCV data, compute lagged returns                                                          |\n",
    "| 📈 Forecast Models    | Run simple regressors on next-month returns                                                             |\n",
    "| 🔍 Diagnostics        | Extract residual meta-features, R², forecast entropy, etc.                                              |\n",
    "| 🧠 Labeling           | - Regression: R² as target<br>- Ranking: (A > B)<br>- RL Reward: agent learnability                     |\n",
    "| 📊 Feature Extraction | Use summary stats + diagnostic/meta features                                                            |\n",
    "| 🧬 Modeling           | - Regression: Predict R²<br>- Classification: Predict \"learnable\"<br>- Contrastive: Rank predictability |\n",
    "| 🏆 Output             | Sorted top-k stock-months or environments where RL thrives                                              |\n"
   ]
  },
  {
   "cell_type": "markdown",
   "id": "db8f4a05",
   "metadata": {},
   "source": [
    "| Section                             | Purpose                                                                                                                                                                                                          |\n",
    "| ----------------------------------- | ---------------------------------------------------------------------------------------------------------------------------------------------------------------------------------------------------------------- |\n",
    "| 🔧 **Setup & Pipeline Description** | High-level explanation of your RL pipeline, feature engineering, and data sources                                                                                                                                |\n",
    "| 🧪 **Completed Studies**            | Summary table or list of ablation studies, e.g.:<br>`01 - Reward Function Impact`<br>`02 - Predictability Filters via R²`<br>`03 - Meta-Learnability Scores`                                                     |\n",
    "| ✅ **Conclusions So Far**            | Bullet points of key findings from each experiment, e.g.:<br>– Simple R² doesn't generalize across time<br>– Residual-based features offer better stability<br>– Meta-RL proxy labels correlate with test Sharpe |\n",
    "| 🔬 **Ongoing Work**                 | One-liner of what’s running or planned, so future you remembers                                                                                                                                                  |\n",
    "| 📎 **Notebook Index**               | List of notebooks and what each one covers                                                                                                                                                                       |\n"
   ]
  }
 ],
 "metadata": {
  "kernelspec": {
   "display_name": "Python 3 (ipykernel)",
   "language": "python",
   "name": "python3"
  },
  "language_info": {
   "codemirror_mode": {
    "name": "ipython",
    "version": 3
   },
   "file_extension": ".py",
   "mimetype": "text/x-python",
   "name": "python",
   "nbconvert_exporter": "python",
   "pygments_lexer": "ipython3",
   "version": "3.11.4"
  }
 },
 "nbformat": 4,
 "nbformat_minor": 5
}
