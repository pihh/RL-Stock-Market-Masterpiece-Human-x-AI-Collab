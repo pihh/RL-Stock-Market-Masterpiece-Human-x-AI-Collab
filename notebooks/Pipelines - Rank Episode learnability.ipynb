{
 "cells": [
  {
   "cell_type": "code",
   "execution_count": 1,
   "id": "cab993d7",
   "metadata": {},
   "outputs": [],
   "source": [
    "# SETUP ===================================\n",
    "import jupyter\n",
    "import warnings\n",
    "\n",
    "from src.utils.system import boot, Notify\n",
    "\n",
    "boot()\n",
    "warnings.filterwarnings(\"ignore\")\n",
    "\n",
    "\n",
    "\n",
    "# PACKAGES ================================\n",
    "import os\n",
    "import torch\n",
    "import joblib\n",
    "import numpy as np\n",
    "import pandas as pd\n",
    "import seaborn as sns\n",
    "import torch.nn as nn\n",
    "import gymnasium as gym\n",
    "import matplotlib.pyplot as plt\n",
    "\n",
    "from tqdm import tqdm\n",
    "from sklearn.preprocessing import  RobustScaler\n",
    "from IPython.display import display\n",
    "\n",
    "# FRAMEWORK STUFF =========================\n",
    "from src.defaults import TOP2_STOCK_BY_SECTOR, FEATURE_COLS,EPISODE_LENGTH\n",
    "from src.data.feature_pipeline import load_base_dataframe\n",
    "from src.experiments.experiment_tracker import ExperimentTracker\n",
    "from src.env.base_timeseries_trading_env import BaseSequenceAwareTradingEnv,SequenceAwareAlphaTradingEnv,SequenceAwareBaselineTradingAgent,SequenceAwareCalmarTradingEnv,SequenceAwareCumulativeTradingEnv,SequenceAwareDrawdownTradingEnv,SequenceAwareHybridTradingEnv,SequenceAwareHybridTradingEnv,SequenceAwareSharpeTradingEnv,SequenceAwareSortinoTradingEnv\n",
    "\n",
    "from stable_baselines3.common.torch_layers import BaseFeaturesExtractor\n",
    "from stable_baselines3.common.policies import ActorCriticPolicy\n",
    "\n"
   ]
  },
  {
   "cell_type": "code",
   "execution_count": 12,
   "id": "25996b70",
   "metadata": {},
   "outputs": [],
   "source": [
    "# SETUP ===================================\n",
    "import jupyter\n",
    "import warnings\n",
    "\n",
    "from src.utils.system import boot, Notify\n",
    "\n",
    "boot()\n",
    "warnings.filterwarnings(\"ignore\")\n",
    "\n",
    "\n",
    "\n",
    "# PACKAGES ================================\n",
    "import os\n",
    "import torch\n",
    "import joblib\n",
    "import numpy as np\n",
    "import pandas as pd\n",
    "import seaborn as sns\n",
    "import torch.nn as nn\n",
    "import gymnasium as gym\n",
    "import matplotlib.pyplot as plt\n",
    "\n",
    "from tqdm import tqdm\n",
    "from sklearn.preprocessing import  RobustScaler\n",
    "\n",
    "# FRAMEWORK STUFF =========================\n",
    "from src.defaults import TOP2_STOCK_BY_SECTOR, FEATURE_COLS,EPISODE_LENGTH\n",
    "from src.data.feature_pipeline import load_base_dataframe\n",
    "from src.experiments.experiment_tracker import ExperimentTracker\n",
    "from src.env.base_timeseries_trading_env import BaseSequenceAwareTradingEnv,SequenceAwareAlphaTradingEnv,SequenceAwareBaselineTradingAgent,SequenceAwareCalmarTradingEnv,SequenceAwareCumulativeTradingEnv,SequenceAwareDrawdownTradingEnv,SequenceAwareHybridTradingEnv,SequenceAwareHybridTradingEnv,SequenceAwareSharpeTradingEnv,SequenceAwareSortinoTradingEnv\n",
    "from src.env.base_trading_env import CumulativeTradingEnv\n",
    "\n",
    "from stable_baselines3.common.torch_layers import BaseFeaturesExtractor\n",
    "from stable_baselines3.common.policies import ActorCriticPolicy\n",
    "\n",
    "from src.env.wrappers import RegimeAugmentingWrapper"
   ]
  },
  {
   "cell_type": "code",
   "execution_count": 13,
   "id": "4ded93ff",
   "metadata": {},
   "outputs": [],
   "source": [
    "ENV_CLASS =CumulativeTradingEnv"
   ]
  },
  {
   "cell_type": "code",
   "execution_count": 14,
   "id": "a80b4e36",
   "metadata": {},
   "outputs": [],
   "source": [
    "ohlcv_df = load_base_dataframe()\n",
    "df = ohlcv_df.copy()"
   ]
  },
  {
   "cell_type": "code",
   "execution_count": 15,
   "id": "b0d2fcc3",
   "metadata": {
    "scrolled": false
   },
   "outputs": [],
   "source": [
    "import pandas as pd\n",
    "from tqdm import tqdm\n",
    "import numpy as np\n",
    "\n",
    "def simulate_random_policy(make_env, stock, period, n_episodes=10):\n",
    "    \"\"\"\n",
    "    Simulates random actions on a stock-period environment.\n",
    "    \n",
    "    Args:\n",
    "        make_env: function that returns a Gym env for (stock, period)\n",
    "        stock: stock symbol\n",
    "        period: tuple/list of (start_date, end_date) or similar\n",
    "        n_episodes: how many random episodes to run\n",
    "    \n",
    "    Returns:\n",
    "        mean_reward: float\n",
    "        sharpe: float\n",
    "        rewards: list of episode rewards\n",
    "    \"\"\"\n",
    "    rewards = []\n",
    "    for _ in range(n_episodes):\n",
    "        env = make_env(stock, period)\n",
    "        obs = env.reset()\n",
    "        done = False\n",
    "        total_reward = 0.0\n",
    "        while not done:\n",
    "            action = env.action_space.sample()\n",
    "            obs, reward, done, *_ = env.step(action)\n",
    "            total_reward += reward\n",
    "        rewards.append(total_reward)\n",
    "    mean_reward = np.mean(rewards)\n",
    "    std_reward = np.std(rewards)\n",
    "    sharpe = mean_reward / (std_reward + 1e-8)\n",
    "    return mean_reward, sharpe, rewards\n",
    "\n",
    "def get_episodes(ohlcv_df, tickers, window_size=21, step_size=21):\n",
    "    \"\"\"\n",
    "    Splits each ticker's history into rolling episodes.\n",
    "    Args:\n",
    "        ohlcv_df: DataFrame with columns ['date', 'symbol', ...]\n",
    "        tickers: list of tickers\n",
    "        window_size: episode length (trading days)\n",
    "        step_size: stride for rolling window\n",
    "    Returns:\n",
    "        List of (ticker, start_date, end_date)\n",
    "    \"\"\"\n",
    "    episodes = []\n",
    "    for ticker in tickers:\n",
    "        df = ohlcv_df[ohlcv_df['symbol'] == ticker].sort_values('date')\n",
    "        dates = df['date'].unique()\n",
    "        for i in range(0, len(dates) - window_size + 1, step_size):\n",
    "            start, end = dates[i], dates[i+window_size-1]\n",
    "            episodes.append((ticker, start, end))\n",
    "    return episodes\n",
    "\n",
    "def make_env(stock, start_date, end_date):\n",
    "    df = ohlcv_df[(ohlcv_df['symbol'] == stock) &\n",
    "                  (ohlcv_df['date'] >= start_date) &\n",
    "                  (ohlcv_df['date'] <= end_date)]\n",
    "    return ENV_CLASS(df, episode_length=len(df), feature_cols=FEATURE_COLS)\n",
    "\n",
    "def evaluate_episodes(episodes, n_episodes=5):\n",
    "    results = []\n",
    "    for (ticker, start, end) in tqdm(episodes):\n",
    "        def env_fn():\n",
    "            return make_env(ticker, start, end)\n",
    "        mean_reward, sharpe, rewards = simulate_random_policy(lambda *_: env_fn(), ticker, (start, end), n_episodes=n_episodes)\n",
    "        results.append({\n",
    "            'ticker': ticker,\n",
    "            'start_date': start,\n",
    "            'end_date': end,\n",
    "            'mean_reward': mean_reward,\n",
    "            'sharpe': sharpe,\n",
    "            'reward_std': np.std(rewards)\n",
    "        })\n",
    "    return pd.DataFrame(results)\n"
   ]
  },
  {
   "cell_type": "code",
   "execution_count": null,
   "id": "3d0ed716",
   "metadata": {},
   "outputs": [],
   "source": []
  },
  {
   "cell_type": "code",
   "execution_count": 17,
   "id": "9ad4c356",
   "metadata": {},
   "outputs": [
    {
     "name": "stderr",
     "output_type": "stream",
     "text": [
      "  0%|          | 0/379810 [00:00<?, ?it/s]\n"
     ]
    },
    {
     "ename": "ValueError",
     "evalue": "Stock MMM does not have enough data (100) for episode of length 100",
     "output_type": "error",
     "traceback": [
      "\u001b[1;31m---------------------------------------------------------------------------\u001b[0m",
      "\u001b[1;31mValueError\u001b[0m                                Traceback (most recent call last)",
      "Cell \u001b[1;32mIn[17], line 9\u001b[0m\n\u001b[0;32m      6\u001b[0m episodes \u001b[38;5;241m=\u001b[39m get_episodes(ohlcv_df, tickers, window_size, step_size)\n\u001b[0;32m      8\u001b[0m \u001b[38;5;66;03m# Step 2: Evaluate random policy on each episode\u001b[39;00m\n\u001b[1;32m----> 9\u001b[0m results_df \u001b[38;5;241m=\u001b[39m evaluate_episodes(episodes, n_episodes\u001b[38;5;241m=\u001b[39m\u001b[38;5;241m10\u001b[39m)\n\u001b[0;32m     11\u001b[0m \u001b[38;5;66;03m# Step 3: Sort by Sharpe (descending, easiest first)\u001b[39;00m\n\u001b[0;32m     12\u001b[0m ranked_episodes \u001b[38;5;241m=\u001b[39m results_df\u001b[38;5;241m.\u001b[39msort_values(by\u001b[38;5;241m=\u001b[39m\u001b[38;5;124m'\u001b[39m\u001b[38;5;124msharpe\u001b[39m\u001b[38;5;124m'\u001b[39m, ascending\u001b[38;5;241m=\u001b[39m\u001b[38;5;28;01mFalse\u001b[39;00m)\u001b[38;5;241m.\u001b[39mreset_index(drop\u001b[38;5;241m=\u001b[39m\u001b[38;5;28;01mTrue\u001b[39;00m)\n",
      "Cell \u001b[1;32mIn[15], line 67\u001b[0m, in \u001b[0;36mevaluate_episodes\u001b[1;34m(episodes, n_episodes)\u001b[0m\n\u001b[0;32m     65\u001b[0m     \u001b[38;5;28;01mdef\u001b[39;00m \u001b[38;5;21menv_fn\u001b[39m():\n\u001b[0;32m     66\u001b[0m         \u001b[38;5;28;01mreturn\u001b[39;00m make_env(ticker, start, end)\n\u001b[1;32m---> 67\u001b[0m     mean_reward, sharpe, rewards \u001b[38;5;241m=\u001b[39m simulate_random_policy(\u001b[38;5;28;01mlambda\u001b[39;00m \u001b[38;5;241m*\u001b[39m_: env_fn(), ticker, (start, end), n_episodes\u001b[38;5;241m=\u001b[39mn_episodes)\n\u001b[0;32m     68\u001b[0m     results\u001b[38;5;241m.\u001b[39mappend({\n\u001b[0;32m     69\u001b[0m         \u001b[38;5;124m'\u001b[39m\u001b[38;5;124mticker\u001b[39m\u001b[38;5;124m'\u001b[39m: ticker,\n\u001b[0;32m     70\u001b[0m         \u001b[38;5;124m'\u001b[39m\u001b[38;5;124mstart_date\u001b[39m\u001b[38;5;124m'\u001b[39m: start,\n\u001b[1;32m   (...)\u001b[0m\n\u001b[0;32m     74\u001b[0m         \u001b[38;5;124m'\u001b[39m\u001b[38;5;124mreward_std\u001b[39m\u001b[38;5;124m'\u001b[39m: np\u001b[38;5;241m.\u001b[39mstd(rewards)\n\u001b[0;32m     75\u001b[0m     })\n\u001b[0;32m     76\u001b[0m \u001b[38;5;28;01mreturn\u001b[39;00m pd\u001b[38;5;241m.\u001b[39mDataFrame(results)\n",
      "Cell \u001b[1;32mIn[15], line 23\u001b[0m, in \u001b[0;36msimulate_random_policy\u001b[1;34m(make_env, stock, period, n_episodes)\u001b[0m\n\u001b[0;32m     21\u001b[0m \u001b[38;5;28;01mfor\u001b[39;00m _ \u001b[38;5;129;01min\u001b[39;00m \u001b[38;5;28mrange\u001b[39m(n_episodes):\n\u001b[0;32m     22\u001b[0m     env \u001b[38;5;241m=\u001b[39m make_env(stock, period)\n\u001b[1;32m---> 23\u001b[0m     obs \u001b[38;5;241m=\u001b[39m env\u001b[38;5;241m.\u001b[39mreset()\n\u001b[0;32m     24\u001b[0m     done \u001b[38;5;241m=\u001b[39m \u001b[38;5;28;01mFalse\u001b[39;00m\n\u001b[0;32m     25\u001b[0m     total_reward \u001b[38;5;241m=\u001b[39m \u001b[38;5;241m0.0\u001b[39m\n",
      "File \u001b[1;32m~\\Dev\\RL-Stock-Market-Masterpiece-Human-x-AI-Collab\\src\\env\\base_trading_env.py:85\u001b[0m, in \u001b[0;36mBaseTradingEnv.reset\u001b[1;34m(self, seed, options, start_index)\u001b[0m\n\u001b[0;32m     83\u001b[0m     max_start \u001b[38;5;241m=\u001b[39m \u001b[38;5;28mlen\u001b[39m(stock_df) \u001b[38;5;241m-\u001b[39m \u001b[38;5;28mself\u001b[39m\u001b[38;5;241m.\u001b[39mepisode_length\n\u001b[0;32m     84\u001b[0m     \u001b[38;5;28;01mif\u001b[39;00m max_start \u001b[38;5;241m<\u001b[39m\u001b[38;5;241m=\u001b[39m \u001b[38;5;241m0\u001b[39m:\n\u001b[1;32m---> 85\u001b[0m         \u001b[38;5;28;01mraise\u001b[39;00m \u001b[38;5;167;01mValueError\u001b[39;00m(\u001b[38;5;124mf\u001b[39m\u001b[38;5;124m\"\u001b[39m\u001b[38;5;124mStock \u001b[39m\u001b[38;5;132;01m{\u001b[39;00mstock\u001b[38;5;132;01m}\u001b[39;00m\u001b[38;5;124m does not have enough data (\u001b[39m\u001b[38;5;132;01m{\u001b[39;00m\u001b[38;5;28mlen\u001b[39m(stock_df)\u001b[38;5;132;01m}\u001b[39;00m\u001b[38;5;124m) for episode of length \u001b[39m\u001b[38;5;132;01m{\u001b[39;00m\u001b[38;5;28mself\u001b[39m\u001b[38;5;241m.\u001b[39mepisode_length\u001b[38;5;132;01m}\u001b[39;00m\u001b[38;5;124m\"\u001b[39m)\n\u001b[0;32m     86\u001b[0m     start \u001b[38;5;241m=\u001b[39m np\u001b[38;5;241m.\u001b[39mrandom\u001b[38;5;241m.\u001b[39mrandint(\u001b[38;5;241m0\u001b[39m, max_start \u001b[38;5;241m+\u001b[39m \u001b[38;5;241m1\u001b[39m)\n\u001b[0;32m     88\u001b[0m \u001b[38;5;28mself\u001b[39m\u001b[38;5;241m.\u001b[39mstock \u001b[38;5;241m=\u001b[39m stock\n",
      "\u001b[1;31mValueError\u001b[0m: Stock MMM does not have enough data (100) for episode of length 100"
     ]
    }
   ],
   "source": [
    "tickers = ohlcv_df['symbol'].unique().tolist()\n",
    "window_size = 100  # about 1 trading month\n",
    "step_size = 1\n",
    "\n",
    "# Step 1: Get episodes\n",
    "episodes = get_episodes(ohlcv_df, tickers, window_size, step_size)\n",
    "\n",
    "# Step 2: Evaluate random policy on each episode\n",
    "results_df = evaluate_episodes(episodes, n_episodes=10)\n",
    "\n",
    "# Step 3: Sort by Sharpe (descending, easiest first)\n",
    "ranked_episodes = results_df.sort_values(by='sharpe', ascending=False).reset_index(drop=True)\n",
    "\n",
    "# Print top 10\n",
    "ranked_episodes.head(10)\n"
   ]
  },
  {
   "cell_type": "code",
   "execution_count": null,
   "id": "6691c4eb",
   "metadata": {},
   "outputs": [],
   "source": []
  },
  {
   "cell_type": "code",
   "execution_count": 25,
   "id": "56d5a6aa",
   "metadata": {},
   "outputs": [
    {
     "data": {
      "text/plain": [
       "(10, 11)"
      ]
     },
     "execution_count": 25,
     "metadata": {},
     "output_type": "execute_result"
    }
   ],
   "source": [
    "e= SequenceAwareAlphaTradingEnv(ohlcv_df,feature_cols=['volume','return_1d'])\n",
    "e.reset()[0].shape"
   ]
  },
  {
   "cell_type": "code",
   "execution_count": null,
   "id": "b8d0fb3b",
   "metadata": {},
   "outputs": [],
   "source": []
  }
 ],
 "metadata": {
  "kernelspec": {
   "display_name": "Python 3 (ipykernel)",
   "language": "python",
   "name": "python3"
  },
  "language_info": {
   "codemirror_mode": {
    "name": "ipython",
    "version": 3
   },
   "file_extension": ".py",
   "mimetype": "text/x-python",
   "name": "python",
   "nbconvert_exporter": "python",
   "pygments_lexer": "ipython3",
   "version": "3.11.4"
  }
 },
 "nbformat": 4,
 "nbformat_minor": 5
}
