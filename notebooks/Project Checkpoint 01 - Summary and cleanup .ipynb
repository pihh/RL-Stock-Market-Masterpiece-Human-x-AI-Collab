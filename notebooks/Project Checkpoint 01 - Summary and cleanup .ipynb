{
 "cells": [
  {
   "cell_type": "code",
   "execution_count": 1,
   "id": "cab993d7",
   "metadata": {},
   "outputs": [],
   "source": [
    "# SETUP ===================================\n",
    "import jupyter\n",
    "import warnings\n",
    "\n",
    "from src.utils.system import boot, Notify\n",
    "\n",
    "boot()\n",
    "warnings.filterwarnings(\"ignore\")\n",
    "\n",
    "\n",
    "\n",
    "# PACKAGES ================================\n",
    "import os\n",
    "import torch\n",
    "import joblib\n",
    "import numpy as np\n",
    "import pandas as pd\n",
    "import seaborn as sns\n",
    "import torch.nn as nn\n",
    "import gymnasium as gym\n",
    "import matplotlib.pyplot as plt\n",
    "\n",
    "from tqdm import tqdm\n",
    "from sklearn.preprocessing import  RobustScaler\n",
    "from IPython.display import display\n",
    "\n",
    "# FRAMEWORK STUFF =========================\n",
    "\n",
    "from src.data.feature_pipeline import load_base_dataframe\n",
    "from src.experiments.experiment_tracker import ExperimentTracker\n",
    "from src.env.base_trading_env import BaseTradingEnv,AlphaTradingEnv\n",
    "from src.env.base_timeseries_trading_env import BaseSequenceAwareTradingEnv,SequenceAwareAlphaTradingEnv,SequenceAwareBaselineTradingAgent,SequenceAwareCalmarTradingEnv,SequenceAwareCumulativeTradingEnv,SequenceAwareDrawdownTradingEnv,SequenceAwareHybridTradingEnv,SequenceAwareHybridTradingEnv,SequenceAwareSharpeTradingEnv,SequenceAwareSortinoTradingEnv\n",
    "from src.utils.db import ConfigurableMixin\n",
    "\n"
   ]
  },
  {
   "cell_type": "code",
   "execution_count": null,
   "id": "d9a90dbb",
   "metadata": {},
   "outputs": [],
   "source": []
  },
  {
   "cell_type": "code",
   "execution_count": 2,
   "id": "97994baa",
   "metadata": {},
   "outputs": [],
   "source": [
    "class BaseModel(ConfigurableMixin):\n",
    "    def __init__(self, config, db_conn=None):\n",
    "        self.config = config\n",
    "        self.db_id = None\n",
    "        if db_conn is not None:\n",
    "            self.db_id = register_model(\n",
    "                db_conn,\n",
    "                model_type=self.__class__.__name__,\n",
    "                path=str(self.__module__),\n",
    "                config=self.config\n",
    "            )"
   ]
  },
  {
   "cell_type": "code",
   "execution_count": 3,
   "id": "5db3307f",
   "metadata": {},
   "outputs": [],
   "source": [
    "ohlcv_df = load_base_dataframe()"
   ]
  },
  {
   "cell_type": "code",
   "execution_count": 4,
   "id": "b1855433",
   "metadata": {},
   "outputs": [
    {
     "name": "stdout",
     "output_type": "stream",
     "text": [
      "6\n"
     ]
    },
    {
     "data": {
      "text/plain": [
       "<sqlite3.Connection at 0x16f7f7a8e50>"
      ]
     },
     "execution_count": 4,
     "metadata": {},
     "output_type": "execute_result"
    }
   ],
   "source": [
    "e = AlphaTradingEnv(ohlcv_df)\n",
    "e.conn"
   ]
  },
  {
   "cell_type": "code",
   "execution_count": 5,
   "id": "972a784d",
   "metadata": {},
   "outputs": [],
   "source": [
    "# Connect to DB (use timeout if needed)\n",
    "#conn = sqlite3.connect('../rl_trading.db', timeout=5)\n",
    "\n",
    "# Example config for environment and model\n",
    "#env_config = {\"window\": 24, \"feature_set\": [\"return_1d\", \"volume\"], \"normalize\": True}\n",
    "#model_config = {\"model\": \"RecurrentPPO\", \"layers\": [128, 64], \"gamma\": 0.99, \"seed\": 314}\n",
    "\n",
    "# Register and get DB IDs\n",
    "#env_id = register_environment(conn, \"CumulativeTradingEnv\", \"/src/envs/cum_trading_env.py\", env_config, version=\"1.0\")\n",
    "#model_id = register_model(conn, \"RecurrentPPO\", \"/src/models/recurrent_ppo.py\", model_config, version=\"2.1\")\n",
    "\n",
    "#print(f\"Env DB ID: {env_id}, Model DB ID: {model_id}\")"
   ]
  },
  {
   "cell_type": "code",
   "execution_count": 6,
   "id": "4605088f",
   "metadata": {},
   "outputs": [
    {
     "data": {
      "text/plain": [
       "<src.env.base_trading_env.AlphaTradingEnv at 0x16f108f4890>"
      ]
     },
     "execution_count": 6,
     "metadata": {},
     "output_type": "execute_result"
    }
   ],
   "source": [
    "e#.register_environment(name=e.__class__.__name__,config=e.config)"
   ]
  },
  {
   "cell_type": "code",
   "execution_count": 7,
   "id": "80b30a9a",
   "metadata": {},
   "outputs": [],
   "source": [
    "#e.config"
   ]
  },
  {
   "cell_type": "code",
   "execution_count": 16,
   "id": "ecc25d77",
   "metadata": {},
   "outputs": [
    {
     "ename": "ValueError",
     "evalue": "Date 2024-01-01 not found for symbol AAPL",
     "output_type": "error",
     "traceback": [
      "\u001b[1;31m---------------------------------------------------------------------------\u001b[0m",
      "\u001b[1;31mValueError\u001b[0m                                Traceback (most recent call last)",
      "Cell \u001b[1;32mIn[16], line 1\u001b[0m\n\u001b[1;32m----> 1\u001b[0m e\u001b[38;5;241m.\u001b[39mget_episode_by_start_date(\u001b[38;5;124m'\u001b[39m\u001b[38;5;124mAAPL\u001b[39m\u001b[38;5;124m'\u001b[39m,\u001b[38;5;124m'\u001b[39m\u001b[38;5;124m2024-01-01\u001b[39m\u001b[38;5;124m'\u001b[39m)\n",
      "File \u001b[1;32m~\\Dev\\RL-Stock-Market-Masterpiece-Human-x-AI-Collab\\src\\env\\base_trading_env.py:315\u001b[0m, in \u001b[0;36mBaseTradingEnv.get_episode_by_start_date\u001b[1;34m(self, symbol, start_date, window_size)\u001b[0m\n\u001b[0;32m    313\u001b[0m start_idx \u001b[38;5;241m=\u001b[39m sdf[sdf[\u001b[38;5;124m'\u001b[39m\u001b[38;5;124mdate\u001b[39m\u001b[38;5;124m'\u001b[39m] \u001b[38;5;241m==\u001b[39m pd\u001b[38;5;241m.\u001b[39mto_datetime(start_date)]\u001b[38;5;241m.\u001b[39mindex\n\u001b[0;32m    314\u001b[0m \u001b[38;5;28;01mif\u001b[39;00m \u001b[38;5;28mlen\u001b[39m(start_idx) \u001b[38;5;241m==\u001b[39m \u001b[38;5;241m0\u001b[39m:\n\u001b[1;32m--> 315\u001b[0m     \u001b[38;5;28;01mraise\u001b[39;00m \u001b[38;5;167;01mValueError\u001b[39;00m(\u001b[38;5;124mf\u001b[39m\u001b[38;5;124m\"\u001b[39m\u001b[38;5;124mDate \u001b[39m\u001b[38;5;132;01m{\u001b[39;00mstart_date\u001b[38;5;132;01m}\u001b[39;00m\u001b[38;5;124m not found for symbol \u001b[39m\u001b[38;5;132;01m{\u001b[39;00msymbol\u001b[38;5;132;01m}\u001b[39;00m\u001b[38;5;124m\"\u001b[39m)\n\u001b[0;32m    316\u001b[0m start_idx \u001b[38;5;241m=\u001b[39m start_idx[\u001b[38;5;241m0\u001b[39m]\n\u001b[0;32m    317\u001b[0m \u001b[38;5;66;03m# If lookback is used, get previous `window_size` rows too\u001b[39;00m\n",
      "\u001b[1;31mValueError\u001b[0m: Date 2024-01-01 not found for symbol AAPL"
     ]
    }
   ],
   "source": [
    "e.get_episode_by_start_date('AAPL','2024-01-01')"
   ]
  },
  {
   "cell_type": "code",
   "execution_count": 9,
   "id": "a166459d",
   "metadata": {},
   "outputs": [],
   "source": [
    "from sklearn.ensemble import RandomForestRegressor\n",
    "from sklearn.linear_model import LinearRegression\n",
    "from sklearn.preprocessing import StandardScaler, RobustScaler"
   ]
  },
  {
   "cell_type": "code",
   "execution_count": 10,
   "id": "d10bc79c",
   "metadata": {},
   "outputs": [
    {
     "data": {
      "text/plain": [
       "'str'"
      ]
     },
     "execution_count": 10,
     "metadata": {},
     "output_type": "execute_result"
    }
   ],
   "source": [
    "LinearRegression.__module__.__class__.__name__"
   ]
  },
  {
   "cell_type": "code",
   "execution_count": 11,
   "id": "2d8f314f",
   "metadata": {},
   "outputs": [],
   "source": [
    "\n",
    "from sb3_contrib import RecurrentPPO\n",
    "from stable_baselines3.common.torch_layers import BaseFeaturesExtractor\n",
    "from stable_baselines3.common.policies import ActorCriticPolicy\n",
    "from stable_baselines3.common.callbacks import EvalCallback, CheckpointCallback\n",
    "from sb3_contrib.common.recurrent.policies import RecurrentActorCriticPolicy"
   ]
  },
  {
   "cell_type": "code",
   "execution_count": 12,
   "id": "3c36b3d2",
   "metadata": {},
   "outputs": [
    {
     "data": {
      "text/plain": [
       "'RandomForestRegressor'"
      ]
     },
     "execution_count": 12,
     "metadata": {},
     "output_type": "execute_result"
    }
   ],
   "source": [
    "RandomForestRegressor.__name__        "
   ]
  },
  {
   "cell_type": "code",
   "execution_count": 14,
   "id": "6b32cc1e",
   "metadata": {},
   "outputs": [
    {
     "ename": "ValueError",
     "evalue": "Date 2024-01-01 not found for symbol AAPL",
     "output_type": "error",
     "traceback": [
      "\u001b[1;31m---------------------------------------------------------------------------\u001b[0m",
      "\u001b[1;31mValueError\u001b[0m                                Traceback (most recent call last)",
      "Cell \u001b[1;32mIn[14], line 1\u001b[0m\n\u001b[1;32m----> 1\u001b[0m e\u001b[38;5;241m.\u001b[39mget_episode_by_start_date(\u001b[38;5;124m'\u001b[39m\u001b[38;5;124mAAPL\u001b[39m\u001b[38;5;124m'\u001b[39m,\u001b[38;5;124m'\u001b[39m\u001b[38;5;124m2024-01-01\u001b[39m\u001b[38;5;124m'\u001b[39m)\n",
      "File \u001b[1;32m~\\Dev\\RL-Stock-Market-Masterpiece-Human-x-AI-Collab\\src\\env\\base_trading_env.py:315\u001b[0m, in \u001b[0;36mBaseTradingEnv.get_episode_by_start_date\u001b[1;34m(self, symbol, start_date, window_size)\u001b[0m\n\u001b[0;32m    313\u001b[0m start_idx \u001b[38;5;241m=\u001b[39m sdf[sdf[\u001b[38;5;124m'\u001b[39m\u001b[38;5;124mdate\u001b[39m\u001b[38;5;124m'\u001b[39m] \u001b[38;5;241m==\u001b[39m pd\u001b[38;5;241m.\u001b[39mto_datetime(start_date)]\u001b[38;5;241m.\u001b[39mindex\n\u001b[0;32m    314\u001b[0m \u001b[38;5;28;01mif\u001b[39;00m \u001b[38;5;28mlen\u001b[39m(start_idx) \u001b[38;5;241m==\u001b[39m \u001b[38;5;241m0\u001b[39m:\n\u001b[1;32m--> 315\u001b[0m     \u001b[38;5;28;01mraise\u001b[39;00m \u001b[38;5;167;01mValueError\u001b[39;00m(\u001b[38;5;124mf\u001b[39m\u001b[38;5;124m\"\u001b[39m\u001b[38;5;124mDate \u001b[39m\u001b[38;5;132;01m{\u001b[39;00mstart_date\u001b[38;5;132;01m}\u001b[39;00m\u001b[38;5;124m not found for symbol \u001b[39m\u001b[38;5;132;01m{\u001b[39;00msymbol\u001b[38;5;132;01m}\u001b[39;00m\u001b[38;5;124m\"\u001b[39m)\n\u001b[0;32m    316\u001b[0m start_idx \u001b[38;5;241m=\u001b[39m start_idx[\u001b[38;5;241m0\u001b[39m]\n\u001b[0;32m    317\u001b[0m \u001b[38;5;66;03m# If lookback is used, get previous `window_size` rows too\u001b[39;00m\n",
      "\u001b[1;31mValueError\u001b[0m: Date 2024-01-01 not found for symbol AAPL"
     ]
    }
   ],
   "source": [
    "e.get_episode_by_start_date('AAPL','2024-01-01')"
   ]
  },
  {
   "cell_type": "code",
   "execution_count": null,
   "id": "2ca70bf1",
   "metadata": {},
   "outputs": [],
   "source": []
  }
 ],
 "metadata": {
  "kernelspec": {
   "display_name": "Python 3 (ipykernel)",
   "language": "python",
   "name": "python3"
  },
  "language_info": {
   "codemirror_mode": {
    "name": "ipython",
    "version": 3
   },
   "file_extension": ".py",
   "mimetype": "text/x-python",
   "name": "python",
   "nbconvert_exporter": "python",
   "pygments_lexer": "ipython3",
   "version": "3.11.4"
  }
 },
 "nbformat": 4,
 "nbformat_minor": 5
}
