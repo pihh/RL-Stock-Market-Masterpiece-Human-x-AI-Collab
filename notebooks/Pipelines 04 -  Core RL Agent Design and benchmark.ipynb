{
 "cells": [
  {
   "cell_type": "markdown",
   "id": "33beca1f",
   "metadata": {},
   "source": [
    "Data splits (walk-forward, same stocks/timeframes)\n",
    "\n",
    "Features (identical input sets)\n",
    "\n",
    "Reward (cumulative)\n",
    "\n",
    "Evaluation (out-of-sample EWM, Sharpe, etc.)\n",
    "\n",
    "\n",
    "\n",
    "Let’s set up a true **apples-to-apples benchmark** of agent architectures on our trading pipeline, using the exact same:\n",
    "\n",
    "* Data splits (walk-forward, same stocks/timeframes)\n",
    "* Features (identical input sets)\n",
    "* Reward (cumulative)\n",
    "* Evaluation (out-of-sample EWM, Sharpe, etc.)\n",
    "\n",
    "\n",
    "\n",
    "---\n",
    "\n",
    "## **Agent Architecture Benchmark Plan**\n",
    "\n",
    "### **1. Baseline PPO-MLP**\n",
    "\n",
    "* **Policy:** Standard multilayer perceptron (MLP)\n",
    "* **Library:** Stable Baselines3 (`PPO`)\n",
    "* **Policy kwargs:** e.g., `[128, 128]` or `[256, 128]`\n",
    "\n",
    "---\n",
    "\n",
    "### **2. LSTM PPO (RecurrentPPO)**\n",
    "\n",
    "* **Policy:** LSTM (single-layer or 2-layer, 128 units)\n",
    "* **Library:** Stable Baselines3-Contrib (`RecurrentPPO`)\n",
    "* **Policy:** `\"MlpLstmPolicy\"`\n",
    "* **Handles sequences natively**\n",
    "* **Extra: Tune sequence/episode length for best results**\n",
    "\n",
    "---\n",
    "\n",
    "### **3. Single-Head Attention Transformer Policy**\n",
    "\n",
    "* **Policy:** Transformer encoder with 1 attention head (minimalist setup)\n",
    "* **Implementation:**\n",
    "\n",
    "  * *Option 1*: Use `stable-baselines3` with a custom policy class (PyTorch).\n",
    "  * *Option 2*: Use SB3 fork/extensions that support transformer policies out-of-the-box (less common; will probably need custom code).\n",
    "* **Goal:** Test transformer’s “pattern memory” edge vs LSTM.\n",
    "\n",
    "---\n",
    "\n",
    "### **4. Multi-Head Attention Transformer Policy**\n",
    "\n",
    "* **Policy:** Transformer encoder, e.g., 4–8 heads, 1–2 layers\n",
    "* **Implementation:** Same as above but with multiple heads\n",
    "* **Why:** See if more heads/layers boost performance (at higher compute cost)\n",
    "\n",
    "---\n",
    "\n",
    "## **Benchmarking Protocol**\n",
    "\n",
    "1. **Data**: Use our best meta-selected stocks/timeframes, identical for all runs.\n",
    "2. **Feature set**: Fix features for all models (no advantage to one or another).\n",
    "3. **Hyperparameters**: Tune as fairly as possible (similar total params, same optimizer, batch size, episode length).\n",
    "4. **Evaluation**:\n",
    "\n",
    "   * Out-of-sample EWM cumulative reward\n",
    "   * Sharpe ratio, drawdown, % > market\n",
    "   * Policy entropy, if curious\n",
    "   * 5+ random seeds per setting\n",
    "5. **Logging**: Use Weights & Biases, MLflow, or simple CSVs to compare runs.\n",
    "\n",
    "---\n",
    "\n",
    "## **Implementation Plan**\n",
    "\n",
    "**A. Write/Adapt Custom Policies**\n",
    "\n",
    "* For LSTM: use `RecurrentPPO` (easy).\n",
    "* For Transformers: extend SB3’s `ActorCriticPolicy` using PyTorch, plug in transformer blocks.\n",
    "\n",
    "**B. Standardized Training Loop**\n",
    "\n",
    "* For each agent: loop over all stocks/timeframes, train, evaluate, record metrics.\n",
    "\n",
    "**C. Result Table**\n",
    "\n",
    "| Model           | Architecture     | Params | Mean EWM Reward | Sharpe | % > Market | Notes       |\n",
    "| --------------- | ---------------- | ------ | --------------- | ------ | ---------- | ----------- |\n",
    "| PPO-MLP         | \\[256,128] MLP   | X      | ...             | ...    | ...        | Baseline    |\n",
    "| PPO-LSTM        | 1x128 LSTM       | Y      | ...             | ...    | ...        | Recurrent   |\n",
    "| PPO-Transformer | 1-head, 1 layer  | Z      | ...             | ...    | ...        | Single head |\n",
    "| PPO-Transformer | 4-head, 2 layers | W      | ...             | ...    | ...        | Multi-head  |\n",
    "\n",
    "---\n",
    "\n",
    "## **Deliverables**\n",
    "\n",
    "* **Scripts for each model type** (ready to run)\n",
    "* **Unified training and eval pipeline** (for apples-to-apples comparison)\n",
    "* **Benchmarking notebooks** for quick result viz\n",
    "* **Markdown summary template** for documentation\n",
    "\n",
    "---\n",
    "\n"
   ]
  },
  {
   "cell_type": "code",
   "execution_count": 1,
   "id": "cab993d7",
   "metadata": {},
   "outputs": [
    {
     "name": "stderr",
     "output_type": "stream",
     "text": [
      "C:\\Users\\Francisco Sá\\AppData\\Roaming\\Python\\Python311\\site-packages\\pandas\\core\\arrays\\masked.py:61: UserWarning: Pandas requires version '1.3.6' or newer of 'bottleneck' (version '1.3.5' currently installed).\n",
      "  from pandas.core import (\n"
     ]
    }
   ],
   "source": [
    "# SETUP ===================================\n",
    "import jupyter\n",
    "\n",
    "from src.utils.system import boot, Notify\n",
    "\n",
    "boot()\n",
    "\n",
    "# PACKAGES ================================\n",
    "import os\n",
    "import joblib\n",
    "import numpy as np\n",
    "import pandas as pd\n",
    "import seaborn as sns\n",
    "import matplotlib.pyplot as plt\n",
    "\n",
    "from tqdm import tqdm\n",
    "from sklearn.preprocessing import  RobustScaler\n",
    "\n",
    "# FRAMEWORK STUFF =========================\n",
    "from src.config import TOP2_STOCK_BY_SECTOR\n",
    "from src.data.feature_pipeline importload_base_dataframe\n",
    "from src.experiments.experiment_tracker import ExperimentTracker\n",
    "\n",
    "\n",
    "\n",
    "from src.env.base_trading_env import (\n",
    "    CumulativeTradingEnv,\n",
    ")\n",
    "import warnings\n",
    "warnings.filterwarnings(\"ignore\")\n"
   ]
  },
  {
   "cell_type": "code",
   "execution_count": 2,
   "id": "955d6b1e",
   "metadata": {},
   "outputs": [
    {
     "name": "stderr",
     "output_type": "stream",
     "text": [
      "\r",
      "Splits:   0%|          | 0/2 [00:00<?, ?it/s]"
     ]
    },
    {
     "name": "stdout",
     "output_type": "stream",
     "text": [
      "Complete ('train', '2023-01-01', 'mlp', 0) \n",
      "Complete ('test', '2023-07-01', 'mlp', 0) \n",
      "Complete ('train', '2023-01-01', 'mlp', 1) \n",
      "Complete ('test', '2023-07-01', 'mlp', 1) \n",
      "Complete ('train', '2023-01-01', 'mlp', 2) \n",
      "Complete ('test', '2023-07-01', 'mlp', 2) \n",
      "Complete ('train', '2023-01-01', 'lstm', 0) \n",
      "Complete ('test', '2023-07-01', 'lstm', 0) \n",
      "Complete ('train', '2023-01-01', 'lstm', 1) \n",
      "Complete ('test', '2023-07-01', 'lstm', 1) \n",
      "Complete ('train', '2023-01-01', 'lstm', 2) \n",
      "Complete ('test', '2023-07-01', 'lstm', 2) \n",
      "Complete ('train', '2023-01-01', 'transformer_single', 0) \n",
      "Complete ('test', '2023-07-01', 'transformer_single', 0) \n",
      "Complete ('train', '2023-01-01', 'transformer_single', 1) \n",
      "Complete ('test', '2023-07-01', 'transformer_single', 1) \n",
      "Complete ('train', '2023-01-01', 'transformer_single', 2) \n",
      "Complete ('test', '2023-07-01', 'transformer_single', 2) \n",
      "Complete ('train', '2023-01-01', 'transformer_multi', 0) \n",
      "Complete ('test', '2023-07-01', 'transformer_multi', 0) \n",
      "Complete ('train', '2023-01-01', 'transformer_multi', 1) \n",
      "Complete ('test', '2023-07-01', 'transformer_multi', 1) \n",
      "Complete ('train', '2023-01-01', 'transformer_multi', 2) \n"
     ]
    },
    {
     "name": "stderr",
     "output_type": "stream",
     "text": [
      "\r",
      "Splits:  50%|█████     | 1/2 [29:22<29:22, 1762.40s/it]"
     ]
    },
    {
     "name": "stdout",
     "output_type": "stream",
     "text": [
      "Complete ('test', '2023-07-01', 'transformer_multi', 2) \n",
      "Complete ('train', '2024-01-01', 'mlp', 0) \n",
      "Complete ('test', '2024-07-01', 'mlp', 0) \n",
      "Complete ('train', '2024-01-01', 'mlp', 1) \n",
      "Complete ('test', '2024-07-01', 'mlp', 1) \n",
      "Complete ('train', '2024-01-01', 'mlp', 2) \n",
      "Complete ('test', '2024-07-01', 'mlp', 2) \n",
      "Complete ('train', '2024-01-01', 'lstm', 0) \n",
      "Complete ('test', '2024-07-01', 'lstm', 0) \n",
      "Complete ('train', '2024-01-01', 'lstm', 1) \n",
      "Complete ('test', '2024-07-01', 'lstm', 1) \n",
      "Complete ('train', '2024-01-01', 'lstm', 2) \n",
      "Complete ('test', '2024-07-01', 'lstm', 2) \n",
      "Complete ('train', '2024-01-01', 'transformer_single', 0) \n",
      "Complete ('test', '2024-07-01', 'transformer_single', 0) \n",
      "Complete ('train', '2024-01-01', 'transformer_single', 1) \n",
      "Complete ('test', '2024-07-01', 'transformer_single', 1) \n",
      "Complete ('train', '2024-01-01', 'transformer_single', 2) \n",
      "Complete ('test', '2024-07-01', 'transformer_single', 2) \n",
      "Complete ('train', '2024-01-01', 'transformer_multi', 0) \n",
      "Complete ('test', '2024-07-01', 'transformer_multi', 0) \n",
      "Complete ('train', '2024-01-01', 'transformer_multi', 1) \n",
      "Complete ('test', '2024-07-01', 'transformer_multi', 1) \n",
      "Complete ('train', '2024-01-01', 'transformer_multi', 2) \n"
     ]
    },
    {
     "name": "stderr",
     "output_type": "stream",
     "text": [
      "Splits: 100%|██████████| 2/2 [1:01:17<00:00, 1838.60s/it]"
     ]
    },
    {
     "name": "stdout",
     "output_type": "stream",
     "text": [
      "Complete ('test', '2024-07-01', 'transformer_multi', 2) \n",
      "\n",
      "Finished all splits. Final summary:\n"
     ]
    },
    {
     "name": "stderr",
     "output_type": "stream",
     "text": [
      "\n"
     ]
    },
    {
     "data": {
      "text/html": [
       "<div>\n",
       "<style scoped>\n",
       "    .dataframe tbody tr th:only-of-type {\n",
       "        vertical-align: middle;\n",
       "    }\n",
       "\n",
       "    .dataframe tbody tr th {\n",
       "        vertical-align: top;\n",
       "    }\n",
       "\n",
       "    .dataframe thead th {\n",
       "        text-align: right;\n",
       "    }\n",
       "</style>\n",
       "<table border=\"1\" class=\"dataframe\">\n",
       "  <thead>\n",
       "    <tr style=\"text-align: right;\">\n",
       "      <th></th>\n",
       "      <th></th>\n",
       "      <th>seed</th>\n",
       "      <th>mean_episode_sharpe</th>\n",
       "      <th>mean_episode_sortino</th>\n",
       "      <th>mean_episode_total_reward</th>\n",
       "      <th>mean_cumulative_return</th>\n",
       "      <th>mean_calmar</th>\n",
       "      <th>mean_max_drawdown</th>\n",
       "      <th>mean_win_rate</th>\n",
       "      <th>mean_alpha</th>\n",
       "      <th>std_episode_sharpe</th>\n",
       "      <th>std_episode_sortino</th>\n",
       "      <th>std_episode_total_reward</th>\n",
       "      <th>std_cumulative_return</th>\n",
       "      <th>std_calmar</th>\n",
       "      <th>std_max_drawdown</th>\n",
       "      <th>std_win_rate</th>\n",
       "      <th>std_alpha</th>\n",
       "      <th>action_entropy</th>\n",
       "    </tr>\n",
       "    <tr>\n",
       "      <th>split</th>\n",
       "      <th>agent</th>\n",
       "      <th></th>\n",
       "      <th></th>\n",
       "      <th></th>\n",
       "      <th></th>\n",
       "      <th></th>\n",
       "      <th></th>\n",
       "      <th></th>\n",
       "      <th></th>\n",
       "      <th></th>\n",
       "      <th></th>\n",
       "      <th></th>\n",
       "      <th></th>\n",
       "      <th></th>\n",
       "      <th></th>\n",
       "      <th></th>\n",
       "      <th></th>\n",
       "      <th></th>\n",
       "      <th></th>\n",
       "    </tr>\n",
       "  </thead>\n",
       "  <tbody>\n",
       "    <tr>\n",
       "      <th rowspan=\"4\" valign=\"top\">test</th>\n",
       "      <th>lstm</th>\n",
       "      <td>1.0</td>\n",
       "      <td>-0.022839</td>\n",
       "      <td>-0.010702</td>\n",
       "      <td>-0.014054</td>\n",
       "      <td>-0.015412</td>\n",
       "      <td>0.218293</td>\n",
       "      <td>0.209261</td>\n",
       "      <td>0.608333</td>\n",
       "      <td>-0.065035</td>\n",
       "      <td>0.097085</td>\n",
       "      <td>0.165696</td>\n",
       "      <td>0.250022</td>\n",
       "      <td>0.250322</td>\n",
       "      <td>1.524458</td>\n",
       "      <td>0.088346</td>\n",
       "      <td>0.453213</td>\n",
       "      <td>0.250322</td>\n",
       "      <td>0.391187</td>\n",
       "    </tr>\n",
       "    <tr>\n",
       "      <th>mlp</th>\n",
       "      <td>1.0</td>\n",
       "      <td>-0.009016</td>\n",
       "      <td>0.007720</td>\n",
       "      <td>-0.040333</td>\n",
       "      <td>-0.032386</td>\n",
       "      <td>0.307942</td>\n",
       "      <td>0.214944</td>\n",
       "      <td>0.595833</td>\n",
       "      <td>-0.082010</td>\n",
       "      <td>0.104307</td>\n",
       "      <td>0.162981</td>\n",
       "      <td>0.260828</td>\n",
       "      <td>0.239442</td>\n",
       "      <td>1.455544</td>\n",
       "      <td>0.122863</td>\n",
       "      <td>0.484976</td>\n",
       "      <td>0.239442</td>\n",
       "      <td>0.549098</td>\n",
       "    </tr>\n",
       "    <tr>\n",
       "      <th>transformer_multi</th>\n",
       "      <td>1.0</td>\n",
       "      <td>-0.001516</td>\n",
       "      <td>0.018376</td>\n",
       "      <td>-0.025622</td>\n",
       "      <td>-0.017662</td>\n",
       "      <td>0.516542</td>\n",
       "      <td>0.209027</td>\n",
       "      <td>0.533333</td>\n",
       "      <td>-0.067286</td>\n",
       "      <td>0.097769</td>\n",
       "      <td>0.166936</td>\n",
       "      <td>0.259647</td>\n",
       "      <td>0.238342</td>\n",
       "      <td>1.927739</td>\n",
       "      <td>0.121956</td>\n",
       "      <td>0.472206</td>\n",
       "      <td>0.238342</td>\n",
       "      <td>0.376073</td>\n",
       "    </tr>\n",
       "    <tr>\n",
       "      <th>transformer_single</th>\n",
       "      <td>1.0</td>\n",
       "      <td>-0.012857</td>\n",
       "      <td>-0.005222</td>\n",
       "      <td>-0.056951</td>\n",
       "      <td>-0.050469</td>\n",
       "      <td>0.184314</td>\n",
       "      <td>0.216646</td>\n",
       "      <td>0.508333</td>\n",
       "      <td>-0.100093</td>\n",
       "      <td>0.097675</td>\n",
       "      <td>0.147079</td>\n",
       "      <td>0.257856</td>\n",
       "      <td>0.220370</td>\n",
       "      <td>1.240141</td>\n",
       "      <td>0.130189</td>\n",
       "      <td>0.481420</td>\n",
       "      <td>0.220370</td>\n",
       "      <td>0.320755</td>\n",
       "    </tr>\n",
       "    <tr>\n",
       "      <th rowspan=\"4\" valign=\"top\">train</th>\n",
       "      <th>lstm</th>\n",
       "      <td>1.0</td>\n",
       "      <td>-0.026309</td>\n",
       "      <td>-0.022146</td>\n",
       "      <td>-0.059703</td>\n",
       "      <td>-0.058985</td>\n",
       "      <td>0.010351</td>\n",
       "      <td>0.199566</td>\n",
       "      <td>0.541667</td>\n",
       "      <td>-0.152143</td>\n",
       "      <td>0.088233</td>\n",
       "      <td>0.135322</td>\n",
       "      <td>0.191231</td>\n",
       "      <td>0.168496</td>\n",
       "      <td>0.965169</td>\n",
       "      <td>0.102151</td>\n",
       "      <td>0.466466</td>\n",
       "      <td>0.168496</td>\n",
       "      <td>0.408410</td>\n",
       "    </tr>\n",
       "    <tr>\n",
       "      <th>mlp</th>\n",
       "      <td>1.0</td>\n",
       "      <td>0.008707</td>\n",
       "      <td>0.038354</td>\n",
       "      <td>0.026173</td>\n",
       "      <td>0.027870</td>\n",
       "      <td>0.545106</td>\n",
       "      <td>0.174483</td>\n",
       "      <td>0.512500</td>\n",
       "      <td>-0.065288</td>\n",
       "      <td>0.094118</td>\n",
       "      <td>0.168269</td>\n",
       "      <td>0.207351</td>\n",
       "      <td>0.224764</td>\n",
       "      <td>1.797854</td>\n",
       "      <td>0.077040</td>\n",
       "      <td>0.449493</td>\n",
       "      <td>0.224764</td>\n",
       "      <td>0.594390</td>\n",
       "    </tr>\n",
       "    <tr>\n",
       "      <th>transformer_multi</th>\n",
       "      <td>1.0</td>\n",
       "      <td>0.002256</td>\n",
       "      <td>0.024894</td>\n",
       "      <td>0.015968</td>\n",
       "      <td>0.016017</td>\n",
       "      <td>0.392807</td>\n",
       "      <td>0.184493</td>\n",
       "      <td>0.500000</td>\n",
       "      <td>-0.077141</td>\n",
       "      <td>0.091816</td>\n",
       "      <td>0.158430</td>\n",
       "      <td>0.199319</td>\n",
       "      <td>0.210973</td>\n",
       "      <td>1.473340</td>\n",
       "      <td>0.079427</td>\n",
       "      <td>0.470304</td>\n",
       "      <td>0.210973</td>\n",
       "      <td>0.421903</td>\n",
       "    </tr>\n",
       "    <tr>\n",
       "      <th>transformer_single</th>\n",
       "      <td>1.0</td>\n",
       "      <td>0.006000</td>\n",
       "      <td>0.032084</td>\n",
       "      <td>0.022707</td>\n",
       "      <td>0.022211</td>\n",
       "      <td>0.465429</td>\n",
       "      <td>0.178850</td>\n",
       "      <td>0.529167</td>\n",
       "      <td>-0.070947</td>\n",
       "      <td>0.089722</td>\n",
       "      <td>0.153589</td>\n",
       "      <td>0.194515</td>\n",
       "      <td>0.206314</td>\n",
       "      <td>1.537634</td>\n",
       "      <td>0.079801</td>\n",
       "      <td>0.458442</td>\n",
       "      <td>0.206314</td>\n",
       "      <td>0.348825</td>\n",
       "    </tr>\n",
       "  </tbody>\n",
       "</table>\n",
       "</div>"
      ],
      "text/plain": [
       "                          seed  mean_episode_sharpe  mean_episode_sortino  \\\n",
       "split agent                                                                 \n",
       "test  lstm                 1.0            -0.022839             -0.010702   \n",
       "      mlp                  1.0            -0.009016              0.007720   \n",
       "      transformer_multi    1.0            -0.001516              0.018376   \n",
       "      transformer_single   1.0            -0.012857             -0.005222   \n",
       "train lstm                 1.0            -0.026309             -0.022146   \n",
       "      mlp                  1.0             0.008707              0.038354   \n",
       "      transformer_multi    1.0             0.002256              0.024894   \n",
       "      transformer_single   1.0             0.006000              0.032084   \n",
       "\n",
       "                          mean_episode_total_reward  mean_cumulative_return  \\\n",
       "split agent                                                                   \n",
       "test  lstm                                -0.014054               -0.015412   \n",
       "      mlp                                 -0.040333               -0.032386   \n",
       "      transformer_multi                   -0.025622               -0.017662   \n",
       "      transformer_single                  -0.056951               -0.050469   \n",
       "train lstm                                -0.059703               -0.058985   \n",
       "      mlp                                  0.026173                0.027870   \n",
       "      transformer_multi                    0.015968                0.016017   \n",
       "      transformer_single                   0.022707                0.022211   \n",
       "\n",
       "                          mean_calmar  mean_max_drawdown  mean_win_rate  \\\n",
       "split agent                                                               \n",
       "test  lstm                   0.218293           0.209261       0.608333   \n",
       "      mlp                    0.307942           0.214944       0.595833   \n",
       "      transformer_multi      0.516542           0.209027       0.533333   \n",
       "      transformer_single     0.184314           0.216646       0.508333   \n",
       "train lstm                   0.010351           0.199566       0.541667   \n",
       "      mlp                    0.545106           0.174483       0.512500   \n",
       "      transformer_multi      0.392807           0.184493       0.500000   \n",
       "      transformer_single     0.465429           0.178850       0.529167   \n",
       "\n",
       "                          mean_alpha  std_episode_sharpe  std_episode_sortino  \\\n",
       "split agent                                                                     \n",
       "test  lstm                 -0.065035            0.097085             0.165696   \n",
       "      mlp                  -0.082010            0.104307             0.162981   \n",
       "      transformer_multi    -0.067286            0.097769             0.166936   \n",
       "      transformer_single   -0.100093            0.097675             0.147079   \n",
       "train lstm                 -0.152143            0.088233             0.135322   \n",
       "      mlp                  -0.065288            0.094118             0.168269   \n",
       "      transformer_multi    -0.077141            0.091816             0.158430   \n",
       "      transformer_single   -0.070947            0.089722             0.153589   \n",
       "\n",
       "                          std_episode_total_reward  std_cumulative_return  \\\n",
       "split agent                                                                 \n",
       "test  lstm                                0.250022               0.250322   \n",
       "      mlp                                 0.260828               0.239442   \n",
       "      transformer_multi                   0.259647               0.238342   \n",
       "      transformer_single                  0.257856               0.220370   \n",
       "train lstm                                0.191231               0.168496   \n",
       "      mlp                                 0.207351               0.224764   \n",
       "      transformer_multi                   0.199319               0.210973   \n",
       "      transformer_single                  0.194515               0.206314   \n",
       "\n",
       "                          std_calmar  std_max_drawdown  std_win_rate  \\\n",
       "split agent                                                            \n",
       "test  lstm                  1.524458          0.088346      0.453213   \n",
       "      mlp                   1.455544          0.122863      0.484976   \n",
       "      transformer_multi     1.927739          0.121956      0.472206   \n",
       "      transformer_single    1.240141          0.130189      0.481420   \n",
       "train lstm                  0.965169          0.102151      0.466466   \n",
       "      mlp                   1.797854          0.077040      0.449493   \n",
       "      transformer_multi     1.473340          0.079427      0.470304   \n",
       "      transformer_single    1.537634          0.079801      0.458442   \n",
       "\n",
       "                          std_alpha  action_entropy  \n",
       "split agent                                          \n",
       "test  lstm                 0.250322        0.391187  \n",
       "      mlp                  0.239442        0.549098  \n",
       "      transformer_multi    0.238342        0.376073  \n",
       "      transformer_single   0.220370        0.320755  \n",
       "train lstm                 0.168496        0.408410  \n",
       "      mlp                  0.224764        0.594390  \n",
       "      transformer_multi    0.210973        0.421903  \n",
       "      transformer_single   0.206314        0.348825  "
      ]
     },
     "execution_count": 2,
     "metadata": {},
     "output_type": "execute_result"
    }
   ],
   "source": [
    "# ========== IMPORTS & SETUP ==========\n",
    "import os\n",
    "import numpy as np\n",
    "import pandas as pd\n",
    "import torch\n",
    "import torch.nn as nn\n",
    "from stable_baselines3 import PPO\n",
    "from sb3_contrib import RecurrentPPO\n",
    "from stable_baselines3.common.vec_env import DummyVecEnv\n",
    "from tqdm import tqdm\n",
    "\n",
    "from src.env.base_trading_env import CumulativeTradingEnv\n",
    "from src.data.feature_pipeline import load_base_dataframe\n",
    "from src.experiments.experiment_tracker import ExperimentTracker\n",
    "from src.defaults import FEATURE_COLS, EPISODE_LENGTH, EXCLUDED_TICKERS\n",
    "\n",
    "# ========== CONFIG ==========\n",
    "EXPERIENCE_NAME = \"agent_design_and_benchmark\"\n",
    "RESULTS_PATH = f\"data/experiments/{EXPERIENCE_NAME}_barebones_results.csv\"\n",
    "N_EPISODES = 20\n",
    "N_SEEDS = 3\n",
    "N_EVAL_EPISODES = 3\n",
    "AGENT_TYPES = ['mlp', 'lstm', 'transformer_single', 'transformer_multi']\n",
    "\n",
    "TRANSACTION_COST = 0\n",
    "\n",
    "CONFIG = {\n",
    "    \"batch_size\": 32,\n",
    "    \"n_steps\": 128,\n",
    "    \"total_timesteps\": 10000,   # Adjust for speed/depth\n",
    "}\n",
    "\n",
    "walk_forward_splits = [\n",
    "    (\"2023-01-01\", \"2023-07-01\", \"2023-12-01\"),\n",
    "    (\"2024-01-01\", \"2024-07-01\", \"2024-12-01\"),\n",
    "]\n",
    "\n",
    "# --- Load data ---\n",
    "ohlcv_df = load_base_dataframe()\n",
    "ohlcv_df['date'] = pd.to_datetime(ohlcv_df['date'])\n",
    "\n",
    "# --- Experiment tracker ---\n",
    "experiment_tracker = ExperimentTracker(EXPERIENCE_NAME)\n",
    "\n",
    "# --- Transformer Policy ---\n",
    "from stable_baselines3.common.torch_layers import BaseFeaturesExtractor\n",
    "from stable_baselines3.common.policies import ActorCriticPolicy\n",
    "\n",
    "class TransformerExtractor(BaseFeaturesExtractor):\n",
    "    def __init__(self, observation_space, d_model=32, nhead=1, num_layers=1):\n",
    "        # observation_space.shape = (window_length, n_features)\n",
    "        super().__init__(observation_space, features_dim=d_model)\n",
    "        win_len, n_features = observation_space.shape\n",
    "        self.embedding = nn.Linear(n_features, d_model)\n",
    "        encoder_layer = nn.TransformerEncoderLayer(d_model=d_model, nhead=nhead)\n",
    "        self.transformer = nn.TransformerEncoder(encoder_layer, num_layers=num_layers)\n",
    "        self.win_len = win_len\n",
    "    def forward(self, obs):\n",
    "        # obs: (batch, window_length, n_features)\n",
    "        # If obs has no batch, add it\n",
    "        if obs.ndim == 2:\n",
    "            obs = obs.unsqueeze(0)\n",
    "        x = self.embedding(obs)        # (batch, win_len, d_model)\n",
    "        x = x.permute(1, 0, 2)        # (win_len, batch, d_model)\n",
    "        x = self.transformer(x)        # (win_len, batch, d_model)\n",
    "        # Pooling: use the last output (or mean pooling)\n",
    "        pooled = x[-1]                # (batch, d_model)\n",
    "        return pooled\n",
    "\n",
    "class TransformerPolicy(ActorCriticPolicy):\n",
    "    def __init__(self, *args, nhead=1, num_layers=1, **kwargs):\n",
    "        super().__init__(\n",
    "            *args,\n",
    "            features_extractor_class=TransformerExtractor,\n",
    "            features_extractor_kwargs={'d_model': 32, 'nhead': nhead, 'num_layers': num_layers},\n",
    "            **kwargs\n",
    "        )\n",
    "\n",
    "# --- Env factory ---\n",
    "def make_env(df, ticker, feature_cols, episode_length):\n",
    "    df_ticker = df[df['symbol'] == ticker].copy()\n",
    "    return CumulativeTradingEnv(\n",
    "        df=df_ticker,\n",
    "        feature_cols=feature_cols,\n",
    "        episode_length=episode_length,\n",
    "        transaction_cost=TRANSACTION_COST,\n",
    "    )\n",
    "\n",
    "# --- Episode generator ---\n",
    "def generate_episode_sequences(df, episode_length, n_episodes, excluded_tickers, seed=314):\n",
    "    rng = np.random.default_rng(seed)\n",
    "    eligible_tickers = [t for t in df['symbol'].unique() if t not in excluded_tickers]\n",
    "    sequences = []\n",
    "    for _ in range(n_episodes):\n",
    "        ticker = rng.choice(eligible_tickers)\n",
    "        stock_df = df[df['symbol'] == ticker]\n",
    "        max_start = len(stock_df) - episode_length - 1\n",
    "        if max_start < 1:\n",
    "            continue\n",
    "        start_idx = rng.integers(0, max_start)\n",
    "        sequences.append((ticker, int(start_idx)))\n",
    "    return sequences\n",
    "\n",
    "# --- Evaluation: Only use scalar metrics from env info ---\n",
    "def is_scalar_series(series):\n",
    "    return series.apply(lambda x: np.isscalar(x) or isinstance(x, (np.floating, np.integer, float, int, np.float64, np.int64))).all()\n",
    "\n",
    "def evaluate_agent(model, df, sequences, feature_cols, episode_length):\n",
    "    all_infos = []\n",
    "    all_actions = []\n",
    "    for ticker, start_idx in sequences:\n",
    "        env = make_env(df, ticker, feature_cols, episode_length)\n",
    "        obs, _ = env.reset(start_index=start_idx)\n",
    "        done = False\n",
    "        info = {}\n",
    "        episode_actions = []\n",
    "        while not done:\n",
    "            action, _ = model.predict(obs, deterministic=True)\n",
    "            obs, reward, terminated, truncated, info = env.step(action)\n",
    "            done = terminated or truncated\n",
    "            episode_actions.append(int(action))\n",
    "        all_infos.append(info)\n",
    "        all_actions.extend(episode_actions)\n",
    "    infos_df = pd.DataFrame(all_infos)\n",
    "    scalar_cols = [col for col in infos_df.columns if is_scalar_series(infos_df[col])]\n",
    "    metrics = {f\"mean_{col}\": infos_df[col].mean() for col in scalar_cols}\n",
    "    metrics.update({f\"std_{col}\": infos_df[col].std() for col in scalar_cols})\n",
    "    action_counts = pd.Series(all_actions).value_counts(normalize=True).to_dict()\n",
    "    metrics[\"action_counts\"] = action_counts\n",
    "    metrics[\"action_entropy\"] = -sum(p * np.log(p + 1e-8) for p in action_counts.values())\n",
    "    return metrics\n",
    "\n",
    "# --- Resumability: Load existing results ---\n",
    "results = []\n",
    "done_keys = set()\n",
    "\n",
    "if os.path.exists(RESULTS_PATH):\n",
    "    results_df = pd.read_csv(RESULTS_PATH)\n",
    "    required_cols = {'split', 'split_start', 'agent', 'seed'}\n",
    "    if required_cols.issubset(results_df.columns):\n",
    "        done_keys = set(zip(\n",
    "            results_df['split'], results_df['split_start'], results_df['agent'], results_df['seed']\n",
    "        ))\n",
    "        results = results_df.to_dict('records')\n",
    "        print(f\"Loaded {len(done_keys)} previously completed results.\")\n",
    "    else:\n",
    "        print(f\"WARNING: Existing {RESULTS_PATH} is missing required columns or is from an old experiment.\")\n",
    "        backup_path = RESULTS_PATH.replace(\".csv\", \"_backup.csv\")\n",
    "        os.rename(RESULTS_PATH, backup_path)\n",
    "        print(f\"Backed up old file to {backup_path}. Starting new results file.\")\n",
    "\n",
    "# --- Precompute episode sequences for all splits, types, and seeds ---\n",
    "episode_sequences = {}  # (split_type, split_start, seed) -> list of (ticker, start_idx)\n",
    "\n",
    "for split in walk_forward_splits:\n",
    "    train_start, train_end, test_end = split\n",
    "    test_start = train_end\n",
    "    df_train = ohlcv_df[(ohlcv_df['date'] >= train_start) & (ohlcv_df['date'] < train_end)]\n",
    "    df_test  = ohlcv_df[(ohlcv_df['date'] >= test_start) & (ohlcv_df['date'] < test_end)]\n",
    "    for split_type, df, split_start in [\n",
    "        (\"train\", df_train, train_start),\n",
    "        (\"test\",  df_test,  test_start),\n",
    "    ]:\n",
    "        for seed in range(N_SEEDS):\n",
    "            seqs = generate_episode_sequences(df, EPISODE_LENGTH, N_EPISODES, EXCLUDED_TICKERS, seed=seed)\n",
    "            if len(seqs) == 0:\n",
    "                print(f\"WARNING: No episodes for {split_type} {split_start} seed={seed}\")\n",
    "            episode_sequences[(split_type, split_start, seed)] = seqs\n",
    "\n",
    "# --- Main walk-forward benchmark ---\n",
    "for split in tqdm(walk_forward_splits, desc=\"Splits\"):\n",
    "    train_start, train_end, test_end = split\n",
    "    test_start = train_end\n",
    "    df_train = ohlcv_df[(ohlcv_df['date'] >= train_start) & (ohlcv_df['date'] < train_end)]\n",
    "    df_test  = ohlcv_df[(ohlcv_df['date'] >= test_start) & (ohlcv_df['date'] < test_end)]\n",
    "\n",
    "    if len(df_train) < EPISODE_LENGTH or len(df_test) < EPISODE_LENGTH:\n",
    "        print(f\"Skipping split {split}: Not enough data\")\n",
    "        continue\n",
    "\n",
    "    for agent_type in AGENT_TYPES:\n",
    "        for seed in range(N_SEEDS):\n",
    "            for split_type, df, split_start, split_end in [\n",
    "                (\"train\", df_train, train_start, train_end),\n",
    "                (\"test\",  df_test,  test_start,  test_end)\n",
    "            ]:\n",
    "                key = (split_type, split_start, agent_type, seed)\n",
    "                if key in done_keys:\n",
    "                    print(f\"Skipping {key} (already done)\")\n",
    "                    continue\n",
    "\n",
    "                sequences = episode_sequences.get((split_type, split_start, seed), [])\n",
    "                if len(sequences) == 0:\n",
    "                    print(f\"No episodes to sample in {split_type} {split} seed={seed}\")\n",
    "                    continue\n",
    "\n",
    "                # Train only on train split, eval on both\n",
    "                if split_type == \"train\":\n",
    "                    ticker = sequences[0][0]  # For env construction\n",
    "                    env = make_env(df, ticker, FEATURE_COLS, EPISODE_LENGTH)\n",
    "                    vec_env = DummyVecEnv([lambda: env])\n",
    "                    np.random.seed(seed)\n",
    "                    torch.manual_seed(seed)\n",
    "                    if agent_type == 'mlp':\n",
    "                        model = PPO(\n",
    "                            \"MlpPolicy\", vec_env,\n",
    "                            verbose=0, seed=seed,\n",
    "                            batch_size=CONFIG[\"batch_size\"], n_steps=CONFIG['n_steps']\n",
    "                        )\n",
    "                    elif agent_type == 'lstm':\n",
    "                        model = RecurrentPPO(\n",
    "                            \"MlpLstmPolicy\", vec_env,\n",
    "                            verbose=0, seed=seed,\n",
    "                            batch_size=CONFIG[\"batch_size\"], n_steps=CONFIG['n_steps']\n",
    "                        )\n",
    "                    elif agent_type == 'transformer_single':\n",
    "                        model = PPO(\n",
    "                            TransformerPolicy, vec_env,\n",
    "                            policy_kwargs={'nhead': 1, 'num_layers': 1},\n",
    "                            verbose=0, seed=seed,\n",
    "                            batch_size=CONFIG[\"batch_size\"], n_steps=CONFIG['n_steps']\n",
    "                        )\n",
    "                    elif agent_type == 'transformer_multi':\n",
    "                        model = PPO(\n",
    "                            TransformerPolicy, vec_env,\n",
    "                            policy_kwargs={'nhead': 4, 'num_layers': 2},\n",
    "                            verbose=0, seed=seed,\n",
    "                            batch_size=CONFIG[\"batch_size\"], n_steps=CONFIG['n_steps']\n",
    "                        )\n",
    "                    model.learn(total_timesteps=CONFIG[\"total_timesteps\"])\n",
    "\n",
    "                # Evaluate on current split (train or test)\n",
    "                metrics = evaluate_agent(model, df, sequences, FEATURE_COLS, EPISODE_LENGTH)\n",
    "                result = {\n",
    "                    \"split\": split_type,\n",
    "                    \"split_start\": split_start,\n",
    "                    \"split_end\": split_end,\n",
    "                    \"agent\": agent_type,\n",
    "                    \"seed\": seed,\n",
    "                }\n",
    "                result.update(metrics)\n",
    "                results.append(result)\n",
    "                pd.DataFrame(results).to_csv(RESULTS_PATH, index=False)\n",
    "                #for k, v in metrics.items():\n",
    "                #    print(f\"{split_type}_{agent_type}_{k}\", v)\n",
    "                #print(f\"Done: {result}\")\n",
    "                print(f\"Complete {key} \")\n",
    "                \n",
    "print(\"\\nFinished all splits. Final summary:\")\n",
    "results_df = pd.DataFrame(results)\n",
    "results_df.groupby(['split', 'agent']).mean(numeric_only=True)\n"
   ]
  },
  {
   "cell_type": "code",
   "execution_count": null,
   "id": "6cef5ce2",
   "metadata": {},
   "outputs": [],
   "source": []
  },
  {
   "cell_type": "code",
   "execution_count": 3,
   "id": "59374a2e",
   "metadata": {},
   "outputs": [
    {
     "data": {
      "text/html": [
       "<div>\n",
       "<style scoped>\n",
       "    .dataframe tbody tr th:only-of-type {\n",
       "        vertical-align: middle;\n",
       "    }\n",
       "\n",
       "    .dataframe tbody tr th {\n",
       "        vertical-align: top;\n",
       "    }\n",
       "\n",
       "    .dataframe thead th {\n",
       "        text-align: right;\n",
       "    }\n",
       "</style>\n",
       "<table border=\"1\" class=\"dataframe\">\n",
       "  <thead>\n",
       "    <tr style=\"text-align: right;\">\n",
       "      <th></th>\n",
       "      <th></th>\n",
       "      <th>seed</th>\n",
       "      <th>mean_episode_sharpe</th>\n",
       "      <th>mean_episode_sortino</th>\n",
       "      <th>mean_episode_total_reward</th>\n",
       "      <th>mean_cumulative_return</th>\n",
       "      <th>mean_calmar</th>\n",
       "      <th>mean_max_drawdown</th>\n",
       "      <th>mean_win_rate</th>\n",
       "      <th>mean_alpha</th>\n",
       "      <th>std_episode_sharpe</th>\n",
       "      <th>std_episode_sortino</th>\n",
       "      <th>std_episode_total_reward</th>\n",
       "      <th>std_cumulative_return</th>\n",
       "      <th>std_calmar</th>\n",
       "      <th>std_max_drawdown</th>\n",
       "      <th>std_win_rate</th>\n",
       "      <th>std_alpha</th>\n",
       "      <th>action_entropy</th>\n",
       "    </tr>\n",
       "    <tr>\n",
       "      <th>split</th>\n",
       "      <th>agent</th>\n",
       "      <th></th>\n",
       "      <th></th>\n",
       "      <th></th>\n",
       "      <th></th>\n",
       "      <th></th>\n",
       "      <th></th>\n",
       "      <th></th>\n",
       "      <th></th>\n",
       "      <th></th>\n",
       "      <th></th>\n",
       "      <th></th>\n",
       "      <th></th>\n",
       "      <th></th>\n",
       "      <th></th>\n",
       "      <th></th>\n",
       "      <th></th>\n",
       "      <th></th>\n",
       "      <th></th>\n",
       "    </tr>\n",
       "  </thead>\n",
       "  <tbody>\n",
       "    <tr>\n",
       "      <th rowspan=\"4\" valign=\"top\">test</th>\n",
       "      <th>lstm</th>\n",
       "      <td>1.0</td>\n",
       "      <td>-0.022839</td>\n",
       "      <td>-0.010702</td>\n",
       "      <td>-0.014054</td>\n",
       "      <td>-0.015412</td>\n",
       "      <td>0.218293</td>\n",
       "      <td>0.209261</td>\n",
       "      <td>0.608333</td>\n",
       "      <td>-0.065035</td>\n",
       "      <td>0.097085</td>\n",
       "      <td>0.165696</td>\n",
       "      <td>0.250022</td>\n",
       "      <td>0.250322</td>\n",
       "      <td>1.524458</td>\n",
       "      <td>0.088346</td>\n",
       "      <td>0.453213</td>\n",
       "      <td>0.250322</td>\n",
       "      <td>0.391187</td>\n",
       "    </tr>\n",
       "    <tr>\n",
       "      <th>mlp</th>\n",
       "      <td>1.0</td>\n",
       "      <td>-0.009016</td>\n",
       "      <td>0.007720</td>\n",
       "      <td>-0.040333</td>\n",
       "      <td>-0.032386</td>\n",
       "      <td>0.307942</td>\n",
       "      <td>0.214944</td>\n",
       "      <td>0.595833</td>\n",
       "      <td>-0.082010</td>\n",
       "      <td>0.104307</td>\n",
       "      <td>0.162981</td>\n",
       "      <td>0.260828</td>\n",
       "      <td>0.239442</td>\n",
       "      <td>1.455544</td>\n",
       "      <td>0.122863</td>\n",
       "      <td>0.484976</td>\n",
       "      <td>0.239442</td>\n",
       "      <td>0.549098</td>\n",
       "    </tr>\n",
       "    <tr>\n",
       "      <th>transformer_multi</th>\n",
       "      <td>1.0</td>\n",
       "      <td>-0.001516</td>\n",
       "      <td>0.018376</td>\n",
       "      <td>-0.025622</td>\n",
       "      <td>-0.017662</td>\n",
       "      <td>0.516542</td>\n",
       "      <td>0.209027</td>\n",
       "      <td>0.533333</td>\n",
       "      <td>-0.067286</td>\n",
       "      <td>0.097769</td>\n",
       "      <td>0.166936</td>\n",
       "      <td>0.259647</td>\n",
       "      <td>0.238342</td>\n",
       "      <td>1.927739</td>\n",
       "      <td>0.121956</td>\n",
       "      <td>0.472206</td>\n",
       "      <td>0.238342</td>\n",
       "      <td>0.376073</td>\n",
       "    </tr>\n",
       "    <tr>\n",
       "      <th>transformer_single</th>\n",
       "      <td>1.0</td>\n",
       "      <td>-0.012857</td>\n",
       "      <td>-0.005222</td>\n",
       "      <td>-0.056951</td>\n",
       "      <td>-0.050469</td>\n",
       "      <td>0.184314</td>\n",
       "      <td>0.216646</td>\n",
       "      <td>0.508333</td>\n",
       "      <td>-0.100093</td>\n",
       "      <td>0.097675</td>\n",
       "      <td>0.147079</td>\n",
       "      <td>0.257856</td>\n",
       "      <td>0.220370</td>\n",
       "      <td>1.240141</td>\n",
       "      <td>0.130189</td>\n",
       "      <td>0.481420</td>\n",
       "      <td>0.220370</td>\n",
       "      <td>0.320755</td>\n",
       "    </tr>\n",
       "    <tr>\n",
       "      <th rowspan=\"4\" valign=\"top\">train</th>\n",
       "      <th>lstm</th>\n",
       "      <td>1.0</td>\n",
       "      <td>-0.026309</td>\n",
       "      <td>-0.022146</td>\n",
       "      <td>-0.059703</td>\n",
       "      <td>-0.058985</td>\n",
       "      <td>0.010351</td>\n",
       "      <td>0.199566</td>\n",
       "      <td>0.541667</td>\n",
       "      <td>-0.152143</td>\n",
       "      <td>0.088233</td>\n",
       "      <td>0.135322</td>\n",
       "      <td>0.191231</td>\n",
       "      <td>0.168496</td>\n",
       "      <td>0.965169</td>\n",
       "      <td>0.102151</td>\n",
       "      <td>0.466466</td>\n",
       "      <td>0.168496</td>\n",
       "      <td>0.408410</td>\n",
       "    </tr>\n",
       "    <tr>\n",
       "      <th>mlp</th>\n",
       "      <td>1.0</td>\n",
       "      <td>0.008707</td>\n",
       "      <td>0.038354</td>\n",
       "      <td>0.026173</td>\n",
       "      <td>0.027870</td>\n",
       "      <td>0.545106</td>\n",
       "      <td>0.174483</td>\n",
       "      <td>0.512500</td>\n",
       "      <td>-0.065288</td>\n",
       "      <td>0.094118</td>\n",
       "      <td>0.168269</td>\n",
       "      <td>0.207351</td>\n",
       "      <td>0.224764</td>\n",
       "      <td>1.797854</td>\n",
       "      <td>0.077040</td>\n",
       "      <td>0.449493</td>\n",
       "      <td>0.224764</td>\n",
       "      <td>0.594390</td>\n",
       "    </tr>\n",
       "    <tr>\n",
       "      <th>transformer_multi</th>\n",
       "      <td>1.0</td>\n",
       "      <td>0.002256</td>\n",
       "      <td>0.024894</td>\n",
       "      <td>0.015968</td>\n",
       "      <td>0.016017</td>\n",
       "      <td>0.392807</td>\n",
       "      <td>0.184493</td>\n",
       "      <td>0.500000</td>\n",
       "      <td>-0.077141</td>\n",
       "      <td>0.091816</td>\n",
       "      <td>0.158430</td>\n",
       "      <td>0.199319</td>\n",
       "      <td>0.210973</td>\n",
       "      <td>1.473340</td>\n",
       "      <td>0.079427</td>\n",
       "      <td>0.470304</td>\n",
       "      <td>0.210973</td>\n",
       "      <td>0.421903</td>\n",
       "    </tr>\n",
       "    <tr>\n",
       "      <th>transformer_single</th>\n",
       "      <td>1.0</td>\n",
       "      <td>0.006000</td>\n",
       "      <td>0.032084</td>\n",
       "      <td>0.022707</td>\n",
       "      <td>0.022211</td>\n",
       "      <td>0.465429</td>\n",
       "      <td>0.178850</td>\n",
       "      <td>0.529167</td>\n",
       "      <td>-0.070947</td>\n",
       "      <td>0.089722</td>\n",
       "      <td>0.153589</td>\n",
       "      <td>0.194515</td>\n",
       "      <td>0.206314</td>\n",
       "      <td>1.537634</td>\n",
       "      <td>0.079801</td>\n",
       "      <td>0.458442</td>\n",
       "      <td>0.206314</td>\n",
       "      <td>0.348825</td>\n",
       "    </tr>\n",
       "  </tbody>\n",
       "</table>\n",
       "</div>"
      ],
      "text/plain": [
       "                          seed  mean_episode_sharpe  mean_episode_sortino  \\\n",
       "split agent                                                                 \n",
       "test  lstm                 1.0            -0.022839             -0.010702   \n",
       "      mlp                  1.0            -0.009016              0.007720   \n",
       "      transformer_multi    1.0            -0.001516              0.018376   \n",
       "      transformer_single   1.0            -0.012857             -0.005222   \n",
       "train lstm                 1.0            -0.026309             -0.022146   \n",
       "      mlp                  1.0             0.008707              0.038354   \n",
       "      transformer_multi    1.0             0.002256              0.024894   \n",
       "      transformer_single   1.0             0.006000              0.032084   \n",
       "\n",
       "                          mean_episode_total_reward  mean_cumulative_return  \\\n",
       "split agent                                                                   \n",
       "test  lstm                                -0.014054               -0.015412   \n",
       "      mlp                                 -0.040333               -0.032386   \n",
       "      transformer_multi                   -0.025622               -0.017662   \n",
       "      transformer_single                  -0.056951               -0.050469   \n",
       "train lstm                                -0.059703               -0.058985   \n",
       "      mlp                                  0.026173                0.027870   \n",
       "      transformer_multi                    0.015968                0.016017   \n",
       "      transformer_single                   0.022707                0.022211   \n",
       "\n",
       "                          mean_calmar  mean_max_drawdown  mean_win_rate  \\\n",
       "split agent                                                               \n",
       "test  lstm                   0.218293           0.209261       0.608333   \n",
       "      mlp                    0.307942           0.214944       0.595833   \n",
       "      transformer_multi      0.516542           0.209027       0.533333   \n",
       "      transformer_single     0.184314           0.216646       0.508333   \n",
       "train lstm                   0.010351           0.199566       0.541667   \n",
       "      mlp                    0.545106           0.174483       0.512500   \n",
       "      transformer_multi      0.392807           0.184493       0.500000   \n",
       "      transformer_single     0.465429           0.178850       0.529167   \n",
       "\n",
       "                          mean_alpha  std_episode_sharpe  std_episode_sortino  \\\n",
       "split agent                                                                     \n",
       "test  lstm                 -0.065035            0.097085             0.165696   \n",
       "      mlp                  -0.082010            0.104307             0.162981   \n",
       "      transformer_multi    -0.067286            0.097769             0.166936   \n",
       "      transformer_single   -0.100093            0.097675             0.147079   \n",
       "train lstm                 -0.152143            0.088233             0.135322   \n",
       "      mlp                  -0.065288            0.094118             0.168269   \n",
       "      transformer_multi    -0.077141            0.091816             0.158430   \n",
       "      transformer_single   -0.070947            0.089722             0.153589   \n",
       "\n",
       "                          std_episode_total_reward  std_cumulative_return  \\\n",
       "split agent                                                                 \n",
       "test  lstm                                0.250022               0.250322   \n",
       "      mlp                                 0.260828               0.239442   \n",
       "      transformer_multi                   0.259647               0.238342   \n",
       "      transformer_single                  0.257856               0.220370   \n",
       "train lstm                                0.191231               0.168496   \n",
       "      mlp                                 0.207351               0.224764   \n",
       "      transformer_multi                   0.199319               0.210973   \n",
       "      transformer_single                  0.194515               0.206314   \n",
       "\n",
       "                          std_calmar  std_max_drawdown  std_win_rate  \\\n",
       "split agent                                                            \n",
       "test  lstm                  1.524458          0.088346      0.453213   \n",
       "      mlp                   1.455544          0.122863      0.484976   \n",
       "      transformer_multi     1.927739          0.121956      0.472206   \n",
       "      transformer_single    1.240141          0.130189      0.481420   \n",
       "train lstm                  0.965169          0.102151      0.466466   \n",
       "      mlp                   1.797854          0.077040      0.449493   \n",
       "      transformer_multi     1.473340          0.079427      0.470304   \n",
       "      transformer_single    1.537634          0.079801      0.458442   \n",
       "\n",
       "                          std_alpha  action_entropy  \n",
       "split agent                                          \n",
       "test  lstm                 0.250322        0.391187  \n",
       "      mlp                  0.239442        0.549098  \n",
       "      transformer_multi    0.238342        0.376073  \n",
       "      transformer_single   0.220370        0.320755  \n",
       "train lstm                 0.168496        0.408410  \n",
       "      mlp                  0.224764        0.594390  \n",
       "      transformer_multi    0.210973        0.421903  \n",
       "      transformer_single   0.206314        0.348825  "
      ]
     },
     "execution_count": 3,
     "metadata": {},
     "output_type": "execute_result"
    }
   ],
   "source": [
    "results_df.groupby(['split', 'agent']).mean(numeric_only=True)"
   ]
  },
  {
   "cell_type": "code",
   "execution_count": 4,
   "id": "70ab7c14",
   "metadata": {},
   "outputs": [
    {
     "data": {
      "text/html": [
       "<div>\n",
       "<style scoped>\n",
       "    .dataframe tbody tr th:only-of-type {\n",
       "        vertical-align: middle;\n",
       "    }\n",
       "\n",
       "    .dataframe tbody tr th {\n",
       "        vertical-align: top;\n",
       "    }\n",
       "\n",
       "    .dataframe thead th {\n",
       "        text-align: right;\n",
       "    }\n",
       "</style>\n",
       "<table border=\"1\" class=\"dataframe\">\n",
       "  <thead>\n",
       "    <tr style=\"text-align: right;\">\n",
       "      <th></th>\n",
       "      <th>id</th>\n",
       "      <th>symbol</th>\n",
       "      <th>timestamp</th>\n",
       "      <th>date</th>\n",
       "      <th>open</th>\n",
       "      <th>high</th>\n",
       "      <th>low</th>\n",
       "      <th>close</th>\n",
       "      <th>volume</th>\n",
       "      <th>trade_count</th>\n",
       "      <th>...</th>\n",
       "      <th>vwap_change</th>\n",
       "      <th>trade_count_change</th>\n",
       "      <th>sector_id</th>\n",
       "      <th>industry_id</th>\n",
       "      <th>return_1d</th>\n",
       "      <th>vix</th>\n",
       "      <th>vix_norm</th>\n",
       "      <th>sp500</th>\n",
       "      <th>sp500_norm</th>\n",
       "      <th>market_return_1d</th>\n",
       "    </tr>\n",
       "  </thead>\n",
       "  <tbody>\n",
       "    <tr>\n",
       "      <th>624</th>\n",
       "      <td>625</td>\n",
       "      <td>MMM</td>\n",
       "      <td>2024-07-01 04:00:00</td>\n",
       "      <td>2024-07-01</td>\n",
       "      <td>102.86</td>\n",
       "      <td>103.4494</td>\n",
       "      <td>100.2050</td>\n",
       "      <td>100.61</td>\n",
       "      <td>2705605.0</td>\n",
       "      <td>47196.0</td>\n",
       "      <td>...</td>\n",
       "      <td>-0.011600</td>\n",
       "      <td>-0.015499</td>\n",
       "      <td>unknown</td>\n",
       "      <td>unknown</td>\n",
       "      <td>-0.015461</td>\n",
       "      <td>0.1222</td>\n",
       "      <td>-0.017685</td>\n",
       "      <td>54.7509</td>\n",
       "      <td>0.002676</td>\n",
       "      <td>0.002676</td>\n",
       "    </tr>\n",
       "    <tr>\n",
       "      <th>625</th>\n",
       "      <td>626</td>\n",
       "      <td>MMM</td>\n",
       "      <td>2024-07-02 04:00:00</td>\n",
       "      <td>2024-07-02</td>\n",
       "      <td>100.56</td>\n",
       "      <td>101.9300</td>\n",
       "      <td>100.4600</td>\n",
       "      <td>101.62</td>\n",
       "      <td>2291274.0</td>\n",
       "      <td>43717.0</td>\n",
       "      <td>...</td>\n",
       "      <td>0.001638</td>\n",
       "      <td>-0.073714</td>\n",
       "      <td>unknown</td>\n",
       "      <td>unknown</td>\n",
       "      <td>0.010039</td>\n",
       "      <td>0.1203</td>\n",
       "      <td>-0.015548</td>\n",
       "      <td>55.0901</td>\n",
       "      <td>0.006195</td>\n",
       "      <td>0.006195</td>\n",
       "    </tr>\n",
       "    <tr>\n",
       "      <th>626</th>\n",
       "      <td>627</td>\n",
       "      <td>MMM</td>\n",
       "      <td>2024-07-03 04:00:00</td>\n",
       "      <td>2024-07-03</td>\n",
       "      <td>101.29</td>\n",
       "      <td>102.1500</td>\n",
       "      <td>100.6800</td>\n",
       "      <td>101.62</td>\n",
       "      <td>1230776.0</td>\n",
       "      <td>24937.0</td>\n",
       "      <td>...</td>\n",
       "      <td>0.002640</td>\n",
       "      <td>-0.429581</td>\n",
       "      <td>unknown</td>\n",
       "      <td>unknown</td>\n",
       "      <td>0.000000</td>\n",
       "      <td>0.1209</td>\n",
       "      <td>0.004988</td>\n",
       "      <td>55.3702</td>\n",
       "      <td>0.005084</td>\n",
       "      <td>0.005084</td>\n",
       "    </tr>\n",
       "    <tr>\n",
       "      <th>627</th>\n",
       "      <td>628</td>\n",
       "      <td>MMM</td>\n",
       "      <td>2024-07-05 04:00:00</td>\n",
       "      <td>2024-07-05</td>\n",
       "      <td>101.40</td>\n",
       "      <td>101.6600</td>\n",
       "      <td>100.6400</td>\n",
       "      <td>101.32</td>\n",
       "      <td>3059577.0</td>\n",
       "      <td>40548.0</td>\n",
       "      <td>...</td>\n",
       "      <td>-0.003695</td>\n",
       "      <td>0.626018</td>\n",
       "      <td>unknown</td>\n",
       "      <td>unknown</td>\n",
       "      <td>-0.002952</td>\n",
       "      <td>0.1248</td>\n",
       "      <td>0.017945</td>\n",
       "      <td>55.6719</td>\n",
       "      <td>0.005449</td>\n",
       "      <td>0.005449</td>\n",
       "    </tr>\n",
       "    <tr>\n",
       "      <th>628</th>\n",
       "      <td>629</td>\n",
       "      <td>MMM</td>\n",
       "      <td>2024-07-08 04:00:00</td>\n",
       "      <td>2024-07-08</td>\n",
       "      <td>101.51</td>\n",
       "      <td>102.7400</td>\n",
       "      <td>100.6200</td>\n",
       "      <td>101.10</td>\n",
       "      <td>2338695.0</td>\n",
       "      <td>37410.0</td>\n",
       "      <td>...</td>\n",
       "      <td>0.001051</td>\n",
       "      <td>-0.077390</td>\n",
       "      <td>unknown</td>\n",
       "      <td>unknown</td>\n",
       "      <td>-0.002171</td>\n",
       "      <td>0.1237</td>\n",
       "      <td>-0.008814</td>\n",
       "      <td>55.7285</td>\n",
       "      <td>0.001017</td>\n",
       "      <td>0.001017</td>\n",
       "    </tr>\n",
       "    <tr>\n",
       "      <th>...</th>\n",
       "      <td>...</td>\n",
       "      <td>...</td>\n",
       "      <td>...</td>\n",
       "      <td>...</td>\n",
       "      <td>...</td>\n",
       "      <td>...</td>\n",
       "      <td>...</td>\n",
       "      <td>...</td>\n",
       "      <td>...</td>\n",
       "      <td>...</td>\n",
       "      <td>...</td>\n",
       "      <td>...</td>\n",
       "      <td>...</td>\n",
       "      <td>...</td>\n",
       "      <td>...</td>\n",
       "      <td>...</td>\n",
       "      <td>...</td>\n",
       "      <td>...</td>\n",
       "      <td>...</td>\n",
       "      <td>...</td>\n",
       "      <td>...</td>\n",
       "    </tr>\n",
       "    <tr>\n",
       "      <th>429575</th>\n",
       "      <td>429576</td>\n",
       "      <td>SPY</td>\n",
       "      <td>2024-11-22 05:00:00</td>\n",
       "      <td>2024-11-22</td>\n",
       "      <td>593.66</td>\n",
       "      <td>596.1500</td>\n",
       "      <td>593.1525</td>\n",
       "      <td>595.51</td>\n",
       "      <td>38226390.0</td>\n",
       "      <td>346477.0</td>\n",
       "      <td>...</td>\n",
       "      <td>0.004474</td>\n",
       "      <td>-0.230292</td>\n",
       "      <td>unknown</td>\n",
       "      <td>unknown</td>\n",
       "      <td>0.003099</td>\n",
       "      <td>0.1524</td>\n",
       "      <td>-0.096621</td>\n",
       "      <td>59.6934</td>\n",
       "      <td>0.003468</td>\n",
       "      <td>0.003468</td>\n",
       "    </tr>\n",
       "    <tr>\n",
       "      <th>429576</th>\n",
       "      <td>429577</td>\n",
       "      <td>SPY</td>\n",
       "      <td>2024-11-25 05:00:00</td>\n",
       "      <td>2024-11-25</td>\n",
       "      <td>599.52</td>\n",
       "      <td>600.8600</td>\n",
       "      <td>595.2000</td>\n",
       "      <td>597.53</td>\n",
       "      <td>42441393.0</td>\n",
       "      <td>427181.0</td>\n",
       "      <td>...</td>\n",
       "      <td>0.004801</td>\n",
       "      <td>0.232927</td>\n",
       "      <td>unknown</td>\n",
       "      <td>unknown</td>\n",
       "      <td>0.003392</td>\n",
       "      <td>0.1460</td>\n",
       "      <td>-0.041995</td>\n",
       "      <td>59.8737</td>\n",
       "      <td>0.003020</td>\n",
       "      <td>0.003020</td>\n",
       "    </tr>\n",
       "    <tr>\n",
       "      <th>429577</th>\n",
       "      <td>429578</td>\n",
       "      <td>SPY</td>\n",
       "      <td>2024-11-26 05:00:00</td>\n",
       "      <td>2024-11-26</td>\n",
       "      <td>598.80</td>\n",
       "      <td>601.3300</td>\n",
       "      <td>598.0700</td>\n",
       "      <td>600.65</td>\n",
       "      <td>45621288.0</td>\n",
       "      <td>383149.0</td>\n",
       "      <td>...</td>\n",
       "      <td>0.003447</td>\n",
       "      <td>-0.103076</td>\n",
       "      <td>unknown</td>\n",
       "      <td>unknown</td>\n",
       "      <td>0.005221</td>\n",
       "      <td>0.1410</td>\n",
       "      <td>-0.034247</td>\n",
       "      <td>60.2163</td>\n",
       "      <td>0.005722</td>\n",
       "      <td>0.005722</td>\n",
       "    </tr>\n",
       "    <tr>\n",
       "      <th>429578</th>\n",
       "      <td>429579</td>\n",
       "      <td>SPY</td>\n",
       "      <td>2024-11-27 05:00:00</td>\n",
       "      <td>2024-11-27</td>\n",
       "      <td>600.46</td>\n",
       "      <td>600.8500</td>\n",
       "      <td>597.2800</td>\n",
       "      <td>598.83</td>\n",
       "      <td>34000163.0</td>\n",
       "      <td>332766.0</td>\n",
       "      <td>...</td>\n",
       "      <td>-0.001755</td>\n",
       "      <td>-0.131497</td>\n",
       "      <td>unknown</td>\n",
       "      <td>unknown</td>\n",
       "      <td>-0.003030</td>\n",
       "      <td>0.1410</td>\n",
       "      <td>0.000000</td>\n",
       "      <td>59.9874</td>\n",
       "      <td>-0.003801</td>\n",
       "      <td>-0.003801</td>\n",
       "    </tr>\n",
       "    <tr>\n",
       "      <th>429579</th>\n",
       "      <td>429580</td>\n",
       "      <td>SPY</td>\n",
       "      <td>2024-11-29 05:00:00</td>\n",
       "      <td>2024-11-29</td>\n",
       "      <td>599.66</td>\n",
       "      <td>603.3500</td>\n",
       "      <td>599.3805</td>\n",
       "      <td>602.55</td>\n",
       "      <td>30177351.0</td>\n",
       "      <td>233589.0</td>\n",
       "      <td>...</td>\n",
       "      <td>0.005385</td>\n",
       "      <td>-0.298038</td>\n",
       "      <td>unknown</td>\n",
       "      <td>unknown</td>\n",
       "      <td>0.006212</td>\n",
       "      <td>0.1351</td>\n",
       "      <td>-0.028058</td>\n",
       "      <td>60.3238</td>\n",
       "      <td>0.005608</td>\n",
       "      <td>0.005608</td>\n",
       "    </tr>\n",
       "  </tbody>\n",
       "</table>\n",
       "<p>53928 rows × 34 columns</p>\n",
       "</div>"
      ],
      "text/plain": [
       "            id symbol           timestamp       date    open      high  \\\n",
       "624        625    MMM 2024-07-01 04:00:00 2024-07-01  102.86  103.4494   \n",
       "625        626    MMM 2024-07-02 04:00:00 2024-07-02  100.56  101.9300   \n",
       "626        627    MMM 2024-07-03 04:00:00 2024-07-03  101.29  102.1500   \n",
       "627        628    MMM 2024-07-05 04:00:00 2024-07-05  101.40  101.6600   \n",
       "628        629    MMM 2024-07-08 04:00:00 2024-07-08  101.51  102.7400   \n",
       "...        ...    ...                 ...        ...     ...       ...   \n",
       "429575  429576    SPY 2024-11-22 05:00:00 2024-11-22  593.66  596.1500   \n",
       "429576  429577    SPY 2024-11-25 05:00:00 2024-11-25  599.52  600.8600   \n",
       "429577  429578    SPY 2024-11-26 05:00:00 2024-11-26  598.80  601.3300   \n",
       "429578  429579    SPY 2024-11-27 05:00:00 2024-11-27  600.46  600.8500   \n",
       "429579  429580    SPY 2024-11-29 05:00:00 2024-11-29  599.66  603.3500   \n",
       "\n",
       "             low   close      volume  trade_count  ...  vwap_change  \\\n",
       "624     100.2050  100.61   2705605.0      47196.0  ...    -0.011600   \n",
       "625     100.4600  101.62   2291274.0      43717.0  ...     0.001638   \n",
       "626     100.6800  101.62   1230776.0      24937.0  ...     0.002640   \n",
       "627     100.6400  101.32   3059577.0      40548.0  ...    -0.003695   \n",
       "628     100.6200  101.10   2338695.0      37410.0  ...     0.001051   \n",
       "...          ...     ...         ...          ...  ...          ...   \n",
       "429575  593.1525  595.51  38226390.0     346477.0  ...     0.004474   \n",
       "429576  595.2000  597.53  42441393.0     427181.0  ...     0.004801   \n",
       "429577  598.0700  600.65  45621288.0     383149.0  ...     0.003447   \n",
       "429578  597.2800  598.83  34000163.0     332766.0  ...    -0.001755   \n",
       "429579  599.3805  602.55  30177351.0     233589.0  ...     0.005385   \n",
       "\n",
       "        trade_count_change  sector_id  industry_id  return_1d     vix  \\\n",
       "624              -0.015499    unknown      unknown  -0.015461  0.1222   \n",
       "625              -0.073714    unknown      unknown   0.010039  0.1203   \n",
       "626              -0.429581    unknown      unknown   0.000000  0.1209   \n",
       "627               0.626018    unknown      unknown  -0.002952  0.1248   \n",
       "628              -0.077390    unknown      unknown  -0.002171  0.1237   \n",
       "...                    ...        ...          ...        ...     ...   \n",
       "429575           -0.230292    unknown      unknown   0.003099  0.1524   \n",
       "429576            0.232927    unknown      unknown   0.003392  0.1460   \n",
       "429577           -0.103076    unknown      unknown   0.005221  0.1410   \n",
       "429578           -0.131497    unknown      unknown  -0.003030  0.1410   \n",
       "429579           -0.298038    unknown      unknown   0.006212  0.1351   \n",
       "\n",
       "        vix_norm    sp500  sp500_norm  market_return_1d  \n",
       "624    -0.017685  54.7509    0.002676          0.002676  \n",
       "625    -0.015548  55.0901    0.006195          0.006195  \n",
       "626     0.004988  55.3702    0.005084          0.005084  \n",
       "627     0.017945  55.6719    0.005449          0.005449  \n",
       "628    -0.008814  55.7285    0.001017          0.001017  \n",
       "...          ...      ...         ...               ...  \n",
       "429575 -0.096621  59.6934    0.003468          0.003468  \n",
       "429576 -0.041995  59.8737    0.003020          0.003020  \n",
       "429577 -0.034247  60.2163    0.005722          0.005722  \n",
       "429578  0.000000  59.9874   -0.003801         -0.003801  \n",
       "429579 -0.028058  60.3238    0.005608          0.005608  \n",
       "\n",
       "[53928 rows x 34 columns]"
      ]
     },
     "execution_count": 4,
     "metadata": {},
     "output_type": "execute_result"
    }
   ],
   "source": [
    "df"
   ]
  },
  {
   "cell_type": "code",
   "execution_count": 5,
   "id": "c1bb9ef4",
   "metadata": {
    "scrolled": false
   },
   "outputs": [
    {
     "data": {
      "text/html": [
       "<div>\n",
       "<style scoped>\n",
       "    .dataframe tbody tr th:only-of-type {\n",
       "        vertical-align: middle;\n",
       "    }\n",
       "\n",
       "    .dataframe tbody tr th {\n",
       "        vertical-align: top;\n",
       "    }\n",
       "\n",
       "    .dataframe thead th {\n",
       "        text-align: right;\n",
       "    }\n",
       "</style>\n",
       "<table border=\"1\" class=\"dataframe\">\n",
       "  <thead>\n",
       "    <tr style=\"text-align: right;\">\n",
       "      <th></th>\n",
       "      <th>split</th>\n",
       "      <th>split_start</th>\n",
       "      <th>split_end</th>\n",
       "      <th>agent</th>\n",
       "      <th>seed</th>\n",
       "      <th>mean_episode_sharpe</th>\n",
       "      <th>mean_episode_sortino</th>\n",
       "      <th>mean_episode_total_reward</th>\n",
       "      <th>mean_cumulative_return</th>\n",
       "      <th>mean_calmar</th>\n",
       "      <th>...</th>\n",
       "      <th>std_episode_sharpe</th>\n",
       "      <th>std_episode_sortino</th>\n",
       "      <th>std_episode_total_reward</th>\n",
       "      <th>std_cumulative_return</th>\n",
       "      <th>std_calmar</th>\n",
       "      <th>std_max_drawdown</th>\n",
       "      <th>std_win_rate</th>\n",
       "      <th>std_alpha</th>\n",
       "      <th>action_counts</th>\n",
       "      <th>action_entropy</th>\n",
       "    </tr>\n",
       "  </thead>\n",
       "  <tbody>\n",
       "    <tr>\n",
       "      <th>0</th>\n",
       "      <td>train</td>\n",
       "      <td>2023-01-01</td>\n",
       "      <td>2023-07-01</td>\n",
       "      <td>mlp</td>\n",
       "      <td>0</td>\n",
       "      <td>-0.017205</td>\n",
       "      <td>0.001035</td>\n",
       "      <td>-0.038135</td>\n",
       "      <td>-0.026913</td>\n",
       "      <td>0.705519</td>\n",
       "      <td>...</td>\n",
       "      <td>0.113786</td>\n",
       "      <td>0.200175</td>\n",
       "      <td>0.240828</td>\n",
       "      <td>0.279376</td>\n",
       "      <td>3.506723</td>\n",
       "      <td>0.102423</td>\n",
       "      <td>0.470162</td>\n",
       "      <td>0.279376</td>\n",
       "      <td>{2: 0.6909090909090909, 0: 0.18383838383838383...</td>\n",
       "      <td>8.270308e-01</td>\n",
       "    </tr>\n",
       "    <tr>\n",
       "      <th>1</th>\n",
       "      <td>test</td>\n",
       "      <td>2023-07-01</td>\n",
       "      <td>2023-12-01</td>\n",
       "      <td>mlp</td>\n",
       "      <td>0</td>\n",
       "      <td>-0.018533</td>\n",
       "      <td>-0.023882</td>\n",
       "      <td>-0.039154</td>\n",
       "      <td>-0.049955</td>\n",
       "      <td>-0.081704</td>\n",
       "      <td>...</td>\n",
       "      <td>0.074292</td>\n",
       "      <td>0.106762</td>\n",
       "      <td>0.155586</td>\n",
       "      <td>0.154698</td>\n",
       "      <td>0.722285</td>\n",
       "      <td>0.079809</td>\n",
       "      <td>0.512989</td>\n",
       "      <td>0.154698</td>\n",
       "      <td>{2: 0.7717171717171717, 0: 0.16464646464646465...</td>\n",
       "      <td>6.722862e-01</td>\n",
       "    </tr>\n",
       "    <tr>\n",
       "      <th>2</th>\n",
       "      <td>train</td>\n",
       "      <td>2023-01-01</td>\n",
       "      <td>2023-07-01</td>\n",
       "      <td>mlp</td>\n",
       "      <td>1</td>\n",
       "      <td>0.005478</td>\n",
       "      <td>0.015858</td>\n",
       "      <td>0.018293</td>\n",
       "      <td>0.014823</td>\n",
       "      <td>0.320889</td>\n",
       "      <td>...</td>\n",
       "      <td>0.081378</td>\n",
       "      <td>0.125460</td>\n",
       "      <td>0.180932</td>\n",
       "      <td>0.184627</td>\n",
       "      <td>1.185613</td>\n",
       "      <td>0.075745</td>\n",
       "      <td>0.461690</td>\n",
       "      <td>0.184627</td>\n",
       "      <td>{1: 0.8171717171717172, 2: 0.09494949494949495...</td>\n",
       "      <td>6.022453e-01</td>\n",
       "    </tr>\n",
       "    <tr>\n",
       "      <th>3</th>\n",
       "      <td>test</td>\n",
       "      <td>2023-07-01</td>\n",
       "      <td>2023-12-01</td>\n",
       "      <td>mlp</td>\n",
       "      <td>1</td>\n",
       "      <td>-0.015000</td>\n",
       "      <td>-0.006276</td>\n",
       "      <td>-0.007444</td>\n",
       "      <td>-0.008162</td>\n",
       "      <td>0.236519</td>\n",
       "      <td>...</td>\n",
       "      <td>0.104498</td>\n",
       "      <td>0.162148</td>\n",
       "      <td>0.187967</td>\n",
       "      <td>0.189835</td>\n",
       "      <td>1.210764</td>\n",
       "      <td>0.084998</td>\n",
       "      <td>0.461690</td>\n",
       "      <td>0.189835</td>\n",
       "      <td>{1: 0.8666666666666667, 2: 0.11717171717171718...</td>\n",
       "      <td>4.419189e-01</td>\n",
       "    </tr>\n",
       "    <tr>\n",
       "      <th>4</th>\n",
       "      <td>train</td>\n",
       "      <td>2023-01-01</td>\n",
       "      <td>2023-07-01</td>\n",
       "      <td>mlp</td>\n",
       "      <td>2</td>\n",
       "      <td>-0.004653</td>\n",
       "      <td>0.017854</td>\n",
       "      <td>-0.008262</td>\n",
       "      <td>-0.013495</td>\n",
       "      <td>0.239796</td>\n",
       "      <td>...</td>\n",
       "      <td>0.100223</td>\n",
       "      <td>0.165116</td>\n",
       "      <td>0.172785</td>\n",
       "      <td>0.168776</td>\n",
       "      <td>1.244307</td>\n",
       "      <td>0.073330</td>\n",
       "      <td>0.379577</td>\n",
       "      <td>0.168776</td>\n",
       "      <td>{0: 0.7181818181818181, 2: 0.2737373737373737,...</td>\n",
       "      <td>6.313273e-01</td>\n",
       "    </tr>\n",
       "    <tr>\n",
       "      <th>5</th>\n",
       "      <td>test</td>\n",
       "      <td>2023-07-01</td>\n",
       "      <td>2023-12-01</td>\n",
       "      <td>mlp</td>\n",
       "      <td>2</td>\n",
       "      <td>-0.010510</td>\n",
       "      <td>-0.005680</td>\n",
       "      <td>-0.033467</td>\n",
       "      <td>-0.036752</td>\n",
       "      <td>0.056927</td>\n",
       "      <td>...</td>\n",
       "      <td>0.087689</td>\n",
       "      <td>0.151015</td>\n",
       "      <td>0.157102</td>\n",
       "      <td>0.155262</td>\n",
       "      <td>1.234758</td>\n",
       "      <td>0.071223</td>\n",
       "      <td>0.502625</td>\n",
       "      <td>0.155262</td>\n",
       "      <td>{0: 0.6545454545454545, 2: 0.3378787878787879,...</td>\n",
       "      <td>6.810181e-01</td>\n",
       "    </tr>\n",
       "    <tr>\n",
       "      <th>6</th>\n",
       "      <td>train</td>\n",
       "      <td>2023-01-01</td>\n",
       "      <td>2023-07-01</td>\n",
       "      <td>lstm</td>\n",
       "      <td>0</td>\n",
       "      <td>-0.020974</td>\n",
       "      <td>-0.017355</td>\n",
       "      <td>-0.040627</td>\n",
       "      <td>-0.044903</td>\n",
       "      <td>0.106886</td>\n",
       "      <td>...</td>\n",
       "      <td>0.085466</td>\n",
       "      <td>0.129349</td>\n",
       "      <td>0.173594</td>\n",
       "      <td>0.172272</td>\n",
       "      <td>1.188037</td>\n",
       "      <td>0.085094</td>\n",
       "      <td>0.470162</td>\n",
       "      <td>0.172272</td>\n",
       "      <td>{2: 0.796969696969697, 1: 0.201010101010101, 0...</td>\n",
       "      <td>5.158983e-01</td>\n",
       "    </tr>\n",
       "    <tr>\n",
       "      <th>7</th>\n",
       "      <td>test</td>\n",
       "      <td>2023-07-01</td>\n",
       "      <td>2023-12-01</td>\n",
       "      <td>lstm</td>\n",
       "      <td>0</td>\n",
       "      <td>-0.002537</td>\n",
       "      <td>0.002093</td>\n",
       "      <td>-0.012489</td>\n",
       "      <td>-0.013603</td>\n",
       "      <td>0.204021</td>\n",
       "      <td>...</td>\n",
       "      <td>0.087695</td>\n",
       "      <td>0.135185</td>\n",
       "      <td>0.209440</td>\n",
       "      <td>0.231678</td>\n",
       "      <td>1.225812</td>\n",
       "      <td>0.088389</td>\n",
       "      <td>0.510418</td>\n",
       "      <td>0.231678</td>\n",
       "      <td>{2: 0.8747474747474747, 1: 0.1202020202020202,...</td>\n",
       "      <td>3.984249e-01</td>\n",
       "    </tr>\n",
       "    <tr>\n",
       "      <th>8</th>\n",
       "      <td>train</td>\n",
       "      <td>2023-01-01</td>\n",
       "      <td>2023-07-01</td>\n",
       "      <td>lstm</td>\n",
       "      <td>1</td>\n",
       "      <td>-0.002203</td>\n",
       "      <td>0.001115</td>\n",
       "      <td>-0.006251</td>\n",
       "      <td>-0.018041</td>\n",
       "      <td>0.120018</td>\n",
       "      <td>...</td>\n",
       "      <td>0.070781</td>\n",
       "      <td>0.096657</td>\n",
       "      <td>0.134197</td>\n",
       "      <td>0.126420</td>\n",
       "      <td>0.697176</td>\n",
       "      <td>0.075517</td>\n",
       "      <td>0.475727</td>\n",
       "      <td>0.126420</td>\n",
       "      <td>{2: 0.6757575757575758, 1: 0.3242424242424242}</td>\n",
       "      <td>6.300260e-01</td>\n",
       "    </tr>\n",
       "    <tr>\n",
       "      <th>9</th>\n",
       "      <td>test</td>\n",
       "      <td>2023-07-01</td>\n",
       "      <td>2023-12-01</td>\n",
       "      <td>lstm</td>\n",
       "      <td>1</td>\n",
       "      <td>0.007399</td>\n",
       "      <td>0.045904</td>\n",
       "      <td>0.019334</td>\n",
       "      <td>0.021351</td>\n",
       "      <td>0.676753</td>\n",
       "      <td>...</td>\n",
       "      <td>0.112514</td>\n",
       "      <td>0.196230</td>\n",
       "      <td>0.202749</td>\n",
       "      <td>0.201597</td>\n",
       "      <td>1.494856</td>\n",
       "      <td>0.082809</td>\n",
       "      <td>0.340279</td>\n",
       "      <td>0.201597</td>\n",
       "      <td>{2: 0.751010101010101, 1: 0.24848484848484848,...</td>\n",
       "      <td>5.648588e-01</td>\n",
       "    </tr>\n",
       "    <tr>\n",
       "      <th>10</th>\n",
       "      <td>train</td>\n",
       "      <td>2023-01-01</td>\n",
       "      <td>2023-07-01</td>\n",
       "      <td>lstm</td>\n",
       "      <td>2</td>\n",
       "      <td>-0.020782</td>\n",
       "      <td>-0.015719</td>\n",
       "      <td>-0.036743</td>\n",
       "      <td>-0.043490</td>\n",
       "      <td>-0.010871</td>\n",
       "      <td>...</td>\n",
       "      <td>0.086907</td>\n",
       "      <td>0.137568</td>\n",
       "      <td>0.159071</td>\n",
       "      <td>0.145956</td>\n",
       "      <td>0.772346</td>\n",
       "      <td>0.076454</td>\n",
       "      <td>0.483273</td>\n",
       "      <td>0.145956</td>\n",
       "      <td>{2: 0.9767676767676767, 1: 0.02272727272727272...</td>\n",
       "      <td>1.127984e-01</td>\n",
       "    </tr>\n",
       "    <tr>\n",
       "      <th>11</th>\n",
       "      <td>test</td>\n",
       "      <td>2023-07-01</td>\n",
       "      <td>2023-12-01</td>\n",
       "      <td>lstm</td>\n",
       "      <td>2</td>\n",
       "      <td>-0.032084</td>\n",
       "      <td>-0.039475</td>\n",
       "      <td>-0.057763</td>\n",
       "      <td>-0.062841</td>\n",
       "      <td>-0.222556</td>\n",
       "      <td>...</td>\n",
       "      <td>0.069209</td>\n",
       "      <td>0.101390</td>\n",
       "      <td>0.138161</td>\n",
       "      <td>0.129201</td>\n",
       "      <td>0.682294</td>\n",
       "      <td>0.062525</td>\n",
       "      <td>0.461690</td>\n",
       "      <td>0.129201</td>\n",
       "      <td>{2: 0.9792929292929293, 1: 0.01919191919191919...</td>\n",
       "      <td>1.061986e-01</td>\n",
       "    </tr>\n",
       "    <tr>\n",
       "      <th>12</th>\n",
       "      <td>train</td>\n",
       "      <td>2023-01-01</td>\n",
       "      <td>2023-07-01</td>\n",
       "      <td>transformer_single</td>\n",
       "      <td>0</td>\n",
       "      <td>-0.024684</td>\n",
       "      <td>-0.015241</td>\n",
       "      <td>-0.055953</td>\n",
       "      <td>-0.049705</td>\n",
       "      <td>0.410335</td>\n",
       "      <td>...</td>\n",
       "      <td>0.100450</td>\n",
       "      <td>0.173704</td>\n",
       "      <td>0.215547</td>\n",
       "      <td>0.244275</td>\n",
       "      <td>2.935761</td>\n",
       "      <td>0.093034</td>\n",
       "      <td>0.444262</td>\n",
       "      <td>0.244275</td>\n",
       "      <td>{2: 0.794949494949495, 1: 0.1111111111111111, ...</td>\n",
       "      <td>6.487350e-01</td>\n",
       "    </tr>\n",
       "    <tr>\n",
       "      <th>13</th>\n",
       "      <td>test</td>\n",
       "      <td>2023-07-01</td>\n",
       "      <td>2023-12-01</td>\n",
       "      <td>transformer_single</td>\n",
       "      <td>0</td>\n",
       "      <td>-0.024327</td>\n",
       "      <td>-0.032183</td>\n",
       "      <td>-0.054344</td>\n",
       "      <td>-0.061429</td>\n",
       "      <td>-0.141786</td>\n",
       "      <td>...</td>\n",
       "      <td>0.076803</td>\n",
       "      <td>0.107506</td>\n",
       "      <td>0.176864</td>\n",
       "      <td>0.164648</td>\n",
       "      <td>0.696814</td>\n",
       "      <td>0.083801</td>\n",
       "      <td>0.510418</td>\n",
       "      <td>0.164648</td>\n",
       "      <td>{2: 0.8792929292929293, 0: 0.06717171717171717...</td>\n",
       "      <td>4.512273e-01</td>\n",
       "    </tr>\n",
       "    <tr>\n",
       "      <th>14</th>\n",
       "      <td>train</td>\n",
       "      <td>2023-01-01</td>\n",
       "      <td>2023-07-01</td>\n",
       "      <td>transformer_single</td>\n",
       "      <td>1</td>\n",
       "      <td>0.022751</td>\n",
       "      <td>0.043550</td>\n",
       "      <td>0.053181</td>\n",
       "      <td>0.043975</td>\n",
       "      <td>0.409277</td>\n",
       "      <td>...</td>\n",
       "      <td>0.072796</td>\n",
       "      <td>0.119445</td>\n",
       "      <td>0.147903</td>\n",
       "      <td>0.152817</td>\n",
       "      <td>0.947278</td>\n",
       "      <td>0.068067</td>\n",
       "      <td>0.466651</td>\n",
       "      <td>0.152817</td>\n",
       "      <td>{1: 0.9686868686868687, 2: 0.02727272727272727...</td>\n",
       "      <td>1.513187e-01</td>\n",
       "    </tr>\n",
       "    <tr>\n",
       "      <th>15</th>\n",
       "      <td>test</td>\n",
       "      <td>2023-07-01</td>\n",
       "      <td>2023-12-01</td>\n",
       "      <td>transformer_single</td>\n",
       "      <td>1</td>\n",
       "      <td>0.010351</td>\n",
       "      <td>0.022702</td>\n",
       "      <td>0.026137</td>\n",
       "      <td>0.021841</td>\n",
       "      <td>0.393913</td>\n",
       "      <td>...</td>\n",
       "      <td>0.086620</td>\n",
       "      <td>0.139646</td>\n",
       "      <td>0.164805</td>\n",
       "      <td>0.170627</td>\n",
       "      <td>1.124862</td>\n",
       "      <td>0.086432</td>\n",
       "      <td>0.486664</td>\n",
       "      <td>0.170627</td>\n",
       "      <td>{1: 0.9590909090909091, 2: 0.03131313131313131...</td>\n",
       "      <td>1.931073e-01</td>\n",
       "    </tr>\n",
       "    <tr>\n",
       "      <th>16</th>\n",
       "      <td>train</td>\n",
       "      <td>2023-01-01</td>\n",
       "      <td>2023-07-01</td>\n",
       "      <td>transformer_single</td>\n",
       "      <td>2</td>\n",
       "      <td>-0.015581</td>\n",
       "      <td>-0.003568</td>\n",
       "      <td>-0.013412</td>\n",
       "      <td>-0.016548</td>\n",
       "      <td>0.176175</td>\n",
       "      <td>...</td>\n",
       "      <td>0.099954</td>\n",
       "      <td>0.167969</td>\n",
       "      <td>0.188061</td>\n",
       "      <td>0.182894</td>\n",
       "      <td>1.205178</td>\n",
       "      <td>0.076720</td>\n",
       "      <td>0.432252</td>\n",
       "      <td>0.182894</td>\n",
       "      <td>{2: 0.8409090909090909, 1: 0.11717171717171718...</td>\n",
       "      <td>5.299035e-01</td>\n",
       "    </tr>\n",
       "    <tr>\n",
       "      <th>17</th>\n",
       "      <td>test</td>\n",
       "      <td>2023-07-01</td>\n",
       "      <td>2023-12-01</td>\n",
       "      <td>transformer_single</td>\n",
       "      <td>2</td>\n",
       "      <td>-0.050256</td>\n",
       "      <td>-0.068471</td>\n",
       "      <td>-0.090419</td>\n",
       "      <td>-0.087558</td>\n",
       "      <td>-0.285727</td>\n",
       "      <td>...</td>\n",
       "      <td>0.086040</td>\n",
       "      <td>0.129614</td>\n",
       "      <td>0.177283</td>\n",
       "      <td>0.161467</td>\n",
       "      <td>0.801556</td>\n",
       "      <td>0.080299</td>\n",
       "      <td>0.486664</td>\n",
       "      <td>0.161467</td>\n",
       "      <td>{2: 0.8570707070707071, 1: 0.1, 0: 0.042929292...</td>\n",
       "      <td>4.975987e-01</td>\n",
       "    </tr>\n",
       "    <tr>\n",
       "      <th>18</th>\n",
       "      <td>train</td>\n",
       "      <td>2023-01-01</td>\n",
       "      <td>2023-07-01</td>\n",
       "      <td>transformer_multi</td>\n",
       "      <td>0</td>\n",
       "      <td>-0.025638</td>\n",
       "      <td>-0.012718</td>\n",
       "      <td>-0.046858</td>\n",
       "      <td>-0.038179</td>\n",
       "      <td>0.337013</td>\n",
       "      <td>...</td>\n",
       "      <td>0.105608</td>\n",
       "      <td>0.182406</td>\n",
       "      <td>0.229960</td>\n",
       "      <td>0.261958</td>\n",
       "      <td>2.455372</td>\n",
       "      <td>0.090293</td>\n",
       "      <td>0.489360</td>\n",
       "      <td>0.261958</td>\n",
       "      <td>{2: 0.7712121212121212, 1: 0.13636363636363635...</td>\n",
       "      <td>6.921455e-01</td>\n",
       "    </tr>\n",
       "    <tr>\n",
       "      <th>19</th>\n",
       "      <td>test</td>\n",
       "      <td>2023-07-01</td>\n",
       "      <td>2023-12-01</td>\n",
       "      <td>transformer_multi</td>\n",
       "      <td>0</td>\n",
       "      <td>-0.009109</td>\n",
       "      <td>-0.002490</td>\n",
       "      <td>-0.020751</td>\n",
       "      <td>-0.024021</td>\n",
       "      <td>0.227375</td>\n",
       "      <td>...</td>\n",
       "      <td>0.092062</td>\n",
       "      <td>0.157506</td>\n",
       "      <td>0.198956</td>\n",
       "      <td>0.219329</td>\n",
       "      <td>1.725337</td>\n",
       "      <td>0.073052</td>\n",
       "      <td>0.510418</td>\n",
       "      <td>0.219329</td>\n",
       "      <td>{2: 0.8853535353535353, 1: 0.08181818181818182...</td>\n",
       "      <td>4.247764e-01</td>\n",
       "    </tr>\n",
       "    <tr>\n",
       "      <th>20</th>\n",
       "      <td>train</td>\n",
       "      <td>2023-01-01</td>\n",
       "      <td>2023-07-01</td>\n",
       "      <td>transformer_multi</td>\n",
       "      <td>1</td>\n",
       "      <td>0.011333</td>\n",
       "      <td>0.026165</td>\n",
       "      <td>0.026882</td>\n",
       "      <td>0.022060</td>\n",
       "      <td>0.331860</td>\n",
       "      <td>...</td>\n",
       "      <td>0.082139</td>\n",
       "      <td>0.130980</td>\n",
       "      <td>0.181460</td>\n",
       "      <td>0.178208</td>\n",
       "      <td>1.006975</td>\n",
       "      <td>0.084710</td>\n",
       "      <td>0.466651</td>\n",
       "      <td>0.178208</td>\n",
       "      <td>{1: 0.9646464646464646, 2: 0.03535353535353535}</td>\n",
       "      <td>1.528852e-01</td>\n",
       "    </tr>\n",
       "    <tr>\n",
       "      <th>21</th>\n",
       "      <td>test</td>\n",
       "      <td>2023-07-01</td>\n",
       "      <td>2023-12-01</td>\n",
       "      <td>transformer_multi</td>\n",
       "      <td>1</td>\n",
       "      <td>0.026531</td>\n",
       "      <td>0.045326</td>\n",
       "      <td>0.051484</td>\n",
       "      <td>0.045322</td>\n",
       "      <td>0.561466</td>\n",
       "      <td>...</td>\n",
       "      <td>0.075324</td>\n",
       "      <td>0.130370</td>\n",
       "      <td>0.148274</td>\n",
       "      <td>0.155176</td>\n",
       "      <td>1.072233</td>\n",
       "      <td>0.091836</td>\n",
       "      <td>0.483953</td>\n",
       "      <td>0.155176</td>\n",
       "      <td>{1: 0.9303030303030303, 2: 0.0691919191919192,...</td>\n",
       "      <td>2.558461e-01</td>\n",
       "    </tr>\n",
       "    <tr>\n",
       "      <th>22</th>\n",
       "      <td>train</td>\n",
       "      <td>2023-01-01</td>\n",
       "      <td>2023-07-01</td>\n",
       "      <td>transformer_multi</td>\n",
       "      <td>2</td>\n",
       "      <td>0.015695</td>\n",
       "      <td>0.051151</td>\n",
       "      <td>0.038371</td>\n",
       "      <td>0.033668</td>\n",
       "      <td>0.608016</td>\n",
       "      <td>...</td>\n",
       "      <td>0.105906</td>\n",
       "      <td>0.188960</td>\n",
       "      <td>0.175272</td>\n",
       "      <td>0.179733</td>\n",
       "      <td>1.457393</td>\n",
       "      <td>0.073266</td>\n",
       "      <td>0.472257</td>\n",
       "      <td>0.179733</td>\n",
       "      <td>{2: 0.695959595959596, 1: 0.30404040404040406}</td>\n",
       "      <td>6.142489e-01</td>\n",
       "    </tr>\n",
       "    <tr>\n",
       "      <th>23</th>\n",
       "      <td>test</td>\n",
       "      <td>2023-07-01</td>\n",
       "      <td>2023-12-01</td>\n",
       "      <td>transformer_multi</td>\n",
       "      <td>2</td>\n",
       "      <td>-0.001728</td>\n",
       "      <td>0.012701</td>\n",
       "      <td>0.007578</td>\n",
       "      <td>0.000510</td>\n",
       "      <td>0.147700</td>\n",
       "      <td>...</td>\n",
       "      <td>0.071993</td>\n",
       "      <td>0.117490</td>\n",
       "      <td>0.140217</td>\n",
       "      <td>0.140868</td>\n",
       "      <td>1.057701</td>\n",
       "      <td>0.047367</td>\n",
       "      <td>0.486664</td>\n",
       "      <td>0.140868</td>\n",
       "      <td>{2: 0.7818181818181819, 1: 0.21818181818181817}</td>\n",
       "      <td>5.245971e-01</td>\n",
       "    </tr>\n",
       "    <tr>\n",
       "      <th>24</th>\n",
       "      <td>train</td>\n",
       "      <td>2024-01-01</td>\n",
       "      <td>2024-07-01</td>\n",
       "      <td>mlp</td>\n",
       "      <td>0</td>\n",
       "      <td>0.037719</td>\n",
       "      <td>0.081525</td>\n",
       "      <td>0.131892</td>\n",
       "      <td>0.141022</td>\n",
       "      <td>0.773077</td>\n",
       "      <td>...</td>\n",
       "      <td>0.082939</td>\n",
       "      <td>0.144910</td>\n",
       "      <td>0.305619</td>\n",
       "      <td>0.355194</td>\n",
       "      <td>1.536206</td>\n",
       "      <td>0.072959</td>\n",
       "      <td>0.437547</td>\n",
       "      <td>0.355194</td>\n",
       "      <td>{1: 0.9737373737373738, 0: 0.026262626262626262}</td>\n",
       "      <td>1.215004e-01</td>\n",
       "    </tr>\n",
       "    <tr>\n",
       "      <th>25</th>\n",
       "      <td>test</td>\n",
       "      <td>2024-07-01</td>\n",
       "      <td>2024-12-01</td>\n",
       "      <td>mlp</td>\n",
       "      <td>0</td>\n",
       "      <td>-0.000911</td>\n",
       "      <td>0.016855</td>\n",
       "      <td>-0.153375</td>\n",
       "      <td>-0.116650</td>\n",
       "      <td>0.419971</td>\n",
       "      <td>...</td>\n",
       "      <td>0.125738</td>\n",
       "      <td>0.171444</td>\n",
       "      <td>0.475589</td>\n",
       "      <td>0.351180</td>\n",
       "      <td>2.115571</td>\n",
       "      <td>0.258339</td>\n",
       "      <td>0.494043</td>\n",
       "      <td>0.351180</td>\n",
       "      <td>{1: 0.9787878787878788, 0: 0.02070707070707071...</td>\n",
       "      <td>1.051064e-01</td>\n",
       "    </tr>\n",
       "    <tr>\n",
       "      <th>26</th>\n",
       "      <td>train</td>\n",
       "      <td>2024-01-01</td>\n",
       "      <td>2024-07-01</td>\n",
       "      <td>mlp</td>\n",
       "      <td>1</td>\n",
       "      <td>0.042577</td>\n",
       "      <td>0.091521</td>\n",
       "      <td>0.068599</td>\n",
       "      <td>0.067622</td>\n",
       "      <td>1.129906</td>\n",
       "      <td>...</td>\n",
       "      <td>0.094361</td>\n",
       "      <td>0.169170</td>\n",
       "      <td>0.167176</td>\n",
       "      <td>0.183356</td>\n",
       "      <td>2.191905</td>\n",
       "      <td>0.062574</td>\n",
       "      <td>0.475727</td>\n",
       "      <td>0.183356</td>\n",
       "      <td>{1: 0.554040404040404, 2: 0.44595959595959594}</td>\n",
       "      <td>6.872950e-01</td>\n",
       "    </tr>\n",
       "    <tr>\n",
       "      <th>27</th>\n",
       "      <td>test</td>\n",
       "      <td>2024-07-01</td>\n",
       "      <td>2024-12-01</td>\n",
       "      <td>mlp</td>\n",
       "      <td>1</td>\n",
       "      <td>-0.030590</td>\n",
       "      <td>-0.023789</td>\n",
       "      <td>-0.066571</td>\n",
       "      <td>-0.070844</td>\n",
       "      <td>-0.073468</td>\n",
       "      <td>...</td>\n",
       "      <td>0.101198</td>\n",
       "      <td>0.139506</td>\n",
       "      <td>0.195838</td>\n",
       "      <td>0.169131</td>\n",
       "      <td>0.812270</td>\n",
       "      <td>0.104533</td>\n",
       "      <td>0.483273</td>\n",
       "      <td>0.169131</td>\n",
       "      <td>{1: 0.5333333333333333, 2: 0.46515151515151515...</td>\n",
       "      <td>7.011179e-01</td>\n",
       "    </tr>\n",
       "    <tr>\n",
       "      <th>28</th>\n",
       "      <td>train</td>\n",
       "      <td>2024-01-01</td>\n",
       "      <td>2024-07-01</td>\n",
       "      <td>mlp</td>\n",
       "      <td>2</td>\n",
       "      <td>-0.011673</td>\n",
       "      <td>0.022330</td>\n",
       "      <td>-0.015348</td>\n",
       "      <td>-0.015838</td>\n",
       "      <td>0.101449</td>\n",
       "      <td>...</td>\n",
       "      <td>0.092021</td>\n",
       "      <td>0.204785</td>\n",
       "      <td>0.176765</td>\n",
       "      <td>0.177257</td>\n",
       "      <td>1.122368</td>\n",
       "      <td>0.075209</td>\n",
       "      <td>0.472257</td>\n",
       "      <td>0.177257</td>\n",
       "      <td>{2: 0.5095959595959596, 1: 0.4898989898989899,...</td>\n",
       "      <td>6.969417e-01</td>\n",
       "    </tr>\n",
       "    <tr>\n",
       "      <th>29</th>\n",
       "      <td>test</td>\n",
       "      <td>2024-07-01</td>\n",
       "      <td>2024-12-01</td>\n",
       "      <td>mlp</td>\n",
       "      <td>2</td>\n",
       "      <td>0.021450</td>\n",
       "      <td>0.089092</td>\n",
       "      <td>0.058014</td>\n",
       "      <td>0.088046</td>\n",
       "      <td>1.289405</td>\n",
       "      <td>...</td>\n",
       "      <td>0.132426</td>\n",
       "      <td>0.247011</td>\n",
       "      <td>0.392890</td>\n",
       "      <td>0.416545</td>\n",
       "      <td>2.637613</td>\n",
       "      <td>0.138277</td>\n",
       "      <td>0.455233</td>\n",
       "      <td>0.416545</td>\n",
       "      <td>{1: 0.5015151515151515, 2: 0.4984848484848485}</td>\n",
       "      <td>6.931426e-01</td>\n",
       "    </tr>\n",
       "    <tr>\n",
       "      <th>30</th>\n",
       "      <td>train</td>\n",
       "      <td>2024-01-01</td>\n",
       "      <td>2024-07-01</td>\n",
       "      <td>lstm</td>\n",
       "      <td>0</td>\n",
       "      <td>-0.052260</td>\n",
       "      <td>-0.057235</td>\n",
       "      <td>-0.155291</td>\n",
       "      <td>-0.129058</td>\n",
       "      <td>-0.309987</td>\n",
       "      <td>...</td>\n",
       "      <td>0.090380</td>\n",
       "      <td>0.122284</td>\n",
       "      <td>0.331064</td>\n",
       "      <td>0.236760</td>\n",
       "      <td>0.650584</td>\n",
       "      <td>0.184215</td>\n",
       "      <td>0.441290</td>\n",
       "      <td>0.236760</td>\n",
       "      <td>{2: 0.701010101010101, 1: 0.29848484848484846,...</td>\n",
       "      <td>6.137346e-01</td>\n",
       "    </tr>\n",
       "    <tr>\n",
       "      <th>31</th>\n",
       "      <td>test</td>\n",
       "      <td>2024-07-01</td>\n",
       "      <td>2024-12-01</td>\n",
       "      <td>lstm</td>\n",
       "      <td>0</td>\n",
       "      <td>-0.020341</td>\n",
       "      <td>-0.000092</td>\n",
       "      <td>0.062563</td>\n",
       "      <td>0.046308</td>\n",
       "      <td>0.504365</td>\n",
       "      <td>...</td>\n",
       "      <td>0.108298</td>\n",
       "      <td>0.205423</td>\n",
       "      <td>0.395902</td>\n",
       "      <td>0.377844</td>\n",
       "      <td>2.481109</td>\n",
       "      <td>0.111929</td>\n",
       "      <td>0.483953</td>\n",
       "      <td>0.377844</td>\n",
       "      <td>{2: 0.6368686868686869, 1: 0.3616161616161616,...</td>\n",
       "      <td>6.650124e-01</td>\n",
       "    </tr>\n",
       "    <tr>\n",
       "      <th>32</th>\n",
       "      <td>train</td>\n",
       "      <td>2024-01-01</td>\n",
       "      <td>2024-07-01</td>\n",
       "      <td>lstm</td>\n",
       "      <td>1</td>\n",
       "      <td>-0.031303</td>\n",
       "      <td>-0.024242</td>\n",
       "      <td>-0.056556</td>\n",
       "      <td>-0.058517</td>\n",
       "      <td>-0.056434</td>\n",
       "      <td>...</td>\n",
       "      <td>0.095951</td>\n",
       "      <td>0.142122</td>\n",
       "      <td>0.168175</td>\n",
       "      <td>0.150837</td>\n",
       "      <td>0.684944</td>\n",
       "      <td>0.096753</td>\n",
       "      <td>0.466651</td>\n",
       "      <td>0.150837</td>\n",
       "      <td>{2: 0.9803030303030303, 1: 0.01868686868686868...</td>\n",
       "      <td>1.008416e-01</td>\n",
       "    </tr>\n",
       "    <tr>\n",
       "      <th>33</th>\n",
       "      <td>test</td>\n",
       "      <td>2024-07-01</td>\n",
       "      <td>2024-12-01</td>\n",
       "      <td>lstm</td>\n",
       "      <td>1</td>\n",
       "      <td>-0.056946</td>\n",
       "      <td>-0.065210</td>\n",
       "      <td>-0.069921</td>\n",
       "      <td>-0.077503</td>\n",
       "      <td>-0.277976</td>\n",
       "      <td>...</td>\n",
       "      <td>0.086600</td>\n",
       "      <td>0.142597</td>\n",
       "      <td>0.185179</td>\n",
       "      <td>0.166937</td>\n",
       "      <td>0.813302</td>\n",
       "      <td>0.067239</td>\n",
       "      <td>0.475727</td>\n",
       "      <td>0.166937</td>\n",
       "      <td>{2: 0.9797979797979798, 1: 0.01717171717171717...</td>\n",
       "      <td>1.073638e-01</td>\n",
       "    </tr>\n",
       "    <tr>\n",
       "      <th>34</th>\n",
       "      <td>train</td>\n",
       "      <td>2024-01-01</td>\n",
       "      <td>2024-07-01</td>\n",
       "      <td>lstm</td>\n",
       "      <td>2</td>\n",
       "      <td>-0.030329</td>\n",
       "      <td>-0.019441</td>\n",
       "      <td>-0.062749</td>\n",
       "      <td>-0.059904</td>\n",
       "      <td>0.212495</td>\n",
       "      <td>...</td>\n",
       "      <td>0.099915</td>\n",
       "      <td>0.183954</td>\n",
       "      <td>0.181288</td>\n",
       "      <td>0.178732</td>\n",
       "      <td>1.797930</td>\n",
       "      <td>0.094870</td>\n",
       "      <td>0.461690</td>\n",
       "      <td>0.178732</td>\n",
       "      <td>{2: 0.8161616161616162, 1: 0.18383838383838383}</td>\n",
       "      <td>4.771642e-01</td>\n",
       "    </tr>\n",
       "    <tr>\n",
       "      <th>35</th>\n",
       "      <td>test</td>\n",
       "      <td>2024-07-01</td>\n",
       "      <td>2024-12-01</td>\n",
       "      <td>lstm</td>\n",
       "      <td>2</td>\n",
       "      <td>-0.032527</td>\n",
       "      <td>-0.007431</td>\n",
       "      <td>-0.026049</td>\n",
       "      <td>-0.006182</td>\n",
       "      <td>0.425149</td>\n",
       "      <td>...</td>\n",
       "      <td>0.118196</td>\n",
       "      <td>0.213351</td>\n",
       "      <td>0.368704</td>\n",
       "      <td>0.394674</td>\n",
       "      <td>2.449377</td>\n",
       "      <td>0.117182</td>\n",
       "      <td>0.447214</td>\n",
       "      <td>0.394674</td>\n",
       "      <td>{2: 0.7964646464646464, 1: 0.20353535353535354}</td>\n",
       "      <td>5.052646e-01</td>\n",
       "    </tr>\n",
       "    <tr>\n",
       "      <th>36</th>\n",
       "      <td>train</td>\n",
       "      <td>2024-01-01</td>\n",
       "      <td>2024-07-01</td>\n",
       "      <td>transformer_single</td>\n",
       "      <td>0</td>\n",
       "      <td>0.037719</td>\n",
       "      <td>0.081525</td>\n",
       "      <td>0.131892</td>\n",
       "      <td>0.141022</td>\n",
       "      <td>0.773077</td>\n",
       "      <td>...</td>\n",
       "      <td>0.082939</td>\n",
       "      <td>0.144910</td>\n",
       "      <td>0.305619</td>\n",
       "      <td>0.355194</td>\n",
       "      <td>1.536206</td>\n",
       "      <td>0.072959</td>\n",
       "      <td>0.437547</td>\n",
       "      <td>0.355194</td>\n",
       "      <td>{1: 1.0}</td>\n",
       "      <td>-1.000000e-08</td>\n",
       "    </tr>\n",
       "    <tr>\n",
       "      <th>37</th>\n",
       "      <td>test</td>\n",
       "      <td>2024-07-01</td>\n",
       "      <td>2024-12-01</td>\n",
       "      <td>transformer_single</td>\n",
       "      <td>0</td>\n",
       "      <td>-0.000547</td>\n",
       "      <td>0.017224</td>\n",
       "      <td>-0.153133</td>\n",
       "      <td>-0.116241</td>\n",
       "      <td>0.427651</td>\n",
       "      <td>...</td>\n",
       "      <td>0.126247</td>\n",
       "      <td>0.172227</td>\n",
       "      <td>0.476055</td>\n",
       "      <td>0.351897</td>\n",
       "      <td>2.120840</td>\n",
       "      <td>0.258259</td>\n",
       "      <td>0.483273</td>\n",
       "      <td>0.351897</td>\n",
       "      <td>{1: 0.9994949494949495, 2: 0.000505050505050505}</td>\n",
       "      <td>4.338667e-03</td>\n",
       "    </tr>\n",
       "    <tr>\n",
       "      <th>38</th>\n",
       "      <td>train</td>\n",
       "      <td>2024-01-01</td>\n",
       "      <td>2024-07-01</td>\n",
       "      <td>transformer_single</td>\n",
       "      <td>1</td>\n",
       "      <td>-0.029424</td>\n",
       "      <td>-0.025141</td>\n",
       "      <td>-0.053996</td>\n",
       "      <td>-0.057859</td>\n",
       "      <td>-0.073999</td>\n",
       "      <td>...</td>\n",
       "      <td>0.091941</td>\n",
       "      <td>0.133391</td>\n",
       "      <td>0.155594</td>\n",
       "      <td>0.140056</td>\n",
       "      <td>0.679917</td>\n",
       "      <td>0.093990</td>\n",
       "      <td>0.483273</td>\n",
       "      <td>0.140056</td>\n",
       "      <td>{2: 0.9924242424242424, 1: 0.007575757575757576}</td>\n",
       "      <td>4.453789e-02</td>\n",
       "    </tr>\n",
       "    <tr>\n",
       "      <th>39</th>\n",
       "      <td>test</td>\n",
       "      <td>2024-07-01</td>\n",
       "      <td>2024-12-01</td>\n",
       "      <td>transformer_single</td>\n",
       "      <td>1</td>\n",
       "      <td>-0.039153</td>\n",
       "      <td>-0.036134</td>\n",
       "      <td>-0.034095</td>\n",
       "      <td>-0.042033</td>\n",
       "      <td>-0.090924</td>\n",
       "      <td>...</td>\n",
       "      <td>0.094279</td>\n",
       "      <td>0.150072</td>\n",
       "      <td>0.196429</td>\n",
       "      <td>0.177476</td>\n",
       "      <td>0.890025</td>\n",
       "      <td>0.067746</td>\n",
       "      <td>0.483953</td>\n",
       "      <td>0.177476</td>\n",
       "      <td>{2: 0.9924242424242424, 1: 0.007575757575757576}</td>\n",
       "      <td>4.453789e-02</td>\n",
       "    </tr>\n",
       "    <tr>\n",
       "      <th>40</th>\n",
       "      <td>train</td>\n",
       "      <td>2024-01-01</td>\n",
       "      <td>2024-07-01</td>\n",
       "      <td>transformer_single</td>\n",
       "      <td>2</td>\n",
       "      <td>0.045218</td>\n",
       "      <td>0.111378</td>\n",
       "      <td>0.074526</td>\n",
       "      <td>0.072380</td>\n",
       "      <td>1.097709</td>\n",
       "      <td>...</td>\n",
       "      <td>0.090253</td>\n",
       "      <td>0.182118</td>\n",
       "      <td>0.154368</td>\n",
       "      <td>0.162649</td>\n",
       "      <td>1.921468</td>\n",
       "      <td>0.074037</td>\n",
       "      <td>0.486664</td>\n",
       "      <td>0.162649</td>\n",
       "      <td>{0: 0.6484848484848484, 1: 0.3338383838383838,...</td>\n",
       "      <td>7.184577e-01</td>\n",
       "    </tr>\n",
       "    <tr>\n",
       "      <th>41</th>\n",
       "      <td>test</td>\n",
       "      <td>2024-07-01</td>\n",
       "      <td>2024-12-01</td>\n",
       "      <td>transformer_single</td>\n",
       "      <td>2</td>\n",
       "      <td>0.026790</td>\n",
       "      <td>0.065527</td>\n",
       "      <td>-0.035850</td>\n",
       "      <td>-0.017397</td>\n",
       "      <td>0.802755</td>\n",
       "      <td>...</td>\n",
       "      <td>0.116061</td>\n",
       "      <td>0.183411</td>\n",
       "      <td>0.355698</td>\n",
       "      <td>0.296104</td>\n",
       "      <td>1.806752</td>\n",
       "      <td>0.204599</td>\n",
       "      <td>0.437547</td>\n",
       "      <td>0.296104</td>\n",
       "      <td>{0: 0.5737373737373738, 1: 0.41515151515151516...</td>\n",
       "      <td>7.337215e-01</td>\n",
       "    </tr>\n",
       "    <tr>\n",
       "      <th>42</th>\n",
       "      <td>train</td>\n",
       "      <td>2024-01-01</td>\n",
       "      <td>2024-07-01</td>\n",
       "      <td>transformer_multi</td>\n",
       "      <td>0</td>\n",
       "      <td>0.037719</td>\n",
       "      <td>0.081525</td>\n",
       "      <td>0.131892</td>\n",
       "      <td>0.141022</td>\n",
       "      <td>0.773077</td>\n",
       "      <td>...</td>\n",
       "      <td>0.082939</td>\n",
       "      <td>0.144910</td>\n",
       "      <td>0.305619</td>\n",
       "      <td>0.355194</td>\n",
       "      <td>1.536206</td>\n",
       "      <td>0.072959</td>\n",
       "      <td>0.437547</td>\n",
       "      <td>0.355194</td>\n",
       "      <td>{1: 1.0}</td>\n",
       "      <td>-1.000000e-08</td>\n",
       "    </tr>\n",
       "    <tr>\n",
       "      <th>43</th>\n",
       "      <td>test</td>\n",
       "      <td>2024-07-01</td>\n",
       "      <td>2024-12-01</td>\n",
       "      <td>transformer_multi</td>\n",
       "      <td>0</td>\n",
       "      <td>-0.000034</td>\n",
       "      <td>0.017956</td>\n",
       "      <td>-0.151818</td>\n",
       "      <td>-0.115089</td>\n",
       "      <td>0.432198</td>\n",
       "      <td>...</td>\n",
       "      <td>0.126083</td>\n",
       "      <td>0.171910</td>\n",
       "      <td>0.476211</td>\n",
       "      <td>0.351868</td>\n",
       "      <td>2.118763</td>\n",
       "      <td>0.258259</td>\n",
       "      <td>0.483273</td>\n",
       "      <td>0.351868</td>\n",
       "      <td>{1: 1.0}</td>\n",
       "      <td>-1.000000e-08</td>\n",
       "    </tr>\n",
       "    <tr>\n",
       "      <th>44</th>\n",
       "      <td>train</td>\n",
       "      <td>2024-01-01</td>\n",
       "      <td>2024-07-01</td>\n",
       "      <td>transformer_multi</td>\n",
       "      <td>1</td>\n",
       "      <td>-0.035927</td>\n",
       "      <td>-0.032767</td>\n",
       "      <td>-0.064281</td>\n",
       "      <td>-0.067108</td>\n",
       "      <td>-0.152306</td>\n",
       "      <td>...</td>\n",
       "      <td>0.090586</td>\n",
       "      <td>0.130347</td>\n",
       "      <td>0.157889</td>\n",
       "      <td>0.141735</td>\n",
       "      <td>0.637802</td>\n",
       "      <td>0.090219</td>\n",
       "      <td>0.489360</td>\n",
       "      <td>0.141735</td>\n",
       "      <td>{2: 0.996969696969697, 0: 0.0030303030303030303}</td>\n",
       "      <td>2.059870e-02</td>\n",
       "    </tr>\n",
       "    <tr>\n",
       "      <th>45</th>\n",
       "      <td>test</td>\n",
       "      <td>2024-07-01</td>\n",
       "      <td>2024-12-01</td>\n",
       "      <td>transformer_multi</td>\n",
       "      <td>1</td>\n",
       "      <td>-0.045907</td>\n",
       "      <td>-0.050266</td>\n",
       "      <td>-0.045604</td>\n",
       "      <td>-0.053378</td>\n",
       "      <td>-0.156420</td>\n",
       "      <td>...</td>\n",
       "      <td>0.091944</td>\n",
       "      <td>0.148133</td>\n",
       "      <td>0.194123</td>\n",
       "      <td>0.174390</td>\n",
       "      <td>0.859523</td>\n",
       "      <td>0.063589</td>\n",
       "      <td>0.475727</td>\n",
       "      <td>0.174390</td>\n",
       "      <td>{2: 0.9929292929292929, 0: 0.007070707070707071}</td>\n",
       "      <td>4.205832e-02</td>\n",
       "    </tr>\n",
       "    <tr>\n",
       "      <th>46</th>\n",
       "      <td>train</td>\n",
       "      <td>2024-01-01</td>\n",
       "      <td>2024-07-01</td>\n",
       "      <td>transformer_multi</td>\n",
       "      <td>2</td>\n",
       "      <td>0.010355</td>\n",
       "      <td>0.036009</td>\n",
       "      <td>0.009799</td>\n",
       "      <td>0.004641</td>\n",
       "      <td>0.459185</td>\n",
       "      <td>...</td>\n",
       "      <td>0.083715</td>\n",
       "      <td>0.172975</td>\n",
       "      <td>0.145716</td>\n",
       "      <td>0.149012</td>\n",
       "      <td>1.746293</td>\n",
       "      <td>0.065114</td>\n",
       "      <td>0.466651</td>\n",
       "      <td>0.149012</td>\n",
       "      <td>{2: 0.47878787878787876, 1: 0.2833333333333333...</td>\n",
       "      <td>1.051539e+00</td>\n",
       "    </tr>\n",
       "    <tr>\n",
       "      <th>47</th>\n",
       "      <td>test</td>\n",
       "      <td>2024-07-01</td>\n",
       "      <td>2024-12-01</td>\n",
       "      <td>transformer_multi</td>\n",
       "      <td>2</td>\n",
       "      <td>0.021149</td>\n",
       "      <td>0.087029</td>\n",
       "      <td>0.005376</td>\n",
       "      <td>0.040684</td>\n",
       "      <td>1.886932</td>\n",
       "      <td>...</td>\n",
       "      <td>0.129206</td>\n",
       "      <td>0.276204</td>\n",
       "      <td>0.400100</td>\n",
       "      <td>0.388421</td>\n",
       "      <td>4.732880</td>\n",
       "      <td>0.197636</td>\n",
       "      <td>0.393199</td>\n",
       "      <td>0.388421</td>\n",
       "      <td>{1: 0.5176767676767676, 2: 0.30606060606060603...</td>\n",
       "      <td>1.009161e+00</td>\n",
       "    </tr>\n",
       "  </tbody>\n",
       "</table>\n",
       "<p>48 rows × 23 columns</p>\n",
       "</div>"
      ],
      "text/plain": [
       "    split split_start   split_end               agent  seed  \\\n",
       "0   train  2023-01-01  2023-07-01                 mlp     0   \n",
       "1    test  2023-07-01  2023-12-01                 mlp     0   \n",
       "2   train  2023-01-01  2023-07-01                 mlp     1   \n",
       "3    test  2023-07-01  2023-12-01                 mlp     1   \n",
       "4   train  2023-01-01  2023-07-01                 mlp     2   \n",
       "5    test  2023-07-01  2023-12-01                 mlp     2   \n",
       "6   train  2023-01-01  2023-07-01                lstm     0   \n",
       "7    test  2023-07-01  2023-12-01                lstm     0   \n",
       "8   train  2023-01-01  2023-07-01                lstm     1   \n",
       "9    test  2023-07-01  2023-12-01                lstm     1   \n",
       "10  train  2023-01-01  2023-07-01                lstm     2   \n",
       "11   test  2023-07-01  2023-12-01                lstm     2   \n",
       "12  train  2023-01-01  2023-07-01  transformer_single     0   \n",
       "13   test  2023-07-01  2023-12-01  transformer_single     0   \n",
       "14  train  2023-01-01  2023-07-01  transformer_single     1   \n",
       "15   test  2023-07-01  2023-12-01  transformer_single     1   \n",
       "16  train  2023-01-01  2023-07-01  transformer_single     2   \n",
       "17   test  2023-07-01  2023-12-01  transformer_single     2   \n",
       "18  train  2023-01-01  2023-07-01   transformer_multi     0   \n",
       "19   test  2023-07-01  2023-12-01   transformer_multi     0   \n",
       "20  train  2023-01-01  2023-07-01   transformer_multi     1   \n",
       "21   test  2023-07-01  2023-12-01   transformer_multi     1   \n",
       "22  train  2023-01-01  2023-07-01   transformer_multi     2   \n",
       "23   test  2023-07-01  2023-12-01   transformer_multi     2   \n",
       "24  train  2024-01-01  2024-07-01                 mlp     0   \n",
       "25   test  2024-07-01  2024-12-01                 mlp     0   \n",
       "26  train  2024-01-01  2024-07-01                 mlp     1   \n",
       "27   test  2024-07-01  2024-12-01                 mlp     1   \n",
       "28  train  2024-01-01  2024-07-01                 mlp     2   \n",
       "29   test  2024-07-01  2024-12-01                 mlp     2   \n",
       "30  train  2024-01-01  2024-07-01                lstm     0   \n",
       "31   test  2024-07-01  2024-12-01                lstm     0   \n",
       "32  train  2024-01-01  2024-07-01                lstm     1   \n",
       "33   test  2024-07-01  2024-12-01                lstm     1   \n",
       "34  train  2024-01-01  2024-07-01                lstm     2   \n",
       "35   test  2024-07-01  2024-12-01                lstm     2   \n",
       "36  train  2024-01-01  2024-07-01  transformer_single     0   \n",
       "37   test  2024-07-01  2024-12-01  transformer_single     0   \n",
       "38  train  2024-01-01  2024-07-01  transformer_single     1   \n",
       "39   test  2024-07-01  2024-12-01  transformer_single     1   \n",
       "40  train  2024-01-01  2024-07-01  transformer_single     2   \n",
       "41   test  2024-07-01  2024-12-01  transformer_single     2   \n",
       "42  train  2024-01-01  2024-07-01   transformer_multi     0   \n",
       "43   test  2024-07-01  2024-12-01   transformer_multi     0   \n",
       "44  train  2024-01-01  2024-07-01   transformer_multi     1   \n",
       "45   test  2024-07-01  2024-12-01   transformer_multi     1   \n",
       "46  train  2024-01-01  2024-07-01   transformer_multi     2   \n",
       "47   test  2024-07-01  2024-12-01   transformer_multi     2   \n",
       "\n",
       "    mean_episode_sharpe  mean_episode_sortino  mean_episode_total_reward  \\\n",
       "0             -0.017205              0.001035                  -0.038135   \n",
       "1             -0.018533             -0.023882                  -0.039154   \n",
       "2              0.005478              0.015858                   0.018293   \n",
       "3             -0.015000             -0.006276                  -0.007444   \n",
       "4             -0.004653              0.017854                  -0.008262   \n",
       "5             -0.010510             -0.005680                  -0.033467   \n",
       "6             -0.020974             -0.017355                  -0.040627   \n",
       "7             -0.002537              0.002093                  -0.012489   \n",
       "8             -0.002203              0.001115                  -0.006251   \n",
       "9              0.007399              0.045904                   0.019334   \n",
       "10            -0.020782             -0.015719                  -0.036743   \n",
       "11            -0.032084             -0.039475                  -0.057763   \n",
       "12            -0.024684             -0.015241                  -0.055953   \n",
       "13            -0.024327             -0.032183                  -0.054344   \n",
       "14             0.022751              0.043550                   0.053181   \n",
       "15             0.010351              0.022702                   0.026137   \n",
       "16            -0.015581             -0.003568                  -0.013412   \n",
       "17            -0.050256             -0.068471                  -0.090419   \n",
       "18            -0.025638             -0.012718                  -0.046858   \n",
       "19            -0.009109             -0.002490                  -0.020751   \n",
       "20             0.011333              0.026165                   0.026882   \n",
       "21             0.026531              0.045326                   0.051484   \n",
       "22             0.015695              0.051151                   0.038371   \n",
       "23            -0.001728              0.012701                   0.007578   \n",
       "24             0.037719              0.081525                   0.131892   \n",
       "25            -0.000911              0.016855                  -0.153375   \n",
       "26             0.042577              0.091521                   0.068599   \n",
       "27            -0.030590             -0.023789                  -0.066571   \n",
       "28            -0.011673              0.022330                  -0.015348   \n",
       "29             0.021450              0.089092                   0.058014   \n",
       "30            -0.052260             -0.057235                  -0.155291   \n",
       "31            -0.020341             -0.000092                   0.062563   \n",
       "32            -0.031303             -0.024242                  -0.056556   \n",
       "33            -0.056946             -0.065210                  -0.069921   \n",
       "34            -0.030329             -0.019441                  -0.062749   \n",
       "35            -0.032527             -0.007431                  -0.026049   \n",
       "36             0.037719              0.081525                   0.131892   \n",
       "37            -0.000547              0.017224                  -0.153133   \n",
       "38            -0.029424             -0.025141                  -0.053996   \n",
       "39            -0.039153             -0.036134                  -0.034095   \n",
       "40             0.045218              0.111378                   0.074526   \n",
       "41             0.026790              0.065527                  -0.035850   \n",
       "42             0.037719              0.081525                   0.131892   \n",
       "43            -0.000034              0.017956                  -0.151818   \n",
       "44            -0.035927             -0.032767                  -0.064281   \n",
       "45            -0.045907             -0.050266                  -0.045604   \n",
       "46             0.010355              0.036009                   0.009799   \n",
       "47             0.021149              0.087029                   0.005376   \n",
       "\n",
       "    mean_cumulative_return  mean_calmar  ...  std_episode_sharpe  \\\n",
       "0                -0.026913     0.705519  ...            0.113786   \n",
       "1                -0.049955    -0.081704  ...            0.074292   \n",
       "2                 0.014823     0.320889  ...            0.081378   \n",
       "3                -0.008162     0.236519  ...            0.104498   \n",
       "4                -0.013495     0.239796  ...            0.100223   \n",
       "5                -0.036752     0.056927  ...            0.087689   \n",
       "6                -0.044903     0.106886  ...            0.085466   \n",
       "7                -0.013603     0.204021  ...            0.087695   \n",
       "8                -0.018041     0.120018  ...            0.070781   \n",
       "9                 0.021351     0.676753  ...            0.112514   \n",
       "10               -0.043490    -0.010871  ...            0.086907   \n",
       "11               -0.062841    -0.222556  ...            0.069209   \n",
       "12               -0.049705     0.410335  ...            0.100450   \n",
       "13               -0.061429    -0.141786  ...            0.076803   \n",
       "14                0.043975     0.409277  ...            0.072796   \n",
       "15                0.021841     0.393913  ...            0.086620   \n",
       "16               -0.016548     0.176175  ...            0.099954   \n",
       "17               -0.087558    -0.285727  ...            0.086040   \n",
       "18               -0.038179     0.337013  ...            0.105608   \n",
       "19               -0.024021     0.227375  ...            0.092062   \n",
       "20                0.022060     0.331860  ...            0.082139   \n",
       "21                0.045322     0.561466  ...            0.075324   \n",
       "22                0.033668     0.608016  ...            0.105906   \n",
       "23                0.000510     0.147700  ...            0.071993   \n",
       "24                0.141022     0.773077  ...            0.082939   \n",
       "25               -0.116650     0.419971  ...            0.125738   \n",
       "26                0.067622     1.129906  ...            0.094361   \n",
       "27               -0.070844    -0.073468  ...            0.101198   \n",
       "28               -0.015838     0.101449  ...            0.092021   \n",
       "29                0.088046     1.289405  ...            0.132426   \n",
       "30               -0.129058    -0.309987  ...            0.090380   \n",
       "31                0.046308     0.504365  ...            0.108298   \n",
       "32               -0.058517    -0.056434  ...            0.095951   \n",
       "33               -0.077503    -0.277976  ...            0.086600   \n",
       "34               -0.059904     0.212495  ...            0.099915   \n",
       "35               -0.006182     0.425149  ...            0.118196   \n",
       "36                0.141022     0.773077  ...            0.082939   \n",
       "37               -0.116241     0.427651  ...            0.126247   \n",
       "38               -0.057859    -0.073999  ...            0.091941   \n",
       "39               -0.042033    -0.090924  ...            0.094279   \n",
       "40                0.072380     1.097709  ...            0.090253   \n",
       "41               -0.017397     0.802755  ...            0.116061   \n",
       "42                0.141022     0.773077  ...            0.082939   \n",
       "43               -0.115089     0.432198  ...            0.126083   \n",
       "44               -0.067108    -0.152306  ...            0.090586   \n",
       "45               -0.053378    -0.156420  ...            0.091944   \n",
       "46                0.004641     0.459185  ...            0.083715   \n",
       "47                0.040684     1.886932  ...            0.129206   \n",
       "\n",
       "    std_episode_sortino  std_episode_total_reward  std_cumulative_return  \\\n",
       "0              0.200175                  0.240828               0.279376   \n",
       "1              0.106762                  0.155586               0.154698   \n",
       "2              0.125460                  0.180932               0.184627   \n",
       "3              0.162148                  0.187967               0.189835   \n",
       "4              0.165116                  0.172785               0.168776   \n",
       "5              0.151015                  0.157102               0.155262   \n",
       "6              0.129349                  0.173594               0.172272   \n",
       "7              0.135185                  0.209440               0.231678   \n",
       "8              0.096657                  0.134197               0.126420   \n",
       "9              0.196230                  0.202749               0.201597   \n",
       "10             0.137568                  0.159071               0.145956   \n",
       "11             0.101390                  0.138161               0.129201   \n",
       "12             0.173704                  0.215547               0.244275   \n",
       "13             0.107506                  0.176864               0.164648   \n",
       "14             0.119445                  0.147903               0.152817   \n",
       "15             0.139646                  0.164805               0.170627   \n",
       "16             0.167969                  0.188061               0.182894   \n",
       "17             0.129614                  0.177283               0.161467   \n",
       "18             0.182406                  0.229960               0.261958   \n",
       "19             0.157506                  0.198956               0.219329   \n",
       "20             0.130980                  0.181460               0.178208   \n",
       "21             0.130370                  0.148274               0.155176   \n",
       "22             0.188960                  0.175272               0.179733   \n",
       "23             0.117490                  0.140217               0.140868   \n",
       "24             0.144910                  0.305619               0.355194   \n",
       "25             0.171444                  0.475589               0.351180   \n",
       "26             0.169170                  0.167176               0.183356   \n",
       "27             0.139506                  0.195838               0.169131   \n",
       "28             0.204785                  0.176765               0.177257   \n",
       "29             0.247011                  0.392890               0.416545   \n",
       "30             0.122284                  0.331064               0.236760   \n",
       "31             0.205423                  0.395902               0.377844   \n",
       "32             0.142122                  0.168175               0.150837   \n",
       "33             0.142597                  0.185179               0.166937   \n",
       "34             0.183954                  0.181288               0.178732   \n",
       "35             0.213351                  0.368704               0.394674   \n",
       "36             0.144910                  0.305619               0.355194   \n",
       "37             0.172227                  0.476055               0.351897   \n",
       "38             0.133391                  0.155594               0.140056   \n",
       "39             0.150072                  0.196429               0.177476   \n",
       "40             0.182118                  0.154368               0.162649   \n",
       "41             0.183411                  0.355698               0.296104   \n",
       "42             0.144910                  0.305619               0.355194   \n",
       "43             0.171910                  0.476211               0.351868   \n",
       "44             0.130347                  0.157889               0.141735   \n",
       "45             0.148133                  0.194123               0.174390   \n",
       "46             0.172975                  0.145716               0.149012   \n",
       "47             0.276204                  0.400100               0.388421   \n",
       "\n",
       "    std_calmar  std_max_drawdown  std_win_rate  std_alpha  \\\n",
       "0     3.506723          0.102423      0.470162   0.279376   \n",
       "1     0.722285          0.079809      0.512989   0.154698   \n",
       "2     1.185613          0.075745      0.461690   0.184627   \n",
       "3     1.210764          0.084998      0.461690   0.189835   \n",
       "4     1.244307          0.073330      0.379577   0.168776   \n",
       "5     1.234758          0.071223      0.502625   0.155262   \n",
       "6     1.188037          0.085094      0.470162   0.172272   \n",
       "7     1.225812          0.088389      0.510418   0.231678   \n",
       "8     0.697176          0.075517      0.475727   0.126420   \n",
       "9     1.494856          0.082809      0.340279   0.201597   \n",
       "10    0.772346          0.076454      0.483273   0.145956   \n",
       "11    0.682294          0.062525      0.461690   0.129201   \n",
       "12    2.935761          0.093034      0.444262   0.244275   \n",
       "13    0.696814          0.083801      0.510418   0.164648   \n",
       "14    0.947278          0.068067      0.466651   0.152817   \n",
       "15    1.124862          0.086432      0.486664   0.170627   \n",
       "16    1.205178          0.076720      0.432252   0.182894   \n",
       "17    0.801556          0.080299      0.486664   0.161467   \n",
       "18    2.455372          0.090293      0.489360   0.261958   \n",
       "19    1.725337          0.073052      0.510418   0.219329   \n",
       "20    1.006975          0.084710      0.466651   0.178208   \n",
       "21    1.072233          0.091836      0.483953   0.155176   \n",
       "22    1.457393          0.073266      0.472257   0.179733   \n",
       "23    1.057701          0.047367      0.486664   0.140868   \n",
       "24    1.536206          0.072959      0.437547   0.355194   \n",
       "25    2.115571          0.258339      0.494043   0.351180   \n",
       "26    2.191905          0.062574      0.475727   0.183356   \n",
       "27    0.812270          0.104533      0.483273   0.169131   \n",
       "28    1.122368          0.075209      0.472257   0.177257   \n",
       "29    2.637613          0.138277      0.455233   0.416545   \n",
       "30    0.650584          0.184215      0.441290   0.236760   \n",
       "31    2.481109          0.111929      0.483953   0.377844   \n",
       "32    0.684944          0.096753      0.466651   0.150837   \n",
       "33    0.813302          0.067239      0.475727   0.166937   \n",
       "34    1.797930          0.094870      0.461690   0.178732   \n",
       "35    2.449377          0.117182      0.447214   0.394674   \n",
       "36    1.536206          0.072959      0.437547   0.355194   \n",
       "37    2.120840          0.258259      0.483273   0.351897   \n",
       "38    0.679917          0.093990      0.483273   0.140056   \n",
       "39    0.890025          0.067746      0.483953   0.177476   \n",
       "40    1.921468          0.074037      0.486664   0.162649   \n",
       "41    1.806752          0.204599      0.437547   0.296104   \n",
       "42    1.536206          0.072959      0.437547   0.355194   \n",
       "43    2.118763          0.258259      0.483273   0.351868   \n",
       "44    0.637802          0.090219      0.489360   0.141735   \n",
       "45    0.859523          0.063589      0.475727   0.174390   \n",
       "46    1.746293          0.065114      0.466651   0.149012   \n",
       "47    4.732880          0.197636      0.393199   0.388421   \n",
       "\n",
       "                                        action_counts  action_entropy  \n",
       "0   {2: 0.6909090909090909, 0: 0.18383838383838383...    8.270308e-01  \n",
       "1   {2: 0.7717171717171717, 0: 0.16464646464646465...    6.722862e-01  \n",
       "2   {1: 0.8171717171717172, 2: 0.09494949494949495...    6.022453e-01  \n",
       "3   {1: 0.8666666666666667, 2: 0.11717171717171718...    4.419189e-01  \n",
       "4   {0: 0.7181818181818181, 2: 0.2737373737373737,...    6.313273e-01  \n",
       "5   {0: 0.6545454545454545, 2: 0.3378787878787879,...    6.810181e-01  \n",
       "6   {2: 0.796969696969697, 1: 0.201010101010101, 0...    5.158983e-01  \n",
       "7   {2: 0.8747474747474747, 1: 0.1202020202020202,...    3.984249e-01  \n",
       "8      {2: 0.6757575757575758, 1: 0.3242424242424242}    6.300260e-01  \n",
       "9   {2: 0.751010101010101, 1: 0.24848484848484848,...    5.648588e-01  \n",
       "10  {2: 0.9767676767676767, 1: 0.02272727272727272...    1.127984e-01  \n",
       "11  {2: 0.9792929292929293, 1: 0.01919191919191919...    1.061986e-01  \n",
       "12  {2: 0.794949494949495, 1: 0.1111111111111111, ...    6.487350e-01  \n",
       "13  {2: 0.8792929292929293, 0: 0.06717171717171717...    4.512273e-01  \n",
       "14  {1: 0.9686868686868687, 2: 0.02727272727272727...    1.513187e-01  \n",
       "15  {1: 0.9590909090909091, 2: 0.03131313131313131...    1.931073e-01  \n",
       "16  {2: 0.8409090909090909, 1: 0.11717171717171718...    5.299035e-01  \n",
       "17  {2: 0.8570707070707071, 1: 0.1, 0: 0.042929292...    4.975987e-01  \n",
       "18  {2: 0.7712121212121212, 1: 0.13636363636363635...    6.921455e-01  \n",
       "19  {2: 0.8853535353535353, 1: 0.08181818181818182...    4.247764e-01  \n",
       "20    {1: 0.9646464646464646, 2: 0.03535353535353535}    1.528852e-01  \n",
       "21  {1: 0.9303030303030303, 2: 0.0691919191919192,...    2.558461e-01  \n",
       "22     {2: 0.695959595959596, 1: 0.30404040404040406}    6.142489e-01  \n",
       "23    {2: 0.7818181818181819, 1: 0.21818181818181817}    5.245971e-01  \n",
       "24   {1: 0.9737373737373738, 0: 0.026262626262626262}    1.215004e-01  \n",
       "25  {1: 0.9787878787878788, 0: 0.02070707070707071...    1.051064e-01  \n",
       "26     {1: 0.554040404040404, 2: 0.44595959595959594}    6.872950e-01  \n",
       "27  {1: 0.5333333333333333, 2: 0.46515151515151515...    7.011179e-01  \n",
       "28  {2: 0.5095959595959596, 1: 0.4898989898989899,...    6.969417e-01  \n",
       "29     {1: 0.5015151515151515, 2: 0.4984848484848485}    6.931426e-01  \n",
       "30  {2: 0.701010101010101, 1: 0.29848484848484846,...    6.137346e-01  \n",
       "31  {2: 0.6368686868686869, 1: 0.3616161616161616,...    6.650124e-01  \n",
       "32  {2: 0.9803030303030303, 1: 0.01868686868686868...    1.008416e-01  \n",
       "33  {2: 0.9797979797979798, 1: 0.01717171717171717...    1.073638e-01  \n",
       "34    {2: 0.8161616161616162, 1: 0.18383838383838383}    4.771642e-01  \n",
       "35    {2: 0.7964646464646464, 1: 0.20353535353535354}    5.052646e-01  \n",
       "36                                           {1: 1.0}   -1.000000e-08  \n",
       "37   {1: 0.9994949494949495, 2: 0.000505050505050505}    4.338667e-03  \n",
       "38   {2: 0.9924242424242424, 1: 0.007575757575757576}    4.453789e-02  \n",
       "39   {2: 0.9924242424242424, 1: 0.007575757575757576}    4.453789e-02  \n",
       "40  {0: 0.6484848484848484, 1: 0.3338383838383838,...    7.184577e-01  \n",
       "41  {0: 0.5737373737373738, 1: 0.41515151515151516...    7.337215e-01  \n",
       "42                                           {1: 1.0}   -1.000000e-08  \n",
       "43                                           {1: 1.0}   -1.000000e-08  \n",
       "44   {2: 0.996969696969697, 0: 0.0030303030303030303}    2.059870e-02  \n",
       "45   {2: 0.9929292929292929, 0: 0.007070707070707071}    4.205832e-02  \n",
       "46  {2: 0.47878787878787876, 1: 0.2833333333333333...    1.051539e+00  \n",
       "47  {1: 0.5176767676767676, 2: 0.30606060606060603...    1.009161e+00  \n",
       "\n",
       "[48 rows x 23 columns]"
      ]
     },
     "execution_count": 5,
     "metadata": {},
     "output_type": "execute_result"
    }
   ],
   "source": [
    "results_df"
   ]
  },
  {
   "cell_type": "code",
   "execution_count": 6,
   "id": "86923c46",
   "metadata": {},
   "outputs": [
    {
     "data": {
      "text/plain": [
       "{('train', '2023-01-01', 0): [('SYF', 14),\n",
       "  ('INVH', 6),\n",
       "  ('DHI', 0),\n",
       "  ('APA', 0),\n",
       "  ('CARR', 18),\n",
       "  ('MS', 20),\n",
       "  ('IPG', 13),\n",
       "  ('WST', 16),\n",
       "  ('MAA', 12),\n",
       "  ('LRCX', 21),\n",
       "  ('DECK', 18),\n",
       "  ('NKE', 0),\n",
       "  ('FI', 19),\n",
       "  ('LHX', 0),\n",
       "  ('PTC', 16),\n",
       "  ('SYK', 4),\n",
       "  ('ANET', 19),\n",
       "  ('ABNB', 12),\n",
       "  ('AMAT', 6),\n",
       "  ('IBM', 9)],\n",
       " ('train', '2023-01-01', 1): [('HUBB', 11),\n",
       "  ('PGR', 21),\n",
       "  ('LNT', 3),\n",
       "  ('SPG', 21),\n",
       "  ('CPAY', 7),\n",
       "  ('TEL', 9),\n",
       "  ('DVA', 19),\n",
       "  ('COST', 9),\n",
       "  ('MPWR', 12),\n",
       "  ('ACGL', 0),\n",
       "  ('TGT', 17),\n",
       "  ('SBUX', 12),\n",
       "  ('NOW', 7),\n",
       "  ('HES', 18),\n",
       "  ('BBY', 6),\n",
       "  ('BBY', 10),\n",
       "  ('WSM', 3),\n",
       "  ('FRT', 9),\n",
       "  ('USB', 4),\n",
       "  ('IPG', 6)],\n",
       " ('train', '2023-01-01', 2): [('SBUX', 6),\n",
       "  ('AXON', 6),\n",
       "  ('GE', 18),\n",
       "  ('HSY', 2),\n",
       "  ('ENPH', 13),\n",
       "  ('SLB', 16),\n",
       "  ('ZBRA', 4),\n",
       "  ('TXT', 1),\n",
       "  ('LH', 6),\n",
       "  ('CMG', 15),\n",
       "  ('DOW', 12),\n",
       "  ('CRWD', 3),\n",
       "  ('PPL', 9),\n",
       "  ('NSC', 15),\n",
       "  ('VMC', 9),\n",
       "  ('CLX', 14),\n",
       "  ('VRTX', 22),\n",
       "  ('TEL', 15),\n",
       "  ('FAST', 9),\n",
       "  ('GOOGL', 4)],\n",
       " ('test', '2023-07-01', 0): [('SNPS', 3),\n",
       "  ('IQV', 1),\n",
       "  ('DHI', 0),\n",
       "  ('APA', 0),\n",
       "  ('CARR', 4),\n",
       "  ('MOS', 4),\n",
       "  ('INTU', 3),\n",
       "  ('WST', 3),\n",
       "  ('MRNA', 2),\n",
       "  ('LW', 4),\n",
       "  ('DECK', 4),\n",
       "  ('NKE', 0),\n",
       "  ('FI', 4),\n",
       "  ('LHX', 0),\n",
       "  ('PSA', 3),\n",
       "  ('SMCI', 0),\n",
       "  ('ANET', 4),\n",
       "  ('ABNB', 2),\n",
       "  ('AMAT', 1),\n",
       "  ('IEX', 2)],\n",
       " ('test', '2023-07-01', 1): [('HUM', 2),\n",
       "  ('PGR', 4),\n",
       "  ('LNT', 0),\n",
       "  ('SWKS', 4),\n",
       "  ('CPAY', 1),\n",
       "  ('TDY', 2),\n",
       "  ('DVA', 4),\n",
       "  ('CTRA', 2),\n",
       "  ('MNST', 2),\n",
       "  ('ACGL', 0),\n",
       "  ('TGT', 3),\n",
       "  ('STT', 2),\n",
       "  ('NOW', 1),\n",
       "  ('HES', 3),\n",
       "  ('BBY', 1),\n",
       "  ('TECH', 2),\n",
       "  ('WSM', 0),\n",
       "  ('FDX', 2),\n",
       "  ('UBER', 1),\n",
       "  ('IPG', 1)],\n",
       " ('test', '2023-07-01', 2): [('SBUX', 1),\n",
       "  ('AXON', 1),\n",
       "  ('GE', 4),\n",
       "  ('HES', 0),\n",
       "  ('ETR', 3),\n",
       "  ('STX', 3),\n",
       "  ('ZBRA', 0),\n",
       "  ('TMO', 0),\n",
       "  ('LRCX', 1),\n",
       "  ('CMG', 3),\n",
       "  ('DOW', 2),\n",
       "  ('CRWD', 0),\n",
       "  ('PPL', 2),\n",
       "  ('NTRS', 3),\n",
       "  ('VMC', 2),\n",
       "  ('CLX', 3),\n",
       "  ('VRTX', 4),\n",
       "  ('TDY', 3),\n",
       "  ('FAST', 1),\n",
       "  ('GOOGL', 0)],\n",
       " ('train', '2024-01-01', 0): [('SNPS', 14),\n",
       "  ('IQV', 6),\n",
       "  ('DHI', 0),\n",
       "  ('APA', 0),\n",
       "  ('CARR', 18),\n",
       "  ('MOS', 20),\n",
       "  ('INTU', 13),\n",
       "  ('WST', 16),\n",
       "  ('MRNA', 12),\n",
       "  ('LW', 21),\n",
       "  ('DECK', 18),\n",
       "  ('NKE', 0),\n",
       "  ('FI', 19),\n",
       "  ('LHX', 0),\n",
       "  ('PSA', 16),\n",
       "  ('SMCI', 4),\n",
       "  ('ANET', 19),\n",
       "  ('ABNB', 12),\n",
       "  ('AMAT', 6),\n",
       "  ('IEX', 9)],\n",
       " ('train', '2024-01-01', 1): [('HUM', 11),\n",
       "  ('PGR', 21),\n",
       "  ('LNT', 3),\n",
       "  ('SWKS', 21),\n",
       "  ('CPAY', 7),\n",
       "  ('TDY', 9),\n",
       "  ('DVA', 19),\n",
       "  ('CTRA', 9),\n",
       "  ('MNST', 12),\n",
       "  ('ACGL', 0),\n",
       "  ('TGT', 17),\n",
       "  ('STT', 12),\n",
       "  ('NOW', 7),\n",
       "  ('HES', 18),\n",
       "  ('BBY', 6),\n",
       "  ('TECH', 10),\n",
       "  ('WSM', 3),\n",
       "  ('FDX', 9),\n",
       "  ('UBER', 4),\n",
       "  ('IPG', 6)],\n",
       " ('train', '2024-01-01', 2): [('SBUX', 6),\n",
       "  ('AXON', 6),\n",
       "  ('GE', 18),\n",
       "  ('HES', 2),\n",
       "  ('ETR', 13),\n",
       "  ('STX', 16),\n",
       "  ('ZBRA', 4),\n",
       "  ('TMO', 1),\n",
       "  ('LRCX', 6),\n",
       "  ('CMG', 15),\n",
       "  ('DOW', 12),\n",
       "  ('CRWD', 3),\n",
       "  ('PPL', 9),\n",
       "  ('NTRS', 15),\n",
       "  ('VMC', 9),\n",
       "  ('CLX', 14),\n",
       "  ('VRTX', 22),\n",
       "  ('TDY', 15),\n",
       "  ('FAST', 9),\n",
       "  ('GOOGL', 4)],\n",
       " ('test', '2024-07-01', 0): [('SNPS', 3),\n",
       "  ('IQV', 1),\n",
       "  ('DHI', 0),\n",
       "  ('APA', 0),\n",
       "  ('CARR', 4),\n",
       "  ('MOS', 5),\n",
       "  ('INTU', 3),\n",
       "  ('WST', 4),\n",
       "  ('MRNA', 3),\n",
       "  ('LW', 5),\n",
       "  ('DECK', 4),\n",
       "  ('NKE', 0),\n",
       "  ('FI', 5),\n",
       "  ('LHX', 0),\n",
       "  ('PSA', 4),\n",
       "  ('SMCI', 1),\n",
       "  ('ANET', 5),\n",
       "  ('ABNB', 3),\n",
       "  ('AMAT', 1),\n",
       "  ('IEX', 2)],\n",
       " ('test', '2024-07-01', 1): [('HUM', 3),\n",
       "  ('PGR', 5),\n",
       "  ('LNT', 0),\n",
       "  ('SWKS', 5),\n",
       "  ('CPAY', 1),\n",
       "  ('TDY', 2),\n",
       "  ('DVA', 4),\n",
       "  ('CTRA', 2),\n",
       "  ('MNST', 3),\n",
       "  ('ACGL', 0),\n",
       "  ('TGT', 4),\n",
       "  ('STT', 3),\n",
       "  ('NOW', 1),\n",
       "  ('HES', 4),\n",
       "  ('BBY', 1),\n",
       "  ('TECH', 2),\n",
       "  ('WSM', 0),\n",
       "  ('FDX', 2),\n",
       "  ('UBER', 1),\n",
       "  ('IPG', 1)],\n",
       " ('test', '2024-07-01', 2): [('SBUX', 1),\n",
       "  ('AXON', 1),\n",
       "  ('GE', 4),\n",
       "  ('HES', 0),\n",
       "  ('ETR', 3),\n",
       "  ('STX', 4),\n",
       "  ('ZBRA', 1),\n",
       "  ('TMO', 0),\n",
       "  ('LRCX', 1),\n",
       "  ('CMG', 3),\n",
       "  ('DOW', 3),\n",
       "  ('CRWD', 0),\n",
       "  ('PPL', 2),\n",
       "  ('NTRS', 4),\n",
       "  ('VMC', 2),\n",
       "  ('CLX', 3),\n",
       "  ('VRTX', 5),\n",
       "  ('TDY', 4),\n",
       "  ('FAST', 2),\n",
       "  ('GOOGL', 1)]}"
      ]
     },
     "execution_count": 6,
     "metadata": {},
     "output_type": "execute_result"
    }
   ],
   "source": [
    "episode_sequences"
   ]
  },
  {
   "cell_type": "code",
   "execution_count": 7,
   "id": "956de80d",
   "metadata": {},
   "outputs": [
    {
     "name": "stdout",
     "output_type": "stream",
     "text": [
      "Defaulting to user installation because normal site-packages is not writeable\n",
      "Requirement already satisfied: plotly in c:\\programdata\\anaconda3\\lib\\site-packages (5.9.0)\n",
      "Requirement already satisfied: tenacity>=6.2.0 in c:\\programdata\\anaconda3\\lib\\site-packages (from plotly) (8.2.2)\n"
     ]
    },
    {
     "name": "stderr",
     "output_type": "stream",
     "text": [
      "DEPRECATION: Loading egg at c:\\programdata\\anaconda3\\lib\\site-packages\\vboxapi-1.0-py3.11.egg is deprecated. pip 23.3 will enforce this behaviour change. A possible replacement is to use pip for package installation..\n"
     ]
    }
   ],
   "source": [
    "!pip install plotly"
   ]
  },
  {
   "cell_type": "code",
   "execution_count": 16,
   "id": "ec8147d7",
   "metadata": {},
   "outputs": [],
   "source": [
    "import plotly.express as px\n",
    "import plotly.graph_objects as go\n",
    "import pandas as pd\n",
    "from IPython.display import display\n",
    "\n",
    "def plotly_leaderboard(df, metric=\"mean_episode_sharpe\", top_k=3):\n",
    "    test_df = df[df[\"split\"] == \"test\"]\n",
    "    leaderboard = (\n",
    "        test_df.groupby(\"agent\")[metric]\n",
    "        .mean()\n",
    "        .sort_values(ascending=False)\n",
    "        .reset_index()\n",
    "    )\n",
    "    leaderboard['Rank'] = leaderboard[metric].rank(ascending=False, method='min')\n",
    "    leaderboard = leaderboard.sort_values('Rank')\n",
    "    fig = px.bar(\n",
    "        leaderboard.head(top_k),\n",
    "        x=\"agent\",\n",
    "        y=metric,\n",
    "        color=\"agent\",\n",
    "        text=metric,\n",
    "        title=f\"Top-{top_k} Agents by {metric} (test splits)\"\n",
    "    )\n",
    "    fig.update_traces(texttemplate='%{text:.3f}', textposition='outside')\n",
    "    fig.update_layout(yaxis_title=metric, xaxis_title=\"Agent\", showlegend=False)\n",
    "    fig.show()\n",
    "    return leaderboard\n",
    "\n",
    "\n",
    "\n",
    "def plotly_metric_by_agent_and_split(df, metric=\"mean_episode_sharpe\"):\n",
    "    df = df.copy()\n",
    "    fig = px.box(\n",
    "        df[df[\"split\"] == \"test\"],\n",
    "        x=\"agent\",\n",
    "        y=metric,\n",
    "        points=\"all\",\n",
    "        color=\"agent\",\n",
    "        title=f\"{metric} distribution per Agent (test splits)\",\n",
    "        hover_data=[\"seed\", \"split_start\", \"split_end\"]\n",
    "    )\n",
    "    fig.show()\n",
    "\n",
    "\n",
    "\n",
    "# Interactive policy sanity check (bar for action counts)\n",
    "def plotly_action_distribution(df):\n",
    "    import ast\n",
    "    df = df[df[\"split\"] == \"test\"].copy()\n",
    "    all_action_data = []\n",
    "    for idx, row in df.iterrows():\n",
    "        counts = row[\"action_counts\"]\n",
    "        if isinstance(counts, str):\n",
    "            counts = ast.literal_eval(counts)\n",
    "        for action, frac in counts.items():\n",
    "            all_action_data.append({\n",
    "                \"agent\": row[\"agent\"],\n",
    "                \"seed\": row[\"seed\"],\n",
    "                \"split_start\": row[\"split_start\"],\n",
    "                \"split_end\": row[\"split_end\"],\n",
    "                \"action\": str(action),\n",
    "                \"fraction\": frac\n",
    "            })\n",
    "    actions_df = pd.DataFrame(all_action_data)\n",
    "    fig = px.bar(\n",
    "        actions_df,\n",
    "        x=\"action\",\n",
    "        y=\"fraction\",\n",
    "        color=\"agent\",\n",
    "        barmode=\"group\",\n",
    "        facet_col=\"agent\",\n",
    "        title=\"Agent Action Distributions (test splits)\",\n",
    "        category_orders={\"action\": sorted(actions_df[\"action\"].unique())}\n",
    "    )\n",
    "    fig.show()\n",
    "\n",
    "\n"
   ]
  },
  {
   "cell_type": "code",
   "execution_count": 18,
   "id": "2f9c704d",
   "metadata": {
    "scrolled": false
   },
   "outputs": [
    {
     "name": "stdout",
     "output_type": "stream",
     "text": [
      "MEAN EPISODE SHARPE\n"
     ]
    },
    {
     "data": {
      "application/vnd.plotly.v1+json": {
       "config": {
        "plotlyServerURL": "https://plot.ly"
       },
       "data": [
        {
         "alignmentgroup": "True",
         "hovertemplate": "agent=%{x}<br>mean_episode_sharpe=%{text}<extra></extra>",
         "legendgroup": "transformer_multi",
         "marker": {
          "color": "#636efa",
          "pattern": {
           "shape": ""
          }
         },
         "name": "transformer_multi",
         "offsetgroup": "transformer_multi",
         "orientation": "v",
         "showlegend": true,
         "text": [
          -0.0015164971011478515
         ],
         "textposition": "outside",
         "texttemplate": "%{text:.3f}",
         "type": "bar",
         "x": [
          "transformer_multi"
         ],
         "xaxis": "x",
         "y": [
          -0.0015164971011478515
         ],
         "yaxis": "y"
        },
        {
         "alignmentgroup": "True",
         "hovertemplate": "agent=%{x}<br>mean_episode_sharpe=%{text}<extra></extra>",
         "legendgroup": "mlp",
         "marker": {
          "color": "#EF553B",
          "pattern": {
           "shape": ""
          }
         },
         "name": "mlp",
         "offsetgroup": "mlp",
         "orientation": "v",
         "showlegend": true,
         "text": [
          -0.009015589528104068
         ],
         "textposition": "outside",
         "texttemplate": "%{text:.3f}",
         "type": "bar",
         "x": [
          "mlp"
         ],
         "xaxis": "x",
         "y": [
          -0.009015589528104068
         ],
         "yaxis": "y"
        },
        {
         "alignmentgroup": "True",
         "hovertemplate": "agent=%{x}<br>mean_episode_sharpe=%{text}<extra></extra>",
         "legendgroup": "transformer_single",
         "marker": {
          "color": "#00cc96",
          "pattern": {
           "shape": ""
          }
         },
         "name": "transformer_single",
         "offsetgroup": "transformer_single",
         "orientation": "v",
         "showlegend": true,
         "text": [
          -0.012856769788802
         ],
         "textposition": "outside",
         "texttemplate": "%{text:.3f}",
         "type": "bar",
         "x": [
          "transformer_single"
         ],
         "xaxis": "x",
         "y": [
          -0.012856769788802
         ],
         "yaxis": "y"
        }
       ],
       "layout": {
        "barmode": "relative",
        "legend": {
         "title": {
          "text": "agent"
         },
         "tracegroupgap": 0
        },
        "showlegend": false,
        "template": {
         "data": {
          "bar": [
           {
            "error_x": {
             "color": "#2a3f5f"
            },
            "error_y": {
             "color": "#2a3f5f"
            },
            "marker": {
             "line": {
              "color": "#E5ECF6",
              "width": 0.5
             },
             "pattern": {
              "fillmode": "overlay",
              "size": 10,
              "solidity": 0.2
             }
            },
            "type": "bar"
           }
          ],
          "barpolar": [
           {
            "marker": {
             "line": {
              "color": "#E5ECF6",
              "width": 0.5
             },
             "pattern": {
              "fillmode": "overlay",
              "size": 10,
              "solidity": 0.2
             }
            },
            "type": "barpolar"
           }
          ],
          "carpet": [
           {
            "aaxis": {
             "endlinecolor": "#2a3f5f",
             "gridcolor": "white",
             "linecolor": "white",
             "minorgridcolor": "white",
             "startlinecolor": "#2a3f5f"
            },
            "baxis": {
             "endlinecolor": "#2a3f5f",
             "gridcolor": "white",
             "linecolor": "white",
             "minorgridcolor": "white",
             "startlinecolor": "#2a3f5f"
            },
            "type": "carpet"
           }
          ],
          "choropleth": [
           {
            "colorbar": {
             "outlinewidth": 0,
             "ticks": ""
            },
            "type": "choropleth"
           }
          ],
          "contour": [
           {
            "colorbar": {
             "outlinewidth": 0,
             "ticks": ""
            },
            "colorscale": [
             [
              0,
              "#0d0887"
             ],
             [
              0.1111111111111111,
              "#46039f"
             ],
             [
              0.2222222222222222,
              "#7201a8"
             ],
             [
              0.3333333333333333,
              "#9c179e"
             ],
             [
              0.4444444444444444,
              "#bd3786"
             ],
             [
              0.5555555555555556,
              "#d8576b"
             ],
             [
              0.6666666666666666,
              "#ed7953"
             ],
             [
              0.7777777777777778,
              "#fb9f3a"
             ],
             [
              0.8888888888888888,
              "#fdca26"
             ],
             [
              1,
              "#f0f921"
             ]
            ],
            "type": "contour"
           }
          ],
          "contourcarpet": [
           {
            "colorbar": {
             "outlinewidth": 0,
             "ticks": ""
            },
            "type": "contourcarpet"
           }
          ],
          "heatmap": [
           {
            "colorbar": {
             "outlinewidth": 0,
             "ticks": ""
            },
            "colorscale": [
             [
              0,
              "#0d0887"
             ],
             [
              0.1111111111111111,
              "#46039f"
             ],
             [
              0.2222222222222222,
              "#7201a8"
             ],
             [
              0.3333333333333333,
              "#9c179e"
             ],
             [
              0.4444444444444444,
              "#bd3786"
             ],
             [
              0.5555555555555556,
              "#d8576b"
             ],
             [
              0.6666666666666666,
              "#ed7953"
             ],
             [
              0.7777777777777778,
              "#fb9f3a"
             ],
             [
              0.8888888888888888,
              "#fdca26"
             ],
             [
              1,
              "#f0f921"
             ]
            ],
            "type": "heatmap"
           }
          ],
          "heatmapgl": [
           {
            "colorbar": {
             "outlinewidth": 0,
             "ticks": ""
            },
            "colorscale": [
             [
              0,
              "#0d0887"
             ],
             [
              0.1111111111111111,
              "#46039f"
             ],
             [
              0.2222222222222222,
              "#7201a8"
             ],
             [
              0.3333333333333333,
              "#9c179e"
             ],
             [
              0.4444444444444444,
              "#bd3786"
             ],
             [
              0.5555555555555556,
              "#d8576b"
             ],
             [
              0.6666666666666666,
              "#ed7953"
             ],
             [
              0.7777777777777778,
              "#fb9f3a"
             ],
             [
              0.8888888888888888,
              "#fdca26"
             ],
             [
              1,
              "#f0f921"
             ]
            ],
            "type": "heatmapgl"
           }
          ],
          "histogram": [
           {
            "marker": {
             "pattern": {
              "fillmode": "overlay",
              "size": 10,
              "solidity": 0.2
             }
            },
            "type": "histogram"
           }
          ],
          "histogram2d": [
           {
            "colorbar": {
             "outlinewidth": 0,
             "ticks": ""
            },
            "colorscale": [
             [
              0,
              "#0d0887"
             ],
             [
              0.1111111111111111,
              "#46039f"
             ],
             [
              0.2222222222222222,
              "#7201a8"
             ],
             [
              0.3333333333333333,
              "#9c179e"
             ],
             [
              0.4444444444444444,
              "#bd3786"
             ],
             [
              0.5555555555555556,
              "#d8576b"
             ],
             [
              0.6666666666666666,
              "#ed7953"
             ],
             [
              0.7777777777777778,
              "#fb9f3a"
             ],
             [
              0.8888888888888888,
              "#fdca26"
             ],
             [
              1,
              "#f0f921"
             ]
            ],
            "type": "histogram2d"
           }
          ],
          "histogram2dcontour": [
           {
            "colorbar": {
             "outlinewidth": 0,
             "ticks": ""
            },
            "colorscale": [
             [
              0,
              "#0d0887"
             ],
             [
              0.1111111111111111,
              "#46039f"
             ],
             [
              0.2222222222222222,
              "#7201a8"
             ],
             [
              0.3333333333333333,
              "#9c179e"
             ],
             [
              0.4444444444444444,
              "#bd3786"
             ],
             [
              0.5555555555555556,
              "#d8576b"
             ],
             [
              0.6666666666666666,
              "#ed7953"
             ],
             [
              0.7777777777777778,
              "#fb9f3a"
             ],
             [
              0.8888888888888888,
              "#fdca26"
             ],
             [
              1,
              "#f0f921"
             ]
            ],
            "type": "histogram2dcontour"
           }
          ],
          "mesh3d": [
           {
            "colorbar": {
             "outlinewidth": 0,
             "ticks": ""
            },
            "type": "mesh3d"
           }
          ],
          "parcoords": [
           {
            "line": {
             "colorbar": {
              "outlinewidth": 0,
              "ticks": ""
             }
            },
            "type": "parcoords"
           }
          ],
          "pie": [
           {
            "automargin": true,
            "type": "pie"
           }
          ],
          "scatter": [
           {
            "fillpattern": {
             "fillmode": "overlay",
             "size": 10,
             "solidity": 0.2
            },
            "type": "scatter"
           }
          ],
          "scatter3d": [
           {
            "line": {
             "colorbar": {
              "outlinewidth": 0,
              "ticks": ""
             }
            },
            "marker": {
             "colorbar": {
              "outlinewidth": 0,
              "ticks": ""
             }
            },
            "type": "scatter3d"
           }
          ],
          "scattercarpet": [
           {
            "marker": {
             "colorbar": {
              "outlinewidth": 0,
              "ticks": ""
             }
            },
            "type": "scattercarpet"
           }
          ],
          "scattergeo": [
           {
            "marker": {
             "colorbar": {
              "outlinewidth": 0,
              "ticks": ""
             }
            },
            "type": "scattergeo"
           }
          ],
          "scattergl": [
           {
            "marker": {
             "colorbar": {
              "outlinewidth": 0,
              "ticks": ""
             }
            },
            "type": "scattergl"
           }
          ],
          "scattermapbox": [
           {
            "marker": {
             "colorbar": {
              "outlinewidth": 0,
              "ticks": ""
             }
            },
            "type": "scattermapbox"
           }
          ],
          "scatterpolar": [
           {
            "marker": {
             "colorbar": {
              "outlinewidth": 0,
              "ticks": ""
             }
            },
            "type": "scatterpolar"
           }
          ],
          "scatterpolargl": [
           {
            "marker": {
             "colorbar": {
              "outlinewidth": 0,
              "ticks": ""
             }
            },
            "type": "scatterpolargl"
           }
          ],
          "scatterternary": [
           {
            "marker": {
             "colorbar": {
              "outlinewidth": 0,
              "ticks": ""
             }
            },
            "type": "scatterternary"
           }
          ],
          "surface": [
           {
            "colorbar": {
             "outlinewidth": 0,
             "ticks": ""
            },
            "colorscale": [
             [
              0,
              "#0d0887"
             ],
             [
              0.1111111111111111,
              "#46039f"
             ],
             [
              0.2222222222222222,
              "#7201a8"
             ],
             [
              0.3333333333333333,
              "#9c179e"
             ],
             [
              0.4444444444444444,
              "#bd3786"
             ],
             [
              0.5555555555555556,
              "#d8576b"
             ],
             [
              0.6666666666666666,
              "#ed7953"
             ],
             [
              0.7777777777777778,
              "#fb9f3a"
             ],
             [
              0.8888888888888888,
              "#fdca26"
             ],
             [
              1,
              "#f0f921"
             ]
            ],
            "type": "surface"
           }
          ],
          "table": [
           {
            "cells": {
             "fill": {
              "color": "#EBF0F8"
             },
             "line": {
              "color": "white"
             }
            },
            "header": {
             "fill": {
              "color": "#C8D4E3"
             },
             "line": {
              "color": "white"
             }
            },
            "type": "table"
           }
          ]
         },
         "layout": {
          "annotationdefaults": {
           "arrowcolor": "#2a3f5f",
           "arrowhead": 0,
           "arrowwidth": 1
          },
          "autotypenumbers": "strict",
          "coloraxis": {
           "colorbar": {
            "outlinewidth": 0,
            "ticks": ""
           }
          },
          "colorscale": {
           "diverging": [
            [
             0,
             "#8e0152"
            ],
            [
             0.1,
             "#c51b7d"
            ],
            [
             0.2,
             "#de77ae"
            ],
            [
             0.3,
             "#f1b6da"
            ],
            [
             0.4,
             "#fde0ef"
            ],
            [
             0.5,
             "#f7f7f7"
            ],
            [
             0.6,
             "#e6f5d0"
            ],
            [
             0.7,
             "#b8e186"
            ],
            [
             0.8,
             "#7fbc41"
            ],
            [
             0.9,
             "#4d9221"
            ],
            [
             1,
             "#276419"
            ]
           ],
           "sequential": [
            [
             0,
             "#0d0887"
            ],
            [
             0.1111111111111111,
             "#46039f"
            ],
            [
             0.2222222222222222,
             "#7201a8"
            ],
            [
             0.3333333333333333,
             "#9c179e"
            ],
            [
             0.4444444444444444,
             "#bd3786"
            ],
            [
             0.5555555555555556,
             "#d8576b"
            ],
            [
             0.6666666666666666,
             "#ed7953"
            ],
            [
             0.7777777777777778,
             "#fb9f3a"
            ],
            [
             0.8888888888888888,
             "#fdca26"
            ],
            [
             1,
             "#f0f921"
            ]
           ],
           "sequentialminus": [
            [
             0,
             "#0d0887"
            ],
            [
             0.1111111111111111,
             "#46039f"
            ],
            [
             0.2222222222222222,
             "#7201a8"
            ],
            [
             0.3333333333333333,
             "#9c179e"
            ],
            [
             0.4444444444444444,
             "#bd3786"
            ],
            [
             0.5555555555555556,
             "#d8576b"
            ],
            [
             0.6666666666666666,
             "#ed7953"
            ],
            [
             0.7777777777777778,
             "#fb9f3a"
            ],
            [
             0.8888888888888888,
             "#fdca26"
            ],
            [
             1,
             "#f0f921"
            ]
           ]
          },
          "colorway": [
           "#636efa",
           "#EF553B",
           "#00cc96",
           "#ab63fa",
           "#FFA15A",
           "#19d3f3",
           "#FF6692",
           "#B6E880",
           "#FF97FF",
           "#FECB52"
          ],
          "font": {
           "color": "#2a3f5f"
          },
          "geo": {
           "bgcolor": "white",
           "lakecolor": "white",
           "landcolor": "#E5ECF6",
           "showlakes": true,
           "showland": true,
           "subunitcolor": "white"
          },
          "hoverlabel": {
           "align": "left"
          },
          "hovermode": "closest",
          "mapbox": {
           "style": "light"
          },
          "paper_bgcolor": "white",
          "plot_bgcolor": "#E5ECF6",
          "polar": {
           "angularaxis": {
            "gridcolor": "white",
            "linecolor": "white",
            "ticks": ""
           },
           "bgcolor": "#E5ECF6",
           "radialaxis": {
            "gridcolor": "white",
            "linecolor": "white",
            "ticks": ""
           }
          },
          "scene": {
           "xaxis": {
            "backgroundcolor": "#E5ECF6",
            "gridcolor": "white",
            "gridwidth": 2,
            "linecolor": "white",
            "showbackground": true,
            "ticks": "",
            "zerolinecolor": "white"
           },
           "yaxis": {
            "backgroundcolor": "#E5ECF6",
            "gridcolor": "white",
            "gridwidth": 2,
            "linecolor": "white",
            "showbackground": true,
            "ticks": "",
            "zerolinecolor": "white"
           },
           "zaxis": {
            "backgroundcolor": "#E5ECF6",
            "gridcolor": "white",
            "gridwidth": 2,
            "linecolor": "white",
            "showbackground": true,
            "ticks": "",
            "zerolinecolor": "white"
           }
          },
          "shapedefaults": {
           "line": {
            "color": "#2a3f5f"
           }
          },
          "ternary": {
           "aaxis": {
            "gridcolor": "white",
            "linecolor": "white",
            "ticks": ""
           },
           "baxis": {
            "gridcolor": "white",
            "linecolor": "white",
            "ticks": ""
           },
           "bgcolor": "#E5ECF6",
           "caxis": {
            "gridcolor": "white",
            "linecolor": "white",
            "ticks": ""
           }
          },
          "title": {
           "x": 0.05
          },
          "xaxis": {
           "automargin": true,
           "gridcolor": "white",
           "linecolor": "white",
           "ticks": "",
           "title": {
            "standoff": 15
           },
           "zerolinecolor": "white",
           "zerolinewidth": 2
          },
          "yaxis": {
           "automargin": true,
           "gridcolor": "white",
           "linecolor": "white",
           "ticks": "",
           "title": {
            "standoff": 15
           },
           "zerolinecolor": "white",
           "zerolinewidth": 2
          }
         }
        },
        "title": {
         "text": "Top-3 Agents by mean_episode_sharpe (test splits)"
        },
        "xaxis": {
         "anchor": "y",
         "categoryarray": [
          "transformer_multi",
          "mlp",
          "transformer_single"
         ],
         "categoryorder": "array",
         "domain": [
          0,
          1
         ],
         "title": {
          "text": "Agent"
         }
        },
        "yaxis": {
         "anchor": "x",
         "domain": [
          0,
          1
         ],
         "title": {
          "text": "mean_episode_sharpe"
         }
        }
       }
      },
      "text/html": [
       "<div>                            <div id=\"cba2732e-86dd-4960-9445-e1061e5e766a\" class=\"plotly-graph-div\" style=\"height:525px; width:100%;\"></div>            <script type=\"text/javascript\">                require([\"plotly\"], function(Plotly) {                    window.PLOTLYENV=window.PLOTLYENV || {};                                    if (document.getElementById(\"cba2732e-86dd-4960-9445-e1061e5e766a\")) {                    Plotly.newPlot(                        \"cba2732e-86dd-4960-9445-e1061e5e766a\",                        [{\"alignmentgroup\":\"True\",\"hovertemplate\":\"agent=%{x}<br>mean_episode_sharpe=%{text}<extra></extra>\",\"legendgroup\":\"transformer_multi\",\"marker\":{\"color\":\"#636efa\",\"pattern\":{\"shape\":\"\"}},\"name\":\"transformer_multi\",\"offsetgroup\":\"transformer_multi\",\"orientation\":\"v\",\"showlegend\":true,\"text\":[-0.0015164971011478515],\"textposition\":\"outside\",\"x\":[\"transformer_multi\"],\"xaxis\":\"x\",\"y\":[-0.0015164971011478515],\"yaxis\":\"y\",\"type\":\"bar\",\"texttemplate\":\"%{text:.3f}\"},{\"alignmentgroup\":\"True\",\"hovertemplate\":\"agent=%{x}<br>mean_episode_sharpe=%{text}<extra></extra>\",\"legendgroup\":\"mlp\",\"marker\":{\"color\":\"#EF553B\",\"pattern\":{\"shape\":\"\"}},\"name\":\"mlp\",\"offsetgroup\":\"mlp\",\"orientation\":\"v\",\"showlegend\":true,\"text\":[-0.009015589528104068],\"textposition\":\"outside\",\"x\":[\"mlp\"],\"xaxis\":\"x\",\"y\":[-0.009015589528104068],\"yaxis\":\"y\",\"type\":\"bar\",\"texttemplate\":\"%{text:.3f}\"},{\"alignmentgroup\":\"True\",\"hovertemplate\":\"agent=%{x}<br>mean_episode_sharpe=%{text}<extra></extra>\",\"legendgroup\":\"transformer_single\",\"marker\":{\"color\":\"#00cc96\",\"pattern\":{\"shape\":\"\"}},\"name\":\"transformer_single\",\"offsetgroup\":\"transformer_single\",\"orientation\":\"v\",\"showlegend\":true,\"text\":[-0.012856769788802],\"textposition\":\"outside\",\"x\":[\"transformer_single\"],\"xaxis\":\"x\",\"y\":[-0.012856769788802],\"yaxis\":\"y\",\"type\":\"bar\",\"texttemplate\":\"%{text:.3f}\"}],                        {\"template\":{\"data\":{\"histogram2dcontour\":[{\"type\":\"histogram2dcontour\",\"colorbar\":{\"outlinewidth\":0,\"ticks\":\"\"},\"colorscale\":[[0.0,\"#0d0887\"],[0.1111111111111111,\"#46039f\"],[0.2222222222222222,\"#7201a8\"],[0.3333333333333333,\"#9c179e\"],[0.4444444444444444,\"#bd3786\"],[0.5555555555555556,\"#d8576b\"],[0.6666666666666666,\"#ed7953\"],[0.7777777777777778,\"#fb9f3a\"],[0.8888888888888888,\"#fdca26\"],[1.0,\"#f0f921\"]]}],\"choropleth\":[{\"type\":\"choropleth\",\"colorbar\":{\"outlinewidth\":0,\"ticks\":\"\"}}],\"histogram2d\":[{\"type\":\"histogram2d\",\"colorbar\":{\"outlinewidth\":0,\"ticks\":\"\"},\"colorscale\":[[0.0,\"#0d0887\"],[0.1111111111111111,\"#46039f\"],[0.2222222222222222,\"#7201a8\"],[0.3333333333333333,\"#9c179e\"],[0.4444444444444444,\"#bd3786\"],[0.5555555555555556,\"#d8576b\"],[0.6666666666666666,\"#ed7953\"],[0.7777777777777778,\"#fb9f3a\"],[0.8888888888888888,\"#fdca26\"],[1.0,\"#f0f921\"]]}],\"heatmap\":[{\"type\":\"heatmap\",\"colorbar\":{\"outlinewidth\":0,\"ticks\":\"\"},\"colorscale\":[[0.0,\"#0d0887\"],[0.1111111111111111,\"#46039f\"],[0.2222222222222222,\"#7201a8\"],[0.3333333333333333,\"#9c179e\"],[0.4444444444444444,\"#bd3786\"],[0.5555555555555556,\"#d8576b\"],[0.6666666666666666,\"#ed7953\"],[0.7777777777777778,\"#fb9f3a\"],[0.8888888888888888,\"#fdca26\"],[1.0,\"#f0f921\"]]}],\"heatmapgl\":[{\"type\":\"heatmapgl\",\"colorbar\":{\"outlinewidth\":0,\"ticks\":\"\"},\"colorscale\":[[0.0,\"#0d0887\"],[0.1111111111111111,\"#46039f\"],[0.2222222222222222,\"#7201a8\"],[0.3333333333333333,\"#9c179e\"],[0.4444444444444444,\"#bd3786\"],[0.5555555555555556,\"#d8576b\"],[0.6666666666666666,\"#ed7953\"],[0.7777777777777778,\"#fb9f3a\"],[0.8888888888888888,\"#fdca26\"],[1.0,\"#f0f921\"]]}],\"contourcarpet\":[{\"type\":\"contourcarpet\",\"colorbar\":{\"outlinewidth\":0,\"ticks\":\"\"}}],\"contour\":[{\"type\":\"contour\",\"colorbar\":{\"outlinewidth\":0,\"ticks\":\"\"},\"colorscale\":[[0.0,\"#0d0887\"],[0.1111111111111111,\"#46039f\"],[0.2222222222222222,\"#7201a8\"],[0.3333333333333333,\"#9c179e\"],[0.4444444444444444,\"#bd3786\"],[0.5555555555555556,\"#d8576b\"],[0.6666666666666666,\"#ed7953\"],[0.7777777777777778,\"#fb9f3a\"],[0.8888888888888888,\"#fdca26\"],[1.0,\"#f0f921\"]]}],\"surface\":[{\"type\":\"surface\",\"colorbar\":{\"outlinewidth\":0,\"ticks\":\"\"},\"colorscale\":[[0.0,\"#0d0887\"],[0.1111111111111111,\"#46039f\"],[0.2222222222222222,\"#7201a8\"],[0.3333333333333333,\"#9c179e\"],[0.4444444444444444,\"#bd3786\"],[0.5555555555555556,\"#d8576b\"],[0.6666666666666666,\"#ed7953\"],[0.7777777777777778,\"#fb9f3a\"],[0.8888888888888888,\"#fdca26\"],[1.0,\"#f0f921\"]]}],\"mesh3d\":[{\"type\":\"mesh3d\",\"colorbar\":{\"outlinewidth\":0,\"ticks\":\"\"}}],\"scatter\":[{\"fillpattern\":{\"fillmode\":\"overlay\",\"size\":10,\"solidity\":0.2},\"type\":\"scatter\"}],\"parcoords\":[{\"type\":\"parcoords\",\"line\":{\"colorbar\":{\"outlinewidth\":0,\"ticks\":\"\"}}}],\"scatterpolargl\":[{\"type\":\"scatterpolargl\",\"marker\":{\"colorbar\":{\"outlinewidth\":0,\"ticks\":\"\"}}}],\"bar\":[{\"error_x\":{\"color\":\"#2a3f5f\"},\"error_y\":{\"color\":\"#2a3f5f\"},\"marker\":{\"line\":{\"color\":\"#E5ECF6\",\"width\":0.5},\"pattern\":{\"fillmode\":\"overlay\",\"size\":10,\"solidity\":0.2}},\"type\":\"bar\"}],\"scattergeo\":[{\"type\":\"scattergeo\",\"marker\":{\"colorbar\":{\"outlinewidth\":0,\"ticks\":\"\"}}}],\"scatterpolar\":[{\"type\":\"scatterpolar\",\"marker\":{\"colorbar\":{\"outlinewidth\":0,\"ticks\":\"\"}}}],\"histogram\":[{\"marker\":{\"pattern\":{\"fillmode\":\"overlay\",\"size\":10,\"solidity\":0.2}},\"type\":\"histogram\"}],\"scattergl\":[{\"type\":\"scattergl\",\"marker\":{\"colorbar\":{\"outlinewidth\":0,\"ticks\":\"\"}}}],\"scatter3d\":[{\"type\":\"scatter3d\",\"line\":{\"colorbar\":{\"outlinewidth\":0,\"ticks\":\"\"}},\"marker\":{\"colorbar\":{\"outlinewidth\":0,\"ticks\":\"\"}}}],\"scattermapbox\":[{\"type\":\"scattermapbox\",\"marker\":{\"colorbar\":{\"outlinewidth\":0,\"ticks\":\"\"}}}],\"scatterternary\":[{\"type\":\"scatterternary\",\"marker\":{\"colorbar\":{\"outlinewidth\":0,\"ticks\":\"\"}}}],\"scattercarpet\":[{\"type\":\"scattercarpet\",\"marker\":{\"colorbar\":{\"outlinewidth\":0,\"ticks\":\"\"}}}],\"carpet\":[{\"aaxis\":{\"endlinecolor\":\"#2a3f5f\",\"gridcolor\":\"white\",\"linecolor\":\"white\",\"minorgridcolor\":\"white\",\"startlinecolor\":\"#2a3f5f\"},\"baxis\":{\"endlinecolor\":\"#2a3f5f\",\"gridcolor\":\"white\",\"linecolor\":\"white\",\"minorgridcolor\":\"white\",\"startlinecolor\":\"#2a3f5f\"},\"type\":\"carpet\"}],\"table\":[{\"cells\":{\"fill\":{\"color\":\"#EBF0F8\"},\"line\":{\"color\":\"white\"}},\"header\":{\"fill\":{\"color\":\"#C8D4E3\"},\"line\":{\"color\":\"white\"}},\"type\":\"table\"}],\"barpolar\":[{\"marker\":{\"line\":{\"color\":\"#E5ECF6\",\"width\":0.5},\"pattern\":{\"fillmode\":\"overlay\",\"size\":10,\"solidity\":0.2}},\"type\":\"barpolar\"}],\"pie\":[{\"automargin\":true,\"type\":\"pie\"}]},\"layout\":{\"autotypenumbers\":\"strict\",\"colorway\":[\"#636efa\",\"#EF553B\",\"#00cc96\",\"#ab63fa\",\"#FFA15A\",\"#19d3f3\",\"#FF6692\",\"#B6E880\",\"#FF97FF\",\"#FECB52\"],\"font\":{\"color\":\"#2a3f5f\"},\"hovermode\":\"closest\",\"hoverlabel\":{\"align\":\"left\"},\"paper_bgcolor\":\"white\",\"plot_bgcolor\":\"#E5ECF6\",\"polar\":{\"bgcolor\":\"#E5ECF6\",\"angularaxis\":{\"gridcolor\":\"white\",\"linecolor\":\"white\",\"ticks\":\"\"},\"radialaxis\":{\"gridcolor\":\"white\",\"linecolor\":\"white\",\"ticks\":\"\"}},\"ternary\":{\"bgcolor\":\"#E5ECF6\",\"aaxis\":{\"gridcolor\":\"white\",\"linecolor\":\"white\",\"ticks\":\"\"},\"baxis\":{\"gridcolor\":\"white\",\"linecolor\":\"white\",\"ticks\":\"\"},\"caxis\":{\"gridcolor\":\"white\",\"linecolor\":\"white\",\"ticks\":\"\"}},\"coloraxis\":{\"colorbar\":{\"outlinewidth\":0,\"ticks\":\"\"}},\"colorscale\":{\"sequential\":[[0.0,\"#0d0887\"],[0.1111111111111111,\"#46039f\"],[0.2222222222222222,\"#7201a8\"],[0.3333333333333333,\"#9c179e\"],[0.4444444444444444,\"#bd3786\"],[0.5555555555555556,\"#d8576b\"],[0.6666666666666666,\"#ed7953\"],[0.7777777777777778,\"#fb9f3a\"],[0.8888888888888888,\"#fdca26\"],[1.0,\"#f0f921\"]],\"sequentialminus\":[[0.0,\"#0d0887\"],[0.1111111111111111,\"#46039f\"],[0.2222222222222222,\"#7201a8\"],[0.3333333333333333,\"#9c179e\"],[0.4444444444444444,\"#bd3786\"],[0.5555555555555556,\"#d8576b\"],[0.6666666666666666,\"#ed7953\"],[0.7777777777777778,\"#fb9f3a\"],[0.8888888888888888,\"#fdca26\"],[1.0,\"#f0f921\"]],\"diverging\":[[0,\"#8e0152\"],[0.1,\"#c51b7d\"],[0.2,\"#de77ae\"],[0.3,\"#f1b6da\"],[0.4,\"#fde0ef\"],[0.5,\"#f7f7f7\"],[0.6,\"#e6f5d0\"],[0.7,\"#b8e186\"],[0.8,\"#7fbc41\"],[0.9,\"#4d9221\"],[1,\"#276419\"]]},\"xaxis\":{\"gridcolor\":\"white\",\"linecolor\":\"white\",\"ticks\":\"\",\"title\":{\"standoff\":15},\"zerolinecolor\":\"white\",\"automargin\":true,\"zerolinewidth\":2},\"yaxis\":{\"gridcolor\":\"white\",\"linecolor\":\"white\",\"ticks\":\"\",\"title\":{\"standoff\":15},\"zerolinecolor\":\"white\",\"automargin\":true,\"zerolinewidth\":2},\"scene\":{\"xaxis\":{\"backgroundcolor\":\"#E5ECF6\",\"gridcolor\":\"white\",\"linecolor\":\"white\",\"showbackground\":true,\"ticks\":\"\",\"zerolinecolor\":\"white\",\"gridwidth\":2},\"yaxis\":{\"backgroundcolor\":\"#E5ECF6\",\"gridcolor\":\"white\",\"linecolor\":\"white\",\"showbackground\":true,\"ticks\":\"\",\"zerolinecolor\":\"white\",\"gridwidth\":2},\"zaxis\":{\"backgroundcolor\":\"#E5ECF6\",\"gridcolor\":\"white\",\"linecolor\":\"white\",\"showbackground\":true,\"ticks\":\"\",\"zerolinecolor\":\"white\",\"gridwidth\":2}},\"shapedefaults\":{\"line\":{\"color\":\"#2a3f5f\"}},\"annotationdefaults\":{\"arrowcolor\":\"#2a3f5f\",\"arrowhead\":0,\"arrowwidth\":1},\"geo\":{\"bgcolor\":\"white\",\"landcolor\":\"#E5ECF6\",\"subunitcolor\":\"white\",\"showland\":true,\"showlakes\":true,\"lakecolor\":\"white\"},\"title\":{\"x\":0.05},\"mapbox\":{\"style\":\"light\"}}},\"xaxis\":{\"anchor\":\"y\",\"domain\":[0.0,1.0],\"title\":{\"text\":\"Agent\"},\"categoryorder\":\"array\",\"categoryarray\":[\"transformer_multi\",\"mlp\",\"transformer_single\"]},\"yaxis\":{\"anchor\":\"x\",\"domain\":[0.0,1.0],\"title\":{\"text\":\"mean_episode_sharpe\"}},\"legend\":{\"title\":{\"text\":\"agent\"},\"tracegroupgap\":0},\"title\":{\"text\":\"Top-3 Agents by mean_episode_sharpe (test splits)\"},\"barmode\":\"relative\",\"showlegend\":false},                        {\"responsive\": true}                    ).then(function(){\n",
       "                            \n",
       "var gd = document.getElementById('cba2732e-86dd-4960-9445-e1061e5e766a');\n",
       "var x = new MutationObserver(function (mutations, observer) {{\n",
       "        var display = window.getComputedStyle(gd).display;\n",
       "        if (!display || display === 'none') {{\n",
       "            console.log([gd, 'removed!']);\n",
       "            Plotly.purge(gd);\n",
       "            observer.disconnect();\n",
       "        }}\n",
       "}});\n",
       "\n",
       "// Listen for the removal of the full notebook cells\n",
       "var notebookContainer = gd.closest('#notebook-container');\n",
       "if (notebookContainer) {{\n",
       "    x.observe(notebookContainer, {childList: true});\n",
       "}}\n",
       "\n",
       "// Listen for the clearing of the current output cell\n",
       "var outputEl = gd.closest('.output');\n",
       "if (outputEl) {{\n",
       "    x.observe(outputEl, {childList: true});\n",
       "}}\n",
       "\n",
       "                        })                };                });            </script>        </div>"
      ]
     },
     "metadata": {},
     "output_type": "display_data"
    },
    {
     "data": {
      "text/html": [
       "<div>\n",
       "<style scoped>\n",
       "    .dataframe tbody tr th:only-of-type {\n",
       "        vertical-align: middle;\n",
       "    }\n",
       "\n",
       "    .dataframe tbody tr th {\n",
       "        vertical-align: top;\n",
       "    }\n",
       "\n",
       "    .dataframe thead th {\n",
       "        text-align: right;\n",
       "    }\n",
       "</style>\n",
       "<table border=\"1\" class=\"dataframe\">\n",
       "  <thead>\n",
       "    <tr style=\"text-align: right;\">\n",
       "      <th></th>\n",
       "      <th>agent</th>\n",
       "      <th>mean_episode_sharpe</th>\n",
       "      <th>Rank</th>\n",
       "    </tr>\n",
       "  </thead>\n",
       "  <tbody>\n",
       "    <tr>\n",
       "      <th>0</th>\n",
       "      <td>transformer_multi</td>\n",
       "      <td>-0.001516</td>\n",
       "      <td>1.0</td>\n",
       "    </tr>\n",
       "    <tr>\n",
       "      <th>1</th>\n",
       "      <td>mlp</td>\n",
       "      <td>-0.009016</td>\n",
       "      <td>2.0</td>\n",
       "    </tr>\n",
       "    <tr>\n",
       "      <th>2</th>\n",
       "      <td>transformer_single</td>\n",
       "      <td>-0.012857</td>\n",
       "      <td>3.0</td>\n",
       "    </tr>\n",
       "    <tr>\n",
       "      <th>3</th>\n",
       "      <td>lstm</td>\n",
       "      <td>-0.022839</td>\n",
       "      <td>4.0</td>\n",
       "    </tr>\n",
       "  </tbody>\n",
       "</table>\n",
       "</div>"
      ],
      "text/plain": [
       "                agent  mean_episode_sharpe  Rank\n",
       "0   transformer_multi            -0.001516   1.0\n",
       "1                 mlp            -0.009016   2.0\n",
       "2  transformer_single            -0.012857   3.0\n",
       "3                lstm            -0.022839   4.0"
      ]
     },
     "metadata": {},
     "output_type": "display_data"
    },
    {
     "name": "stdout",
     "output_type": "stream",
     "text": [
      "MEAN EPISODE CUMULATIVE RETURN\n"
     ]
    },
    {
     "data": {
      "application/vnd.plotly.v1+json": {
       "config": {
        "plotlyServerURL": "https://plot.ly"
       },
       "data": [
        {
         "alignmentgroup": "True",
         "hovertemplate": "agent=%{x}<br>mean_cumulative_return=%{text}<extra></extra>",
         "legendgroup": "lstm",
         "marker": {
          "color": "#636efa",
          "pattern": {
           "shape": ""
          }
         },
         "name": "lstm",
         "offsetgroup": "lstm",
         "orientation": "v",
         "showlegend": true,
         "text": [
          -0.015411631770808792
         ],
         "textposition": "outside",
         "texttemplate": "%{text:.3f}",
         "type": "bar",
         "x": [
          "lstm"
         ],
         "xaxis": "x",
         "y": [
          -0.015411631770808792
         ],
         "yaxis": "y"
        },
        {
         "alignmentgroup": "True",
         "hovertemplate": "agent=%{x}<br>mean_cumulative_return=%{text}<extra></extra>",
         "legendgroup": "transformer_multi",
         "marker": {
          "color": "#EF553B",
          "pattern": {
           "shape": ""
          }
         },
         "name": "transformer_multi",
         "offsetgroup": "transformer_multi",
         "orientation": "v",
         "showlegend": true,
         "text": [
          -0.01766205294583204
         ],
         "textposition": "outside",
         "texttemplate": "%{text:.3f}",
         "type": "bar",
         "x": [
          "transformer_multi"
         ],
         "xaxis": "x",
         "y": [
          -0.01766205294583204
         ],
         "yaxis": "y"
        },
        {
         "alignmentgroup": "True",
         "hovertemplate": "agent=%{x}<br>mean_cumulative_return=%{text}<extra></extra>",
         "legendgroup": "mlp",
         "marker": {
          "color": "#00cc96",
          "pattern": {
           "shape": ""
          }
         },
         "name": "mlp",
         "offsetgroup": "mlp",
         "orientation": "v",
         "showlegend": true,
         "text": [
          -0.032386312710833996
         ],
         "textposition": "outside",
         "texttemplate": "%{text:.3f}",
         "type": "bar",
         "x": [
          "mlp"
         ],
         "xaxis": "x",
         "y": [
          -0.032386312710833996
         ],
         "yaxis": "y"
        }
       ],
       "layout": {
        "barmode": "relative",
        "legend": {
         "title": {
          "text": "agent"
         },
         "tracegroupgap": 0
        },
        "showlegend": false,
        "template": {
         "data": {
          "bar": [
           {
            "error_x": {
             "color": "#2a3f5f"
            },
            "error_y": {
             "color": "#2a3f5f"
            },
            "marker": {
             "line": {
              "color": "#E5ECF6",
              "width": 0.5
             },
             "pattern": {
              "fillmode": "overlay",
              "size": 10,
              "solidity": 0.2
             }
            },
            "type": "bar"
           }
          ],
          "barpolar": [
           {
            "marker": {
             "line": {
              "color": "#E5ECF6",
              "width": 0.5
             },
             "pattern": {
              "fillmode": "overlay",
              "size": 10,
              "solidity": 0.2
             }
            },
            "type": "barpolar"
           }
          ],
          "carpet": [
           {
            "aaxis": {
             "endlinecolor": "#2a3f5f",
             "gridcolor": "white",
             "linecolor": "white",
             "minorgridcolor": "white",
             "startlinecolor": "#2a3f5f"
            },
            "baxis": {
             "endlinecolor": "#2a3f5f",
             "gridcolor": "white",
             "linecolor": "white",
             "minorgridcolor": "white",
             "startlinecolor": "#2a3f5f"
            },
            "type": "carpet"
           }
          ],
          "choropleth": [
           {
            "colorbar": {
             "outlinewidth": 0,
             "ticks": ""
            },
            "type": "choropleth"
           }
          ],
          "contour": [
           {
            "colorbar": {
             "outlinewidth": 0,
             "ticks": ""
            },
            "colorscale": [
             [
              0,
              "#0d0887"
             ],
             [
              0.1111111111111111,
              "#46039f"
             ],
             [
              0.2222222222222222,
              "#7201a8"
             ],
             [
              0.3333333333333333,
              "#9c179e"
             ],
             [
              0.4444444444444444,
              "#bd3786"
             ],
             [
              0.5555555555555556,
              "#d8576b"
             ],
             [
              0.6666666666666666,
              "#ed7953"
             ],
             [
              0.7777777777777778,
              "#fb9f3a"
             ],
             [
              0.8888888888888888,
              "#fdca26"
             ],
             [
              1,
              "#f0f921"
             ]
            ],
            "type": "contour"
           }
          ],
          "contourcarpet": [
           {
            "colorbar": {
             "outlinewidth": 0,
             "ticks": ""
            },
            "type": "contourcarpet"
           }
          ],
          "heatmap": [
           {
            "colorbar": {
             "outlinewidth": 0,
             "ticks": ""
            },
            "colorscale": [
             [
              0,
              "#0d0887"
             ],
             [
              0.1111111111111111,
              "#46039f"
             ],
             [
              0.2222222222222222,
              "#7201a8"
             ],
             [
              0.3333333333333333,
              "#9c179e"
             ],
             [
              0.4444444444444444,
              "#bd3786"
             ],
             [
              0.5555555555555556,
              "#d8576b"
             ],
             [
              0.6666666666666666,
              "#ed7953"
             ],
             [
              0.7777777777777778,
              "#fb9f3a"
             ],
             [
              0.8888888888888888,
              "#fdca26"
             ],
             [
              1,
              "#f0f921"
             ]
            ],
            "type": "heatmap"
           }
          ],
          "heatmapgl": [
           {
            "colorbar": {
             "outlinewidth": 0,
             "ticks": ""
            },
            "colorscale": [
             [
              0,
              "#0d0887"
             ],
             [
              0.1111111111111111,
              "#46039f"
             ],
             [
              0.2222222222222222,
              "#7201a8"
             ],
             [
              0.3333333333333333,
              "#9c179e"
             ],
             [
              0.4444444444444444,
              "#bd3786"
             ],
             [
              0.5555555555555556,
              "#d8576b"
             ],
             [
              0.6666666666666666,
              "#ed7953"
             ],
             [
              0.7777777777777778,
              "#fb9f3a"
             ],
             [
              0.8888888888888888,
              "#fdca26"
             ],
             [
              1,
              "#f0f921"
             ]
            ],
            "type": "heatmapgl"
           }
          ],
          "histogram": [
           {
            "marker": {
             "pattern": {
              "fillmode": "overlay",
              "size": 10,
              "solidity": 0.2
             }
            },
            "type": "histogram"
           }
          ],
          "histogram2d": [
           {
            "colorbar": {
             "outlinewidth": 0,
             "ticks": ""
            },
            "colorscale": [
             [
              0,
              "#0d0887"
             ],
             [
              0.1111111111111111,
              "#46039f"
             ],
             [
              0.2222222222222222,
              "#7201a8"
             ],
             [
              0.3333333333333333,
              "#9c179e"
             ],
             [
              0.4444444444444444,
              "#bd3786"
             ],
             [
              0.5555555555555556,
              "#d8576b"
             ],
             [
              0.6666666666666666,
              "#ed7953"
             ],
             [
              0.7777777777777778,
              "#fb9f3a"
             ],
             [
              0.8888888888888888,
              "#fdca26"
             ],
             [
              1,
              "#f0f921"
             ]
            ],
            "type": "histogram2d"
           }
          ],
          "histogram2dcontour": [
           {
            "colorbar": {
             "outlinewidth": 0,
             "ticks": ""
            },
            "colorscale": [
             [
              0,
              "#0d0887"
             ],
             [
              0.1111111111111111,
              "#46039f"
             ],
             [
              0.2222222222222222,
              "#7201a8"
             ],
             [
              0.3333333333333333,
              "#9c179e"
             ],
             [
              0.4444444444444444,
              "#bd3786"
             ],
             [
              0.5555555555555556,
              "#d8576b"
             ],
             [
              0.6666666666666666,
              "#ed7953"
             ],
             [
              0.7777777777777778,
              "#fb9f3a"
             ],
             [
              0.8888888888888888,
              "#fdca26"
             ],
             [
              1,
              "#f0f921"
             ]
            ],
            "type": "histogram2dcontour"
           }
          ],
          "mesh3d": [
           {
            "colorbar": {
             "outlinewidth": 0,
             "ticks": ""
            },
            "type": "mesh3d"
           }
          ],
          "parcoords": [
           {
            "line": {
             "colorbar": {
              "outlinewidth": 0,
              "ticks": ""
             }
            },
            "type": "parcoords"
           }
          ],
          "pie": [
           {
            "automargin": true,
            "type": "pie"
           }
          ],
          "scatter": [
           {
            "fillpattern": {
             "fillmode": "overlay",
             "size": 10,
             "solidity": 0.2
            },
            "type": "scatter"
           }
          ],
          "scatter3d": [
           {
            "line": {
             "colorbar": {
              "outlinewidth": 0,
              "ticks": ""
             }
            },
            "marker": {
             "colorbar": {
              "outlinewidth": 0,
              "ticks": ""
             }
            },
            "type": "scatter3d"
           }
          ],
          "scattercarpet": [
           {
            "marker": {
             "colorbar": {
              "outlinewidth": 0,
              "ticks": ""
             }
            },
            "type": "scattercarpet"
           }
          ],
          "scattergeo": [
           {
            "marker": {
             "colorbar": {
              "outlinewidth": 0,
              "ticks": ""
             }
            },
            "type": "scattergeo"
           }
          ],
          "scattergl": [
           {
            "marker": {
             "colorbar": {
              "outlinewidth": 0,
              "ticks": ""
             }
            },
            "type": "scattergl"
           }
          ],
          "scattermapbox": [
           {
            "marker": {
             "colorbar": {
              "outlinewidth": 0,
              "ticks": ""
             }
            },
            "type": "scattermapbox"
           }
          ],
          "scatterpolar": [
           {
            "marker": {
             "colorbar": {
              "outlinewidth": 0,
              "ticks": ""
             }
            },
            "type": "scatterpolar"
           }
          ],
          "scatterpolargl": [
           {
            "marker": {
             "colorbar": {
              "outlinewidth": 0,
              "ticks": ""
             }
            },
            "type": "scatterpolargl"
           }
          ],
          "scatterternary": [
           {
            "marker": {
             "colorbar": {
              "outlinewidth": 0,
              "ticks": ""
             }
            },
            "type": "scatterternary"
           }
          ],
          "surface": [
           {
            "colorbar": {
             "outlinewidth": 0,
             "ticks": ""
            },
            "colorscale": [
             [
              0,
              "#0d0887"
             ],
             [
              0.1111111111111111,
              "#46039f"
             ],
             [
              0.2222222222222222,
              "#7201a8"
             ],
             [
              0.3333333333333333,
              "#9c179e"
             ],
             [
              0.4444444444444444,
              "#bd3786"
             ],
             [
              0.5555555555555556,
              "#d8576b"
             ],
             [
              0.6666666666666666,
              "#ed7953"
             ],
             [
              0.7777777777777778,
              "#fb9f3a"
             ],
             [
              0.8888888888888888,
              "#fdca26"
             ],
             [
              1,
              "#f0f921"
             ]
            ],
            "type": "surface"
           }
          ],
          "table": [
           {
            "cells": {
             "fill": {
              "color": "#EBF0F8"
             },
             "line": {
              "color": "white"
             }
            },
            "header": {
             "fill": {
              "color": "#C8D4E3"
             },
             "line": {
              "color": "white"
             }
            },
            "type": "table"
           }
          ]
         },
         "layout": {
          "annotationdefaults": {
           "arrowcolor": "#2a3f5f",
           "arrowhead": 0,
           "arrowwidth": 1
          },
          "autotypenumbers": "strict",
          "coloraxis": {
           "colorbar": {
            "outlinewidth": 0,
            "ticks": ""
           }
          },
          "colorscale": {
           "diverging": [
            [
             0,
             "#8e0152"
            ],
            [
             0.1,
             "#c51b7d"
            ],
            [
             0.2,
             "#de77ae"
            ],
            [
             0.3,
             "#f1b6da"
            ],
            [
             0.4,
             "#fde0ef"
            ],
            [
             0.5,
             "#f7f7f7"
            ],
            [
             0.6,
             "#e6f5d0"
            ],
            [
             0.7,
             "#b8e186"
            ],
            [
             0.8,
             "#7fbc41"
            ],
            [
             0.9,
             "#4d9221"
            ],
            [
             1,
             "#276419"
            ]
           ],
           "sequential": [
            [
             0,
             "#0d0887"
            ],
            [
             0.1111111111111111,
             "#46039f"
            ],
            [
             0.2222222222222222,
             "#7201a8"
            ],
            [
             0.3333333333333333,
             "#9c179e"
            ],
            [
             0.4444444444444444,
             "#bd3786"
            ],
            [
             0.5555555555555556,
             "#d8576b"
            ],
            [
             0.6666666666666666,
             "#ed7953"
            ],
            [
             0.7777777777777778,
             "#fb9f3a"
            ],
            [
             0.8888888888888888,
             "#fdca26"
            ],
            [
             1,
             "#f0f921"
            ]
           ],
           "sequentialminus": [
            [
             0,
             "#0d0887"
            ],
            [
             0.1111111111111111,
             "#46039f"
            ],
            [
             0.2222222222222222,
             "#7201a8"
            ],
            [
             0.3333333333333333,
             "#9c179e"
            ],
            [
             0.4444444444444444,
             "#bd3786"
            ],
            [
             0.5555555555555556,
             "#d8576b"
            ],
            [
             0.6666666666666666,
             "#ed7953"
            ],
            [
             0.7777777777777778,
             "#fb9f3a"
            ],
            [
             0.8888888888888888,
             "#fdca26"
            ],
            [
             1,
             "#f0f921"
            ]
           ]
          },
          "colorway": [
           "#636efa",
           "#EF553B",
           "#00cc96",
           "#ab63fa",
           "#FFA15A",
           "#19d3f3",
           "#FF6692",
           "#B6E880",
           "#FF97FF",
           "#FECB52"
          ],
          "font": {
           "color": "#2a3f5f"
          },
          "geo": {
           "bgcolor": "white",
           "lakecolor": "white",
           "landcolor": "#E5ECF6",
           "showlakes": true,
           "showland": true,
           "subunitcolor": "white"
          },
          "hoverlabel": {
           "align": "left"
          },
          "hovermode": "closest",
          "mapbox": {
           "style": "light"
          },
          "paper_bgcolor": "white",
          "plot_bgcolor": "#E5ECF6",
          "polar": {
           "angularaxis": {
            "gridcolor": "white",
            "linecolor": "white",
            "ticks": ""
           },
           "bgcolor": "#E5ECF6",
           "radialaxis": {
            "gridcolor": "white",
            "linecolor": "white",
            "ticks": ""
           }
          },
          "scene": {
           "xaxis": {
            "backgroundcolor": "#E5ECF6",
            "gridcolor": "white",
            "gridwidth": 2,
            "linecolor": "white",
            "showbackground": true,
            "ticks": "",
            "zerolinecolor": "white"
           },
           "yaxis": {
            "backgroundcolor": "#E5ECF6",
            "gridcolor": "white",
            "gridwidth": 2,
            "linecolor": "white",
            "showbackground": true,
            "ticks": "",
            "zerolinecolor": "white"
           },
           "zaxis": {
            "backgroundcolor": "#E5ECF6",
            "gridcolor": "white",
            "gridwidth": 2,
            "linecolor": "white",
            "showbackground": true,
            "ticks": "",
            "zerolinecolor": "white"
           }
          },
          "shapedefaults": {
           "line": {
            "color": "#2a3f5f"
           }
          },
          "ternary": {
           "aaxis": {
            "gridcolor": "white",
            "linecolor": "white",
            "ticks": ""
           },
           "baxis": {
            "gridcolor": "white",
            "linecolor": "white",
            "ticks": ""
           },
           "bgcolor": "#E5ECF6",
           "caxis": {
            "gridcolor": "white",
            "linecolor": "white",
            "ticks": ""
           }
          },
          "title": {
           "x": 0.05
          },
          "xaxis": {
           "automargin": true,
           "gridcolor": "white",
           "linecolor": "white",
           "ticks": "",
           "title": {
            "standoff": 15
           },
           "zerolinecolor": "white",
           "zerolinewidth": 2
          },
          "yaxis": {
           "automargin": true,
           "gridcolor": "white",
           "linecolor": "white",
           "ticks": "",
           "title": {
            "standoff": 15
           },
           "zerolinecolor": "white",
           "zerolinewidth": 2
          }
         }
        },
        "title": {
         "text": "Top-3 Agents by mean_cumulative_return (test splits)"
        },
        "xaxis": {
         "anchor": "y",
         "categoryarray": [
          "lstm",
          "transformer_multi",
          "mlp"
         ],
         "categoryorder": "array",
         "domain": [
          0,
          1
         ],
         "title": {
          "text": "Agent"
         }
        },
        "yaxis": {
         "anchor": "x",
         "domain": [
          0,
          1
         ],
         "title": {
          "text": "mean_cumulative_return"
         }
        }
       }
      },
      "text/html": [
       "<div>                            <div id=\"9fe5dafc-8d26-4a84-b488-e2092ed6d2e5\" class=\"plotly-graph-div\" style=\"height:525px; width:100%;\"></div>            <script type=\"text/javascript\">                require([\"plotly\"], function(Plotly) {                    window.PLOTLYENV=window.PLOTLYENV || {};                                    if (document.getElementById(\"9fe5dafc-8d26-4a84-b488-e2092ed6d2e5\")) {                    Plotly.newPlot(                        \"9fe5dafc-8d26-4a84-b488-e2092ed6d2e5\",                        [{\"alignmentgroup\":\"True\",\"hovertemplate\":\"agent=%{x}<br>mean_cumulative_return=%{text}<extra></extra>\",\"legendgroup\":\"lstm\",\"marker\":{\"color\":\"#636efa\",\"pattern\":{\"shape\":\"\"}},\"name\":\"lstm\",\"offsetgroup\":\"lstm\",\"orientation\":\"v\",\"showlegend\":true,\"text\":[-0.015411631770808792],\"textposition\":\"outside\",\"x\":[\"lstm\"],\"xaxis\":\"x\",\"y\":[-0.015411631770808792],\"yaxis\":\"y\",\"type\":\"bar\",\"texttemplate\":\"%{text:.3f}\"},{\"alignmentgroup\":\"True\",\"hovertemplate\":\"agent=%{x}<br>mean_cumulative_return=%{text}<extra></extra>\",\"legendgroup\":\"transformer_multi\",\"marker\":{\"color\":\"#EF553B\",\"pattern\":{\"shape\":\"\"}},\"name\":\"transformer_multi\",\"offsetgroup\":\"transformer_multi\",\"orientation\":\"v\",\"showlegend\":true,\"text\":[-0.01766205294583204],\"textposition\":\"outside\",\"x\":[\"transformer_multi\"],\"xaxis\":\"x\",\"y\":[-0.01766205294583204],\"yaxis\":\"y\",\"type\":\"bar\",\"texttemplate\":\"%{text:.3f}\"},{\"alignmentgroup\":\"True\",\"hovertemplate\":\"agent=%{x}<br>mean_cumulative_return=%{text}<extra></extra>\",\"legendgroup\":\"mlp\",\"marker\":{\"color\":\"#00cc96\",\"pattern\":{\"shape\":\"\"}},\"name\":\"mlp\",\"offsetgroup\":\"mlp\",\"orientation\":\"v\",\"showlegend\":true,\"text\":[-0.032386312710833996],\"textposition\":\"outside\",\"x\":[\"mlp\"],\"xaxis\":\"x\",\"y\":[-0.032386312710833996],\"yaxis\":\"y\",\"type\":\"bar\",\"texttemplate\":\"%{text:.3f}\"}],                        {\"template\":{\"data\":{\"histogram2dcontour\":[{\"type\":\"histogram2dcontour\",\"colorbar\":{\"outlinewidth\":0,\"ticks\":\"\"},\"colorscale\":[[0.0,\"#0d0887\"],[0.1111111111111111,\"#46039f\"],[0.2222222222222222,\"#7201a8\"],[0.3333333333333333,\"#9c179e\"],[0.4444444444444444,\"#bd3786\"],[0.5555555555555556,\"#d8576b\"],[0.6666666666666666,\"#ed7953\"],[0.7777777777777778,\"#fb9f3a\"],[0.8888888888888888,\"#fdca26\"],[1.0,\"#f0f921\"]]}],\"choropleth\":[{\"type\":\"choropleth\",\"colorbar\":{\"outlinewidth\":0,\"ticks\":\"\"}}],\"histogram2d\":[{\"type\":\"histogram2d\",\"colorbar\":{\"outlinewidth\":0,\"ticks\":\"\"},\"colorscale\":[[0.0,\"#0d0887\"],[0.1111111111111111,\"#46039f\"],[0.2222222222222222,\"#7201a8\"],[0.3333333333333333,\"#9c179e\"],[0.4444444444444444,\"#bd3786\"],[0.5555555555555556,\"#d8576b\"],[0.6666666666666666,\"#ed7953\"],[0.7777777777777778,\"#fb9f3a\"],[0.8888888888888888,\"#fdca26\"],[1.0,\"#f0f921\"]]}],\"heatmap\":[{\"type\":\"heatmap\",\"colorbar\":{\"outlinewidth\":0,\"ticks\":\"\"},\"colorscale\":[[0.0,\"#0d0887\"],[0.1111111111111111,\"#46039f\"],[0.2222222222222222,\"#7201a8\"],[0.3333333333333333,\"#9c179e\"],[0.4444444444444444,\"#bd3786\"],[0.5555555555555556,\"#d8576b\"],[0.6666666666666666,\"#ed7953\"],[0.7777777777777778,\"#fb9f3a\"],[0.8888888888888888,\"#fdca26\"],[1.0,\"#f0f921\"]]}],\"heatmapgl\":[{\"type\":\"heatmapgl\",\"colorbar\":{\"outlinewidth\":0,\"ticks\":\"\"},\"colorscale\":[[0.0,\"#0d0887\"],[0.1111111111111111,\"#46039f\"],[0.2222222222222222,\"#7201a8\"],[0.3333333333333333,\"#9c179e\"],[0.4444444444444444,\"#bd3786\"],[0.5555555555555556,\"#d8576b\"],[0.6666666666666666,\"#ed7953\"],[0.7777777777777778,\"#fb9f3a\"],[0.8888888888888888,\"#fdca26\"],[1.0,\"#f0f921\"]]}],\"contourcarpet\":[{\"type\":\"contourcarpet\",\"colorbar\":{\"outlinewidth\":0,\"ticks\":\"\"}}],\"contour\":[{\"type\":\"contour\",\"colorbar\":{\"outlinewidth\":0,\"ticks\":\"\"},\"colorscale\":[[0.0,\"#0d0887\"],[0.1111111111111111,\"#46039f\"],[0.2222222222222222,\"#7201a8\"],[0.3333333333333333,\"#9c179e\"],[0.4444444444444444,\"#bd3786\"],[0.5555555555555556,\"#d8576b\"],[0.6666666666666666,\"#ed7953\"],[0.7777777777777778,\"#fb9f3a\"],[0.8888888888888888,\"#fdca26\"],[1.0,\"#f0f921\"]]}],\"surface\":[{\"type\":\"surface\",\"colorbar\":{\"outlinewidth\":0,\"ticks\":\"\"},\"colorscale\":[[0.0,\"#0d0887\"],[0.1111111111111111,\"#46039f\"],[0.2222222222222222,\"#7201a8\"],[0.3333333333333333,\"#9c179e\"],[0.4444444444444444,\"#bd3786\"],[0.5555555555555556,\"#d8576b\"],[0.6666666666666666,\"#ed7953\"],[0.7777777777777778,\"#fb9f3a\"],[0.8888888888888888,\"#fdca26\"],[1.0,\"#f0f921\"]]}],\"mesh3d\":[{\"type\":\"mesh3d\",\"colorbar\":{\"outlinewidth\":0,\"ticks\":\"\"}}],\"scatter\":[{\"fillpattern\":{\"fillmode\":\"overlay\",\"size\":10,\"solidity\":0.2},\"type\":\"scatter\"}],\"parcoords\":[{\"type\":\"parcoords\",\"line\":{\"colorbar\":{\"outlinewidth\":0,\"ticks\":\"\"}}}],\"scatterpolargl\":[{\"type\":\"scatterpolargl\",\"marker\":{\"colorbar\":{\"outlinewidth\":0,\"ticks\":\"\"}}}],\"bar\":[{\"error_x\":{\"color\":\"#2a3f5f\"},\"error_y\":{\"color\":\"#2a3f5f\"},\"marker\":{\"line\":{\"color\":\"#E5ECF6\",\"width\":0.5},\"pattern\":{\"fillmode\":\"overlay\",\"size\":10,\"solidity\":0.2}},\"type\":\"bar\"}],\"scattergeo\":[{\"type\":\"scattergeo\",\"marker\":{\"colorbar\":{\"outlinewidth\":0,\"ticks\":\"\"}}}],\"scatterpolar\":[{\"type\":\"scatterpolar\",\"marker\":{\"colorbar\":{\"outlinewidth\":0,\"ticks\":\"\"}}}],\"histogram\":[{\"marker\":{\"pattern\":{\"fillmode\":\"overlay\",\"size\":10,\"solidity\":0.2}},\"type\":\"histogram\"}],\"scattergl\":[{\"type\":\"scattergl\",\"marker\":{\"colorbar\":{\"outlinewidth\":0,\"ticks\":\"\"}}}],\"scatter3d\":[{\"type\":\"scatter3d\",\"line\":{\"colorbar\":{\"outlinewidth\":0,\"ticks\":\"\"}},\"marker\":{\"colorbar\":{\"outlinewidth\":0,\"ticks\":\"\"}}}],\"scattermapbox\":[{\"type\":\"scattermapbox\",\"marker\":{\"colorbar\":{\"outlinewidth\":0,\"ticks\":\"\"}}}],\"scatterternary\":[{\"type\":\"scatterternary\",\"marker\":{\"colorbar\":{\"outlinewidth\":0,\"ticks\":\"\"}}}],\"scattercarpet\":[{\"type\":\"scattercarpet\",\"marker\":{\"colorbar\":{\"outlinewidth\":0,\"ticks\":\"\"}}}],\"carpet\":[{\"aaxis\":{\"endlinecolor\":\"#2a3f5f\",\"gridcolor\":\"white\",\"linecolor\":\"white\",\"minorgridcolor\":\"white\",\"startlinecolor\":\"#2a3f5f\"},\"baxis\":{\"endlinecolor\":\"#2a3f5f\",\"gridcolor\":\"white\",\"linecolor\":\"white\",\"minorgridcolor\":\"white\",\"startlinecolor\":\"#2a3f5f\"},\"type\":\"carpet\"}],\"table\":[{\"cells\":{\"fill\":{\"color\":\"#EBF0F8\"},\"line\":{\"color\":\"white\"}},\"header\":{\"fill\":{\"color\":\"#C8D4E3\"},\"line\":{\"color\":\"white\"}},\"type\":\"table\"}],\"barpolar\":[{\"marker\":{\"line\":{\"color\":\"#E5ECF6\",\"width\":0.5},\"pattern\":{\"fillmode\":\"overlay\",\"size\":10,\"solidity\":0.2}},\"type\":\"barpolar\"}],\"pie\":[{\"automargin\":true,\"type\":\"pie\"}]},\"layout\":{\"autotypenumbers\":\"strict\",\"colorway\":[\"#636efa\",\"#EF553B\",\"#00cc96\",\"#ab63fa\",\"#FFA15A\",\"#19d3f3\",\"#FF6692\",\"#B6E880\",\"#FF97FF\",\"#FECB52\"],\"font\":{\"color\":\"#2a3f5f\"},\"hovermode\":\"closest\",\"hoverlabel\":{\"align\":\"left\"},\"paper_bgcolor\":\"white\",\"plot_bgcolor\":\"#E5ECF6\",\"polar\":{\"bgcolor\":\"#E5ECF6\",\"angularaxis\":{\"gridcolor\":\"white\",\"linecolor\":\"white\",\"ticks\":\"\"},\"radialaxis\":{\"gridcolor\":\"white\",\"linecolor\":\"white\",\"ticks\":\"\"}},\"ternary\":{\"bgcolor\":\"#E5ECF6\",\"aaxis\":{\"gridcolor\":\"white\",\"linecolor\":\"white\",\"ticks\":\"\"},\"baxis\":{\"gridcolor\":\"white\",\"linecolor\":\"white\",\"ticks\":\"\"},\"caxis\":{\"gridcolor\":\"white\",\"linecolor\":\"white\",\"ticks\":\"\"}},\"coloraxis\":{\"colorbar\":{\"outlinewidth\":0,\"ticks\":\"\"}},\"colorscale\":{\"sequential\":[[0.0,\"#0d0887\"],[0.1111111111111111,\"#46039f\"],[0.2222222222222222,\"#7201a8\"],[0.3333333333333333,\"#9c179e\"],[0.4444444444444444,\"#bd3786\"],[0.5555555555555556,\"#d8576b\"],[0.6666666666666666,\"#ed7953\"],[0.7777777777777778,\"#fb9f3a\"],[0.8888888888888888,\"#fdca26\"],[1.0,\"#f0f921\"]],\"sequentialminus\":[[0.0,\"#0d0887\"],[0.1111111111111111,\"#46039f\"],[0.2222222222222222,\"#7201a8\"],[0.3333333333333333,\"#9c179e\"],[0.4444444444444444,\"#bd3786\"],[0.5555555555555556,\"#d8576b\"],[0.6666666666666666,\"#ed7953\"],[0.7777777777777778,\"#fb9f3a\"],[0.8888888888888888,\"#fdca26\"],[1.0,\"#f0f921\"]],\"diverging\":[[0,\"#8e0152\"],[0.1,\"#c51b7d\"],[0.2,\"#de77ae\"],[0.3,\"#f1b6da\"],[0.4,\"#fde0ef\"],[0.5,\"#f7f7f7\"],[0.6,\"#e6f5d0\"],[0.7,\"#b8e186\"],[0.8,\"#7fbc41\"],[0.9,\"#4d9221\"],[1,\"#276419\"]]},\"xaxis\":{\"gridcolor\":\"white\",\"linecolor\":\"white\",\"ticks\":\"\",\"title\":{\"standoff\":15},\"zerolinecolor\":\"white\",\"automargin\":true,\"zerolinewidth\":2},\"yaxis\":{\"gridcolor\":\"white\",\"linecolor\":\"white\",\"ticks\":\"\",\"title\":{\"standoff\":15},\"zerolinecolor\":\"white\",\"automargin\":true,\"zerolinewidth\":2},\"scene\":{\"xaxis\":{\"backgroundcolor\":\"#E5ECF6\",\"gridcolor\":\"white\",\"linecolor\":\"white\",\"showbackground\":true,\"ticks\":\"\",\"zerolinecolor\":\"white\",\"gridwidth\":2},\"yaxis\":{\"backgroundcolor\":\"#E5ECF6\",\"gridcolor\":\"white\",\"linecolor\":\"white\",\"showbackground\":true,\"ticks\":\"\",\"zerolinecolor\":\"white\",\"gridwidth\":2},\"zaxis\":{\"backgroundcolor\":\"#E5ECF6\",\"gridcolor\":\"white\",\"linecolor\":\"white\",\"showbackground\":true,\"ticks\":\"\",\"zerolinecolor\":\"white\",\"gridwidth\":2}},\"shapedefaults\":{\"line\":{\"color\":\"#2a3f5f\"}},\"annotationdefaults\":{\"arrowcolor\":\"#2a3f5f\",\"arrowhead\":0,\"arrowwidth\":1},\"geo\":{\"bgcolor\":\"white\",\"landcolor\":\"#E5ECF6\",\"subunitcolor\":\"white\",\"showland\":true,\"showlakes\":true,\"lakecolor\":\"white\"},\"title\":{\"x\":0.05},\"mapbox\":{\"style\":\"light\"}}},\"xaxis\":{\"anchor\":\"y\",\"domain\":[0.0,1.0],\"title\":{\"text\":\"Agent\"},\"categoryorder\":\"array\",\"categoryarray\":[\"lstm\",\"transformer_multi\",\"mlp\"]},\"yaxis\":{\"anchor\":\"x\",\"domain\":[0.0,1.0],\"title\":{\"text\":\"mean_cumulative_return\"}},\"legend\":{\"title\":{\"text\":\"agent\"},\"tracegroupgap\":0},\"title\":{\"text\":\"Top-3 Agents by mean_cumulative_return (test splits)\"},\"barmode\":\"relative\",\"showlegend\":false},                        {\"responsive\": true}                    ).then(function(){\n",
       "                            \n",
       "var gd = document.getElementById('9fe5dafc-8d26-4a84-b488-e2092ed6d2e5');\n",
       "var x = new MutationObserver(function (mutations, observer) {{\n",
       "        var display = window.getComputedStyle(gd).display;\n",
       "        if (!display || display === 'none') {{\n",
       "            console.log([gd, 'removed!']);\n",
       "            Plotly.purge(gd);\n",
       "            observer.disconnect();\n",
       "        }}\n",
       "}});\n",
       "\n",
       "// Listen for the removal of the full notebook cells\n",
       "var notebookContainer = gd.closest('#notebook-container');\n",
       "if (notebookContainer) {{\n",
       "    x.observe(notebookContainer, {childList: true});\n",
       "}}\n",
       "\n",
       "// Listen for the clearing of the current output cell\n",
       "var outputEl = gd.closest('.output');\n",
       "if (outputEl) {{\n",
       "    x.observe(outputEl, {childList: true});\n",
       "}}\n",
       "\n",
       "                        })                };                });            </script>        </div>"
      ]
     },
     "metadata": {},
     "output_type": "display_data"
    },
    {
     "data": {
      "text/html": [
       "<div>\n",
       "<style scoped>\n",
       "    .dataframe tbody tr th:only-of-type {\n",
       "        vertical-align: middle;\n",
       "    }\n",
       "\n",
       "    .dataframe tbody tr th {\n",
       "        vertical-align: top;\n",
       "    }\n",
       "\n",
       "    .dataframe thead th {\n",
       "        text-align: right;\n",
       "    }\n",
       "</style>\n",
       "<table border=\"1\" class=\"dataframe\">\n",
       "  <thead>\n",
       "    <tr style=\"text-align: right;\">\n",
       "      <th></th>\n",
       "      <th>agent</th>\n",
       "      <th>mean_cumulative_return</th>\n",
       "      <th>Rank</th>\n",
       "    </tr>\n",
       "  </thead>\n",
       "  <tbody>\n",
       "    <tr>\n",
       "      <th>0</th>\n",
       "      <td>lstm</td>\n",
       "      <td>-0.015412</td>\n",
       "      <td>1.0</td>\n",
       "    </tr>\n",
       "    <tr>\n",
       "      <th>1</th>\n",
       "      <td>transformer_multi</td>\n",
       "      <td>-0.017662</td>\n",
       "      <td>2.0</td>\n",
       "    </tr>\n",
       "    <tr>\n",
       "      <th>2</th>\n",
       "      <td>mlp</td>\n",
       "      <td>-0.032386</td>\n",
       "      <td>3.0</td>\n",
       "    </tr>\n",
       "    <tr>\n",
       "      <th>3</th>\n",
       "      <td>transformer_single</td>\n",
       "      <td>-0.050469</td>\n",
       "      <td>4.0</td>\n",
       "    </tr>\n",
       "  </tbody>\n",
       "</table>\n",
       "</div>"
      ],
      "text/plain": [
       "                agent  mean_cumulative_return  Rank\n",
       "0                lstm               -0.015412   1.0\n",
       "1   transformer_multi               -0.017662   2.0\n",
       "2                 mlp               -0.032386   3.0\n",
       "3  transformer_single               -0.050469   4.0"
      ]
     },
     "metadata": {},
     "output_type": "display_data"
    },
    {
     "data": {
      "application/vnd.plotly.v1+json": {
       "config": {
        "plotlyServerURL": "https://plot.ly"
       },
       "data": [
        {
         "alignmentgroup": "True",
         "boxpoints": "all",
         "customdata": [
          [
           0,
           "2023-07-01",
           "2023-12-01"
          ],
          [
           1,
           "2023-07-01",
           "2023-12-01"
          ],
          [
           2,
           "2023-07-01",
           "2023-12-01"
          ],
          [
           0,
           "2024-07-01",
           "2024-12-01"
          ],
          [
           1,
           "2024-07-01",
           "2024-12-01"
          ],
          [
           2,
           "2024-07-01",
           "2024-12-01"
          ]
         ],
         "hovertemplate": "agent=%{x}<br>mean_episode_sharpe=%{y}<br>seed=%{customdata[0]}<br>split_start=%{customdata[1]}<br>split_end=%{customdata[2]}<extra></extra>",
         "legendgroup": "mlp",
         "marker": {
          "color": "#636efa"
         },
         "name": "mlp",
         "notched": false,
         "offsetgroup": "mlp",
         "orientation": "v",
         "showlegend": true,
         "type": "box",
         "x": [
          "mlp",
          "mlp",
          "mlp",
          "mlp",
          "mlp",
          "mlp"
         ],
         "x0": " ",
         "xaxis": "x",
         "y": [
          -0.01853310351272932,
          -0.01499987738085072,
          -0.010509614713858187,
          -0.0009111562585179485,
          -0.030589711675647314,
          0.02144992637297908
         ],
         "y0": " ",
         "yaxis": "y"
        },
        {
         "alignmentgroup": "True",
         "boxpoints": "all",
         "customdata": [
          [
           0,
           "2023-07-01",
           "2023-12-01"
          ],
          [
           1,
           "2023-07-01",
           "2023-12-01"
          ],
          [
           2,
           "2023-07-01",
           "2023-12-01"
          ],
          [
           0,
           "2024-07-01",
           "2024-12-01"
          ],
          [
           1,
           "2024-07-01",
           "2024-12-01"
          ],
          [
           2,
           "2024-07-01",
           "2024-12-01"
          ]
         ],
         "hovertemplate": "agent=%{x}<br>mean_episode_sharpe=%{y}<br>seed=%{customdata[0]}<br>split_start=%{customdata[1]}<br>split_end=%{customdata[2]}<extra></extra>",
         "legendgroup": "lstm",
         "marker": {
          "color": "#EF553B"
         },
         "name": "lstm",
         "notched": false,
         "offsetgroup": "lstm",
         "orientation": "v",
         "showlegend": true,
         "type": "box",
         "x": [
          "lstm",
          "lstm",
          "lstm",
          "lstm",
          "lstm",
          "lstm"
         ],
         "x0": " ",
         "xaxis": "x",
         "y": [
          -0.0025369932164077606,
          0.007399316543553028,
          -0.03208422269016518,
          -0.020340764671152183,
          -0.05694622929600127,
          -0.032526923960009654
         ],
         "y0": " ",
         "yaxis": "y"
        },
        {
         "alignmentgroup": "True",
         "boxpoints": "all",
         "customdata": [
          [
           0,
           "2023-07-01",
           "2023-12-01"
          ],
          [
           1,
           "2023-07-01",
           "2023-12-01"
          ],
          [
           2,
           "2023-07-01",
           "2023-12-01"
          ],
          [
           0,
           "2024-07-01",
           "2024-12-01"
          ],
          [
           1,
           "2024-07-01",
           "2024-12-01"
          ],
          [
           2,
           "2024-07-01",
           "2024-12-01"
          ]
         ],
         "hovertemplate": "agent=%{x}<br>mean_episode_sharpe=%{y}<br>seed=%{customdata[0]}<br>split_start=%{customdata[1]}<br>split_end=%{customdata[2]}<extra></extra>",
         "legendgroup": "transformer_single",
         "marker": {
          "color": "#00cc96"
         },
         "name": "transformer_single",
         "notched": false,
         "offsetgroup": "transformer_single",
         "orientation": "v",
         "showlegend": true,
         "type": "box",
         "x": [
          "transformer_single",
          "transformer_single",
          "transformer_single",
          "transformer_single",
          "transformer_single",
          "transformer_single"
         ],
         "x0": " ",
         "xaxis": "x",
         "y": [
          -0.024326567893092652,
          0.010351230905669273,
          -0.050255965403115554,
          -0.0005468287109806,
          -0.03915284158773514,
          0.02679035395644267
         ],
         "y0": " ",
         "yaxis": "y"
        },
        {
         "alignmentgroup": "True",
         "boxpoints": "all",
         "customdata": [
          [
           0,
           "2023-07-01",
           "2023-12-01"
          ],
          [
           1,
           "2023-07-01",
           "2023-12-01"
          ],
          [
           2,
           "2023-07-01",
           "2023-12-01"
          ],
          [
           0,
           "2024-07-01",
           "2024-12-01"
          ],
          [
           1,
           "2024-07-01",
           "2024-12-01"
          ],
          [
           2,
           "2024-07-01",
           "2024-12-01"
          ]
         ],
         "hovertemplate": "agent=%{x}<br>mean_episode_sharpe=%{y}<br>seed=%{customdata[0]}<br>split_start=%{customdata[1]}<br>split_end=%{customdata[2]}<extra></extra>",
         "legendgroup": "transformer_multi",
         "marker": {
          "color": "#ab63fa"
         },
         "name": "transformer_multi",
         "notched": false,
         "offsetgroup": "transformer_multi",
         "orientation": "v",
         "showlegend": true,
         "type": "box",
         "x": [
          "transformer_multi",
          "transformer_multi",
          "transformer_multi",
          "transformer_multi",
          "transformer_multi",
          "transformer_multi"
         ],
         "x0": " ",
         "xaxis": "x",
         "y": [
          -0.00910938632337398,
          0.026530794415308874,
          -0.0017282564290104336,
          -3.406095276141524e-05,
          -0.045906920707578375,
          0.02114884739052822
         ],
         "y0": " ",
         "yaxis": "y"
        }
       ],
       "layout": {
        "boxmode": "overlay",
        "legend": {
         "title": {
          "text": "agent"
         },
         "tracegroupgap": 0
        },
        "template": {
         "data": {
          "bar": [
           {
            "error_x": {
             "color": "#2a3f5f"
            },
            "error_y": {
             "color": "#2a3f5f"
            },
            "marker": {
             "line": {
              "color": "#E5ECF6",
              "width": 0.5
             },
             "pattern": {
              "fillmode": "overlay",
              "size": 10,
              "solidity": 0.2
             }
            },
            "type": "bar"
           }
          ],
          "barpolar": [
           {
            "marker": {
             "line": {
              "color": "#E5ECF6",
              "width": 0.5
             },
             "pattern": {
              "fillmode": "overlay",
              "size": 10,
              "solidity": 0.2
             }
            },
            "type": "barpolar"
           }
          ],
          "carpet": [
           {
            "aaxis": {
             "endlinecolor": "#2a3f5f",
             "gridcolor": "white",
             "linecolor": "white",
             "minorgridcolor": "white",
             "startlinecolor": "#2a3f5f"
            },
            "baxis": {
             "endlinecolor": "#2a3f5f",
             "gridcolor": "white",
             "linecolor": "white",
             "minorgridcolor": "white",
             "startlinecolor": "#2a3f5f"
            },
            "type": "carpet"
           }
          ],
          "choropleth": [
           {
            "colorbar": {
             "outlinewidth": 0,
             "ticks": ""
            },
            "type": "choropleth"
           }
          ],
          "contour": [
           {
            "colorbar": {
             "outlinewidth": 0,
             "ticks": ""
            },
            "colorscale": [
             [
              0,
              "#0d0887"
             ],
             [
              0.1111111111111111,
              "#46039f"
             ],
             [
              0.2222222222222222,
              "#7201a8"
             ],
             [
              0.3333333333333333,
              "#9c179e"
             ],
             [
              0.4444444444444444,
              "#bd3786"
             ],
             [
              0.5555555555555556,
              "#d8576b"
             ],
             [
              0.6666666666666666,
              "#ed7953"
             ],
             [
              0.7777777777777778,
              "#fb9f3a"
             ],
             [
              0.8888888888888888,
              "#fdca26"
             ],
             [
              1,
              "#f0f921"
             ]
            ],
            "type": "contour"
           }
          ],
          "contourcarpet": [
           {
            "colorbar": {
             "outlinewidth": 0,
             "ticks": ""
            },
            "type": "contourcarpet"
           }
          ],
          "heatmap": [
           {
            "colorbar": {
             "outlinewidth": 0,
             "ticks": ""
            },
            "colorscale": [
             [
              0,
              "#0d0887"
             ],
             [
              0.1111111111111111,
              "#46039f"
             ],
             [
              0.2222222222222222,
              "#7201a8"
             ],
             [
              0.3333333333333333,
              "#9c179e"
             ],
             [
              0.4444444444444444,
              "#bd3786"
             ],
             [
              0.5555555555555556,
              "#d8576b"
             ],
             [
              0.6666666666666666,
              "#ed7953"
             ],
             [
              0.7777777777777778,
              "#fb9f3a"
             ],
             [
              0.8888888888888888,
              "#fdca26"
             ],
             [
              1,
              "#f0f921"
             ]
            ],
            "type": "heatmap"
           }
          ],
          "heatmapgl": [
           {
            "colorbar": {
             "outlinewidth": 0,
             "ticks": ""
            },
            "colorscale": [
             [
              0,
              "#0d0887"
             ],
             [
              0.1111111111111111,
              "#46039f"
             ],
             [
              0.2222222222222222,
              "#7201a8"
             ],
             [
              0.3333333333333333,
              "#9c179e"
             ],
             [
              0.4444444444444444,
              "#bd3786"
             ],
             [
              0.5555555555555556,
              "#d8576b"
             ],
             [
              0.6666666666666666,
              "#ed7953"
             ],
             [
              0.7777777777777778,
              "#fb9f3a"
             ],
             [
              0.8888888888888888,
              "#fdca26"
             ],
             [
              1,
              "#f0f921"
             ]
            ],
            "type": "heatmapgl"
           }
          ],
          "histogram": [
           {
            "marker": {
             "pattern": {
              "fillmode": "overlay",
              "size": 10,
              "solidity": 0.2
             }
            },
            "type": "histogram"
           }
          ],
          "histogram2d": [
           {
            "colorbar": {
             "outlinewidth": 0,
             "ticks": ""
            },
            "colorscale": [
             [
              0,
              "#0d0887"
             ],
             [
              0.1111111111111111,
              "#46039f"
             ],
             [
              0.2222222222222222,
              "#7201a8"
             ],
             [
              0.3333333333333333,
              "#9c179e"
             ],
             [
              0.4444444444444444,
              "#bd3786"
             ],
             [
              0.5555555555555556,
              "#d8576b"
             ],
             [
              0.6666666666666666,
              "#ed7953"
             ],
             [
              0.7777777777777778,
              "#fb9f3a"
             ],
             [
              0.8888888888888888,
              "#fdca26"
             ],
             [
              1,
              "#f0f921"
             ]
            ],
            "type": "histogram2d"
           }
          ],
          "histogram2dcontour": [
           {
            "colorbar": {
             "outlinewidth": 0,
             "ticks": ""
            },
            "colorscale": [
             [
              0,
              "#0d0887"
             ],
             [
              0.1111111111111111,
              "#46039f"
             ],
             [
              0.2222222222222222,
              "#7201a8"
             ],
             [
              0.3333333333333333,
              "#9c179e"
             ],
             [
              0.4444444444444444,
              "#bd3786"
             ],
             [
              0.5555555555555556,
              "#d8576b"
             ],
             [
              0.6666666666666666,
              "#ed7953"
             ],
             [
              0.7777777777777778,
              "#fb9f3a"
             ],
             [
              0.8888888888888888,
              "#fdca26"
             ],
             [
              1,
              "#f0f921"
             ]
            ],
            "type": "histogram2dcontour"
           }
          ],
          "mesh3d": [
           {
            "colorbar": {
             "outlinewidth": 0,
             "ticks": ""
            },
            "type": "mesh3d"
           }
          ],
          "parcoords": [
           {
            "line": {
             "colorbar": {
              "outlinewidth": 0,
              "ticks": ""
             }
            },
            "type": "parcoords"
           }
          ],
          "pie": [
           {
            "automargin": true,
            "type": "pie"
           }
          ],
          "scatter": [
           {
            "fillpattern": {
             "fillmode": "overlay",
             "size": 10,
             "solidity": 0.2
            },
            "type": "scatter"
           }
          ],
          "scatter3d": [
           {
            "line": {
             "colorbar": {
              "outlinewidth": 0,
              "ticks": ""
             }
            },
            "marker": {
             "colorbar": {
              "outlinewidth": 0,
              "ticks": ""
             }
            },
            "type": "scatter3d"
           }
          ],
          "scattercarpet": [
           {
            "marker": {
             "colorbar": {
              "outlinewidth": 0,
              "ticks": ""
             }
            },
            "type": "scattercarpet"
           }
          ],
          "scattergeo": [
           {
            "marker": {
             "colorbar": {
              "outlinewidth": 0,
              "ticks": ""
             }
            },
            "type": "scattergeo"
           }
          ],
          "scattergl": [
           {
            "marker": {
             "colorbar": {
              "outlinewidth": 0,
              "ticks": ""
             }
            },
            "type": "scattergl"
           }
          ],
          "scattermapbox": [
           {
            "marker": {
             "colorbar": {
              "outlinewidth": 0,
              "ticks": ""
             }
            },
            "type": "scattermapbox"
           }
          ],
          "scatterpolar": [
           {
            "marker": {
             "colorbar": {
              "outlinewidth": 0,
              "ticks": ""
             }
            },
            "type": "scatterpolar"
           }
          ],
          "scatterpolargl": [
           {
            "marker": {
             "colorbar": {
              "outlinewidth": 0,
              "ticks": ""
             }
            },
            "type": "scatterpolargl"
           }
          ],
          "scatterternary": [
           {
            "marker": {
             "colorbar": {
              "outlinewidth": 0,
              "ticks": ""
             }
            },
            "type": "scatterternary"
           }
          ],
          "surface": [
           {
            "colorbar": {
             "outlinewidth": 0,
             "ticks": ""
            },
            "colorscale": [
             [
              0,
              "#0d0887"
             ],
             [
              0.1111111111111111,
              "#46039f"
             ],
             [
              0.2222222222222222,
              "#7201a8"
             ],
             [
              0.3333333333333333,
              "#9c179e"
             ],
             [
              0.4444444444444444,
              "#bd3786"
             ],
             [
              0.5555555555555556,
              "#d8576b"
             ],
             [
              0.6666666666666666,
              "#ed7953"
             ],
             [
              0.7777777777777778,
              "#fb9f3a"
             ],
             [
              0.8888888888888888,
              "#fdca26"
             ],
             [
              1,
              "#f0f921"
             ]
            ],
            "type": "surface"
           }
          ],
          "table": [
           {
            "cells": {
             "fill": {
              "color": "#EBF0F8"
             },
             "line": {
              "color": "white"
             }
            },
            "header": {
             "fill": {
              "color": "#C8D4E3"
             },
             "line": {
              "color": "white"
             }
            },
            "type": "table"
           }
          ]
         },
         "layout": {
          "annotationdefaults": {
           "arrowcolor": "#2a3f5f",
           "arrowhead": 0,
           "arrowwidth": 1
          },
          "autotypenumbers": "strict",
          "coloraxis": {
           "colorbar": {
            "outlinewidth": 0,
            "ticks": ""
           }
          },
          "colorscale": {
           "diverging": [
            [
             0,
             "#8e0152"
            ],
            [
             0.1,
             "#c51b7d"
            ],
            [
             0.2,
             "#de77ae"
            ],
            [
             0.3,
             "#f1b6da"
            ],
            [
             0.4,
             "#fde0ef"
            ],
            [
             0.5,
             "#f7f7f7"
            ],
            [
             0.6,
             "#e6f5d0"
            ],
            [
             0.7,
             "#b8e186"
            ],
            [
             0.8,
             "#7fbc41"
            ],
            [
             0.9,
             "#4d9221"
            ],
            [
             1,
             "#276419"
            ]
           ],
           "sequential": [
            [
             0,
             "#0d0887"
            ],
            [
             0.1111111111111111,
             "#46039f"
            ],
            [
             0.2222222222222222,
             "#7201a8"
            ],
            [
             0.3333333333333333,
             "#9c179e"
            ],
            [
             0.4444444444444444,
             "#bd3786"
            ],
            [
             0.5555555555555556,
             "#d8576b"
            ],
            [
             0.6666666666666666,
             "#ed7953"
            ],
            [
             0.7777777777777778,
             "#fb9f3a"
            ],
            [
             0.8888888888888888,
             "#fdca26"
            ],
            [
             1,
             "#f0f921"
            ]
           ],
           "sequentialminus": [
            [
             0,
             "#0d0887"
            ],
            [
             0.1111111111111111,
             "#46039f"
            ],
            [
             0.2222222222222222,
             "#7201a8"
            ],
            [
             0.3333333333333333,
             "#9c179e"
            ],
            [
             0.4444444444444444,
             "#bd3786"
            ],
            [
             0.5555555555555556,
             "#d8576b"
            ],
            [
             0.6666666666666666,
             "#ed7953"
            ],
            [
             0.7777777777777778,
             "#fb9f3a"
            ],
            [
             0.8888888888888888,
             "#fdca26"
            ],
            [
             1,
             "#f0f921"
            ]
           ]
          },
          "colorway": [
           "#636efa",
           "#EF553B",
           "#00cc96",
           "#ab63fa",
           "#FFA15A",
           "#19d3f3",
           "#FF6692",
           "#B6E880",
           "#FF97FF",
           "#FECB52"
          ],
          "font": {
           "color": "#2a3f5f"
          },
          "geo": {
           "bgcolor": "white",
           "lakecolor": "white",
           "landcolor": "#E5ECF6",
           "showlakes": true,
           "showland": true,
           "subunitcolor": "white"
          },
          "hoverlabel": {
           "align": "left"
          },
          "hovermode": "closest",
          "mapbox": {
           "style": "light"
          },
          "paper_bgcolor": "white",
          "plot_bgcolor": "#E5ECF6",
          "polar": {
           "angularaxis": {
            "gridcolor": "white",
            "linecolor": "white",
            "ticks": ""
           },
           "bgcolor": "#E5ECF6",
           "radialaxis": {
            "gridcolor": "white",
            "linecolor": "white",
            "ticks": ""
           }
          },
          "scene": {
           "xaxis": {
            "backgroundcolor": "#E5ECF6",
            "gridcolor": "white",
            "gridwidth": 2,
            "linecolor": "white",
            "showbackground": true,
            "ticks": "",
            "zerolinecolor": "white"
           },
           "yaxis": {
            "backgroundcolor": "#E5ECF6",
            "gridcolor": "white",
            "gridwidth": 2,
            "linecolor": "white",
            "showbackground": true,
            "ticks": "",
            "zerolinecolor": "white"
           },
           "zaxis": {
            "backgroundcolor": "#E5ECF6",
            "gridcolor": "white",
            "gridwidth": 2,
            "linecolor": "white",
            "showbackground": true,
            "ticks": "",
            "zerolinecolor": "white"
           }
          },
          "shapedefaults": {
           "line": {
            "color": "#2a3f5f"
           }
          },
          "ternary": {
           "aaxis": {
            "gridcolor": "white",
            "linecolor": "white",
            "ticks": ""
           },
           "baxis": {
            "gridcolor": "white",
            "linecolor": "white",
            "ticks": ""
           },
           "bgcolor": "#E5ECF6",
           "caxis": {
            "gridcolor": "white",
            "linecolor": "white",
            "ticks": ""
           }
          },
          "title": {
           "x": 0.05
          },
          "xaxis": {
           "automargin": true,
           "gridcolor": "white",
           "linecolor": "white",
           "ticks": "",
           "title": {
            "standoff": 15
           },
           "zerolinecolor": "white",
           "zerolinewidth": 2
          },
          "yaxis": {
           "automargin": true,
           "gridcolor": "white",
           "linecolor": "white",
           "ticks": "",
           "title": {
            "standoff": 15
           },
           "zerolinecolor": "white",
           "zerolinewidth": 2
          }
         }
        },
        "title": {
         "text": "mean_episode_sharpe distribution per Agent (test splits)"
        },
        "xaxis": {
         "anchor": "y",
         "categoryarray": [
          "mlp",
          "lstm",
          "transformer_single",
          "transformer_multi"
         ],
         "categoryorder": "array",
         "domain": [
          0,
          1
         ],
         "title": {
          "text": "agent"
         }
        },
        "yaxis": {
         "anchor": "x",
         "domain": [
          0,
          1
         ],
         "title": {
          "text": "mean_episode_sharpe"
         }
        }
       }
      },
      "text/html": [
       "<div>                            <div id=\"1586122c-8925-4dc1-83dd-a29d3d944194\" class=\"plotly-graph-div\" style=\"height:525px; width:100%;\"></div>            <script type=\"text/javascript\">                require([\"plotly\"], function(Plotly) {                    window.PLOTLYENV=window.PLOTLYENV || {};                                    if (document.getElementById(\"1586122c-8925-4dc1-83dd-a29d3d944194\")) {                    Plotly.newPlot(                        \"1586122c-8925-4dc1-83dd-a29d3d944194\",                        [{\"alignmentgroup\":\"True\",\"boxpoints\":\"all\",\"customdata\":[[0,\"2023-07-01\",\"2023-12-01\"],[1,\"2023-07-01\",\"2023-12-01\"],[2,\"2023-07-01\",\"2023-12-01\"],[0,\"2024-07-01\",\"2024-12-01\"],[1,\"2024-07-01\",\"2024-12-01\"],[2,\"2024-07-01\",\"2024-12-01\"]],\"hovertemplate\":\"agent=%{x}<br>mean_episode_sharpe=%{y}<br>seed=%{customdata[0]}<br>split_start=%{customdata[1]}<br>split_end=%{customdata[2]}<extra></extra>\",\"legendgroup\":\"mlp\",\"marker\":{\"color\":\"#636efa\"},\"name\":\"mlp\",\"notched\":false,\"offsetgroup\":\"mlp\",\"orientation\":\"v\",\"showlegend\":true,\"x\":[\"mlp\",\"mlp\",\"mlp\",\"mlp\",\"mlp\",\"mlp\"],\"x0\":\" \",\"xaxis\":\"x\",\"y\":[-0.01853310351272932,-0.01499987738085072,-0.010509614713858187,-0.0009111562585179485,-0.030589711675647314,0.02144992637297908],\"y0\":\" \",\"yaxis\":\"y\",\"type\":\"box\"},{\"alignmentgroup\":\"True\",\"boxpoints\":\"all\",\"customdata\":[[0,\"2023-07-01\",\"2023-12-01\"],[1,\"2023-07-01\",\"2023-12-01\"],[2,\"2023-07-01\",\"2023-12-01\"],[0,\"2024-07-01\",\"2024-12-01\"],[1,\"2024-07-01\",\"2024-12-01\"],[2,\"2024-07-01\",\"2024-12-01\"]],\"hovertemplate\":\"agent=%{x}<br>mean_episode_sharpe=%{y}<br>seed=%{customdata[0]}<br>split_start=%{customdata[1]}<br>split_end=%{customdata[2]}<extra></extra>\",\"legendgroup\":\"lstm\",\"marker\":{\"color\":\"#EF553B\"},\"name\":\"lstm\",\"notched\":false,\"offsetgroup\":\"lstm\",\"orientation\":\"v\",\"showlegend\":true,\"x\":[\"lstm\",\"lstm\",\"lstm\",\"lstm\",\"lstm\",\"lstm\"],\"x0\":\" \",\"xaxis\":\"x\",\"y\":[-0.0025369932164077606,0.007399316543553028,-0.03208422269016518,-0.020340764671152183,-0.05694622929600127,-0.032526923960009654],\"y0\":\" \",\"yaxis\":\"y\",\"type\":\"box\"},{\"alignmentgroup\":\"True\",\"boxpoints\":\"all\",\"customdata\":[[0,\"2023-07-01\",\"2023-12-01\"],[1,\"2023-07-01\",\"2023-12-01\"],[2,\"2023-07-01\",\"2023-12-01\"],[0,\"2024-07-01\",\"2024-12-01\"],[1,\"2024-07-01\",\"2024-12-01\"],[2,\"2024-07-01\",\"2024-12-01\"]],\"hovertemplate\":\"agent=%{x}<br>mean_episode_sharpe=%{y}<br>seed=%{customdata[0]}<br>split_start=%{customdata[1]}<br>split_end=%{customdata[2]}<extra></extra>\",\"legendgroup\":\"transformer_single\",\"marker\":{\"color\":\"#00cc96\"},\"name\":\"transformer_single\",\"notched\":false,\"offsetgroup\":\"transformer_single\",\"orientation\":\"v\",\"showlegend\":true,\"x\":[\"transformer_single\",\"transformer_single\",\"transformer_single\",\"transformer_single\",\"transformer_single\",\"transformer_single\"],\"x0\":\" \",\"xaxis\":\"x\",\"y\":[-0.024326567893092652,0.010351230905669273,-0.050255965403115554,-0.0005468287109806,-0.03915284158773514,0.02679035395644267],\"y0\":\" \",\"yaxis\":\"y\",\"type\":\"box\"},{\"alignmentgroup\":\"True\",\"boxpoints\":\"all\",\"customdata\":[[0,\"2023-07-01\",\"2023-12-01\"],[1,\"2023-07-01\",\"2023-12-01\"],[2,\"2023-07-01\",\"2023-12-01\"],[0,\"2024-07-01\",\"2024-12-01\"],[1,\"2024-07-01\",\"2024-12-01\"],[2,\"2024-07-01\",\"2024-12-01\"]],\"hovertemplate\":\"agent=%{x}<br>mean_episode_sharpe=%{y}<br>seed=%{customdata[0]}<br>split_start=%{customdata[1]}<br>split_end=%{customdata[2]}<extra></extra>\",\"legendgroup\":\"transformer_multi\",\"marker\":{\"color\":\"#ab63fa\"},\"name\":\"transformer_multi\",\"notched\":false,\"offsetgroup\":\"transformer_multi\",\"orientation\":\"v\",\"showlegend\":true,\"x\":[\"transformer_multi\",\"transformer_multi\",\"transformer_multi\",\"transformer_multi\",\"transformer_multi\",\"transformer_multi\"],\"x0\":\" \",\"xaxis\":\"x\",\"y\":[-0.00910938632337398,0.026530794415308874,-0.0017282564290104336,-3.406095276141524e-05,-0.045906920707578375,0.02114884739052822],\"y0\":\" \",\"yaxis\":\"y\",\"type\":\"box\"}],                        {\"template\":{\"data\":{\"histogram2dcontour\":[{\"type\":\"histogram2dcontour\",\"colorbar\":{\"outlinewidth\":0,\"ticks\":\"\"},\"colorscale\":[[0.0,\"#0d0887\"],[0.1111111111111111,\"#46039f\"],[0.2222222222222222,\"#7201a8\"],[0.3333333333333333,\"#9c179e\"],[0.4444444444444444,\"#bd3786\"],[0.5555555555555556,\"#d8576b\"],[0.6666666666666666,\"#ed7953\"],[0.7777777777777778,\"#fb9f3a\"],[0.8888888888888888,\"#fdca26\"],[1.0,\"#f0f921\"]]}],\"choropleth\":[{\"type\":\"choropleth\",\"colorbar\":{\"outlinewidth\":0,\"ticks\":\"\"}}],\"histogram2d\":[{\"type\":\"histogram2d\",\"colorbar\":{\"outlinewidth\":0,\"ticks\":\"\"},\"colorscale\":[[0.0,\"#0d0887\"],[0.1111111111111111,\"#46039f\"],[0.2222222222222222,\"#7201a8\"],[0.3333333333333333,\"#9c179e\"],[0.4444444444444444,\"#bd3786\"],[0.5555555555555556,\"#d8576b\"],[0.6666666666666666,\"#ed7953\"],[0.7777777777777778,\"#fb9f3a\"],[0.8888888888888888,\"#fdca26\"],[1.0,\"#f0f921\"]]}],\"heatmap\":[{\"type\":\"heatmap\",\"colorbar\":{\"outlinewidth\":0,\"ticks\":\"\"},\"colorscale\":[[0.0,\"#0d0887\"],[0.1111111111111111,\"#46039f\"],[0.2222222222222222,\"#7201a8\"],[0.3333333333333333,\"#9c179e\"],[0.4444444444444444,\"#bd3786\"],[0.5555555555555556,\"#d8576b\"],[0.6666666666666666,\"#ed7953\"],[0.7777777777777778,\"#fb9f3a\"],[0.8888888888888888,\"#fdca26\"],[1.0,\"#f0f921\"]]}],\"heatmapgl\":[{\"type\":\"heatmapgl\",\"colorbar\":{\"outlinewidth\":0,\"ticks\":\"\"},\"colorscale\":[[0.0,\"#0d0887\"],[0.1111111111111111,\"#46039f\"],[0.2222222222222222,\"#7201a8\"],[0.3333333333333333,\"#9c179e\"],[0.4444444444444444,\"#bd3786\"],[0.5555555555555556,\"#d8576b\"],[0.6666666666666666,\"#ed7953\"],[0.7777777777777778,\"#fb9f3a\"],[0.8888888888888888,\"#fdca26\"],[1.0,\"#f0f921\"]]}],\"contourcarpet\":[{\"type\":\"contourcarpet\",\"colorbar\":{\"outlinewidth\":0,\"ticks\":\"\"}}],\"contour\":[{\"type\":\"contour\",\"colorbar\":{\"outlinewidth\":0,\"ticks\":\"\"},\"colorscale\":[[0.0,\"#0d0887\"],[0.1111111111111111,\"#46039f\"],[0.2222222222222222,\"#7201a8\"],[0.3333333333333333,\"#9c179e\"],[0.4444444444444444,\"#bd3786\"],[0.5555555555555556,\"#d8576b\"],[0.6666666666666666,\"#ed7953\"],[0.7777777777777778,\"#fb9f3a\"],[0.8888888888888888,\"#fdca26\"],[1.0,\"#f0f921\"]]}],\"surface\":[{\"type\":\"surface\",\"colorbar\":{\"outlinewidth\":0,\"ticks\":\"\"},\"colorscale\":[[0.0,\"#0d0887\"],[0.1111111111111111,\"#46039f\"],[0.2222222222222222,\"#7201a8\"],[0.3333333333333333,\"#9c179e\"],[0.4444444444444444,\"#bd3786\"],[0.5555555555555556,\"#d8576b\"],[0.6666666666666666,\"#ed7953\"],[0.7777777777777778,\"#fb9f3a\"],[0.8888888888888888,\"#fdca26\"],[1.0,\"#f0f921\"]]}],\"mesh3d\":[{\"type\":\"mesh3d\",\"colorbar\":{\"outlinewidth\":0,\"ticks\":\"\"}}],\"scatter\":[{\"fillpattern\":{\"fillmode\":\"overlay\",\"size\":10,\"solidity\":0.2},\"type\":\"scatter\"}],\"parcoords\":[{\"type\":\"parcoords\",\"line\":{\"colorbar\":{\"outlinewidth\":0,\"ticks\":\"\"}}}],\"scatterpolargl\":[{\"type\":\"scatterpolargl\",\"marker\":{\"colorbar\":{\"outlinewidth\":0,\"ticks\":\"\"}}}],\"bar\":[{\"error_x\":{\"color\":\"#2a3f5f\"},\"error_y\":{\"color\":\"#2a3f5f\"},\"marker\":{\"line\":{\"color\":\"#E5ECF6\",\"width\":0.5},\"pattern\":{\"fillmode\":\"overlay\",\"size\":10,\"solidity\":0.2}},\"type\":\"bar\"}],\"scattergeo\":[{\"type\":\"scattergeo\",\"marker\":{\"colorbar\":{\"outlinewidth\":0,\"ticks\":\"\"}}}],\"scatterpolar\":[{\"type\":\"scatterpolar\",\"marker\":{\"colorbar\":{\"outlinewidth\":0,\"ticks\":\"\"}}}],\"histogram\":[{\"marker\":{\"pattern\":{\"fillmode\":\"overlay\",\"size\":10,\"solidity\":0.2}},\"type\":\"histogram\"}],\"scattergl\":[{\"type\":\"scattergl\",\"marker\":{\"colorbar\":{\"outlinewidth\":0,\"ticks\":\"\"}}}],\"scatter3d\":[{\"type\":\"scatter3d\",\"line\":{\"colorbar\":{\"outlinewidth\":0,\"ticks\":\"\"}},\"marker\":{\"colorbar\":{\"outlinewidth\":0,\"ticks\":\"\"}}}],\"scattermapbox\":[{\"type\":\"scattermapbox\",\"marker\":{\"colorbar\":{\"outlinewidth\":0,\"ticks\":\"\"}}}],\"scatterternary\":[{\"type\":\"scatterternary\",\"marker\":{\"colorbar\":{\"outlinewidth\":0,\"ticks\":\"\"}}}],\"scattercarpet\":[{\"type\":\"scattercarpet\",\"marker\":{\"colorbar\":{\"outlinewidth\":0,\"ticks\":\"\"}}}],\"carpet\":[{\"aaxis\":{\"endlinecolor\":\"#2a3f5f\",\"gridcolor\":\"white\",\"linecolor\":\"white\",\"minorgridcolor\":\"white\",\"startlinecolor\":\"#2a3f5f\"},\"baxis\":{\"endlinecolor\":\"#2a3f5f\",\"gridcolor\":\"white\",\"linecolor\":\"white\",\"minorgridcolor\":\"white\",\"startlinecolor\":\"#2a3f5f\"},\"type\":\"carpet\"}],\"table\":[{\"cells\":{\"fill\":{\"color\":\"#EBF0F8\"},\"line\":{\"color\":\"white\"}},\"header\":{\"fill\":{\"color\":\"#C8D4E3\"},\"line\":{\"color\":\"white\"}},\"type\":\"table\"}],\"barpolar\":[{\"marker\":{\"line\":{\"color\":\"#E5ECF6\",\"width\":0.5},\"pattern\":{\"fillmode\":\"overlay\",\"size\":10,\"solidity\":0.2}},\"type\":\"barpolar\"}],\"pie\":[{\"automargin\":true,\"type\":\"pie\"}]},\"layout\":{\"autotypenumbers\":\"strict\",\"colorway\":[\"#636efa\",\"#EF553B\",\"#00cc96\",\"#ab63fa\",\"#FFA15A\",\"#19d3f3\",\"#FF6692\",\"#B6E880\",\"#FF97FF\",\"#FECB52\"],\"font\":{\"color\":\"#2a3f5f\"},\"hovermode\":\"closest\",\"hoverlabel\":{\"align\":\"left\"},\"paper_bgcolor\":\"white\",\"plot_bgcolor\":\"#E5ECF6\",\"polar\":{\"bgcolor\":\"#E5ECF6\",\"angularaxis\":{\"gridcolor\":\"white\",\"linecolor\":\"white\",\"ticks\":\"\"},\"radialaxis\":{\"gridcolor\":\"white\",\"linecolor\":\"white\",\"ticks\":\"\"}},\"ternary\":{\"bgcolor\":\"#E5ECF6\",\"aaxis\":{\"gridcolor\":\"white\",\"linecolor\":\"white\",\"ticks\":\"\"},\"baxis\":{\"gridcolor\":\"white\",\"linecolor\":\"white\",\"ticks\":\"\"},\"caxis\":{\"gridcolor\":\"white\",\"linecolor\":\"white\",\"ticks\":\"\"}},\"coloraxis\":{\"colorbar\":{\"outlinewidth\":0,\"ticks\":\"\"}},\"colorscale\":{\"sequential\":[[0.0,\"#0d0887\"],[0.1111111111111111,\"#46039f\"],[0.2222222222222222,\"#7201a8\"],[0.3333333333333333,\"#9c179e\"],[0.4444444444444444,\"#bd3786\"],[0.5555555555555556,\"#d8576b\"],[0.6666666666666666,\"#ed7953\"],[0.7777777777777778,\"#fb9f3a\"],[0.8888888888888888,\"#fdca26\"],[1.0,\"#f0f921\"]],\"sequentialminus\":[[0.0,\"#0d0887\"],[0.1111111111111111,\"#46039f\"],[0.2222222222222222,\"#7201a8\"],[0.3333333333333333,\"#9c179e\"],[0.4444444444444444,\"#bd3786\"],[0.5555555555555556,\"#d8576b\"],[0.6666666666666666,\"#ed7953\"],[0.7777777777777778,\"#fb9f3a\"],[0.8888888888888888,\"#fdca26\"],[1.0,\"#f0f921\"]],\"diverging\":[[0,\"#8e0152\"],[0.1,\"#c51b7d\"],[0.2,\"#de77ae\"],[0.3,\"#f1b6da\"],[0.4,\"#fde0ef\"],[0.5,\"#f7f7f7\"],[0.6,\"#e6f5d0\"],[0.7,\"#b8e186\"],[0.8,\"#7fbc41\"],[0.9,\"#4d9221\"],[1,\"#276419\"]]},\"xaxis\":{\"gridcolor\":\"white\",\"linecolor\":\"white\",\"ticks\":\"\",\"title\":{\"standoff\":15},\"zerolinecolor\":\"white\",\"automargin\":true,\"zerolinewidth\":2},\"yaxis\":{\"gridcolor\":\"white\",\"linecolor\":\"white\",\"ticks\":\"\",\"title\":{\"standoff\":15},\"zerolinecolor\":\"white\",\"automargin\":true,\"zerolinewidth\":2},\"scene\":{\"xaxis\":{\"backgroundcolor\":\"#E5ECF6\",\"gridcolor\":\"white\",\"linecolor\":\"white\",\"showbackground\":true,\"ticks\":\"\",\"zerolinecolor\":\"white\",\"gridwidth\":2},\"yaxis\":{\"backgroundcolor\":\"#E5ECF6\",\"gridcolor\":\"white\",\"linecolor\":\"white\",\"showbackground\":true,\"ticks\":\"\",\"zerolinecolor\":\"white\",\"gridwidth\":2},\"zaxis\":{\"backgroundcolor\":\"#E5ECF6\",\"gridcolor\":\"white\",\"linecolor\":\"white\",\"showbackground\":true,\"ticks\":\"\",\"zerolinecolor\":\"white\",\"gridwidth\":2}},\"shapedefaults\":{\"line\":{\"color\":\"#2a3f5f\"}},\"annotationdefaults\":{\"arrowcolor\":\"#2a3f5f\",\"arrowhead\":0,\"arrowwidth\":1},\"geo\":{\"bgcolor\":\"white\",\"landcolor\":\"#E5ECF6\",\"subunitcolor\":\"white\",\"showland\":true,\"showlakes\":true,\"lakecolor\":\"white\"},\"title\":{\"x\":0.05},\"mapbox\":{\"style\":\"light\"}}},\"xaxis\":{\"anchor\":\"y\",\"domain\":[0.0,1.0],\"title\":{\"text\":\"agent\"},\"categoryorder\":\"array\",\"categoryarray\":[\"mlp\",\"lstm\",\"transformer_single\",\"transformer_multi\"]},\"yaxis\":{\"anchor\":\"x\",\"domain\":[0.0,1.0],\"title\":{\"text\":\"mean_episode_sharpe\"}},\"legend\":{\"title\":{\"text\":\"agent\"},\"tracegroupgap\":0},\"title\":{\"text\":\"mean_episode_sharpe distribution per Agent (test splits)\"},\"boxmode\":\"overlay\"},                        {\"responsive\": true}                    ).then(function(){\n",
       "                            \n",
       "var gd = document.getElementById('1586122c-8925-4dc1-83dd-a29d3d944194');\n",
       "var x = new MutationObserver(function (mutations, observer) {{\n",
       "        var display = window.getComputedStyle(gd).display;\n",
       "        if (!display || display === 'none') {{\n",
       "            console.log([gd, 'removed!']);\n",
       "            Plotly.purge(gd);\n",
       "            observer.disconnect();\n",
       "        }}\n",
       "}});\n",
       "\n",
       "// Listen for the removal of the full notebook cells\n",
       "var notebookContainer = gd.closest('#notebook-container');\n",
       "if (notebookContainer) {{\n",
       "    x.observe(notebookContainer, {childList: true});\n",
       "}}\n",
       "\n",
       "// Listen for the clearing of the current output cell\n",
       "var outputEl = gd.closest('.output');\n",
       "if (outputEl) {{\n",
       "    x.observe(outputEl, {childList: true});\n",
       "}}\n",
       "\n",
       "                        })                };                });            </script>        </div>"
      ]
     },
     "metadata": {},
     "output_type": "display_data"
    },
    {
     "data": {
      "application/vnd.plotly.v1+json": {
       "config": {
        "plotlyServerURL": "https://plot.ly"
       },
       "data": [
        {
         "alignmentgroup": "True",
         "boxpoints": "all",
         "customdata": [
          [
           0,
           "2023-07-01",
           "2023-12-01"
          ],
          [
           1,
           "2023-07-01",
           "2023-12-01"
          ],
          [
           2,
           "2023-07-01",
           "2023-12-01"
          ],
          [
           0,
           "2024-07-01",
           "2024-12-01"
          ],
          [
           1,
           "2024-07-01",
           "2024-12-01"
          ],
          [
           2,
           "2024-07-01",
           "2024-12-01"
          ]
         ],
         "hovertemplate": "agent=%{x}<br>mean_cumulative_return=%{y}<br>seed=%{customdata[0]}<br>split_start=%{customdata[1]}<br>split_end=%{customdata[2]}<extra></extra>",
         "legendgroup": "mlp",
         "marker": {
          "color": "#636efa"
         },
         "name": "mlp",
         "notched": false,
         "offsetgroup": "mlp",
         "orientation": "v",
         "showlegend": true,
         "type": "box",
         "x": [
          "mlp",
          "mlp",
          "mlp",
          "mlp",
          "mlp",
          "mlp"
         ],
         "x0": " ",
         "xaxis": "x",
         "y": [
          -0.04995544972144953,
          -0.008162444632733901,
          -0.036751940464629526,
          -0.11665020814707683,
          -0.07084350205451662,
          0.08804566875540241
         ],
         "y0": " ",
         "yaxis": "y"
        },
        {
         "alignmentgroup": "True",
         "boxpoints": "all",
         "customdata": [
          [
           0,
           "2023-07-01",
           "2023-12-01"
          ],
          [
           1,
           "2023-07-01",
           "2023-12-01"
          ],
          [
           2,
           "2023-07-01",
           "2023-12-01"
          ],
          [
           0,
           "2024-07-01",
           "2024-12-01"
          ],
          [
           1,
           "2024-07-01",
           "2024-12-01"
          ],
          [
           2,
           "2024-07-01",
           "2024-12-01"
          ]
         ],
         "hovertemplate": "agent=%{x}<br>mean_cumulative_return=%{y}<br>seed=%{customdata[0]}<br>split_start=%{customdata[1]}<br>split_end=%{customdata[2]}<extra></extra>",
         "legendgroup": "lstm",
         "marker": {
          "color": "#EF553B"
         },
         "name": "lstm",
         "notched": false,
         "offsetgroup": "lstm",
         "orientation": "v",
         "showlegend": true,
         "type": "box",
         "x": [
          "lstm",
          "lstm",
          "lstm",
          "lstm",
          "lstm",
          "lstm"
         ],
         "x0": " ",
         "xaxis": "x",
         "y": [
          -0.013602615339937252,
          0.021350650734820113,
          -0.06284066734589268,
          0.046308165419008174,
          -0.0775028320778312,
          -0.006182492015019919
         ],
         "y0": " ",
         "yaxis": "y"
        },
        {
         "alignmentgroup": "True",
         "boxpoints": "all",
         "customdata": [
          [
           0,
           "2023-07-01",
           "2023-12-01"
          ],
          [
           1,
           "2023-07-01",
           "2023-12-01"
          ],
          [
           2,
           "2023-07-01",
           "2023-12-01"
          ],
          [
           0,
           "2024-07-01",
           "2024-12-01"
          ],
          [
           1,
           "2024-07-01",
           "2024-12-01"
          ],
          [
           2,
           "2024-07-01",
           "2024-12-01"
          ]
         ],
         "hovertemplate": "agent=%{x}<br>mean_cumulative_return=%{y}<br>seed=%{customdata[0]}<br>split_start=%{customdata[1]}<br>split_end=%{customdata[2]}<extra></extra>",
         "legendgroup": "transformer_single",
         "marker": {
          "color": "#00cc96"
         },
         "name": "transformer_single",
         "notched": false,
         "offsetgroup": "transformer_single",
         "orientation": "v",
         "showlegend": true,
         "type": "box",
         "x": [
          "transformer_single",
          "transformer_single",
          "transformer_single",
          "transformer_single",
          "transformer_single",
          "transformer_single"
         ],
         "x0": " ",
         "xaxis": "x",
         "y": [
          -0.06142866734245948,
          0.021840868663971287,
          -0.08755837074927428,
          -0.11624059849168474,
          -0.04203335887690326,
          -0.01739671602799765
         ],
         "y0": " ",
         "yaxis": "y"
        },
        {
         "alignmentgroup": "True",
         "boxpoints": "all",
         "customdata": [
          [
           0,
           "2023-07-01",
           "2023-12-01"
          ],
          [
           1,
           "2023-07-01",
           "2023-12-01"
          ],
          [
           2,
           "2023-07-01",
           "2023-12-01"
          ],
          [
           0,
           "2024-07-01",
           "2024-12-01"
          ],
          [
           1,
           "2024-07-01",
           "2024-12-01"
          ],
          [
           2,
           "2024-07-01",
           "2024-12-01"
          ]
         ],
         "hovertemplate": "agent=%{x}<br>mean_cumulative_return=%{y}<br>seed=%{customdata[0]}<br>split_start=%{customdata[1]}<br>split_end=%{customdata[2]}<extra></extra>",
         "legendgroup": "transformer_multi",
         "marker": {
          "color": "#ab63fa"
         },
         "name": "transformer_multi",
         "notched": false,
         "offsetgroup": "transformer_multi",
         "orientation": "v",
         "showlegend": true,
         "type": "box",
         "x": [
          "transformer_multi",
          "transformer_multi",
          "transformer_multi",
          "transformer_multi",
          "transformer_multi",
          "transformer_multi"
         ],
         "x0": " ",
         "xaxis": "x",
         "y": [
          -0.02402051999306759,
          0.0453219119966618,
          0.0005096971079501245,
          -0.11508918793956036,
          -0.0533777836149278,
          0.04068356476795158
         ],
         "y0": " ",
         "yaxis": "y"
        }
       ],
       "layout": {
        "boxmode": "overlay",
        "legend": {
         "title": {
          "text": "agent"
         },
         "tracegroupgap": 0
        },
        "template": {
         "data": {
          "bar": [
           {
            "error_x": {
             "color": "#2a3f5f"
            },
            "error_y": {
             "color": "#2a3f5f"
            },
            "marker": {
             "line": {
              "color": "#E5ECF6",
              "width": 0.5
             },
             "pattern": {
              "fillmode": "overlay",
              "size": 10,
              "solidity": 0.2
             }
            },
            "type": "bar"
           }
          ],
          "barpolar": [
           {
            "marker": {
             "line": {
              "color": "#E5ECF6",
              "width": 0.5
             },
             "pattern": {
              "fillmode": "overlay",
              "size": 10,
              "solidity": 0.2
             }
            },
            "type": "barpolar"
           }
          ],
          "carpet": [
           {
            "aaxis": {
             "endlinecolor": "#2a3f5f",
             "gridcolor": "white",
             "linecolor": "white",
             "minorgridcolor": "white",
             "startlinecolor": "#2a3f5f"
            },
            "baxis": {
             "endlinecolor": "#2a3f5f",
             "gridcolor": "white",
             "linecolor": "white",
             "minorgridcolor": "white",
             "startlinecolor": "#2a3f5f"
            },
            "type": "carpet"
           }
          ],
          "choropleth": [
           {
            "colorbar": {
             "outlinewidth": 0,
             "ticks": ""
            },
            "type": "choropleth"
           }
          ],
          "contour": [
           {
            "colorbar": {
             "outlinewidth": 0,
             "ticks": ""
            },
            "colorscale": [
             [
              0,
              "#0d0887"
             ],
             [
              0.1111111111111111,
              "#46039f"
             ],
             [
              0.2222222222222222,
              "#7201a8"
             ],
             [
              0.3333333333333333,
              "#9c179e"
             ],
             [
              0.4444444444444444,
              "#bd3786"
             ],
             [
              0.5555555555555556,
              "#d8576b"
             ],
             [
              0.6666666666666666,
              "#ed7953"
             ],
             [
              0.7777777777777778,
              "#fb9f3a"
             ],
             [
              0.8888888888888888,
              "#fdca26"
             ],
             [
              1,
              "#f0f921"
             ]
            ],
            "type": "contour"
           }
          ],
          "contourcarpet": [
           {
            "colorbar": {
             "outlinewidth": 0,
             "ticks": ""
            },
            "type": "contourcarpet"
           }
          ],
          "heatmap": [
           {
            "colorbar": {
             "outlinewidth": 0,
             "ticks": ""
            },
            "colorscale": [
             [
              0,
              "#0d0887"
             ],
             [
              0.1111111111111111,
              "#46039f"
             ],
             [
              0.2222222222222222,
              "#7201a8"
             ],
             [
              0.3333333333333333,
              "#9c179e"
             ],
             [
              0.4444444444444444,
              "#bd3786"
             ],
             [
              0.5555555555555556,
              "#d8576b"
             ],
             [
              0.6666666666666666,
              "#ed7953"
             ],
             [
              0.7777777777777778,
              "#fb9f3a"
             ],
             [
              0.8888888888888888,
              "#fdca26"
             ],
             [
              1,
              "#f0f921"
             ]
            ],
            "type": "heatmap"
           }
          ],
          "heatmapgl": [
           {
            "colorbar": {
             "outlinewidth": 0,
             "ticks": ""
            },
            "colorscale": [
             [
              0,
              "#0d0887"
             ],
             [
              0.1111111111111111,
              "#46039f"
             ],
             [
              0.2222222222222222,
              "#7201a8"
             ],
             [
              0.3333333333333333,
              "#9c179e"
             ],
             [
              0.4444444444444444,
              "#bd3786"
             ],
             [
              0.5555555555555556,
              "#d8576b"
             ],
             [
              0.6666666666666666,
              "#ed7953"
             ],
             [
              0.7777777777777778,
              "#fb9f3a"
             ],
             [
              0.8888888888888888,
              "#fdca26"
             ],
             [
              1,
              "#f0f921"
             ]
            ],
            "type": "heatmapgl"
           }
          ],
          "histogram": [
           {
            "marker": {
             "pattern": {
              "fillmode": "overlay",
              "size": 10,
              "solidity": 0.2
             }
            },
            "type": "histogram"
           }
          ],
          "histogram2d": [
           {
            "colorbar": {
             "outlinewidth": 0,
             "ticks": ""
            },
            "colorscale": [
             [
              0,
              "#0d0887"
             ],
             [
              0.1111111111111111,
              "#46039f"
             ],
             [
              0.2222222222222222,
              "#7201a8"
             ],
             [
              0.3333333333333333,
              "#9c179e"
             ],
             [
              0.4444444444444444,
              "#bd3786"
             ],
             [
              0.5555555555555556,
              "#d8576b"
             ],
             [
              0.6666666666666666,
              "#ed7953"
             ],
             [
              0.7777777777777778,
              "#fb9f3a"
             ],
             [
              0.8888888888888888,
              "#fdca26"
             ],
             [
              1,
              "#f0f921"
             ]
            ],
            "type": "histogram2d"
           }
          ],
          "histogram2dcontour": [
           {
            "colorbar": {
             "outlinewidth": 0,
             "ticks": ""
            },
            "colorscale": [
             [
              0,
              "#0d0887"
             ],
             [
              0.1111111111111111,
              "#46039f"
             ],
             [
              0.2222222222222222,
              "#7201a8"
             ],
             [
              0.3333333333333333,
              "#9c179e"
             ],
             [
              0.4444444444444444,
              "#bd3786"
             ],
             [
              0.5555555555555556,
              "#d8576b"
             ],
             [
              0.6666666666666666,
              "#ed7953"
             ],
             [
              0.7777777777777778,
              "#fb9f3a"
             ],
             [
              0.8888888888888888,
              "#fdca26"
             ],
             [
              1,
              "#f0f921"
             ]
            ],
            "type": "histogram2dcontour"
           }
          ],
          "mesh3d": [
           {
            "colorbar": {
             "outlinewidth": 0,
             "ticks": ""
            },
            "type": "mesh3d"
           }
          ],
          "parcoords": [
           {
            "line": {
             "colorbar": {
              "outlinewidth": 0,
              "ticks": ""
             }
            },
            "type": "parcoords"
           }
          ],
          "pie": [
           {
            "automargin": true,
            "type": "pie"
           }
          ],
          "scatter": [
           {
            "fillpattern": {
             "fillmode": "overlay",
             "size": 10,
             "solidity": 0.2
            },
            "type": "scatter"
           }
          ],
          "scatter3d": [
           {
            "line": {
             "colorbar": {
              "outlinewidth": 0,
              "ticks": ""
             }
            },
            "marker": {
             "colorbar": {
              "outlinewidth": 0,
              "ticks": ""
             }
            },
            "type": "scatter3d"
           }
          ],
          "scattercarpet": [
           {
            "marker": {
             "colorbar": {
              "outlinewidth": 0,
              "ticks": ""
             }
            },
            "type": "scattercarpet"
           }
          ],
          "scattergeo": [
           {
            "marker": {
             "colorbar": {
              "outlinewidth": 0,
              "ticks": ""
             }
            },
            "type": "scattergeo"
           }
          ],
          "scattergl": [
           {
            "marker": {
             "colorbar": {
              "outlinewidth": 0,
              "ticks": ""
             }
            },
            "type": "scattergl"
           }
          ],
          "scattermapbox": [
           {
            "marker": {
             "colorbar": {
              "outlinewidth": 0,
              "ticks": ""
             }
            },
            "type": "scattermapbox"
           }
          ],
          "scatterpolar": [
           {
            "marker": {
             "colorbar": {
              "outlinewidth": 0,
              "ticks": ""
             }
            },
            "type": "scatterpolar"
           }
          ],
          "scatterpolargl": [
           {
            "marker": {
             "colorbar": {
              "outlinewidth": 0,
              "ticks": ""
             }
            },
            "type": "scatterpolargl"
           }
          ],
          "scatterternary": [
           {
            "marker": {
             "colorbar": {
              "outlinewidth": 0,
              "ticks": ""
             }
            },
            "type": "scatterternary"
           }
          ],
          "surface": [
           {
            "colorbar": {
             "outlinewidth": 0,
             "ticks": ""
            },
            "colorscale": [
             [
              0,
              "#0d0887"
             ],
             [
              0.1111111111111111,
              "#46039f"
             ],
             [
              0.2222222222222222,
              "#7201a8"
             ],
             [
              0.3333333333333333,
              "#9c179e"
             ],
             [
              0.4444444444444444,
              "#bd3786"
             ],
             [
              0.5555555555555556,
              "#d8576b"
             ],
             [
              0.6666666666666666,
              "#ed7953"
             ],
             [
              0.7777777777777778,
              "#fb9f3a"
             ],
             [
              0.8888888888888888,
              "#fdca26"
             ],
             [
              1,
              "#f0f921"
             ]
            ],
            "type": "surface"
           }
          ],
          "table": [
           {
            "cells": {
             "fill": {
              "color": "#EBF0F8"
             },
             "line": {
              "color": "white"
             }
            },
            "header": {
             "fill": {
              "color": "#C8D4E3"
             },
             "line": {
              "color": "white"
             }
            },
            "type": "table"
           }
          ]
         },
         "layout": {
          "annotationdefaults": {
           "arrowcolor": "#2a3f5f",
           "arrowhead": 0,
           "arrowwidth": 1
          },
          "autotypenumbers": "strict",
          "coloraxis": {
           "colorbar": {
            "outlinewidth": 0,
            "ticks": ""
           }
          },
          "colorscale": {
           "diverging": [
            [
             0,
             "#8e0152"
            ],
            [
             0.1,
             "#c51b7d"
            ],
            [
             0.2,
             "#de77ae"
            ],
            [
             0.3,
             "#f1b6da"
            ],
            [
             0.4,
             "#fde0ef"
            ],
            [
             0.5,
             "#f7f7f7"
            ],
            [
             0.6,
             "#e6f5d0"
            ],
            [
             0.7,
             "#b8e186"
            ],
            [
             0.8,
             "#7fbc41"
            ],
            [
             0.9,
             "#4d9221"
            ],
            [
             1,
             "#276419"
            ]
           ],
           "sequential": [
            [
             0,
             "#0d0887"
            ],
            [
             0.1111111111111111,
             "#46039f"
            ],
            [
             0.2222222222222222,
             "#7201a8"
            ],
            [
             0.3333333333333333,
             "#9c179e"
            ],
            [
             0.4444444444444444,
             "#bd3786"
            ],
            [
             0.5555555555555556,
             "#d8576b"
            ],
            [
             0.6666666666666666,
             "#ed7953"
            ],
            [
             0.7777777777777778,
             "#fb9f3a"
            ],
            [
             0.8888888888888888,
             "#fdca26"
            ],
            [
             1,
             "#f0f921"
            ]
           ],
           "sequentialminus": [
            [
             0,
             "#0d0887"
            ],
            [
             0.1111111111111111,
             "#46039f"
            ],
            [
             0.2222222222222222,
             "#7201a8"
            ],
            [
             0.3333333333333333,
             "#9c179e"
            ],
            [
             0.4444444444444444,
             "#bd3786"
            ],
            [
             0.5555555555555556,
             "#d8576b"
            ],
            [
             0.6666666666666666,
             "#ed7953"
            ],
            [
             0.7777777777777778,
             "#fb9f3a"
            ],
            [
             0.8888888888888888,
             "#fdca26"
            ],
            [
             1,
             "#f0f921"
            ]
           ]
          },
          "colorway": [
           "#636efa",
           "#EF553B",
           "#00cc96",
           "#ab63fa",
           "#FFA15A",
           "#19d3f3",
           "#FF6692",
           "#B6E880",
           "#FF97FF",
           "#FECB52"
          ],
          "font": {
           "color": "#2a3f5f"
          },
          "geo": {
           "bgcolor": "white",
           "lakecolor": "white",
           "landcolor": "#E5ECF6",
           "showlakes": true,
           "showland": true,
           "subunitcolor": "white"
          },
          "hoverlabel": {
           "align": "left"
          },
          "hovermode": "closest",
          "mapbox": {
           "style": "light"
          },
          "paper_bgcolor": "white",
          "plot_bgcolor": "#E5ECF6",
          "polar": {
           "angularaxis": {
            "gridcolor": "white",
            "linecolor": "white",
            "ticks": ""
           },
           "bgcolor": "#E5ECF6",
           "radialaxis": {
            "gridcolor": "white",
            "linecolor": "white",
            "ticks": ""
           }
          },
          "scene": {
           "xaxis": {
            "backgroundcolor": "#E5ECF6",
            "gridcolor": "white",
            "gridwidth": 2,
            "linecolor": "white",
            "showbackground": true,
            "ticks": "",
            "zerolinecolor": "white"
           },
           "yaxis": {
            "backgroundcolor": "#E5ECF6",
            "gridcolor": "white",
            "gridwidth": 2,
            "linecolor": "white",
            "showbackground": true,
            "ticks": "",
            "zerolinecolor": "white"
           },
           "zaxis": {
            "backgroundcolor": "#E5ECF6",
            "gridcolor": "white",
            "gridwidth": 2,
            "linecolor": "white",
            "showbackground": true,
            "ticks": "",
            "zerolinecolor": "white"
           }
          },
          "shapedefaults": {
           "line": {
            "color": "#2a3f5f"
           }
          },
          "ternary": {
           "aaxis": {
            "gridcolor": "white",
            "linecolor": "white",
            "ticks": ""
           },
           "baxis": {
            "gridcolor": "white",
            "linecolor": "white",
            "ticks": ""
           },
           "bgcolor": "#E5ECF6",
           "caxis": {
            "gridcolor": "white",
            "linecolor": "white",
            "ticks": ""
           }
          },
          "title": {
           "x": 0.05
          },
          "xaxis": {
           "automargin": true,
           "gridcolor": "white",
           "linecolor": "white",
           "ticks": "",
           "title": {
            "standoff": 15
           },
           "zerolinecolor": "white",
           "zerolinewidth": 2
          },
          "yaxis": {
           "automargin": true,
           "gridcolor": "white",
           "linecolor": "white",
           "ticks": "",
           "title": {
            "standoff": 15
           },
           "zerolinecolor": "white",
           "zerolinewidth": 2
          }
         }
        },
        "title": {
         "text": "mean_cumulative_return distribution per Agent (test splits)"
        },
        "xaxis": {
         "anchor": "y",
         "categoryarray": [
          "mlp",
          "lstm",
          "transformer_single",
          "transformer_multi"
         ],
         "categoryorder": "array",
         "domain": [
          0,
          1
         ],
         "title": {
          "text": "agent"
         }
        },
        "yaxis": {
         "anchor": "x",
         "domain": [
          0,
          1
         ],
         "title": {
          "text": "mean_cumulative_return"
         }
        }
       }
      },
      "text/html": [
       "<div>                            <div id=\"aaf54688-6c06-40dc-bb2a-fe0cb11659d4\" class=\"plotly-graph-div\" style=\"height:525px; width:100%;\"></div>            <script type=\"text/javascript\">                require([\"plotly\"], function(Plotly) {                    window.PLOTLYENV=window.PLOTLYENV || {};                                    if (document.getElementById(\"aaf54688-6c06-40dc-bb2a-fe0cb11659d4\")) {                    Plotly.newPlot(                        \"aaf54688-6c06-40dc-bb2a-fe0cb11659d4\",                        [{\"alignmentgroup\":\"True\",\"boxpoints\":\"all\",\"customdata\":[[0,\"2023-07-01\",\"2023-12-01\"],[1,\"2023-07-01\",\"2023-12-01\"],[2,\"2023-07-01\",\"2023-12-01\"],[0,\"2024-07-01\",\"2024-12-01\"],[1,\"2024-07-01\",\"2024-12-01\"],[2,\"2024-07-01\",\"2024-12-01\"]],\"hovertemplate\":\"agent=%{x}<br>mean_cumulative_return=%{y}<br>seed=%{customdata[0]}<br>split_start=%{customdata[1]}<br>split_end=%{customdata[2]}<extra></extra>\",\"legendgroup\":\"mlp\",\"marker\":{\"color\":\"#636efa\"},\"name\":\"mlp\",\"notched\":false,\"offsetgroup\":\"mlp\",\"orientation\":\"v\",\"showlegend\":true,\"x\":[\"mlp\",\"mlp\",\"mlp\",\"mlp\",\"mlp\",\"mlp\"],\"x0\":\" \",\"xaxis\":\"x\",\"y\":[-0.04995544972144953,-0.008162444632733901,-0.036751940464629526,-0.11665020814707683,-0.07084350205451662,0.08804566875540241],\"y0\":\" \",\"yaxis\":\"y\",\"type\":\"box\"},{\"alignmentgroup\":\"True\",\"boxpoints\":\"all\",\"customdata\":[[0,\"2023-07-01\",\"2023-12-01\"],[1,\"2023-07-01\",\"2023-12-01\"],[2,\"2023-07-01\",\"2023-12-01\"],[0,\"2024-07-01\",\"2024-12-01\"],[1,\"2024-07-01\",\"2024-12-01\"],[2,\"2024-07-01\",\"2024-12-01\"]],\"hovertemplate\":\"agent=%{x}<br>mean_cumulative_return=%{y}<br>seed=%{customdata[0]}<br>split_start=%{customdata[1]}<br>split_end=%{customdata[2]}<extra></extra>\",\"legendgroup\":\"lstm\",\"marker\":{\"color\":\"#EF553B\"},\"name\":\"lstm\",\"notched\":false,\"offsetgroup\":\"lstm\",\"orientation\":\"v\",\"showlegend\":true,\"x\":[\"lstm\",\"lstm\",\"lstm\",\"lstm\",\"lstm\",\"lstm\"],\"x0\":\" \",\"xaxis\":\"x\",\"y\":[-0.013602615339937252,0.021350650734820113,-0.06284066734589268,0.046308165419008174,-0.0775028320778312,-0.006182492015019919],\"y0\":\" \",\"yaxis\":\"y\",\"type\":\"box\"},{\"alignmentgroup\":\"True\",\"boxpoints\":\"all\",\"customdata\":[[0,\"2023-07-01\",\"2023-12-01\"],[1,\"2023-07-01\",\"2023-12-01\"],[2,\"2023-07-01\",\"2023-12-01\"],[0,\"2024-07-01\",\"2024-12-01\"],[1,\"2024-07-01\",\"2024-12-01\"],[2,\"2024-07-01\",\"2024-12-01\"]],\"hovertemplate\":\"agent=%{x}<br>mean_cumulative_return=%{y}<br>seed=%{customdata[0]}<br>split_start=%{customdata[1]}<br>split_end=%{customdata[2]}<extra></extra>\",\"legendgroup\":\"transformer_single\",\"marker\":{\"color\":\"#00cc96\"},\"name\":\"transformer_single\",\"notched\":false,\"offsetgroup\":\"transformer_single\",\"orientation\":\"v\",\"showlegend\":true,\"x\":[\"transformer_single\",\"transformer_single\",\"transformer_single\",\"transformer_single\",\"transformer_single\",\"transformer_single\"],\"x0\":\" \",\"xaxis\":\"x\",\"y\":[-0.06142866734245948,0.021840868663971287,-0.08755837074927428,-0.11624059849168474,-0.04203335887690326,-0.01739671602799765],\"y0\":\" \",\"yaxis\":\"y\",\"type\":\"box\"},{\"alignmentgroup\":\"True\",\"boxpoints\":\"all\",\"customdata\":[[0,\"2023-07-01\",\"2023-12-01\"],[1,\"2023-07-01\",\"2023-12-01\"],[2,\"2023-07-01\",\"2023-12-01\"],[0,\"2024-07-01\",\"2024-12-01\"],[1,\"2024-07-01\",\"2024-12-01\"],[2,\"2024-07-01\",\"2024-12-01\"]],\"hovertemplate\":\"agent=%{x}<br>mean_cumulative_return=%{y}<br>seed=%{customdata[0]}<br>split_start=%{customdata[1]}<br>split_end=%{customdata[2]}<extra></extra>\",\"legendgroup\":\"transformer_multi\",\"marker\":{\"color\":\"#ab63fa\"},\"name\":\"transformer_multi\",\"notched\":false,\"offsetgroup\":\"transformer_multi\",\"orientation\":\"v\",\"showlegend\":true,\"x\":[\"transformer_multi\",\"transformer_multi\",\"transformer_multi\",\"transformer_multi\",\"transformer_multi\",\"transformer_multi\"],\"x0\":\" \",\"xaxis\":\"x\",\"y\":[-0.02402051999306759,0.0453219119966618,0.0005096971079501245,-0.11508918793956036,-0.0533777836149278,0.04068356476795158],\"y0\":\" \",\"yaxis\":\"y\",\"type\":\"box\"}],                        {\"template\":{\"data\":{\"histogram2dcontour\":[{\"type\":\"histogram2dcontour\",\"colorbar\":{\"outlinewidth\":0,\"ticks\":\"\"},\"colorscale\":[[0.0,\"#0d0887\"],[0.1111111111111111,\"#46039f\"],[0.2222222222222222,\"#7201a8\"],[0.3333333333333333,\"#9c179e\"],[0.4444444444444444,\"#bd3786\"],[0.5555555555555556,\"#d8576b\"],[0.6666666666666666,\"#ed7953\"],[0.7777777777777778,\"#fb9f3a\"],[0.8888888888888888,\"#fdca26\"],[1.0,\"#f0f921\"]]}],\"choropleth\":[{\"type\":\"choropleth\",\"colorbar\":{\"outlinewidth\":0,\"ticks\":\"\"}}],\"histogram2d\":[{\"type\":\"histogram2d\",\"colorbar\":{\"outlinewidth\":0,\"ticks\":\"\"},\"colorscale\":[[0.0,\"#0d0887\"],[0.1111111111111111,\"#46039f\"],[0.2222222222222222,\"#7201a8\"],[0.3333333333333333,\"#9c179e\"],[0.4444444444444444,\"#bd3786\"],[0.5555555555555556,\"#d8576b\"],[0.6666666666666666,\"#ed7953\"],[0.7777777777777778,\"#fb9f3a\"],[0.8888888888888888,\"#fdca26\"],[1.0,\"#f0f921\"]]}],\"heatmap\":[{\"type\":\"heatmap\",\"colorbar\":{\"outlinewidth\":0,\"ticks\":\"\"},\"colorscale\":[[0.0,\"#0d0887\"],[0.1111111111111111,\"#46039f\"],[0.2222222222222222,\"#7201a8\"],[0.3333333333333333,\"#9c179e\"],[0.4444444444444444,\"#bd3786\"],[0.5555555555555556,\"#d8576b\"],[0.6666666666666666,\"#ed7953\"],[0.7777777777777778,\"#fb9f3a\"],[0.8888888888888888,\"#fdca26\"],[1.0,\"#f0f921\"]]}],\"heatmapgl\":[{\"type\":\"heatmapgl\",\"colorbar\":{\"outlinewidth\":0,\"ticks\":\"\"},\"colorscale\":[[0.0,\"#0d0887\"],[0.1111111111111111,\"#46039f\"],[0.2222222222222222,\"#7201a8\"],[0.3333333333333333,\"#9c179e\"],[0.4444444444444444,\"#bd3786\"],[0.5555555555555556,\"#d8576b\"],[0.6666666666666666,\"#ed7953\"],[0.7777777777777778,\"#fb9f3a\"],[0.8888888888888888,\"#fdca26\"],[1.0,\"#f0f921\"]]}],\"contourcarpet\":[{\"type\":\"contourcarpet\",\"colorbar\":{\"outlinewidth\":0,\"ticks\":\"\"}}],\"contour\":[{\"type\":\"contour\",\"colorbar\":{\"outlinewidth\":0,\"ticks\":\"\"},\"colorscale\":[[0.0,\"#0d0887\"],[0.1111111111111111,\"#46039f\"],[0.2222222222222222,\"#7201a8\"],[0.3333333333333333,\"#9c179e\"],[0.4444444444444444,\"#bd3786\"],[0.5555555555555556,\"#d8576b\"],[0.6666666666666666,\"#ed7953\"],[0.7777777777777778,\"#fb9f3a\"],[0.8888888888888888,\"#fdca26\"],[1.0,\"#f0f921\"]]}],\"surface\":[{\"type\":\"surface\",\"colorbar\":{\"outlinewidth\":0,\"ticks\":\"\"},\"colorscale\":[[0.0,\"#0d0887\"],[0.1111111111111111,\"#46039f\"],[0.2222222222222222,\"#7201a8\"],[0.3333333333333333,\"#9c179e\"],[0.4444444444444444,\"#bd3786\"],[0.5555555555555556,\"#d8576b\"],[0.6666666666666666,\"#ed7953\"],[0.7777777777777778,\"#fb9f3a\"],[0.8888888888888888,\"#fdca26\"],[1.0,\"#f0f921\"]]}],\"mesh3d\":[{\"type\":\"mesh3d\",\"colorbar\":{\"outlinewidth\":0,\"ticks\":\"\"}}],\"scatter\":[{\"fillpattern\":{\"fillmode\":\"overlay\",\"size\":10,\"solidity\":0.2},\"type\":\"scatter\"}],\"parcoords\":[{\"type\":\"parcoords\",\"line\":{\"colorbar\":{\"outlinewidth\":0,\"ticks\":\"\"}}}],\"scatterpolargl\":[{\"type\":\"scatterpolargl\",\"marker\":{\"colorbar\":{\"outlinewidth\":0,\"ticks\":\"\"}}}],\"bar\":[{\"error_x\":{\"color\":\"#2a3f5f\"},\"error_y\":{\"color\":\"#2a3f5f\"},\"marker\":{\"line\":{\"color\":\"#E5ECF6\",\"width\":0.5},\"pattern\":{\"fillmode\":\"overlay\",\"size\":10,\"solidity\":0.2}},\"type\":\"bar\"}],\"scattergeo\":[{\"type\":\"scattergeo\",\"marker\":{\"colorbar\":{\"outlinewidth\":0,\"ticks\":\"\"}}}],\"scatterpolar\":[{\"type\":\"scatterpolar\",\"marker\":{\"colorbar\":{\"outlinewidth\":0,\"ticks\":\"\"}}}],\"histogram\":[{\"marker\":{\"pattern\":{\"fillmode\":\"overlay\",\"size\":10,\"solidity\":0.2}},\"type\":\"histogram\"}],\"scattergl\":[{\"type\":\"scattergl\",\"marker\":{\"colorbar\":{\"outlinewidth\":0,\"ticks\":\"\"}}}],\"scatter3d\":[{\"type\":\"scatter3d\",\"line\":{\"colorbar\":{\"outlinewidth\":0,\"ticks\":\"\"}},\"marker\":{\"colorbar\":{\"outlinewidth\":0,\"ticks\":\"\"}}}],\"scattermapbox\":[{\"type\":\"scattermapbox\",\"marker\":{\"colorbar\":{\"outlinewidth\":0,\"ticks\":\"\"}}}],\"scatterternary\":[{\"type\":\"scatterternary\",\"marker\":{\"colorbar\":{\"outlinewidth\":0,\"ticks\":\"\"}}}],\"scattercarpet\":[{\"type\":\"scattercarpet\",\"marker\":{\"colorbar\":{\"outlinewidth\":0,\"ticks\":\"\"}}}],\"carpet\":[{\"aaxis\":{\"endlinecolor\":\"#2a3f5f\",\"gridcolor\":\"white\",\"linecolor\":\"white\",\"minorgridcolor\":\"white\",\"startlinecolor\":\"#2a3f5f\"},\"baxis\":{\"endlinecolor\":\"#2a3f5f\",\"gridcolor\":\"white\",\"linecolor\":\"white\",\"minorgridcolor\":\"white\",\"startlinecolor\":\"#2a3f5f\"},\"type\":\"carpet\"}],\"table\":[{\"cells\":{\"fill\":{\"color\":\"#EBF0F8\"},\"line\":{\"color\":\"white\"}},\"header\":{\"fill\":{\"color\":\"#C8D4E3\"},\"line\":{\"color\":\"white\"}},\"type\":\"table\"}],\"barpolar\":[{\"marker\":{\"line\":{\"color\":\"#E5ECF6\",\"width\":0.5},\"pattern\":{\"fillmode\":\"overlay\",\"size\":10,\"solidity\":0.2}},\"type\":\"barpolar\"}],\"pie\":[{\"automargin\":true,\"type\":\"pie\"}]},\"layout\":{\"autotypenumbers\":\"strict\",\"colorway\":[\"#636efa\",\"#EF553B\",\"#00cc96\",\"#ab63fa\",\"#FFA15A\",\"#19d3f3\",\"#FF6692\",\"#B6E880\",\"#FF97FF\",\"#FECB52\"],\"font\":{\"color\":\"#2a3f5f\"},\"hovermode\":\"closest\",\"hoverlabel\":{\"align\":\"left\"},\"paper_bgcolor\":\"white\",\"plot_bgcolor\":\"#E5ECF6\",\"polar\":{\"bgcolor\":\"#E5ECF6\",\"angularaxis\":{\"gridcolor\":\"white\",\"linecolor\":\"white\",\"ticks\":\"\"},\"radialaxis\":{\"gridcolor\":\"white\",\"linecolor\":\"white\",\"ticks\":\"\"}},\"ternary\":{\"bgcolor\":\"#E5ECF6\",\"aaxis\":{\"gridcolor\":\"white\",\"linecolor\":\"white\",\"ticks\":\"\"},\"baxis\":{\"gridcolor\":\"white\",\"linecolor\":\"white\",\"ticks\":\"\"},\"caxis\":{\"gridcolor\":\"white\",\"linecolor\":\"white\",\"ticks\":\"\"}},\"coloraxis\":{\"colorbar\":{\"outlinewidth\":0,\"ticks\":\"\"}},\"colorscale\":{\"sequential\":[[0.0,\"#0d0887\"],[0.1111111111111111,\"#46039f\"],[0.2222222222222222,\"#7201a8\"],[0.3333333333333333,\"#9c179e\"],[0.4444444444444444,\"#bd3786\"],[0.5555555555555556,\"#d8576b\"],[0.6666666666666666,\"#ed7953\"],[0.7777777777777778,\"#fb9f3a\"],[0.8888888888888888,\"#fdca26\"],[1.0,\"#f0f921\"]],\"sequentialminus\":[[0.0,\"#0d0887\"],[0.1111111111111111,\"#46039f\"],[0.2222222222222222,\"#7201a8\"],[0.3333333333333333,\"#9c179e\"],[0.4444444444444444,\"#bd3786\"],[0.5555555555555556,\"#d8576b\"],[0.6666666666666666,\"#ed7953\"],[0.7777777777777778,\"#fb9f3a\"],[0.8888888888888888,\"#fdca26\"],[1.0,\"#f0f921\"]],\"diverging\":[[0,\"#8e0152\"],[0.1,\"#c51b7d\"],[0.2,\"#de77ae\"],[0.3,\"#f1b6da\"],[0.4,\"#fde0ef\"],[0.5,\"#f7f7f7\"],[0.6,\"#e6f5d0\"],[0.7,\"#b8e186\"],[0.8,\"#7fbc41\"],[0.9,\"#4d9221\"],[1,\"#276419\"]]},\"xaxis\":{\"gridcolor\":\"white\",\"linecolor\":\"white\",\"ticks\":\"\",\"title\":{\"standoff\":15},\"zerolinecolor\":\"white\",\"automargin\":true,\"zerolinewidth\":2},\"yaxis\":{\"gridcolor\":\"white\",\"linecolor\":\"white\",\"ticks\":\"\",\"title\":{\"standoff\":15},\"zerolinecolor\":\"white\",\"automargin\":true,\"zerolinewidth\":2},\"scene\":{\"xaxis\":{\"backgroundcolor\":\"#E5ECF6\",\"gridcolor\":\"white\",\"linecolor\":\"white\",\"showbackground\":true,\"ticks\":\"\",\"zerolinecolor\":\"white\",\"gridwidth\":2},\"yaxis\":{\"backgroundcolor\":\"#E5ECF6\",\"gridcolor\":\"white\",\"linecolor\":\"white\",\"showbackground\":true,\"ticks\":\"\",\"zerolinecolor\":\"white\",\"gridwidth\":2},\"zaxis\":{\"backgroundcolor\":\"#E5ECF6\",\"gridcolor\":\"white\",\"linecolor\":\"white\",\"showbackground\":true,\"ticks\":\"\",\"zerolinecolor\":\"white\",\"gridwidth\":2}},\"shapedefaults\":{\"line\":{\"color\":\"#2a3f5f\"}},\"annotationdefaults\":{\"arrowcolor\":\"#2a3f5f\",\"arrowhead\":0,\"arrowwidth\":1},\"geo\":{\"bgcolor\":\"white\",\"landcolor\":\"#E5ECF6\",\"subunitcolor\":\"white\",\"showland\":true,\"showlakes\":true,\"lakecolor\":\"white\"},\"title\":{\"x\":0.05},\"mapbox\":{\"style\":\"light\"}}},\"xaxis\":{\"anchor\":\"y\",\"domain\":[0.0,1.0],\"title\":{\"text\":\"agent\"},\"categoryorder\":\"array\",\"categoryarray\":[\"mlp\",\"lstm\",\"transformer_single\",\"transformer_multi\"]},\"yaxis\":{\"anchor\":\"x\",\"domain\":[0.0,1.0],\"title\":{\"text\":\"mean_cumulative_return\"}},\"legend\":{\"title\":{\"text\":\"agent\"},\"tracegroupgap\":0},\"title\":{\"text\":\"mean_cumulative_return distribution per Agent (test splits)\"},\"boxmode\":\"overlay\"},                        {\"responsive\": true}                    ).then(function(){\n",
       "                            \n",
       "var gd = document.getElementById('aaf54688-6c06-40dc-bb2a-fe0cb11659d4');\n",
       "var x = new MutationObserver(function (mutations, observer) {{\n",
       "        var display = window.getComputedStyle(gd).display;\n",
       "        if (!display || display === 'none') {{\n",
       "            console.log([gd, 'removed!']);\n",
       "            Plotly.purge(gd);\n",
       "            observer.disconnect();\n",
       "        }}\n",
       "}});\n",
       "\n",
       "// Listen for the removal of the full notebook cells\n",
       "var notebookContainer = gd.closest('#notebook-container');\n",
       "if (notebookContainer) {{\n",
       "    x.observe(notebookContainer, {childList: true});\n",
       "}}\n",
       "\n",
       "// Listen for the clearing of the current output cell\n",
       "var outputEl = gd.closest('.output');\n",
       "if (outputEl) {{\n",
       "    x.observe(outputEl, {childList: true});\n",
       "}}\n",
       "\n",
       "                        })                };                });            </script>        </div>"
      ]
     },
     "metadata": {},
     "output_type": "display_data"
    },
    {
     "data": {
      "application/vnd.plotly.v1+json": {
       "config": {
        "plotlyServerURL": "https://plot.ly"
       },
       "data": [
        {
         "alignmentgroup": "True",
         "hovertemplate": "agent=mlp<br>action=%{x}<br>fraction=%{y}<extra></extra>",
         "legendgroup": "mlp",
         "marker": {
          "color": "#636efa",
          "pattern": {
           "shape": ""
          }
         },
         "name": "mlp",
         "offsetgroup": "mlp",
         "orientation": "v",
         "showlegend": true,
         "textposition": "auto",
         "type": "bar",
         "x": [
          "2",
          "0",
          "1",
          "1",
          "2",
          "0",
          "0",
          "2",
          "1",
          "1",
          "0",
          "2",
          "1",
          "2",
          "0",
          "1",
          "2"
         ],
         "xaxis": "x",
         "y": [
          0.7717171717171717,
          0.16464646464646465,
          0.06363636363636363,
          0.8666666666666667,
          0.11717171717171718,
          0.01616161616161616,
          0.6545454545454545,
          0.3378787878787879,
          0.007575757575757576,
          0.9787878787878788,
          0.02070707070707071,
          0.000505050505050505,
          0.5333333333333333,
          0.46515151515151515,
          0.0015151515151515152,
          0.5015151515151515,
          0.4984848484848485
         ],
         "yaxis": "y"
        },
        {
         "alignmentgroup": "True",
         "hovertemplate": "agent=lstm<br>action=%{x}<br>fraction=%{y}<extra></extra>",
         "legendgroup": "lstm",
         "marker": {
          "color": "#EF553B",
          "pattern": {
           "shape": ""
          }
         },
         "name": "lstm",
         "offsetgroup": "lstm",
         "orientation": "v",
         "showlegend": true,
         "textposition": "auto",
         "type": "bar",
         "x": [
          "2",
          "1",
          "0",
          "2",
          "1",
          "0",
          "2",
          "1",
          "0",
          "2",
          "1",
          "0",
          "2",
          "1",
          "0",
          "2",
          "1"
         ],
         "xaxis": "x2",
         "y": [
          0.8747474747474747,
          0.1202020202020202,
          0.005050505050505051,
          0.751010101010101,
          0.24848484848484848,
          0.000505050505050505,
          0.9792929292929293,
          0.01919191919191919,
          0.0015151515151515152,
          0.6368686868686869,
          0.3616161616161616,
          0.0015151515151515152,
          0.9797979797979798,
          0.01717171717171717,
          0.0030303030303030303,
          0.7964646464646464,
          0.20353535353535354
         ],
         "yaxis": "y2"
        },
        {
         "alignmentgroup": "True",
         "hovertemplate": "agent=transformer_single<br>action=%{x}<br>fraction=%{y}<extra></extra>",
         "legendgroup": "transformer_single",
         "marker": {
          "color": "#00cc96",
          "pattern": {
           "shape": ""
          }
         },
         "name": "transformer_single",
         "offsetgroup": "transformer_single",
         "orientation": "v",
         "showlegend": true,
         "textposition": "auto",
         "type": "bar",
         "x": [
          "2",
          "0",
          "1",
          "1",
          "2",
          "0",
          "2",
          "1",
          "0",
          "1",
          "2",
          "2",
          "1",
          "0",
          "1",
          "2"
         ],
         "xaxis": "x3",
         "y": [
          0.8792929292929293,
          0.06717171717171717,
          0.05353535353535353,
          0.9590909090909091,
          0.031313131313131314,
          0.009595959595959595,
          0.8570707070707071,
          0.1,
          0.04292929292929293,
          0.9994949494949495,
          0.000505050505050505,
          0.9924242424242424,
          0.007575757575757576,
          0.5737373737373738,
          0.41515151515151516,
          0.011111111111111112
         ],
         "yaxis": "y3"
        },
        {
         "alignmentgroup": "True",
         "hovertemplate": "agent=transformer_multi<br>action=%{x}<br>fraction=%{y}<extra></extra>",
         "legendgroup": "transformer_multi",
         "marker": {
          "color": "#ab63fa",
          "pattern": {
           "shape": ""
          }
         },
         "name": "transformer_multi",
         "offsetgroup": "transformer_multi",
         "orientation": "v",
         "showlegend": true,
         "textposition": "auto",
         "type": "bar",
         "x": [
          "2",
          "1",
          "0",
          "1",
          "2",
          "0",
          "2",
          "1",
          "1",
          "2",
          "0",
          "1",
          "2",
          "0"
         ],
         "xaxis": "x4",
         "y": [
          0.8853535353535353,
          0.08181818181818182,
          0.03282828282828283,
          0.9303030303030303,
          0.0691919191919192,
          0.000505050505050505,
          0.7818181818181819,
          0.21818181818181817,
          1,
          0.9929292929292929,
          0.007070707070707071,
          0.5176767676767676,
          0.30606060606060603,
          0.17626262626262626
         ],
         "yaxis": "y4"
        }
       ],
       "layout": {
        "annotations": [
         {
          "font": {},
          "showarrow": false,
          "text": "agent=mlp",
          "x": 0.1175,
          "xanchor": "center",
          "xref": "paper",
          "y": 1,
          "yanchor": "bottom",
          "yref": "paper"
         },
         {
          "font": {},
          "showarrow": false,
          "text": "agent=lstm",
          "x": 0.3725,
          "xanchor": "center",
          "xref": "paper",
          "y": 1,
          "yanchor": "bottom",
          "yref": "paper"
         },
         {
          "font": {},
          "showarrow": false,
          "text": "agent=transformer_single",
          "x": 0.6275,
          "xanchor": "center",
          "xref": "paper",
          "y": 1,
          "yanchor": "bottom",
          "yref": "paper"
         },
         {
          "font": {},
          "showarrow": false,
          "text": "agent=transformer_multi",
          "x": 0.8824999999999998,
          "xanchor": "center",
          "xref": "paper",
          "y": 1,
          "yanchor": "bottom",
          "yref": "paper"
         }
        ],
        "barmode": "group",
        "legend": {
         "title": {
          "text": "agent"
         },
         "tracegroupgap": 0
        },
        "template": {
         "data": {
          "bar": [
           {
            "error_x": {
             "color": "#2a3f5f"
            },
            "error_y": {
             "color": "#2a3f5f"
            },
            "marker": {
             "line": {
              "color": "#E5ECF6",
              "width": 0.5
             },
             "pattern": {
              "fillmode": "overlay",
              "size": 10,
              "solidity": 0.2
             }
            },
            "type": "bar"
           }
          ],
          "barpolar": [
           {
            "marker": {
             "line": {
              "color": "#E5ECF6",
              "width": 0.5
             },
             "pattern": {
              "fillmode": "overlay",
              "size": 10,
              "solidity": 0.2
             }
            },
            "type": "barpolar"
           }
          ],
          "carpet": [
           {
            "aaxis": {
             "endlinecolor": "#2a3f5f",
             "gridcolor": "white",
             "linecolor": "white",
             "minorgridcolor": "white",
             "startlinecolor": "#2a3f5f"
            },
            "baxis": {
             "endlinecolor": "#2a3f5f",
             "gridcolor": "white",
             "linecolor": "white",
             "minorgridcolor": "white",
             "startlinecolor": "#2a3f5f"
            },
            "type": "carpet"
           }
          ],
          "choropleth": [
           {
            "colorbar": {
             "outlinewidth": 0,
             "ticks": ""
            },
            "type": "choropleth"
           }
          ],
          "contour": [
           {
            "colorbar": {
             "outlinewidth": 0,
             "ticks": ""
            },
            "colorscale": [
             [
              0,
              "#0d0887"
             ],
             [
              0.1111111111111111,
              "#46039f"
             ],
             [
              0.2222222222222222,
              "#7201a8"
             ],
             [
              0.3333333333333333,
              "#9c179e"
             ],
             [
              0.4444444444444444,
              "#bd3786"
             ],
             [
              0.5555555555555556,
              "#d8576b"
             ],
             [
              0.6666666666666666,
              "#ed7953"
             ],
             [
              0.7777777777777778,
              "#fb9f3a"
             ],
             [
              0.8888888888888888,
              "#fdca26"
             ],
             [
              1,
              "#f0f921"
             ]
            ],
            "type": "contour"
           }
          ],
          "contourcarpet": [
           {
            "colorbar": {
             "outlinewidth": 0,
             "ticks": ""
            },
            "type": "contourcarpet"
           }
          ],
          "heatmap": [
           {
            "colorbar": {
             "outlinewidth": 0,
             "ticks": ""
            },
            "colorscale": [
             [
              0,
              "#0d0887"
             ],
             [
              0.1111111111111111,
              "#46039f"
             ],
             [
              0.2222222222222222,
              "#7201a8"
             ],
             [
              0.3333333333333333,
              "#9c179e"
             ],
             [
              0.4444444444444444,
              "#bd3786"
             ],
             [
              0.5555555555555556,
              "#d8576b"
             ],
             [
              0.6666666666666666,
              "#ed7953"
             ],
             [
              0.7777777777777778,
              "#fb9f3a"
             ],
             [
              0.8888888888888888,
              "#fdca26"
             ],
             [
              1,
              "#f0f921"
             ]
            ],
            "type": "heatmap"
           }
          ],
          "heatmapgl": [
           {
            "colorbar": {
             "outlinewidth": 0,
             "ticks": ""
            },
            "colorscale": [
             [
              0,
              "#0d0887"
             ],
             [
              0.1111111111111111,
              "#46039f"
             ],
             [
              0.2222222222222222,
              "#7201a8"
             ],
             [
              0.3333333333333333,
              "#9c179e"
             ],
             [
              0.4444444444444444,
              "#bd3786"
             ],
             [
              0.5555555555555556,
              "#d8576b"
             ],
             [
              0.6666666666666666,
              "#ed7953"
             ],
             [
              0.7777777777777778,
              "#fb9f3a"
             ],
             [
              0.8888888888888888,
              "#fdca26"
             ],
             [
              1,
              "#f0f921"
             ]
            ],
            "type": "heatmapgl"
           }
          ],
          "histogram": [
           {
            "marker": {
             "pattern": {
              "fillmode": "overlay",
              "size": 10,
              "solidity": 0.2
             }
            },
            "type": "histogram"
           }
          ],
          "histogram2d": [
           {
            "colorbar": {
             "outlinewidth": 0,
             "ticks": ""
            },
            "colorscale": [
             [
              0,
              "#0d0887"
             ],
             [
              0.1111111111111111,
              "#46039f"
             ],
             [
              0.2222222222222222,
              "#7201a8"
             ],
             [
              0.3333333333333333,
              "#9c179e"
             ],
             [
              0.4444444444444444,
              "#bd3786"
             ],
             [
              0.5555555555555556,
              "#d8576b"
             ],
             [
              0.6666666666666666,
              "#ed7953"
             ],
             [
              0.7777777777777778,
              "#fb9f3a"
             ],
             [
              0.8888888888888888,
              "#fdca26"
             ],
             [
              1,
              "#f0f921"
             ]
            ],
            "type": "histogram2d"
           }
          ],
          "histogram2dcontour": [
           {
            "colorbar": {
             "outlinewidth": 0,
             "ticks": ""
            },
            "colorscale": [
             [
              0,
              "#0d0887"
             ],
             [
              0.1111111111111111,
              "#46039f"
             ],
             [
              0.2222222222222222,
              "#7201a8"
             ],
             [
              0.3333333333333333,
              "#9c179e"
             ],
             [
              0.4444444444444444,
              "#bd3786"
             ],
             [
              0.5555555555555556,
              "#d8576b"
             ],
             [
              0.6666666666666666,
              "#ed7953"
             ],
             [
              0.7777777777777778,
              "#fb9f3a"
             ],
             [
              0.8888888888888888,
              "#fdca26"
             ],
             [
              1,
              "#f0f921"
             ]
            ],
            "type": "histogram2dcontour"
           }
          ],
          "mesh3d": [
           {
            "colorbar": {
             "outlinewidth": 0,
             "ticks": ""
            },
            "type": "mesh3d"
           }
          ],
          "parcoords": [
           {
            "line": {
             "colorbar": {
              "outlinewidth": 0,
              "ticks": ""
             }
            },
            "type": "parcoords"
           }
          ],
          "pie": [
           {
            "automargin": true,
            "type": "pie"
           }
          ],
          "scatter": [
           {
            "fillpattern": {
             "fillmode": "overlay",
             "size": 10,
             "solidity": 0.2
            },
            "type": "scatter"
           }
          ],
          "scatter3d": [
           {
            "line": {
             "colorbar": {
              "outlinewidth": 0,
              "ticks": ""
             }
            },
            "marker": {
             "colorbar": {
              "outlinewidth": 0,
              "ticks": ""
             }
            },
            "type": "scatter3d"
           }
          ],
          "scattercarpet": [
           {
            "marker": {
             "colorbar": {
              "outlinewidth": 0,
              "ticks": ""
             }
            },
            "type": "scattercarpet"
           }
          ],
          "scattergeo": [
           {
            "marker": {
             "colorbar": {
              "outlinewidth": 0,
              "ticks": ""
             }
            },
            "type": "scattergeo"
           }
          ],
          "scattergl": [
           {
            "marker": {
             "colorbar": {
              "outlinewidth": 0,
              "ticks": ""
             }
            },
            "type": "scattergl"
           }
          ],
          "scattermapbox": [
           {
            "marker": {
             "colorbar": {
              "outlinewidth": 0,
              "ticks": ""
             }
            },
            "type": "scattermapbox"
           }
          ],
          "scatterpolar": [
           {
            "marker": {
             "colorbar": {
              "outlinewidth": 0,
              "ticks": ""
             }
            },
            "type": "scatterpolar"
           }
          ],
          "scatterpolargl": [
           {
            "marker": {
             "colorbar": {
              "outlinewidth": 0,
              "ticks": ""
             }
            },
            "type": "scatterpolargl"
           }
          ],
          "scatterternary": [
           {
            "marker": {
             "colorbar": {
              "outlinewidth": 0,
              "ticks": ""
             }
            },
            "type": "scatterternary"
           }
          ],
          "surface": [
           {
            "colorbar": {
             "outlinewidth": 0,
             "ticks": ""
            },
            "colorscale": [
             [
              0,
              "#0d0887"
             ],
             [
              0.1111111111111111,
              "#46039f"
             ],
             [
              0.2222222222222222,
              "#7201a8"
             ],
             [
              0.3333333333333333,
              "#9c179e"
             ],
             [
              0.4444444444444444,
              "#bd3786"
             ],
             [
              0.5555555555555556,
              "#d8576b"
             ],
             [
              0.6666666666666666,
              "#ed7953"
             ],
             [
              0.7777777777777778,
              "#fb9f3a"
             ],
             [
              0.8888888888888888,
              "#fdca26"
             ],
             [
              1,
              "#f0f921"
             ]
            ],
            "type": "surface"
           }
          ],
          "table": [
           {
            "cells": {
             "fill": {
              "color": "#EBF0F8"
             },
             "line": {
              "color": "white"
             }
            },
            "header": {
             "fill": {
              "color": "#C8D4E3"
             },
             "line": {
              "color": "white"
             }
            },
            "type": "table"
           }
          ]
         },
         "layout": {
          "annotationdefaults": {
           "arrowcolor": "#2a3f5f",
           "arrowhead": 0,
           "arrowwidth": 1
          },
          "autotypenumbers": "strict",
          "coloraxis": {
           "colorbar": {
            "outlinewidth": 0,
            "ticks": ""
           }
          },
          "colorscale": {
           "diverging": [
            [
             0,
             "#8e0152"
            ],
            [
             0.1,
             "#c51b7d"
            ],
            [
             0.2,
             "#de77ae"
            ],
            [
             0.3,
             "#f1b6da"
            ],
            [
             0.4,
             "#fde0ef"
            ],
            [
             0.5,
             "#f7f7f7"
            ],
            [
             0.6,
             "#e6f5d0"
            ],
            [
             0.7,
             "#b8e186"
            ],
            [
             0.8,
             "#7fbc41"
            ],
            [
             0.9,
             "#4d9221"
            ],
            [
             1,
             "#276419"
            ]
           ],
           "sequential": [
            [
             0,
             "#0d0887"
            ],
            [
             0.1111111111111111,
             "#46039f"
            ],
            [
             0.2222222222222222,
             "#7201a8"
            ],
            [
             0.3333333333333333,
             "#9c179e"
            ],
            [
             0.4444444444444444,
             "#bd3786"
            ],
            [
             0.5555555555555556,
             "#d8576b"
            ],
            [
             0.6666666666666666,
             "#ed7953"
            ],
            [
             0.7777777777777778,
             "#fb9f3a"
            ],
            [
             0.8888888888888888,
             "#fdca26"
            ],
            [
             1,
             "#f0f921"
            ]
           ],
           "sequentialminus": [
            [
             0,
             "#0d0887"
            ],
            [
             0.1111111111111111,
             "#46039f"
            ],
            [
             0.2222222222222222,
             "#7201a8"
            ],
            [
             0.3333333333333333,
             "#9c179e"
            ],
            [
             0.4444444444444444,
             "#bd3786"
            ],
            [
             0.5555555555555556,
             "#d8576b"
            ],
            [
             0.6666666666666666,
             "#ed7953"
            ],
            [
             0.7777777777777778,
             "#fb9f3a"
            ],
            [
             0.8888888888888888,
             "#fdca26"
            ],
            [
             1,
             "#f0f921"
            ]
           ]
          },
          "colorway": [
           "#636efa",
           "#EF553B",
           "#00cc96",
           "#ab63fa",
           "#FFA15A",
           "#19d3f3",
           "#FF6692",
           "#B6E880",
           "#FF97FF",
           "#FECB52"
          ],
          "font": {
           "color": "#2a3f5f"
          },
          "geo": {
           "bgcolor": "white",
           "lakecolor": "white",
           "landcolor": "#E5ECF6",
           "showlakes": true,
           "showland": true,
           "subunitcolor": "white"
          },
          "hoverlabel": {
           "align": "left"
          },
          "hovermode": "closest",
          "mapbox": {
           "style": "light"
          },
          "paper_bgcolor": "white",
          "plot_bgcolor": "#E5ECF6",
          "polar": {
           "angularaxis": {
            "gridcolor": "white",
            "linecolor": "white",
            "ticks": ""
           },
           "bgcolor": "#E5ECF6",
           "radialaxis": {
            "gridcolor": "white",
            "linecolor": "white",
            "ticks": ""
           }
          },
          "scene": {
           "xaxis": {
            "backgroundcolor": "#E5ECF6",
            "gridcolor": "white",
            "gridwidth": 2,
            "linecolor": "white",
            "showbackground": true,
            "ticks": "",
            "zerolinecolor": "white"
           },
           "yaxis": {
            "backgroundcolor": "#E5ECF6",
            "gridcolor": "white",
            "gridwidth": 2,
            "linecolor": "white",
            "showbackground": true,
            "ticks": "",
            "zerolinecolor": "white"
           },
           "zaxis": {
            "backgroundcolor": "#E5ECF6",
            "gridcolor": "white",
            "gridwidth": 2,
            "linecolor": "white",
            "showbackground": true,
            "ticks": "",
            "zerolinecolor": "white"
           }
          },
          "shapedefaults": {
           "line": {
            "color": "#2a3f5f"
           }
          },
          "ternary": {
           "aaxis": {
            "gridcolor": "white",
            "linecolor": "white",
            "ticks": ""
           },
           "baxis": {
            "gridcolor": "white",
            "linecolor": "white",
            "ticks": ""
           },
           "bgcolor": "#E5ECF6",
           "caxis": {
            "gridcolor": "white",
            "linecolor": "white",
            "ticks": ""
           }
          },
          "title": {
           "x": 0.05
          },
          "xaxis": {
           "automargin": true,
           "gridcolor": "white",
           "linecolor": "white",
           "ticks": "",
           "title": {
            "standoff": 15
           },
           "zerolinecolor": "white",
           "zerolinewidth": 2
          },
          "yaxis": {
           "automargin": true,
           "gridcolor": "white",
           "linecolor": "white",
           "ticks": "",
           "title": {
            "standoff": 15
           },
           "zerolinecolor": "white",
           "zerolinewidth": 2
          }
         }
        },
        "title": {
         "text": "Agent Action Distributions (test splits)"
        },
        "xaxis": {
         "anchor": "y",
         "categoryarray": [
          "0",
          "1",
          "2"
         ],
         "categoryorder": "array",
         "domain": [
          0,
          0.235
         ],
         "title": {
          "text": "action"
         }
        },
        "xaxis2": {
         "anchor": "y2",
         "categoryarray": [
          "0",
          "1",
          "2"
         ],
         "categoryorder": "array",
         "domain": [
          0.255,
          0.49
         ],
         "matches": "x",
         "title": {
          "text": "action"
         }
        },
        "xaxis3": {
         "anchor": "y3",
         "categoryarray": [
          "0",
          "1",
          "2"
         ],
         "categoryorder": "array",
         "domain": [
          0.51,
          0.745
         ],
         "matches": "x",
         "title": {
          "text": "action"
         }
        },
        "xaxis4": {
         "anchor": "y4",
         "categoryarray": [
          "0",
          "1",
          "2"
         ],
         "categoryorder": "array",
         "domain": [
          0.7649999999999999,
          0.9999999999999999
         ],
         "matches": "x",
         "title": {
          "text": "action"
         }
        },
        "yaxis": {
         "anchor": "x",
         "domain": [
          0,
          1
         ],
         "title": {
          "text": "fraction"
         }
        },
        "yaxis2": {
         "anchor": "x2",
         "domain": [
          0,
          1
         ],
         "matches": "y",
         "showticklabels": false
        },
        "yaxis3": {
         "anchor": "x3",
         "domain": [
          0,
          1
         ],
         "matches": "y",
         "showticklabels": false
        },
        "yaxis4": {
         "anchor": "x4",
         "domain": [
          0,
          1
         ],
         "matches": "y",
         "showticklabels": false
        }
       }
      },
      "text/html": [
       "<div>                            <div id=\"e21a03c8-3909-4c1d-bb5e-ad899c9ad611\" class=\"plotly-graph-div\" style=\"height:525px; width:100%;\"></div>            <script type=\"text/javascript\">                require([\"plotly\"], function(Plotly) {                    window.PLOTLYENV=window.PLOTLYENV || {};                                    if (document.getElementById(\"e21a03c8-3909-4c1d-bb5e-ad899c9ad611\")) {                    Plotly.newPlot(                        \"e21a03c8-3909-4c1d-bb5e-ad899c9ad611\",                        [{\"alignmentgroup\":\"True\",\"hovertemplate\":\"agent=mlp<br>action=%{x}<br>fraction=%{y}<extra></extra>\",\"legendgroup\":\"mlp\",\"marker\":{\"color\":\"#636efa\",\"pattern\":{\"shape\":\"\"}},\"name\":\"mlp\",\"offsetgroup\":\"mlp\",\"orientation\":\"v\",\"showlegend\":true,\"textposition\":\"auto\",\"x\":[\"2\",\"0\",\"1\",\"1\",\"2\",\"0\",\"0\",\"2\",\"1\",\"1\",\"0\",\"2\",\"1\",\"2\",\"0\",\"1\",\"2\"],\"xaxis\":\"x\",\"y\":[0.7717171717171717,0.16464646464646465,0.06363636363636363,0.8666666666666667,0.11717171717171718,0.01616161616161616,0.6545454545454545,0.3378787878787879,0.007575757575757576,0.9787878787878788,0.02070707070707071,0.000505050505050505,0.5333333333333333,0.46515151515151515,0.0015151515151515152,0.5015151515151515,0.4984848484848485],\"yaxis\":\"y\",\"type\":\"bar\"},{\"alignmentgroup\":\"True\",\"hovertemplate\":\"agent=lstm<br>action=%{x}<br>fraction=%{y}<extra></extra>\",\"legendgroup\":\"lstm\",\"marker\":{\"color\":\"#EF553B\",\"pattern\":{\"shape\":\"\"}},\"name\":\"lstm\",\"offsetgroup\":\"lstm\",\"orientation\":\"v\",\"showlegend\":true,\"textposition\":\"auto\",\"x\":[\"2\",\"1\",\"0\",\"2\",\"1\",\"0\",\"2\",\"1\",\"0\",\"2\",\"1\",\"0\",\"2\",\"1\",\"0\",\"2\",\"1\"],\"xaxis\":\"x2\",\"y\":[0.8747474747474747,0.1202020202020202,0.005050505050505051,0.751010101010101,0.24848484848484848,0.000505050505050505,0.9792929292929293,0.01919191919191919,0.0015151515151515152,0.6368686868686869,0.3616161616161616,0.0015151515151515152,0.9797979797979798,0.01717171717171717,0.0030303030303030303,0.7964646464646464,0.20353535353535354],\"yaxis\":\"y2\",\"type\":\"bar\"},{\"alignmentgroup\":\"True\",\"hovertemplate\":\"agent=transformer_single<br>action=%{x}<br>fraction=%{y}<extra></extra>\",\"legendgroup\":\"transformer_single\",\"marker\":{\"color\":\"#00cc96\",\"pattern\":{\"shape\":\"\"}},\"name\":\"transformer_single\",\"offsetgroup\":\"transformer_single\",\"orientation\":\"v\",\"showlegend\":true,\"textposition\":\"auto\",\"x\":[\"2\",\"0\",\"1\",\"1\",\"2\",\"0\",\"2\",\"1\",\"0\",\"1\",\"2\",\"2\",\"1\",\"0\",\"1\",\"2\"],\"xaxis\":\"x3\",\"y\":[0.8792929292929293,0.06717171717171717,0.05353535353535353,0.9590909090909091,0.031313131313131314,0.009595959595959595,0.8570707070707071,0.1,0.04292929292929293,0.9994949494949495,0.000505050505050505,0.9924242424242424,0.007575757575757576,0.5737373737373738,0.41515151515151516,0.011111111111111112],\"yaxis\":\"y3\",\"type\":\"bar\"},{\"alignmentgroup\":\"True\",\"hovertemplate\":\"agent=transformer_multi<br>action=%{x}<br>fraction=%{y}<extra></extra>\",\"legendgroup\":\"transformer_multi\",\"marker\":{\"color\":\"#ab63fa\",\"pattern\":{\"shape\":\"\"}},\"name\":\"transformer_multi\",\"offsetgroup\":\"transformer_multi\",\"orientation\":\"v\",\"showlegend\":true,\"textposition\":\"auto\",\"x\":[\"2\",\"1\",\"0\",\"1\",\"2\",\"0\",\"2\",\"1\",\"1\",\"2\",\"0\",\"1\",\"2\",\"0\"],\"xaxis\":\"x4\",\"y\":[0.8853535353535353,0.08181818181818182,0.03282828282828283,0.9303030303030303,0.0691919191919192,0.000505050505050505,0.7818181818181819,0.21818181818181817,1.0,0.9929292929292929,0.007070707070707071,0.5176767676767676,0.30606060606060603,0.17626262626262626],\"yaxis\":\"y4\",\"type\":\"bar\"}],                        {\"template\":{\"data\":{\"histogram2dcontour\":[{\"type\":\"histogram2dcontour\",\"colorbar\":{\"outlinewidth\":0,\"ticks\":\"\"},\"colorscale\":[[0.0,\"#0d0887\"],[0.1111111111111111,\"#46039f\"],[0.2222222222222222,\"#7201a8\"],[0.3333333333333333,\"#9c179e\"],[0.4444444444444444,\"#bd3786\"],[0.5555555555555556,\"#d8576b\"],[0.6666666666666666,\"#ed7953\"],[0.7777777777777778,\"#fb9f3a\"],[0.8888888888888888,\"#fdca26\"],[1.0,\"#f0f921\"]]}],\"choropleth\":[{\"type\":\"choropleth\",\"colorbar\":{\"outlinewidth\":0,\"ticks\":\"\"}}],\"histogram2d\":[{\"type\":\"histogram2d\",\"colorbar\":{\"outlinewidth\":0,\"ticks\":\"\"},\"colorscale\":[[0.0,\"#0d0887\"],[0.1111111111111111,\"#46039f\"],[0.2222222222222222,\"#7201a8\"],[0.3333333333333333,\"#9c179e\"],[0.4444444444444444,\"#bd3786\"],[0.5555555555555556,\"#d8576b\"],[0.6666666666666666,\"#ed7953\"],[0.7777777777777778,\"#fb9f3a\"],[0.8888888888888888,\"#fdca26\"],[1.0,\"#f0f921\"]]}],\"heatmap\":[{\"type\":\"heatmap\",\"colorbar\":{\"outlinewidth\":0,\"ticks\":\"\"},\"colorscale\":[[0.0,\"#0d0887\"],[0.1111111111111111,\"#46039f\"],[0.2222222222222222,\"#7201a8\"],[0.3333333333333333,\"#9c179e\"],[0.4444444444444444,\"#bd3786\"],[0.5555555555555556,\"#d8576b\"],[0.6666666666666666,\"#ed7953\"],[0.7777777777777778,\"#fb9f3a\"],[0.8888888888888888,\"#fdca26\"],[1.0,\"#f0f921\"]]}],\"heatmapgl\":[{\"type\":\"heatmapgl\",\"colorbar\":{\"outlinewidth\":0,\"ticks\":\"\"},\"colorscale\":[[0.0,\"#0d0887\"],[0.1111111111111111,\"#46039f\"],[0.2222222222222222,\"#7201a8\"],[0.3333333333333333,\"#9c179e\"],[0.4444444444444444,\"#bd3786\"],[0.5555555555555556,\"#d8576b\"],[0.6666666666666666,\"#ed7953\"],[0.7777777777777778,\"#fb9f3a\"],[0.8888888888888888,\"#fdca26\"],[1.0,\"#f0f921\"]]}],\"contourcarpet\":[{\"type\":\"contourcarpet\",\"colorbar\":{\"outlinewidth\":0,\"ticks\":\"\"}}],\"contour\":[{\"type\":\"contour\",\"colorbar\":{\"outlinewidth\":0,\"ticks\":\"\"},\"colorscale\":[[0.0,\"#0d0887\"],[0.1111111111111111,\"#46039f\"],[0.2222222222222222,\"#7201a8\"],[0.3333333333333333,\"#9c179e\"],[0.4444444444444444,\"#bd3786\"],[0.5555555555555556,\"#d8576b\"],[0.6666666666666666,\"#ed7953\"],[0.7777777777777778,\"#fb9f3a\"],[0.8888888888888888,\"#fdca26\"],[1.0,\"#f0f921\"]]}],\"surface\":[{\"type\":\"surface\",\"colorbar\":{\"outlinewidth\":0,\"ticks\":\"\"},\"colorscale\":[[0.0,\"#0d0887\"],[0.1111111111111111,\"#46039f\"],[0.2222222222222222,\"#7201a8\"],[0.3333333333333333,\"#9c179e\"],[0.4444444444444444,\"#bd3786\"],[0.5555555555555556,\"#d8576b\"],[0.6666666666666666,\"#ed7953\"],[0.7777777777777778,\"#fb9f3a\"],[0.8888888888888888,\"#fdca26\"],[1.0,\"#f0f921\"]]}],\"mesh3d\":[{\"type\":\"mesh3d\",\"colorbar\":{\"outlinewidth\":0,\"ticks\":\"\"}}],\"scatter\":[{\"fillpattern\":{\"fillmode\":\"overlay\",\"size\":10,\"solidity\":0.2},\"type\":\"scatter\"}],\"parcoords\":[{\"type\":\"parcoords\",\"line\":{\"colorbar\":{\"outlinewidth\":0,\"ticks\":\"\"}}}],\"scatterpolargl\":[{\"type\":\"scatterpolargl\",\"marker\":{\"colorbar\":{\"outlinewidth\":0,\"ticks\":\"\"}}}],\"bar\":[{\"error_x\":{\"color\":\"#2a3f5f\"},\"error_y\":{\"color\":\"#2a3f5f\"},\"marker\":{\"line\":{\"color\":\"#E5ECF6\",\"width\":0.5},\"pattern\":{\"fillmode\":\"overlay\",\"size\":10,\"solidity\":0.2}},\"type\":\"bar\"}],\"scattergeo\":[{\"type\":\"scattergeo\",\"marker\":{\"colorbar\":{\"outlinewidth\":0,\"ticks\":\"\"}}}],\"scatterpolar\":[{\"type\":\"scatterpolar\",\"marker\":{\"colorbar\":{\"outlinewidth\":0,\"ticks\":\"\"}}}],\"histogram\":[{\"marker\":{\"pattern\":{\"fillmode\":\"overlay\",\"size\":10,\"solidity\":0.2}},\"type\":\"histogram\"}],\"scattergl\":[{\"type\":\"scattergl\",\"marker\":{\"colorbar\":{\"outlinewidth\":0,\"ticks\":\"\"}}}],\"scatter3d\":[{\"type\":\"scatter3d\",\"line\":{\"colorbar\":{\"outlinewidth\":0,\"ticks\":\"\"}},\"marker\":{\"colorbar\":{\"outlinewidth\":0,\"ticks\":\"\"}}}],\"scattermapbox\":[{\"type\":\"scattermapbox\",\"marker\":{\"colorbar\":{\"outlinewidth\":0,\"ticks\":\"\"}}}],\"scatterternary\":[{\"type\":\"scatterternary\",\"marker\":{\"colorbar\":{\"outlinewidth\":0,\"ticks\":\"\"}}}],\"scattercarpet\":[{\"type\":\"scattercarpet\",\"marker\":{\"colorbar\":{\"outlinewidth\":0,\"ticks\":\"\"}}}],\"carpet\":[{\"aaxis\":{\"endlinecolor\":\"#2a3f5f\",\"gridcolor\":\"white\",\"linecolor\":\"white\",\"minorgridcolor\":\"white\",\"startlinecolor\":\"#2a3f5f\"},\"baxis\":{\"endlinecolor\":\"#2a3f5f\",\"gridcolor\":\"white\",\"linecolor\":\"white\",\"minorgridcolor\":\"white\",\"startlinecolor\":\"#2a3f5f\"},\"type\":\"carpet\"}],\"table\":[{\"cells\":{\"fill\":{\"color\":\"#EBF0F8\"},\"line\":{\"color\":\"white\"}},\"header\":{\"fill\":{\"color\":\"#C8D4E3\"},\"line\":{\"color\":\"white\"}},\"type\":\"table\"}],\"barpolar\":[{\"marker\":{\"line\":{\"color\":\"#E5ECF6\",\"width\":0.5},\"pattern\":{\"fillmode\":\"overlay\",\"size\":10,\"solidity\":0.2}},\"type\":\"barpolar\"}],\"pie\":[{\"automargin\":true,\"type\":\"pie\"}]},\"layout\":{\"autotypenumbers\":\"strict\",\"colorway\":[\"#636efa\",\"#EF553B\",\"#00cc96\",\"#ab63fa\",\"#FFA15A\",\"#19d3f3\",\"#FF6692\",\"#B6E880\",\"#FF97FF\",\"#FECB52\"],\"font\":{\"color\":\"#2a3f5f\"},\"hovermode\":\"closest\",\"hoverlabel\":{\"align\":\"left\"},\"paper_bgcolor\":\"white\",\"plot_bgcolor\":\"#E5ECF6\",\"polar\":{\"bgcolor\":\"#E5ECF6\",\"angularaxis\":{\"gridcolor\":\"white\",\"linecolor\":\"white\",\"ticks\":\"\"},\"radialaxis\":{\"gridcolor\":\"white\",\"linecolor\":\"white\",\"ticks\":\"\"}},\"ternary\":{\"bgcolor\":\"#E5ECF6\",\"aaxis\":{\"gridcolor\":\"white\",\"linecolor\":\"white\",\"ticks\":\"\"},\"baxis\":{\"gridcolor\":\"white\",\"linecolor\":\"white\",\"ticks\":\"\"},\"caxis\":{\"gridcolor\":\"white\",\"linecolor\":\"white\",\"ticks\":\"\"}},\"coloraxis\":{\"colorbar\":{\"outlinewidth\":0,\"ticks\":\"\"}},\"colorscale\":{\"sequential\":[[0.0,\"#0d0887\"],[0.1111111111111111,\"#46039f\"],[0.2222222222222222,\"#7201a8\"],[0.3333333333333333,\"#9c179e\"],[0.4444444444444444,\"#bd3786\"],[0.5555555555555556,\"#d8576b\"],[0.6666666666666666,\"#ed7953\"],[0.7777777777777778,\"#fb9f3a\"],[0.8888888888888888,\"#fdca26\"],[1.0,\"#f0f921\"]],\"sequentialminus\":[[0.0,\"#0d0887\"],[0.1111111111111111,\"#46039f\"],[0.2222222222222222,\"#7201a8\"],[0.3333333333333333,\"#9c179e\"],[0.4444444444444444,\"#bd3786\"],[0.5555555555555556,\"#d8576b\"],[0.6666666666666666,\"#ed7953\"],[0.7777777777777778,\"#fb9f3a\"],[0.8888888888888888,\"#fdca26\"],[1.0,\"#f0f921\"]],\"diverging\":[[0,\"#8e0152\"],[0.1,\"#c51b7d\"],[0.2,\"#de77ae\"],[0.3,\"#f1b6da\"],[0.4,\"#fde0ef\"],[0.5,\"#f7f7f7\"],[0.6,\"#e6f5d0\"],[0.7,\"#b8e186\"],[0.8,\"#7fbc41\"],[0.9,\"#4d9221\"],[1,\"#276419\"]]},\"xaxis\":{\"gridcolor\":\"white\",\"linecolor\":\"white\",\"ticks\":\"\",\"title\":{\"standoff\":15},\"zerolinecolor\":\"white\",\"automargin\":true,\"zerolinewidth\":2},\"yaxis\":{\"gridcolor\":\"white\",\"linecolor\":\"white\",\"ticks\":\"\",\"title\":{\"standoff\":15},\"zerolinecolor\":\"white\",\"automargin\":true,\"zerolinewidth\":2},\"scene\":{\"xaxis\":{\"backgroundcolor\":\"#E5ECF6\",\"gridcolor\":\"white\",\"linecolor\":\"white\",\"showbackground\":true,\"ticks\":\"\",\"zerolinecolor\":\"white\",\"gridwidth\":2},\"yaxis\":{\"backgroundcolor\":\"#E5ECF6\",\"gridcolor\":\"white\",\"linecolor\":\"white\",\"showbackground\":true,\"ticks\":\"\",\"zerolinecolor\":\"white\",\"gridwidth\":2},\"zaxis\":{\"backgroundcolor\":\"#E5ECF6\",\"gridcolor\":\"white\",\"linecolor\":\"white\",\"showbackground\":true,\"ticks\":\"\",\"zerolinecolor\":\"white\",\"gridwidth\":2}},\"shapedefaults\":{\"line\":{\"color\":\"#2a3f5f\"}},\"annotationdefaults\":{\"arrowcolor\":\"#2a3f5f\",\"arrowhead\":0,\"arrowwidth\":1},\"geo\":{\"bgcolor\":\"white\",\"landcolor\":\"#E5ECF6\",\"subunitcolor\":\"white\",\"showland\":true,\"showlakes\":true,\"lakecolor\":\"white\"},\"title\":{\"x\":0.05},\"mapbox\":{\"style\":\"light\"}}},\"xaxis\":{\"anchor\":\"y\",\"domain\":[0.0,0.235],\"title\":{\"text\":\"action\"},\"categoryorder\":\"array\",\"categoryarray\":[\"0\",\"1\",\"2\"]},\"yaxis\":{\"anchor\":\"x\",\"domain\":[0.0,1.0],\"title\":{\"text\":\"fraction\"}},\"xaxis2\":{\"anchor\":\"y2\",\"domain\":[0.255,0.49],\"matches\":\"x\",\"title\":{\"text\":\"action\"},\"categoryorder\":\"array\",\"categoryarray\":[\"0\",\"1\",\"2\"]},\"yaxis2\":{\"anchor\":\"x2\",\"domain\":[0.0,1.0],\"matches\":\"y\",\"showticklabels\":false},\"xaxis3\":{\"anchor\":\"y3\",\"domain\":[0.51,0.745],\"matches\":\"x\",\"title\":{\"text\":\"action\"},\"categoryorder\":\"array\",\"categoryarray\":[\"0\",\"1\",\"2\"]},\"yaxis3\":{\"anchor\":\"x3\",\"domain\":[0.0,1.0],\"matches\":\"y\",\"showticklabels\":false},\"xaxis4\":{\"anchor\":\"y4\",\"domain\":[0.7649999999999999,0.9999999999999999],\"matches\":\"x\",\"title\":{\"text\":\"action\"},\"categoryorder\":\"array\",\"categoryarray\":[\"0\",\"1\",\"2\"]},\"yaxis4\":{\"anchor\":\"x4\",\"domain\":[0.0,1.0],\"matches\":\"y\",\"showticklabels\":false},\"annotations\":[{\"font\":{},\"showarrow\":false,\"text\":\"agent=mlp\",\"x\":0.1175,\"xanchor\":\"center\",\"xref\":\"paper\",\"y\":1.0,\"yanchor\":\"bottom\",\"yref\":\"paper\"},{\"font\":{},\"showarrow\":false,\"text\":\"agent=lstm\",\"x\":0.3725,\"xanchor\":\"center\",\"xref\":\"paper\",\"y\":1.0,\"yanchor\":\"bottom\",\"yref\":\"paper\"},{\"font\":{},\"showarrow\":false,\"text\":\"agent=transformer_single\",\"x\":0.6275,\"xanchor\":\"center\",\"xref\":\"paper\",\"y\":1.0,\"yanchor\":\"bottom\",\"yref\":\"paper\"},{\"font\":{},\"showarrow\":false,\"text\":\"agent=transformer_multi\",\"x\":0.8824999999999998,\"xanchor\":\"center\",\"xref\":\"paper\",\"y\":1.0,\"yanchor\":\"bottom\",\"yref\":\"paper\"}],\"legend\":{\"title\":{\"text\":\"agent\"},\"tracegroupgap\":0},\"title\":{\"text\":\"Agent Action Distributions (test splits)\"},\"barmode\":\"group\"},                        {\"responsive\": true}                    ).then(function(){\n",
       "                            \n",
       "var gd = document.getElementById('e21a03c8-3909-4c1d-bb5e-ad899c9ad611');\n",
       "var x = new MutationObserver(function (mutations, observer) {{\n",
       "        var display = window.getComputedStyle(gd).display;\n",
       "        if (!display || display === 'none') {{\n",
       "            console.log([gd, 'removed!']);\n",
       "            Plotly.purge(gd);\n",
       "            observer.disconnect();\n",
       "        }}\n",
       "}});\n",
       "\n",
       "// Listen for the removal of the full notebook cells\n",
       "var notebookContainer = gd.closest('#notebook-container');\n",
       "if (notebookContainer) {{\n",
       "    x.observe(notebookContainer, {childList: true});\n",
       "}}\n",
       "\n",
       "// Listen for the clearing of the current output cell\n",
       "var outputEl = gd.closest('.output');\n",
       "if (outputEl) {{\n",
       "    x.observe(outputEl, {childList: true});\n",
       "}}\n",
       "\n",
       "                        })                };                });            </script>        </div>"
      ]
     },
     "metadata": {},
     "output_type": "display_data"
    }
   ],
   "source": [
    "print('MEAN EPISODE SHARPE')\n",
    "display(plotly_leaderboard(results_df, metric=\"mean_episode_sharpe\", top_k=3))\n",
    "print('MEAN EPISODE CUMULATIVE RETURN')\n",
    "display(plotly_leaderboard(results_df, metric=\"mean_cumulative_return\", top_k=3))\n",
    "plotly_metric_by_agent_and_split(results_df, metric=\"mean_episode_sharpe\")\n",
    "plotly_metric_by_agent_and_split(results_df, metric=\"mean_cumulative_return\")\n",
    "plotly_action_distribution(results_df)"
   ]
  },
  {
   "cell_type": "code",
   "execution_count": 15,
   "id": "1460ff30",
   "metadata": {},
   "outputs": [
    {
     "data": {
      "application/vnd.plotly.v1+json": {
       "config": {
        "plotlyServerURL": "https://plot.ly"
       },
       "data": [
        {
         "alignmentgroup": "True",
         "hovertemplate": "agent=%{x}<br>mean_episode_sharpe=%{text}<extra></extra>",
         "legendgroup": "transformer_multi",
         "marker": {
          "color": "#636efa",
          "pattern": {
           "shape": ""
          }
         },
         "name": "transformer_multi",
         "offsetgroup": "transformer_multi",
         "orientation": "v",
         "showlegend": true,
         "text": [
          -0.0015164971011478515
         ],
         "textposition": "outside",
         "texttemplate": "%{text:.3f}",
         "type": "bar",
         "x": [
          "transformer_multi"
         ],
         "xaxis": "x",
         "y": [
          -0.0015164971011478515
         ],
         "yaxis": "y"
        },
        {
         "alignmentgroup": "True",
         "hovertemplate": "agent=%{x}<br>mean_episode_sharpe=%{text}<extra></extra>",
         "legendgroup": "mlp",
         "marker": {
          "color": "#EF553B",
          "pattern": {
           "shape": ""
          }
         },
         "name": "mlp",
         "offsetgroup": "mlp",
         "orientation": "v",
         "showlegend": true,
         "text": [
          -0.009015589528104068
         ],
         "textposition": "outside",
         "texttemplate": "%{text:.3f}",
         "type": "bar",
         "x": [
          "mlp"
         ],
         "xaxis": "x",
         "y": [
          -0.009015589528104068
         ],
         "yaxis": "y"
        },
        {
         "alignmentgroup": "True",
         "hovertemplate": "agent=%{x}<br>mean_episode_sharpe=%{text}<extra></extra>",
         "legendgroup": "transformer_single",
         "marker": {
          "color": "#00cc96",
          "pattern": {
           "shape": ""
          }
         },
         "name": "transformer_single",
         "offsetgroup": "transformer_single",
         "orientation": "v",
         "showlegend": true,
         "text": [
          -0.012856769788802
         ],
         "textposition": "outside",
         "texttemplate": "%{text:.3f}",
         "type": "bar",
         "x": [
          "transformer_single"
         ],
         "xaxis": "x",
         "y": [
          -0.012856769788802
         ],
         "yaxis": "y"
        }
       ],
       "layout": {
        "barmode": "relative",
        "legend": {
         "title": {
          "text": "agent"
         },
         "tracegroupgap": 0
        },
        "showlegend": false,
        "template": {
         "data": {
          "bar": [
           {
            "error_x": {
             "color": "#2a3f5f"
            },
            "error_y": {
             "color": "#2a3f5f"
            },
            "marker": {
             "line": {
              "color": "#E5ECF6",
              "width": 0.5
             },
             "pattern": {
              "fillmode": "overlay",
              "size": 10,
              "solidity": 0.2
             }
            },
            "type": "bar"
           }
          ],
          "barpolar": [
           {
            "marker": {
             "line": {
              "color": "#E5ECF6",
              "width": 0.5
             },
             "pattern": {
              "fillmode": "overlay",
              "size": 10,
              "solidity": 0.2
             }
            },
            "type": "barpolar"
           }
          ],
          "carpet": [
           {
            "aaxis": {
             "endlinecolor": "#2a3f5f",
             "gridcolor": "white",
             "linecolor": "white",
             "minorgridcolor": "white",
             "startlinecolor": "#2a3f5f"
            },
            "baxis": {
             "endlinecolor": "#2a3f5f",
             "gridcolor": "white",
             "linecolor": "white",
             "minorgridcolor": "white",
             "startlinecolor": "#2a3f5f"
            },
            "type": "carpet"
           }
          ],
          "choropleth": [
           {
            "colorbar": {
             "outlinewidth": 0,
             "ticks": ""
            },
            "type": "choropleth"
           }
          ],
          "contour": [
           {
            "colorbar": {
             "outlinewidth": 0,
             "ticks": ""
            },
            "colorscale": [
             [
              0,
              "#0d0887"
             ],
             [
              0.1111111111111111,
              "#46039f"
             ],
             [
              0.2222222222222222,
              "#7201a8"
             ],
             [
              0.3333333333333333,
              "#9c179e"
             ],
             [
              0.4444444444444444,
              "#bd3786"
             ],
             [
              0.5555555555555556,
              "#d8576b"
             ],
             [
              0.6666666666666666,
              "#ed7953"
             ],
             [
              0.7777777777777778,
              "#fb9f3a"
             ],
             [
              0.8888888888888888,
              "#fdca26"
             ],
             [
              1,
              "#f0f921"
             ]
            ],
            "type": "contour"
           }
          ],
          "contourcarpet": [
           {
            "colorbar": {
             "outlinewidth": 0,
             "ticks": ""
            },
            "type": "contourcarpet"
           }
          ],
          "heatmap": [
           {
            "colorbar": {
             "outlinewidth": 0,
             "ticks": ""
            },
            "colorscale": [
             [
              0,
              "#0d0887"
             ],
             [
              0.1111111111111111,
              "#46039f"
             ],
             [
              0.2222222222222222,
              "#7201a8"
             ],
             [
              0.3333333333333333,
              "#9c179e"
             ],
             [
              0.4444444444444444,
              "#bd3786"
             ],
             [
              0.5555555555555556,
              "#d8576b"
             ],
             [
              0.6666666666666666,
              "#ed7953"
             ],
             [
              0.7777777777777778,
              "#fb9f3a"
             ],
             [
              0.8888888888888888,
              "#fdca26"
             ],
             [
              1,
              "#f0f921"
             ]
            ],
            "type": "heatmap"
           }
          ],
          "heatmapgl": [
           {
            "colorbar": {
             "outlinewidth": 0,
             "ticks": ""
            },
            "colorscale": [
             [
              0,
              "#0d0887"
             ],
             [
              0.1111111111111111,
              "#46039f"
             ],
             [
              0.2222222222222222,
              "#7201a8"
             ],
             [
              0.3333333333333333,
              "#9c179e"
             ],
             [
              0.4444444444444444,
              "#bd3786"
             ],
             [
              0.5555555555555556,
              "#d8576b"
             ],
             [
              0.6666666666666666,
              "#ed7953"
             ],
             [
              0.7777777777777778,
              "#fb9f3a"
             ],
             [
              0.8888888888888888,
              "#fdca26"
             ],
             [
              1,
              "#f0f921"
             ]
            ],
            "type": "heatmapgl"
           }
          ],
          "histogram": [
           {
            "marker": {
             "pattern": {
              "fillmode": "overlay",
              "size": 10,
              "solidity": 0.2
             }
            },
            "type": "histogram"
           }
          ],
          "histogram2d": [
           {
            "colorbar": {
             "outlinewidth": 0,
             "ticks": ""
            },
            "colorscale": [
             [
              0,
              "#0d0887"
             ],
             [
              0.1111111111111111,
              "#46039f"
             ],
             [
              0.2222222222222222,
              "#7201a8"
             ],
             [
              0.3333333333333333,
              "#9c179e"
             ],
             [
              0.4444444444444444,
              "#bd3786"
             ],
             [
              0.5555555555555556,
              "#d8576b"
             ],
             [
              0.6666666666666666,
              "#ed7953"
             ],
             [
              0.7777777777777778,
              "#fb9f3a"
             ],
             [
              0.8888888888888888,
              "#fdca26"
             ],
             [
              1,
              "#f0f921"
             ]
            ],
            "type": "histogram2d"
           }
          ],
          "histogram2dcontour": [
           {
            "colorbar": {
             "outlinewidth": 0,
             "ticks": ""
            },
            "colorscale": [
             [
              0,
              "#0d0887"
             ],
             [
              0.1111111111111111,
              "#46039f"
             ],
             [
              0.2222222222222222,
              "#7201a8"
             ],
             [
              0.3333333333333333,
              "#9c179e"
             ],
             [
              0.4444444444444444,
              "#bd3786"
             ],
             [
              0.5555555555555556,
              "#d8576b"
             ],
             [
              0.6666666666666666,
              "#ed7953"
             ],
             [
              0.7777777777777778,
              "#fb9f3a"
             ],
             [
              0.8888888888888888,
              "#fdca26"
             ],
             [
              1,
              "#f0f921"
             ]
            ],
            "type": "histogram2dcontour"
           }
          ],
          "mesh3d": [
           {
            "colorbar": {
             "outlinewidth": 0,
             "ticks": ""
            },
            "type": "mesh3d"
           }
          ],
          "parcoords": [
           {
            "line": {
             "colorbar": {
              "outlinewidth": 0,
              "ticks": ""
             }
            },
            "type": "parcoords"
           }
          ],
          "pie": [
           {
            "automargin": true,
            "type": "pie"
           }
          ],
          "scatter": [
           {
            "fillpattern": {
             "fillmode": "overlay",
             "size": 10,
             "solidity": 0.2
            },
            "type": "scatter"
           }
          ],
          "scatter3d": [
           {
            "line": {
             "colorbar": {
              "outlinewidth": 0,
              "ticks": ""
             }
            },
            "marker": {
             "colorbar": {
              "outlinewidth": 0,
              "ticks": ""
             }
            },
            "type": "scatter3d"
           }
          ],
          "scattercarpet": [
           {
            "marker": {
             "colorbar": {
              "outlinewidth": 0,
              "ticks": ""
             }
            },
            "type": "scattercarpet"
           }
          ],
          "scattergeo": [
           {
            "marker": {
             "colorbar": {
              "outlinewidth": 0,
              "ticks": ""
             }
            },
            "type": "scattergeo"
           }
          ],
          "scattergl": [
           {
            "marker": {
             "colorbar": {
              "outlinewidth": 0,
              "ticks": ""
             }
            },
            "type": "scattergl"
           }
          ],
          "scattermapbox": [
           {
            "marker": {
             "colorbar": {
              "outlinewidth": 0,
              "ticks": ""
             }
            },
            "type": "scattermapbox"
           }
          ],
          "scatterpolar": [
           {
            "marker": {
             "colorbar": {
              "outlinewidth": 0,
              "ticks": ""
             }
            },
            "type": "scatterpolar"
           }
          ],
          "scatterpolargl": [
           {
            "marker": {
             "colorbar": {
              "outlinewidth": 0,
              "ticks": ""
             }
            },
            "type": "scatterpolargl"
           }
          ],
          "scatterternary": [
           {
            "marker": {
             "colorbar": {
              "outlinewidth": 0,
              "ticks": ""
             }
            },
            "type": "scatterternary"
           }
          ],
          "surface": [
           {
            "colorbar": {
             "outlinewidth": 0,
             "ticks": ""
            },
            "colorscale": [
             [
              0,
              "#0d0887"
             ],
             [
              0.1111111111111111,
              "#46039f"
             ],
             [
              0.2222222222222222,
              "#7201a8"
             ],
             [
              0.3333333333333333,
              "#9c179e"
             ],
             [
              0.4444444444444444,
              "#bd3786"
             ],
             [
              0.5555555555555556,
              "#d8576b"
             ],
             [
              0.6666666666666666,
              "#ed7953"
             ],
             [
              0.7777777777777778,
              "#fb9f3a"
             ],
             [
              0.8888888888888888,
              "#fdca26"
             ],
             [
              1,
              "#f0f921"
             ]
            ],
            "type": "surface"
           }
          ],
          "table": [
           {
            "cells": {
             "fill": {
              "color": "#EBF0F8"
             },
             "line": {
              "color": "white"
             }
            },
            "header": {
             "fill": {
              "color": "#C8D4E3"
             },
             "line": {
              "color": "white"
             }
            },
            "type": "table"
           }
          ]
         },
         "layout": {
          "annotationdefaults": {
           "arrowcolor": "#2a3f5f",
           "arrowhead": 0,
           "arrowwidth": 1
          },
          "autotypenumbers": "strict",
          "coloraxis": {
           "colorbar": {
            "outlinewidth": 0,
            "ticks": ""
           }
          },
          "colorscale": {
           "diverging": [
            [
             0,
             "#8e0152"
            ],
            [
             0.1,
             "#c51b7d"
            ],
            [
             0.2,
             "#de77ae"
            ],
            [
             0.3,
             "#f1b6da"
            ],
            [
             0.4,
             "#fde0ef"
            ],
            [
             0.5,
             "#f7f7f7"
            ],
            [
             0.6,
             "#e6f5d0"
            ],
            [
             0.7,
             "#b8e186"
            ],
            [
             0.8,
             "#7fbc41"
            ],
            [
             0.9,
             "#4d9221"
            ],
            [
             1,
             "#276419"
            ]
           ],
           "sequential": [
            [
             0,
             "#0d0887"
            ],
            [
             0.1111111111111111,
             "#46039f"
            ],
            [
             0.2222222222222222,
             "#7201a8"
            ],
            [
             0.3333333333333333,
             "#9c179e"
            ],
            [
             0.4444444444444444,
             "#bd3786"
            ],
            [
             0.5555555555555556,
             "#d8576b"
            ],
            [
             0.6666666666666666,
             "#ed7953"
            ],
            [
             0.7777777777777778,
             "#fb9f3a"
            ],
            [
             0.8888888888888888,
             "#fdca26"
            ],
            [
             1,
             "#f0f921"
            ]
           ],
           "sequentialminus": [
            [
             0,
             "#0d0887"
            ],
            [
             0.1111111111111111,
             "#46039f"
            ],
            [
             0.2222222222222222,
             "#7201a8"
            ],
            [
             0.3333333333333333,
             "#9c179e"
            ],
            [
             0.4444444444444444,
             "#bd3786"
            ],
            [
             0.5555555555555556,
             "#d8576b"
            ],
            [
             0.6666666666666666,
             "#ed7953"
            ],
            [
             0.7777777777777778,
             "#fb9f3a"
            ],
            [
             0.8888888888888888,
             "#fdca26"
            ],
            [
             1,
             "#f0f921"
            ]
           ]
          },
          "colorway": [
           "#636efa",
           "#EF553B",
           "#00cc96",
           "#ab63fa",
           "#FFA15A",
           "#19d3f3",
           "#FF6692",
           "#B6E880",
           "#FF97FF",
           "#FECB52"
          ],
          "font": {
           "color": "#2a3f5f"
          },
          "geo": {
           "bgcolor": "white",
           "lakecolor": "white",
           "landcolor": "#E5ECF6",
           "showlakes": true,
           "showland": true,
           "subunitcolor": "white"
          },
          "hoverlabel": {
           "align": "left"
          },
          "hovermode": "closest",
          "mapbox": {
           "style": "light"
          },
          "paper_bgcolor": "white",
          "plot_bgcolor": "#E5ECF6",
          "polar": {
           "angularaxis": {
            "gridcolor": "white",
            "linecolor": "white",
            "ticks": ""
           },
           "bgcolor": "#E5ECF6",
           "radialaxis": {
            "gridcolor": "white",
            "linecolor": "white",
            "ticks": ""
           }
          },
          "scene": {
           "xaxis": {
            "backgroundcolor": "#E5ECF6",
            "gridcolor": "white",
            "gridwidth": 2,
            "linecolor": "white",
            "showbackground": true,
            "ticks": "",
            "zerolinecolor": "white"
           },
           "yaxis": {
            "backgroundcolor": "#E5ECF6",
            "gridcolor": "white",
            "gridwidth": 2,
            "linecolor": "white",
            "showbackground": true,
            "ticks": "",
            "zerolinecolor": "white"
           },
           "zaxis": {
            "backgroundcolor": "#E5ECF6",
            "gridcolor": "white",
            "gridwidth": 2,
            "linecolor": "white",
            "showbackground": true,
            "ticks": "",
            "zerolinecolor": "white"
           }
          },
          "shapedefaults": {
           "line": {
            "color": "#2a3f5f"
           }
          },
          "ternary": {
           "aaxis": {
            "gridcolor": "white",
            "linecolor": "white",
            "ticks": ""
           },
           "baxis": {
            "gridcolor": "white",
            "linecolor": "white",
            "ticks": ""
           },
           "bgcolor": "#E5ECF6",
           "caxis": {
            "gridcolor": "white",
            "linecolor": "white",
            "ticks": ""
           }
          },
          "title": {
           "x": 0.05
          },
          "xaxis": {
           "automargin": true,
           "gridcolor": "white",
           "linecolor": "white",
           "ticks": "",
           "title": {
            "standoff": 15
           },
           "zerolinecolor": "white",
           "zerolinewidth": 2
          },
          "yaxis": {
           "automargin": true,
           "gridcolor": "white",
           "linecolor": "white",
           "ticks": "",
           "title": {
            "standoff": 15
           },
           "zerolinecolor": "white",
           "zerolinewidth": 2
          }
         }
        },
        "title": {
         "text": "Top-3 Agents by mean_episode_sharpe (test splits)"
        },
        "xaxis": {
         "anchor": "y",
         "categoryarray": [
          "transformer_multi",
          "mlp",
          "transformer_single"
         ],
         "categoryorder": "array",
         "domain": [
          0,
          1
         ],
         "title": {
          "text": "Agent"
         }
        },
        "yaxis": {
         "anchor": "x",
         "domain": [
          0,
          1
         ],
         "title": {
          "text": "mean_episode_sharpe"
         }
        }
       }
      },
      "text/html": [
       "<div>                            <div id=\"0e2c89ab-4b0b-45af-8b89-ebcd993a63fd\" class=\"plotly-graph-div\" style=\"height:525px; width:100%;\"></div>            <script type=\"text/javascript\">                require([\"plotly\"], function(Plotly) {                    window.PLOTLYENV=window.PLOTLYENV || {};                                    if (document.getElementById(\"0e2c89ab-4b0b-45af-8b89-ebcd993a63fd\")) {                    Plotly.newPlot(                        \"0e2c89ab-4b0b-45af-8b89-ebcd993a63fd\",                        [{\"alignmentgroup\":\"True\",\"hovertemplate\":\"agent=%{x}<br>mean_episode_sharpe=%{text}<extra></extra>\",\"legendgroup\":\"transformer_multi\",\"marker\":{\"color\":\"#636efa\",\"pattern\":{\"shape\":\"\"}},\"name\":\"transformer_multi\",\"offsetgroup\":\"transformer_multi\",\"orientation\":\"v\",\"showlegend\":true,\"text\":[-0.0015164971011478515],\"textposition\":\"outside\",\"x\":[\"transformer_multi\"],\"xaxis\":\"x\",\"y\":[-0.0015164971011478515],\"yaxis\":\"y\",\"type\":\"bar\",\"texttemplate\":\"%{text:.3f}\"},{\"alignmentgroup\":\"True\",\"hovertemplate\":\"agent=%{x}<br>mean_episode_sharpe=%{text}<extra></extra>\",\"legendgroup\":\"mlp\",\"marker\":{\"color\":\"#EF553B\",\"pattern\":{\"shape\":\"\"}},\"name\":\"mlp\",\"offsetgroup\":\"mlp\",\"orientation\":\"v\",\"showlegend\":true,\"text\":[-0.009015589528104068],\"textposition\":\"outside\",\"x\":[\"mlp\"],\"xaxis\":\"x\",\"y\":[-0.009015589528104068],\"yaxis\":\"y\",\"type\":\"bar\",\"texttemplate\":\"%{text:.3f}\"},{\"alignmentgroup\":\"True\",\"hovertemplate\":\"agent=%{x}<br>mean_episode_sharpe=%{text}<extra></extra>\",\"legendgroup\":\"transformer_single\",\"marker\":{\"color\":\"#00cc96\",\"pattern\":{\"shape\":\"\"}},\"name\":\"transformer_single\",\"offsetgroup\":\"transformer_single\",\"orientation\":\"v\",\"showlegend\":true,\"text\":[-0.012856769788802],\"textposition\":\"outside\",\"x\":[\"transformer_single\"],\"xaxis\":\"x\",\"y\":[-0.012856769788802],\"yaxis\":\"y\",\"type\":\"bar\",\"texttemplate\":\"%{text:.3f}\"}],                        {\"template\":{\"data\":{\"histogram2dcontour\":[{\"type\":\"histogram2dcontour\",\"colorbar\":{\"outlinewidth\":0,\"ticks\":\"\"},\"colorscale\":[[0.0,\"#0d0887\"],[0.1111111111111111,\"#46039f\"],[0.2222222222222222,\"#7201a8\"],[0.3333333333333333,\"#9c179e\"],[0.4444444444444444,\"#bd3786\"],[0.5555555555555556,\"#d8576b\"],[0.6666666666666666,\"#ed7953\"],[0.7777777777777778,\"#fb9f3a\"],[0.8888888888888888,\"#fdca26\"],[1.0,\"#f0f921\"]]}],\"choropleth\":[{\"type\":\"choropleth\",\"colorbar\":{\"outlinewidth\":0,\"ticks\":\"\"}}],\"histogram2d\":[{\"type\":\"histogram2d\",\"colorbar\":{\"outlinewidth\":0,\"ticks\":\"\"},\"colorscale\":[[0.0,\"#0d0887\"],[0.1111111111111111,\"#46039f\"],[0.2222222222222222,\"#7201a8\"],[0.3333333333333333,\"#9c179e\"],[0.4444444444444444,\"#bd3786\"],[0.5555555555555556,\"#d8576b\"],[0.6666666666666666,\"#ed7953\"],[0.7777777777777778,\"#fb9f3a\"],[0.8888888888888888,\"#fdca26\"],[1.0,\"#f0f921\"]]}],\"heatmap\":[{\"type\":\"heatmap\",\"colorbar\":{\"outlinewidth\":0,\"ticks\":\"\"},\"colorscale\":[[0.0,\"#0d0887\"],[0.1111111111111111,\"#46039f\"],[0.2222222222222222,\"#7201a8\"],[0.3333333333333333,\"#9c179e\"],[0.4444444444444444,\"#bd3786\"],[0.5555555555555556,\"#d8576b\"],[0.6666666666666666,\"#ed7953\"],[0.7777777777777778,\"#fb9f3a\"],[0.8888888888888888,\"#fdca26\"],[1.0,\"#f0f921\"]]}],\"heatmapgl\":[{\"type\":\"heatmapgl\",\"colorbar\":{\"outlinewidth\":0,\"ticks\":\"\"},\"colorscale\":[[0.0,\"#0d0887\"],[0.1111111111111111,\"#46039f\"],[0.2222222222222222,\"#7201a8\"],[0.3333333333333333,\"#9c179e\"],[0.4444444444444444,\"#bd3786\"],[0.5555555555555556,\"#d8576b\"],[0.6666666666666666,\"#ed7953\"],[0.7777777777777778,\"#fb9f3a\"],[0.8888888888888888,\"#fdca26\"],[1.0,\"#f0f921\"]]}],\"contourcarpet\":[{\"type\":\"contourcarpet\",\"colorbar\":{\"outlinewidth\":0,\"ticks\":\"\"}}],\"contour\":[{\"type\":\"contour\",\"colorbar\":{\"outlinewidth\":0,\"ticks\":\"\"},\"colorscale\":[[0.0,\"#0d0887\"],[0.1111111111111111,\"#46039f\"],[0.2222222222222222,\"#7201a8\"],[0.3333333333333333,\"#9c179e\"],[0.4444444444444444,\"#bd3786\"],[0.5555555555555556,\"#d8576b\"],[0.6666666666666666,\"#ed7953\"],[0.7777777777777778,\"#fb9f3a\"],[0.8888888888888888,\"#fdca26\"],[1.0,\"#f0f921\"]]}],\"surface\":[{\"type\":\"surface\",\"colorbar\":{\"outlinewidth\":0,\"ticks\":\"\"},\"colorscale\":[[0.0,\"#0d0887\"],[0.1111111111111111,\"#46039f\"],[0.2222222222222222,\"#7201a8\"],[0.3333333333333333,\"#9c179e\"],[0.4444444444444444,\"#bd3786\"],[0.5555555555555556,\"#d8576b\"],[0.6666666666666666,\"#ed7953\"],[0.7777777777777778,\"#fb9f3a\"],[0.8888888888888888,\"#fdca26\"],[1.0,\"#f0f921\"]]}],\"mesh3d\":[{\"type\":\"mesh3d\",\"colorbar\":{\"outlinewidth\":0,\"ticks\":\"\"}}],\"scatter\":[{\"fillpattern\":{\"fillmode\":\"overlay\",\"size\":10,\"solidity\":0.2},\"type\":\"scatter\"}],\"parcoords\":[{\"type\":\"parcoords\",\"line\":{\"colorbar\":{\"outlinewidth\":0,\"ticks\":\"\"}}}],\"scatterpolargl\":[{\"type\":\"scatterpolargl\",\"marker\":{\"colorbar\":{\"outlinewidth\":0,\"ticks\":\"\"}}}],\"bar\":[{\"error_x\":{\"color\":\"#2a3f5f\"},\"error_y\":{\"color\":\"#2a3f5f\"},\"marker\":{\"line\":{\"color\":\"#E5ECF6\",\"width\":0.5},\"pattern\":{\"fillmode\":\"overlay\",\"size\":10,\"solidity\":0.2}},\"type\":\"bar\"}],\"scattergeo\":[{\"type\":\"scattergeo\",\"marker\":{\"colorbar\":{\"outlinewidth\":0,\"ticks\":\"\"}}}],\"scatterpolar\":[{\"type\":\"scatterpolar\",\"marker\":{\"colorbar\":{\"outlinewidth\":0,\"ticks\":\"\"}}}],\"histogram\":[{\"marker\":{\"pattern\":{\"fillmode\":\"overlay\",\"size\":10,\"solidity\":0.2}},\"type\":\"histogram\"}],\"scattergl\":[{\"type\":\"scattergl\",\"marker\":{\"colorbar\":{\"outlinewidth\":0,\"ticks\":\"\"}}}],\"scatter3d\":[{\"type\":\"scatter3d\",\"line\":{\"colorbar\":{\"outlinewidth\":0,\"ticks\":\"\"}},\"marker\":{\"colorbar\":{\"outlinewidth\":0,\"ticks\":\"\"}}}],\"scattermapbox\":[{\"type\":\"scattermapbox\",\"marker\":{\"colorbar\":{\"outlinewidth\":0,\"ticks\":\"\"}}}],\"scatterternary\":[{\"type\":\"scatterternary\",\"marker\":{\"colorbar\":{\"outlinewidth\":0,\"ticks\":\"\"}}}],\"scattercarpet\":[{\"type\":\"scattercarpet\",\"marker\":{\"colorbar\":{\"outlinewidth\":0,\"ticks\":\"\"}}}],\"carpet\":[{\"aaxis\":{\"endlinecolor\":\"#2a3f5f\",\"gridcolor\":\"white\",\"linecolor\":\"white\",\"minorgridcolor\":\"white\",\"startlinecolor\":\"#2a3f5f\"},\"baxis\":{\"endlinecolor\":\"#2a3f5f\",\"gridcolor\":\"white\",\"linecolor\":\"white\",\"minorgridcolor\":\"white\",\"startlinecolor\":\"#2a3f5f\"},\"type\":\"carpet\"}],\"table\":[{\"cells\":{\"fill\":{\"color\":\"#EBF0F8\"},\"line\":{\"color\":\"white\"}},\"header\":{\"fill\":{\"color\":\"#C8D4E3\"},\"line\":{\"color\":\"white\"}},\"type\":\"table\"}],\"barpolar\":[{\"marker\":{\"line\":{\"color\":\"#E5ECF6\",\"width\":0.5},\"pattern\":{\"fillmode\":\"overlay\",\"size\":10,\"solidity\":0.2}},\"type\":\"barpolar\"}],\"pie\":[{\"automargin\":true,\"type\":\"pie\"}]},\"layout\":{\"autotypenumbers\":\"strict\",\"colorway\":[\"#636efa\",\"#EF553B\",\"#00cc96\",\"#ab63fa\",\"#FFA15A\",\"#19d3f3\",\"#FF6692\",\"#B6E880\",\"#FF97FF\",\"#FECB52\"],\"font\":{\"color\":\"#2a3f5f\"},\"hovermode\":\"closest\",\"hoverlabel\":{\"align\":\"left\"},\"paper_bgcolor\":\"white\",\"plot_bgcolor\":\"#E5ECF6\",\"polar\":{\"bgcolor\":\"#E5ECF6\",\"angularaxis\":{\"gridcolor\":\"white\",\"linecolor\":\"white\",\"ticks\":\"\"},\"radialaxis\":{\"gridcolor\":\"white\",\"linecolor\":\"white\",\"ticks\":\"\"}},\"ternary\":{\"bgcolor\":\"#E5ECF6\",\"aaxis\":{\"gridcolor\":\"white\",\"linecolor\":\"white\",\"ticks\":\"\"},\"baxis\":{\"gridcolor\":\"white\",\"linecolor\":\"white\",\"ticks\":\"\"},\"caxis\":{\"gridcolor\":\"white\",\"linecolor\":\"white\",\"ticks\":\"\"}},\"coloraxis\":{\"colorbar\":{\"outlinewidth\":0,\"ticks\":\"\"}},\"colorscale\":{\"sequential\":[[0.0,\"#0d0887\"],[0.1111111111111111,\"#46039f\"],[0.2222222222222222,\"#7201a8\"],[0.3333333333333333,\"#9c179e\"],[0.4444444444444444,\"#bd3786\"],[0.5555555555555556,\"#d8576b\"],[0.6666666666666666,\"#ed7953\"],[0.7777777777777778,\"#fb9f3a\"],[0.8888888888888888,\"#fdca26\"],[1.0,\"#f0f921\"]],\"sequentialminus\":[[0.0,\"#0d0887\"],[0.1111111111111111,\"#46039f\"],[0.2222222222222222,\"#7201a8\"],[0.3333333333333333,\"#9c179e\"],[0.4444444444444444,\"#bd3786\"],[0.5555555555555556,\"#d8576b\"],[0.6666666666666666,\"#ed7953\"],[0.7777777777777778,\"#fb9f3a\"],[0.8888888888888888,\"#fdca26\"],[1.0,\"#f0f921\"]],\"diverging\":[[0,\"#8e0152\"],[0.1,\"#c51b7d\"],[0.2,\"#de77ae\"],[0.3,\"#f1b6da\"],[0.4,\"#fde0ef\"],[0.5,\"#f7f7f7\"],[0.6,\"#e6f5d0\"],[0.7,\"#b8e186\"],[0.8,\"#7fbc41\"],[0.9,\"#4d9221\"],[1,\"#276419\"]]},\"xaxis\":{\"gridcolor\":\"white\",\"linecolor\":\"white\",\"ticks\":\"\",\"title\":{\"standoff\":15},\"zerolinecolor\":\"white\",\"automargin\":true,\"zerolinewidth\":2},\"yaxis\":{\"gridcolor\":\"white\",\"linecolor\":\"white\",\"ticks\":\"\",\"title\":{\"standoff\":15},\"zerolinecolor\":\"white\",\"automargin\":true,\"zerolinewidth\":2},\"scene\":{\"xaxis\":{\"backgroundcolor\":\"#E5ECF6\",\"gridcolor\":\"white\",\"linecolor\":\"white\",\"showbackground\":true,\"ticks\":\"\",\"zerolinecolor\":\"white\",\"gridwidth\":2},\"yaxis\":{\"backgroundcolor\":\"#E5ECF6\",\"gridcolor\":\"white\",\"linecolor\":\"white\",\"showbackground\":true,\"ticks\":\"\",\"zerolinecolor\":\"white\",\"gridwidth\":2},\"zaxis\":{\"backgroundcolor\":\"#E5ECF6\",\"gridcolor\":\"white\",\"linecolor\":\"white\",\"showbackground\":true,\"ticks\":\"\",\"zerolinecolor\":\"white\",\"gridwidth\":2}},\"shapedefaults\":{\"line\":{\"color\":\"#2a3f5f\"}},\"annotationdefaults\":{\"arrowcolor\":\"#2a3f5f\",\"arrowhead\":0,\"arrowwidth\":1},\"geo\":{\"bgcolor\":\"white\",\"landcolor\":\"#E5ECF6\",\"subunitcolor\":\"white\",\"showland\":true,\"showlakes\":true,\"lakecolor\":\"white\"},\"title\":{\"x\":0.05},\"mapbox\":{\"style\":\"light\"}}},\"xaxis\":{\"anchor\":\"y\",\"domain\":[0.0,1.0],\"title\":{\"text\":\"Agent\"},\"categoryorder\":\"array\",\"categoryarray\":[\"transformer_multi\",\"mlp\",\"transformer_single\"]},\"yaxis\":{\"anchor\":\"x\",\"domain\":[0.0,1.0],\"title\":{\"text\":\"mean_episode_sharpe\"}},\"legend\":{\"title\":{\"text\":\"agent\"},\"tracegroupgap\":0},\"title\":{\"text\":\"Top-3 Agents by mean_episode_sharpe (test splits)\"},\"barmode\":\"relative\",\"showlegend\":false},                        {\"responsive\": true}                    ).then(function(){\n",
       "                            \n",
       "var gd = document.getElementById('0e2c89ab-4b0b-45af-8b89-ebcd993a63fd');\n",
       "var x = new MutationObserver(function (mutations, observer) {{\n",
       "        var display = window.getComputedStyle(gd).display;\n",
       "        if (!display || display === 'none') {{\n",
       "            console.log([gd, 'removed!']);\n",
       "            Plotly.purge(gd);\n",
       "            observer.disconnect();\n",
       "        }}\n",
       "}});\n",
       "\n",
       "// Listen for the removal of the full notebook cells\n",
       "var notebookContainer = gd.closest('#notebook-container');\n",
       "if (notebookContainer) {{\n",
       "    x.observe(notebookContainer, {childList: true});\n",
       "}}\n",
       "\n",
       "// Listen for the clearing of the current output cell\n",
       "var outputEl = gd.closest('.output');\n",
       "if (outputEl) {{\n",
       "    x.observe(outputEl, {childList: true});\n",
       "}}\n",
       "\n",
       "                        })                };                });            </script>        </div>"
      ]
     },
     "metadata": {},
     "output_type": "display_data"
    },
    {
     "data": {
      "text/html": [
       "<div>\n",
       "<style scoped>\n",
       "    .dataframe tbody tr th:only-of-type {\n",
       "        vertical-align: middle;\n",
       "    }\n",
       "\n",
       "    .dataframe tbody tr th {\n",
       "        vertical-align: top;\n",
       "    }\n",
       "\n",
       "    .dataframe thead th {\n",
       "        text-align: right;\n",
       "    }\n",
       "</style>\n",
       "<table border=\"1\" class=\"dataframe\">\n",
       "  <thead>\n",
       "    <tr style=\"text-align: right;\">\n",
       "      <th></th>\n",
       "      <th>agent</th>\n",
       "      <th>mean_episode_sharpe</th>\n",
       "      <th>Rank</th>\n",
       "    </tr>\n",
       "  </thead>\n",
       "  <tbody>\n",
       "    <tr>\n",
       "      <th>0</th>\n",
       "      <td>transformer_multi</td>\n",
       "      <td>-0.001516</td>\n",
       "      <td>1.0</td>\n",
       "    </tr>\n",
       "    <tr>\n",
       "      <th>1</th>\n",
       "      <td>mlp</td>\n",
       "      <td>-0.009016</td>\n",
       "      <td>2.0</td>\n",
       "    </tr>\n",
       "    <tr>\n",
       "      <th>2</th>\n",
       "      <td>transformer_single</td>\n",
       "      <td>-0.012857</td>\n",
       "      <td>3.0</td>\n",
       "    </tr>\n",
       "    <tr>\n",
       "      <th>3</th>\n",
       "      <td>lstm</td>\n",
       "      <td>-0.022839</td>\n",
       "      <td>4.0</td>\n",
       "    </tr>\n",
       "  </tbody>\n",
       "</table>\n",
       "</div>"
      ],
      "text/plain": [
       "                agent  mean_episode_sharpe  Rank\n",
       "0   transformer_multi            -0.001516   1.0\n",
       "1                 mlp            -0.009016   2.0\n",
       "2  transformer_single            -0.012857   3.0\n",
       "3                lstm            -0.022839   4.0"
      ]
     },
     "metadata": {},
     "output_type": "display_data"
    }
   ],
   "source": [
    "\n",
    "display(plotly_leaderboard(results_df, metric=\"mean_episode_sharpe\", top_k=3))"
   ]
  },
  {
   "cell_type": "code",
   "execution_count": null,
   "id": "b390ce65",
   "metadata": {},
   "outputs": [],
   "source": [
    "# Bonus test - Episode Boundary learning mode\n",
    "\n"
   ]
  }
 ],
 "metadata": {
  "kernelspec": {
   "display_name": "Python 3 (ipykernel)",
   "language": "python",
   "name": "python3"
  },
  "language_info": {
   "codemirror_mode": {
    "name": "ipython",
    "version": 3
   },
   "file_extension": ".py",
   "mimetype": "text/x-python",
   "name": "python",
   "nbconvert_exporter": "python",
   "pygments_lexer": "ipython3",
   "version": "3.11.4"
  }
 },
 "nbformat": 4,
 "nbformat_minor": 5
}
