{
 "cells": [
  {
   "cell_type": "markdown",
   "id": "853d7e02",
   "metadata": {},
   "source": [
    "\n",
    "## 1. Environment & Market Abstraction Layer\n",
    "\n",
    "> The market is not raw data — it's a simulated environment with structure.\n",
    "\n",
    "### Components:\n",
    "\n",
    "* OHLCV + event data ingestor (Alpaca, Polygon, etc.)\n",
    "* Feature generator: rolling stats, regime indicators, chaos metrics\n",
    "* Resampled `EpisodeBuilder`: turns market timelines into valid learning tasks\n",
    "* Oracle engine: simulate an optimal policy per episode to compute a relative reward\n",
    "\n",
    "### Landmarks:\n",
    "* PositionTradingEnv / CumulativeEnv built\n",
    "* Dynamic reward system (oracle-relative, bounded 0–100)\n",
    "* Episode resampling by date, regime, etc.\n",
    "\n",
    "This transforms noisy market data into **learnable structured episodes**\n"
   ]
  },
  {
   "cell_type": "code",
   "execution_count": 1,
   "id": "2dbdf015",
   "metadata": {},
   "outputs": [],
   "source": [
    "import jupyter"
   ]
  },
  {
   "cell_type": "code",
   "execution_count": 5,
   "id": "5e1d6324",
   "metadata": {},
   "outputs": [],
   "source": [
    "import os\n",
    "import random\n",
    "import numpy as np\n",
    "import pandas as pd\n",
    "import seaborn as sns\n",
    "import matplotlib.pyplot as plt\n",
    "import gymnasium as gym\n",
    "\n",
    "from tqdm import tqdm\n",
    "from pathlib import Path\n",
    "from datetime import datetime\n",
    "\n",
    "from src.utils.system import boot\n",
    "from src.defaults import RANDOM_SEEDS, TOP2_STOCK_BY_SECTOR\n",
    "from tracker import OHLCV_DF, EpisodeTracker, EnvironmentTracker, AgentTracker\n",
    "from environments import PositionTradingEnvV4\n"
   ]
  },
  {
   "cell_type": "code",
   "execution_count": 125,
   "id": "eacd598e",
   "metadata": {},
   "outputs": [],
   "source": [
    "import os\n",
    "import json\n",
    "import hashlib\n",
    "from collections import defaultdict\n",
    "STORAGE_PATH = \"data/experiments/episode_benchmark_engine/runs.csv\"\n",
    "\n",
    "\n",
    "EXCLUDED_TICKERS = sorted([\"CEG\", \"GEHC\", \"GEV\", \"KVUE\", \"SOLV\"])\n",
    "\n",
    "CONFIG = {\n",
    "    \"regressor\": \"RandomForestRegressor\",\n",
    "    \"n_estimators\": 300,\n",
    "    \"random_state\": 314,\n",
    "    \"transaction_cost\": 0,\n",
    "}\n",
    "LOOKBACK = 0\n",
    "EPISODE_LENGTH = 50\n",
    "\n",
    "RUN_SETTINGS = {\n",
    "    \"excluded_tickers\": EXCLUDED_TICKERS,\n",
    "    \"cv_folds\": 3,\n",
    "    \"lags\": 5,\n",
    "    \"seed\": 314,\n",
    "    'total_timesteps':50_000,\n",
    "    \"episode\": {\n",
    "        \"episode_length\": EPISODE_LENGTH,\n",
    "        \"lookback\": LOOKBACK,\n",
    "    },\n",
    "    \"environment\": {\n",
    "        \"market_features\": [\"close\", \"price_change\", \"volume_change\"],\n",
    "        \"version\": \"v2\",\n",
    "        \"lookback\": LOOKBACK,\n",
    "        \"episode_length\": EPISODE_LENGTH,\n",
    "        \"transaction_cost\": 0,\n",
    "    },\n",
    "    \"agent\": {\n",
    "        \"model_class\": \"PPO\",\n",
    "        \"policy_class\": \"MlpPolicy\",\n",
    "        \"config\": {\n",
    "            \"verbose\": 1,\n",
    "            \"ent_coef\":0.1,\n",
    "            \"policy_kwargs\": \n",
    "                {\n",
    "                \n",
    "                    \"net_arch\": [64, 64]\n",
    "                    }\n",
    "                },\n",
    "    },\n",
    "}\n",
    "\n"
   ]
  }
 ],
 "metadata": {
  "kernelspec": {
   "display_name": "Python 3 (ipykernel)",
   "language": "python",
   "name": "python3"
  },
  "language_info": {
   "codemirror_mode": {
    "name": "ipython",
    "version": 3
   },
   "file_extension": ".py",
   "mimetype": "text/x-python",
   "name": "python",
   "nbconvert_exporter": "python",
   "pygments_lexer": "ipython3",
   "version": "3.11.4"
  }
 },
 "nbformat": 4,
 "nbformat_minor": 5
}
