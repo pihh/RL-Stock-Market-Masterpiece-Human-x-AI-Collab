{
 "cells": [
  {
   "cell_type": "code",
   "execution_count": 1,
   "id": "2dbdf015",
   "metadata": {},
   "outputs": [],
   "source": [
    "import jupyter"
   ]
  },
  {
   "cell_type": "code",
   "execution_count": 2,
   "id": "5e1d6324",
   "metadata": {},
   "outputs": [
    {
     "name": "stderr",
     "output_type": "stream",
     "text": [
      "C:\\Users\\Francisco Sá\\AppData\\Roaming\\Python\\Python311\\site-packages\\pandas\\core\\arrays\\masked.py:61: UserWarning: Pandas requires version '1.3.6' or newer of 'bottleneck' (version '1.3.5' currently installed).\n",
      "  from pandas.core import (\n"
     ]
    }
   ],
   "source": [
    "import os\n",
    "import random\n",
    "import numpy as np\n",
    "import pandas as pd\n",
    "import seaborn as sns\n",
    "import matplotlib.pyplot as plt\n",
    "import gymnasium as gym\n",
    "\n",
    "from tqdm import tqdm\n",
    "from pathlib import Path\n",
    "from datetime import datetime\n",
    "from sklearn.metrics import classification_report, confusion_matrix, ConfusionMatrixDisplay\n",
    "from sklearn.preprocessing import RobustScaler\n",
    "from sklearn.ensemble import RandomForestRegressor\n",
    "from sklearn.model_selection import cross_val_score\n",
    "from scipy.stats import skew, kurtosis, entropy\n",
    "from statsmodels.stats.diagnostic import acorr_ljungbox\n",
    "\n",
    "from src.utils.system import boot\n",
    "from src.defaults import RANDOM_SEEDS, TOP2_STOCK_BY_SECTOR\n",
    "from tracker import OHLCV_DF, EpisodeTracker, EnvironmentTracker, AgentTracker\n",
    "\n"
   ]
  },
  {
   "cell_type": "code",
   "execution_count": 3,
   "id": "52d8791b",
   "metadata": {},
   "outputs": [],
   "source": [
    "# Configuration ======================\n",
    "excluded_tickers = sorted(['CEG', 'GEHC', 'GEV', 'KVUE', 'SOLV'])\n",
    "\n",
    "config = {\n",
    "    \"regressor\": \"RandomForestRegressor\",\n",
    "    \"n_estimators\": 300,\n",
    "    \"random_state\": 314,\n",
    "    \"transaction_cost\": 0\n",
    "}\n",
    "\n",
    "run_settings = {\n",
    "    \"excluded_tickers\": excluded_tickers,\n",
    "    \"min_samples\": 10,\n",
    "    \"cv_folds\": 3,\n",
    "    \"lags\": 5,\n",
    "    \"start_date\": \"2023-12-31\",\n",
    "    \"end_date\": \"2025-05-01\",\n",
    "    \"seed\": 314,\n",
    "    \"episode_length\": 50,\n",
    "    \"noise_feature_cols\": [\"return_1d\", \"volume\"],\n",
    "    \"train_steps\": 10_000,\n",
    "    \"lookback\": 0,\n",
    "    \n",
    "}\n",
    "\n",
    "# System Boot =======================\n",
    "DEVICE = boot()\n",
    "\n"
   ]
  },
  {
   "cell_type": "code",
   "execution_count": 4,
   "id": "b1b3f50e",
   "metadata": {},
   "outputs": [],
   "source": [
    "# Load and Prepare Data ================\n",
    "ohlcv_df = OHLCV_DF.copy()\n",
    "ohlcv_df['month'] = ohlcv_df['date'].dt.to_period('M')\n",
    "ohlcv_df['return_1d'] = ohlcv_df['return_1d'].fillna(0)\n",
    "ohlcv_df['sector_id'] = ohlcv_df['sector_id'].fillna('unknown')\n",
    "ohlcv_df['industry_id'] = ohlcv_df['industry_id'].fillna('unknown')\n",
    "\n",
    "# Filter Tickers ======================\n",
    "tickers = ohlcv_df['symbol'].unique()\n",
    "tickers = tickers[~np.isin(tickers, excluded_tickers)]\n",
    "tickers = [\"AAPL\"]  # Force test with AAPL\n",
    "#tickers = TOP2_STOCK_BY_SECTOR\n",
    "# Load and prepare trackers\n",
    "ep_tracker    = EpisodeTracker()\n",
    "env_tracker   = EnvironmentTracker()\n",
    "agent_tracker = AgentTracker()"
   ]
  },
  {
   "cell_type": "code",
   "execution_count": 5,
   "id": "ca75ced3",
   "metadata": {},
   "outputs": [],
   "source": [
    "def add_lags(df,lags):\n",
    "   \n",
    "    df_lag = df.copy()\n",
    "    for lag in range(1, lags + 1):\n",
    "     \n",
    "        df_lag[f'return_lag_{lag}'] = df_lag['return_1d'].shift(lag)\n",
    "        df_lag[f'volume_lag_{lag}'] = df_lag['volume_change'].shift(lag)\n",
    "        df_lag[f'market_return_lag_{lag}'] = df_lag['market_return_1d'].shift(lag)\n",
    "   \n",
    "    #df_lag = df_lag.dropna()\n",
    "    #print(df_lag)\n",
    "    return df_lag\n"
   ]
  },
  {
   "cell_type": "code",
   "execution_count": 6,
   "id": "ce963feb",
   "metadata": {},
   "outputs": [],
   "source": [
    "def residual_based_predictability_label(df_lag, run_settings):\n",
    "    \"\"\"\n",
    "    Estimate predictability (cv_r2) using residuals from RandomForestRegressor.\n",
    "    Supports sub-episode curriculum-style partitions.\n",
    "    \"\"\"\n",
    "    required_cols = (\n",
    "        [f'return_lag_{i}' for i in range(1, run_settings['lags'] + 1)] +\n",
    "        [f'volume_lag_{i}' for i in range(1, run_settings['lags'] + 1)] +\n",
    "        [f'market_return_lag_{i}' for i in range(1, run_settings['lags'] + 1)]\n",
    "    )\n",
    "\n",
    "    df_lag = df_lag.dropna(subset=required_cols + ['return_1d'])\n",
    "\n",
    "    if len(df_lag) < run_settings[\"min_samples\"]:\n",
    "        return np.nan  # Not enough data\n",
    "\n",
    "    X = df_lag[required_cols].values\n",
    "    y = df_lag['return_1d'].values\n",
    "\n",
    "    splits = [1/3, 2/3, 1.0]\n",
    "    cv_r2s = []\n",
    "\n",
    "    for split in splits:\n",
    "        split_len = int(len(X) * split)\n",
    "        if split_len < run_settings[\"min_samples\"]:\n",
    "            continue  # Avoid underfitting\n",
    "        X_split = X[:split_len]\n",
    "        y_split = y[:split_len]\n",
    "\n",
    "        model = RandomForestRegressor(\n",
    "            n_estimators=config['n_estimators'],\n",
    "            random_state=config['random_state']\n",
    "        )\n",
    "        model.fit(X_split, y_split)\n",
    "        r2 = np.mean(cross_val_score(model, X_split, y_split, cv=run_settings[\"cv_folds\"], scoring='r2'))\n",
    "        cv_r2s.append(r2)\n",
    "\n",
    "    # You could return just the final r² or an average across splits\n",
    "    final_r2 = np.mean(cv_r2s) if cv_r2s else np.nan\n",
    "    return final_r2\n"
   ]
  },
  {
   "cell_type": "code",
   "execution_count": 7,
   "id": "1646daae",
   "metadata": {},
   "outputs": [
    {
     "name": "stderr",
     "output_type": "stream",
     "text": [
      "\r",
      "  0%|          | 0/1 [00:00<?, ?it/s]"
     ]
    },
    {
     "name": "stdout",
     "output_type": "stream",
     "text": [
      "cv -0.487182152831845\n",
      "cv -0.862697402174927\n",
      "cv -0.3703361007684695\n",
      "cv -0.5245104572918781\n",
      "cv -0.4595661218398064\n",
      "cv -1.2694711961593261\n",
      "cv -1.3578187158284336\n",
      "cv -1.323281024665671\n",
      "cv -0.6033362968009569\n",
      "cv -0.415038400766567\n",
      "cv -0.4884171163617524\n",
      "cv -1.1755689485905938\n",
      "cv -0.5507749794672885\n",
      "cv -1.5651485177786648\n"
     ]
    },
    {
     "name": "stderr",
     "output_type": "stream",
     "text": [
      "100%|██████████| 1/1 [01:16<00:00, 76.91s/it]"
     ]
    },
    {
     "name": "stdout",
     "output_type": "stream",
     "text": [
      "cv -0.8128166327754655\n"
     ]
    },
    {
     "name": "stderr",
     "output_type": "stream",
     "text": [
      "\n"
     ]
    }
   ],
   "source": [
    "# Feature Extraction Loop ====================\n",
    "features, targets, metadata = [], [], []\n",
    "def central_tendency_difference (mean,median):\n",
    "    return abs(mean-median)/(abs(mean+median)/2)\n",
    "\n",
    "for symbol in tqdm(tickers):\n",
    "    df = ohlcv_df[ohlcv_df['symbol'] == symbol].sort_values('date').copy()\n",
    "    df = df[df['date'] > run_settings['start_date']]\n",
    "    df = df.iloc[:-run_settings[\"episode_length\"]]\n",
    "    months = df['month'].unique()\n",
    "    # t stands for time\n",
    "    # t1_ stands for time+1\n",
    "    for i in range(len(months)):\n",
    "        try:\n",
    "            \n",
    "            target_date = str(months[i])+'-01' \n",
    "            episodes = ep_tracker.findEpisode(\n",
    "                target_date,\n",
    "                symbol,\n",
    "                episode_length=run_settings['episode_length'],\n",
    "                lookback=run_settings['lookback'],\n",
    "                mode='both')\n",
    "            \n",
    "            df_t0 = episodes['train']['df']\n",
    "            df_t0 = add_lags(df_t0,run_settings[\"lags\"])\n",
    "            df_t0 = df_t0.iloc[episodes['train']['df_start_iloc']:]\n",
    "            df_t1 = episodes['test']['df']\n",
    "            df_t1 = add_lags(df_t1,run_settings[\"lags\"])\n",
    "        \n",
    "            df_t1 = df_t1.iloc[episodes['test']['df_start_iloc']:]\n",
    "          \n",
    "            r1d = df_t0['return_1d'].astype(float).values\n",
    "            v   = df_t0['volume_change'].astype(float).values\n",
    "       \n",
    "            feat = {\n",
    "                'symbol': symbol,\n",
    "                'target_date': target_date,\n",
    "                'episode_id': episodes['train']['episode_id'],\n",
    "                'next_episode_id': episodes['test']['episode_id'],\n",
    "                #'month_str': str(m_t),\n",
    "                \n",
    "                'r1d_mean': np.mean(r1d),\n",
    "                'r1d_median':np.median(r1d),\n",
    "                'r1d_std': np.std(r1d),\n",
    "                'r1d_ctm_diff': central_tendency_difference(np.mean(r1d),np.median(r1d)),\n",
    "                'r1d_skew': skew(r1d),\n",
    "                'r1d_kurtosis': kurtosis(r1d),\n",
    "                'r1d_entropy': entropy(np.histogram(r1d, bins=10, density=True)[0] + 1e-8),\n",
    "                \n",
    "                'v1d_mean': np.mean(v),\n",
    "                'v1d_median':np.median(v),\n",
    "                'v1d_std': np.std(v),\n",
    "                'v1d_ctm_diff': central_tendency_difference(np.mean(v),np.median(v)),\n",
    "                'v1d_skew': skew(v),\n",
    "                'v1d_kurtosis': kurtosis(v),\n",
    "                'v1d_entropy': entropy(np.histogram(v, bins=10, density=True)[0] + 1e-8),\n",
    "            }\n",
    "            \n",
    "            cv_r2 = residual_based_predictability_label(df_t1, run_settings)\n",
    "            print('cv',cv_r2)\n",
    "            if cv_r2 is None:\n",
    "                continue  # skip if label couldn't be computed\n",
    "\n",
    "            features.append(feat)\n",
    "            targets.append(cv_r2)\n",
    "            metadata.append({\n",
    "                \"symbol\": symbol,\n",
    "                \"target_date\": target_date,\n",
    "                \"train_episode_id\": episodes['train']['episode_id'],\n",
    "                \"test_episode_id\": episodes['test']['episode_id']\n",
    "            })\n",
    "\n",
    "        except Exception as e:\n",
    "            print(f\"Skipping {symbol} {months[i]} due to error: {e}\")\n",
    "        except :\n",
    "            print(months[i])\n",
    "            \n"
   ]
  },
  {
   "cell_type": "code",
   "execution_count": 8,
   "id": "9009cb88",
   "metadata": {},
   "outputs": [],
   "source": [
    "# VISUAÇ INSPECTION ====================="
   ]
  },
  {
   "cell_type": "code",
   "execution_count": 9,
   "id": "1d39d9b0",
   "metadata": {},
   "outputs": [
    {
     "data": {
      "image/png": "[encoded data removed]",
      "text/plain": [
       "<Figure size 640x480 with 1 Axes>"
      ]
     },
     "metadata": {},
     "output_type": "display_data"
    }
   ],
   "source": [
    "import pandas as pd\n",
    "\n",
    "X_df = pd.DataFrame(features)\n",
    "y_df = pd.Series(targets, name=\"cv_r2\")\n",
    "meta_df = pd.DataFrame(metadata)\n",
    "full_df = pd.concat([X_df, y_df, meta_df], axis=1)\n",
    "\n",
    "import matplotlib.pyplot as plt\n",
    "\n",
    "plt.hist(y_df, bins=20)\n",
    "plt.title(\"Distribution of cv R² (Predictability)\")\n",
    "plt.xlabel(\"cv R²\")\n",
    "plt.ylabel(\"Frequency\")\n",
    "plt.grid(True)\n",
    "plt.show()\n"
   ]
  },
  {
   "cell_type": "code",
   "execution_count": 12,
   "id": "b929a6ee",
   "metadata": {},
   "outputs": [
    {
     "name": "stdout",
     "output_type": "stream",
     "text": [
      "count       0\n",
      "unique      0\n",
      "top       NaN\n",
      "freq      NaN\n",
      "Name: cv_r2, dtype: object\n",
      "Series([], Name: cv_r2, dtype: object)\n"
     ]
    }
   ],
   "source": [
    "print(full_df['cv_r2'].describe())\n",
    "print(full_df['cv_r2'].head(10))"
   ]
  },
  {
   "cell_type": "code",
   "execution_count": null,
   "id": "49a1870e",
   "metadata": {},
   "outputs": [],
   "source": [
    "\"\"\"\n",
    "et me know which path you want to take next — or if you'd like to pause here and add more features\n",
    "(e.g., change-points, GARCH, Fourier stats, etc.) \n",
    "\n",
    "\"\"\""
   ]
  },
  {
   "cell_type": "code",
   "execution_count": null,
   "id": "eacd598e",
   "metadata": {},
   "outputs": [],
   "source": []
  }
 ],
 "metadata": {
  "kernelspec": {
   "display_name": "Python 3 (ipykernel)",
   "language": "python",
   "name": "python3"
  },
  "language_info": {
   "codemirror_mode": {
    "name": "ipython",
    "version": 3
   },
   "file_extension": ".py",
   "mimetype": "text/x-python",
   "name": "python",
   "nbconvert_exporter": "python",
   "pygments_lexer": "ipython3",
   "version": "3.11.4"
  }
 },
 "nbformat": 4,
 "nbformat_minor": 5
}
