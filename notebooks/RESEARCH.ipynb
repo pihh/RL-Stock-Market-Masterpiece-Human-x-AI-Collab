{
 "cells": [
  {
   "cell_type": "code",
   "execution_count": null,
   "id": "8688ae89",
   "metadata": {},
   "outputs": [],
   "source": [
    "\n",
    "#### Research Phase:\n",
    "\n",
    "1. **Experiment tracking** to avoid duplicate runs\n",
    "2. **Meta-feature + regime classification**\n",
    "3. **Stub for training agent + self-score**\n",
    "4. Example: run for AAPL with config hash registry\n",
    "\n",
    "#### Live Phase:\n",
    "\n",
    "1. **Rank predictable stocks** from meta-predictions\n",
    "2. **Train and deploy top agents** (stub logic)\n",
    "\n",
    "This is designed for:\n",
    "\n",
    "* Exploratory dev\n",
    "* Easy transitions to automation\n",
    "* Auditability of all experiments\n",
    "\n",
    "---\n"
   ]
  },
  {
   "cell_type": "code",
   "execution_count": 1,
   "id": "2dbdf015",
   "metadata": {},
   "outputs": [],
   "source": [
    "import jupyter"
   ]
  },
  {
   "cell_type": "code",
   "execution_count": 7,
   "id": "5e1d6324",
   "metadata": {},
   "outputs": [],
   "source": [
    "import random\n",
    "import numpy as np\n",
    "import pandas as pd\n",
    "import seaborn as sns\n",
    "import matplotlib.pyplot as plt\n",
    "\n",
    "\n",
    "from src.utils.system import boot\n",
    "from src.data.feature_pipeline import load_base_dataframe\n",
    "\n",
    "DEVICE = boot()\n",
    "\n",
    "EXPERIMENT_NAME = \"core_rl_trading_pipeline\"\n",
    "DEFAULT_PATH = \"/data/experiments/\"+EXPERIMENT_NAME\n",
    "\n",
    "OHLCV_DF = load_base_dataframe()"
   ]
  },
  {
   "cell_type": "code",
   "execution_count": 12,
   "id": "8d87a959",
   "metadata": {},
   "outputs": [
    {
     "name": "stderr",
     "output_type": "stream",
     "text": [
      "C:\\Users\\Francisco Sá\\AppData\\Roaming\\Python\\Python311\\site-packages\\stable_baselines3\\common\\vec_env\\patch_gym.py:49: UserWarning: You provided an OpenAI Gym environment. We strongly recommend transitioning to Gymnasium environments. Stable-Baselines3 is automatically wrapping your environments in a compatibility layer, which could potentially cause issues.\n",
      "  warnings.warn(\n"
     ]
    },
    {
     "name": "stdout",
     "output_type": "stream",
     "text": [
      "[✓] 2023-01-24 00:00:00 → 2023-04-20 00:00:00 | Score: 61.77\n"
     ]
    },
    {
     "name": "stderr",
     "output_type": "stream",
     "text": [
      "C:\\Users\\Francisco Sá\\AppData\\Roaming\\Python\\Python311\\site-packages\\stable_baselines3\\common\\vec_env\\patch_gym.py:49: UserWarning: You provided an OpenAI Gym environment. We strongly recommend transitioning to Gymnasium environments. Stable-Baselines3 is automatically wrapping your environments in a compatibility layer, which could potentially cause issues.\n",
      "  warnings.warn(\n"
     ]
    },
    {
     "name": "stdout",
     "output_type": "stream",
     "text": [
      "[✓] 2023-03-08 00:00:00 → 2023-06-02 00:00:00 | Score: 67.26\n"
     ]
    },
    {
     "name": "stderr",
     "output_type": "stream",
     "text": [
      "C:\\Users\\Francisco Sá\\AppData\\Roaming\\Python\\Python311\\site-packages\\stable_baselines3\\common\\vec_env\\patch_gym.py:49: UserWarning: You provided an OpenAI Gym environment. We strongly recommend transitioning to Gymnasium environments. Stable-Baselines3 is automatically wrapping your environments in a compatibility layer, which could potentially cause issues.\n",
      "  warnings.warn(\n"
     ]
    },
    {
     "name": "stdout",
     "output_type": "stream",
     "text": [
      "[✓] 2023-04-20 00:00:00 → 2023-07-18 00:00:00 | Score: 67.75\n"
     ]
    },
    {
     "name": "stderr",
     "output_type": "stream",
     "text": [
      "C:\\Users\\Francisco Sá\\AppData\\Roaming\\Python\\Python311\\site-packages\\stable_baselines3\\common\\vec_env\\patch_gym.py:49: UserWarning: You provided an OpenAI Gym environment. We strongly recommend transitioning to Gymnasium environments. Stable-Baselines3 is automatically wrapping your environments in a compatibility layer, which could potentially cause issues.\n",
      "  warnings.warn(\n"
     ]
    },
    {
     "name": "stdout",
     "output_type": "stream",
     "text": [
      "[✓] 2023-06-02 00:00:00 → 2023-08-29 00:00:00 | Score: 52.75\n"
     ]
    },
    {
     "name": "stderr",
     "output_type": "stream",
     "text": [
      "C:\\Users\\Francisco Sá\\AppData\\Roaming\\Python\\Python311\\site-packages\\stable_baselines3\\common\\vec_env\\patch_gym.py:49: UserWarning: You provided an OpenAI Gym environment. We strongly recommend transitioning to Gymnasium environments. Stable-Baselines3 is automatically wrapping your environments in a compatibility layer, which could potentially cause issues.\n",
      "  warnings.warn(\n"
     ]
    },
    {
     "name": "stdout",
     "output_type": "stream",
     "text": [
      "[✓] 2023-07-18 00:00:00 → 2023-10-11 00:00:00 | Score: 50.00\n"
     ]
    },
    {
     "name": "stderr",
     "output_type": "stream",
     "text": [
      "C:\\Users\\Francisco Sá\\AppData\\Roaming\\Python\\Python311\\site-packages\\stable_baselines3\\common\\vec_env\\patch_gym.py:49: UserWarning: You provided an OpenAI Gym environment. We strongly recommend transitioning to Gymnasium environments. Stable-Baselines3 is automatically wrapping your environments in a compatibility layer, which could potentially cause issues.\n",
      "  warnings.warn(\n"
     ]
    },
    {
     "name": "stdout",
     "output_type": "stream",
     "text": [
      "[✓] 2023-08-29 00:00:00 → 2023-11-22 00:00:00 | Score: 52.08\n",
      "\n",
      "All done. Saved scores:\n",
      "       start        end      score\n",
      "0 2023-01-24 2023-04-20  61.766656\n",
      "1 2023-03-08 2023-06-02  67.257328\n",
      "2 2023-04-20 2023-07-18  67.754455\n",
      "3 2023-06-02 2023-08-29  52.753417\n",
      "4 2023-07-18 2023-10-11  50.000000\n",
      "5 2023-08-29 2023-11-22  52.081177\n"
     ]
    }
   ],
   "source": [
    "# V1 Core RL Trading Pipeline – Modular & Resumable Prototype\n",
    "import os\n",
    "import pandas as pd\n",
    "import numpy as np\n",
    "import seaborn as sns\n",
    "import matplotlib.pyplot as plt\n",
    "from pathlib import Path\n",
    "from datetime import datetime\n",
    "\n",
    "from stable_baselines3 import PPO\n",
    "from stable_baselines3.common.vec_env import DummyVecEnv\n",
    "\n",
    "from src.utils.system import boot\n",
    "from src.data.feature_pipeline import load_base_dataframe\n",
    "\n",
    "\n",
    "# ========== SYSTEM BOOT ==========\n",
    "DEVICE = boot()\n",
    "EXPERIMENT_NAME = \"core_rl_trading_pipeline\"\n",
    "DEFAULT_PATH = Path(\"/data/experiments/\" + EXPERIMENT_NAME)\n",
    "OHLCV_DF = load_base_dataframe()  # Loads daily OHLCV for all SP500 stocks\n"
   ]
  },
  {
   "cell_type": "code",
   "execution_count": null,
   "id": "003bbaee",
   "metadata": {},
   "outputs": [],
   "source": [
    "# RL Trading Agent – Research & Live Pipeline Overview (Notebook Scaffold)\n",
    "\n",
    "import pandas as pd\n",
    "import numpy as np\n",
    "import matplotlib.pyplot as plt\n",
    "import seaborn as sns\n",
    "from pathlib import Path\n",
    "\n",
    "# ========== GLOBALS ==========\n",
    "EXPERIMENT_REGISTRY_PATH = Path(\"/data/experiments/experiment_registry.csv\")\n",
    "\n",
    "# ========== SECTION 1: RESEARCH PIPELINE ========== #\n",
    "\n",
    "## 1.1 Experiment Deduplication\n",
    "\n",
    "def check_if_experiment_exists(config_hash):\n",
    "    if not EXPERIMENT_REGISTRY_PATH.exists():\n",
    "        return False\n",
    "    registry = pd.read_csv(EXPERIMENT_REGISTRY_PATH)\n",
    "    return config_hash in registry['hash'].values\n",
    "\n",
    "def register_experiment(config_hash, config_dict):\n",
    "    row = pd.DataFrame([{\"hash\": config_hash, **config_dict}])\n",
    "    if EXPERIMENT_REGISTRY_PATH.exists():\n",
    "        registry = pd.read_csv(EXPERIMENT_REGISTRY_PATH)\n",
    "        registry = pd.concat([registry, row], ignore_index=True)\n",
    "    else:\n",
    "        registry = row\n",
    "    registry.to_csv(EXPERIMENT_REGISTRY_PATH, index=False)\n",
    "\n",
    "## 1.2 Predictable Episode Discovery (Meta + Signal Analysis)\n",
    "\n",
    "def generate_meta_features(df):\n",
    "    # Dummy example\n",
    "    return pd.DataFrame({\n",
    "        \"volatility\": df['close'].rolling(10).std(),\n",
    "        \"entropy\": np.random.rand(len(df)),  # placeholder\n",
    "        \"hurst\": np.random.rand(len(df)),\n",
    "        \"momentum\": df['close'].pct_change(5),\n",
    "    }, index=df.index).dropna()\n",
    "\n",
    "def classify_regime(meta_df):\n",
    "    # Dummy regime logic using volatility quantiles\n",
    "    thresholds = meta_df['volatility'].quantile([0.33, 0.66])\n",
    "    return pd.cut(meta_df['volatility'], bins=[-np.inf, thresholds[0.33], thresholds[0.66], np.inf], labels=['low', 'medium', 'high'])\n",
    "\n",
    "## 1.3 Train/Test PPO Agent in Custom Environment\n",
    "\n",
    "def run_experiment(df, config):\n",
    "    # Stub for actual agent training pipeline\n",
    "    print(\"Training agent on\", config['ticker'], config['start_date'], config['end_date'])\n",
    "    return np.random.uniform(0, 100)  # pretend this is agent score\n",
    "\n",
    "\n",
    "# ========== SECTION 2: LIVE PIPELINE ========== #\n",
    "\n",
    "## 2.1 Select Best Predictable Stocks Based on Meta Model\n",
    "\n",
    "def rank_predictable_stocks(meta_summary_df):\n",
    "    return meta_summary_df.sort_values(\"predicted_score\", ascending=False)\n",
    "\n",
    "## 2.2 Train on Best Stocks & Deploy Agent\n",
    "\n",
    "def train_and_deploy_top_agents(top_stock_list):\n",
    "    for stock in top_stock_list:\n",
    "        print(f\"[Deploy] Training agent for {stock}\")\n",
    "        # Placeholder: load data, train model, export weights\n",
    "\n",
    "\n",
    "# ========== EXAMPLE PIPELINE WALKTHROUGH ========== #\n",
    "\n",
    "# Load raw OHLCV data for 1 stock (e.g., AAPL)\n",
    "aapl_df = pd.read_parquet(\"/mnt/data/ohlcv/AAPL.parquet\")\n",
    "aapl_df = aapl_df.set_index(\"date\")\n",
    "\n",
    "# Step 1: Extract meta-features\n",
    "meta_df = generate_meta_features(aapl_df)\n",
    "\n",
    "# Step 2: Classify regimes\n",
    "meta_df['regime'] = classify_regime(meta_df)\n",
    "\n",
    "# Step 3: Simulate one experiment\n",
    "example_config = {\n",
    "    \"ticker\": \"AAPL\",\n",
    "    \"start_date\": \"2023-01-01\",\n",
    "    \"end_date\": \"2023-03-01\",\n",
    "    \"window_length\": 60,\n",
    "    \"agent_type\": \"PPO\"\n",
    "}\n",
    "import hashlib, json\n",
    "config_hash = hashlib.sha256(json.dumps(example_config, sort_keys=True).encode()).hexdigest()\n",
    "if not check_if_experiment_exists(config_hash):\n",
    "    score = run_experiment(aapl_df, example_config)\n",
    "    example_config['score'] = score\n",
    "    register_experiment(config_hash, example_config)\n",
    "else:\n",
    "    print(\"Experiment already exists.\")\n",
    "\n",
    "# Step 4: Rank and deploy (dummy)\n",
    "predict_df = pd.DataFrame({\"ticker\": [\"AAPL\", \"MSFT\", \"TSLA\"], \"predicted_score\": [88, 75, 63]})\n",
    "top = rank_predictable_stocks(predict_df)\n",
    "train_and_deploy_top_agents(top['ticker'].tolist())\n"
   ]
  }
 ],
 "metadata": {
  "kernelspec": {
   "display_name": "Python 3 (ipykernel)",
   "language": "python",
   "name": "python3"
  },
  "language_info": {
   "codemirror_mode": {
    "name": "ipython",
    "version": 3
   },
   "file_extension": ".py",
   "mimetype": "text/x-python",
   "name": "python",
   "nbconvert_exporter": "python",
   "pygments_lexer": "ipython3",
   "version": "3.11.4"
  }
 },
 "nbformat": 4,
 "nbformat_minor": 5
}
