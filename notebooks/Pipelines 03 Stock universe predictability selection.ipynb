{
 "cells": [
  {
   "cell_type": "markdown",
   "id": "57d4a2c8",
   "metadata": {},
   "source": [
    "# 03 - Predictability & Universe Filtering\n",
    "\n",
    "1. Compute rolling predictability metrics for each ticker\n",
    "2. Visualize and compare scores across universe and time\n",
    "3. Select top-N most “learnable” tickers for RL agent\n",
    "4. Document all decisions, assumptions, and open questions\n"
   ]
  },
  {
   "cell_type": "code",
   "execution_count": 22,
   "id": "394e7af8",
   "metadata": {},
   "outputs": [],
   "source": [
    "# SETUP: Imports & Paths ===========================\n",
    "import jupyter\n",
    "\n",
    "import os\n",
    "import pandas as pd\n",
    "\n",
    "\n",
    "from tqdm import tqdm\n",
    "from src.data.feature_pipeline import basic_chart_features,load_base_dataframe\n",
    "from src.predictability.easiness import rolling_sharpe, rolling_r2, rolling_info_ratio, rolling_autocorr\n",
    "from src.predictability.pipeline import generate_universe_easiness_report\n",
    "from IPython import display\n"
   ]
  },
  {
   "cell_type": "code",
   "execution_count": 23,
   "id": "7cbaebf6",
   "metadata": {},
   "outputs": [],
   "source": [
    "# LOAD OHLCV ==========================================\n",
    "ohlcv_df = load_base_dataframe()\n",
    "ohlcv_df.tail()\n",
    "_ohlcv=ohlcv_df.copy()"
   ]
  },
  {
   "cell_type": "code",
   "execution_count": null,
   "id": "20236d17",
   "metadata": {},
   "outputs": [],
   "source": [
    "# CROP THE SAMPLE =======================================\n",
    "tickers = ohlcv_df['ticker'].unique()"
   ]
  },
  {
   "cell_type": "code",
   "execution_count": null,
   "id": "2a73e146",
   "metadata": {
    "scrolled": false
   },
   "outputs": [],
   "source": [
    "\n",
    "all_metric = generate_universe_easiness_report(ohlcv_df,tickers)"
   ]
  },
  {
   "cell_type": "code",
   "execution_count": null,
   "id": "d68a4e77",
   "metadata": {},
   "outputs": [],
   "source": [
    "all_metric.dropna()"
   ]
  },
  {
   "cell_type": "markdown",
   "id": "ec2a20b1",
   "metadata": {},
   "source": [
    "# Walkforward study"
   ]
  },
  {
   "cell_type": "code",
   "execution_count": 27,
   "id": "52185b70",
   "metadata": {},
   "outputs": [
    {
     "data": {
      "text/plain": [
       "DatetimeIndex(['2023-07-01', '2024-01-01', '2024-07-01', '2025-01-01'], dtype='datetime64[ns]', freq='6MS')"
      ]
     },
     "execution_count": 27,
     "metadata": {},
     "output_type": "execute_result"
    }
   ],
   "source": [
    "\n",
    "#ohlcv_df['date'] = pd.to_datetime(ohlcv_df['date'])\n",
    "ohlcv_df = _ohlcv.copy()\n",
    "# Walkforward parameters\n",
    "start_date = pd.to_datetime('2023-05-01')\n",
    "end_date = ohlcv_df['date'].max()\n",
    "freq = '6MS'   # Month Start, use 'W' for weekly, etc\n",
    "window_length = 60\n",
    "#tickers = ohlcv_df['ticker'].unique()\n",
    "\n",
    "walkforward_dates = pd.date_range(start=start_date + pd.Timedelta(days=window_length), end=end_date, freq=freq)\n",
    "\n",
    "\n",
    "walkforward_dates"
   ]
  },
  {
   "cell_type": "code",
   "execution_count": 31,
   "id": "6654ee24",
   "metadata": {},
   "outputs": [
    {
     "name": "stderr",
     "output_type": "stream",
     "text": [
      "\r",
      "  0%|          | 0/4 [00:00<?, ?it/s]"
     ]
    },
    {
     "name": "stdout",
     "output_type": "stream",
     "text": [
      "\n",
      "=== Universe study up to 2023-07-01 ===\n"
     ]
    },
    {
     "name": "stderr",
     "output_type": "stream",
     "text": [
      "\n",
      "  0%|          | 0/504 [00:00<?, ?it/s]\u001b[A"
     ]
    },
    {
     "name": "stdout",
     "output_type": "stream",
     "text": [
      "[WARNING] Metric rolling_variance_ration not recognized, skipping.\n"
     ]
    },
    {
     "name": "stderr",
     "output_type": "stream",
     "text": [
      "Model is not converging.  Current: 156.5235340127871 is not greater than 156.5258833066113. Delta is -0.0023492938241815864\n",
      "Model is not converging.  Current: 158.4966534909004 is not greater than 158.4974729193101. Delta is -0.0008194284096987303\n",
      "Model is not converging.  Current: 155.53314014447326 is not greater than 155.5620573464214. Delta is -0.028917201948132742\n",
      "Model is not converging.  Current: 155.99037897781744 is not greater than 156.03208722875556. Delta is -0.04170825093811459\n",
      "Model is not converging.  Current: 150.33310156548876 is not greater than 150.33334830781686. Delta is -0.0002467423281018455\n",
      "Model is not converging.  Current: 154.9566456252006 is not greater than 154.95735931769659. Delta is -0.0007136924959922908\n",
      "Model is not converging.  Current: 154.0093799293131 is not greater than 154.011464385817. Delta is -0.0020844565038942164\n",
      "Model is not converging.  Current: 151.9604495382787 is not greater than 151.96595037637388. Delta is -0.0055008380951733216\n",
      "Model is not converging.  Current: 151.00343805311965 is not greater than 151.02226634819618. Delta is -0.018828295076531276\n",
      "Model is not converging.  Current: 152.68493499644782 is not greater than 152.70823568049755. Delta is -0.023300684049729625\n",
      "Model is not converging.  Current: 153.03328827773504 is not greater than 153.05910192185155. Delta is -0.02581364411651066\n",
      "Model is not converging.  Current: 152.90459547931994 is not greater than 152.93320654898207. Delta is -0.02861106966213356\n",
      "Model is not converging.  Current: 152.48657303792558 is not greater than 152.48990818768848. Delta is -0.003335149762904166\n",
      "Model is not converging.  Current: 143.30149237681397 is not greater than 143.31071385765097. Delta is -0.009221480836998808\n",
      "Model is not converging.  Current: 150.26057843371026 is not greater than 150.2736061590981. Delta is -0.013027725387843248\n",
      "Model is not converging.  Current: 148.90528470891675 is not greater than 148.9198217296364. Delta is -0.014537020719643579\n",
      "Model is not converging.  Current: 148.72713166637524 is not greater than 148.74818199458892. Delta is -0.021050328213675584\n",
      "Model is not converging.  Current: 145.5370236338155 is not greater than 145.55772690047218. Delta is -0.020703266656681762\n",
      "Model is not converging.  Current: 145.58304739984615 is not greater than 145.609906112703. Delta is -0.02685871285683561\n",
      "Model is not converging.  Current: 145.59875453879332 is not greater than 145.6047790377569. Delta is -0.00602449896359758\n",
      "Model is not converging.  Current: 146.52802590465208 is not greater than 146.5533667503896. Delta is -0.02534084573753148\n",
      "Model is not converging.  Current: 148.18115971993356 is not greater than 148.19863320377203. Delta is -0.017473483838472248\n",
      "Model is not converging.  Current: 147.25080001639745 is not greater than 147.26626456093663. Delta is -0.015464544539184999\n",
      "Model is not converging.  Current: 145.64587570914844 is not greater than 145.66983634656782. Delta is -0.023960637419378372\n",
      "Model is not converging.  Current: 145.95947111016605 is not greater than 145.97604045006017. Delta is -0.016569339894118684\n",
      "Model is not converging.  Current: 140.54542782418977 is not greater than 140.59732091617195. Delta is -0.05189309198217984\n",
      "Model is not converging.  Current: 145.7868336690157 is not greater than 145.80848367843384. Delta is -0.02165000941815265\n",
      "Model is not converging.  Current: 145.3926961804834 is not greater than 145.41218193616916. Delta is -0.01948575568576416\n",
      "Model is not converging.  Current: 145.82547884321616 is not greater than 145.83692504430033. Delta is -0.01144620108416916\n",
      "Model is not converging.  Current: 142.44976503891357 is not greater than 142.45987686063364. Delta is -0.010111821720073522\n",
      "Model is not converging.  Current: 142.27735653650927 is not greater than 142.28558050270033. Delta is -0.008223966191053478\n",
      "Model is not converging.  Current: 142.88711287202943 is not greater than 142.906563055511. Delta is -0.019450183481552585\n",
      "Model is not converging.  Current: 150.45190555033503 is not greater than 150.50026891231465. Delta is -0.0483633619796251\n",
      "Model is not converging.  Current: 151.14336704499692 is not greater than 151.1440192527705. Delta is -0.0006522077735837684\n",
      "Model is not converging.  Current: 150.70104368545165 is not greater than 150.7024672417058. Delta is -0.0014235562541387026\n",
      "Model is not converging.  Current: 152.87632457629684 is not greater than 152.92720061757075. Delta is -0.05087604127390932\n",
      "Model is not converging.  Current: 149.77003067230268 is not greater than 149.78523025218342. Delta is -0.015199579880743386\n",
      "Model is not converging.  Current: 148.13941567835425 is not greater than 148.1607415393362. Delta is -0.02132586098193201\n",
      "Model is not converging.  Current: 151.84233606582725 is not greater than 151.85009985650566. Delta is -0.007763790678410487\n",
      "Model is not converging.  Current: 149.981495793323 is not greater than 150.01589619709776. Delta is -0.03440040377475384\n",
      "Model is not converging.  Current: 149.93145638979215 is not greater than 149.93191242550628. Delta is -0.0004560357141372151\n",
      "Model is not converging.  Current: 152.42637162554598 is not greater than 152.44893354600867. Delta is -0.022561920462692342\n",
      "Model is not converging.  Current: 150.3908960808182 is not greater than 150.4098685670454. Delta is -0.018972486227198715\n",
      "Model is not converging.  Current: 149.7266136190381 is not greater than 149.75871052777123. Delta is -0.03209690873313775\n",
      "Model is not converging.  Current: 152.22009015611528 is not greater than 152.25185352288344. Delta is -0.031763366768160495\n",
      "Model is not converging.  Current: 155.5161697000934 is not greater than 155.70002873144804. Delta is -0.18385903135464332\n",
      "Model is not converging.  Current: 158.02621916683364 is not greater than 158.17086517761922. Delta is -0.14464601078557848\n",
      "Model is not converging.  Current: 158.2153877640604 is not greater than 158.23080375226237. Delta is -0.015415988201965547\n",
      "Model is not converging.  Current: 154.3681721752584 is not greater than 154.3828713882563. Delta is -0.014699212997896893\n",
      "Model is not converging.  Current: 160.1462803928445 is not greater than 160.1726789793155. Delta is -0.026398586471003682\n",
      "Model is not converging.  Current: 161.02168006323245 is not greater than 161.05282761023147. Delta is -0.03114754699902278\n",
      "  0%|          | 0/504 [00:07<?, ?it/s]\n",
      "  0%|          | 0/4 [00:07<?, ?it/s]\n",
      "\n",
      "KeyboardInterrupt\n",
      "\n"
     ]
    }
   ],
   "source": [
    "prev_date = \"2023-01-01\"\n",
    "tickers = ohlcv_df['symbol'].unique()\n",
    "for cutoff in tqdm(walkforward_dates):\n",
    "    \n",
    "    cutoff_str = cutoff.strftime('%Y-%m-%d')\n",
    "    \n",
    "    print(f\"\\n=== Universe study up to {cutoff_str} ===\")\n",
    "    _ = generate_universe_easiness_report(\n",
    "        ohlcv_df=ohlcv_df,\n",
    "        tickers=tickers,\n",
    "        window_length=window_length,\n",
    "        target=\"return_1d\",\n",
    "        benchmark_col=\"market_return_1d\",\n",
    "        visualize=False,   # Skip plotting for speed, or True for debug\n",
    "        cutoff_end_date=cutoff_str,\n",
    "        cutoff_start_date=prev_date,\n",
    "        save_csv_path=\"data/experiments/predictability_metrics-{hash}-{start}-{cutoff}.csv\".format(hash=\"{hash}\", cutoff=cutoff_str,start=prev_date)\n",
    "    )\n",
    "    prev_date = cutoff_str"
   ]
  },
  {
   "cell_type": "code",
   "execution_count": null,
   "id": "a79bee95",
   "metadata": {},
   "outputs": [],
   "source": []
  },
  {
   "cell_type": "markdown",
   "id": "a12f19dc",
   "metadata": {},
   "source": [
    "# Futures and nice to haves"
   ]
  },
  {
   "cell_type": "code",
   "execution_count": 1,
   "id": "7f39dc8a",
   "metadata": {},
   "outputs": [
    {
     "name": "stderr",
     "output_type": "stream",
     "text": [
      "C:\\Users\\Francisco Sá\\AppData\\Roaming\\Python\\Python311\\site-packages\\pandas\\core\\arrays\\masked.py:61: UserWarning: Pandas requires version '1.3.6' or newer of 'bottleneck' (version '1.3.5' currently installed).\n",
      "  from pandas.core import (\n"
     ]
    }
   ],
   "source": [
    "import os\n",
    "import pandas as pd\n",
    "import json\n",
    "\n",
    "EXPERIMENTS_DIR = \"data/experiments\"\n",
    "\n",
    "# List all experiment result CSVs\n",
    "all_files = [f for f in os.listdir(EXPERIMENTS_DIR) if f.startswith('predictability_metrics-') and f.endswith('.csv')]\n",
    "\n",
    "studies = []\n",
    "for fname in all_files:\n",
    "    df = pd.read_csv(os.path.join(EXPERIMENTS_DIR, fname))\n",
    "    # Parse config from first row (all rows have same config)\n",
    "    config = json.loads(df['config_json'].iloc[0])\n",
    "    studies.append({'df': df, 'config': config, 'hash': df['config_hash'].iloc[0], 'filename': fname})\n"
   ]
  },
  {
   "cell_type": "code",
   "execution_count": 2,
   "id": "8d5057d4",
   "metadata": {},
   "outputs": [
    {
     "name": "stdout",
     "output_type": "stream",
     "text": [
      "--- Study Hash: c8b54a75a2efb78b13975d804ec1279e7af9a68c441fd7a6114a0acc4ee4911d | File: predictability_metrics-c8b54a75a2efb78b13975d804ec1279e7af9a68c441fd7a6114a0acc4ee4911d.csv\n",
      "{\n",
      "  \"benchmark_col\": \"market_return_1d\",\n",
      "  \"cutoff_end_date\": null,\n",
      "  \"cutoff_start_date\": null,\n",
      "  \"metrics\": [\n",
      "    \"rolling_sharpe\",\n",
      "    \"rolling_r2\",\n",
      "    \"rolling_info_ratio\",\n",
      "    \"rolling_autocorr\"\n",
      "  ],\n",
      "  \"target\": \"return_1d\",\n",
      "  \"tickers\": [\n",
      "    \"AAPL\",\n",
      "    \"GOOGL\"\n",
      "  ],\n",
      "  \"window_length\": 60\n",
      "}\n",
      "Metric: return_1d\n",
      "  Mean: -0.0002, Std: 0.0304\n",
      "    Top 3 tickers: {'AAPL': 0.00028243363185637713, 'GOOGL': -0.0007379879424880335}\n",
      "    Bottom 3 tickers: {'AAPL': 0.00028243363185637713, 'GOOGL': -0.0007379879424880335}\n",
      "Metric: sharpe\n",
      "  Mean: 0.0316, Std: 0.1206\n",
      "    Top 3 tickers: {'AAPL': 0.04076398732107721, 'GOOGL': 0.02241438375528854}\n",
      "    Bottom 3 tickers: {'AAPL': 0.04076398732107721, 'GOOGL': 0.02241438375528854}\n",
      "Metric: r2\n",
      "  Mean: 0.0139, Std: 0.0174\n",
      "    Top 3 tickers: {'AAPL': 0.015890716454746403, 'GOOGL': 0.01183030574856177}\n",
      "    Bottom 3 tickers: {'AAPL': 0.015890716454746403, 'GOOGL': 0.01183030574856177}\n",
      "Metric: info_ratio\n",
      "  Mean: 0.0024, Std: 0.1344\n",
      "    Top 3 tickers: {'AAPL': 0.012269744470473206, 'GOOGL': -0.007399490630608671}\n",
      "    Bottom 3 tickers: {'AAPL': 0.012269744470473206, 'GOOGL': -0.007399490630608671}\n",
      "Metric: autocorr\n",
      "  Mean: 0.0078, Std: 0.1227\n",
      "    Top 3 tickers: {'AAPL': 0.02005090543272312, 'GOOGL': -0.004433107088720045}\n",
      "    Bottom 3 tickers: {'AAPL': 0.02005090543272312, 'GOOGL': -0.004433107088720045}\n",
      "\n",
      "--- Study Hash: d038933f77d369ba33b71910405e27b8cd8014a551e19a56c043788018d02eb1 | File: predictability_metrics-d038933f77d369ba33b71910405e27b8cd8014a551e19a56c043788018d02eb1.csv\n",
      "{\n",
      "  \"benchmark_col\": \"market_return_1d\",\n",
      "  \"cutoff_end_date\": null,\n",
      "  \"cutoff_start_date\": null,\n",
      "  \"metrics\": [\n",
      "    \"rolling_sharpe\",\n",
      "    \"rolling_r2\",\n",
      "    \"rolling_info_ratio\",\n",
      "    \"rolling_autocorr\",\n",
      "    \"rolling_sortino\",\n",
      "    \"rolling_max_rdawdown\",\n",
      "    \"rolling_calmar\",\n",
      "    \"rolling_hurst\",\n",
      "    \"rolling_apen\",\n",
      "    \"rolling_variacne_ratio\",\n",
      "    \"rolling_hmm_loglik\",\n",
      "    \"rolling_volatility_regimes\",\n",
      "    \"rolling_avg_dollar_volume\",\n",
      "    \"rolling_spread_proxy\"\n",
      "  ],\n",
      "  \"target\": \"return_1d\",\n",
      "  \"tickers\": [\n",
      "    \"AAPL\",\n",
      "    \"GOOGL\"\n",
      "  ],\n",
      "  \"window_length\": 60\n",
      "}\n",
      "Metric: return_1d\n",
      "  Mean: -0.0002, Std: 0.0304\n",
      "    Top 3 tickers: {'AAPL': 0.00028243363185637713, 'GOOGL': -0.0007379879424880335}\n",
      "    Bottom 3 tickers: {'AAPL': 0.00028243363185637713, 'GOOGL': -0.0007379879424880335}\n",
      "Metric: sharpe\n",
      "  Mean: 0.0506, Std: 0.1473\n",
      "    Top 3 tickers: {'GOOGL': 0.05154255099540623, 'AAPL': 0.04958480060984486}\n",
      "    Bottom 3 tickers: {'GOOGL': 0.05154255099540623, 'AAPL': 0.04958480060984486}\n",
      "Metric: r2\n",
      "  Mean: 0.0139, Std: 0.0174\n",
      "    Top 3 tickers: {'AAPL': 0.015890716454746403, 'GOOGL': 0.01183030574856177}\n",
      "    Bottom 3 tickers: {'AAPL': 0.015890716454746403, 'GOOGL': 0.01183030574856177}\n",
      "Metric: info_ratio\n",
      "  Mean: 0.0119, Std: 0.1235\n",
      "    Top 3 tickers: {'AAPL': 0.01924754007433674, 'GOOGL': 0.004621837028761094}\n",
      "    Bottom 3 tickers: {'AAPL': 0.01924754007433674, 'GOOGL': 0.004621837028761094}\n",
      "Metric: autocorr\n",
      "  Mean: 0.0078, Std: 0.1227\n",
      "    Top 3 tickers: {'AAPL': 0.02005090543272312, 'GOOGL': -0.004433107088720045}\n",
      "    Bottom 3 tickers: {'AAPL': 0.02005090543272312, 'GOOGL': -0.004433107088720045}\n",
      "Metric: sortino\n",
      "  Mean: 0.0952, Std: 0.2634\n",
      "    Top 3 tickers: {'AAPL': 0.09699435527461563, 'GOOGL': 0.09331909459794586}\n",
      "    Bottom 3 tickers: {'AAPL': 0.09699435527461563, 'GOOGL': 0.09331909459794586}\n",
      "Metric: calmar\n",
      "  Mean: 0.0118, Std: 0.0258\n",
      "    Top 3 tickers: {'GOOGL': 0.012506989584994807, 'AAPL': 0.011160335670376758}\n",
      "    Bottom 3 tickers: {'GOOGL': 0.012506989584994807, 'AAPL': 0.011160335670376758}\n",
      "Metric: hurst\n",
      "  Mean: 0.5666, Std: 0.0714\n",
      "    Top 3 tickers: {'AAPL': 0.57508899528191, 'GOOGL': 0.5581153254044169}\n",
      "    Bottom 3 tickers: {'AAPL': 0.57508899528191, 'GOOGL': 0.5581153254044169}\n",
      "Metric: hmm_loglik\n",
      "  Mean: 153.5455, Std: 14.3608\n",
      "    Top 3 tickers: {'AAPL': 158.24681706759225, 'GOOGL': 148.84415986782233}\n",
      "    Bottom 3 tickers: {'AAPL': 158.24681706759225, 'GOOGL': 148.84415986782233}\n",
      "Metric: volatility_regimes\n",
      "  Mean: 0.4656, Std: 0.4990\n",
      "    Top 3 tickers: {'AAPL': 0.46557759626604434, 'GOOGL': 0.46557759626604434}\n",
      "    Bottom 3 tickers: {'AAPL': 0.46557759626604434, 'GOOGL': 0.46557759626604434}\n",
      "Metric: avg_dollar_volume\n",
      "  Mean: 7557005385.1665, Std: 3857767452.3182\n",
      "    Top 3 tickers: {'AAPL': 11145961754.054255, 'GOOGL': 3968049016.2787156}\n",
      "    Bottom 3 tickers: {'AAPL': 11145961754.054255, 'GOOGL': 3968049016.2787156}\n",
      "Metric: spread_proxy\n",
      "  Mean: 7.2809, Std: 15.7774\n",
      "    Top 3 tickers: {'GOOGL': 11.116299812030064, 'AAPL': 3.4454575187969945}\n",
      "    Bottom 3 tickers: {'GOOGL': 11.116299812030064, 'AAPL': 3.4454575187969945}\n",
      "\n"
     ]
    }
   ],
   "source": [
    "for study in studies:\n",
    "    print(f\"--- Study Hash: {study['hash']} | File: {study['filename']}\")\n",
    "    print(json.dumps(study['config'], indent=2))\n",
    "    df = study['df']\n",
    "    metrics = [col for col in df.columns if col not in [\"ticker\", \"date\", \"config_hash\", \"config_json\", \"symbol\"]]\n",
    "    for metric in metrics:\n",
    "        print(f\"Metric: {metric}\")\n",
    "        print(f\"  Mean: {df[metric].mean():.4f}, Std: {df[metric].std():.4f}\")\n",
    "        # Top and bottom tickers (by mean)\n",
    "        agg = df.groupby('ticker')[metric].mean().sort_values(ascending=False)\n",
    "        print(\"    Top 3 tickers:\", agg.head(3).to_dict())\n",
    "        print(\"    Bottom 3 tickers:\", agg.tail(3).to_dict())\n",
    "    print()"
   ]
  },
  {
   "cell_type": "code",
   "execution_count": 3,
   "id": "91ba3318",
   "metadata": {},
   "outputs": [
    {
     "data": {
      "image/png": "[encoded data removed]",
      "text/plain": [
       "<Figure size 1200x600 with 1 Axes>"
      ]
     },
     "metadata": {},
     "output_type": "display_data"
    }
   ],
   "source": [
    "import matplotlib.pyplot as plt\n",
    "\n",
    "def plot_metric_across_studies(metric_name):\n",
    "    plt.figure(figsize=(12,6))\n",
    "    for study in studies:\n",
    "        df = study['df']\n",
    "        if metric_name not in df.columns:\n",
    "            continue\n",
    "        plt.hist(df[metric_name], bins=80, alpha=0.3, label=f\"Study {study['hash'][:6]}\")\n",
    "    plt.legend()\n",
    "    plt.title(f\"Distribution of {metric_name} across studies\")\n",
    "    plt.show()\n",
    "\n",
    "# Example: Compare sharpe distributions\n",
    "plot_metric_across_studies(\"sharpe\")"
   ]
  },
  {
   "cell_type": "code",
   "execution_count": null,
   "id": "5d9dbc6e",
   "metadata": {},
   "outputs": [],
   "source": []
  }
 ],
 "metadata": {
  "kernelspec": {
   "display_name": "Python 3 (ipykernel)",
   "language": "python",
   "name": "python3"
  },
  "language_info": {
   "codemirror_mode": {
    "name": "ipython",
    "version": 3
   },
   "file_extension": ".py",
   "mimetype": "text/x-python",
   "name": "python",
   "nbconvert_exporter": "python",
   "pygments_lexer": "ipython3",
   "version": "3.11.4"
  }
 },
 "nbformat": 4,
 "nbformat_minor": 5
}
