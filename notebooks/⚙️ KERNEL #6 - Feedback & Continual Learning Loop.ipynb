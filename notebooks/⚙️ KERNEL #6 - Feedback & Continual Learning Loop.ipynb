{
 "cells": [
  {
   "cell_type": "markdown",
   "id": "853d7e02",
   "metadata": {},
   "source": [
    "## 6. Feedback & Continual Learning Loop\n",
    "\n",
    "> The key to lifelong profit: constant meta-evaluation and retraining.\n",
    "\n",
    "### Components:\n",
    "* Online validator: periodically retest old agents on new data\n",
    "* Transfer evaluator: checks if old skills still apply\n",
    "* Self-updater: retrains models, policies, filters as market evolves\n",
    "\n",
    "\n",
    "### Next Steps:\n",
    "* No self-retraining, no online learning\n",
    "* No historical performance tracking over time\n",
    "\n",
    "\n",
    "This gives the system the ability to stay relevant across years of market evolution.\n",
    "\n"
   ]
  },
  {
   "cell_type": "code",
   "execution_count": 1,
   "id": "2dbdf015",
   "metadata": {},
   "outputs": [
    {
     "name": "stderr",
     "output_type": "stream",
     "text": [
      "C:\\Users\\Francisco Sá\\AppData\\Roaming\\Python\\Python311\\site-packages\\pandas\\core\\arrays\\masked.py:61: UserWarning: Pandas requires version '1.3.6' or newer of 'bottleneck' (version '1.3.5' currently installed).\n",
      "  from pandas.core import (\n"
     ]
    }
   ],
   "source": [
    "import jupyter"
   ]
  },
  {
   "cell_type": "code",
   "execution_count": 2,
   "id": "5e1d6324",
   "metadata": {},
   "outputs": [],
   "source": [
    "import os\n",
    "import random\n",
    "import numpy as np\n",
    "import pandas as pd\n",
    "import seaborn as sns\n",
    "import matplotlib.pyplot as plt\n",
    "import gymnasium as gym\n",
    "\n",
    "from tqdm import tqdm\n",
    "from pathlib import Path\n",
    "from datetime import datetime\n",
    "from sklearn.metrics import classification_report, confusion_matrix, ConfusionMatrixDisplay\n",
    "from sklearn.preprocessing import RobustScaler\n",
    "from sklearn.ensemble import RandomForestRegressor\n",
    "from sklearn.model_selection import cross_val_score\n",
    "from scipy.stats import skew, kurtosis, entropy\n",
    "from statsmodels.stats.diagnostic import acorr_ljungbox\n",
    "\n",
    "from src.utils.system import boot\n",
    "from src.defaults import RANDOM_SEEDS, TOP2_STOCK_BY_SECTOR\n",
    "from tracker import OHLCV_DF, EpisodeTracker, EnvironmentTracker, AgentTracker\n",
    "\n"
   ]
  },
  {
   "cell_type": "code",
   "execution_count": 125,
   "id": "eacd598e",
   "metadata": {},
   "outputs": [],
   "source": [
    "import os\n",
    "import json\n",
    "import hashlib\n",
    "from collections import defaultdict\n",
    "STORAGE_PATH = \"data/experiments/episode_benchmark_engine/runs.csv\"\n",
    "\n",
    "\n",
    "EXCLUDED_TICKERS = sorted([\"CEG\", \"GEHC\", \"GEV\", \"KVUE\", \"SOLV\"])\n",
    "\n",
    "CONFIG = {\n",
    "    \"regressor\": \"RandomForestRegressor\",\n",
    "    \"n_estimators\": 300,\n",
    "    \"random_state\": 314,\n",
    "    \"transaction_cost\": 0,\n",
    "}\n",
    "LOOKBACK = 0\n",
    "EPISODE_LENGTH = 50\n",
    "\n",
    "RUN_SETTINGS = {\n",
    "    \"excluded_tickers\": EXCLUDED_TICKERS,\n",
    "    \"cv_folds\": 3,\n",
    "    \"lags\": 5,\n",
    "    \"seed\": 314,\n",
    "    'total_timesteps':50_000,\n",
    "    \"episode\": {\n",
    "        \"episode_length\": EPISODE_LENGTH,\n",
    "        \"lookback\": LOOKBACK,\n",
    "    },\n",
    "    \"environment\": {\n",
    "        \"market_features\": [\"close\", \"price_change\", \"volume_change\"],\n",
    "        \"version\": \"v2\",\n",
    "        \"lookback\": LOOKBACK,\n",
    "        \"episode_length\": EPISODE_LENGTH,\n",
    "        \"transaction_cost\": 0,\n",
    "    },\n",
    "    \"agent\": {\n",
    "        \"model_class\": \"PPO\",\n",
    "        \"policy_class\": \"MlpPolicy\",\n",
    "        \"config\": {\n",
    "            \"verbose\": 1,\n",
    "            \"ent_coef\":0.1,\n",
    "            \"policy_kwargs\": \n",
    "                {\n",
    "                \n",
    "                    \"net_arch\": [64, 64]\n",
    "                    }\n",
    "                },\n",
    "    },\n",
    "}\n",
    "\n"
   ]
  }
 ],
 "metadata": {
  "kernelspec": {
   "display_name": "Python 3 (ipykernel)",
   "language": "python",
   "name": "python3"
  },
  "language_info": {
   "codemirror_mode": {
    "name": "ipython",
    "version": 3
   },
   "file_extension": ".py",
   "mimetype": "text/x-python",
   "name": "python",
   "nbconvert_exporter": "python",
   "pygments_lexer": "ipython3",
   "version": "3.11.4"
  }
 },
 "nbformat": 4,
 "nbformat_minor": 5
}
